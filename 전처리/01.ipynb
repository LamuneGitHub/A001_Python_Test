{
 "cells": [
  {
   "cell_type": "code",
   "execution_count": null,
   "metadata": {},
   "outputs": [],
   "source": [
    "# 빈 셀 확인 -> NaN 값으로 변경 \n",
    "df['text'] = df['text'].replace('', np.nan)\n",
    "\n",
    "# 결측치 확인 \n",
    "df.isnull().sum()\n",
    "\n",
    "# 결측치 제거 -> 다시 확인 \n",
    "df = df.dropna()\n",
    "df.isnull().sum()\n"
   ]
  }
 ],
 "metadata": {
  "language_info": {
   "name": "python"
  },
  "orig_nbformat": 4
 },
 "nbformat": 4,
 "nbformat_minor": 2
}
