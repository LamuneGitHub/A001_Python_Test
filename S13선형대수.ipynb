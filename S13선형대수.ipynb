{
  "nbformat": 4,
  "nbformat_minor": 0,
  "metadata": {
    "colab": {
      "name": "Untitled0.ipynb",
      "private_outputs": true,
      "provenance": [],
      "authorship_tag": "ABX9TyO5hbM3ByqwevVA5SYqQ09n",
      "include_colab_link": true
    },
    "kernelspec": {
      "name": "python3",
      "display_name": "Python 3"
    },
    "language_info": {
      "name": "python"
    }
  },
  "cells": [
    {
      "cell_type": "markdown",
      "metadata": {
        "id": "view-in-github",
        "colab_type": "text"
      },
      "source": [
        "<a href=\"https://colab.research.google.com/github/LamuneGitHub/A001_Python_Test/blob/main/S13%EC%84%A0%ED%98%95%EB%8C%80%EC%88%98.ipynb\" target=\"_parent\"><img src=\"https://colab.research.google.com/assets/colab-badge.svg\" alt=\"Open In Colab\"/></a>"
      ]
    },
    {
      "cell_type": "code",
      "execution_count": null,
      "metadata": {
        "id": "gieERdUkQfy0"
      },
      "outputs": [],
      "source": [
        "from IPython.display import display\n",
        "\n",
        "import re\n",
        "import math\n",
        "import pandas as pd\n",
        "import numpy as np\n",
        "import matplotlib as mpl\n",
        "import matplotlib.pyplot as plt\n",
        "import seaborn as sns\n",
        "\n",
        "# 줄 구분 표시 출력 \n",
        "def print_line() :\n",
        "  print (\"\\n------------------------------------------------\")\n",
        "def print_line_m() :\n",
        "  print (\"\\n-----------------------\")\n",
        "def print_line_s() :\n",
        "  print (\"\\n----------\")\n"
      ]
    },
    {
      "cell_type": "markdown",
      "source": [
        "# 기타\n"
      ],
      "metadata": {
        "id": "c2NIjWgYbiv1"
      }
    },
    {
      "cell_type": "code",
      "source": [
        "# 절대값 \n",
        "print ( abs(-100 ))\n",
        "\n",
        "# nd_array 만들기\n",
        "print ( np.array([ 3, -1 , 8 , 9 ]) )\n",
        "\n"
      ],
      "metadata": {
        "id": "GOKpdj5hbpeJ"
      },
      "execution_count": null,
      "outputs": []
    },
    {
      "cell_type": "markdown",
      "source": [
        "# nd_array 합치기  \n",
        "https://engineer-mole.tistory.com/234\n",
        "\n"
      ],
      "metadata": {
        "id": "62_AtP_0afeU"
      }
    },
    {
      "cell_type": "code",
      "source": [
        "X = np.array([35, 10, 25, 40])\n",
        "Y = np.array([0, 50, 50, 0])\n",
        "Z = np.array([0, 0, 100, 0])\n",
        "\n",
        "# 수평 합치기\n",
        "arr_h = np.hstack( [X,Y,Z])\n",
        "print (arr_h)\n",
        "print_line()\n",
        "\n",
        "# 수직 합치기\n",
        "arr_v = np.vstack( [X,Y,Z])\n",
        "print (arr_v)\n",
        "print_line()\n",
        "\n",
        "# stack 합치기 ( 기본 수직 )\n",
        "arr_stack = np.stack( (X,Y,Z) )\n",
        "print (arr_stack)\n",
        "print_line()"
      ],
      "metadata": {
        "id": "vRxz6DICbNuo"
      },
      "execution_count": null,
      "outputs": []
    },
    {
      "cell_type": "markdown",
      "source": [
        "# array 정보 보기\n",
        "\n",
        "## Rank"
      ],
      "metadata": {
        "id": "vKi-JdvyfDft"
      }
    },
    {
      "cell_type": "code",
      "source": [
        "arr = arr_stack\n",
        "print( np.linalg.matrix_rank( arr ) )"
      ],
      "metadata": {
        "id": "ip7_qXjIfLyz"
      },
      "execution_count": null,
      "outputs": []
    },
    {
      "cell_type": "markdown",
      "source": [
        "# 백터 연산"
      ],
      "metadata": {
        "id": "XSB4XOwDh-jq"
      }
    },
    {
      "cell_type": "code",
      "source": [
        "# 벡터 연산 : 스칼라 곱 (실수배)\n",
        "print( X )\n",
        "print( X * -1 )"
      ],
      "metadata": {
        "id": "dIHYjb0sho0A"
      },
      "execution_count": null,
      "outputs": []
    },
    {
      "cell_type": "markdown",
      "source": [
        "## 벡터 곱 연산 \n",
        "* .dot\n",
        "* matmul\n",
        "* @"
      ],
      "metadata": {
        "id": "kWZ-PVqwYSVl"
      }
    },
    {
      "cell_type": "code",
      "source": [
        "price = np.array([100, 500, 250, 50])\n",
        "X = np.array([35, 10, 25, 40])\n",
        "Y = np.array([0, 50, 50, 0])\n",
        "Z = np.array([0, 0, 100, 0])\n",
        "\n",
        "# array 합치기\n",
        "amount =  np.vstack( [X, Y, Z] )\n",
        "print( amount)\n",
        "print_line()\n",
        "\n",
        "\n",
        "# case 01 : matmul \n",
        "res1 = np.matmul(amount, price)\n",
        "print ( res1 )\n",
        "print_line()\n",
        "\n",
        "# case 02 : @ 연산자\n",
        "res1 = amount @ price\n",
        "print ( res1 )\n",
        "print_line()\n",
        "\n",
        "# case 03 : np.dot 이용\n",
        "res1 = [np.dot(price, person) for person in (X, Y, Z)]\n",
        "print ( res1 )\n",
        "print_line()\n",
        "\n"
      ],
      "metadata": {
        "id": "clCSMVn3YZCY"
      },
      "execution_count": null,
      "outputs": []
    },
    {
      "cell_type": "markdown",
      "source": [
        "## 백터의 내적 값 구하기\n",
        "Dot Product라고 합니다.\n",
        "두 벡터에 대해서 서로 대응하는 각각의 성분을 곱한 뒤 모두 합하여 구합니다. 이때 두 벡터의 차원이 같아야 합니다.\n",
        "\n",
        "벡터를 내적한 값은 스칼라입니다. \n",
        "> $v_1 = [a_1, a_2, a_3, \\cdots]$\n",
        ">\n",
        "> $v_2 = [b_1, b_2, b_3, \\cdots]$\n",
        ">\n",
        "> $v_1 \\cdot v_2 = a_1b_1 + a_2b_2 + a_3b_3 + \\cdots$  "
      ],
      "metadata": {
        "id": "a3bB9sHGiLwJ"
      }
    },
    {
      "cell_type": "code",
      "source": [
        "# case 01 : * 연산자 \n",
        "print ( X * Y )\n",
        "print ( f\"내적 : {(X * Y).sum()}\" )\n",
        "print_line()\n",
        "\n",
        "# case 02 : dot 연산자\n",
        "print ( f\"내적 : {np.dot(X,Y)}\" )\n",
        "print_line()"
      ],
      "metadata": {
        "id": "3go2x31-iPIX"
      },
      "execution_count": null,
      "outputs": []
    },
    {
      "cell_type": "markdown",
      "source": [
        "-----"
      ],
      "metadata": {
        "id": "IC2zOVaaiKOE"
      }
    },
    {
      "cell_type": "markdown",
      "source": [
        "# Cramer's rule 이용해서 방정식 구하기\n",
        "\n",
        "> $x_1$ + $2x_3$ = 6\n",
        ">\n",
        "> $-3x_1$ + $4x_2$ + $6x_3$ = 30\n",
        ">\n",
        "> $-x_1$ $-2x_2$ + $3x_3$ = 8\n",
        "\n",
        "\n",
        "--> AX = B 형식으로\n",
        "\n"
      ],
      "metadata": {
        "id": "UT2Pdftrfd_m"
      }
    },
    {
      "cell_type": "code",
      "source": [
        "# 방정식 구하기 ( 3원 1차)\n",
        "A = np.array (\n",
        "              [  [ 1 , 0 , 2 ], \n",
        "                [-3 , 4 , 6 ],\n",
        "                [-1 , -2 , 3 ]\n",
        "              ]\n",
        "              )\n",
        "\n",
        "B = np.array (  [ 6 , 30 , 8 ] )\n",
        "\n",
        "# 크래머 법칙으로 방정식 구하기 \n",
        "X = np.linalg.solve(A, B)\n",
        "\n",
        "print( X.round(2) )\n"
      ],
      "metadata": {
        "id": "elX0sCrpfdQ3"
      },
      "execution_count": null,
      "outputs": []
    },
    {
      "cell_type": "markdown",
      "source": [
        "# 시각화 "
      ],
      "metadata": {
        "id": "m5hFPhDlg2uV"
      }
    },
    {
      "cell_type": "markdown",
      "source": [
        "## 벡터 시각화"
      ],
      "metadata": {
        "id": "eNbz9eoYg4xR"
      }
    },
    {
      "cell_type": "code",
      "source": [
        "# 파이썬으로 벡터 나타내기 \n",
        "\n",
        "import matplotlib.pyplot as plt\n",
        "import numpy as np\n",
        "\n",
        "# 값 지정\n",
        "v1 = [2, 1]\n",
        "v2 = [-3, 2]\n",
        "v3 = [1, -1]\n",
        "\n",
        "# 그래프 제목\n",
        "plt.title('Vector example1')\n",
        "\n",
        "# 그래프 표시 범위 지정\n",
        "plt.xticks(np.arange(-4, 4))\n",
        "plt.yticks(np.arange(-2, 4))\n",
        "\n",
        "# X 축 , Y축\n",
        "plt.axhline(0, 0, 1, color='lightgray', linestyle='--', linewidth=1)  # x 축\n",
        "plt.axvline(0, 0, 1, color='lightgray', linestyle='--', linewidth=1)  # y 축\n",
        "\n",
        "\n",
        "# 화살표 표시\n",
        "plt.arrow(0, 0, v1[0], v1[1], head_width=0.1, color='#790D90')\n",
        "plt.text(2.2, 1.1, 'v1')\n",
        "\n",
        "plt.arrow(0, 0, v2[0], v2[1], head_width=0.1, color='#0E6A88')\n",
        "plt.text(-3.3, 2.2, 'v2')\n",
        "\n",
        "plt.arrow(0, 0, v3[0], v3[1], head_width=0.1, color='#DAB00F')\n",
        "plt.text(1.2, -1.2, 'v3')\n",
        "\n",
        "\n",
        "plt.show()"
      ],
      "metadata": {
        "id": "V76_BhjPg2gH"
      },
      "execution_count": null,
      "outputs": []
    },
    {
      "cell_type": "code",
      "source": [
        "# "
      ],
      "metadata": {
        "id": "iq41k0aog1P7"
      },
      "execution_count": null,
      "outputs": []
    }
  ]
}