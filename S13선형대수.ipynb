{
  "cells": [
    {
      "cell_type": "markdown",
      "metadata": {
        "colab_type": "text",
        "id": "view-in-github"
      },
      "source": [
        "<a href=\"https://colab.research.google.com/github/LamuneGitHub/A001_Python_Test/blob/main/S13%EC%84%A0%ED%98%95%EB%8C%80%EC%88%98.ipynb\" target=\"_parent\"><img src=\"https://colab.research.google.com/assets/colab-badge.svg\" alt=\"Open In Colab\"/></a>"
      ]
    },
    {
      "cell_type": "code",
      "execution_count": 4,
      "metadata": {
        "id": "gieERdUkQfy0"
      },
      "outputs": [],
      "source": [
        "%matplotlib inline\n",
        "\n",
        "from IPython.display import display\n",
        "\n",
        "import re\n",
        "import math\n",
        "import pandas as pd\n",
        "import numpy as np\n",
        "import matplotlib as mpl\n",
        "import matplotlib.pyplot as plt\n",
        "import seaborn as sns\n",
        "import random\n",
        "\n",
        "import sklearn\n",
        "from sklearn.preprocessing import StandardScaler\n",
        "from sklearn.cluster import KMeans\n",
        "\n",
        "# 줄 구분 표시 출력 \n",
        "def print_line() :\n",
        "  print (\"\\n------------------------------------------------\")\n",
        "def print_line_m() :\n",
        "  print (\"\\n-----------------------\")\n",
        "def print_line_s() :\n",
        "  print (\"\\n----------\")\n"
      ]
    },
    {
      "cell_type": "markdown",
      "metadata": {
        "id": "c2NIjWgYbiv1"
      },
      "source": [
        "# 기타\n"
      ]
    },
    {
      "cell_type": "code",
      "execution_count": 5,
      "metadata": {
        "id": "GOKpdj5hbpeJ"
      },
      "outputs": [
        {
          "name": "stdout",
          "output_type": "stream",
          "text": [
            "3.4\n",
            " 123.13\n",
            "100\n",
            "[1 2 3 4 5]\n",
            "[[ 1  2  3  4  5]\n",
            " [ 2  4  6  8 10]]\n"
          ]
        }
      ],
      "source": [
        "\n",
        "# print\n",
        "val_float = 123.126\n",
        "print ( f\"{ 34/10:n}\"  ) # 정수로 ##? 왜? 어떤때는 되고 어떤 때는 안되지? \n",
        "print ( f\"{ val_float : .2f}\"  ) # 소숫점 2자리 반올림\n",
        "\n",
        "# 절대값 \n",
        "print ( abs(-100 ))\n",
        "\n",
        "\n",
        "# 랜덤 배열 만들기 case 01\n",
        "n_count = 50\n",
        "variance_one = []\n",
        "for x in range(n_count):\n",
        "    variance_one.append(random.randint(25,76)) # 25부터 75까지 랜덤한 50개의 정수 저장\n",
        "\n",
        "# 랜덤 배열 만들기 case 02\n",
        "n_count = 50\n",
        "variance_one = [ random.randint(25,76)  for x in range(n_count) ]\n",
        "\n",
        "\n",
        "# 0 배열 50개 짜리\n",
        "list(np.zeros(50))\n",
        "\n",
        "\n",
        "\n",
        "# nd_array 만들기\n",
        "array_1d = np.array([1,2,3,4,5])\n",
        "array_2d = np.array( \n",
        "                    [\n",
        "                      [1,2,3,4,5],\n",
        "                      [2,4,6,8,10]\n",
        "                    ]\n",
        "                    )\n",
        "print( array_1d )\n",
        "print( array_2d )"
      ]
    },
    {
      "cell_type": "markdown",
      "metadata": {
        "id": "NyAvbb1Imyms"
      },
      "source": [
        "# # Vector"
      ]
    },
    {
      "cell_type": "markdown",
      "metadata": {
        "id": "62_AtP_0afeU"
      },
      "source": [
        "## nd_array 합치기  \n",
        "https://engineer-mole.tistory.com/234\n",
        "\n"
      ]
    },
    {
      "cell_type": "code",
      "execution_count": 6,
      "metadata": {
        "id": "vRxz6DICbNuo"
      },
      "outputs": [
        {
          "name": "stdout",
          "output_type": "stream",
          "text": [
            "[ 35  10  25  40   0  50  50   0   0   0 100   0]\n",
            "\n",
            "------------------------------------------------\n",
            "[[ 35  10  25  40]\n",
            " [  0  50  50   0]\n",
            " [  0   0 100   0]]\n",
            "\n",
            "------------------------------------------------\n",
            "[[ 35  10  25  40]\n",
            " [  0  50  50   0]\n",
            " [  0   0 100   0]]\n",
            "\n",
            "------------------------------------------------\n"
          ]
        }
      ],
      "source": [
        "X = np.array([35, 10, 25, 40])\n",
        "Y = np.array([0, 50, 50, 0])\n",
        "Z = np.array([0, 0, 100, 0])\n",
        "\n",
        "# 수평 합치기\n",
        "arr_h = np.hstack( [X,Y,Z])\n",
        "print (arr_h)\n",
        "print_line()\n",
        "\n",
        "# 수직 합치기\n",
        "arr_v = np.vstack( [X,Y,Z])\n",
        "print (arr_v)\n",
        "print_line()\n",
        "\n",
        "# stack 합치기 ( 기본 수직 )\n",
        "arr_stack = np.stack( (X,Y,Z) )\n",
        "print (arr_stack)\n",
        "print_line()"
      ]
    },
    {
      "cell_type": "markdown",
      "metadata": {
        "id": "vKi-JdvyfDft"
      },
      "source": [
        "## array 정보 보기\n",
        "\n",
        "## Rank"
      ]
    },
    {
      "cell_type": "code",
      "execution_count": 7,
      "metadata": {
        "id": "ip7_qXjIfLyz"
      },
      "outputs": [
        {
          "name": "stdout",
          "output_type": "stream",
          "text": [
            "3\n"
          ]
        }
      ],
      "source": [
        "arr = arr_stack\n",
        "print( np.linalg.matrix_rank( arr ) )"
      ]
    },
    {
      "cell_type": "markdown",
      "metadata": {
        "id": "XSB4XOwDh-jq"
      },
      "source": [
        "## 백터 연산"
      ]
    },
    {
      "cell_type": "code",
      "execution_count": 8,
      "metadata": {
        "id": "dIHYjb0sho0A"
      },
      "outputs": [
        {
          "name": "stdout",
          "output_type": "stream",
          "text": [
            "[35 10 25 40]\n",
            "[-35 -10 -25 -40]\n",
            "\n",
            "------------------------------------------------\n",
            "[1, 0]\n",
            "[3 0]\n",
            "\n",
            "------------------------------------------------\n"
          ]
        }
      ],
      "source": [
        "# 벡터 연산 : 스칼라 곱 (실수배)\n",
        "print( X )\n",
        "print( X * -1 )\n",
        "print_line()\n",
        "\n",
        "u1 = [1, 0]\n",
        "u2 = np.multiply(3, u1)\n",
        "print( u1 )\n",
        "print( u2 )\n",
        "print_line()"
      ]
    },
    {
      "cell_type": "markdown",
      "metadata": {
        "id": "kWZ-PVqwYSVl"
      },
      "source": [
        "## 곱 연산 (벡터) \n",
        "* .dot\n",
        "* matmul\n",
        "* @"
      ]
    },
    {
      "cell_type": "code",
      "execution_count": 9,
      "metadata": {
        "id": "clCSMVn3YZCY"
      },
      "outputs": [
        {
          "name": "stdout",
          "output_type": "stream",
          "text": [
            "[[ 35  10  25  40]\n",
            " [  0  50  50   0]\n",
            " [  0   0 100   0]]\n",
            "\n",
            "------------------------------------------------\n",
            "[16750 37500 25000]\n",
            "\n",
            "------------------------------------------------\n",
            "[16750 37500 25000]\n",
            "\n",
            "------------------------------------------------\n",
            "[16750, 37500, 25000]\n",
            "\n",
            "------------------------------------------------\n"
          ]
        }
      ],
      "source": [
        "price = np.array([100, 500, 250, 50])\n",
        "X = np.array([35, 10, 25, 40])\n",
        "Y = np.array([0, 50, 50, 0])\n",
        "Z = np.array([0, 0, 100, 0])\n",
        "\n",
        "# array 합치기\n",
        "amount =  np.vstack( [X, Y, Z] )\n",
        "print( amount)\n",
        "print_line()\n",
        "\n",
        "\n",
        "# case 01 : matmul \n",
        "res1 = np.matmul(amount, price)\n",
        "print ( res1 )\n",
        "print_line()\n",
        "\n",
        "# case 02 : @ 연산자\n",
        "res1 = amount @ price\n",
        "print ( res1 )\n",
        "print_line()\n",
        "\n",
        "# case 03 : np.dot 이용\n",
        "res1 = [np.dot(price, person) for person in (X, Y, Z)]\n",
        "print ( res1 )\n",
        "print_line()\n",
        "\n"
      ]
    },
    {
      "cell_type": "markdown",
      "metadata": {
        "id": "a3bB9sHGiLwJ"
      },
      "source": [
        "## 내적 값 (백터)\n",
        "Dot Product라고 합니다.\n",
        "두 벡터에 대해서 서로 대응하는 각각의 성분을 곱한 뒤 모두 합하여 구합니다. 이때 두 벡터의 차원이 같아야 합니다.\n",
        "\n",
        "벡터를 내적한 값은 스칼라입니다. \n",
        "> $v_1 = [a_1, a_2, a_3, \\cdots]$\n",
        ">\n",
        "> $v_2 = [b_1, b_2, b_3, \\cdots]$\n",
        ">\n",
        "> $v_1 \\cdot v_2 = a_1b_1 + a_2b_2 + a_3b_3 + \\cdots$  \n",
        "\n",
        "### * **백터의 내적이 0 이면 두 벡터는 서로 수직이다.**\\\n",
        "\n",
        "\n"
      ]
    },
    {
      "cell_type": "code",
      "execution_count": 10,
      "metadata": {
        "id": "3go2x31-iPIX"
      },
      "outputs": [
        {
          "name": "stdout",
          "output_type": "stream",
          "text": [
            "[   0  500 1250    0]\n",
            "내적 : 1750\n",
            "\n",
            "------------------------------------------------\n",
            "내적 : 1750\n",
            "\n",
            "------------------------------------------------\n"
          ]
        }
      ],
      "source": [
        "# case 01 : * 연산자 \n",
        "print ( X * Y )\n",
        "print ( f\"내적 : {(X * Y).sum()}\" )\n",
        "print_line()\n",
        "\n",
        "# case 02 : dot 연산자\n",
        "print ( f\"내적 : {np.dot(X,Y)}\" )\n",
        "print_line()"
      ]
    },
    {
      "cell_type": "markdown",
      "metadata": {
        "id": "xvGZGcMilTPW"
      },
      "source": [
        "## 단위 벡터(Unit Vector)\n",
        "  * 길이가  1 인 벡터입니다.\n"
      ]
    },
    {
      "cell_type": "markdown",
      "metadata": {
        "id": "sJfnTQVOly4k"
      },
      "source": [
        "# # Matrix ( 행렬 )\n",
        "- 수 또는 변수를 ( ) 안에 행과 열로 배열한 것입니다.\n",
        "- 2차원 형태의 array 또는 list로 나타냅니다. \n",
        "- 행과 열의 개수는 **매트릭스의 차원**을 의미합니다. 이는 `.shape`을 통해 확인할 수 있습니다. \n",
        "- 두 매트릭스가 일치하려면 차원과 성분이 동일해야 합니다.\n",
        "> $\\begin{align}\n",
        "X = \n",
        "    \\begin{bmatrix}\n",
        "           1 & 2 & 3\\\\\n",
        "           4 & 5 & 6\\\\\n",
        "           7 & 8 & 9\n",
        "    \\end{bmatrix}\n",
        "    \\qquad\n",
        "    Y = \\begin{pmatrix}\n",
        "           1 & 2 & 3\\\\\n",
        "           4 & 5 & 6\n",
        "    \\end{pmatrix}\n",
        " \\end{align}$"
      ]
    },
    {
      "cell_type": "code",
      "execution_count": 11,
      "metadata": {
        "id": "dBNLgbaVl3Ce"
      },
      "outputs": [
        {
          "name": "stdout",
          "output_type": "stream",
          "text": [
            "1\n",
            "2\n",
            "\n",
            "------------------------------------------------\n",
            "(5,)\n",
            "(2, 5)\n",
            "\n",
            "------------------------------------------------\n"
          ]
        }
      ],
      "source": [
        "array_1d = np.array([1,2,3,4,5])\n",
        "array_2d = np.array( \n",
        "                    [\n",
        "                      [1,2,3,4,5],\n",
        "                      [2,4,6,8,10]\n",
        "                    ]\n",
        "                    )\n",
        "\n",
        "# 차원 확인\n",
        "\n",
        "# .ndim을 사용하여 배열의 차원 확인\n",
        "print ( array_1d.ndim )\n",
        "print ( array_2d.ndim )\n",
        "print_line()\n",
        "\n",
        "# .shape을 사용하여 벡터의 차원 확인\n",
        "print ( array_1d.shape ) \n",
        "print ( array_2d.shape ) \n",
        "print_line()\n"
      ]
    },
    {
      "cell_type": "markdown",
      "metadata": {
        "id": "vmg4YPjOns6T"
      },
      "source": [
        "## 행렬의 전치(Transpose)\n",
        "\n",
        "- 행과 열을 바꾸어 나타내는 것입니다.\n",
        "- 일반적으로 $A^T$로 표기합니다. \n",
        "- `.T` 또는 [`np.transpose()`](https://numpy.org/doc/stable/reference/generated/numpy.transpose.html)를 사용하여 구할 수 있습니다. \n",
        "- 전치의 전치는 자기 자신입니다.\n",
        "> $(A^T)^T=A$ "
      ]
    },
    {
      "cell_type": "code",
      "execution_count": 12,
      "metadata": {
        "id": "oqF_mVmAnslD"
      },
      "outputs": [
        {
          "name": "stdout",
          "output_type": "stream",
          "text": [
            "[[ 1  2  3  4  5]\n",
            " [ 2  4  6  8 10]]\n",
            "\n",
            "------------------------------------------------\n",
            "[[ 1  2]\n",
            " [ 2  4]\n",
            " [ 3  6]\n",
            " [ 4  8]\n",
            " [ 5 10]]\n",
            "\n",
            "------------------------------------------------\n",
            "[[ 1  2]\n",
            " [ 2  4]\n",
            " [ 3  6]\n",
            " [ 4  8]\n",
            " [ 5 10]]\n",
            "\n",
            "------------------------------------------------\n"
          ]
        }
      ],
      "source": [
        "print( array_2d )\n",
        "print_line()\n",
        "\n",
        "# case 01 \n",
        "print( array_2d.T )\n",
        "print_line()\n",
        "\n",
        "# case 02\n",
        "print( np.transpose (array_2d) )\n",
        "print_line()"
      ]
    },
    {
      "cell_type": "markdown",
      "metadata": {
        "id": "03XdfW6rojpc"
      },
      "source": [
        "## 행렬곱(Matrix Multiplication)\n",
        "- 두 행렬에 대해서 앞 행렬의 열과 뒷 행렬의 행의 수가 같으면 행렬끼리 곱할 수 있습니다. \n",
        "- [`np.matmul()`](https://numpy.org/doc/stable/reference/generated/numpy.matmul.html)을 사용하여 구할 수 있습니다.\n",
        "- 행렬곱의 결과는 행렬입니다. \n",
        "- 두 행렬의 차원이 $m\\times l$, $l\\times n$이면 행렬곱으로 얻은 행렬의 차원은 $m\\times n$입니다. \n",
        "> <img src=\"https://i.imgur.com/x6ePoVz.png\" width=450> "
      ]
    },
    {
      "cell_type": "code",
      "execution_count": 13,
      "metadata": {
        "id": "WsEjQ9_uojEV"
      },
      "outputs": [
        {
          "data": {
            "text/plain": [
              "array([[ 7, 10,  1,  3],\n",
              "       [16, 19,  4,  9]])"
            ]
          },
          "execution_count": 13,
          "metadata": {},
          "output_type": "execute_result"
        }
      ],
      "source": [
        "mat_a = np.array([[1,2,3], [4,5,6]])\n",
        "mat_b = np.array([[1,-1,0,2],[0,1,2,-1],[2,3,-1,1]])\n",
        "\n",
        "np.matmul(mat_a, mat_b) # 2x3와 3x4의 행렬곱 결과는 2x4"
      ]
    },
    {
      "cell_type": "markdown",
      "metadata": {
        "id": "w_qgpU-HtRgd"
      },
      "source": [
        "## * 정사각 행렬(Square Matrix)\n",
        "행과 열의 수가 동일한 매트릭스입니다.\n",
        "\n",
        "\n",
        "\n",
        "## * 대각 행렬(Diagonal Matrix)\n",
        "주 대각선(principal diagonal)을 제외한 모든 성분이 $0$인 정사각 행렬입니다.\n",
        "> $D =\n",
        "\\begin{bmatrix}\n",
        "a_{1,1} & 0 & 0 \\\\\n",
        "0 & a_{2,2} & 0 \\\\\n",
        "0 & 0 & a_{3,3} \n",
        "\\end{bmatrix}$\n",
        "\n",
        "## * 단위 행렬(Identity Matrix)\n",
        "- 대각 행렬 중에서 주 대각선 성분이 모두 $1$인 매트릭스입니다. \n",
        "- [`np.identity()`](https://numpy.org/doc/stable/reference/generated/numpy.identity.html) 또는 [`np.eye()`](https://numpy.org/devdocs/reference/generated/numpy.eye.html)를 사용하여 나타낼 수 있습니다.\n",
        "> $I_1 =\n",
        "\\begin{bmatrix}\n",
        "  1\n",
        "\\end{bmatrix}\n",
        "\\qquad\n",
        "I_2 =\n",
        "\\begin{bmatrix}\n",
        "1 & 0 \\\\\n",
        "0 & 1\n",
        "\\end{bmatrix}\n",
        "\\qquad\n",
        "I_3 =\n",
        "\\begin{bmatrix}\n",
        "1 & 0 & 0 \\\\\n",
        "0 & 1 & 0 \\\\\n",
        "0 & 0 & 1 \n",
        "\\end{bmatrix}$\n",
        "- 임의의 정사각 행렬에 단위 행렬을 곱한 것은 자기 자신과 같습니다.\n",
        "> $AI=A$"
      ]
    },
    {
      "cell_type": "code",
      "execution_count": 14,
      "metadata": {
        "id": "WudNWddZtpND"
      },
      "outputs": [
        {
          "name": "stdout",
          "output_type": "stream",
          "text": [
            "1차원 단위 행렬 :\n",
            " [[1]] \n",
            "\n",
            "2차원 단위 행렬 :\n",
            " [[1 0]\n",
            " [0 1]] \n",
            "\n",
            "3차원 단위 행렬 :\n",
            " [[1 0 0]\n",
            " [0 1 0]\n",
            " [0 0 1]]\n"
          ]
        }
      ],
      "source": [
        "# np.eye()를 사용하여 단위 행렬 생성\n",
        "print('1차원 단위 행렬 :\\n', np.eye(1, dtype=int), '\\n')\n",
        "print('2차원 단위 행렬 :\\n', np.eye(2, dtype=int), '\\n')\n",
        "print('3차원 단위 행렬 :\\n', np.eye(3, dtype=int))"
      ]
    },
    {
      "cell_type": "markdown",
      "metadata": {
        "id": "VdVewNCLt77v"
      },
      "source": [
        "## 역행렬\n",
        "- 임의의 정사각 행렬에 대하여 곱했을 때 단위 행렬이 되도록 하는 행렬을 **역행렬(Inverse)**이라고 하며 $A^{-1}$과 같이 표기합니다. \n",
        "> $AA^{-1}=I$\n",
        "- 역행렬을 구하는 식은 다음과 같습니다.\n",
        "> $A^{-1} = {1 \\over ad-bc}\\begin{bmatrix}d & -b\\\\-c & a\\end{bmatrix} \\quad$ \n",
        "where $A = \\begin{bmatrix}a & b \\\\c & d\\end{bmatrix}$\n",
        "- [`np.linalg.inv()`](https://numpy.org/doc/stable/reference/generated/numpy.linalg.inv.html)를 사용하여 구할 수 있습니다.\n",
        "\n",
        "\n",
        "## 행렬식(Determinant)\n",
        "- 정사각 행렬 $A$에 대해서 det($A$) 또는 $|A|$로 표기합니다.\n",
        "- $2\\times2$ 행렬식은 다음과 같습니다.  \n",
        "> $|A| = ad-bc \\quad$ where $\\ A = \\begin{bmatrix} a & b \\\\ c & d \\end{bmatrix}$\n",
        "- $3\\times3$ 행렬식은 다음과 같습니다. \n",
        "> $|A| = a(ei-fh)-b(di-fg)+c(dh-eg) \\quad$ \n",
        "where $\\ A = \\begin{bmatrix} a & b &c \\\\ d & e & f \\\\ g & h & i \\end{bmatrix}$\n",
        "- 이와 같이 $n\\times n$ 행렬에 대한 행렬식을 구할 수 있습니다.\n",
        "- [`np.linalg.det()`](https://numpy.org/doc/stable/reference/generated/numpy.linalg.det.html)를 사용하여 구할 수 있습니다.  \n",
        "\n",
        "### * **행렬식이 0 이면 역행렬이 존재하지 않는다.**"
      ]
    },
    {
      "cell_type": "code",
      "execution_count": 15,
      "metadata": {
        "id": "5HfKYJhQuG3r"
      },
      "outputs": [
        {
          "name": "stdout",
          "output_type": "stream",
          "text": [
            "원본 [[ 8 12]\n",
            " [ 9 16]]\n",
            "역행렬 [[ 0.8  -0.6 ]\n",
            " [-0.45  0.4 ]]\n",
            "행렬식 = ad - bc 19.999999999999996\n"
          ]
        }
      ],
      "source": [
        "mat_c = np.array([[8,12],[9,16]])\n",
        "print(f\"원본 {mat_c}\")\n",
        "\n",
        "# 역행렬\n",
        "inv = np.linalg.inv(mat_c)\n",
        "print( f\"역행렬 {inv}\" )\n",
        "\n",
        "# 행렬식\n",
        "det = np.linalg.det(mat_c)\n",
        "print( f\"행렬식 = ad - bc {det}\" )"
      ]
    },
    {
      "cell_type": "markdown",
      "metadata": {
        "id": "5_cxYdr80Esk"
      },
      "source": [
        "### **선형 관계의 벡터(Linearly Dependent Vectors)**\n",
        "- 두 벡터가 같은 선상에 있는 경우, 이 벡터들은 선형 관계에 있다고 표현합니다.\n",
        "\n",
        "### **선형 관계가 없는 벡터(Linearly Independent Vectors)**\n",
        "- 같은 선상에 있지 않은 벡터들은 선형적으로 독립되어 있다고 표현합니다.\n",
        "- 선형 관계에 있지 않은 벡터들이 만들어내는 Span의 차원은 벡터의 수와 같습니다. \n",
        "\n",
        "## **Basis**\n",
        "- 벡터 공간 $V$의 basis는 $V$라는 공간을 채울 수 있는 선형 관계에 있지 않은 벡터들의 모음입니다. (span의 역개념)\n",
        "- 위의 그림에서 2개의 벡터(빨강, 파랑)는 벡터 공간 $\\mathbb{R}^2$(2차원 평면)의 basis입니다.\n",
        "\n",
        "## **Span**\n",
        "주어진 두 벡터의 조합으로 만들 수 있는 모든 가능한 벡터의 집합입니다. \n",
        "\n",
        "## **Rank**\n",
        "- 매트릭스의 열을 이루는 벡터들로 만들 수 있는 공간(span)의 차원입니다. \n",
        "- 행렬의 선형 독립인 행 또는 열의 최대 개수입니다. \n",
        "- 행 또는 열을 이루는 벡터들 중 선형 관계에 있는 경우 행렬의 차원과 다를 수 있습니다. \n",
        "- [`np.linalg.matrix_rank()`](https://numpy.org/doc/stable/reference/generated/numpy.linalg.matrix_rank.html)를 사용해 구할 수 있습니다. "
      ]
    },
    {
      "cell_type": "code",
      "execution_count": 16,
      "metadata": {
        "id": "5ay13alr0PL7"
      },
      "outputs": [
        {
          "name": "stdout",
          "output_type": "stream",
          "text": [
            "2\n",
            "1\n"
          ]
        }
      ],
      "source": [
        "# 선형독립인 경우\n",
        "mat_a = np.array([[1,1],[3,4]])\n",
        "print ( np.linalg.matrix_rank(mat_a) )\n",
        "\n",
        "# 선형독립이 아닌 경우\n",
        "mat_b = np.array([[1,1],[3,3]])\n",
        "print ( np.linalg.matrix_rank(mat_b) )"
      ]
    },
    {
      "cell_type": "markdown",
      "metadata": {
        "id": "ttk5x4_u3PdY"
      },
      "source": [
        "----\n",
        "\n",
        "# **Eigenstuff**\n",
        "- numpy를 사용하여 $T$에 대한 eigenvalue와 eigenvector를 구하세요. \n",
        "> $T = \\begin{bmatrix} 9 & 4 \\\\ 4 & 3 \\end{bmatrix}$"
      ]
    },
    {
      "cell_type": "code",
      "execution_count": 17,
      "metadata": {
        "id": "lDAyHyOP3bre"
      },
      "outputs": [
        {
          "name": "stdout",
          "output_type": "stream",
          "text": [
            "(11.0,[0.89, 0.45]) (1.0,[-0.45, 0.89]) "
          ]
        }
      ],
      "source": [
        "T = np.array ([\n",
        "    [9,4]\n",
        "    ,[4,3]\n",
        "])\n",
        "\n",
        "# Case 01\n",
        "eigenstuff = np.linalg.eig(T)\n",
        "\n",
        "# 출력\n",
        "for i in range( len(eigenstuff[0] ) ):\n",
        "  eigenvalue = eigenstuff[0][i]\n",
        "  eigenvector = eigenstuff[1][:,i].round(2)\n",
        "  print ( f\"({eigenvalue},{eigenvector.tolist()})\" , end=' ' )\n",
        "\n"
      ]
    },
    {
      "cell_type": "markdown",
      "metadata": {
        "id": "aUGOQGd04q2y"
      },
      "source": [
        "----\n",
        "# **# PCA**\n",
        "\n",
        "차원 축소"
      ]
    },
    {
      "cell_type": "markdown",
      "metadata": {
        "id": "cx9XXhjZCdWG"
      },
      "source": [
        "### **분산(Variance)**\n",
        "- 데이터가 흩어져 있는 정도를 하나의 값으로 나타낸 것입니다. \n",
        "- 데이터가 서로 멀리 떨어져 있을수록 분산의 값이 커집니다. \n",
        "- 편차 제곱의 평균으로 구합니다.\n",
        "> $\\sigma^2 = \\frac{\\sum{(X_{i} - \\overline{X})^{2}} }{N} \\quad$ where $\\ $ $X_i$:관측값 , $\\bar{X}$:평균 , $N$: 관측값 개수\n",
        "- [`df.var()`](https://pandas.pydata.org/docs/reference/api/pandas.DataFrame.var.html) 또는 [`np.var()`](https://numpy.org/doc/stable/reference/generated/numpy.var.html)를 사용해 구할 수 있습니다. \n",
        "\n",
        "\n",
        "- 편차 = (관측값) - (평균)\n",
        "- 편차의 합은 항상 $0$이기 때문에 편차의 평균도 항상 $0$입니다."
      ]
    },
    {
      "cell_type": "code",
      "execution_count": 18,
      "metadata": {
        "id": "4LAC-RSLCpJE"
      },
      "outputs": [
        {
          "ename": "NameError",
          "evalue": "name 'variance_df' is not defined",
          "output_type": "error",
          "traceback": [
            "\u001b[0;31m---------------------------------------------------------------------------\u001b[0m",
            "\u001b[0;31mNameError\u001b[0m                                 Traceback (most recent call last)",
            "\u001b[1;32m/Users/lamune/@git/git_hub/A001_Python_Test/S13선형대수.ipynb 셀 33\u001b[0m in \u001b[0;36m<cell line: 3>\u001b[0;34m()\u001b[0m\n\u001b[1;32m      <a href='vscode-notebook-cell:/Users/lamune/%40git/git_hub/A001_Python_Test/S13%EC%84%A0%ED%98%95%EB%8C%80%EC%88%98.ipynb#X44sZmlsZQ%3D%3D?line=0'>1</a>\u001b[0m \u001b[39m# 분산 구하기 case 01\u001b[39;00m\n\u001b[1;32m      <a href='vscode-notebook-cell:/Users/lamune/%40git/git_hub/A001_Python_Test/S13%EC%84%A0%ED%98%95%EB%8C%80%EC%88%98.ipynb#X44sZmlsZQ%3D%3D?line=1'>2</a>\u001b[0m \u001b[39m# df.var()를 사용해 분산 구하기 \u001b[39;00m\n\u001b[0;32m----> <a href='vscode-notebook-cell:/Users/lamune/%40git/git_hub/A001_Python_Test/S13%EC%84%A0%ED%98%95%EB%8C%80%EC%88%98.ipynb#X44sZmlsZQ%3D%3D?line=2'>3</a>\u001b[0m \u001b[39mprint\u001b[39m(\u001b[39m'\u001b[39m\u001b[39mv1 분산 :\u001b[39m\u001b[39m'\u001b[39m, variance_df\u001b[39m.\u001b[39mv1\u001b[39m.\u001b[39mvar())\n\u001b[1;32m      <a href='vscode-notebook-cell:/Users/lamune/%40git/git_hub/A001_Python_Test/S13%EC%84%A0%ED%98%95%EB%8C%80%EC%88%98.ipynb#X44sZmlsZQ%3D%3D?line=3'>4</a>\u001b[0m \u001b[39mprint\u001b[39m(\u001b[39m'\u001b[39m\u001b[39mv2 분산 :\u001b[39m\u001b[39m'\u001b[39m, variance_df\u001b[39m.\u001b[39mv2\u001b[39m.\u001b[39mvar())\n\u001b[1;32m      <a href='vscode-notebook-cell:/Users/lamune/%40git/git_hub/A001_Python_Test/S13%EC%84%A0%ED%98%95%EB%8C%80%EC%88%98.ipynb#X44sZmlsZQ%3D%3D?line=5'>6</a>\u001b[0m \u001b[39m# 분산 구하기 case 02\u001b[39;00m\n\u001b[1;32m      <a href='vscode-notebook-cell:/Users/lamune/%40git/git_hub/A001_Python_Test/S13%EC%84%A0%ED%98%95%EB%8C%80%EC%88%98.ipynb#X44sZmlsZQ%3D%3D?line=6'>7</a>\u001b[0m \u001b[39m# np.var()를 사용해 분산 구하기\u001b[39;00m\n",
            "\u001b[0;31mNameError\u001b[0m: name 'variance_df' is not defined"
          ]
        }
      ],
      "source": [
        "# 분산 구하기 case 01\n",
        "# df.var()를 사용해 분산 구하기 \n",
        "print('v1 분산 :', variance_df.v1.var())\n",
        "print('v2 분산 :', variance_df.v2.var())\n",
        "\n",
        "# 분산 구하기 case 02\n",
        "# np.var()를 사용해 분산 구하기\n",
        "print('v1 분산 :', np.var(variance_df.v1, ddof=1))\n",
        "print('v2 분산 :', np.var(variance_df.v2, ddof=1))"
      ]
    },
    {
      "cell_type": "markdown",
      "metadata": {
        "id": "R9eUAdR1C5V5"
      },
      "source": [
        "## **표준편차(Standard Deviation)**\n",
        "- 분산의 제곱근($\\sqrt{ﾠ}$) 값입니다. \n",
        "- 분산의 스케일을 조정하는 효과가 있습니다. \n",
        "- [`df.std()`](https://pandas.pydata.org/docs/reference/api/pandas.DataFrame.std.html) 또는 [`np.std()`](https://numpy.org/doc/stable/reference/generated/numpy.std.html)를 사용해 구할 수 있습니다."
      ]
    },
    {
      "cell_type": "code",
      "execution_count": null,
      "metadata": {
        "id": "lBIGhR4RC90N"
      },
      "outputs": [],
      "source": [
        "# 표준편차 구하기 case 01\n",
        "# df.std()를 사용해 표준편차 구하기 \n",
        "print('v1 표준편차 :', variance_df.v1.std())\n",
        "print('v2 표준편차 :', variance_df.v2.std())\n",
        "\n",
        "\n",
        "# 표준편차 구하기 case 02\n",
        "# np.std()를 사용해 표준편차 구하기\n",
        "print('v1 표준편차 :', np.std(variance_df.v1, ddof=1))\n",
        "print('v2 표준편차 :', np.std(variance_df.v2, ddof=1))"
      ]
    },
    {
      "cell_type": "markdown",
      "metadata": {
        "id": "oMU3jcde_cJG"
      },
      "source": [
        " ## **공분산(Covariance)과 상관계수(Correlation coefficient)**\n",
        "\n",
        "## **\b공분산(Covariance)**\n",
        "- 두 변수에 대하여 한 변수가 변화할 때 다른 변수가 어떠한 연관성을 갖고 변하는지를 나타낸 값입니다. <br>\n",
        "  <img src = 'https://i.imgur.com/tWPxfyI.png' width=500>\n",
        "- 두 변수의 연관성이 클수록 공분산 값도 커집니다. \n",
        "- 두 변수의 스케일이 크다면 공분산 값이 커지게 된다. \n",
        "유사한 연관성이라도, 스케일이 큰 변수들은 스케일이 작은 변수들에 비해서 높은 공분산 값을 가지게 될 것입니다.\n",
        "\n",
        "\n",
        "### **분산-공분산 행렬(variance-covariance matrix)**\n",
        "- 모든 변수에 대하여 분산과 공분산 값을 나타내는 정사각 행렬입니다. \n",
        "  - 주 대각선 성분은 자기 자신의 분산 값을 나타냅니다.\n",
        "  - 주 대각선 이외의 성분은 가능한 두 변수의 공분산 값을 나타냅니다.\n",
        "- [`df.cov()`](https://pandas.pydata.org/docs/reference/api/pandas.DataFrame.cov.html) 또는 [`np.cov()`](https://numpy.org/doc/stable/reference/generated/numpy.cov.html)를 사용하여 구할 수 있습니다. \n",
        "\n",
        "\n",
        " "
      ]
    },
    {
      "cell_type": "code",
      "execution_count": null,
      "metadata": {
        "id": "DAz4jvAWFElj"
      },
      "outputs": [],
      "source": [
        "# case 01\n",
        "# df.cov()를 사용하여 공분산 행렬 나타내기 \n",
        "df.cov()\n",
        "\n",
        "\n",
        "# case 02\n",
        "# np.cov()를 사용하여 공분산 행렬 나타내기 \n",
        "np.cov(df.T)"
      ]
    },
    {
      "cell_type": "markdown",
      "metadata": {
        "id": "45yMlOGKFdKJ"
      },
      "source": [
        "## **상관계수(Correlation coefficient)**\n",
        "- 공분산을 두 변수의 표준편차로 나눠준 값입니다. \n",
        "  > $r_{x, y} = \\frac{cov(X,Y)}{\\sigma_{X}\\sigma_{Y}}$\n",
        "- 공분산의 스케일을 조정하는 효과가 있습니다.\n",
        "- 변수의 스케일에 영향을 받지 않습니다. \n",
        "- -1에서 1 사이의 값을 가집니다. 상관계수가 1이라는 것은 한 변수가 다른 변수에 대해서 완벽한 양의 선형 관계를 갖고 있다는 것을 의미합니다. <br>\n",
        "  <img src = 'https://i.imgur.com/25t6mK2.png' width=500>\n",
        "- [`df.corr()`](https://pandas.pydata.org/docs/reference/api/pandas.DataFrame.corr.html) 또는 [`np.corrcoef()`](https://numpy.org/doc/stable/reference/generated/numpy.corrcoef.html)를 사용하여 구할 수 있습니다.\n"
      ]
    },
    {
      "cell_type": "code",
      "execution_count": null,
      "metadata": {
        "id": "TEUdtdx0Fc4l"
      },
      "outputs": [],
      "source": [
        "# case 01\n",
        "# df.corr()를 사용하여 상관계수 나타내기\n",
        "df.corr()\n",
        "\n",
        "\n",
        "# case 02\n",
        "# np.corrcoef()를 사용하여 상관계수 나타내기\n",
        "np.corrcoef(df.T)\n"
      ]
    },
    {
      "cell_type": "markdown",
      "metadata": {
        "id": "LLetBXf_Eh4N"
      },
      "source": [
        "### PCA ( 주성분 분석(Principal Component Analysis, PCA) )"
      ]
    },
    {
      "cell_type": "code",
      "execution_count": 19,
      "metadata": {
        "id": "aRB0DP9-94Hg"
      },
      "outputs": [],
      "source": [
        "# test 데이터 준비\n",
        "\n",
        "import seaborn as sns\n",
        "df = sns.load_dataset( 'penguins')\n",
        "\n",
        "species = df['species']\n",
        "features = df[['bill_length_mm','bill_depth_mm','flipper_length_mm','body_mass_g'  ]]\n",
        "\n",
        "# 하나라도 결측치가 있는 data 조건 case 02\n",
        "features_null = features.isnull().any(axis=1)\n",
        "features_null =  features[ features_null]\n",
        "\n",
        "# 결측치 data 제거\n",
        "features = features.drop(features_null.index).reset_index ( drop=True)\n",
        "species = species.drop(features_null.index).reset_index ( drop=True)"
      ]
    },
    {
      "cell_type": "code",
      "execution_count": 20,
      "metadata": {
        "id": "dKW80-e840gk"
      },
      "outputs": [
        {
          "name": "stdout",
          "output_type": "stream",
          "text": [
            "\n",
            " Standardized Data: \n",
            "      bill_length_mm  bill_depth_mm  flipper_length_mm  body_mass_g\n",
            "0         -0.883205       0.784300          -1.416272    -0.563317\n",
            "1         -0.809939       0.126003          -1.060696    -0.500969\n",
            "2         -0.663408       0.429833          -0.420660    -1.186793\n",
            "3         -1.322799       1.088129          -0.562890    -0.937403\n",
            "4         -0.846572       1.746426          -0.776236    -0.688012\n",
            "..              ...            ...                ...          ...\n",
            "337        0.600425      -1.747611           0.930526     0.901854\n",
            "338        0.527159      -1.443781           1.001641     0.808332\n",
            "339        1.186550      -0.734846           1.499447     1.930590\n",
            "340        0.234097      -1.190590           0.788296     1.244766\n",
            "341        1.094968      -0.532294           0.859411     1.494157\n",
            "\n",
            "[342 rows x 4 columns]\n",
            "\n",
            " Standardized Data: \n",
            " [[-0.88449874  0.78544923 -1.41834665 -0.56414208]\n",
            " [-0.81112573  0.1261879  -1.06225022 -0.50170305]\n",
            " [-0.66437972  0.43046236 -0.42127665 -1.18853234]\n",
            " ...\n",
            " [ 1.18828874 -0.73592307  1.50164406  1.93341896]\n",
            " [ 0.23443963 -1.19233476  0.7894512   1.24658968]\n",
            " [ 1.09657248 -0.53307343  0.86067049  1.49634578]]\n",
            "\n",
            " Eigenvectors: \n",
            " [[ 0.45525033 -0.40033468  0.57601332  0.54835019]\n",
            " [ 0.59703114  0.79776657  0.0022822   0.08436292]]\n",
            "\n",
            " Eigenvalues: \n",
            " [2.76183065 0.7747822 ]\n",
            "\n",
            " Projected Data: \n",
            " [[-1.84344489  0.04770222]\n",
            " [-1.30676189 -0.42834824]\n",
            " [-1.36918099 -0.1544764 ]\n",
            " [-1.87882665 -0.00204841]\n",
            " [-1.91174773  0.8292096 ]\n",
            " [-1.76302514 -0.3514796 ]\n",
            " [-0.81007459  0.52248868]\n",
            " [-1.83520425 -0.76963343]\n",
            " [-1.19420773  1.02628371]\n",
            " [-1.73020372 -0.788569  ]]\n"
          ]
        }
      ],
      "source": [
        "# 데이터 표준화 case 01\n",
        "X = features\n",
        "standardized_data = ( X - np.mean(X, axis = 0) ) / np.std(X, ddof=1, axis = 0)\n",
        "z = standardized_data\n",
        "print(\"\\n Standardized Data: \\n\", standardized_data)\n",
        "\n",
        "\n",
        "\n",
        "# 데이터 표준화 case 02\n",
        "# StandardScaler()를 사용하여 데이터 표준화  # : np를 사용하여 직접 계산한 값과는 차이가 있다.\n",
        "from sklearn.preprocessing import StandardScaler\n",
        "from sklearn.decomposition import PCA\n",
        "\n",
        "scaler = StandardScaler()\n",
        "Z = scaler.fit_transform(X)\n",
        "print(\"\\n Standardized Data: \\n\", Z)\n",
        "\n",
        "\n",
        "\n",
        "# 표준화한 데이터에 대하여 pca 시행 에이간값, 에이간 벡터를 구한다.\n",
        "pca_count = 2\n",
        "\n",
        "pca = PCA(pca_count) \n",
        "pca.fit(Z)\n",
        "\n",
        "print(\"\\n Eigenvectors: \\n\", pca.components_)\n",
        "print(\"\\n Eigenvalues: \\n\",pca.explained_variance_)\n",
        "\n",
        "B = pca.transform(Z)\n",
        "print(\"\\n Projected Data: \\n\", B[:10]) # 10개만 출력"
      ]
    },
    {
      "cell_type": "code",
      "execution_count": 21,
      "metadata": {
        "id": "w_Co92vl8Lhn"
      },
      "outputs": [
        {
          "data": {
            "image/png": "[encoded data removed]",
            "text/plain": [
              "<Figure size 432x288 with 1 Axes>"
            ]
          },
          "metadata": {
            "needs_background": "light"
          },
          "output_type": "display_data"
        }
      ],
      "source": [
        "# 시각화\n",
        "df_tmp = pd.DataFrame( {'species':species , 'PC1':B[:,0] , 'PC2':B[:,1] } )\n",
        "\n",
        "sns.scatterplot( data=df_tmp , hue = 'species' , x='PC1', y='PC2')\n",
        "plt.legend(bbox_to_anchor=(1.01, 1.02))\n",
        "plt.show()"
      ]
    },
    {
      "cell_type": "code",
      "execution_count": 22,
      "metadata": {
        "id": "otbdB5UH8Z5E"
      },
      "outputs": [
        {
          "name": "stdout",
          "output_type": "stream",
          "text": [
            "0.8815679694372632\n",
            "0.8815679694372632\n"
          ]
        }
      ],
      "source": [
        "#variance의 ratio의 합\n",
        "\n",
        "# case 01\n",
        "var_ratio = pca.explained_variance_ratio_\n",
        "print( var_ratio[0] + var_ratio[1])\n",
        "\n",
        "# case 02\n",
        "print( pca.explained_variance_ratio_.sum() )"
      ]
    },
    {
      "cell_type": "code",
      "execution_count": null,
      "metadata": {
        "id": "VfmDTQlE85WV"
      },
      "outputs": [],
      "source": [
        "# 필요한 pca 갯수 계산 \n",
        "\n",
        "# 일반적인 경우에는 목표 분산치를 입력하면 자동으로 계산하는 식으로 처리 한다.\n",
        "# pca = PCA(n_components=0.95 ) #=> 목표치 95% 이상 \n",
        "# pca = PCA(n_components=95 ) #=> pc 사용갯수 95개  \n",
        "\n",
        "pca = PCA(4) \n",
        "pca.fit(Z)\n",
        "\n",
        "# 90% 이상을 만족하기 위해 필요한 PC 갯수\n",
        "tmp_cnt = 0\n",
        "tmp_total_ratio = 0\n",
        "var_ratio = pca.explained_variance_ratio_\n",
        "for x in var_ratio :\n",
        "  tmp_total_ratio += x\n",
        "  tmp_cnt += 1\n",
        "  \n",
        "  if tmp_total_ratio >= 0.9 :\n",
        "    break\n",
        "\n",
        "print ( f\" 필요한 PC 갯수 {tmp_cnt} , {tmp_total_ratio}\" )\n",
        "  "
      ]
    },
    {
      "cell_type": "markdown",
      "metadata": {
        "id": "xYlp79yf9oI2"
      },
      "source": [
        "### Scree Plot"
      ]
    },
    {
      "cell_type": "code",
      "execution_count": 23,
      "metadata": {
        "id": "2lx_yslU9u3e"
      },
      "outputs": [
        {
          "ename": "ValueError",
          "evalue": "shape mismatch: objects cannot be broadcast to a single shape",
          "output_type": "error",
          "traceback": [
            "\u001b[0;31m---------------------------------------------------------------------------\u001b[0m",
            "\u001b[0;31mValueError\u001b[0m                                Traceback (most recent call last)",
            "\u001b[1;32m/Users/lamune/@git/git_hub/A001_Python_Test/S13선형대수.ipynb 셀 47\u001b[0m in \u001b[0;36m<cell line: 2>\u001b[0;34m()\u001b[0m\n\u001b[1;32m      <a href='vscode-notebook-cell:/Users/lamune/%40git/git_hub/A001_Python_Test/S13%EC%84%A0%ED%98%95%EB%8C%80%EC%88%98.ipynb#X64sZmlsZQ%3D%3D?line=0'>1</a>\u001b[0m \u001b[39m# var ratio bar 차트\u001b[39;00m\n\u001b[0;32m----> <a href='vscode-notebook-cell:/Users/lamune/%40git/git_hub/A001_Python_Test/S13%EC%84%A0%ED%98%95%EB%8C%80%EC%88%98.ipynb#X64sZmlsZQ%3D%3D?line=1'>2</a>\u001b[0m plt\u001b[39m.\u001b[39;49mbar(\u001b[39mrange\u001b[39;49m(\u001b[39m1\u001b[39;49m, \u001b[39m5\u001b[39;49m), pca\u001b[39m.\u001b[39;49mexplained_variance_ratio_, alpha\u001b[39m=\u001b[39;49m\u001b[39m0.5\u001b[39;49m, color\u001b[39m=\u001b[39;49m\u001b[39m'\u001b[39;49m\u001b[39mr\u001b[39;49m\u001b[39m'\u001b[39;49m)\n\u001b[1;32m      <a href='vscode-notebook-cell:/Users/lamune/%40git/git_hub/A001_Python_Test/S13%EC%84%A0%ED%98%95%EB%8C%80%EC%88%98.ipynb#X64sZmlsZQ%3D%3D?line=3'>4</a>\u001b[0m \u001b[39m# 꺽은선 그래프  , 누적\u001b[39;00m\n\u001b[1;32m      <a href='vscode-notebook-cell:/Users/lamune/%40git/git_hub/A001_Python_Test/S13%EC%84%A0%ED%98%95%EB%8C%80%EC%88%98.ipynb#X64sZmlsZQ%3D%3D?line=4'>5</a>\u001b[0m plt\u001b[39m.\u001b[39mplot(\u001b[39mrange\u001b[39m(\u001b[39m1\u001b[39m, \u001b[39m5\u001b[39m), np\u001b[39m.\u001b[39mcumsum(pca\u001b[39m.\u001b[39mexplained_variance_ratio_))\n",
            "File \u001b[0;32m~/opt/anaconda3/lib/python3.9/site-packages/matplotlib/pyplot.py:2387\u001b[0m, in \u001b[0;36mbar\u001b[0;34m(x, height, width, bottom, align, data, **kwargs)\u001b[0m\n\u001b[1;32m   2383\u001b[0m \u001b[39m@_copy_docstring_and_deprecators\u001b[39m(Axes\u001b[39m.\u001b[39mbar)\n\u001b[1;32m   2384\u001b[0m \u001b[39mdef\u001b[39;00m \u001b[39mbar\u001b[39m(\n\u001b[1;32m   2385\u001b[0m         x, height, width\u001b[39m=\u001b[39m\u001b[39m0.8\u001b[39m, bottom\u001b[39m=\u001b[39m\u001b[39mNone\u001b[39;00m, \u001b[39m*\u001b[39m, align\u001b[39m=\u001b[39m\u001b[39m'\u001b[39m\u001b[39mcenter\u001b[39m\u001b[39m'\u001b[39m,\n\u001b[1;32m   2386\u001b[0m         data\u001b[39m=\u001b[39m\u001b[39mNone\u001b[39;00m, \u001b[39m*\u001b[39m\u001b[39m*\u001b[39mkwargs):\n\u001b[0;32m-> 2387\u001b[0m     \u001b[39mreturn\u001b[39;00m gca()\u001b[39m.\u001b[39;49mbar(\n\u001b[1;32m   2388\u001b[0m         x, height, width\u001b[39m=\u001b[39;49mwidth, bottom\u001b[39m=\u001b[39;49mbottom, align\u001b[39m=\u001b[39;49malign,\n\u001b[1;32m   2389\u001b[0m         \u001b[39m*\u001b[39;49m\u001b[39m*\u001b[39;49m({\u001b[39m\"\u001b[39;49m\u001b[39mdata\u001b[39;49m\u001b[39m\"\u001b[39;49m: data} \u001b[39mif\u001b[39;49;00m data \u001b[39mis\u001b[39;49;00m \u001b[39mnot\u001b[39;49;00m \u001b[39mNone\u001b[39;49;00m \u001b[39melse\u001b[39;49;00m {}), \u001b[39m*\u001b[39;49m\u001b[39m*\u001b[39;49mkwargs)\n",
            "File \u001b[0;32m~/opt/anaconda3/lib/python3.9/site-packages/matplotlib/__init__.py:1412\u001b[0m, in \u001b[0;36m_preprocess_data.<locals>.inner\u001b[0;34m(ax, data, *args, **kwargs)\u001b[0m\n\u001b[1;32m   1409\u001b[0m \u001b[39m@functools\u001b[39m\u001b[39m.\u001b[39mwraps(func)\n\u001b[1;32m   1410\u001b[0m \u001b[39mdef\u001b[39;00m \u001b[39minner\u001b[39m(ax, \u001b[39m*\u001b[39margs, data\u001b[39m=\u001b[39m\u001b[39mNone\u001b[39;00m, \u001b[39m*\u001b[39m\u001b[39m*\u001b[39mkwargs):\n\u001b[1;32m   1411\u001b[0m     \u001b[39mif\u001b[39;00m data \u001b[39mis\u001b[39;00m \u001b[39mNone\u001b[39;00m:\n\u001b[0;32m-> 1412\u001b[0m         \u001b[39mreturn\u001b[39;00m func(ax, \u001b[39m*\u001b[39;49m\u001b[39mmap\u001b[39;49m(sanitize_sequence, args), \u001b[39m*\u001b[39;49m\u001b[39m*\u001b[39;49mkwargs)\n\u001b[1;32m   1414\u001b[0m     bound \u001b[39m=\u001b[39m new_sig\u001b[39m.\u001b[39mbind(ax, \u001b[39m*\u001b[39margs, \u001b[39m*\u001b[39m\u001b[39m*\u001b[39mkwargs)\n\u001b[1;32m   1415\u001b[0m     auto_label \u001b[39m=\u001b[39m (bound\u001b[39m.\u001b[39marguments\u001b[39m.\u001b[39mget(label_namer)\n\u001b[1;32m   1416\u001b[0m                   \u001b[39mor\u001b[39;00m bound\u001b[39m.\u001b[39mkwargs\u001b[39m.\u001b[39mget(label_namer))\n",
            "File \u001b[0;32m~/opt/anaconda3/lib/python3.9/site-packages/matplotlib/axes/_axes.py:2342\u001b[0m, in \u001b[0;36mAxes.bar\u001b[0;34m(self, x, height, width, bottom, align, **kwargs)\u001b[0m\n\u001b[1;32m   2339\u001b[0m     \u001b[39mif\u001b[39;00m yerr \u001b[39mis\u001b[39;00m \u001b[39mnot\u001b[39;00m \u001b[39mNone\u001b[39;00m:\n\u001b[1;32m   2340\u001b[0m         yerr \u001b[39m=\u001b[39m \u001b[39mself\u001b[39m\u001b[39m.\u001b[39m_convert_dx(yerr, y0, y, \u001b[39mself\u001b[39m\u001b[39m.\u001b[39mconvert_yunits)\n\u001b[0;32m-> 2342\u001b[0m x, height, width, y, linewidth, hatch \u001b[39m=\u001b[39m np\u001b[39m.\u001b[39;49mbroadcast_arrays(\n\u001b[1;32m   2343\u001b[0m     \u001b[39m# Make args iterable too.\u001b[39;49;00m\n\u001b[1;32m   2344\u001b[0m     np\u001b[39m.\u001b[39;49matleast_1d(x), height, width, y, linewidth, hatch)\n\u001b[1;32m   2346\u001b[0m \u001b[39m# Now that units have been converted, set the tick locations.\u001b[39;00m\n\u001b[1;32m   2347\u001b[0m \u001b[39mif\u001b[39;00m orientation \u001b[39m==\u001b[39m \u001b[39m'\u001b[39m\u001b[39mvertical\u001b[39m\u001b[39m'\u001b[39m:\n",
            "File \u001b[0;32m<__array_function__ internals>:5\u001b[0m, in \u001b[0;36mbroadcast_arrays\u001b[0;34m(*args, **kwargs)\u001b[0m\n",
            "File \u001b[0;32m~/opt/anaconda3/lib/python3.9/site-packages/numpy/lib/stride_tricks.py:538\u001b[0m, in \u001b[0;36mbroadcast_arrays\u001b[0;34m(subok, *args)\u001b[0m\n\u001b[1;32m    531\u001b[0m \u001b[39m# nditer is not used here to avoid the limit of 32 arrays.\u001b[39;00m\n\u001b[1;32m    532\u001b[0m \u001b[39m# Otherwise, something like the following one-liner would suffice:\u001b[39;00m\n\u001b[1;32m    533\u001b[0m \u001b[39m# return np.nditer(args, flags=['multi_index', 'zerosize_ok'],\u001b[39;00m\n\u001b[1;32m    534\u001b[0m \u001b[39m#                  order='C').itviews\u001b[39;00m\n\u001b[1;32m    536\u001b[0m args \u001b[39m=\u001b[39m [np\u001b[39m.\u001b[39marray(_m, copy\u001b[39m=\u001b[39m\u001b[39mFalse\u001b[39;00m, subok\u001b[39m=\u001b[39msubok) \u001b[39mfor\u001b[39;00m _m \u001b[39min\u001b[39;00m args]\n\u001b[0;32m--> 538\u001b[0m shape \u001b[39m=\u001b[39m _broadcast_shape(\u001b[39m*\u001b[39;49margs)\n\u001b[1;32m    540\u001b[0m \u001b[39mif\u001b[39;00m \u001b[39mall\u001b[39m(array\u001b[39m.\u001b[39mshape \u001b[39m==\u001b[39m shape \u001b[39mfor\u001b[39;00m array \u001b[39min\u001b[39;00m args):\n\u001b[1;32m    541\u001b[0m     \u001b[39m# Common case where nothing needs to be broadcasted.\u001b[39;00m\n\u001b[1;32m    542\u001b[0m     \u001b[39mreturn\u001b[39;00m args\n",
            "File \u001b[0;32m~/opt/anaconda3/lib/python3.9/site-packages/numpy/lib/stride_tricks.py:420\u001b[0m, in \u001b[0;36m_broadcast_shape\u001b[0;34m(*args)\u001b[0m\n\u001b[1;32m    415\u001b[0m \u001b[39m\"\"\"Returns the shape of the arrays that would result from broadcasting the\u001b[39;00m\n\u001b[1;32m    416\u001b[0m \u001b[39msupplied arrays against each other.\u001b[39;00m\n\u001b[1;32m    417\u001b[0m \u001b[39m\"\"\"\u001b[39;00m\n\u001b[1;32m    418\u001b[0m \u001b[39m# use the old-iterator because np.nditer does not handle size 0 arrays\u001b[39;00m\n\u001b[1;32m    419\u001b[0m \u001b[39m# consistently\u001b[39;00m\n\u001b[0;32m--> 420\u001b[0m b \u001b[39m=\u001b[39m np\u001b[39m.\u001b[39;49mbroadcast(\u001b[39m*\u001b[39;49margs[:\u001b[39m32\u001b[39;49m])\n\u001b[1;32m    421\u001b[0m \u001b[39m# unfortunately, it cannot handle 32 or more arguments directly\u001b[39;00m\n\u001b[1;32m    422\u001b[0m \u001b[39mfor\u001b[39;00m pos \u001b[39min\u001b[39;00m \u001b[39mrange\u001b[39m(\u001b[39m32\u001b[39m, \u001b[39mlen\u001b[39m(args), \u001b[39m31\u001b[39m):\n\u001b[1;32m    423\u001b[0m     \u001b[39m# ironically, np.broadcast does not properly handle np.broadcast\u001b[39;00m\n\u001b[1;32m    424\u001b[0m     \u001b[39m# objects (it treats them as scalars)\u001b[39;00m\n\u001b[1;32m    425\u001b[0m     \u001b[39m# use broadcasting to avoid allocating the full array\u001b[39;00m\n",
            "\u001b[0;31mValueError\u001b[0m: shape mismatch: objects cannot be broadcast to a single shape"
          ]
        },
        {
          "data": {
            "image/png": "[encoded data removed]",
            "text/plain": [
              "<Figure size 432x288 with 1 Axes>"
            ]
          },
          "metadata": {
            "needs_background": "light"
          },
          "output_type": "display_data"
        }
      ],
      "source": [
        "# var ratio bar 차트\n",
        "plt.bar(range(1, 5), pca.explained_variance_ratio_, alpha=0.5, color='r')\n",
        "\n",
        "# 꺽은선 그래프  , 누적\n",
        "plt.plot(range(1, 5), np.cumsum(pca.explained_variance_ratio_))\n",
        "\n",
        "# x 축 값을 수동 지정\n",
        "plt.xticks([1, 2, 3, 4])\n",
        "\n",
        "\n",
        "for i in range(1, 5):\n",
        "\n",
        "    # 막대 그래프에 값 표시 \n",
        "    plt.text(i, pca.explained_variance_ratio_[i-1]+0.05,\n",
        "             pca.explained_variance_ratio_[i-1].round(2),\n",
        "             horizontalalignment='center')\n",
        "    \n",
        "    if i > 1:\n",
        "        # 꺽은선 그래프에 누적값 표시\n",
        "        plt.text(i, np.cumsum(pca.explained_variance_ratio_)[i-1]-0.08,\n",
        "                 np.cumsum(pca.explained_variance_ratio_)[i-1].round(2),\n",
        "                 horizontalalignment='center')\n",
        "        \n",
        "# label \n",
        "plt.xlabel(\"pc\")\n",
        "plt.ylabel(\"rate\")\n",
        "\n",
        "plt.show()"
      ]
    },
    {
      "cell_type": "markdown",
      "metadata": {
        "id": "UT2Pdftrfd_m"
      },
      "source": [
        "----\n",
        "# Cramer's rule 이용해서 방정식 구하기\n",
        "\n",
        "> $x_1$ + $2x_3$ = 6\n",
        ">\n",
        "> $-3x_1$ + $4x_2$ + $6x_3$ = 30\n",
        ">\n",
        "> $-x_1$ $-2x_2$ + $3x_3$ = 8\n",
        "\n",
        "\n",
        "--> AX = B 형식으로\n",
        "\n"
      ]
    },
    {
      "cell_type": "code",
      "execution_count": null,
      "metadata": {
        "id": "elX0sCrpfdQ3"
      },
      "outputs": [],
      "source": [
        "# 방정식 구하기 ( 3원 1차)\n",
        "A = np.array (\n",
        "              [  [ 1 , 0 , 2 ], \n",
        "                [-3 , 4 , 6 ],\n",
        "                [-1 , -2 , 3 ]\n",
        "              ]\n",
        "              )\n",
        "\n",
        "B = np.array (  [ 6 , 30 , 8 ] )\n",
        "\n",
        "# 크래머 법칙으로 방정식 구하기 \n",
        "X = np.linalg.solve(A, B)\n",
        "\n",
        "print( X.round(2) )\n"
      ]
    },
    {
      "cell_type": "markdown",
      "metadata": {
        "id": "dPAV5GY1oUJe"
      },
      "source": [
        "----\n",
        "# 시각화"
      ]
    },
    {
      "cell_type": "markdown",
      "metadata": {
        "id": "eNbz9eoYg4xR"
      },
      "source": [
        "## 벡터 시각화"
      ]
    },
    {
      "cell_type": "code",
      "execution_count": 24,
      "metadata": {
        "id": "V76_BhjPg2gH"
      },
      "outputs": [
        {
          "data": {
            "image/png": "[encoded data removed]",
            "text/plain": [
              "<Figure size 432x288 with 1 Axes>"
            ]
          },
          "metadata": {
            "needs_background": "light"
          },
          "output_type": "display_data"
        }
      ],
      "source": [
        "# 파이썬으로 벡터 나타내기 \n",
        "\n",
        "import matplotlib.pyplot as plt\n",
        "import numpy as np\n",
        "\n",
        "# 값 지정\n",
        "v1 = [2, 1]\n",
        "v2 = [-3, 2]\n",
        "v3 = [1, -1]\n",
        "\n",
        "\n",
        "# 그래프 제목\n",
        "plt.title('Vector example1')\n",
        "\n",
        "# 그래프 표시 범위 지정\n",
        "plt.xlim(-7, 7)          \n",
        "plt.ylim(-4, 4)\n",
        "\n",
        "# 그래프 표시 축 값 지정\n",
        "plt.xticks(np.arange(-4, 4))\n",
        "plt.yticks(np.arange(-2, 4))\n",
        "\n",
        "\n",
        "\n",
        "# X 축 , Y축\n",
        "plt.axhline(0, 0, 1, color='lightgray', linestyle='--', linewidth=1)  # x 축\n",
        "plt.axvline(0, 0, 1, color='lightgray', linestyle='--', linewidth=1)  # y 축\n",
        "\n",
        "\n",
        "# 화살표 표시\n",
        "plt.arrow(0, 0, v1[0], v1[1], head_width=0.1, color='#790D90')\n",
        "plt.text(2.2, 1.1, 'v1')\n",
        "\n",
        "plt.arrow(0, 0, v2[0], v2[1], head_width=0.1, color='#0E6A88')\n",
        "plt.text(-3.3, 2.2, 'v2')\n",
        "\n",
        "plt.arrow(0, 0, v3[0], v3[1], head_width=0.1, color='#DAB00F')\n",
        "plt.text(1.2, -1.2, 'v3')\n",
        "\n",
        "\n",
        "plt.show()"
      ]
    },
    {
      "cell_type": "code",
      "execution_count": null,
      "metadata": {
        "id": "iq41k0aog1P7"
      },
      "outputs": [],
      "source": [
        "# "
      ]
    },
    {
      "cell_type": "markdown",
      "metadata": {
        "id": "rS-Tr2tbGUed"
      },
      "source": [
        "# 피봇 \n",
        "\n"
      ]
    },
    {
      "cell_type": "code",
      "execution_count": 25,
      "metadata": {
        "id": "BJGLRRF7GXcS"
      },
      "outputs": [
        {
          "data": {
            "text/html": [
              "<div>\n",
              "<style scoped>\n",
              "    .dataframe tbody tr th:only-of-type {\n",
              "        vertical-align: middle;\n",
              "    }\n",
              "\n",
              "    .dataframe tbody tr th {\n",
              "        vertical-align: top;\n",
              "    }\n",
              "\n",
              "    .dataframe thead th {\n",
              "        text-align: right;\n",
              "    }\n",
              "</style>\n",
              "<table border=\"1\" class=\"dataframe\">\n",
              "  <thead>\n",
              "    <tr style=\"text-align: right;\">\n",
              "      <th></th>\n",
              "      <th>year</th>\n",
              "      <th>month</th>\n",
              "      <th>passengers</th>\n",
              "    </tr>\n",
              "  </thead>\n",
              "  <tbody>\n",
              "    <tr>\n",
              "      <th>0</th>\n",
              "      <td>1949</td>\n",
              "      <td>Jan</td>\n",
              "      <td>112</td>\n",
              "    </tr>\n",
              "    <tr>\n",
              "      <th>1</th>\n",
              "      <td>1949</td>\n",
              "      <td>Feb</td>\n",
              "      <td>118</td>\n",
              "    </tr>\n",
              "    <tr>\n",
              "      <th>2</th>\n",
              "      <td>1949</td>\n",
              "      <td>Mar</td>\n",
              "      <td>132</td>\n",
              "    </tr>\n",
              "    <tr>\n",
              "      <th>3</th>\n",
              "      <td>1949</td>\n",
              "      <td>Apr</td>\n",
              "      <td>129</td>\n",
              "    </tr>\n",
              "    <tr>\n",
              "      <th>4</th>\n",
              "      <td>1949</td>\n",
              "      <td>May</td>\n",
              "      <td>121</td>\n",
              "    </tr>\n",
              "  </tbody>\n",
              "</table>\n",
              "</div>"
            ],
            "text/plain": [
              "   year month  passengers\n",
              "0  1949   Jan         112\n",
              "1  1949   Feb         118\n",
              "2  1949   Mar         132\n",
              "3  1949   Apr         129\n",
              "4  1949   May         121"
            ]
          },
          "metadata": {},
          "output_type": "display_data"
        },
        {
          "data": {
            "text/html": [
              "<div>\n",
              "<style scoped>\n",
              "    .dataframe tbody tr th:only-of-type {\n",
              "        vertical-align: middle;\n",
              "    }\n",
              "\n",
              "    .dataframe tbody tr th {\n",
              "        vertical-align: top;\n",
              "    }\n",
              "\n",
              "    .dataframe thead th {\n",
              "        text-align: right;\n",
              "    }\n",
              "</style>\n",
              "<table border=\"1\" class=\"dataframe\">\n",
              "  <thead>\n",
              "    <tr style=\"text-align: right;\">\n",
              "      <th>year</th>\n",
              "      <th>1949</th>\n",
              "      <th>1950</th>\n",
              "      <th>1951</th>\n",
              "      <th>1952</th>\n",
              "      <th>1953</th>\n",
              "      <th>1954</th>\n",
              "      <th>1955</th>\n",
              "      <th>1956</th>\n",
              "      <th>1957</th>\n",
              "      <th>1958</th>\n",
              "      <th>1959</th>\n",
              "      <th>1960</th>\n",
              "    </tr>\n",
              "    <tr>\n",
              "      <th>month</th>\n",
              "      <th></th>\n",
              "      <th></th>\n",
              "      <th></th>\n",
              "      <th></th>\n",
              "      <th></th>\n",
              "      <th></th>\n",
              "      <th></th>\n",
              "      <th></th>\n",
              "      <th></th>\n",
              "      <th></th>\n",
              "      <th></th>\n",
              "      <th></th>\n",
              "    </tr>\n",
              "  </thead>\n",
              "  <tbody>\n",
              "    <tr>\n",
              "      <th>Jan</th>\n",
              "      <td>112</td>\n",
              "      <td>115</td>\n",
              "      <td>145</td>\n",
              "      <td>171</td>\n",
              "      <td>196</td>\n",
              "      <td>204</td>\n",
              "      <td>242</td>\n",
              "      <td>284</td>\n",
              "      <td>315</td>\n",
              "      <td>340</td>\n",
              "      <td>360</td>\n",
              "      <td>417</td>\n",
              "    </tr>\n",
              "    <tr>\n",
              "      <th>Feb</th>\n",
              "      <td>118</td>\n",
              "      <td>126</td>\n",
              "      <td>150</td>\n",
              "      <td>180</td>\n",
              "      <td>196</td>\n",
              "      <td>188</td>\n",
              "      <td>233</td>\n",
              "      <td>277</td>\n",
              "      <td>301</td>\n",
              "      <td>318</td>\n",
              "      <td>342</td>\n",
              "      <td>391</td>\n",
              "    </tr>\n",
              "    <tr>\n",
              "      <th>Mar</th>\n",
              "      <td>132</td>\n",
              "      <td>141</td>\n",
              "      <td>178</td>\n",
              "      <td>193</td>\n",
              "      <td>236</td>\n",
              "      <td>235</td>\n",
              "      <td>267</td>\n",
              "      <td>317</td>\n",
              "      <td>356</td>\n",
              "      <td>362</td>\n",
              "      <td>406</td>\n",
              "      <td>419</td>\n",
              "    </tr>\n",
              "    <tr>\n",
              "      <th>Apr</th>\n",
              "      <td>129</td>\n",
              "      <td>135</td>\n",
              "      <td>163</td>\n",
              "      <td>181</td>\n",
              "      <td>235</td>\n",
              "      <td>227</td>\n",
              "      <td>269</td>\n",
              "      <td>313</td>\n",
              "      <td>348</td>\n",
              "      <td>348</td>\n",
              "      <td>396</td>\n",
              "      <td>461</td>\n",
              "    </tr>\n",
              "    <tr>\n",
              "      <th>May</th>\n",
              "      <td>121</td>\n",
              "      <td>125</td>\n",
              "      <td>172</td>\n",
              "      <td>183</td>\n",
              "      <td>229</td>\n",
              "      <td>234</td>\n",
              "      <td>270</td>\n",
              "      <td>318</td>\n",
              "      <td>355</td>\n",
              "      <td>363</td>\n",
              "      <td>420</td>\n",
              "      <td>472</td>\n",
              "    </tr>\n",
              "    <tr>\n",
              "      <th>Jun</th>\n",
              "      <td>135</td>\n",
              "      <td>149</td>\n",
              "      <td>178</td>\n",
              "      <td>218</td>\n",
              "      <td>243</td>\n",
              "      <td>264</td>\n",
              "      <td>315</td>\n",
              "      <td>374</td>\n",
              "      <td>422</td>\n",
              "      <td>435</td>\n",
              "      <td>472</td>\n",
              "      <td>535</td>\n",
              "    </tr>\n",
              "    <tr>\n",
              "      <th>Jul</th>\n",
              "      <td>148</td>\n",
              "      <td>170</td>\n",
              "      <td>199</td>\n",
              "      <td>230</td>\n",
              "      <td>264</td>\n",
              "      <td>302</td>\n",
              "      <td>364</td>\n",
              "      <td>413</td>\n",
              "      <td>465</td>\n",
              "      <td>491</td>\n",
              "      <td>548</td>\n",
              "      <td>622</td>\n",
              "    </tr>\n",
              "    <tr>\n",
              "      <th>Aug</th>\n",
              "      <td>148</td>\n",
              "      <td>170</td>\n",
              "      <td>199</td>\n",
              "      <td>242</td>\n",
              "      <td>272</td>\n",
              "      <td>293</td>\n",
              "      <td>347</td>\n",
              "      <td>405</td>\n",
              "      <td>467</td>\n",
              "      <td>505</td>\n",
              "      <td>559</td>\n",
              "      <td>606</td>\n",
              "    </tr>\n",
              "    <tr>\n",
              "      <th>Sep</th>\n",
              "      <td>136</td>\n",
              "      <td>158</td>\n",
              "      <td>184</td>\n",
              "      <td>209</td>\n",
              "      <td>237</td>\n",
              "      <td>259</td>\n",
              "      <td>312</td>\n",
              "      <td>355</td>\n",
              "      <td>404</td>\n",
              "      <td>404</td>\n",
              "      <td>463</td>\n",
              "      <td>508</td>\n",
              "    </tr>\n",
              "    <tr>\n",
              "      <th>Oct</th>\n",
              "      <td>119</td>\n",
              "      <td>133</td>\n",
              "      <td>162</td>\n",
              "      <td>191</td>\n",
              "      <td>211</td>\n",
              "      <td>229</td>\n",
              "      <td>274</td>\n",
              "      <td>306</td>\n",
              "      <td>347</td>\n",
              "      <td>359</td>\n",
              "      <td>407</td>\n",
              "      <td>461</td>\n",
              "    </tr>\n",
              "    <tr>\n",
              "      <th>Nov</th>\n",
              "      <td>104</td>\n",
              "      <td>114</td>\n",
              "      <td>146</td>\n",
              "      <td>172</td>\n",
              "      <td>180</td>\n",
              "      <td>203</td>\n",
              "      <td>237</td>\n",
              "      <td>271</td>\n",
              "      <td>305</td>\n",
              "      <td>310</td>\n",
              "      <td>362</td>\n",
              "      <td>390</td>\n",
              "    </tr>\n",
              "    <tr>\n",
              "      <th>Dec</th>\n",
              "      <td>118</td>\n",
              "      <td>140</td>\n",
              "      <td>166</td>\n",
              "      <td>194</td>\n",
              "      <td>201</td>\n",
              "      <td>229</td>\n",
              "      <td>278</td>\n",
              "      <td>306</td>\n",
              "      <td>336</td>\n",
              "      <td>337</td>\n",
              "      <td>405</td>\n",
              "      <td>432</td>\n",
              "    </tr>\n",
              "  </tbody>\n",
              "</table>\n",
              "</div>"
            ],
            "text/plain": [
              "year   1949  1950  1951  1952  1953  1954  1955  1956  1957  1958  1959  1960\n",
              "month                                                                        \n",
              "Jan     112   115   145   171   196   204   242   284   315   340   360   417\n",
              "Feb     118   126   150   180   196   188   233   277   301   318   342   391\n",
              "Mar     132   141   178   193   236   235   267   317   356   362   406   419\n",
              "Apr     129   135   163   181   235   227   269   313   348   348   396   461\n",
              "May     121   125   172   183   229   234   270   318   355   363   420   472\n",
              "Jun     135   149   178   218   243   264   315   374   422   435   472   535\n",
              "Jul     148   170   199   230   264   302   364   413   465   491   548   622\n",
              "Aug     148   170   199   242   272   293   347   405   467   505   559   606\n",
              "Sep     136   158   184   209   237   259   312   355   404   404   463   508\n",
              "Oct     119   133   162   191   211   229   274   306   347   359   407   461\n",
              "Nov     104   114   146   172   180   203   237   271   305   310   362   390\n",
              "Dec     118   140   166   194   201   229   278   306   336   337   405   432"
            ]
          },
          "metadata": {},
          "output_type": "display_data"
        },
        {
          "data": {
            "text/html": [
              "<div>\n",
              "<style scoped>\n",
              "    .dataframe tbody tr th:only-of-type {\n",
              "        vertical-align: middle;\n",
              "    }\n",
              "\n",
              "    .dataframe tbody tr th {\n",
              "        vertical-align: top;\n",
              "    }\n",
              "\n",
              "    .dataframe thead th {\n",
              "        text-align: right;\n",
              "    }\n",
              "</style>\n",
              "<table border=\"1\" class=\"dataframe\">\n",
              "  <thead>\n",
              "    <tr style=\"text-align: right;\">\n",
              "      <th>year</th>\n",
              "      <th>1949</th>\n",
              "      <th>1950</th>\n",
              "      <th>1951</th>\n",
              "      <th>1952</th>\n",
              "      <th>1953</th>\n",
              "      <th>1954</th>\n",
              "      <th>1955</th>\n",
              "      <th>1956</th>\n",
              "      <th>1957</th>\n",
              "      <th>1958</th>\n",
              "      <th>1959</th>\n",
              "      <th>1960</th>\n",
              "    </tr>\n",
              "    <tr>\n",
              "      <th>year</th>\n",
              "      <th></th>\n",
              "      <th></th>\n",
              "      <th></th>\n",
              "      <th></th>\n",
              "      <th></th>\n",
              "      <th></th>\n",
              "      <th></th>\n",
              "      <th></th>\n",
              "      <th></th>\n",
              "      <th></th>\n",
              "      <th></th>\n",
              "      <th></th>\n",
              "    </tr>\n",
              "  </thead>\n",
              "  <tbody>\n",
              "    <tr>\n",
              "      <th>1949</th>\n",
              "      <td>1.000000</td>\n",
              "      <td>0.949435</td>\n",
              "      <td>0.944994</td>\n",
              "      <td>0.905623</td>\n",
              "      <td>0.970144</td>\n",
              "      <td>0.911553</td>\n",
              "      <td>0.908190</td>\n",
              "      <td>0.940419</td>\n",
              "      <td>0.933350</td>\n",
              "      <td>0.912513</td>\n",
              "      <td>0.901456</td>\n",
              "      <td>0.887272</td>\n",
              "    </tr>\n",
              "    <tr>\n",
              "      <th>1950</th>\n",
              "      <td>0.949435</td>\n",
              "      <td>1.000000</td>\n",
              "      <td>0.946923</td>\n",
              "      <td>0.957062</td>\n",
              "      <td>0.880477</td>\n",
              "      <td>0.930967</td>\n",
              "      <td>0.949866</td>\n",
              "      <td>0.938707</td>\n",
              "      <td>0.934320</td>\n",
              "      <td>0.904400</td>\n",
              "      <td>0.927191</td>\n",
              "      <td>0.887417</td>\n",
              "    </tr>\n",
              "    <tr>\n",
              "      <th>1951</th>\n",
              "      <td>0.944994</td>\n",
              "      <td>0.946923</td>\n",
              "      <td>1.000000</td>\n",
              "      <td>0.923131</td>\n",
              "      <td>0.939609</td>\n",
              "      <td>0.959165</td>\n",
              "      <td>0.939515</td>\n",
              "      <td>0.946961</td>\n",
              "      <td>0.946232</td>\n",
              "      <td>0.911054</td>\n",
              "      <td>0.947280</td>\n",
              "      <td>0.894268</td>\n",
              "    </tr>\n",
              "    <tr>\n",
              "      <th>1952</th>\n",
              "      <td>0.905623</td>\n",
              "      <td>0.957062</td>\n",
              "      <td>0.923131</td>\n",
              "      <td>1.000000</td>\n",
              "      <td>0.861005</td>\n",
              "      <td>0.942879</td>\n",
              "      <td>0.956044</td>\n",
              "      <td>0.960854</td>\n",
              "      <td>0.963146</td>\n",
              "      <td>0.960107</td>\n",
              "      <td>0.962860</td>\n",
              "      <td>0.925008</td>\n",
              "    </tr>\n",
              "    <tr>\n",
              "      <th>1953</th>\n",
              "      <td>0.970144</td>\n",
              "      <td>0.880477</td>\n",
              "      <td>0.939609</td>\n",
              "      <td>0.861005</td>\n",
              "      <td>1.000000</td>\n",
              "      <td>0.913945</td>\n",
              "      <td>0.884986</td>\n",
              "      <td>0.929524</td>\n",
              "      <td>0.928578</td>\n",
              "      <td>0.907120</td>\n",
              "      <td>0.902622</td>\n",
              "      <td>0.894288</td>\n",
              "    </tr>\n",
              "    <tr>\n",
              "      <th>1954</th>\n",
              "      <td>0.911553</td>\n",
              "      <td>0.930967</td>\n",
              "      <td>0.959165</td>\n",
              "      <td>0.942879</td>\n",
              "      <td>0.913945</td>\n",
              "      <td>1.000000</td>\n",
              "      <td>0.989433</td>\n",
              "      <td>0.984947</td>\n",
              "      <td>0.986983</td>\n",
              "      <td>0.962541</td>\n",
              "      <td>0.988882</td>\n",
              "      <td>0.965944</td>\n",
              "    </tr>\n",
              "    <tr>\n",
              "      <th>1955</th>\n",
              "      <td>0.908190</td>\n",
              "      <td>0.949866</td>\n",
              "      <td>0.939515</td>\n",
              "      <td>0.956044</td>\n",
              "      <td>0.884986</td>\n",
              "      <td>0.989433</td>\n",
              "      <td>1.000000</td>\n",
              "      <td>0.985527</td>\n",
              "      <td>0.982708</td>\n",
              "      <td>0.961328</td>\n",
              "      <td>0.984109</td>\n",
              "      <td>0.974451</td>\n",
              "    </tr>\n",
              "    <tr>\n",
              "      <th>1956</th>\n",
              "      <td>0.940419</td>\n",
              "      <td>0.938707</td>\n",
              "      <td>0.946961</td>\n",
              "      <td>0.960854</td>\n",
              "      <td>0.929524</td>\n",
              "      <td>0.984947</td>\n",
              "      <td>0.985527</td>\n",
              "      <td>1.000000</td>\n",
              "      <td>0.997125</td>\n",
              "      <td>0.983194</td>\n",
              "      <td>0.983704</td>\n",
              "      <td>0.977851</td>\n",
              "    </tr>\n",
              "    <tr>\n",
              "      <th>1957</th>\n",
              "      <td>0.933350</td>\n",
              "      <td>0.934320</td>\n",
              "      <td>0.946232</td>\n",
              "      <td>0.963146</td>\n",
              "      <td>0.928578</td>\n",
              "      <td>0.986983</td>\n",
              "      <td>0.982708</td>\n",
              "      <td>0.997125</td>\n",
              "      <td>1.000000</td>\n",
              "      <td>0.986762</td>\n",
              "      <td>0.988408</td>\n",
              "      <td>0.977076</td>\n",
              "    </tr>\n",
              "    <tr>\n",
              "      <th>1958</th>\n",
              "      <td>0.912513</td>\n",
              "      <td>0.904400</td>\n",
              "      <td>0.911054</td>\n",
              "      <td>0.960107</td>\n",
              "      <td>0.907120</td>\n",
              "      <td>0.962541</td>\n",
              "      <td>0.961328</td>\n",
              "      <td>0.983194</td>\n",
              "      <td>0.986762</td>\n",
              "      <td>1.000000</td>\n",
              "      <td>0.980656</td>\n",
              "      <td>0.976757</td>\n",
              "    </tr>\n",
              "    <tr>\n",
              "      <th>1959</th>\n",
              "      <td>0.901456</td>\n",
              "      <td>0.927191</td>\n",
              "      <td>0.947280</td>\n",
              "      <td>0.962860</td>\n",
              "      <td>0.902622</td>\n",
              "      <td>0.988882</td>\n",
              "      <td>0.984109</td>\n",
              "      <td>0.983704</td>\n",
              "      <td>0.988408</td>\n",
              "      <td>0.980656</td>\n",
              "      <td>1.000000</td>\n",
              "      <td>0.977292</td>\n",
              "    </tr>\n",
              "    <tr>\n",
              "      <th>1960</th>\n",
              "      <td>0.887272</td>\n",
              "      <td>0.887417</td>\n",
              "      <td>0.894268</td>\n",
              "      <td>0.925008</td>\n",
              "      <td>0.894288</td>\n",
              "      <td>0.965944</td>\n",
              "      <td>0.974451</td>\n",
              "      <td>0.977851</td>\n",
              "      <td>0.977076</td>\n",
              "      <td>0.976757</td>\n",
              "      <td>0.977292</td>\n",
              "      <td>1.000000</td>\n",
              "    </tr>\n",
              "  </tbody>\n",
              "</table>\n",
              "</div>"
            ],
            "text/plain": [
              "year      1949      1950      1951      1952      1953      1954      1955  \\\n",
              "year                                                                         \n",
              "1949  1.000000  0.949435  0.944994  0.905623  0.970144  0.911553  0.908190   \n",
              "1950  0.949435  1.000000  0.946923  0.957062  0.880477  0.930967  0.949866   \n",
              "1951  0.944994  0.946923  1.000000  0.923131  0.939609  0.959165  0.939515   \n",
              "1952  0.905623  0.957062  0.923131  1.000000  0.861005  0.942879  0.956044   \n",
              "1953  0.970144  0.880477  0.939609  0.861005  1.000000  0.913945  0.884986   \n",
              "1954  0.911553  0.930967  0.959165  0.942879  0.913945  1.000000  0.989433   \n",
              "1955  0.908190  0.949866  0.939515  0.956044  0.884986  0.989433  1.000000   \n",
              "1956  0.940419  0.938707  0.946961  0.960854  0.929524  0.984947  0.985527   \n",
              "1957  0.933350  0.934320  0.946232  0.963146  0.928578  0.986983  0.982708   \n",
              "1958  0.912513  0.904400  0.911054  0.960107  0.907120  0.962541  0.961328   \n",
              "1959  0.901456  0.927191  0.947280  0.962860  0.902622  0.988882  0.984109   \n",
              "1960  0.887272  0.887417  0.894268  0.925008  0.894288  0.965944  0.974451   \n",
              "\n",
              "year      1956      1957      1958      1959      1960  \n",
              "year                                                    \n",
              "1949  0.940419  0.933350  0.912513  0.901456  0.887272  \n",
              "1950  0.938707  0.934320  0.904400  0.927191  0.887417  \n",
              "1951  0.946961  0.946232  0.911054  0.947280  0.894268  \n",
              "1952  0.960854  0.963146  0.960107  0.962860  0.925008  \n",
              "1953  0.929524  0.928578  0.907120  0.902622  0.894288  \n",
              "1954  0.984947  0.986983  0.962541  0.988882  0.965944  \n",
              "1955  0.985527  0.982708  0.961328  0.984109  0.974451  \n",
              "1956  1.000000  0.997125  0.983194  0.983704  0.977851  \n",
              "1957  0.997125  1.000000  0.986762  0.988408  0.977076  \n",
              "1958  0.983194  0.986762  1.000000  0.980656  0.976757  \n",
              "1959  0.983704  0.988408  0.980656  1.000000  0.977292  \n",
              "1960  0.977851  0.977076  0.976757  0.977292  1.000000  "
            ]
          },
          "metadata": {},
          "output_type": "display_data"
        },
        {
          "data": {
            "image/png": "[encoded data removed]",
            "text/plain": [
              "<Figure size 1080x576 with 2 Axes>"
            ]
          },
          "metadata": {},
          "output_type": "display_data"
        }
      ],
      "source": [
        "import seaborn as sns\n",
        "\n",
        "# seaborn의 내장 데이터셋 - 연도별 월별 승객 수 \n",
        "flights = sns.load_dataset('flights')\n",
        "display ( flights.head() )\n",
        "\n",
        "\n",
        "# PIVOT\n",
        "# 월별 연도별 승객수를 집계한 피벗 테이블(pivot table)\n",
        "df = flights.pivot('month', 'year', 'passengers')\n",
        "display ( df )\n",
        "\n",
        "\n",
        "# 연도별 상관계수 \n",
        "df_corr = df.corr()\n",
        "display( df_corr )\n",
        "\n",
        "# Heat Map 그리기\n",
        "sns.set(rc = {'figure.figsize':(15,8)})\n",
        "sns.heatmap(df_corr, annot=True)\n",
        "plt.title('Annoteat cell with numeric value', fontsize=20)\n",
        "plt.show()"
      ]
    },
    {
      "cell_type": "code",
      "execution_count": null,
      "metadata": {},
      "outputs": [],
      "source": []
    }
  ],
  "metadata": {
    "colab": {
      "authorship_tag": "ABX9TyPDFAxHjYNwQZUm9bY4kU1D",
      "include_colab_link": true,
      "name": "Untitled0.ipynb",
      "private_outputs": true,
      "provenance": []
    },
    "kernelspec": {
      "display_name": "Python 3.9.12 ('base')",
      "language": "python",
      "name": "python3"
    },
    "language_info": {
      "codemirror_mode": {
        "name": "ipython",
        "version": 3
      },
      "file_extension": ".py",
      "mimetype": "text/x-python",
      "name": "python",
      "nbconvert_exporter": "python",
      "pygments_lexer": "ipython3",
      "version": "3.9.12"
    },
    "vscode": {
      "interpreter": {
        "hash": "cca240df8b4cc966d527f5e5f91069ba19ec750ec1338ff7cbac995a358e55d1"
      }
    }
  },
  "nbformat": 4,
  "nbformat_minor": 0
}
