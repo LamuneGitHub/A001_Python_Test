{
  "nbformat": 4,
  "nbformat_minor": 0,
  "metadata": {
    "colab": {
      "name": "Untitled0.ipynb",
      "private_outputs": true,
      "provenance": [],
      "authorship_tag": "ABX9TyNhP+aiWDkc7wNdDiairyOz",
      "include_colab_link": true
    },
    "kernelspec": {
      "name": "python3",
      "display_name": "Python 3"
    },
    "language_info": {
      "name": "python"
    }
  },
  "cells": [
    {
      "cell_type": "markdown",
      "metadata": {
        "id": "view-in-github",
        "colab_type": "text"
      },
      "source": [
        "<a href=\"https://colab.research.google.com/github/LamuneGitHub/A001_Python_Test/blob/main/S13%EC%84%A0%ED%98%95%EB%8C%80%EC%88%98.ipynb\" target=\"_parent\"><img src=\"https://colab.research.google.com/assets/colab-badge.svg\" alt=\"Open In Colab\"/></a>"
      ]
    },
    {
      "cell_type": "code",
      "execution_count": null,
      "metadata": {
        "id": "gieERdUkQfy0"
      },
      "outputs": [],
      "source": [
        "from IPython.display import display\n",
        "\n",
        "import re\n",
        "import math\n",
        "import pandas as pd\n",
        "import numpy as np\n",
        "import matplotlib as mpl\n",
        "import matplotlib.pyplot as plt\n",
        "import seaborn as sns"
      ]
    },
    {
      "cell_type": "markdown",
      "source": [
        "nd_array 합치기\n",
        "https://engineer-mole.tistory.com/234\n",
        "\n"
      ],
      "metadata": {
        "id": "62_AtP_0afeU"
      }
    },
    {
      "cell_type": "markdown",
      "source": [
        "벡터 곱 연산 .dot\n"
      ],
      "metadata": {
        "id": "kWZ-PVqwYSVl"
      }
    },
    {
      "cell_type": "code",
      "source": [
        "price = np.array([100, 500, 250, 50])\n",
        "X = np.array([35, 10, 25, 40])\n",
        "Y = np.array([0, 50, 50, 0])\n",
        "Z = np.array([0, 0, 100, 0])\n",
        "\n",
        "# case 01 : np.dot\n",
        "res1 = [np.dot(price, person) for person in (X, Y, Z)]\n",
        "print ( res1 )\n",
        "\n",
        "# case 02 : matmul , nd_array 합치기 ( 수직 )\n",
        "amount =  np.vstack( [X, Y, Z] )\n",
        "print( amount)\n",
        "res1 = np.matmul(amount, price)\n",
        "print ( res1 )\n",
        "\n",
        "# case 03 : @ 연산자\n",
        "res1 = amount @ price\n",
        "print ( res1 )\n",
        "\n"
      ],
      "metadata": {
        "id": "clCSMVn3YZCY"
      },
      "execution_count": null,
      "outputs": []
    }
  ]
}