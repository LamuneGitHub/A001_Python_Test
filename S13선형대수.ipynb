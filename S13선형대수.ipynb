{
  "nbformat": 4,
  "nbformat_minor": 0,
  "metadata": {
    "colab": {
      "name": "Untitled0.ipynb",
      "private_outputs": true,
      "provenance": [],
      "authorship_tag": "ABX9TyOyfmqxelefbgetZnhmqP3+",
      "include_colab_link": true
    },
    "kernelspec": {
      "name": "python3",
      "display_name": "Python 3"
    },
    "language_info": {
      "name": "python"
    }
  },
  "cells": [
    {
      "cell_type": "markdown",
      "metadata": {
        "id": "view-in-github",
        "colab_type": "text"
      },
      "source": [
        "<a href=\"https://colab.research.google.com/github/LamuneGitHub/A001_Python_Test/blob/main/S13%EC%84%A0%ED%98%95%EB%8C%80%EC%88%98.ipynb\" target=\"_parent\"><img src=\"https://colab.research.google.com/assets/colab-badge.svg\" alt=\"Open In Colab\"/></a>"
      ]
    },
    {
      "cell_type": "code",
      "execution_count": null,
      "metadata": {
        "id": "gieERdUkQfy0"
      },
      "outputs": [],
      "source": [
        "from IPython.display import display\n",
        "\n",
        "import re\n",
        "import math\n",
        "import pandas as pd\n",
        "import numpy as np\n",
        "import matplotlib as mpl\n",
        "import matplotlib.pyplot as plt\n",
        "import seaborn as sns\n",
        "\n",
        "# 줄 구분 표시 출력 \n",
        "def print_line() :\n",
        "  print (\"\\n------------------------------------------------\")\n",
        "def print_line_m() :\n",
        "  print (\"\\n-----------------------\")\n",
        "def print_line_s() :\n",
        "  print (\"\\n----------\")\n"
      ]
    },
    {
      "cell_type": "markdown",
      "source": [
        "# 기타\n"
      ],
      "metadata": {
        "id": "c2NIjWgYbiv1"
      }
    },
    {
      "cell_type": "code",
      "source": [
        "# 절대값 \n",
        "print ( abs(-100 ))\n",
        "\n",
        "# nd_array 만들기\n",
        "array_1d = np.array([1,2,3,4,5])\n",
        "array_2d = np.array( \n",
        "                    [\n",
        "                      [1,2,3,4,5],\n",
        "                      [2,4,6,8,10]\n",
        "                    ]\n",
        "                    )\n",
        "print( array_1d )\n",
        "print( array_2d )"
      ],
      "metadata": {
        "id": "GOKpdj5hbpeJ"
      },
      "execution_count": null,
      "outputs": []
    },
    {
      "cell_type": "markdown",
      "source": [
        "# # Vector"
      ],
      "metadata": {
        "id": "NyAvbb1Imyms"
      }
    },
    {
      "cell_type": "markdown",
      "source": [
        "## nd_array 합치기  \n",
        "https://engineer-mole.tistory.com/234\n",
        "\n"
      ],
      "metadata": {
        "id": "62_AtP_0afeU"
      }
    },
    {
      "cell_type": "code",
      "source": [
        "X = np.array([35, 10, 25, 40])\n",
        "Y = np.array([0, 50, 50, 0])\n",
        "Z = np.array([0, 0, 100, 0])\n",
        "\n",
        "# 수평 합치기\n",
        "arr_h = np.hstack( [X,Y,Z])\n",
        "print (arr_h)\n",
        "print_line()\n",
        "\n",
        "# 수직 합치기\n",
        "arr_v = np.vstack( [X,Y,Z])\n",
        "print (arr_v)\n",
        "print_line()\n",
        "\n",
        "# stack 합치기 ( 기본 수직 )\n",
        "arr_stack = np.stack( (X,Y,Z) )\n",
        "print (arr_stack)\n",
        "print_line()"
      ],
      "metadata": {
        "id": "vRxz6DICbNuo"
      },
      "execution_count": null,
      "outputs": []
    },
    {
      "cell_type": "markdown",
      "source": [
        "## array 정보 보기\n",
        "\n",
        "## Rank"
      ],
      "metadata": {
        "id": "vKi-JdvyfDft"
      }
    },
    {
      "cell_type": "code",
      "source": [
        "arr = arr_stack\n",
        "print( np.linalg.matrix_rank( arr ) )"
      ],
      "metadata": {
        "id": "ip7_qXjIfLyz"
      },
      "execution_count": null,
      "outputs": []
    },
    {
      "cell_type": "markdown",
      "source": [
        "## 백터 연산"
      ],
      "metadata": {
        "id": "XSB4XOwDh-jq"
      }
    },
    {
      "cell_type": "code",
      "source": [
        "# 벡터 연산 : 스칼라 곱 (실수배)\n",
        "print( X )\n",
        "print( X * -1 )\n",
        "print_line()\n",
        "\n",
        "u1 = [1, 0]\n",
        "u2 = np.multiply(3, u1)\n",
        "print( u1 )\n",
        "print( u2 )\n",
        "print_line()"
      ],
      "metadata": {
        "id": "dIHYjb0sho0A"
      },
      "execution_count": null,
      "outputs": []
    },
    {
      "cell_type": "markdown",
      "source": [
        "## 곱 연산 (벡터) \n",
        "* .dot\n",
        "* matmul\n",
        "* @"
      ],
      "metadata": {
        "id": "kWZ-PVqwYSVl"
      }
    },
    {
      "cell_type": "code",
      "source": [
        "price = np.array([100, 500, 250, 50])\n",
        "X = np.array([35, 10, 25, 40])\n",
        "Y = np.array([0, 50, 50, 0])\n",
        "Z = np.array([0, 0, 100, 0])\n",
        "\n",
        "# array 합치기\n",
        "amount =  np.vstack( [X, Y, Z] )\n",
        "print( amount)\n",
        "print_line()\n",
        "\n",
        "\n",
        "# case 01 : matmul \n",
        "res1 = np.matmul(amount, price)\n",
        "print ( res1 )\n",
        "print_line()\n",
        "\n",
        "# case 02 : @ 연산자\n",
        "res1 = amount @ price\n",
        "print ( res1 )\n",
        "print_line()\n",
        "\n",
        "# case 03 : np.dot 이용\n",
        "res1 = [np.dot(price, person) for person in (X, Y, Z)]\n",
        "print ( res1 )\n",
        "print_line()\n",
        "\n"
      ],
      "metadata": {
        "id": "clCSMVn3YZCY"
      },
      "execution_count": null,
      "outputs": []
    },
    {
      "cell_type": "markdown",
      "source": [
        "## 내적 값 (백터)\n",
        "Dot Product라고 합니다.\n",
        "두 벡터에 대해서 서로 대응하는 각각의 성분을 곱한 뒤 모두 합하여 구합니다. 이때 두 벡터의 차원이 같아야 합니다.\n",
        "\n",
        "벡터를 내적한 값은 스칼라입니다. \n",
        "> $v_1 = [a_1, a_2, a_3, \\cdots]$\n",
        ">\n",
        "> $v_2 = [b_1, b_2, b_3, \\cdots]$\n",
        ">\n",
        "> $v_1 \\cdot v_2 = a_1b_1 + a_2b_2 + a_3b_3 + \\cdots$  \n",
        "\n",
        "### * **백터의 내적이 0 이면 두 벡터는 서로 수직이다.**\\\n",
        "\n",
        "\n"
      ],
      "metadata": {
        "id": "a3bB9sHGiLwJ"
      }
    },
    {
      "cell_type": "code",
      "source": [
        "# case 01 : * 연산자 \n",
        "print ( X * Y )\n",
        "print ( f\"내적 : {(X * Y).sum()}\" )\n",
        "print_line()\n",
        "\n",
        "# case 02 : dot 연산자\n",
        "print ( f\"내적 : {np.dot(X,Y)}\" )\n",
        "print_line()"
      ],
      "metadata": {
        "id": "3go2x31-iPIX"
      },
      "execution_count": null,
      "outputs": []
    },
    {
      "cell_type": "markdown",
      "source": [
        "## 단위 벡터(Unit Vector)\n",
        "  * 길이가  1 인 벡터입니다.\n"
      ],
      "metadata": {
        "id": "xvGZGcMilTPW"
      }
    },
    {
      "cell_type": "markdown",
      "source": [
        "# # Matrix ( 행렬 )\n",
        "- 수 또는 변수를 ( ) 안에 행과 열로 배열한 것입니다.\n",
        "- 2차원 형태의 array 또는 list로 나타냅니다. \n",
        "- 행과 열의 개수는 **매트릭스의 차원**을 의미합니다. 이는 `.shape`을 통해 확인할 수 있습니다. \n",
        "- 두 매트릭스가 일치하려면 차원과 성분이 동일해야 합니다.\n",
        "> $\\begin{align}\n",
        "X = \n",
        "    \\begin{bmatrix}\n",
        "           1 & 2 & 3\\\\\n",
        "           4 & 5 & 6\\\\\n",
        "           7 & 8 & 9\n",
        "    \\end{bmatrix}\n",
        "    \\qquad\n",
        "    Y = \\begin{pmatrix}\n",
        "           1 & 2 & 3\\\\\n",
        "           4 & 5 & 6\n",
        "    \\end{pmatrix}\n",
        " \\end{align}$"
      ],
      "metadata": {
        "id": "sJfnTQVOly4k"
      }
    },
    {
      "cell_type": "code",
      "source": [
        "array_1d = np.array([1,2,3,4,5])\n",
        "array_2d = np.array( \n",
        "                    [\n",
        "                      [1,2,3,4,5],\n",
        "                      [2,4,6,8,10]\n",
        "                    ]\n",
        "                    )\n",
        "\n",
        "# 차원 확인\n",
        "\n",
        "# .ndim을 사용하여 배열의 차원 확인\n",
        "print ( array_1d.ndim )\n",
        "print ( array_2d.ndim )\n",
        "print_line()\n",
        "\n",
        "# .shape을 사용하여 벡터의 차원 확인\n",
        "print ( array_1d.shape ) \n",
        "print ( array_2d.shape ) \n",
        "print_line()\n"
      ],
      "metadata": {
        "id": "dBNLgbaVl3Ce"
      },
      "execution_count": null,
      "outputs": []
    },
    {
      "cell_type": "markdown",
      "source": [
        "## 행렬의 전치(Transpose)\n",
        "\n",
        "- 행과 열을 바꾸어 나타내는 것입니다.\n",
        "- 일반적으로 $A^T$로 표기합니다. \n",
        "- `.T` 또는 [`np.transpose()`](https://numpy.org/doc/stable/reference/generated/numpy.transpose.html)를 사용하여 구할 수 있습니다. \n",
        "- 전치의 전치는 자기 자신입니다.\n",
        "> $(A^T)^T=A$ "
      ],
      "metadata": {
        "id": "vmg4YPjOns6T"
      }
    },
    {
      "cell_type": "code",
      "source": [
        "print( array_2d )\n",
        "print_line()\n",
        "\n",
        "# case 01 \n",
        "print( array_2d.T )\n",
        "print_line()\n",
        "\n",
        "# case 02\n",
        "print( np.transpose (array_2d) )\n",
        "print_line()"
      ],
      "metadata": {
        "id": "oqF_mVmAnslD"
      },
      "execution_count": null,
      "outputs": []
    },
    {
      "cell_type": "markdown",
      "source": [
        "## 행렬곱(Matrix Multiplication)\n",
        "- 두 행렬에 대해서 앞 행렬의 열과 뒷 행렬의 행의 수가 같으면 행렬끼리 곱할 수 있습니다. \n",
        "- [`np.matmul()`](https://numpy.org/doc/stable/reference/generated/numpy.matmul.html)을 사용하여 구할 수 있습니다.\n",
        "- 행렬곱의 결과는 행렬입니다. \n",
        "- 두 행렬의 차원이 $m\\times l$, $l\\times n$이면 행렬곱으로 얻은 행렬의 차원은 $m\\times n$입니다. \n",
        "> <img src=\"https://i.imgur.com/x6ePoVz.png\" width=450> "
      ],
      "metadata": {
        "id": "03XdfW6rojpc"
      }
    },
    {
      "cell_type": "code",
      "source": [
        "mat_a = np.array([[1,2,3], [4,5,6]])\n",
        "mat_b = np.array([[1,-1,0,2],[0,1,2,-1],[2,3,-1,1]])\n",
        "\n",
        "np.matmul(mat_a, mat_b) # 2x3와 3x4의 행렬곱 결과는 2x4"
      ],
      "metadata": {
        "id": "WsEjQ9_uojEV"
      },
      "execution_count": null,
      "outputs": []
    },
    {
      "cell_type": "markdown",
      "source": [
        "## * 정사각 행렬(Square Matrix)\n",
        "행과 열의 수가 동일한 매트릭스입니다.\n",
        "\n",
        "\n",
        "\n",
        "## * 대각 행렬(Diagonal Matrix)\n",
        "주 대각선(principal diagonal)을 제외한 모든 성분이 $0$인 정사각 행렬입니다.\n",
        "> $D =\n",
        "\\begin{bmatrix}\n",
        "a_{1,1} & 0 & 0 \\\\\n",
        "0 & a_{2,2} & 0 \\\\\n",
        "0 & 0 & a_{3,3} \n",
        "\\end{bmatrix}$\n",
        "\n",
        "## * 단위 행렬(Identity Matrix)\n",
        "- 대각 행렬 중에서 주 대각선 성분이 모두 $1$인 매트릭스입니다. \n",
        "- [`np.identity()`](https://numpy.org/doc/stable/reference/generated/numpy.identity.html) 또는 [`np.eye()`](https://numpy.org/devdocs/reference/generated/numpy.eye.html)를 사용하여 나타낼 수 있습니다.\n",
        "> $I_1 =\n",
        "\\begin{bmatrix}\n",
        "  1\n",
        "\\end{bmatrix}\n",
        "\\qquad\n",
        "I_2 =\n",
        "\\begin{bmatrix}\n",
        "1 & 0 \\\\\n",
        "0 & 1\n",
        "\\end{bmatrix}\n",
        "\\qquad\n",
        "I_3 =\n",
        "\\begin{bmatrix}\n",
        "1 & 0 & 0 \\\\\n",
        "0 & 1 & 0 \\\\\n",
        "0 & 0 & 1 \n",
        "\\end{bmatrix}$\n",
        "- 임의의 정사각 행렬에 단위 행렬을 곱한 것은 자기 자신과 같습니다.\n",
        "> $AI=A$"
      ],
      "metadata": {
        "id": "w_qgpU-HtRgd"
      }
    },
    {
      "cell_type": "code",
      "source": [
        "# np.eye()를 사용하여 단위 행렬 생성\n",
        "print('1차원 단위 행렬 :\\n', np.eye(1, dtype=int), '\\n')\n",
        "print('2차원 단위 행렬 :\\n', np.eye(2, dtype=int), '\\n')\n",
        "print('3차원 단위 행렬 :\\n', np.eye(3, dtype=int))"
      ],
      "metadata": {
        "id": "WudNWddZtpND"
      },
      "execution_count": null,
      "outputs": []
    },
    {
      "cell_type": "markdown",
      "source": [
        "## 역행렬\n",
        "- 임의의 정사각 행렬에 대하여 곱했을 때 단위 행렬이 되도록 하는 행렬을 **역행렬(Inverse)**이라고 하며 $A^{-1}$과 같이 표기합니다. \n",
        "> $AA^{-1}=I$\n",
        "- 역행렬을 구하는 식은 다음과 같습니다.\n",
        "> $A^{-1} = {1 \\over ad-bc}\\begin{bmatrix}d & -b\\\\-c & a\\end{bmatrix} \\quad$ \n",
        "where $A = \\begin{bmatrix}a & b \\\\c & d\\end{bmatrix}$\n",
        "- [`np.linalg.inv()`](https://numpy.org/doc/stable/reference/generated/numpy.linalg.inv.html)를 사용하여 구할 수 있습니다.\n",
        "\n",
        "\n",
        "## 행렬식(Determinant)\n",
        "- 정사각 행렬 $A$에 대해서 det($A$) 또는 $|A|$로 표기합니다.\n",
        "- $2\\times2$ 행렬식은 다음과 같습니다.  \n",
        "> $|A| = ad-bc \\quad$ where $\\ A = \\begin{bmatrix} a & b \\\\ c & d \\end{bmatrix}$\n",
        "- $3\\times3$ 행렬식은 다음과 같습니다. \n",
        "> $|A| = a(ei-fh)-b(di-fg)+c(dh-eg) \\quad$ \n",
        "where $\\ A = \\begin{bmatrix} a & b &c \\\\ d & e & f \\\\ g & h & i \\end{bmatrix}$\n",
        "- 이와 같이 $n\\times n$ 행렬에 대한 행렬식을 구할 수 있습니다.\n",
        "- [`np.linalg.det()`](https://numpy.org/doc/stable/reference/generated/numpy.linalg.det.html)를 사용하여 구할 수 있습니다.  \n",
        "\n",
        "### * **행렬식이 0 이면 역행렬이 존재하지 않는다.**"
      ],
      "metadata": {
        "id": "VdVewNCLt77v"
      }
    },
    {
      "cell_type": "code",
      "source": [
        "mat_c = np.array([[8,12],[9,16]])\n",
        "print(f\"원본 {mat_c}\")\n",
        "\n",
        "# 역행렬\n",
        "inv = np.linalg.inv(mat_c)\n",
        "print( f\"역행렬 {inv}\" )\n",
        "\n",
        "# 행렬식\n",
        "det = np.linalg.det(mat_c)\n",
        "print( f\"행렬식 = ad - bc {det}\" )"
      ],
      "metadata": {
        "id": "5HfKYJhQuG3r"
      },
      "execution_count": null,
      "outputs": []
    },
    {
      "cell_type": "markdown",
      "source": [
        "### **선형 관계의 벡터(Linearly Dependent Vectors)**\n",
        "- 두 벡터가 같은 선상에 있는 경우, 이 벡터들은 선형 관계에 있다고 표현합니다.\n",
        "\n",
        "### **선형 관계가 없는 벡터(Linearly Independent Vectors)**\n",
        "- 같은 선상에 있지 않은 벡터들은 선형적으로 독립되어 있다고 표현합니다.\n",
        "- 선형 관계에 있지 않은 벡터들이 만들어내는 Span의 차원은 벡터의 수와 같습니다. \n",
        "\n",
        "## **Basis**\n",
        "- 벡터 공간 $V$의 basis는 $V$라는 공간을 채울 수 있는 선형 관계에 있지 않은 벡터들의 모음입니다. (span의 역개념)\n",
        "- 위의 그림에서 2개의 벡터(빨강, 파랑)는 벡터 공간 $\\mathbb{R}^2$(2차원 평면)의 basis입니다.\n",
        "\n",
        "## **Span**\n",
        "주어진 두 벡터의 조합으로 만들 수 있는 모든 가능한 벡터의 집합입니다. \n",
        "\n",
        "## **Rank**\n",
        "- 매트릭스의 열을 이루는 벡터들로 만들 수 있는 공간(span)의 차원입니다. \n",
        "- 행렬의 선형 독립인 행 또는 열의 최대 개수입니다. \n",
        "- 행 또는 열을 이루는 벡터들 중 선형 관계에 있는 경우 행렬의 차원과 다를 수 있습니다. \n",
        "- [`np.linalg.matrix_rank()`](https://numpy.org/doc/stable/reference/generated/numpy.linalg.matrix_rank.html)를 사용해 구할 수 있습니다. "
      ],
      "metadata": {
        "id": "5_cxYdr80Esk"
      }
    },
    {
      "cell_type": "code",
      "source": [
        "# 선형독립인 경우\n",
        "mat_a = np.array([[1,1],[3,4]])\n",
        "print ( np.linalg.matrix_rank(mat_a) )\n",
        "\n",
        "# 선형독립이 아닌 경우\n",
        "mat_b = np.array([[1,1],[3,3]])\n",
        "print ( np.linalg.matrix_rank(mat_b) )"
      ],
      "metadata": {
        "id": "5ay13alr0PL7"
      },
      "execution_count": null,
      "outputs": []
    },
    {
      "cell_type": "markdown",
      "source": [
        ""
      ],
      "metadata": {
        "id": "dlDOQ6_5z8pa"
      }
    },
    {
      "cell_type": "markdown",
      "source": [
        "-----"
      ],
      "metadata": {
        "id": "IC2zOVaaiKOE"
      }
    },
    {
      "cell_type": "markdown",
      "source": [
        "# Cramer's rule 이용해서 방정식 구하기\n",
        "\n",
        "> $x_1$ + $2x_3$ = 6\n",
        ">\n",
        "> $-3x_1$ + $4x_2$ + $6x_3$ = 30\n",
        ">\n",
        "> $-x_1$ $-2x_2$ + $3x_3$ = 8\n",
        "\n",
        "\n",
        "--> AX = B 형식으로\n",
        "\n"
      ],
      "metadata": {
        "id": "UT2Pdftrfd_m"
      }
    },
    {
      "cell_type": "code",
      "source": [
        "# 방정식 구하기 ( 3원 1차)\n",
        "A = np.array (\n",
        "              [  [ 1 , 0 , 2 ], \n",
        "                [-3 , 4 , 6 ],\n",
        "                [-1 , -2 , 3 ]\n",
        "              ]\n",
        "              )\n",
        "\n",
        "B = np.array (  [ 6 , 30 , 8 ] )\n",
        "\n",
        "# 크래머 법칙으로 방정식 구하기 \n",
        "X = np.linalg.solve(A, B)\n",
        "\n",
        "print( X.round(2) )\n"
      ],
      "metadata": {
        "id": "elX0sCrpfdQ3"
      },
      "execution_count": null,
      "outputs": []
    },
    {
      "cell_type": "markdown",
      "source": [
        "----\n",
        "# 시각화"
      ],
      "metadata": {
        "id": "dPAV5GY1oUJe"
      }
    },
    {
      "cell_type": "markdown",
      "source": [
        "## 벡터 시각화"
      ],
      "metadata": {
        "id": "eNbz9eoYg4xR"
      }
    },
    {
      "cell_type": "code",
      "source": [
        "# 파이썬으로 벡터 나타내기 \n",
        "\n",
        "import matplotlib.pyplot as plt\n",
        "import numpy as np\n",
        "\n",
        "# 값 지정\n",
        "v1 = [2, 1]\n",
        "v2 = [-3, 2]\n",
        "v3 = [1, -1]\n",
        "\n",
        "\n",
        "# 그래프 제목\n",
        "plt.title('Vector example1')\n",
        "\n",
        "# 그래프 표시 범위 지정\n",
        "plt.xlim(-7, 7)          \n",
        "plt.ylim(-4, 4)\n",
        "\n",
        "# 그래프 표시 축 값 지정\n",
        "plt.xticks(np.arange(-4, 4))\n",
        "plt.yticks(np.arange(-2, 4))\n",
        "\n",
        "\n",
        "\n",
        "# X 축 , Y축\n",
        "plt.axhline(0, 0, 1, color='lightgray', linestyle='--', linewidth=1)  # x 축\n",
        "plt.axvline(0, 0, 1, color='lightgray', linestyle='--', linewidth=1)  # y 축\n",
        "\n",
        "\n",
        "# 화살표 표시\n",
        "plt.arrow(0, 0, v1[0], v1[1], head_width=0.1, color='#790D90')\n",
        "plt.text(2.2, 1.1, 'v1')\n",
        "\n",
        "plt.arrow(0, 0, v2[0], v2[1], head_width=0.1, color='#0E6A88')\n",
        "plt.text(-3.3, 2.2, 'v2')\n",
        "\n",
        "plt.arrow(0, 0, v3[0], v3[1], head_width=0.1, color='#DAB00F')\n",
        "plt.text(1.2, -1.2, 'v3')\n",
        "\n",
        "\n",
        "plt.show()"
      ],
      "metadata": {
        "id": "V76_BhjPg2gH"
      },
      "execution_count": null,
      "outputs": []
    },
    {
      "cell_type": "code",
      "source": [
        "# "
      ],
      "metadata": {
        "id": "iq41k0aog1P7"
      },
      "execution_count": null,
      "outputs": []
    }
  ]
}