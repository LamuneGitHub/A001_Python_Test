{
 "cells": [
  {
   "cell_type": "code",
   "execution_count": null,
   "metadata": {},
   "outputs": [],
   "source": []
  }
 ],
 "metadata": {
  "kernelspec": {
   "display_name": "Python 3.9.13 ('day19')",
   "language": "python",
   "name": "python3"
  },
  "language_info": {
   "name": "python",
   "version": "3.9.13"
  },
  "orig_nbformat": 4,
  "vscode": {
   "interpreter": {
    "hash": "f909ac1aa7a4d5a6d86d72b36e062f6484142712aa3251c2e6d9f54ac9cf5af0"
   }
  }
 },
 "nbformat": 4,
 "nbformat_minor": 2
}
