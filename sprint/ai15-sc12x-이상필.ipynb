{
  "cells": [
    {
      "cell_type": "markdown",
      "metadata": {
        "colab_type": "text",
        "id": "view-in-github"
      },
      "source": [
        "<a href=\"https://colab.research.google.com/github/LamuneGitHub/A001_Python_Test/blob/main/ai15-sc12x-%E1%84%8B%E1%85%B5%E1%84%89%E1%85%A1%E1%86%BC%E1%84%91%E1%85%B5%E1%86%AF.ipynb\" target=\"_parent\"><img src=\"https://colab.research.google.com/assets/colab-badge.svg\" alt=\"Open In Colab\"/></a>"
      ]
    },
    {
      "cell_type": "markdown",
      "metadata": {
        "id": "Lh5QGrdw-mKP"
      },
      "source": [
        "<img src='https://i.imgur.com/RDAD11M.png' width = '200' align = 'right'>\n",
        "\n",
        "# **SC12x**\n",
        "\n",
        "# **Statistics**"
      ]
    },
    {
      "cell_type": "markdown",
      "metadata": {
        "id": "r7D6lw5IUwc2"
      },
      "source": [
        "## **Part 1. Bayes Theorem**\n",
        "\n",
        "Bayes Thoerem은 사전확률에서 정보가 업데이트됨에 따라 사후확률이 어떻게 변화하는지를 나타냅니다. \n",
        "\n",
        "다음의 문제에 대해 Bayes Thoerem을 활용하여 사후확률을 구해보세요.\n",
        "\n",
        "> 여러분은 가게에서 2개의 사탕팩(A, B)을 구매하였습니다. A팩에는 7개의 딸기맛, 3개의 사과맛 사탕이 들어있고, B팩에는 5개의 딸기맛, 5개의 사과맛 사탕이 들어있었습니다. 해당 사탕들을 모두 섞은 후 1개를 뽑았더니 딸기맛이었을 때, 해당 사탕이 A팩에 있었던 사탕이었을 확률은 얼마일까요?\n",
        "\n",
        "\n",
        "\n"
      ]
    },
    {
      "cell_type": "markdown",
      "metadata": {
        "id": "r0MUSUO6A2kj"
      },
      "source": [
        "##### **Q1. 사후확률을 반올림하여 소수점 둘째 자리까지 구한 후, 사전확률과 사후확률 결과를 (사전확률, 사후확률)의 형태로 쓰세요.**"
      ]
    },
    {
      "cell_type": "code",
      "execution_count": 28,
      "metadata": {
        "colab": {
          "base_uri": "https://localhost:8080/"
        },
        "id": "TJV8v1dRZjVd",
        "outputId": "a6fe12e6-90e2-4acd-b01b-688e528a2942"
      },
      "outputs": [
        {
          "data": {
            "text/plain": [
              "(0.5, 0.58)"
            ]
          },
          "execution_count": 28,
          "metadata": {},
          "output_type": "execute_result"
        }
      ],
      "source": [
        "## 문제 정의\n",
        "# A : A주머니 \n",
        "# B : 빨간사탕\n",
        "#\n",
        "# P(A) = 10/20 (사전확률)\n",
        "\n",
        "# 구하고자 하는 목적값 => P(A|B) (사후확률)\n",
        "# P(A주머니|빨간사탕) = ?\n",
        "\n",
        "# 필요한 값 \n",
        "#P(빨간사탕|A) = 7/10\n",
        "#P(A) = 10/20\n",
        "#P(빨간사탕) = 12/20\n",
        "\n",
        "p_사후 = (7/10) * (10/20) / (12/20)\n",
        "\n",
        "\n",
        "10/20 , round ( p_사후 , 2)\n"
      ]
    },
    {
      "cell_type": "markdown",
      "metadata": {
        "id": "uxyyD7S2BG3S"
      },
      "source": [
        "---"
      ]
    },
    {
      "cell_type": "markdown",
      "metadata": {
        "id": "RD-eh22GVjx7"
      },
      "source": [
        "## **Part 2. Bootstrapping**\n",
        "\n",
        "> **Part 2, Part 3에서 여러분은 가상의 마케팅 데이터를 활용할 것입니다.**"
      ]
    },
    {
      "cell_type": "markdown",
      "metadata": {
        "id": "64C3XkoL-lZB"
      },
      "source": [
        "#### 데이터셋 정보 :   \n",
        "이 데이터셋은 알뜰 구매를 도와주는 XYZ사의 마케팅 정보를 다루고 있으며, 개인 정보는 보호를 위해 제거 되어 있습니다.\n",
        "\n",
        "**Attribute Information:**\n",
        "\n",
        "- ID - 고객의 고유값\n",
        "- Year_Birth - 고객의 출생연도\n",
        "- Education - 고객의 최종학력\n",
        "- Marital_Status - 고객의 혼인여부\n",
        "- Country - 고객의 국적\n",
        "- Income - 고객의 연간 수입\n",
        "- Kidhome - 자녀가 미취학아동인지 여부 (1 - yes, 0 - no)\n",
        "- Teenhome - 자녀가 10대 청소년인지 여부 (1 - yes, 0 - no)\n",
        "- Dt_Customer - 서비스 가입 시기\n",
        "- Recency - 마지막 구매 시기 (일)\n",
        "- MntWines - 최근 2년간 구매한 와인 구매 총액\n",
        "- MntFruits- 최근 2년간 구매한 과일 구매 총액\n",
        "- MntMeatProducts - 최근 2년간 구매한 정육 구매 총액\n",
        "- MntFishProducts - 최근 2년간 구매한 어류 구매 총액\n",
        "- MntSweetProducts - 최근 2년간 구매한 과자 구매 총액\n",
        "- MntGoldProds - 최근 2년간 구매한 황금 구매 총액\n",
        "- NumDealsPurchases - 할인을 통해 제품을 구매한 횟수\n",
        "- NumWebPurchases - 회사의 웹사이트를 통해 구매한 횟수\n",
        "- NumStorePurchases - 가게에서 직접 구매한 횟수\n",
        "- NumWebVisitsMonth - 회사의 웹사이트를 방문한 횟수\n",
        "- Complain - 고객의 최근 2년간 회사에 대한 클레임 여부 (1 - yes, 0 - no)"
      ]
    },
    {
      "cell_type": "markdown",
      "metadata": {
        "id": "kZGgXCglUznv"
      },
      "source": [
        "### **2-1. 데이터셋 살펴보기**\n",
        "\n",
        "- 데이터셋을 데이터프레임 형태로 불러오세요.\n",
        "- `Income` column 이름 앞뒤의 공백을 제거하세요.\n",
        "- 데이터셋의 결측치를 살펴보고, 있다면 제거하고 인덱스를 재설정하세요.\n",
        "- `Income`의 데이터타입을 `int`로 변경하세요.\n",
        "  - 필요시 다음의 코드를 활용해보세요.\n",
        "  \n",
        "\n",
        "  ```python\n",
        "  import re\n",
        "\n",
        "  def cleaning(df):\n",
        "    li = []\n",
        "    for row in df['Income']:\n",
        "      splited = row.split('.') # .을 기준으로 문자열을 분리합니다.\n",
        "      result = re.sub('[^0-9]','', splited[0]) # .기준 앞 부분만 활용하여 숫자가 아닌 문자는 공백으로 치환합니다.\n",
        "      li.append(int(result))\n",
        "  \n",
        "    df['Income'] = li\n",
        "  ```\n",
        "\n",
        "- `Income`의 이상치를 제거하세요.\n",
        "  - 다음의 코드를 통해 `Income`의 분포를 비교해보세요.\n",
        "\n",
        "  ```python\n",
        "  plt.hist(df['Income']);\n",
        "\n",
        "  plt.hist(df.loc[df['Income'] < 120000, 'Income']);\n",
        "  ```\n",
        "\n",
        "  - `Income` 120000 이상이 되는 값은 이상치로 간주하여 해당 row를 삭제하고 인덱스를 재설정하세요.\n",
        "\n"
      ]
    },
    {
      "cell_type": "markdown",
      "metadata": {
        "id": "U9teUfVZBMpK"
      },
      "source": [
        "##### **Q2. 위의 전처리 과정을 모두 완료한 데이터프레임의 행의 개수를 쓰세요.**"
      ]
    },
    {
      "cell_type": "code",
      "execution_count": 29,
      "metadata": {
        "id": "jR7CP6nFSQKw"
      },
      "outputs": [],
      "source": [
        "# 아래의 코드를 실행해 주세요. 업그레이드 완료 후에는 런타임을 재시작해야 합니다. \n",
        "#!pip install scipy --upgrade"
      ]
    },
    {
      "cell_type": "code",
      "execution_count": 27,
      "metadata": {
        "id": "xO9B2WA4Zn_H"
      },
      "outputs": [],
      "source": [
        "#import\n",
        "from IPython.display import display\n",
        "\n",
        "import re\n",
        "import math\n",
        "import pandas as pd\n",
        "import numpy as np\n",
        "import matplotlib as mpl\n",
        "import matplotlib.pyplot as plt\n",
        "import seaborn as sns\n",
        "\n",
        "from scipy.stats import chisquare\n",
        "\n",
        "\n",
        "df_raw = pd.read_csv( 'https://raw.githubusercontent.com/LamuneGitHub/A001_Python_Test/main/data/sc12_data.csv' )\n"
      ]
    },
    {
      "cell_type": "code",
      "execution_count": 8,
      "metadata": {
        "colab": {
          "base_uri": "https://localhost:8080/"
        },
        "id": "JTaxwJPEFgA4",
        "outputId": "ac743c09-e188-4eab-b9fe-1f1d940416fb"
      },
      "outputs": [
        {
          "data": {
            "text/plain": [
              "Index(['ID', 'Year_Birth', 'Country', 'Education', 'Marital_Status',\n",
              "       ' Income ', 'Kidhome', 'Teenhome', 'Dt_Customer', 'Recency', 'MntWines',\n",
              "       'MntFruits', 'MntMeatProducts', 'MntFishProducts', 'MntSweetProducts',\n",
              "       'MntGoldProds', 'NumDealsPurchases', 'NumWebPurchases',\n",
              "       'NumStorePurchases', 'NumWebVisitsMonth', 'Complain'],\n",
              "      dtype='object')"
            ]
          },
          "execution_count": 8,
          "metadata": {},
          "output_type": "execute_result"
        }
      ],
      "source": [
        "columns = df_raw.columns\n",
        "columns"
      ]
    },
    {
      "cell_type": "code",
      "execution_count": 11,
      "metadata": {
        "colab": {
          "base_uri": "https://localhost:8080/"
        },
        "id": "7N88oyQ5FyzH",
        "outputId": "6f62e3d0-6f6c-45b5-974e-7f4d8c6d721d"
      },
      "outputs": [
        {
          "data": {
            "text/plain": [
              "Index(['ID', 'Year_Birth', 'Country', 'Education', 'Marital_Status', 'Income',\n",
              "       'Kidhome', 'Teenhome', 'Dt_Customer', 'Recency', 'MntWines',\n",
              "       'MntFruits', 'MntMeatProducts', 'MntFishProducts', 'MntSweetProducts',\n",
              "       'MntGoldProds', 'NumDealsPurchases', 'NumWebPurchases',\n",
              "       'NumStorePurchases', 'NumWebVisitsMonth', 'Complain'],\n",
              "      dtype='object')"
            ]
          },
          "execution_count": 11,
          "metadata": {},
          "output_type": "execute_result"
        }
      ],
      "source": [
        "df_raw.rename(columns = {' Income ':'Income'},inplace=True)\n",
        "columns = df_raw.columns\n",
        "columns"
      ]
    },
    {
      "cell_type": "code",
      "execution_count": 12,
      "metadata": {
        "colab": {
          "base_uri": "https://localhost:8080/",
          "height": 488
        },
        "id": "XM4bRICAJX1D",
        "outputId": "321a5804-bf78-402c-b699-8d41d8c49b4f"
      },
      "outputs": [
        {
          "data": {
            "text/html": [
              "<div>\n",
              "<style scoped>\n",
              "    .dataframe tbody tr th:only-of-type {\n",
              "        vertical-align: middle;\n",
              "    }\n",
              "\n",
              "    .dataframe tbody tr th {\n",
              "        vertical-align: top;\n",
              "    }\n",
              "\n",
              "    .dataframe thead th {\n",
              "        text-align: right;\n",
              "    }\n",
              "</style>\n",
              "<table border=\"1\" class=\"dataframe\">\n",
              "  <thead>\n",
              "    <tr style=\"text-align: right;\">\n",
              "      <th></th>\n",
              "      <th>ID</th>\n",
              "      <th>Year_Birth</th>\n",
              "      <th>Country</th>\n",
              "      <th>Education</th>\n",
              "      <th>Marital_Status</th>\n",
              "      <th>Income</th>\n",
              "      <th>Kidhome</th>\n",
              "      <th>Teenhome</th>\n",
              "      <th>Dt_Customer</th>\n",
              "      <th>Recency</th>\n",
              "      <th>...</th>\n",
              "      <th>MntFruits</th>\n",
              "      <th>MntMeatProducts</th>\n",
              "      <th>MntFishProducts</th>\n",
              "      <th>MntSweetProducts</th>\n",
              "      <th>MntGoldProds</th>\n",
              "      <th>NumDealsPurchases</th>\n",
              "      <th>NumWebPurchases</th>\n",
              "      <th>NumStorePurchases</th>\n",
              "      <th>NumWebVisitsMonth</th>\n",
              "      <th>Complain</th>\n",
              "    </tr>\n",
              "  </thead>\n",
              "  <tbody>\n",
              "    <tr>\n",
              "      <th>0</th>\n",
              "      <td>1826</td>\n",
              "      <td>1970</td>\n",
              "      <td>SP</td>\n",
              "      <td>Graduation</td>\n",
              "      <td>Divorced</td>\n",
              "      <td>84835</td>\n",
              "      <td>0</td>\n",
              "      <td>0</td>\n",
              "      <td>6/16/14</td>\n",
              "      <td>0</td>\n",
              "      <td>...</td>\n",
              "      <td>104</td>\n",
              "      <td>379</td>\n",
              "      <td>111</td>\n",
              "      <td>189</td>\n",
              "      <td>218</td>\n",
              "      <td>1</td>\n",
              "      <td>4</td>\n",
              "      <td>6</td>\n",
              "      <td>1</td>\n",
              "      <td>0</td>\n",
              "    </tr>\n",
              "    <tr>\n",
              "      <th>1</th>\n",
              "      <td>1</td>\n",
              "      <td>1961</td>\n",
              "      <td>CA</td>\n",
              "      <td>Graduation</td>\n",
              "      <td>Single</td>\n",
              "      <td>57091</td>\n",
              "      <td>0</td>\n",
              "      <td>0</td>\n",
              "      <td>6/15/14</td>\n",
              "      <td>0</td>\n",
              "      <td>...</td>\n",
              "      <td>5</td>\n",
              "      <td>64</td>\n",
              "      <td>7</td>\n",
              "      <td>0</td>\n",
              "      <td>37</td>\n",
              "      <td>1</td>\n",
              "      <td>7</td>\n",
              "      <td>7</td>\n",
              "      <td>5</td>\n",
              "      <td>0</td>\n",
              "    </tr>\n",
              "    <tr>\n",
              "      <th>2</th>\n",
              "      <td>10476</td>\n",
              "      <td>1958</td>\n",
              "      <td>US</td>\n",
              "      <td>Graduation</td>\n",
              "      <td>Married</td>\n",
              "      <td>67267</td>\n",
              "      <td>0</td>\n",
              "      <td>1</td>\n",
              "      <td>5/13/14</td>\n",
              "      <td>0</td>\n",
              "      <td>...</td>\n",
              "      <td>11</td>\n",
              "      <td>59</td>\n",
              "      <td>15</td>\n",
              "      <td>2</td>\n",
              "      <td>30</td>\n",
              "      <td>1</td>\n",
              "      <td>3</td>\n",
              "      <td>5</td>\n",
              "      <td>2</td>\n",
              "      <td>0</td>\n",
              "    </tr>\n",
              "    <tr>\n",
              "      <th>3</th>\n",
              "      <td>1386</td>\n",
              "      <td>1967</td>\n",
              "      <td>AUS</td>\n",
              "      <td>Graduation</td>\n",
              "      <td>Together</td>\n",
              "      <td>32474</td>\n",
              "      <td>1</td>\n",
              "      <td>1</td>\n",
              "      <td>5/11/14</td>\n",
              "      <td>0</td>\n",
              "      <td>...</td>\n",
              "      <td>0</td>\n",
              "      <td>1</td>\n",
              "      <td>0</td>\n",
              "      <td>0</td>\n",
              "      <td>0</td>\n",
              "      <td>1</td>\n",
              "      <td>1</td>\n",
              "      <td>2</td>\n",
              "      <td>7</td>\n",
              "      <td>0</td>\n",
              "    </tr>\n",
              "    <tr>\n",
              "      <th>4</th>\n",
              "      <td>5371</td>\n",
              "      <td>1989</td>\n",
              "      <td>SP</td>\n",
              "      <td>Graduation</td>\n",
              "      <td>Single</td>\n",
              "      <td>21474</td>\n",
              "      <td>1</td>\n",
              "      <td>0</td>\n",
              "      <td>4/8/14</td>\n",
              "      <td>0</td>\n",
              "      <td>...</td>\n",
              "      <td>16</td>\n",
              "      <td>24</td>\n",
              "      <td>11</td>\n",
              "      <td>0</td>\n",
              "      <td>34</td>\n",
              "      <td>2</td>\n",
              "      <td>3</td>\n",
              "      <td>2</td>\n",
              "      <td>7</td>\n",
              "      <td>0</td>\n",
              "    </tr>\n",
              "    <tr>\n",
              "      <th>...</th>\n",
              "      <td>...</td>\n",
              "      <td>...</td>\n",
              "      <td>...</td>\n",
              "      <td>...</td>\n",
              "      <td>...</td>\n",
              "      <td>...</td>\n",
              "      <td>...</td>\n",
              "      <td>...</td>\n",
              "      <td>...</td>\n",
              "      <td>...</td>\n",
              "      <td>...</td>\n",
              "      <td>...</td>\n",
              "      <td>...</td>\n",
              "      <td>...</td>\n",
              "      <td>...</td>\n",
              "      <td>...</td>\n",
              "      <td>...</td>\n",
              "      <td>...</td>\n",
              "      <td>...</td>\n",
              "      <td>...</td>\n",
              "      <td>...</td>\n",
              "    </tr>\n",
              "    <tr>\n",
              "      <th>2183</th>\n",
              "      <td>9977</td>\n",
              "      <td>1973</td>\n",
              "      <td>US</td>\n",
              "      <td>Graduation</td>\n",
              "      <td>Divorced</td>\n",
              "      <td>78901</td>\n",
              "      <td>0</td>\n",
              "      <td>1</td>\n",
              "      <td>9/17/13</td>\n",
              "      <td>99</td>\n",
              "      <td>...</td>\n",
              "      <td>11</td>\n",
              "      <td>309</td>\n",
              "      <td>33</td>\n",
              "      <td>26</td>\n",
              "      <td>34</td>\n",
              "      <td>3</td>\n",
              "      <td>9</td>\n",
              "      <td>5</td>\n",
              "      <td>4</td>\n",
              "      <td>0</td>\n",
              "    </tr>\n",
              "    <tr>\n",
              "      <th>2184</th>\n",
              "      <td>10142</td>\n",
              "      <td>1976</td>\n",
              "      <td>US</td>\n",
              "      <td>PhD</td>\n",
              "      <td>Divorced</td>\n",
              "      <td>66476</td>\n",
              "      <td>0</td>\n",
              "      <td>1</td>\n",
              "      <td>3/7/13</td>\n",
              "      <td>99</td>\n",
              "      <td>...</td>\n",
              "      <td>18</td>\n",
              "      <td>126</td>\n",
              "      <td>47</td>\n",
              "      <td>48</td>\n",
              "      <td>78</td>\n",
              "      <td>2</td>\n",
              "      <td>5</td>\n",
              "      <td>11</td>\n",
              "      <td>4</td>\n",
              "      <td>0</td>\n",
              "    </tr>\n",
              "    <tr>\n",
              "      <th>2185</th>\n",
              "      <td>5263</td>\n",
              "      <td>1977</td>\n",
              "      <td>SP</td>\n",
              "      <td>2n Cycle</td>\n",
              "      <td>Married</td>\n",
              "      <td>31056</td>\n",
              "      <td>1</td>\n",
              "      <td>0</td>\n",
              "      <td>1/22/13</td>\n",
              "      <td>99</td>\n",
              "      <td>...</td>\n",
              "      <td>10</td>\n",
              "      <td>13</td>\n",
              "      <td>3</td>\n",
              "      <td>8</td>\n",
              "      <td>16</td>\n",
              "      <td>1</td>\n",
              "      <td>1</td>\n",
              "      <td>3</td>\n",
              "      <td>8</td>\n",
              "      <td>0</td>\n",
              "    </tr>\n",
              "    <tr>\n",
              "      <th>2186</th>\n",
              "      <td>22</td>\n",
              "      <td>1976</td>\n",
              "      <td>SP</td>\n",
              "      <td>Graduation</td>\n",
              "      <td>Divorced</td>\n",
              "      <td>46310</td>\n",
              "      <td>1</td>\n",
              "      <td>0</td>\n",
              "      <td>12/3/12</td>\n",
              "      <td>99</td>\n",
              "      <td>...</td>\n",
              "      <td>2</td>\n",
              "      <td>88</td>\n",
              "      <td>15</td>\n",
              "      <td>5</td>\n",
              "      <td>14</td>\n",
              "      <td>2</td>\n",
              "      <td>6</td>\n",
              "      <td>5</td>\n",
              "      <td>8</td>\n",
              "      <td>0</td>\n",
              "    </tr>\n",
              "    <tr>\n",
              "      <th>2187</th>\n",
              "      <td>528</td>\n",
              "      <td>1978</td>\n",
              "      <td>IND</td>\n",
              "      <td>Graduation</td>\n",
              "      <td>Married</td>\n",
              "      <td>65819</td>\n",
              "      <td>0</td>\n",
              "      <td>0</td>\n",
              "      <td>11/29/12</td>\n",
              "      <td>99</td>\n",
              "      <td>...</td>\n",
              "      <td>38</td>\n",
              "      <td>701</td>\n",
              "      <td>149</td>\n",
              "      <td>165</td>\n",
              "      <td>63</td>\n",
              "      <td>1</td>\n",
              "      <td>5</td>\n",
              "      <td>10</td>\n",
              "      <td>3</td>\n",
              "      <td>0</td>\n",
              "    </tr>\n",
              "  </tbody>\n",
              "</table>\n",
              "<p>2165 rows × 21 columns</p>\n",
              "</div>"
            ],
            "text/plain": [
              "         ID  Year_Birth Country   Education Marital_Status  Income  Kidhome  \\\n",
              "0      1826        1970      SP  Graduation       Divorced   84835        0   \n",
              "1         1        1961      CA  Graduation         Single   57091        0   \n",
              "2     10476        1958      US  Graduation        Married   67267        0   \n",
              "3      1386        1967     AUS  Graduation       Together   32474        1   \n",
              "4      5371        1989      SP  Graduation         Single   21474        1   \n",
              "...     ...         ...     ...         ...            ...     ...      ...   \n",
              "2183   9977        1973      US  Graduation       Divorced   78901        0   \n",
              "2184  10142        1976      US         PhD       Divorced   66476        0   \n",
              "2185   5263        1977      SP    2n Cycle        Married   31056        1   \n",
              "2186     22        1976      SP  Graduation       Divorced   46310        1   \n",
              "2187    528        1978     IND  Graduation        Married   65819        0   \n",
              "\n",
              "      Teenhome Dt_Customer  Recency  ...  MntFruits  MntMeatProducts  \\\n",
              "0            0     6/16/14        0  ...        104              379   \n",
              "1            0     6/15/14        0  ...          5               64   \n",
              "2            1     5/13/14        0  ...         11               59   \n",
              "3            1     5/11/14        0  ...          0                1   \n",
              "4            0      4/8/14        0  ...         16               24   \n",
              "...        ...         ...      ...  ...        ...              ...   \n",
              "2183         1     9/17/13       99  ...         11              309   \n",
              "2184         1      3/7/13       99  ...         18              126   \n",
              "2185         0     1/22/13       99  ...         10               13   \n",
              "2186         0     12/3/12       99  ...          2               88   \n",
              "2187         0    11/29/12       99  ...         38              701   \n",
              "\n",
              "      MntFishProducts  MntSweetProducts  MntGoldProds  NumDealsPurchases  \\\n",
              "0                 111               189           218                  1   \n",
              "1                   7                 0            37                  1   \n",
              "2                  15                 2            30                  1   \n",
              "3                   0                 0             0                  1   \n",
              "4                  11                 0            34                  2   \n",
              "...               ...               ...           ...                ...   \n",
              "2183               33                26            34                  3   \n",
              "2184               47                48            78                  2   \n",
              "2185                3                 8            16                  1   \n",
              "2186               15                 5            14                  2   \n",
              "2187              149               165            63                  1   \n",
              "\n",
              "      NumWebPurchases  NumStorePurchases  NumWebVisitsMonth  Complain  \n",
              "0                   4                  6                  1         0  \n",
              "1                   7                  7                  5         0  \n",
              "2                   3                  5                  2         0  \n",
              "3                   1                  2                  7         0  \n",
              "4                   3                  2                  7         0  \n",
              "...               ...                ...                ...       ...  \n",
              "2183                9                  5                  4         0  \n",
              "2184                5                 11                  4         0  \n",
              "2185                1                  3                  8         0  \n",
              "2186                6                  5                  8         0  \n",
              "2187                5                 10                  3         0  \n",
              "\n",
              "[2165 rows x 21 columns]"
            ]
          },
          "execution_count": 12,
          "metadata": {},
          "output_type": "execute_result"
        }
      ],
      "source": [
        "  import re\n",
        "\n",
        "  def cleaning(df):\n",
        "    li = []\n",
        "    for row in df['Income']:\n",
        "      splited = row.split('.') # .을 기준으로 문자열을 분리합니다.\n",
        "      result = re.sub('[^0-9]','', splited[0]) # .기준 앞 부분만 활용하여 숫자가 아닌 문자는 공백으로 치환합니다.\n",
        "      li.append(int(result))\n",
        "\n",
        "    df['Income'] = li\n",
        "\n",
        "\n",
        "df_clean = df_raw.copy()\n",
        "\n",
        "df_clean.dropna(subset=['Income'],inplace=True)\n",
        "\n",
        "\n",
        "cleaning(df_clean)\n",
        "\n",
        "df_clean    "
      ]
    },
    {
      "cell_type": "code",
      "execution_count": 34,
      "metadata": {
        "colab": {
          "base_uri": "https://localhost:8080/"
        },
        "id": "V-l96ChiLUkk",
        "outputId": "41813692-4354-4623-d7ff-a01fff434d11"
      },
      "outputs": [
        {
          "name": "stdout",
          "output_type": "stream",
          "text": [
            "<class 'pandas.core.frame.DataFrame'>\n",
            "Int64Index: 2165 entries, 0 to 2187\n",
            "Data columns (total 21 columns):\n",
            " #   Column             Non-Null Count  Dtype \n",
            "---  ------             --------------  ----- \n",
            " 0   ID                 2165 non-null   int64 \n",
            " 1   Year_Birth         2165 non-null   int64 \n",
            " 2   Country            2165 non-null   object\n",
            " 3   Education          2165 non-null   object\n",
            " 4   Marital_Status     2165 non-null   object\n",
            " 5   Income             2165 non-null   int64 \n",
            " 6   Kidhome            2165 non-null   int64 \n",
            " 7   Teenhome           2165 non-null   int64 \n",
            " 8   Dt_Customer        2165 non-null   object\n",
            " 9   Recency            2165 non-null   int64 \n",
            " 10  MntWines           2165 non-null   int64 \n",
            " 11  MntFruits          2165 non-null   int64 \n",
            " 12  MntMeatProducts    2165 non-null   int64 \n",
            " 13  MntFishProducts    2165 non-null   int64 \n",
            " 14  MntSweetProducts   2165 non-null   int64 \n",
            " 15  MntGoldProds       2165 non-null   int64 \n",
            " 16  NumDealsPurchases  2165 non-null   int64 \n",
            " 17  NumWebPurchases    2165 non-null   int64 \n",
            " 18  NumStorePurchases  2165 non-null   int64 \n",
            " 19  NumWebVisitsMonth  2165 non-null   int64 \n",
            " 20  Complain           2165 non-null   int64 \n",
            "dtypes: int64(17), object(4)\n",
            "memory usage: 372.1+ KB\n"
          ]
        }
      ],
      "source": [
        "df_clean.info()"
      ]
    },
    {
      "cell_type": "code",
      "execution_count": 33,
      "metadata": {
        "colab": {
          "base_uri": "https://localhost:8080/",
          "height": 300
        },
        "id": "LMK_qZ3oGYi1",
        "outputId": "4b6109ee-3217-4ed3-fbc3-6e570a7c8745"
      },
      "outputs": [
        {
          "data": {
            "text/html": [
              "<div>\n",
              "<style scoped>\n",
              "    .dataframe tbody tr th:only-of-type {\n",
              "        vertical-align: middle;\n",
              "    }\n",
              "\n",
              "    .dataframe tbody tr th {\n",
              "        vertical-align: top;\n",
              "    }\n",
              "\n",
              "    .dataframe thead th {\n",
              "        text-align: right;\n",
              "    }\n",
              "</style>\n",
              "<table border=\"1\" class=\"dataframe\">\n",
              "  <thead>\n",
              "    <tr style=\"text-align: right;\">\n",
              "      <th></th>\n",
              "      <th>ID</th>\n",
              "      <th>Year_Birth</th>\n",
              "      <th>Country</th>\n",
              "      <th>Education</th>\n",
              "      <th>Marital_Status</th>\n",
              "      <th>Income</th>\n",
              "      <th>Kidhome</th>\n",
              "      <th>Teenhome</th>\n",
              "      <th>Dt_Customer</th>\n",
              "      <th>Recency</th>\n",
              "      <th>...</th>\n",
              "      <th>MntFruits</th>\n",
              "      <th>MntMeatProducts</th>\n",
              "      <th>MntFishProducts</th>\n",
              "      <th>MntSweetProducts</th>\n",
              "      <th>MntGoldProds</th>\n",
              "      <th>NumDealsPurchases</th>\n",
              "      <th>NumWebPurchases</th>\n",
              "      <th>NumStorePurchases</th>\n",
              "      <th>NumWebVisitsMonth</th>\n",
              "      <th>Complain</th>\n",
              "    </tr>\n",
              "  </thead>\n",
              "  <tbody>\n",
              "    <tr>\n",
              "      <th>0</th>\n",
              "      <td>1826</td>\n",
              "      <td>1970</td>\n",
              "      <td>SP</td>\n",
              "      <td>Graduation</td>\n",
              "      <td>Divorced</td>\n",
              "      <td>84835</td>\n",
              "      <td>0</td>\n",
              "      <td>0</td>\n",
              "      <td>6/16/14</td>\n",
              "      <td>0</td>\n",
              "      <td>...</td>\n",
              "      <td>104</td>\n",
              "      <td>379</td>\n",
              "      <td>111</td>\n",
              "      <td>189</td>\n",
              "      <td>218</td>\n",
              "      <td>1</td>\n",
              "      <td>4</td>\n",
              "      <td>6</td>\n",
              "      <td>1</td>\n",
              "      <td>0</td>\n",
              "    </tr>\n",
              "    <tr>\n",
              "      <th>1</th>\n",
              "      <td>1</td>\n",
              "      <td>1961</td>\n",
              "      <td>CA</td>\n",
              "      <td>Graduation</td>\n",
              "      <td>Single</td>\n",
              "      <td>57091</td>\n",
              "      <td>0</td>\n",
              "      <td>0</td>\n",
              "      <td>6/15/14</td>\n",
              "      <td>0</td>\n",
              "      <td>...</td>\n",
              "      <td>5</td>\n",
              "      <td>64</td>\n",
              "      <td>7</td>\n",
              "      <td>0</td>\n",
              "      <td>37</td>\n",
              "      <td>1</td>\n",
              "      <td>7</td>\n",
              "      <td>7</td>\n",
              "      <td>5</td>\n",
              "      <td>0</td>\n",
              "    </tr>\n",
              "    <tr>\n",
              "      <th>2</th>\n",
              "      <td>10476</td>\n",
              "      <td>1958</td>\n",
              "      <td>US</td>\n",
              "      <td>Graduation</td>\n",
              "      <td>Married</td>\n",
              "      <td>67267</td>\n",
              "      <td>0</td>\n",
              "      <td>1</td>\n",
              "      <td>5/13/14</td>\n",
              "      <td>0</td>\n",
              "      <td>...</td>\n",
              "      <td>11</td>\n",
              "      <td>59</td>\n",
              "      <td>15</td>\n",
              "      <td>2</td>\n",
              "      <td>30</td>\n",
              "      <td>1</td>\n",
              "      <td>3</td>\n",
              "      <td>5</td>\n",
              "      <td>2</td>\n",
              "      <td>0</td>\n",
              "    </tr>\n",
              "    <tr>\n",
              "      <th>3</th>\n",
              "      <td>1386</td>\n",
              "      <td>1967</td>\n",
              "      <td>AUS</td>\n",
              "      <td>Graduation</td>\n",
              "      <td>Together</td>\n",
              "      <td>32474</td>\n",
              "      <td>1</td>\n",
              "      <td>1</td>\n",
              "      <td>5/11/14</td>\n",
              "      <td>0</td>\n",
              "      <td>...</td>\n",
              "      <td>0</td>\n",
              "      <td>1</td>\n",
              "      <td>0</td>\n",
              "      <td>0</td>\n",
              "      <td>0</td>\n",
              "      <td>1</td>\n",
              "      <td>1</td>\n",
              "      <td>2</td>\n",
              "      <td>7</td>\n",
              "      <td>0</td>\n",
              "    </tr>\n",
              "    <tr>\n",
              "      <th>4</th>\n",
              "      <td>5371</td>\n",
              "      <td>1989</td>\n",
              "      <td>SP</td>\n",
              "      <td>Graduation</td>\n",
              "      <td>Single</td>\n",
              "      <td>21474</td>\n",
              "      <td>1</td>\n",
              "      <td>0</td>\n",
              "      <td>4/8/14</td>\n",
              "      <td>0</td>\n",
              "      <td>...</td>\n",
              "      <td>16</td>\n",
              "      <td>24</td>\n",
              "      <td>11</td>\n",
              "      <td>0</td>\n",
              "      <td>34</td>\n",
              "      <td>2</td>\n",
              "      <td>3</td>\n",
              "      <td>2</td>\n",
              "      <td>7</td>\n",
              "      <td>0</td>\n",
              "    </tr>\n",
              "  </tbody>\n",
              "</table>\n",
              "<p>5 rows × 21 columns</p>\n",
              "</div>"
            ],
            "text/plain": [
              "      ID  Year_Birth Country   Education Marital_Status  Income  Kidhome  \\\n",
              "0   1826        1970      SP  Graduation       Divorced   84835        0   \n",
              "1      1        1961      CA  Graduation         Single   57091        0   \n",
              "2  10476        1958      US  Graduation        Married   67267        0   \n",
              "3   1386        1967     AUS  Graduation       Together   32474        1   \n",
              "4   5371        1989      SP  Graduation         Single   21474        1   \n",
              "\n",
              "   Teenhome Dt_Customer  Recency  ...  MntFruits  MntMeatProducts  \\\n",
              "0         0     6/16/14        0  ...        104              379   \n",
              "1         0     6/15/14        0  ...          5               64   \n",
              "2         1     5/13/14        0  ...         11               59   \n",
              "3         1     5/11/14        0  ...          0                1   \n",
              "4         0      4/8/14        0  ...         16               24   \n",
              "\n",
              "   MntFishProducts  MntSweetProducts  MntGoldProds  NumDealsPurchases  \\\n",
              "0              111               189           218                  1   \n",
              "1                7                 0            37                  1   \n",
              "2               15                 2            30                  1   \n",
              "3                0                 0             0                  1   \n",
              "4               11                 0            34                  2   \n",
              "\n",
              "   NumWebPurchases  NumStorePurchases  NumWebVisitsMonth  Complain  \n",
              "0                4                  6                  1         0  \n",
              "1                7                  7                  5         0  \n",
              "2                3                  5                  2         0  \n",
              "3                1                  2                  7         0  \n",
              "4                3                  2                  7         0  \n",
              "\n",
              "[5 rows x 21 columns]"
            ]
          },
          "execution_count": 33,
          "metadata": {},
          "output_type": "execute_result"
        }
      ],
      "source": [
        "df_clean = df_clean.query( 'Income <= 120000') \n",
        "df_clean.reset_index( drop = True , inplace = True)\n",
        "\n",
        "df_clean.head()"
      ]
    },
    {
      "cell_type": "code",
      "execution_count": 34,
      "metadata": {
        "colab": {
          "base_uri": "https://localhost:8080/",
          "height": 265
        },
        "id": "2ejGM3V-GX-f",
        "outputId": "988c124a-c2d7-4c8b-ed2b-38f31f32f448"
      },
      "outputs": [
        {
          "data": {
            "image/png": "[encoded data removed]",
            "text/plain": [
              "<Figure size 432x288 with 1 Axes>"
            ]
          },
          "metadata": {
            "needs_background": "light"
          },
          "output_type": "display_data"
        }
      ],
      "source": [
        "plt.hist(df_clean['Income']);\n",
        "\n",
        "plt.hist(df_clean.loc[df_clean['Income'] < 120000, 'Income']);"
      ]
    },
    {
      "cell_type": "code",
      "execution_count": 37,
      "metadata": {
        "colab": {
          "base_uri": "https://localhost:8080/"
        },
        "id": "Pu7N64W5MJLU",
        "outputId": "f4e5c617-a7b8-40f2-ee97-fb5e2f2ed340"
      },
      "outputs": [
        {
          "data": {
            "text/plain": [
              "2157"
            ]
          },
          "execution_count": 37,
          "metadata": {},
          "output_type": "execute_result"
        }
      ],
      "source": [
        "df_clean.shape[0]"
      ]
    },
    {
      "cell_type": "markdown",
      "metadata": {
        "id": "3iICO7ltZe_Y"
      },
      "source": [
        "### **2-2. sample의 평균값과 모집단의 평균값을 비교해봅니다.**\n",
        "\n",
        "- `seed`는 2로 지정하세요.\n",
        "- 위에서 전처리를 완료한 데이터프레임을 모집단으로 가정한 후, `Income` column의 평균을 구해 `mean_pop` 변수에 저장하세요.\n",
        "- sample size가 5일 때, 해당 데이터셋의 `Income` 데이터를 10,000번 중복 추출한 표본 평균들을 `sample_5` 라는 이름의 array에 저장하세요.\n",
        "  - `mean_pop`에서 `sample_5`의 평균을 뺀 값을 `diff_5`에 저장하세요.\n",
        "- sample size가 200일 때, 해당 데이터셋의 `Income` 데이터를 10,000번 중복 추출한 표본 평균들을 `sample_200` 라는 이름의 array에 저장하세요.\n",
        "  - `mean_pop`에서 `sample_200`의 평균을 뺀 값을 `diff_200`에 저장하세요.\n",
        "\n",
        "\n"
      ]
    },
    {
      "cell_type": "markdown",
      "metadata": {
        "id": "1xyWbCuNBbRq"
      },
      "source": [
        "##### **Q3. `diff_5`, `diff_200`의 결과를 각각 반올림하여 소수점 둘째 자리까지 (`diff_5`, `diff_200`)의 형태로 쓰세요.**"
      ]
    },
    {
      "cell_type": "code",
      "execution_count": 38,
      "metadata": {
        "id": "VpuDfDbWZ5oN"
      },
      "outputs": [],
      "source": [
        "import random\n",
        "np.random.seed(2)"
      ]
    },
    {
      "cell_type": "code",
      "execution_count": 39,
      "metadata": {
        "id": "KZKCE3UUMaFx"
      },
      "outputs": [],
      "source": [
        "mean_pop = df_clean['Income'].mean()"
      ]
    },
    {
      "cell_type": "code",
      "execution_count": 40,
      "metadata": {
        "colab": {
          "base_uri": "https://localhost:8080/"
        },
        "id": "ml8W8UyFN3wh",
        "outputId": "234c380f-5da0-4e90-d77e-94bf88b29a40"
      },
      "outputs": [
        {
          "name": "stdout",
          "output_type": "stream",
          "text": [
            "51540.83588317107\n"
          ]
        }
      ],
      "source": [
        "print ( mean_pop )"
      ]
    },
    {
      "cell_type": "code",
      "execution_count": 41,
      "metadata": {
        "id": "ox9MSKq0OW4Y"
      },
      "outputs": [],
      "source": [
        "# 부트 스트렙 \n",
        "def bootstrap( list_input , sample_count , repeat_count) :\n",
        "  return_list = []\n",
        "  for _ in range(repeat_count):\n",
        "    sample = np.random.choice( list_input, sample_count, replace=True)\n",
        "    return_list.append(sample.mean())\n",
        "  #print ( return_list)\n",
        "  return np.array(return_list)\n",
        "  "
      ]
    },
    {
      "cell_type": "code",
      "execution_count": 42,
      "metadata": {
        "id": "31G8-sczOdby"
      },
      "outputs": [],
      "source": [
        "sample_5 = bootstrap ( df_clean['Income'] , 5, 10000 )\n",
        "diff_5 = mean_pop - sample_5.mean()\n",
        "\n",
        "sample_200 = bootstrap ( df_clean['Income'] , 200, 10000 )\n",
        "diff_200 = mean_pop - sample_200.mean()\n"
      ]
    },
    {
      "cell_type": "code",
      "execution_count": 43,
      "metadata": {
        "colab": {
          "base_uri": "https://localhost:8080/"
        },
        "id": "7t13qkUqPPYx",
        "outputId": "26fcca4c-8c0c-4356-a445-36f278a0cb6a"
      },
      "outputs": [
        {
          "name": "stdout",
          "output_type": "stream",
          "text": [
            "( -58.6 , 12.72 )\n"
          ]
        }
      ],
      "source": [
        "print ( \"(\", round(diff_5 ,2) , \",\" , round(diff_200 ,2) , \")\" )"
      ]
    },
    {
      "cell_type": "markdown",
      "metadata": {
        "id": "mlPTnYPCZosQ"
      },
      "source": [
        "### **2-3. sample의 분포를 통해 신뢰구간을 확인합니다.**\n",
        "**2-2**에서 구현한 `sample_200` 표본 분포를 활용하여 모집단의 모수를 포함할 확률이 95%가 되는 구간을 찾아봅니다.\n",
        "\n"
      ]
    },
    {
      "cell_type": "markdown",
      "metadata": {
        "id": "VvDR30q5Bvk_"
      },
      "source": [
        "##### **Q4. 95% 신뢰구간의 lower limit과 upper limit을 각각 반올림하여 소수점 둘째 자리까지 (lower limit, upper limit)의 형태로 쓰세요.**"
      ]
    },
    {
      "cell_type": "code",
      "execution_count": 44,
      "metadata": {
        "colab": {
          "base_uri": "https://localhost:8080/"
        },
        "id": "XK1h1u9ZZ9ch",
        "outputId": "ee7da50c-7750-42b8-ca3a-a9c8410074e4"
      },
      "outputs": [
        {
          "name": "stdout",
          "output_type": "stream",
          "text": [
            "( 48668.47 , 54390.69 )\n"
          ]
        }
      ],
      "source": [
        "lower, upper = np.percentile(sample_200, 2.5), np.percentile(sample_200, 97.5) \n",
        "\n",
        "print ( \"(\", round(lower ,2) , \",\" , round(upper ,2) , \")\" )"
      ]
    },
    {
      "cell_type": "markdown",
      "metadata": {
        "id": "DcPtz22vU_Uw"
      },
      "source": [
        "## **Part 3. Hypothesis Test**\n",
        "\n",
        "데이터에서 다양한 시나리오를 파악하고 옳은 가설을 세우는 것은 매우 중요합니다. 위에 우리에게 주어진 데이터셋에 대해서도 다양한 시나리오에 대해 생각해볼 수 있습니다.\n",
        "\n",
        "주어진 데이터셋에는 자녀가 청소년인지 여부를 나타내는 `Teenhome`과 연간 수입을 나타내는 `Income` 정보가 존재하는데, 청소년 자녀가 있는 경우 자녀의 연령에 따라 증가하는 지출, 고객의 회사 내 지위 등을 고려하여 수입이 증가할 것이라는 가설을 생각해 볼 수 있습니다. \n",
        "\n",
        "따라서 **고객의 자녀가 청소년인지 여부에 따라 연간 수입 평균값의 차이가 있는지** 가설검정을 통해 확인해보도록 하겠습니다."
      ]
    },
    {
      "cell_type": "markdown",
      "metadata": {
        "id": "Zi8GxxoqHW78"
      },
      "source": [
        "### **3-1. One-tailed Test**\n",
        "\n",
        "> 고객의 자녀가 청소년인 경우의 연간 수입 평균값이 그렇지 않은 경우보다 더 많은지 판단하고자 합니다.\n",
        "- 자녀가 청소년인 경우 고객의 연간 수입 평균값: $μ_{yes}$\n",
        "- 자녀가 청소년이 아닌 경우 고객의 연간 수입 평균값: $μ_{no}$\n",
        "\n",
        "\n",
        "\n",
        "\n",
        "\n"
      ]
    },
    {
      "cell_type": "markdown",
      "metadata": {
        "id": "vuLH6E51GCVP"
      },
      "source": [
        "- 부트스트랩(Bootstrapping)을 활용하여 자녀가 청소년인 경우와 아닌 경우의 차이에 대한 표본분포를 simulate한 뒤, p-value를 확인하여 어떠한 가설을 채택할지 결정하세요.\n",
        "\n",
        "  - `seed`는 2로 지정합니다.\n",
        "  - simulate 횟수는 10000번으로 지정합니다.\n",
        "  - sample의 데이터 수는 위의 데이터프레임과 동일한 사이즈(row 수)로 설정합니다.\n",
        "  - (`자녀가 청소년인 샘플들의 평균값` - `자녀가 청소년이 아닌 샘플들의 평균값`)으로 차이를 구합니다."
      ]
    },
    {
      "cell_type": "markdown",
      "metadata": {
        "id": "aTPhPeTmCF6g"
      },
      "source": [
        "##### **Q5. 이 경우에는 귀무가설과 대립가설을 어떻게 세워야 할까요?**\n",
        "\n",
        "a. $H_0$: $μ_{no} ≥ μ_{yes}\\;$, $\\;H_a$: $μ_{no} < μ_{yes}$\n",
        "\n",
        "b. $H_0$: $μ_{no} < μ_{yes}\\;$, $\\;H_a$: $μ_{no} ≥ μ_{yes}$\n",
        "\n",
        "c. $H_0$: $μ_{no} > μ_{yes}\\;$, $\\;H_a$: $μ_{no} ≤ μ_{yes}$\n",
        "\n",
        "d. $H_0$: $μ_{no} ≤ μ_{yes}\\;$, $\\;H_a$: $μ_{no} > μ_{yes}$\n",
        "\n",
        "</br>\n"
      ]
    },
    {
      "cell_type": "code",
      "execution_count": 45,
      "metadata": {
        "colab": {
          "base_uri": "https://localhost:8080/"
        },
        "id": "GEQ9NZ6MTOLl",
        "outputId": "ad90d55b-7a2b-4ae0-fd46-ea8c87311adc"
      },
      "outputs": [
        {
          "name": "stdout",
          "output_type": "stream",
          "text": [
            "<class 'pandas.core.frame.DataFrame'>\n",
            "RangeIndex: 2157 entries, 0 to 2156\n",
            "Data columns (total 21 columns):\n",
            " #   Column             Non-Null Count  Dtype \n",
            "---  ------             --------------  ----- \n",
            " 0   ID                 2157 non-null   int64 \n",
            " 1   Year_Birth         2157 non-null   int64 \n",
            " 2   Country            2157 non-null   object\n",
            " 3   Education          2157 non-null   object\n",
            " 4   Marital_Status     2157 non-null   object\n",
            " 5   Income             2157 non-null   int64 \n",
            " 6   Kidhome            2157 non-null   int64 \n",
            " 7   Teenhome           2157 non-null   int64 \n",
            " 8   Dt_Customer        2157 non-null   object\n",
            " 9   Recency            2157 non-null   int64 \n",
            " 10  MntWines           2157 non-null   int64 \n",
            " 11  MntFruits          2157 non-null   int64 \n",
            " 12  MntMeatProducts    2157 non-null   int64 \n",
            " 13  MntFishProducts    2157 non-null   int64 \n",
            " 14  MntSweetProducts   2157 non-null   int64 \n",
            " 15  MntGoldProds       2157 non-null   int64 \n",
            " 16  NumDealsPurchases  2157 non-null   int64 \n",
            " 17  NumWebPurchases    2157 non-null   int64 \n",
            " 18  NumStorePurchases  2157 non-null   int64 \n",
            " 19  NumWebVisitsMonth  2157 non-null   int64 \n",
            " 20  Complain           2157 non-null   int64 \n",
            "dtypes: int64(17), object(4)\n",
            "memory usage: 354.0+ KB\n"
          ]
        }
      ],
      "source": [
        "df_clean.info()"
      ]
    },
    {
      "cell_type": "code",
      "execution_count": 46,
      "metadata": {
        "colab": {
          "base_uri": "https://localhost:8080/"
        },
        "id": "xzgQbVISUSEx",
        "outputId": "f1f0c6f8-3753-4ffe-a983-1af4047ea64e"
      },
      "outputs": [
        {
          "data": {
            "text/plain": [
              "0"
            ]
          },
          "execution_count": 46,
          "metadata": {},
          "output_type": "execute_result"
        }
      ],
      "source": [
        "df_clean['Teenhome'].isnull().sum()"
      ]
    },
    {
      "cell_type": "code",
      "execution_count": 47,
      "metadata": {
        "colab": {
          "base_uri": "https://localhost:8080/"
        },
        "id": "wUfUaVi7Vzj9",
        "outputId": "511a610f-d44f-47ea-b6eb-5eb76c1ae9e7"
      },
      "outputs": [
        {
          "data": {
            "text/plain": [
              "2157"
            ]
          },
          "execution_count": 47,
          "metadata": {},
          "output_type": "execute_result"
        }
      ],
      "source": [
        "len(df_clean)"
      ]
    },
    {
      "cell_type": "code",
      "execution_count": 48,
      "metadata": {
        "id": "GTFBdugngVqK"
      },
      "outputs": [],
      "source": [
        "# 가설정의 \n",
        "#\n",
        "# 귀무 : 자녀no >= 자녀yes\n",
        "# 대립 : 자녀no < 자녀yes\n",
        "\n",
        "# 데이터 준비 \n",
        "df_no = df_clean.query( 'Teenhome == 0') \n",
        "df_yes = df_clean.query( 'Teenhome == 1') \n",
        "\n",
        "sample_count = len(df_clean)\n",
        "repeat_count = 10000\n",
        "\n",
        "np.random.seed(2)\n",
        "\n",
        "boot_no, boot_yes, boot_diff = [], [], []\n",
        "for _ in range(repeat_count):\n",
        "  sample = df_clean.sample(sample_count, replace=True)\n",
        "\n",
        "  samp_no = sample[sample.Teenhome == 0]['Income'].mean()\n",
        "  samp_yes = sample[sample.Teenhome == 1]['Income'].mean()\n",
        "  \n",
        "  boot_no.append( samp_no )\n",
        "  boot_yes.append( samp_yes )\n",
        "  boot_diff.append( samp_yes - samp_no )\n",
        "  "
      ]
    },
    {
      "cell_type": "code",
      "execution_count": 49,
      "metadata": {
        "colab": {
          "base_uri": "https://localhost:8080/",
          "height": 320
        },
        "id": "53KVE37qDzZ3",
        "outputId": "13a57768-252a-4a82-947c-0957a5b462b5"
      },
      "outputs": [
        {
          "data": {
            "image/png": "[encoded data removed]",
            "text/plain": [
              "<Figure size 576x360 with 1 Axes>"
            ]
          },
          "metadata": {
            "needs_background": "light"
          },
          "output_type": "display_data"
        }
      ],
      "source": [
        "plt.figure(figsize=(8,5))\n",
        "plt.hist(boot_no, alpha = 0.5, label='teen no')\n",
        "plt.hist(boot_yes, alpha = 0.5, label = 'teen yes')\n",
        "plt.legend(loc=9, fontsize=13)\n",
        "plt.show()"
      ]
    },
    {
      "cell_type": "code",
      "execution_count": 50,
      "metadata": {
        "colab": {
          "base_uri": "https://localhost:8080/",
          "height": 320
        },
        "id": "Rg1NFLcth7D0",
        "outputId": "445024d2-da4c-44f0-c637-1d2fdf6f053c"
      },
      "outputs": [
        {
          "data": {
            "image/png": "[encoded data removed]",
            "text/plain": [
              "<Figure size 576x360 with 1 Axes>"
            ]
          },
          "metadata": {
            "needs_background": "light"
          },
          "output_type": "display_data"
        }
      ],
      "source": [
        "plt.figure(figsize=(8,5))\n",
        "plt.hist(boot_diff, alpha=0.5, label = 'Difference ')\n",
        "plt.axvline(0, c='r')\n",
        "plt.legend(loc=9, fontsize=13);"
      ]
    },
    {
      "cell_type": "code",
      "execution_count": 51,
      "metadata": {
        "colab": {
          "base_uri": "https://localhost:8080/",
          "height": 338
        },
        "id": "g_sNZDNGJNoT",
        "outputId": "07bfc8b8-355d-48ff-f122-16d6e078ebb7"
      },
      "outputs": [
        {
          "name": "stderr",
          "output_type": "stream",
          "text": [
            "WARNING:matplotlib.legend:No handles with labels found to put in legend.\n"
          ]
        },
        {
          "data": {
            "image/png": "[encoded data removed]",
            "text/plain": [
              "<Figure size 576x360 with 1 Axes>"
            ]
          },
          "metadata": {
            "needs_background": "light"
          },
          "output_type": "display_data"
        }
      ],
      "source": [
        "# P value \n",
        "sample_diff_mean = df_yes['Income'].mean() - df_no['Income'].mean()\n",
        "\n",
        "sample_diff_std = np.std(boot_diff)\n",
        "\n",
        "plt.figure(figsize=(8,5))\n",
        "null_vals = np.random.normal(0, sample_diff_std, sample_count) \n",
        "plt.hist(null_vals, alpha=0.5, )\n",
        "plt.axvline(sample_diff_mean, color='r', )\n",
        "plt.legend(loc=9, fontsize=13)\n",
        "plt.show()\n"
      ]
    },
    {
      "cell_type": "code",
      "execution_count": 52,
      "metadata": {
        "colab": {
          "base_uri": "https://localhost:8080/"
        },
        "id": "tJkvsGJ1U4kg",
        "outputId": "b4ff1f04-3423-4aad-9181-6be0fff04e8e"
      },
      "outputs": [
        {
          "data": {
            "text/plain": [
              "1386.8917089926617"
            ]
          },
          "execution_count": 52,
          "metadata": {},
          "output_type": "execute_result"
        }
      ],
      "source": [
        "sample_diff_mean"
      ]
    },
    {
      "cell_type": "code",
      "execution_count": 53,
      "metadata": {
        "colab": {
          "base_uri": "https://localhost:8080/"
        },
        "id": "pu6KTlg_NNS9",
        "outputId": "9f30d64e-0c96-4a7c-972c-bd616b710a58"
      },
      "outputs": [
        {
          "data": {
            "text/plain": [
              "0.055632823365785816"
            ]
          },
          "execution_count": 53,
          "metadata": {},
          "output_type": "execute_result"
        }
      ],
      "source": [
        "p = ( null_vals > sample_diff_mean ).mean()\n",
        "p"
      ]
    },
    {
      "cell_type": "markdown",
      "metadata": {
        "id": "wxR02lXtCMjE"
      },
      "source": [
        "##### **Q6. 다음 중 위의 가설검정 결과로 나온 p-value를 통해 도출한 결론을 고르세요.** \n",
        "\n",
        "a. p-value가 0.05보다 작으므로 귀무가설을 기각하고 대립가설을 채택한다.\n",
        "\n",
        "b. p-value가 0.05보다 크므로 귀무가설을 기각하지 못한다.\n",
        "\n",
        "c. p-value가 0.05보다 작으므로 귀무가설을 기각하지 못한다.\n",
        "\n",
        "d. p-value가 0.05보다 크므로 귀무가설을 기각하고 대립가설을 채택한다.\n",
        "\n",
        "e. p-value가 0.05보다 크므로 귀무가설과 대립가설 모두를 채택한다."
      ]
    },
    {
      "cell_type": "markdown",
      "metadata": {
        "id": "CXIay0_nQfqC"
      },
      "source": [
        "### **3-2. Two-tailed Test**\n",
        "\n",
        "> 고객의 자녀가 청소년인 경우의 연간 수입 평균값이 그렇지 않은 경우와 차이가 있는지 판단하고자 합니다.\n",
        "- 자녀가 청소년인 경우 고객의 연간 수입 평균값: $μ_{yes}$\n",
        "- 자녀가 청소년이 아닌 경우 고객의 연간 수입 평균값: $μ_{no}$\n",
        "\n",
        "- 이번 문제에서는 scipy 라이브러리의 [`.ttest_ind()`](https://docs.scipy.org/doc/scipy/reference/generated/scipy.stats.ttest_ind.html)를 사용하여 가설검정을 진행하세요.\n",
        "\n",
        "\n",
        "\n",
        "\n"
      ]
    },
    {
      "cell_type": "markdown",
      "metadata": {
        "id": "2o_fsRGMSvPM"
      },
      "source": [
        "##### **Q7. 이 경우에는 귀무가설과 대립가설을 어떻게 세워야 할까요?** \n",
        "\n",
        "a. $H_0$: $μ_{no} =\\; μ_{yes}\\;$, $\\;H_a$: $μ_{no} \\neq \\;μ_{yes}$\n",
        "\n",
        "b. $H_0$: $μ_{no} < μ_{yes}\\;$, $\\;H_a$: $μ_{no} ≥ μ_{yes}$\n",
        "\n",
        "c. $H_0$: $μ_{no} \\neq\\; μ_{yes}\\;$, $\\;H_a$: $μ_{no} = \\;μ_{yes}$\n",
        "\n",
        "d. $H_0$: $μ_{no} ≤ μ_{yes}\\;$, $\\;H_a$: $μ_{no} > μ_{yes}$\n",
        "\n",
        "</br>\n",
        "\n",
        "\n",
        "\n",
        "\n",
        "\n"
      ]
    },
    {
      "cell_type": "code",
      "execution_count": 54,
      "metadata": {
        "id": "kzHjIWqPWQ80"
      },
      "outputs": [],
      "source": [
        "#정답 : a"
      ]
    },
    {
      "cell_type": "markdown",
      "metadata": {
        "id": "lpIx4YjvCZRe"
      },
      "source": [
        "##### **Q8. 위의 가설 검정 결과로 나온 p-value를 반올림하여 소수점 둘째 자리까지 쓰세요.**"
      ]
    },
    {
      "cell_type": "code",
      "execution_count": 55,
      "metadata": {
        "id": "Fd0STIM8WkNM"
      },
      "outputs": [],
      "source": [
        "from scipy import stats\n",
        "\n",
        "# 독립집합인 a ,b 에 대한 T-test 수행 결과를 print 하고 P-value를 반환\n",
        "# 에러시 np.nan 반환\n",
        "'''\n",
        "  prm_alternative : \n",
        "    'less' : 대안가설이 = 왼쪽의 평균이  오른쪽 보다 작다 인 경우\n",
        "    'greater' \n",
        "    'two-sided' : 대안가설이 = 왼쪽 오른쪽의 평균이 다르다 인 경우  \n",
        "'''\n",
        "def t_test ( a, b , prm_alternative ) :\n",
        "  ret_value = np.nan\n",
        "\n",
        "  \"\"\"\n",
        "  # 정규성 검사 \n",
        "  # : T-검정은 데이터의 정규본포를 가정으로 하는 검증법이다.\n",
        "  # a0_pvalue 와 a1_pvalue 모두 > 0.05 보다 큰지 여부 확인 하여 \n",
        "  # 둘 다 정규성을 만족하지 않는 경우 진행 중단.\n",
        "  # shapiro test p>0.05이면 정규성이 보장된다. \n",
        "  sha_a0, a0_pvalue = stats.shapiro(a)\n",
        "  sha_a1, a1_pvalue = stats.shapiro(b)\n",
        "  if ( (a0_pvalue <= 0.05) | (a1_pvalue <= 0.05) ) :\n",
        "    print (f\"(todo) 에러 발생. {a0_pvalue} , {a1_pvalue} \")\n",
        "    return ret_value\n",
        "  \"\"\"\n",
        "\n",
        "  \"\"\"\n",
        "  # 분산의 동질성 검정\n",
        "  # scipy.ttest_ind ( ) 를 사용하기 위해서는 분산 동질성 여부를 알고 있어야 한다.\n",
        "  flg_분산동질여부 = False\n",
        "  l, p = stats.levene(a,b)\n",
        "  if p > 0.05 : # 0.05보다 큰 경우 분산은 동질성을 가지고 있다고 할 수 있음\n",
        "    flg_분산동질여부 = True\n",
        "  \"\"\"\n",
        "  flg_분산동질여부 = True\n",
        "\n",
        "  # T 검정 수행\n",
        "  # alternative='less' : 대안가설이 = 왼쪽의 평균이  오른쪽 보다 작다 인 경우\n",
        "  # greater\n",
        "  # alternative='two-sided' : 대안가설이 = 왼쪽 오른쪽의 평균이 다르다 인 경우  \n",
        "  t, p = stats.ttest_ind(a, b , equal_var= flg_분산동질여부 , alternative=prm_alternative )\n",
        "\n",
        "\n",
        "  # 결과출력\n",
        "  # p < 0.05 인 귀무가설 기각\n",
        "  rslt_맞는가설 = '귀무가설'\n",
        "  if ( p < 0.05 ) :\n",
        "      rslt_맞는가설 = '대립가설'\n",
        "  print ( f\"{rslt_맞는가설}이 맞음 p= {p}\" )\n",
        "\n",
        "  ret_value = p \n",
        "  \n",
        "  return ret_value"
      ]
    },
    {
      "cell_type": "code",
      "execution_count": 56,
      "metadata": {
        "colab": {
          "base_uri": "https://localhost:8080/"
        },
        "id": "lSpBqqYzaFGx",
        "outputId": "56e3c48b-5f81-465f-e059-16f877fe92b4"
      },
      "outputs": [
        {
          "name": "stdout",
          "output_type": "stream",
          "text": [
            "귀무가설이 맞음 p= 0.12240766983753497\n"
          ]
        },
        {
          "data": {
            "text/plain": [
              "0.12240766983753497"
            ]
          },
          "execution_count": 56,
          "metadata": {},
          "output_type": "execute_result"
        }
      ],
      "source": [
        "# T-Test 수행\n",
        "\n",
        "np.random.seed(2)\n",
        "\n",
        "#(TODO) 분산동질성이 다른경우로 계산을 하면 값이 다르게 나와서 강제로 분산동질성 = True로 하여 함수를 실행 하였음\n",
        "p = t_test ( df_no['Income'] , df_yes['Income'] , \"two-sided\" )\n",
        "p\n"
      ]
    },
    {
      "cell_type": "code",
      "execution_count": 57,
      "metadata": {
        "colab": {
          "base_uri": "https://localhost:8080/"
        },
        "id": "YdcUYEtNYD1Z",
        "outputId": "f02b95c3-a9e0-43c6-809a-dcbff74ea897"
      },
      "outputs": [
        {
          "data": {
            "text/plain": [
              "0.12"
            ]
          },
          "execution_count": 57,
          "metadata": {},
          "output_type": "execute_result"
        }
      ],
      "source": [
        "round ( p , 2)"
      ]
    },
    {
      "cell_type": "markdown",
      "metadata": {
        "id": "YzB1I36NgOkw"
      },
      "source": [
        "## **Part 4. 도전 문제**\n",
        "\n",
        "위에서 요구된 사항들을 모두 정확하게 만족하였으며, 아래 내용 또한 만족하는 경우 3점을 얻을 수 있습니다. \n",
        "\n",
        "아래 요구사항은 **optional** 임을 다시 한 번 강조합니다. (필수 요구사항이 아닙니다.)\n",
        "\n",
        "---\n",
        "\n",
        "#### **$\\chi^2$ 가설 검정을 시행합니다**\n",
        "\n",
        "우리가 사용할 $\\chi^2$ - test는 어떤 경우에 사용하는 가설 검정 방법인지 알아봅시다.\n",
        "\n",
        "\n",
        "- one sample $\\chi^2$ - test (적합도 검정)\n",
        "  > **주어진 하나의 범주형 변수가 특정 예상되는 분포와 동일한 분포를 나타내는지** 에 대한 가설 검정 방법\n",
        "\n",
        "  - 귀무가설($H_0$): 주어진 변수 X의 관측분포와 특정 예상 분포가 동일하다.\n",
        "  - 대립가설($H_a$): 주어진 변수 X의 관측분포와 특정 예상 분포가 다르다.\n",
        "\n",
        "- two sample $\\chi^2$ - test (독립성 검정)\n",
        "  > **두 개의 범주형 변수가 서로 연관되어 있는지 여부**에 대한 가설 검정 방법\n",
        "\n",
        "  - 귀무가설($H_0$): 변수 X와 Y는 서로 독립이다. (연관 없음)\n",
        "  - 대립가설($H_a$): 변수 X와 Y는 서로 독립이 아니다. (연관 있음)\n",
        "\n",
        "</br>\n",
        "\n",
        "위의 가설검정 방법에 대한 설명을 참고하여 진행해봅니다.\n"
      ]
    },
    {
      "cell_type": "markdown",
      "metadata": {
        "id": "PqOZQRk2kbkd"
      },
      "source": [
        "### **4-1. one sample $\\chi^2$ - test**\n",
        "\n",
        "> XYZ사는 다국적 기업으로 다양한 나라에 고객층을 확보하고 있으며, 5월을 맞아 **기혼자를 대상으로 한 이벤트를 기획**하려고 합니다. 이때, 우리는 모든 국가를 대상으로 이벤트를 진행하는 것이 효율적인지 $\\chi^2$ - test를 통해 확인해보려 합니다. 만약 국적별 기혼자의 빈도가 비슷하다면, XYZ사는 모든 국가를 대상으로 이벤트를 진행하는 것을 고려할 것이고, 그렇지 않다면, 어떤 국적의 고객이 더 많은지 파악하는 추가 분석이 필요할 것입니다.\n"
      ]
    },
    {
      "cell_type": "markdown",
      "metadata": {
        "id": "pHHK1iOiE1qV"
      },
      "source": [
        "#### **기혼자의 빈도가 모든 나라에 대해 균일한지 가설 검정을 해보세요.**\n",
        "\n",
        "---\n",
        "\n",
        "[공식문서](https://docs.scipy.org/doc/scipy/reference/generated/scipy.stats.chisquare.html)를 참고하여 아래에 명시된 가설을 검정해봅시다. ($\\alpha$ = 0.05)\n",
        "- 귀무가설($H_0$): 고객의 국적(Country)별 기혼자(Married)의 빈도가 균일하게 분포되어 있다.\n",
        "- 대립가설($H_a$): 고객의 국적(Country)별 기혼자(Married)의 빈도가 균일하게 분포되어 있지 않다.\n",
        "\n",
        "> **Hint:** categorical feature 간의 \"cross tab\"을 생성하여 탐색해 보세요 (aka [contingency tables](https://en.wikipedia.org/wiki/Contingency_table)). 그리고 $\\chi^2 test$를 적용해 보세요. [pandas.crosstab](http://pandas.pydata.org/pandas-docs/stable/reference/api/pandas.crosstab.html)을 사용하면 contingency table 을 생성할 수 있습니다."
      ]
    },
    {
      "cell_type": "code",
      "execution_count": 35,
      "metadata": {
        "colab": {
          "base_uri": "https://localhost:8080/"
        },
        "id": "7yIAYr_KZ2Hv",
        "outputId": "c06a5896-1c3e-448b-f444-9564d56570d4"
      },
      "outputs": [
        {
          "data": {
            "text/plain": [
              "0       Divorced\n",
              "1         Single\n",
              "2        Married\n",
              "3       Together\n",
              "4         Single\n",
              "          ...   \n",
              "2152    Divorced\n",
              "2153    Divorced\n",
              "2154     Married\n",
              "2155    Divorced\n",
              "2156     Married\n",
              "Name: Marital_Status, Length: 2157, dtype: object"
            ]
          },
          "execution_count": 35,
          "metadata": {},
          "output_type": "execute_result"
        }
      ],
      "source": [
        "df_clean['Marital_Status']"
      ]
    },
    {
      "cell_type": "code",
      "execution_count": 14,
      "metadata": {},
      "outputs": [
        {
          "data": {
            "text/plain": [
              "array(['SP', 'CA', 'US', 'AUS', 'GER', 'IND', 'SA', 'ME'], dtype=object)"
            ]
          },
          "execution_count": 14,
          "metadata": {},
          "output_type": "execute_result"
        }
      ],
      "source": [
        "df_clean['Country'].unique()"
      ]
    },
    {
      "cell_type": "code",
      "execution_count": 17,
      "metadata": {},
      "outputs": [
        {
          "data": {
            "text/plain": [
              "array(['Divorced', 'Single', 'Married', 'Together', 'Widow', 'YOLO',\n",
              "       'Alone', 'Absurd'], dtype=object)"
            ]
          },
          "execution_count": 17,
          "metadata": {},
          "output_type": "execute_result"
        }
      ],
      "source": [
        "df_clean['Marital_Status'].unique()"
      ]
    },
    {
      "cell_type": "code",
      "execution_count": 18,
      "metadata": {
        "colab": {
          "base_uri": "https://localhost:8080/",
          "height": 363
        },
        "id": "1-wpWxloaHYW",
        "outputId": "9195345a-3877-4bc0-be04-5410110f4a19"
      },
      "outputs": [
        {
          "data": {
            "text/html": [
              "<div>\n",
              "<style scoped>\n",
              "    .dataframe tbody tr th:only-of-type {\n",
              "        vertical-align: middle;\n",
              "    }\n",
              "\n",
              "    .dataframe tbody tr th {\n",
              "        vertical-align: top;\n",
              "    }\n",
              "\n",
              "    .dataframe thead th {\n",
              "        text-align: right;\n",
              "    }\n",
              "</style>\n",
              "<table border=\"1\" class=\"dataframe\">\n",
              "  <thead>\n",
              "    <tr style=\"text-align: right;\">\n",
              "      <th>col_0</th>\n",
              "      <th>Absurd</th>\n",
              "      <th>Alone</th>\n",
              "      <th>Divorced</th>\n",
              "      <th>Married</th>\n",
              "      <th>Single</th>\n",
              "      <th>Together</th>\n",
              "      <th>Widow</th>\n",
              "      <th>YOLO</th>\n",
              "      <th>All</th>\n",
              "    </tr>\n",
              "    <tr>\n",
              "      <th>row_0</th>\n",
              "      <th></th>\n",
              "      <th></th>\n",
              "      <th></th>\n",
              "      <th></th>\n",
              "      <th></th>\n",
              "      <th></th>\n",
              "      <th></th>\n",
              "      <th></th>\n",
              "      <th></th>\n",
              "    </tr>\n",
              "  </thead>\n",
              "  <tbody>\n",
              "    <tr>\n",
              "      <th>AUS</th>\n",
              "      <td>0</td>\n",
              "      <td>0</td>\n",
              "      <td>0</td>\n",
              "      <td>0</td>\n",
              "      <td>0</td>\n",
              "      <td>1</td>\n",
              "      <td>0</td>\n",
              "      <td>0</td>\n",
              "      <td>1</td>\n",
              "    </tr>\n",
              "    <tr>\n",
              "      <th>CA</th>\n",
              "      <td>0</td>\n",
              "      <td>0</td>\n",
              "      <td>0</td>\n",
              "      <td>0</td>\n",
              "      <td>1</td>\n",
              "      <td>0</td>\n",
              "      <td>0</td>\n",
              "      <td>0</td>\n",
              "      <td>1</td>\n",
              "    </tr>\n",
              "    <tr>\n",
              "      <th>GER</th>\n",
              "      <td>0</td>\n",
              "      <td>0</td>\n",
              "      <td>0</td>\n",
              "      <td>0</td>\n",
              "      <td>0</td>\n",
              "      <td>0</td>\n",
              "      <td>1</td>\n",
              "      <td>0</td>\n",
              "      <td>1</td>\n",
              "    </tr>\n",
              "    <tr>\n",
              "      <th>IND</th>\n",
              "      <td>0</td>\n",
              "      <td>0</td>\n",
              "      <td>0</td>\n",
              "      <td>0</td>\n",
              "      <td>0</td>\n",
              "      <td>0</td>\n",
              "      <td>0</td>\n",
              "      <td>1</td>\n",
              "      <td>1</td>\n",
              "    </tr>\n",
              "    <tr>\n",
              "      <th>ME</th>\n",
              "      <td>1</td>\n",
              "      <td>0</td>\n",
              "      <td>0</td>\n",
              "      <td>0</td>\n",
              "      <td>0</td>\n",
              "      <td>0</td>\n",
              "      <td>0</td>\n",
              "      <td>0</td>\n",
              "      <td>1</td>\n",
              "    </tr>\n",
              "    <tr>\n",
              "      <th>SA</th>\n",
              "      <td>0</td>\n",
              "      <td>1</td>\n",
              "      <td>0</td>\n",
              "      <td>0</td>\n",
              "      <td>0</td>\n",
              "      <td>0</td>\n",
              "      <td>0</td>\n",
              "      <td>0</td>\n",
              "      <td>1</td>\n",
              "    </tr>\n",
              "    <tr>\n",
              "      <th>SP</th>\n",
              "      <td>0</td>\n",
              "      <td>0</td>\n",
              "      <td>1</td>\n",
              "      <td>0</td>\n",
              "      <td>0</td>\n",
              "      <td>0</td>\n",
              "      <td>0</td>\n",
              "      <td>0</td>\n",
              "      <td>1</td>\n",
              "    </tr>\n",
              "    <tr>\n",
              "      <th>US</th>\n",
              "      <td>0</td>\n",
              "      <td>0</td>\n",
              "      <td>0</td>\n",
              "      <td>1</td>\n",
              "      <td>0</td>\n",
              "      <td>0</td>\n",
              "      <td>0</td>\n",
              "      <td>0</td>\n",
              "      <td>1</td>\n",
              "    </tr>\n",
              "    <tr>\n",
              "      <th>All</th>\n",
              "      <td>1</td>\n",
              "      <td>1</td>\n",
              "      <td>1</td>\n",
              "      <td>1</td>\n",
              "      <td>1</td>\n",
              "      <td>1</td>\n",
              "      <td>1</td>\n",
              "      <td>1</td>\n",
              "      <td>8</td>\n",
              "    </tr>\n",
              "  </tbody>\n",
              "</table>\n",
              "</div>"
            ],
            "text/plain": [
              "col_0  Absurd  Alone  Divorced  Married  Single  Together  Widow  YOLO  All\n",
              "row_0                                                                      \n",
              "AUS         0      0         0        0       0         1      0     0    1\n",
              "CA          0      0         0        0       1         0      0     0    1\n",
              "GER         0      0         0        0       0         0      1     0    1\n",
              "IND         0      0         0        0       0         0      0     1    1\n",
              "ME          1      0         0        0       0         0      0     0    1\n",
              "SA          0      1         0        0       0         0      0     0    1\n",
              "SP          0      0         1        0       0         0      0     0    1\n",
              "US          0      0         0        1       0         0      0     0    1\n",
              "All         1      1         1        1       1         1      1     1    8"
            ]
          },
          "execution_count": 18,
          "metadata": {},
          "output_type": "execute_result"
        }
      ],
      "source": [
        "pd.crosstab(df_clean['Country'].unique(), df_clean['Marital_Status'].unique() , margins=True)"
      ]
    },
    {
      "cell_type": "code",
      "execution_count": 60,
      "metadata": {
        "colab": {
          "base_uri": "https://localhost:8080/"
        },
        "id": "X_677pqMaZoG",
        "outputId": "a9adc2a1-99cd-43c7-a36c-a1c92b0e5634"
      },
      "outputs": [
        {
          "name": "stderr",
          "output_type": "stream",
          "text": [
            "/usr/local/lib/python3.7/dist-packages/ipykernel_launcher.py:1: SettingWithCopyWarning: \n",
            "A value is trying to be set on a copy of a slice from a DataFrame.\n",
            "Try using .loc[row_indexer,col_indexer] = value instead\n",
            "\n",
            "See the caveats in the documentation: https://pandas.pydata.org/pandas-docs/stable/user_guide/indexing.html#returning-a-view-versus-a-copy\n",
            "  \"\"\"Entry point for launching an IPython kernel.\n"
          ]
        }
      ],
      "source": [
        "df_clean['isMarried'] = df_clean['Marital_Status'].apply( lambda x: 1 if x == 'Married' else 0 )"
      ]
    },
    {
      "cell_type": "code",
      "execution_count": 61,
      "metadata": {
        "colab": {
          "base_uri": "https://localhost:8080/"
        },
        "id": "wpy5xavwfZYz",
        "outputId": "51619a24-3479-4cf6-bda0-8efc6340e480"
      },
      "outputs": [
        {
          "name": "stdout",
          "output_type": "stream",
          "text": [
            "isMarried    0    1\n",
            "Country            \n",
            "AUS         78   65\n",
            "CA         158   97\n",
            "GER         59   56\n",
            "IND         89   55\n",
            "ME           3    0\n",
            "SA         224  104\n",
            "SP         644  422\n",
            "US          70   33\n"
          ]
        }
      ],
      "source": [
        "obs = pd.crosstab(df_clean['Country'], df_clean['isMarried'])\n",
        "print ( obs )\n"
      ]
    },
    {
      "cell_type": "code",
      "execution_count": 71,
      "metadata": {
        "colab": {
          "base_uri": "https://localhost:8080/"
        },
        "id": "1kivbGl4qBoo",
        "outputId": "3c6e16fa-9fd9-4bc0-de10-5751c1d6352c"
      },
      "outputs": [
        {
          "data": {
            "text/plain": [
              "Country\n",
              "AUS     65\n",
              "CA      97\n",
              "GER     56\n",
              "IND     55\n",
              "ME       0\n",
              "SA     104\n",
              "SP     422\n",
              "US      33\n",
              "Name: 1, dtype: int64"
            ]
          },
          "execution_count": 71,
          "metadata": {},
          "output_type": "execute_result"
        }
      ],
      "source": [
        "ct_mr = pd.crosstab(df_clean.Country,df_clean.isMarried)[1]\n",
        "ct_mr"
      ]
    },
    {
      "cell_type": "code",
      "execution_count": 74,
      "metadata": {
        "colab": {
          "base_uri": "https://localhost:8080/"
        },
        "id": "NEHASX8vqU_Q",
        "outputId": "1e013c71-7b01-494b-df5b-f5c67cd1c970"
      },
      "outputs": [
        {
          "data": {
            "text/plain": [
              "1.1461219475051596e-251"
            ]
          },
          "execution_count": 74,
          "metadata": {},
          "output_type": "execute_result"
        }
      ],
      "source": [
        "statistic , p_value = stats.chisquare(f_obs=ct_mr)\n",
        "p_value"
      ]
    },
    {
      "cell_type": "markdown",
      "metadata": {},
      "source": [
        "----\n",
        "\n"
      ]
    },
    {
      "cell_type": "code",
      "execution_count": 22,
      "metadata": {},
      "outputs": [
        {
          "data": {
            "text/plain": [
              "0        SP\n",
              "1        CA\n",
              "2        US\n",
              "3       AUS\n",
              "4        SP\n",
              "       ... \n",
              "2183     US\n",
              "2184     US\n",
              "2185     SP\n",
              "2186     SP\n",
              "2187    IND\n",
              "Name: Country, Length: 2165, dtype: object"
            ]
          },
          "execution_count": 22,
          "metadata": {},
          "output_type": "execute_result"
        }
      ],
      "source": [
        "df_clean['Country']"
      ]
    },
    {
      "cell_type": "code",
      "execution_count": 21,
      "metadata": {},
      "outputs": [
        {
          "data": {
            "text/plain": [
              "0       Divorced\n",
              "1         Single\n",
              "2        Married\n",
              "3       Together\n",
              "4         Single\n",
              "          ...   \n",
              "2183    Divorced\n",
              "2184    Divorced\n",
              "2185     Married\n",
              "2186    Divorced\n",
              "2187     Married\n",
              "Name: Marital_Status, Length: 2165, dtype: object"
            ]
          },
          "execution_count": 21,
          "metadata": {},
          "output_type": "execute_result"
        }
      ],
      "source": [
        "df_clean['Marital_Status']"
      ]
    },
    {
      "cell_type": "code",
      "execution_count": 36,
      "metadata": {},
      "outputs": [
        {
          "data": {
            "text/html": [
              "<div>\n",
              "<style scoped>\n",
              "    .dataframe tbody tr th:only-of-type {\n",
              "        vertical-align: middle;\n",
              "    }\n",
              "\n",
              "    .dataframe tbody tr th {\n",
              "        vertical-align: top;\n",
              "    }\n",
              "\n",
              "    .dataframe thead th {\n",
              "        text-align: right;\n",
              "    }\n",
              "</style>\n",
              "<table border=\"1\" class=\"dataframe\">\n",
              "  <thead>\n",
              "    <tr style=\"text-align: right;\">\n",
              "      <th>Marital_Status</th>\n",
              "      <th>Absurd</th>\n",
              "      <th>Alone</th>\n",
              "      <th>Divorced</th>\n",
              "      <th>Married</th>\n",
              "      <th>Single</th>\n",
              "      <th>Together</th>\n",
              "      <th>Widow</th>\n",
              "      <th>YOLO</th>\n",
              "    </tr>\n",
              "    <tr>\n",
              "      <th>Country</th>\n",
              "      <th></th>\n",
              "      <th></th>\n",
              "      <th></th>\n",
              "      <th></th>\n",
              "      <th></th>\n",
              "      <th></th>\n",
              "      <th></th>\n",
              "      <th></th>\n",
              "    </tr>\n",
              "  </thead>\n",
              "  <tbody>\n",
              "    <tr>\n",
              "      <th>AUS</th>\n",
              "      <td>1</td>\n",
              "      <td>0</td>\n",
              "      <td>18</td>\n",
              "      <td>65</td>\n",
              "      <td>17</td>\n",
              "      <td>37</td>\n",
              "      <td>5</td>\n",
              "      <td>0</td>\n",
              "    </tr>\n",
              "    <tr>\n",
              "      <th>CA</th>\n",
              "      <td>1</td>\n",
              "      <td>3</td>\n",
              "      <td>26</td>\n",
              "      <td>97</td>\n",
              "      <td>57</td>\n",
              "      <td>64</td>\n",
              "      <td>6</td>\n",
              "      <td>1</td>\n",
              "    </tr>\n",
              "    <tr>\n",
              "      <th>GER</th>\n",
              "      <td>0</td>\n",
              "      <td>0</td>\n",
              "      <td>6</td>\n",
              "      <td>56</td>\n",
              "      <td>18</td>\n",
              "      <td>31</td>\n",
              "      <td>4</td>\n",
              "      <td>0</td>\n",
              "    </tr>\n",
              "    <tr>\n",
              "      <th>IND</th>\n",
              "      <td>0</td>\n",
              "      <td>0</td>\n",
              "      <td>10</td>\n",
              "      <td>55</td>\n",
              "      <td>36</td>\n",
              "      <td>38</td>\n",
              "      <td>4</td>\n",
              "      <td>1</td>\n",
              "    </tr>\n",
              "    <tr>\n",
              "      <th>ME</th>\n",
              "      <td>0</td>\n",
              "      <td>0</td>\n",
              "      <td>0</td>\n",
              "      <td>0</td>\n",
              "      <td>2</td>\n",
              "      <td>1</td>\n",
              "      <td>0</td>\n",
              "      <td>0</td>\n",
              "    </tr>\n",
              "    <tr>\n",
              "      <th>SA</th>\n",
              "      <td>0</td>\n",
              "      <td>0</td>\n",
              "      <td>45</td>\n",
              "      <td>104</td>\n",
              "      <td>70</td>\n",
              "      <td>97</td>\n",
              "      <td>12</td>\n",
              "      <td>0</td>\n",
              "    </tr>\n",
              "    <tr>\n",
              "      <th>SP</th>\n",
              "      <td>0</td>\n",
              "      <td>0</td>\n",
              "      <td>104</td>\n",
              "      <td>422</td>\n",
              "      <td>233</td>\n",
              "      <td>265</td>\n",
              "      <td>42</td>\n",
              "      <td>0</td>\n",
              "    </tr>\n",
              "    <tr>\n",
              "      <th>US</th>\n",
              "      <td>0</td>\n",
              "      <td>0</td>\n",
              "      <td>16</td>\n",
              "      <td>33</td>\n",
              "      <td>29</td>\n",
              "      <td>23</td>\n",
              "      <td>2</td>\n",
              "      <td>0</td>\n",
              "    </tr>\n",
              "  </tbody>\n",
              "</table>\n",
              "</div>"
            ],
            "text/plain": [
              "Marital_Status  Absurd  Alone  Divorced  Married  Single  Together  Widow  \\\n",
              "Country                                                                     \n",
              "AUS                  1      0        18       65      17        37      5   \n",
              "CA                   1      3        26       97      57        64      6   \n",
              "GER                  0      0         6       56      18        31      4   \n",
              "IND                  0      0        10       55      36        38      4   \n",
              "ME                   0      0         0        0       2         1      0   \n",
              "SA                   0      0        45      104      70        97     12   \n",
              "SP                   0      0       104      422     233       265     42   \n",
              "US                   0      0        16       33      29        23      2   \n",
              "\n",
              "Marital_Status  YOLO  \n",
              "Country               \n",
              "AUS                0  \n",
              "CA                 1  \n",
              "GER                0  \n",
              "IND                1  \n",
              "ME                 0  \n",
              "SA                 0  \n",
              "SP                 0  \n",
              "US                 0  "
            ]
          },
          "execution_count": 36,
          "metadata": {},
          "output_type": "execute_result"
        }
      ],
      "source": [
        "# 국적 - 결혼상태 crosstab 생성\n",
        "country_marital = pd.crosstab(df_clean['Country'], df_clean['Marital_Status'])\n",
        "country_marital\n",
        "\n"
      ]
    },
    {
      "cell_type": "code",
      "execution_count": 37,
      "metadata": {},
      "outputs": [
        {
          "data": {
            "text/plain": [
              "Country\n",
              "AUS     65\n",
              "CA      97\n",
              "GER     56\n",
              "IND     55\n",
              "ME       0\n",
              "SA     104\n",
              "SP     422\n",
              "US      33\n",
              "Name: Married, dtype: int64"
            ]
          },
          "execution_count": 37,
          "metadata": {},
          "output_type": "execute_result"
        }
      ],
      "source": [
        "# 기혼('Married') 상태에 해당하는 데이터만 추출\n",
        "married = country_marital.loc[:,'Married']\n",
        "married"
      ]
    },
    {
      "cell_type": "code",
      "execution_count": 38,
      "metadata": {},
      "outputs": [
        {
          "data": {
            "text/plain": [
              "1.1461219475051596e-251"
            ]
          },
          "execution_count": 38,
          "metadata": {},
          "output_type": "execute_result"
        }
      ],
      "source": [
        "# option 1) chisquare f_exp 파라미터 지정 X\n",
        "stats, pvalue = chisquare(married)\n",
        "pvalue\n",
        "\n"
      ]
    },
    {
      "cell_type": "code",
      "execution_count": 39,
      "metadata": {},
      "outputs": [
        {
          "data": {
            "text/plain": [
              "1.1461219475051596e-251"
            ]
          },
          "execution_count": 39,
          "metadata": {},
          "output_type": "execute_result"
        }
      ],
      "source": [
        "# option 2) 실제 분포와 기대 분포 직접 비교\n",
        "\n",
        "# 기혼자 명수 총합\n",
        "married_ppl = sum(married)\n",
        "married_ppl\n",
        "# 국적 수\n",
        "len(df_clean['Country'].unique())\n",
        "# 기혼('Married')에 해당하는 전체 데이터 수를 국적 수(8)으로 나눈 빈도 = 우리의 기대 분포 (국적별 빈도가 균일함)\n",
        "exp = [married_ppl / 8]\n",
        "exp_f = exp * 8\n",
        "exp_f\n",
        "\n",
        "\n",
        "# option 2) 실제 분포와 기대 분포 직접 비교\n",
        "stats2, pvalue2 = chisquare(married, exp_f)\n",
        "pvalue2"
      ]
    },
    {
      "cell_type": "markdown",
      "metadata": {
        "id": "JGov3kLCobnX"
      },
      "source": [
        "### **4-2. P-value 해석**\n",
        "\n"
      ]
    },
    {
      "cell_type": "markdown",
      "metadata": {
        "id": "Em0Pj-5PCxeH"
      },
      "source": [
        "#### **가설검정 결과로 나온 p-value를 바탕으로 결론을 제시하세요.**"
      ]
    },
    {
      "cell_type": "code",
      "execution_count": 75,
      "metadata": {
        "colab": {
          "base_uri": "https://localhost:8080/"
        },
        "id": "0jxYfPpJcjDe",
        "outputId": "fa831512-673a-4849-9158-e7aa091bd3f8"
      },
      "outputs": [
        {
          "name": "stdout",
          "output_type": "stream",
          "text": [
            "1.1461219475051596e-251\n",
            "대립가설 채택 여부  True\n"
          ]
        }
      ],
      "source": [
        "print ( p_value )\n",
        "print ( \"대립가설 채택 여부 \" , p_value < 0.05)\n"
      ]
    },
    {
      "cell_type": "markdown",
      "metadata": {
        "id": "f69bC4aUaNuC"
      },
      "source": [
        "```## 이곳에 답을 작성하세요. ##```\n",
        "\n",
        "대립가설 채택 : 국가별로 기혼자 수 비율은 차이가 있다.\n"
      ]
    }
  ],
  "metadata": {
    "colab": {
      "collapsed_sections": [],
      "include_colab_link": true,
      "name": "\bai-sc12x.ipynb",
      "provenance": []
    },
    "kernelspec": {
      "display_name": "Python 3.9.12 ('base')",
      "language": "python",
      "name": "python3"
    },
    "language_info": {
      "codemirror_mode": {
        "name": "ipython",
        "version": 3
      },
      "file_extension": ".py",
      "mimetype": "text/x-python",
      "name": "python",
      "nbconvert_exporter": "python",
      "pygments_lexer": "ipython3",
      "version": "3.9.12"
    },
    "vscode": {
      "interpreter": {
        "hash": "cca240df8b4cc966d527f5e5f91069ba19ec750ec1338ff7cbac995a358e55d1"
      }
    }
  },
  "nbformat": 4,
  "nbformat_minor": 0
}
