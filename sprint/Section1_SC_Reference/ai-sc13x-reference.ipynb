{
  "nbformat": 4,
  "nbformat_minor": 0,
  "metadata": {
    "colab": {
      "name": "ai-sc13x-reference.ipynb",
      "provenance": [],
      "collapsed_sections": []
    },
    "kernelspec": {
      "display_name": "Python 3",
      "language": "python",
      "name": "python3"
    },
    "language_info": {
      "codemirror_mode": {
        "name": "ipython",
        "version": 3
      },
      "file_extension": ".py",
      "mimetype": "text/x-python",
      "name": "python",
      "nbconvert_exporter": "python",
      "pygments_lexer": "ipython3",
      "version": "3.8.8"
    }
  },
  "cells": [
    {
      "cell_type": "markdown",
      "metadata": {
        "id": "-wQxiT7yC4_v"
      },
      "source": [
        "<img src='https://i.imgur.com/RDAD11M.png' width = '200' align = 'right'>\n",
        "\n",
        "# **SC13x** \n",
        "\n",
        "# **Linear Algebra**"
      ]
    },
    {
      "cell_type": "markdown",
      "source": [
        "## **Part 1. Linear Algebra**"
      ],
      "metadata": {
        "id": "EgY7IRfyLFmL"
      }
    },
    {
      "cell_type": "markdown",
      "metadata": {
        "id": "vBbJ0ZyPD6RG"
      },
      "source": [
        "### **1-1. 벡터의 내적**\n",
        "\n",
        "\\begin{align}\n",
        "\\vec{c} = \\begin{bmatrix}3 & 7 & -2 & 12\\end{bmatrix}\n",
        "\\qquad\n",
        "\\vec{d} = \\begin{bmatrix}9 & -7 & 4 & 6\\end{bmatrix}\n",
        "\\end{align}\n",
        "\n",
        "</br>\n",
        "\n",
        "- $\\vec{c} \\cdot \\vec{d}$ 를 구해보세요. \n",
        "- 이 두 개의 vector가 orthogonal 관계 (직교)에 있는지 확인해보세요."
      ]
    },
    {
      "cell_type": "markdown",
      "source": [
        "##### **Q1. 두 벡터 c, d가 orthogonal 관계(직교)에 있다면 왜 그런지, 아니라면 왜 아닌지 쓰세요.**"
      ],
      "metadata": {
        "id": "Lhm9xc65lah-"
      }
    },
    {
      "cell_type": "code",
      "metadata": {
        "id": "NYb8BalmIfgY",
        "outputId": "accf4fde-cc30-4d71-ea71-d16420b56840",
        "colab": {
          "base_uri": "https://localhost:8080/"
        }
      },
      "source": [
        "import numpy as np\n",
        "\n",
        "# vector c, d 선언\n",
        "c = np.array([3,7,-2,12])\n",
        "d = np.array([9,-7,4,6])\n",
        "\n",
        "print(f\"벡터 c와 d의 내적: {np.dot(c,d)}\")"
      ],
      "execution_count": null,
      "outputs": [
        {
          "output_type": "stream",
          "name": "stdout",
          "text": [
            "벡터 c와 d의 내적: 42\n"
          ]
        }
      ]
    },
    {
      "cell_type": "markdown",
      "metadata": {
        "id": "gS85sJHWG7iU"
      },
      "source": [
        "### **1-2. 행렬의 연산**\n",
        "\n",
        "\n",
        "\\begin{align}\n",
        "E = \n",
        "\\begin{bmatrix}\n",
        "    7 & 4 & 2 \\\\\n",
        "    1 & 3 & -1 \\\\\n",
        "    2 & 6 & -4\n",
        "\\end{bmatrix}\n",
        "\\end{align}\n",
        "\n",
        "</br>\n",
        "\n",
        "- $E^{-1}$, $E^T$을 구하세요.\n",
        "\n",
        "\n",
        "\n"
      ]
    },
    {
      "cell_type": "markdown",
      "source": [
        "##### **Q2. $E^{-1}$의 첫번째 row의 합을 반올림하여 소수점 둘째 자리까지 구한 값과 $E^T$의 첫번째 row의 합을 튜플 형태로 쓰세요. ex) (0.12, 22)** "
      ],
      "metadata": {
        "id": "iK1z_VD0-Qdf"
      }
    },
    {
      "cell_type": "code",
      "source": [
        "# 행렬 E 선언\n",
        "E = np.array([[7,4,2],\n",
        "              [1,3,-1],\n",
        "              [2,6,-4]])\n",
        "\n",
        "# 역행렬\n",
        "e_inv = np.linalg.inv(E)\n",
        "print(f\"Inverse of E: \\n {e_inv} \\n\")\n",
        "\n",
        "# 전치행렬\n",
        "e_t = np.transpose(E)\n",
        "print(f\"Transpose of E: \\n {e_t}\\n\")\n",
        "\n",
        "round(e_inv[0].sum(), 2), e_t[0].sum()"
      ],
      "metadata": {
        "colab": {
          "base_uri": "https://localhost:8080/"
        },
        "id": "RZBPqEZCYL3Z",
        "outputId": "5c4c5ebe-9019-4c0a-8616-04d212751a64"
      },
      "execution_count": null,
      "outputs": [
        {
          "output_type": "stream",
          "name": "stdout",
          "text": [
            "Inverse of E: \n",
            " [[ 0.17647059 -0.82352941  0.29411765]\n",
            " [-0.05882353  0.94117647 -0.26470588]\n",
            " [ 0.          1.         -0.5       ]] \n",
            "\n",
            "Transpose of E: \n",
            " [[ 7  1  2]\n",
            " [ 4  3  6]\n",
            " [ 2 -1 -4]]\n",
            "\n"
          ]
        },
        {
          "output_type": "execute_result",
          "data": {
            "text/plain": [
              "(-0.35, 10)"
            ]
          },
          "metadata": {},
          "execution_count": 13
        }
      ]
    },
    {
      "cell_type": "markdown",
      "metadata": {
        "id": "_DFQHO2HcPNz"
      },
      "source": [
        "### **1-3. Determinant**\n",
        "\n",
        "행렬 $F$ 를 활용하여 다음 `Q3` 질문에 답해봅니다.\n",
        "\n",
        "</br>\n",
        "\n",
        "\\begin{align}\n",
        "F = \n",
        "\\begin{bmatrix}\n",
        "    2 & -2 & 5 \\\\\n",
        "    4 & 1 & 10 \\\\\n",
        "    12 & 6 & 30\n",
        "\\end{bmatrix}\n",
        "\\end{align}\n",
        "\n",
        "\n",
        "\n",
        " \n",
        "\n"
      ]
    },
    {
      "cell_type": "markdown",
      "source": [
        "##### **Q3. $det F$ 값을 바탕으로 행렬 $F$ 에는 어떤 의미가 있는지 쓰세요.**"
      ],
      "metadata": {
        "id": "EGXFxgSLOGen"
      }
    },
    {
      "cell_type": "code",
      "metadata": {
        "id": "SOwAl9-_Kfy7",
        "outputId": "621f4704-bed0-4054-f4f2-92c750e646ee",
        "colab": {
          "base_uri": "https://localhost:8080/"
        }
      },
      "source": [
        "# numpy의 메소드로 Determinant 계산\n",
        "F = np.array([[2,-2,5],\n",
        "              [4,1,10],\n",
        "              [12,6,30]])\n",
        "\n",
        "print(np.linalg.det(F))  "
      ],
      "execution_count": null,
      "outputs": [
        {
          "output_type": "stream",
          "name": "stdout",
          "text": [
            "0.0\n"
          ]
        }
      ]
    },
    {
      "cell_type": "code",
      "metadata": {
        "id": "wBbeGEc7Kfy8",
        "outputId": "97807e85-7abd-4dae-e784-996e4f8477d6",
        "colab": {
          "base_uri": "https://localhost:8080/"
        }
      },
      "source": [
        "np.linalg.matrix_rank(F) "
      ],
      "execution_count": null,
      "outputs": [
        {
          "output_type": "execute_result",
          "data": {
            "text/plain": [
              "2"
            ]
          },
          "metadata": {},
          "execution_count": 15
        }
      ]
    },
    {
      "cell_type": "markdown",
      "source": [
        "## **Part 2. PCA**"
      ],
      "metadata": {
        "id": "RtdNhKSDO5e1"
      }
    },
    {
      "cell_type": "markdown",
      "metadata": {
        "id": "ap-us2lBGQyi"
      },
      "source": [
        "### **2-1. Covariance & Correlation**\n",
        "\n",
        "- 다음 표를 보고 `S&P 500`과 `ABC Corp.`의 공분산과 상관계수를 구하세요.\n",
        "\n",
        "  <img src='https://i.imgur.com/QBCt8yx.png' width=500>"
      ]
    },
    {
      "cell_type": "markdown",
      "source": [
        "##### **Q4. 공분산과 상관계수를 각각 반올림하여 소수점 둘째 자리까지 구하여 (공분산, 상관계수)의 형태로 쓰세요.** "
      ],
      "metadata": {
        "id": "VqGeHOycP_3m"
      }
    },
    {
      "cell_type": "code",
      "metadata": {
        "id": "xS-JuHl9JiiP",
        "outputId": "ef601bbb-5f1e-4282-9444-01eddc4ec33a",
        "colab": {
          "base_uri": "https://localhost:8080/"
        }
      },
      "source": [
        "sp500 = [1692, 1978, 1884, 2151, 2519]\n",
        "abc = [68, 102, 110, 112, 154]\n",
        "\n",
        "cov = round(np.cov(sp500, abc)[0][1], 2)\n",
        "corr = round(np.corrcoef(sp500, abc)[0][1], 2)\n",
        "\n",
        "cov, corr"
      ],
      "execution_count": null,
      "outputs": [
        {
          "output_type": "execute_result",
          "data": {
            "text/plain": [
              "(9107.3, 0.95)"
            ]
          },
          "metadata": {},
          "execution_count": 16
        }
      ]
    },
    {
      "cell_type": "markdown",
      "metadata": {
        "id": "f6qJAPaaOdzD"
      },
      "source": [
        "### **2-2. \bPCA**\n",
        "\n",
        "\n"
      ]
    },
    {
      "cell_type": "markdown",
      "source": [
        "#### **2-2-a. 데이터 표준화** \n",
        "\n",
        "- `Country` column을 `country` 라는 변수에 저장하세요.\n",
        "- 다음 [링크](https://scikit-learn.org/stable/modules/generated/sklearn.preprocessing.StandardScaler.html)를 참고하여 `df`의 numerical columns에 대해 표준화를 진행하세요.\n",
        "\n",
        "\n"
      ],
      "metadata": {
        "id": "EloVA2NeR7M0"
      }
    },
    {
      "cell_type": "markdown",
      "source": [
        "##### **Q5. 표준화 한 후, `Sugars` column의 index가 0인 값을 반올림하여 소수점 둘째 자리까지 구하세요.**"
      ],
      "metadata": {
        "id": "shiGKANVWWAO"
      }
    },
    {
      "cell_type": "code",
      "metadata": {
        "colab": {
          "base_uri": "https://localhost:8080/",
          "height": 274
        },
        "id": "bogsxfNyJlAw",
        "outputId": "014db11b-21d7-4e95-f350-02faeeaa1e03"
      },
      "source": [
        "import pandas as pd\n",
        "\n",
        "data = {\"Country\": [\"England\",\"Wales\",\"Scotland\",\"North Ireland\"], \n",
        "        \"Cheese\": [105,103,103,66], \n",
        "        \"Carcass_Meat\": [245,227,242,267], \n",
        "        \"Other_Meat\": [685, 803, 750, 586], \n",
        "        \"Fish\": [147, 160, 122, 93], \n",
        "        \"Fats_and_Oils\": [193, 235, 184, 209], \n",
        "        \"Sugars\": [156, 175, 147, 139], \n",
        "        \"Fresh_Potatoes\": [720, 874, 566, 1033], \n",
        "        \"Fresh_Veg\": [253, 265, 171, 143], \n",
        "        \"Other_Veg\": [488, 570, 418, 355], \n",
        "        \"Processed_Potatoes\": [198, 203, 220, 187], \n",
        "        \"Processed_Veg\": [360, 365, 337, 334], \n",
        "        \"Fresh_Fruit\": [1102, 1137, 957, 674], \n",
        "        \"Cereals\": [1472, 1582, 1462, 1494], \n",
        "        \"Beverages\": [57,73,53,47], \n",
        "        \"Soft_Drinks\": [1374, 1256, 1572, 1506], \n",
        "        \"Alcoholic Drinks\": [375, 475, 458, 135], \n",
        "        \"Confectionery\": [54, 64, 62, 41]}\n",
        "\n",
        "df = pd.DataFrame(data)\n",
        "\n",
        "df"
      ],
      "execution_count": null,
      "outputs": [
        {
          "output_type": "execute_result",
          "data": {
            "text/plain": [
              "         Country  Cheese  Carcass_Meat  Other_Meat  Fish  Fats_and_Oils  \\\n",
              "0        England     105           245         685   147            193   \n",
              "1          Wales     103           227         803   160            235   \n",
              "2       Scotland     103           242         750   122            184   \n",
              "3  North Ireland      66           267         586    93            209   \n",
              "\n",
              "   Sugars  Fresh_Potatoes  Fresh_Veg  Other_Veg  Processed_Potatoes  \\\n",
              "0     156             720        253        488                 198   \n",
              "1     175             874        265        570                 203   \n",
              "2     147             566        171        418                 220   \n",
              "3     139            1033        143        355                 187   \n",
              "\n",
              "   Processed_Veg  Fresh_Fruit  Cereals  Beverages  Soft_Drinks  \\\n",
              "0            360         1102     1472         57         1374   \n",
              "1            365         1137     1582         73         1256   \n",
              "2            337          957     1462         53         1572   \n",
              "3            334          674     1494         47         1506   \n",
              "\n",
              "   Alcoholic Drinks  Confectionery  \n",
              "0               375             54  \n",
              "1               475             64  \n",
              "2               458             62  \n",
              "3               135             41  "
            ],
            "text/html": [
              "\n",
              "  <div id=\"df-3a17b419-b9e1-43ae-bfa3-1adaedce6e93\">\n",
              "    <div class=\"colab-df-container\">\n",
              "      <div>\n",
              "<style scoped>\n",
              "    .dataframe tbody tr th:only-of-type {\n",
              "        vertical-align: middle;\n",
              "    }\n",
              "\n",
              "    .dataframe tbody tr th {\n",
              "        vertical-align: top;\n",
              "    }\n",
              "\n",
              "    .dataframe thead th {\n",
              "        text-align: right;\n",
              "    }\n",
              "</style>\n",
              "<table border=\"1\" class=\"dataframe\">\n",
              "  <thead>\n",
              "    <tr style=\"text-align: right;\">\n",
              "      <th></th>\n",
              "      <th>Country</th>\n",
              "      <th>Cheese</th>\n",
              "      <th>Carcass_Meat</th>\n",
              "      <th>Other_Meat</th>\n",
              "      <th>Fish</th>\n",
              "      <th>Fats_and_Oils</th>\n",
              "      <th>Sugars</th>\n",
              "      <th>Fresh_Potatoes</th>\n",
              "      <th>Fresh_Veg</th>\n",
              "      <th>Other_Veg</th>\n",
              "      <th>Processed_Potatoes</th>\n",
              "      <th>Processed_Veg</th>\n",
              "      <th>Fresh_Fruit</th>\n",
              "      <th>Cereals</th>\n",
              "      <th>Beverages</th>\n",
              "      <th>Soft_Drinks</th>\n",
              "      <th>Alcoholic Drinks</th>\n",
              "      <th>Confectionery</th>\n",
              "    </tr>\n",
              "  </thead>\n",
              "  <tbody>\n",
              "    <tr>\n",
              "      <th>0</th>\n",
              "      <td>England</td>\n",
              "      <td>105</td>\n",
              "      <td>245</td>\n",
              "      <td>685</td>\n",
              "      <td>147</td>\n",
              "      <td>193</td>\n",
              "      <td>156</td>\n",
              "      <td>720</td>\n",
              "      <td>253</td>\n",
              "      <td>488</td>\n",
              "      <td>198</td>\n",
              "      <td>360</td>\n",
              "      <td>1102</td>\n",
              "      <td>1472</td>\n",
              "      <td>57</td>\n",
              "      <td>1374</td>\n",
              "      <td>375</td>\n",
              "      <td>54</td>\n",
              "    </tr>\n",
              "    <tr>\n",
              "      <th>1</th>\n",
              "      <td>Wales</td>\n",
              "      <td>103</td>\n",
              "      <td>227</td>\n",
              "      <td>803</td>\n",
              "      <td>160</td>\n",
              "      <td>235</td>\n",
              "      <td>175</td>\n",
              "      <td>874</td>\n",
              "      <td>265</td>\n",
              "      <td>570</td>\n",
              "      <td>203</td>\n",
              "      <td>365</td>\n",
              "      <td>1137</td>\n",
              "      <td>1582</td>\n",
              "      <td>73</td>\n",
              "      <td>1256</td>\n",
              "      <td>475</td>\n",
              "      <td>64</td>\n",
              "    </tr>\n",
              "    <tr>\n",
              "      <th>2</th>\n",
              "      <td>Scotland</td>\n",
              "      <td>103</td>\n",
              "      <td>242</td>\n",
              "      <td>750</td>\n",
              "      <td>122</td>\n",
              "      <td>184</td>\n",
              "      <td>147</td>\n",
              "      <td>566</td>\n",
              "      <td>171</td>\n",
              "      <td>418</td>\n",
              "      <td>220</td>\n",
              "      <td>337</td>\n",
              "      <td>957</td>\n",
              "      <td>1462</td>\n",
              "      <td>53</td>\n",
              "      <td>1572</td>\n",
              "      <td>458</td>\n",
              "      <td>62</td>\n",
              "    </tr>\n",
              "    <tr>\n",
              "      <th>3</th>\n",
              "      <td>North Ireland</td>\n",
              "      <td>66</td>\n",
              "      <td>267</td>\n",
              "      <td>586</td>\n",
              "      <td>93</td>\n",
              "      <td>209</td>\n",
              "      <td>139</td>\n",
              "      <td>1033</td>\n",
              "      <td>143</td>\n",
              "      <td>355</td>\n",
              "      <td>187</td>\n",
              "      <td>334</td>\n",
              "      <td>674</td>\n",
              "      <td>1494</td>\n",
              "      <td>47</td>\n",
              "      <td>1506</td>\n",
              "      <td>135</td>\n",
              "      <td>41</td>\n",
              "    </tr>\n",
              "  </tbody>\n",
              "</table>\n",
              "</div>\n",
              "      <button class=\"colab-df-convert\" onclick=\"convertToInteractive('df-3a17b419-b9e1-43ae-bfa3-1adaedce6e93')\"\n",
              "              title=\"Convert this dataframe to an interactive table.\"\n",
              "              style=\"display:none;\">\n",
              "        \n",
              "  <svg xmlns=\"http://www.w3.org/2000/svg\" height=\"24px\"viewBox=\"0 0 24 24\"\n",
              "       width=\"24px\">\n",
              "    <path d=\"M0 0h24v24H0V0z\" fill=\"none\"/>\n",
              "    <path d=\"M18.56 5.44l.94 2.06.94-2.06 2.06-.94-2.06-.94-.94-2.06-.94 2.06-2.06.94zm-11 1L8.5 8.5l.94-2.06 2.06-.94-2.06-.94L8.5 2.5l-.94 2.06-2.06.94zm10 10l.94 2.06.94-2.06 2.06-.94-2.06-.94-.94-2.06-.94 2.06-2.06.94z\"/><path d=\"M17.41 7.96l-1.37-1.37c-.4-.4-.92-.59-1.43-.59-.52 0-1.04.2-1.43.59L10.3 9.45l-7.72 7.72c-.78.78-.78 2.05 0 2.83L4 21.41c.39.39.9.59 1.41.59.51 0 1.02-.2 1.41-.59l7.78-7.78 2.81-2.81c.8-.78.8-2.07 0-2.86zM5.41 20L4 18.59l7.72-7.72 1.47 1.35L5.41 20z\"/>\n",
              "  </svg>\n",
              "      </button>\n",
              "      \n",
              "  <style>\n",
              "    .colab-df-container {\n",
              "      display:flex;\n",
              "      flex-wrap:wrap;\n",
              "      gap: 12px;\n",
              "    }\n",
              "\n",
              "    .colab-df-convert {\n",
              "      background-color: #E8F0FE;\n",
              "      border: none;\n",
              "      border-radius: 50%;\n",
              "      cursor: pointer;\n",
              "      display: none;\n",
              "      fill: #1967D2;\n",
              "      height: 32px;\n",
              "      padding: 0 0 0 0;\n",
              "      width: 32px;\n",
              "    }\n",
              "\n",
              "    .colab-df-convert:hover {\n",
              "      background-color: #E2EBFA;\n",
              "      box-shadow: 0px 1px 2px rgba(60, 64, 67, 0.3), 0px 1px 3px 1px rgba(60, 64, 67, 0.15);\n",
              "      fill: #174EA6;\n",
              "    }\n",
              "\n",
              "    [theme=dark] .colab-df-convert {\n",
              "      background-color: #3B4455;\n",
              "      fill: #D2E3FC;\n",
              "    }\n",
              "\n",
              "    [theme=dark] .colab-df-convert:hover {\n",
              "      background-color: #434B5C;\n",
              "      box-shadow: 0px 1px 3px 1px rgba(0, 0, 0, 0.15);\n",
              "      filter: drop-shadow(0px 1px 2px rgba(0, 0, 0, 0.3));\n",
              "      fill: #FFFFFF;\n",
              "    }\n",
              "  </style>\n",
              "\n",
              "      <script>\n",
              "        const buttonEl =\n",
              "          document.querySelector('#df-3a17b419-b9e1-43ae-bfa3-1adaedce6e93 button.colab-df-convert');\n",
              "        buttonEl.style.display =\n",
              "          google.colab.kernel.accessAllowed ? 'block' : 'none';\n",
              "\n",
              "        async function convertToInteractive(key) {\n",
              "          const element = document.querySelector('#df-3a17b419-b9e1-43ae-bfa3-1adaedce6e93');\n",
              "          const dataTable =\n",
              "            await google.colab.kernel.invokeFunction('convertToInteractive',\n",
              "                                                     [key], {});\n",
              "          if (!dataTable) return;\n",
              "\n",
              "          const docLinkHtml = 'Like what you see? Visit the ' +\n",
              "            '<a target=\"_blank\" href=https://colab.research.google.com/notebooks/data_table.ipynb>data table notebook</a>'\n",
              "            + ' to learn more about interactive tables.';\n",
              "          element.innerHTML = '';\n",
              "          dataTable['output_type'] = 'display_data';\n",
              "          await google.colab.output.renderOutput(dataTable, element);\n",
              "          const docLink = document.createElement('div');\n",
              "          docLink.innerHTML = docLinkHtml;\n",
              "          element.appendChild(docLink);\n",
              "        }\n",
              "      </script>\n",
              "    </div>\n",
              "  </div>\n",
              "  "
            ]
          },
          "metadata": {},
          "execution_count": 1
        }
      ]
    },
    {
      "cell_type": "code",
      "source": [
        "# Country column의 데이터를 country라는 변수에 저장합니다\n",
        "country = df['Country']"
      ],
      "metadata": {
        "id": "O3oNkDnfInnj"
      },
      "execution_count": null,
      "outputs": []
    },
    {
      "cell_type": "code",
      "metadata": {
        "id": "5wXRo6wkKfzA",
        "outputId": "61dcec22-e8b5-4228-ff2e-df22be6380ab",
        "colab": {
          "base_uri": "https://localhost:8080/"
        }
      },
      "source": [
        "# 정규화에 사용할 칼럼만 리스트로 만듭니다\n",
        "scaled_cols = df.columns.drop('Country')\n",
        "scaled_cols"
      ],
      "execution_count": null,
      "outputs": [
        {
          "output_type": "execute_result",
          "data": {
            "text/plain": [
              "Index(['Cheese', 'Carcass_Meat', 'Other_Meat', 'Fish', 'Fats_and_Oils',\n",
              "       'Sugars', 'Fresh_Potatoes', 'Fresh_Veg', 'Other_Veg',\n",
              "       'Processed_Potatoes', 'Processed_Veg', 'Fresh_Fruit', 'Cereals',\n",
              "       'Beverages', 'Soft_Drinks', 'Alcoholic Drinks', 'Confectionery'],\n",
              "      dtype='object')"
            ]
          },
          "metadata": {},
          "execution_count": 3
        }
      ]
    },
    {
      "cell_type": "code",
      "metadata": {
        "id": "2HY91nOpaTTZ",
        "outputId": "2a8917f1-6e44-43e6-dcfb-764b7e5a8158",
        "colab": {
          "base_uri": "https://localhost:8080/",
          "height": 274
        }
      },
      "source": [
        "from sklearn.preprocessing import StandardScaler\n",
        "from sklearn.compose import ColumnTransformer  # https://stackoverflow.com/questions/38420847/apply-standardscaler-to-parts-of-a-data-set\n",
        "\n",
        "# option 1) StandardScaler\n",
        "scaler = StandardScaler()\n",
        "df[scaled_cols] = scaler.fit_transform(df[scaled_cols])\n",
        "df"
      ],
      "execution_count": null,
      "outputs": [
        {
          "output_type": "execute_result",
          "data": {
            "text/plain": [
              "         Country    Cheese  Carcass_Meat  Other_Meat      Fish  Fats_and_Oils  \\\n",
              "0        England  0.658275     -0.017495   -0.259546  0.644585      -0.632429   \n",
              "1          Wales  0.535805     -1.277169    1.198856  1.152440       1.535899   \n",
              "2       Scotland  0.535805     -0.227441    0.543811 -0.332059      -1.097071   \n",
              "3  North Ireland -1.729885      1.522105   -1.483121 -1.464967       0.193601   \n",
              "\n",
              "     Sugars  Fresh_Potatoes  Fresh_Veg  Other_Veg  Processed_Potatoes  \\\n",
              "0  0.130551       -0.450076   0.863312   0.377736           -0.336265   \n",
              "1  1.547958        0.435696   1.093528   1.401682            0.084066   \n",
              "2 -0.540853       -1.335847  -0.709834  -0.496364            1.513193   \n",
              "3 -1.137656        1.350227  -1.247006  -1.283054           -1.260994   \n",
              "\n",
              "   Processed_Veg  Fresh_Fruit   Cereals  Beverages  Soft_Drinks  \\\n",
              "0       0.805477     0.737407 -0.644322  -0.051917    -0.435231   \n",
              "1       1.171603     0.929297  1.679463   1.609440    -1.404236   \n",
              "2      -0.878702    -0.057567 -0.855575  -0.467257     1.190727   \n",
              "3      -1.098378    -1.609137 -0.179565  -1.090266     0.648741   \n",
              "\n",
              "   Alcoholic Drinks  Confectionery  \n",
              "0          0.104998      -0.138303  \n",
              "1          0.841823       0.968122  \n",
              "2          0.716563       0.746837  \n",
              "3         -1.663384      -1.576656  "
            ],
            "text/html": [
              "\n",
              "  <div id=\"df-ffd8192c-a95a-427b-93bd-a30d92be561f\">\n",
              "    <div class=\"colab-df-container\">\n",
              "      <div>\n",
              "<style scoped>\n",
              "    .dataframe tbody tr th:only-of-type {\n",
              "        vertical-align: middle;\n",
              "    }\n",
              "\n",
              "    .dataframe tbody tr th {\n",
              "        vertical-align: top;\n",
              "    }\n",
              "\n",
              "    .dataframe thead th {\n",
              "        text-align: right;\n",
              "    }\n",
              "</style>\n",
              "<table border=\"1\" class=\"dataframe\">\n",
              "  <thead>\n",
              "    <tr style=\"text-align: right;\">\n",
              "      <th></th>\n",
              "      <th>Country</th>\n",
              "      <th>Cheese</th>\n",
              "      <th>Carcass_Meat</th>\n",
              "      <th>Other_Meat</th>\n",
              "      <th>Fish</th>\n",
              "      <th>Fats_and_Oils</th>\n",
              "      <th>Sugars</th>\n",
              "      <th>Fresh_Potatoes</th>\n",
              "      <th>Fresh_Veg</th>\n",
              "      <th>Other_Veg</th>\n",
              "      <th>Processed_Potatoes</th>\n",
              "      <th>Processed_Veg</th>\n",
              "      <th>Fresh_Fruit</th>\n",
              "      <th>Cereals</th>\n",
              "      <th>Beverages</th>\n",
              "      <th>Soft_Drinks</th>\n",
              "      <th>Alcoholic Drinks</th>\n",
              "      <th>Confectionery</th>\n",
              "    </tr>\n",
              "  </thead>\n",
              "  <tbody>\n",
              "    <tr>\n",
              "      <th>0</th>\n",
              "      <td>England</td>\n",
              "      <td>0.658275</td>\n",
              "      <td>-0.017495</td>\n",
              "      <td>-0.259546</td>\n",
              "      <td>0.644585</td>\n",
              "      <td>-0.632429</td>\n",
              "      <td>0.130551</td>\n",
              "      <td>-0.450076</td>\n",
              "      <td>0.863312</td>\n",
              "      <td>0.377736</td>\n",
              "      <td>-0.336265</td>\n",
              "      <td>0.805477</td>\n",
              "      <td>0.737407</td>\n",
              "      <td>-0.644322</td>\n",
              "      <td>-0.051917</td>\n",
              "      <td>-0.435231</td>\n",
              "      <td>0.104998</td>\n",
              "      <td>-0.138303</td>\n",
              "    </tr>\n",
              "    <tr>\n",
              "      <th>1</th>\n",
              "      <td>Wales</td>\n",
              "      <td>0.535805</td>\n",
              "      <td>-1.277169</td>\n",
              "      <td>1.198856</td>\n",
              "      <td>1.152440</td>\n",
              "      <td>1.535899</td>\n",
              "      <td>1.547958</td>\n",
              "      <td>0.435696</td>\n",
              "      <td>1.093528</td>\n",
              "      <td>1.401682</td>\n",
              "      <td>0.084066</td>\n",
              "      <td>1.171603</td>\n",
              "      <td>0.929297</td>\n",
              "      <td>1.679463</td>\n",
              "      <td>1.609440</td>\n",
              "      <td>-1.404236</td>\n",
              "      <td>0.841823</td>\n",
              "      <td>0.968122</td>\n",
              "    </tr>\n",
              "    <tr>\n",
              "      <th>2</th>\n",
              "      <td>Scotland</td>\n",
              "      <td>0.535805</td>\n",
              "      <td>-0.227441</td>\n",
              "      <td>0.543811</td>\n",
              "      <td>-0.332059</td>\n",
              "      <td>-1.097071</td>\n",
              "      <td>-0.540853</td>\n",
              "      <td>-1.335847</td>\n",
              "      <td>-0.709834</td>\n",
              "      <td>-0.496364</td>\n",
              "      <td>1.513193</td>\n",
              "      <td>-0.878702</td>\n",
              "      <td>-0.057567</td>\n",
              "      <td>-0.855575</td>\n",
              "      <td>-0.467257</td>\n",
              "      <td>1.190727</td>\n",
              "      <td>0.716563</td>\n",
              "      <td>0.746837</td>\n",
              "    </tr>\n",
              "    <tr>\n",
              "      <th>3</th>\n",
              "      <td>North Ireland</td>\n",
              "      <td>-1.729885</td>\n",
              "      <td>1.522105</td>\n",
              "      <td>-1.483121</td>\n",
              "      <td>-1.464967</td>\n",
              "      <td>0.193601</td>\n",
              "      <td>-1.137656</td>\n",
              "      <td>1.350227</td>\n",
              "      <td>-1.247006</td>\n",
              "      <td>-1.283054</td>\n",
              "      <td>-1.260994</td>\n",
              "      <td>-1.098378</td>\n",
              "      <td>-1.609137</td>\n",
              "      <td>-0.179565</td>\n",
              "      <td>-1.090266</td>\n",
              "      <td>0.648741</td>\n",
              "      <td>-1.663384</td>\n",
              "      <td>-1.576656</td>\n",
              "    </tr>\n",
              "  </tbody>\n",
              "</table>\n",
              "</div>\n",
              "      <button class=\"colab-df-convert\" onclick=\"convertToInteractive('df-ffd8192c-a95a-427b-93bd-a30d92be561f')\"\n",
              "              title=\"Convert this dataframe to an interactive table.\"\n",
              "              style=\"display:none;\">\n",
              "        \n",
              "  <svg xmlns=\"http://www.w3.org/2000/svg\" height=\"24px\"viewBox=\"0 0 24 24\"\n",
              "       width=\"24px\">\n",
              "    <path d=\"M0 0h24v24H0V0z\" fill=\"none\"/>\n",
              "    <path d=\"M18.56 5.44l.94 2.06.94-2.06 2.06-.94-2.06-.94-.94-2.06-.94 2.06-2.06.94zm-11 1L8.5 8.5l.94-2.06 2.06-.94-2.06-.94L8.5 2.5l-.94 2.06-2.06.94zm10 10l.94 2.06.94-2.06 2.06-.94-2.06-.94-.94-2.06-.94 2.06-2.06.94z\"/><path d=\"M17.41 7.96l-1.37-1.37c-.4-.4-.92-.59-1.43-.59-.52 0-1.04.2-1.43.59L10.3 9.45l-7.72 7.72c-.78.78-.78 2.05 0 2.83L4 21.41c.39.39.9.59 1.41.59.51 0 1.02-.2 1.41-.59l7.78-7.78 2.81-2.81c.8-.78.8-2.07 0-2.86zM5.41 20L4 18.59l7.72-7.72 1.47 1.35L5.41 20z\"/>\n",
              "  </svg>\n",
              "      </button>\n",
              "      \n",
              "  <style>\n",
              "    .colab-df-container {\n",
              "      display:flex;\n",
              "      flex-wrap:wrap;\n",
              "      gap: 12px;\n",
              "    }\n",
              "\n",
              "    .colab-df-convert {\n",
              "      background-color: #E8F0FE;\n",
              "      border: none;\n",
              "      border-radius: 50%;\n",
              "      cursor: pointer;\n",
              "      display: none;\n",
              "      fill: #1967D2;\n",
              "      height: 32px;\n",
              "      padding: 0 0 0 0;\n",
              "      width: 32px;\n",
              "    }\n",
              "\n",
              "    .colab-df-convert:hover {\n",
              "      background-color: #E2EBFA;\n",
              "      box-shadow: 0px 1px 2px rgba(60, 64, 67, 0.3), 0px 1px 3px 1px rgba(60, 64, 67, 0.15);\n",
              "      fill: #174EA6;\n",
              "    }\n",
              "\n",
              "    [theme=dark] .colab-df-convert {\n",
              "      background-color: #3B4455;\n",
              "      fill: #D2E3FC;\n",
              "    }\n",
              "\n",
              "    [theme=dark] .colab-df-convert:hover {\n",
              "      background-color: #434B5C;\n",
              "      box-shadow: 0px 1px 3px 1px rgba(0, 0, 0, 0.15);\n",
              "      filter: drop-shadow(0px 1px 2px rgba(0, 0, 0, 0.3));\n",
              "      fill: #FFFFFF;\n",
              "    }\n",
              "  </style>\n",
              "\n",
              "      <script>\n",
              "        const buttonEl =\n",
              "          document.querySelector('#df-ffd8192c-a95a-427b-93bd-a30d92be561f button.colab-df-convert');\n",
              "        buttonEl.style.display =\n",
              "          google.colab.kernel.accessAllowed ? 'block' : 'none';\n",
              "\n",
              "        async function convertToInteractive(key) {\n",
              "          const element = document.querySelector('#df-ffd8192c-a95a-427b-93bd-a30d92be561f');\n",
              "          const dataTable =\n",
              "            await google.colab.kernel.invokeFunction('convertToInteractive',\n",
              "                                                     [key], {});\n",
              "          if (!dataTable) return;\n",
              "\n",
              "          const docLinkHtml = 'Like what you see? Visit the ' +\n",
              "            '<a target=\"_blank\" href=https://colab.research.google.com/notebooks/data_table.ipynb>data table notebook</a>'\n",
              "            + ' to learn more about interactive tables.';\n",
              "          element.innerHTML = '';\n",
              "          dataTable['output_type'] = 'display_data';\n",
              "          await google.colab.output.renderOutput(dataTable, element);\n",
              "          const docLink = document.createElement('div');\n",
              "          docLink.innerHTML = docLinkHtml;\n",
              "          element.appendChild(docLink);\n",
              "        }\n",
              "      </script>\n",
              "    </div>\n",
              "  </div>\n",
              "  "
            ]
          },
          "metadata": {},
          "execution_count": 4
        }
      ]
    },
    {
      "cell_type": "code",
      "source": [
        "# option 2) ColumnTransformer\n",
        "ct = ColumnTransformer([\n",
        "        (\"transformer\", StandardScaler(), scaled_cols)\n",
        "    ], remainder='passthrough')\n",
        "\n",
        "df[scaled_cols] = ct.fit_transform(df[scaled_cols])\n",
        "df"
      ],
      "metadata": {
        "colab": {
          "base_uri": "https://localhost:8080/",
          "height": 274
        },
        "id": "6gWIQ4YW9OPN",
        "outputId": "15bc835c-914d-4a14-87c8-cffd60cfcb41"
      },
      "execution_count": null,
      "outputs": [
        {
          "output_type": "execute_result",
          "data": {
            "text/plain": [
              "         Country    Cheese  Carcass_Meat  Other_Meat      Fish  Fats_and_Oils  \\\n",
              "0        England  0.658275     -0.017495   -0.259546  0.644585      -0.632429   \n",
              "1          Wales  0.535805     -1.277169    1.198856  1.152440       1.535899   \n",
              "2       Scotland  0.535805     -0.227441    0.543811 -0.332059      -1.097071   \n",
              "3  North Ireland -1.729885      1.522105   -1.483121 -1.464967       0.193601   \n",
              "\n",
              "     Sugars  Fresh_Potatoes  Fresh_Veg  Other_Veg  Processed_Potatoes  \\\n",
              "0  0.130551       -0.450076   0.863312   0.377736           -0.336265   \n",
              "1  1.547958        0.435696   1.093528   1.401682            0.084066   \n",
              "2 -0.540853       -1.335847  -0.709834  -0.496364            1.513193   \n",
              "3 -1.137656        1.350227  -1.247006  -1.283054           -1.260994   \n",
              "\n",
              "   Processed_Veg  Fresh_Fruit   Cereals  Beverages  Soft_Drinks  \\\n",
              "0       0.805477     0.737407 -0.644322  -0.051917    -0.435231   \n",
              "1       1.171603     0.929297  1.679463   1.609440    -1.404236   \n",
              "2      -0.878702    -0.057567 -0.855575  -0.467257     1.190727   \n",
              "3      -1.098378    -1.609137 -0.179565  -1.090266     0.648741   \n",
              "\n",
              "   Alcoholic Drinks  Confectionery  \n",
              "0          0.104998      -0.138303  \n",
              "1          0.841823       0.968122  \n",
              "2          0.716563       0.746837  \n",
              "3         -1.663384      -1.576656  "
            ],
            "text/html": [
              "\n",
              "  <div id=\"df-7a835f70-0635-4da8-a38b-28c2f789f194\">\n",
              "    <div class=\"colab-df-container\">\n",
              "      <div>\n",
              "<style scoped>\n",
              "    .dataframe tbody tr th:only-of-type {\n",
              "        vertical-align: middle;\n",
              "    }\n",
              "\n",
              "    .dataframe tbody tr th {\n",
              "        vertical-align: top;\n",
              "    }\n",
              "\n",
              "    .dataframe thead th {\n",
              "        text-align: right;\n",
              "    }\n",
              "</style>\n",
              "<table border=\"1\" class=\"dataframe\">\n",
              "  <thead>\n",
              "    <tr style=\"text-align: right;\">\n",
              "      <th></th>\n",
              "      <th>Country</th>\n",
              "      <th>Cheese</th>\n",
              "      <th>Carcass_Meat</th>\n",
              "      <th>Other_Meat</th>\n",
              "      <th>Fish</th>\n",
              "      <th>Fats_and_Oils</th>\n",
              "      <th>Sugars</th>\n",
              "      <th>Fresh_Potatoes</th>\n",
              "      <th>Fresh_Veg</th>\n",
              "      <th>Other_Veg</th>\n",
              "      <th>Processed_Potatoes</th>\n",
              "      <th>Processed_Veg</th>\n",
              "      <th>Fresh_Fruit</th>\n",
              "      <th>Cereals</th>\n",
              "      <th>Beverages</th>\n",
              "      <th>Soft_Drinks</th>\n",
              "      <th>Alcoholic Drinks</th>\n",
              "      <th>Confectionery</th>\n",
              "    </tr>\n",
              "  </thead>\n",
              "  <tbody>\n",
              "    <tr>\n",
              "      <th>0</th>\n",
              "      <td>England</td>\n",
              "      <td>0.658275</td>\n",
              "      <td>-0.017495</td>\n",
              "      <td>-0.259546</td>\n",
              "      <td>0.644585</td>\n",
              "      <td>-0.632429</td>\n",
              "      <td>0.130551</td>\n",
              "      <td>-0.450076</td>\n",
              "      <td>0.863312</td>\n",
              "      <td>0.377736</td>\n",
              "      <td>-0.336265</td>\n",
              "      <td>0.805477</td>\n",
              "      <td>0.737407</td>\n",
              "      <td>-0.644322</td>\n",
              "      <td>-0.051917</td>\n",
              "      <td>-0.435231</td>\n",
              "      <td>0.104998</td>\n",
              "      <td>-0.138303</td>\n",
              "    </tr>\n",
              "    <tr>\n",
              "      <th>1</th>\n",
              "      <td>Wales</td>\n",
              "      <td>0.535805</td>\n",
              "      <td>-1.277169</td>\n",
              "      <td>1.198856</td>\n",
              "      <td>1.152440</td>\n",
              "      <td>1.535899</td>\n",
              "      <td>1.547958</td>\n",
              "      <td>0.435696</td>\n",
              "      <td>1.093528</td>\n",
              "      <td>1.401682</td>\n",
              "      <td>0.084066</td>\n",
              "      <td>1.171603</td>\n",
              "      <td>0.929297</td>\n",
              "      <td>1.679463</td>\n",
              "      <td>1.609440</td>\n",
              "      <td>-1.404236</td>\n",
              "      <td>0.841823</td>\n",
              "      <td>0.968122</td>\n",
              "    </tr>\n",
              "    <tr>\n",
              "      <th>2</th>\n",
              "      <td>Scotland</td>\n",
              "      <td>0.535805</td>\n",
              "      <td>-0.227441</td>\n",
              "      <td>0.543811</td>\n",
              "      <td>-0.332059</td>\n",
              "      <td>-1.097071</td>\n",
              "      <td>-0.540853</td>\n",
              "      <td>-1.335847</td>\n",
              "      <td>-0.709834</td>\n",
              "      <td>-0.496364</td>\n",
              "      <td>1.513193</td>\n",
              "      <td>-0.878702</td>\n",
              "      <td>-0.057567</td>\n",
              "      <td>-0.855575</td>\n",
              "      <td>-0.467257</td>\n",
              "      <td>1.190727</td>\n",
              "      <td>0.716563</td>\n",
              "      <td>0.746837</td>\n",
              "    </tr>\n",
              "    <tr>\n",
              "      <th>3</th>\n",
              "      <td>North Ireland</td>\n",
              "      <td>-1.729885</td>\n",
              "      <td>1.522105</td>\n",
              "      <td>-1.483121</td>\n",
              "      <td>-1.464967</td>\n",
              "      <td>0.193601</td>\n",
              "      <td>-1.137656</td>\n",
              "      <td>1.350227</td>\n",
              "      <td>-1.247006</td>\n",
              "      <td>-1.283054</td>\n",
              "      <td>-1.260994</td>\n",
              "      <td>-1.098378</td>\n",
              "      <td>-1.609137</td>\n",
              "      <td>-0.179565</td>\n",
              "      <td>-1.090266</td>\n",
              "      <td>0.648741</td>\n",
              "      <td>-1.663384</td>\n",
              "      <td>-1.576656</td>\n",
              "    </tr>\n",
              "  </tbody>\n",
              "</table>\n",
              "</div>\n",
              "      <button class=\"colab-df-convert\" onclick=\"convertToInteractive('df-7a835f70-0635-4da8-a38b-28c2f789f194')\"\n",
              "              title=\"Convert this dataframe to an interactive table.\"\n",
              "              style=\"display:none;\">\n",
              "        \n",
              "  <svg xmlns=\"http://www.w3.org/2000/svg\" height=\"24px\"viewBox=\"0 0 24 24\"\n",
              "       width=\"24px\">\n",
              "    <path d=\"M0 0h24v24H0V0z\" fill=\"none\"/>\n",
              "    <path d=\"M18.56 5.44l.94 2.06.94-2.06 2.06-.94-2.06-.94-.94-2.06-.94 2.06-2.06.94zm-11 1L8.5 8.5l.94-2.06 2.06-.94-2.06-.94L8.5 2.5l-.94 2.06-2.06.94zm10 10l.94 2.06.94-2.06 2.06-.94-2.06-.94-.94-2.06-.94 2.06-2.06.94z\"/><path d=\"M17.41 7.96l-1.37-1.37c-.4-.4-.92-.59-1.43-.59-.52 0-1.04.2-1.43.59L10.3 9.45l-7.72 7.72c-.78.78-.78 2.05 0 2.83L4 21.41c.39.39.9.59 1.41.59.51 0 1.02-.2 1.41-.59l7.78-7.78 2.81-2.81c.8-.78.8-2.07 0-2.86zM5.41 20L4 18.59l7.72-7.72 1.47 1.35L5.41 20z\"/>\n",
              "  </svg>\n",
              "      </button>\n",
              "      \n",
              "  <style>\n",
              "    .colab-df-container {\n",
              "      display:flex;\n",
              "      flex-wrap:wrap;\n",
              "      gap: 12px;\n",
              "    }\n",
              "\n",
              "    .colab-df-convert {\n",
              "      background-color: #E8F0FE;\n",
              "      border: none;\n",
              "      border-radius: 50%;\n",
              "      cursor: pointer;\n",
              "      display: none;\n",
              "      fill: #1967D2;\n",
              "      height: 32px;\n",
              "      padding: 0 0 0 0;\n",
              "      width: 32px;\n",
              "    }\n",
              "\n",
              "    .colab-df-convert:hover {\n",
              "      background-color: #E2EBFA;\n",
              "      box-shadow: 0px 1px 2px rgba(60, 64, 67, 0.3), 0px 1px 3px 1px rgba(60, 64, 67, 0.15);\n",
              "      fill: #174EA6;\n",
              "    }\n",
              "\n",
              "    [theme=dark] .colab-df-convert {\n",
              "      background-color: #3B4455;\n",
              "      fill: #D2E3FC;\n",
              "    }\n",
              "\n",
              "    [theme=dark] .colab-df-convert:hover {\n",
              "      background-color: #434B5C;\n",
              "      box-shadow: 0px 1px 3px 1px rgba(0, 0, 0, 0.15);\n",
              "      filter: drop-shadow(0px 1px 2px rgba(0, 0, 0, 0.3));\n",
              "      fill: #FFFFFF;\n",
              "    }\n",
              "  </style>\n",
              "\n",
              "      <script>\n",
              "        const buttonEl =\n",
              "          document.querySelector('#df-7a835f70-0635-4da8-a38b-28c2f789f194 button.colab-df-convert');\n",
              "        buttonEl.style.display =\n",
              "          google.colab.kernel.accessAllowed ? 'block' : 'none';\n",
              "\n",
              "        async function convertToInteractive(key) {\n",
              "          const element = document.querySelector('#df-7a835f70-0635-4da8-a38b-28c2f789f194');\n",
              "          const dataTable =\n",
              "            await google.colab.kernel.invokeFunction('convertToInteractive',\n",
              "                                                     [key], {});\n",
              "          if (!dataTable) return;\n",
              "\n",
              "          const docLinkHtml = 'Like what you see? Visit the ' +\n",
              "            '<a target=\"_blank\" href=https://colab.research.google.com/notebooks/data_table.ipynb>data table notebook</a>'\n",
              "            + ' to learn more about interactive tables.';\n",
              "          element.innerHTML = '';\n",
              "          dataTable['output_type'] = 'display_data';\n",
              "          await google.colab.output.renderOutput(dataTable, element);\n",
              "          const docLink = document.createElement('div');\n",
              "          docLink.innerHTML = docLinkHtml;\n",
              "          element.appendChild(docLink);\n",
              "        }\n",
              "      </script>\n",
              "    </div>\n",
              "  </div>\n",
              "  "
            ]
          },
          "metadata": {},
          "execution_count": 5
        }
      ]
    },
    {
      "cell_type": "code",
      "source": [
        "round(df['Sugars'][0], 2)"
      ],
      "metadata": {
        "colab": {
          "base_uri": "https://localhost:8080/"
        },
        "id": "1O90Ipi_Zm14",
        "outputId": "458787ae-9c3d-4734-ab27-22fb7c5face6"
      },
      "execution_count": null,
      "outputs": [
        {
          "output_type": "execute_result",
          "data": {
            "text/plain": [
              "0.13"
            ]
          },
          "metadata": {},
          "execution_count": 37
        }
      ]
    },
    {
      "cell_type": "markdown",
      "metadata": {
        "id": "5U50KZkdJb_s"
      },
      "source": [
        "#### **2-2-b. \bPCA**\n",
        "\n",
        "표준화를 진행한 `df`에 PCA를 적용한 후 `scatterplot`을 그려봅니다.\n",
        "- PCA 결과를 `pca_df`라는 이름의 데이터프레임으로 저장하세요.\n",
        "  - PC의 개수는 2개 ~ 4개 사이로 지정하세요.\n",
        "  - 각 column의 이름은 `PC1`, `PC2`...로 설정하세요.\n",
        "- scatterplot의 x축에 `PC1`, y축에 `PC2`이 나타나도록 하세요.\n",
        "- scatterplot의 hue 파라미터를 `country`로 지정하세요. "
      ]
    },
    {
      "cell_type": "markdown",
      "source": [
        "##### **Q6. `scatterplot`의 가장 왼쪽에 위치하고 있는 나라는 어디인가요?**"
      ],
      "metadata": {
        "id": "w-hjwlHybIAa"
      }
    },
    {
      "cell_type": "code",
      "metadata": {
        "id": "RqjwVokgP1fL",
        "outputId": "c242ef5f-1136-4203-8c46-eb9e5ccfb583",
        "colab": {
          "base_uri": "https://localhost:8080/",
          "height": 175
        }
      },
      "source": [
        "from sklearn.decomposition import PCA\n",
        "\n",
        "# PCA 적용\n",
        "pc = PCA(4)\n",
        "Z = pc.fit_transform(df[scaled_cols])\n",
        "pca_df = pd.DataFrame(Z,columns=[\"PC1\",\"PC2\",\"PC3\",\"PC4\"])\n",
        "pca_df"
      ],
      "execution_count": null,
      "outputs": [
        {
          "output_type": "execute_result",
          "data": {
            "text/plain": [
              "        PC1       PC2       PC3           PC4\n",
              "0 -0.954490  0.328318  1.829829  2.747080e-16\n",
              "1 -4.520951 -1.735380 -0.781412  2.747080e-16\n",
              "2  0.487978  3.233672 -0.765148  2.747080e-16\n",
              "3  4.987462 -1.826611 -0.283270  2.747080e-16"
            ],
            "text/html": [
              "\n",
              "  <div id=\"df-92504a34-0aaf-4393-8841-14372ed10830\">\n",
              "    <div class=\"colab-df-container\">\n",
              "      <div>\n",
              "<style scoped>\n",
              "    .dataframe tbody tr th:only-of-type {\n",
              "        vertical-align: middle;\n",
              "    }\n",
              "\n",
              "    .dataframe tbody tr th {\n",
              "        vertical-align: top;\n",
              "    }\n",
              "\n",
              "    .dataframe thead th {\n",
              "        text-align: right;\n",
              "    }\n",
              "</style>\n",
              "<table border=\"1\" class=\"dataframe\">\n",
              "  <thead>\n",
              "    <tr style=\"text-align: right;\">\n",
              "      <th></th>\n",
              "      <th>PC1</th>\n",
              "      <th>PC2</th>\n",
              "      <th>PC3</th>\n",
              "      <th>PC4</th>\n",
              "    </tr>\n",
              "  </thead>\n",
              "  <tbody>\n",
              "    <tr>\n",
              "      <th>0</th>\n",
              "      <td>-0.954490</td>\n",
              "      <td>0.328318</td>\n",
              "      <td>1.829829</td>\n",
              "      <td>2.747080e-16</td>\n",
              "    </tr>\n",
              "    <tr>\n",
              "      <th>1</th>\n",
              "      <td>-4.520951</td>\n",
              "      <td>-1.735380</td>\n",
              "      <td>-0.781412</td>\n",
              "      <td>2.747080e-16</td>\n",
              "    </tr>\n",
              "    <tr>\n",
              "      <th>2</th>\n",
              "      <td>0.487978</td>\n",
              "      <td>3.233672</td>\n",
              "      <td>-0.765148</td>\n",
              "      <td>2.747080e-16</td>\n",
              "    </tr>\n",
              "    <tr>\n",
              "      <th>3</th>\n",
              "      <td>4.987462</td>\n",
              "      <td>-1.826611</td>\n",
              "      <td>-0.283270</td>\n",
              "      <td>2.747080e-16</td>\n",
              "    </tr>\n",
              "  </tbody>\n",
              "</table>\n",
              "</div>\n",
              "      <button class=\"colab-df-convert\" onclick=\"convertToInteractive('df-92504a34-0aaf-4393-8841-14372ed10830')\"\n",
              "              title=\"Convert this dataframe to an interactive table.\"\n",
              "              style=\"display:none;\">\n",
              "        \n",
              "  <svg xmlns=\"http://www.w3.org/2000/svg\" height=\"24px\"viewBox=\"0 0 24 24\"\n",
              "       width=\"24px\">\n",
              "    <path d=\"M0 0h24v24H0V0z\" fill=\"none\"/>\n",
              "    <path d=\"M18.56 5.44l.94 2.06.94-2.06 2.06-.94-2.06-.94-.94-2.06-.94 2.06-2.06.94zm-11 1L8.5 8.5l.94-2.06 2.06-.94-2.06-.94L8.5 2.5l-.94 2.06-2.06.94zm10 10l.94 2.06.94-2.06 2.06-.94-2.06-.94-.94-2.06-.94 2.06-2.06.94z\"/><path d=\"M17.41 7.96l-1.37-1.37c-.4-.4-.92-.59-1.43-.59-.52 0-1.04.2-1.43.59L10.3 9.45l-7.72 7.72c-.78.78-.78 2.05 0 2.83L4 21.41c.39.39.9.59 1.41.59.51 0 1.02-.2 1.41-.59l7.78-7.78 2.81-2.81c.8-.78.8-2.07 0-2.86zM5.41 20L4 18.59l7.72-7.72 1.47 1.35L5.41 20z\"/>\n",
              "  </svg>\n",
              "      </button>\n",
              "      \n",
              "  <style>\n",
              "    .colab-df-container {\n",
              "      display:flex;\n",
              "      flex-wrap:wrap;\n",
              "      gap: 12px;\n",
              "    }\n",
              "\n",
              "    .colab-df-convert {\n",
              "      background-color: #E8F0FE;\n",
              "      border: none;\n",
              "      border-radius: 50%;\n",
              "      cursor: pointer;\n",
              "      display: none;\n",
              "      fill: #1967D2;\n",
              "      height: 32px;\n",
              "      padding: 0 0 0 0;\n",
              "      width: 32px;\n",
              "    }\n",
              "\n",
              "    .colab-df-convert:hover {\n",
              "      background-color: #E2EBFA;\n",
              "      box-shadow: 0px 1px 2px rgba(60, 64, 67, 0.3), 0px 1px 3px 1px rgba(60, 64, 67, 0.15);\n",
              "      fill: #174EA6;\n",
              "    }\n",
              "\n",
              "    [theme=dark] .colab-df-convert {\n",
              "      background-color: #3B4455;\n",
              "      fill: #D2E3FC;\n",
              "    }\n",
              "\n",
              "    [theme=dark] .colab-df-convert:hover {\n",
              "      background-color: #434B5C;\n",
              "      box-shadow: 0px 1px 3px 1px rgba(0, 0, 0, 0.15);\n",
              "      filter: drop-shadow(0px 1px 2px rgba(0, 0, 0, 0.3));\n",
              "      fill: #FFFFFF;\n",
              "    }\n",
              "  </style>\n",
              "\n",
              "      <script>\n",
              "        const buttonEl =\n",
              "          document.querySelector('#df-92504a34-0aaf-4393-8841-14372ed10830 button.colab-df-convert');\n",
              "        buttonEl.style.display =\n",
              "          google.colab.kernel.accessAllowed ? 'block' : 'none';\n",
              "\n",
              "        async function convertToInteractive(key) {\n",
              "          const element = document.querySelector('#df-92504a34-0aaf-4393-8841-14372ed10830');\n",
              "          const dataTable =\n",
              "            await google.colab.kernel.invokeFunction('convertToInteractive',\n",
              "                                                     [key], {});\n",
              "          if (!dataTable) return;\n",
              "\n",
              "          const docLinkHtml = 'Like what you see? Visit the ' +\n",
              "            '<a target=\"_blank\" href=https://colab.research.google.com/notebooks/data_table.ipynb>data table notebook</a>'\n",
              "            + ' to learn more about interactive tables.';\n",
              "          element.innerHTML = '';\n",
              "          dataTable['output_type'] = 'display_data';\n",
              "          await google.colab.output.renderOutput(dataTable, element);\n",
              "          const docLink = document.createElement('div');\n",
              "          docLink.innerHTML = docLinkHtml;\n",
              "          element.appendChild(docLink);\n",
              "        }\n",
              "      </script>\n",
              "    </div>\n",
              "  </div>\n",
              "  "
            ]
          },
          "metadata": {},
          "execution_count": 6
        }
      ]
    },
    {
      "cell_type": "code",
      "metadata": {
        "id": "LwcTSQCBKfzD",
        "outputId": "b0f56a2e-acc9-431c-d4d8-db29612cfa92",
        "colab": {
          "base_uri": "https://localhost:8080/",
          "height": 296
        }
      },
      "source": [
        "import seaborn as sns\n",
        "\n",
        "sns.scatterplot(x = 'PC1', y = 'PC2', data = pca_df, hue=country)"
      ],
      "execution_count": null,
      "outputs": [
        {
          "output_type": "execute_result",
          "data": {
            "text/plain": [
              "<matplotlib.axes._subplots.AxesSubplot at 0x7f2c241cef90>"
            ]
          },
          "metadata": {},
          "execution_count": 8
        },
        {
          "output_type": "display_data",
          "data": {
            "text/plain": [
              "<Figure size 432x288 with 1 Axes>"
            ],
            "image/png": "[encoded data removed]"
          },
          "metadata": {
            "needs_background": "light"
          }
        }
      ]
    },
    {
      "cell_type": "markdown",
      "source": [
        "## **Part 3. Clustering**"
      ],
      "metadata": {
        "id": "cvqAuBUUUvU6"
      }
    },
    {
      "cell_type": "markdown",
      "metadata": {
        "id": "62efk4plJe54"
      },
      "source": [
        "### **3-1. K-Means Clustering**\n",
        "\n",
        "아래 데이터에 대해 K-Means Clustering을 적용한 후, 그 결과를 seaborn 라이브러리의 `scatterplot`으로 시각화하세요.\n",
        "- `n_clusters = 4`, `random_state = 42`를 제외한 다른 parameter는 default option을 사용합니다.\n",
        "- `scatterplot`의 hue 파라미터를 설정하여, cluster 별로 데이터가 어디에 위치해 있는지 확인합니다.\n"
      ]
    },
    {
      "cell_type": "markdown",
      "source": [
        "##### **Q7. scatterplot에서 가장 우측 상단에 위치해 있는 cluster는 무엇인가요?**"
      ],
      "metadata": {
        "id": "gXfq-Tl7var5"
      }
    },
    {
      "cell_type": "code",
      "metadata": {
        "colab": {
          "base_uri": "https://localhost:8080/",
          "height": 206
        },
        "id": "miK5Aeg-JlzJ",
        "outputId": "f4e8c0f6-521e-482b-a883-f65e050bc367"
      },
      "source": [
        "points = pd.read_csv('https://ds-lecture-data.s3.ap-northeast-2.amazonaws.com/sc13x/data.csv')\n",
        "points.head()"
      ],
      "execution_count": null,
      "outputs": [
        {
          "output_type": "execute_result",
          "data": {
            "text/plain": [
              "          x         y\n",
              "0 -7.846803 -3.421277\n",
              "1 -3.554323 -6.884729\n",
              "2 -0.192822 -9.671030\n",
              "3 -6.401456 -5.223972\n",
              "4 -0.804026 -9.704457"
            ],
            "text/html": [
              "\n",
              "  <div id=\"df-12b141ad-2b20-47d6-aca3-94666e346555\">\n",
              "    <div class=\"colab-df-container\">\n",
              "      <div>\n",
              "<style scoped>\n",
              "    .dataframe tbody tr th:only-of-type {\n",
              "        vertical-align: middle;\n",
              "    }\n",
              "\n",
              "    .dataframe tbody tr th {\n",
              "        vertical-align: top;\n",
              "    }\n",
              "\n",
              "    .dataframe thead th {\n",
              "        text-align: right;\n",
              "    }\n",
              "</style>\n",
              "<table border=\"1\" class=\"dataframe\">\n",
              "  <thead>\n",
              "    <tr style=\"text-align: right;\">\n",
              "      <th></th>\n",
              "      <th>x</th>\n",
              "      <th>y</th>\n",
              "    </tr>\n",
              "  </thead>\n",
              "  <tbody>\n",
              "    <tr>\n",
              "      <th>0</th>\n",
              "      <td>-7.846803</td>\n",
              "      <td>-3.421277</td>\n",
              "    </tr>\n",
              "    <tr>\n",
              "      <th>1</th>\n",
              "      <td>-3.554323</td>\n",
              "      <td>-6.884729</td>\n",
              "    </tr>\n",
              "    <tr>\n",
              "      <th>2</th>\n",
              "      <td>-0.192822</td>\n",
              "      <td>-9.671030</td>\n",
              "    </tr>\n",
              "    <tr>\n",
              "      <th>3</th>\n",
              "      <td>-6.401456</td>\n",
              "      <td>-5.223972</td>\n",
              "    </tr>\n",
              "    <tr>\n",
              "      <th>4</th>\n",
              "      <td>-0.804026</td>\n",
              "      <td>-9.704457</td>\n",
              "    </tr>\n",
              "  </tbody>\n",
              "</table>\n",
              "</div>\n",
              "      <button class=\"colab-df-convert\" onclick=\"convertToInteractive('df-12b141ad-2b20-47d6-aca3-94666e346555')\"\n",
              "              title=\"Convert this dataframe to an interactive table.\"\n",
              "              style=\"display:none;\">\n",
              "        \n",
              "  <svg xmlns=\"http://www.w3.org/2000/svg\" height=\"24px\"viewBox=\"0 0 24 24\"\n",
              "       width=\"24px\">\n",
              "    <path d=\"M0 0h24v24H0V0z\" fill=\"none\"/>\n",
              "    <path d=\"M18.56 5.44l.94 2.06.94-2.06 2.06-.94-2.06-.94-.94-2.06-.94 2.06-2.06.94zm-11 1L8.5 8.5l.94-2.06 2.06-.94-2.06-.94L8.5 2.5l-.94 2.06-2.06.94zm10 10l.94 2.06.94-2.06 2.06-.94-2.06-.94-.94-2.06-.94 2.06-2.06.94z\"/><path d=\"M17.41 7.96l-1.37-1.37c-.4-.4-.92-.59-1.43-.59-.52 0-1.04.2-1.43.59L10.3 9.45l-7.72 7.72c-.78.78-.78 2.05 0 2.83L4 21.41c.39.39.9.59 1.41.59.51 0 1.02-.2 1.41-.59l7.78-7.78 2.81-2.81c.8-.78.8-2.07 0-2.86zM5.41 20L4 18.59l7.72-7.72 1.47 1.35L5.41 20z\"/>\n",
              "  </svg>\n",
              "      </button>\n",
              "      \n",
              "  <style>\n",
              "    .colab-df-container {\n",
              "      display:flex;\n",
              "      flex-wrap:wrap;\n",
              "      gap: 12px;\n",
              "    }\n",
              "\n",
              "    .colab-df-convert {\n",
              "      background-color: #E8F0FE;\n",
              "      border: none;\n",
              "      border-radius: 50%;\n",
              "      cursor: pointer;\n",
              "      display: none;\n",
              "      fill: #1967D2;\n",
              "      height: 32px;\n",
              "      padding: 0 0 0 0;\n",
              "      width: 32px;\n",
              "    }\n",
              "\n",
              "    .colab-df-convert:hover {\n",
              "      background-color: #E2EBFA;\n",
              "      box-shadow: 0px 1px 2px rgba(60, 64, 67, 0.3), 0px 1px 3px 1px rgba(60, 64, 67, 0.15);\n",
              "      fill: #174EA6;\n",
              "    }\n",
              "\n",
              "    [theme=dark] .colab-df-convert {\n",
              "      background-color: #3B4455;\n",
              "      fill: #D2E3FC;\n",
              "    }\n",
              "\n",
              "    [theme=dark] .colab-df-convert:hover {\n",
              "      background-color: #434B5C;\n",
              "      box-shadow: 0px 1px 3px 1px rgba(0, 0, 0, 0.15);\n",
              "      filter: drop-shadow(0px 1px 2px rgba(0, 0, 0, 0.3));\n",
              "      fill: #FFFFFF;\n",
              "    }\n",
              "  </style>\n",
              "\n",
              "      <script>\n",
              "        const buttonEl =\n",
              "          document.querySelector('#df-12b141ad-2b20-47d6-aca3-94666e346555 button.colab-df-convert');\n",
              "        buttonEl.style.display =\n",
              "          google.colab.kernel.accessAllowed ? 'block' : 'none';\n",
              "\n",
              "        async function convertToInteractive(key) {\n",
              "          const element = document.querySelector('#df-12b141ad-2b20-47d6-aca3-94666e346555');\n",
              "          const dataTable =\n",
              "            await google.colab.kernel.invokeFunction('convertToInteractive',\n",
              "                                                     [key], {});\n",
              "          if (!dataTable) return;\n",
              "\n",
              "          const docLinkHtml = 'Like what you see? Visit the ' +\n",
              "            '<a target=\"_blank\" href=https://colab.research.google.com/notebooks/data_table.ipynb>data table notebook</a>'\n",
              "            + ' to learn more about interactive tables.';\n",
              "          element.innerHTML = '';\n",
              "          dataTable['output_type'] = 'display_data';\n",
              "          await google.colab.output.renderOutput(dataTable, element);\n",
              "          const docLink = document.createElement('div');\n",
              "          docLink.innerHTML = docLinkHtml;\n",
              "          element.appendChild(docLink);\n",
              "        }\n",
              "      </script>\n",
              "    </div>\n",
              "  </div>\n",
              "  "
            ]
          },
          "metadata": {},
          "execution_count": 46
        }
      ]
    },
    {
      "cell_type": "code",
      "metadata": {
        "id": "Y79xDU4T97bG",
        "outputId": "be0edf0b-b031-4328-bb65-e3909a3a6446",
        "colab": {
          "base_uri": "https://localhost:8080/"
        }
      },
      "source": [
        "points.shape"
      ],
      "execution_count": null,
      "outputs": [
        {
          "output_type": "execute_result",
          "data": {
            "text/plain": [
              "(200, 2)"
            ]
          },
          "metadata": {},
          "execution_count": 47
        }
      ]
    },
    {
      "cell_type": "code",
      "metadata": {
        "id": "mTO1pSrCKfzF"
      },
      "source": [
        "from sklearn.cluster import KMeans\n",
        "\n",
        "km = KMeans(n_clusters = 4, random_state = 42)\n",
        "\n",
        "kmeans = km.fit(points[['x','y']])\n",
        "points['cluster_id'] = kmeans.labels_"
      ],
      "execution_count": null,
      "outputs": []
    },
    {
      "cell_type": "code",
      "metadata": {
        "id": "bLrjxwUsKfzF",
        "outputId": "9dca2bd5-4ba7-4d4b-b86d-9533f99a044f",
        "colab": {
          "base_uri": "https://localhost:8080/",
          "height": 296
        }
      },
      "source": [
        "sns.scatterplot(x = 'x', y = 'y', data = points, hue='cluster_id', palette='RdYlBu_r')"
      ],
      "execution_count": null,
      "outputs": [
        {
          "output_type": "execute_result",
          "data": {
            "text/plain": [
              "<matplotlib.axes._subplots.AxesSubplot at 0x7f3956bc2110>"
            ]
          },
          "metadata": {},
          "execution_count": 51
        },
        {
          "output_type": "display_data",
          "data": {
            "text/plain": [
              "<Figure size 432x288 with 1 Axes>"
            ],
            "image/png": "[encoded data removed]"
          },
          "metadata": {
            "needs_background": "light"
          }
        }
      ]
    },
    {
      "cell_type": "markdown",
      "metadata": {
        "id": "oxxNyhv_FGKB"
      },
      "source": [
        "## \b**Part 4. 도전 과제**\n",
        "\n",
        "위에서 요구된 사항들을 모두 정확하게 만족하였으며, 아래 **2개의 추가 조건들 중 하나**를 만족하는 경우 3점을 얻을 수 있습니다.\n",
        "\n",
        "아래 요구사항들은 모두 **optional** 임을 다시 한 번 강조합니다. (필수 요구사항이 아닙니다.)\n",
        "\n"
      ]
    },
    {
      "cell_type": "markdown",
      "source": [
        "### **4-1. Scree plot** \n",
        "\n",
        "\n"
      ],
      "metadata": {
        "id": "oFEYvfOkVWyb"
      }
    },
    {
      "cell_type": "markdown",
      "source": [
        "#### **`2-2-b.`에서 진행한 PCA 결과에 대해서 `Scree plot`을 추가하세요.**"
      ],
      "metadata": {
        "id": "niibuM57V65m"
      }
    },
    {
      "cell_type": "code",
      "metadata": {
        "id": "1kGX2sWt97bH",
        "outputId": "aeb3b519-818a-4626-cd02-f18d9ca23162",
        "colab": {
          "base_uri": "https://localhost:8080/",
          "height": 312
        }
      },
      "source": [
        "import matplotlib.pyplot as plt\n",
        "\n",
        "# Scree plot 생성 함수\n",
        "def scree_plot(pca):\n",
        "    num_components = len(pca.explained_variance_ratio_)\n",
        "    ind = np.arange(num_components)\n",
        "    vals = pca.explained_variance_ratio_\n",
        "    \n",
        "    ax = plt.subplot()\n",
        "    cumvals = np.cumsum(vals)\n",
        "    \n",
        "    print(cumvals)\n",
        "    \n",
        "    ax.bar(ind, vals, color = ['#2F8F9D', '#3BACB6', '#82DBD8', '#B3E8E5']) # Bar plot\n",
        "    ax.plot(ind, cumvals, color = '#c0392b') # Line plot \n",
        "    \n",
        "    for i in range(num_components):\n",
        "        ax.annotate(r\"%s\" % ((str(vals[i]*100)[:3])), (ind[i], vals[i]), va = \"bottom\", ha = \"center\", fontsize = 13)\n",
        "     \n",
        "    ax.set_xlabel(\"PC\")\n",
        "    ax.set_ylabel(\"Variance\")\n",
        "    plt.title('Scree plot')\n",
        "    \n",
        "scree_plot(pc)"
      ],
      "execution_count": null,
      "outputs": [
        {
          "output_type": "stream",
          "name": "stdout",
          "text": [
            "[0.68327871 0.9319916  1.         1.        ]\n"
          ]
        },
        {
          "output_type": "display_data",
          "data": {
            "text/plain": [
              "<Figure size 432x288 with 1 Axes>"
            ],
            "image/png": "[encoded data removed]"
          },
          "metadata": {
            "needs_background": "light"
          }
        }
      ]
    },
    {
      "cell_type": "markdown",
      "source": [
        "### **4-2. Elbow Methods**\n",
        "\n"
      ],
      "metadata": {
        "id": "GH0-a3jvVckt"
      }
    },
    {
      "cell_type": "markdown",
      "source": [
        "#### **Elbow Methods를 활용하여 `Part 3. Clustering`에서 최적의 k값을 선택하는 과정을 논리적으로 설명하세요.**\n"
      ],
      "metadata": {
        "id": "PJfMZoGxVt_P"
      }
    },
    {
      "cell_type": "code",
      "metadata": {
        "id": "10D_ODddKfzG",
        "outputId": "9881ce39-462d-43c1-f2c9-3f4f63be545f",
        "colab": {
          "base_uri": "https://localhost:8080/",
          "height": 295
        }
      },
      "source": [
        "# 7번에서 k값을 선택하는 과정 (Elbow methods 이용) https://m.blog.naver.com/PostView.nhn?blogId=samsjang&logNo=221017639342\n",
        "import matplotlib.pyplot as plt\n",
        "sum_of_squared_distances = []\n",
        "K = range(1, 15)\n",
        "for k in K:\n",
        "    km = KMeans(n_clusters = k)\n",
        "    km = km.fit(points)\n",
        "    sum_of_squared_distances.append(km.inertia_)\n",
        "    \n",
        "plt.plot(K, sum_of_squared_distances, 'bx-')\n",
        "plt.xlabel('k')\n",
        "plt.ylabel('Sum_of_squared_distances')\n",
        "plt.title('Elbow Method For Optimal k')\n",
        "plt.show()"
      ],
      "execution_count": null,
      "outputs": [
        {
          "output_type": "display_data",
          "data": {
            "text/plain": [
              "<Figure size 432x288 with 1 Axes>"
            ],
            "image/png": "[encoded data removed]"
          },
          "metadata": {
            "needs_background": "light"
          }
        }
      ]
    }
  ]
}