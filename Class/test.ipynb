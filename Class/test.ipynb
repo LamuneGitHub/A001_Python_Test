{
 "cells": [
  {
   "cell_type": "code",
   "execution_count": 10,
   "metadata": {},
   "outputs": [
    {
     "data": {
      "text/plain": [
       "<module 'test_Class' from '/Users/lamune/git/git_hub/A001_Python_Test/Class/test_Class.py'>"
      ]
     },
     "execution_count": 10,
     "metadata": {},
     "output_type": "execute_result"
    }
   ],
   "source": [
    "import test_Class as tst_cls\n",
    "tst_cls.reload(tst_cls)\n"
   ]
  },
  {
   "cell_type": "code",
   "execution_count": 58,
   "metadata": {},
   "outputs": [
    {
     "name": "stdout",
     "output_type": "stream",
     "text": [
      "LamuneClass\n",
      "\n",
      "__doc__ 에 해당 하는 내용이다. \n",
      "\n",
      "이 객체에 대한 설명\n",
      "    1. \n",
      "    2.\n",
      "\n",
      "{'idd': 0, '_name': '파라미터 01', '_att_02': None, '_att_03': None}\n",
      "None\n",
      "None\n",
      "None\n",
      "105\n",
      "140\n"
     ]
    }
   ],
   "source": [
    "\n",
    "#-----------------------------\n",
    "\n",
    "cls_lamune = tst_cls.LamuneClass(\"파라미터 01\")\n",
    "cls_lamune.test_설명()\n",
    "\n",
    "\n",
    "print (cls_lamune.set_att_02( 100 ) )\n",
    "print (cls_lamune.get_att_02())\n",
    "\n",
    "\n",
    "cls_lamune.att_03 = 100 \n",
    "print (cls_lamune.att_03)\n",
    "\n"
   ]
  },
  {
   "cell_type": "code",
   "execution_count": 11,
   "metadata": {},
   "outputs": [
    {
     "name": "stdout",
     "output_type": "stream",
     "text": [
      "부모 생성자 호출\n"
     ]
    }
   ],
   "source": [
    "a = tst_cls.LamuneClass(\"이름\")"
   ]
  },
  {
   "cell_type": "code",
   "execution_count": null,
   "metadata": {},
   "outputs": [],
   "source": []
  }
 ],
 "metadata": {
  "kernelspec": {
   "display_name": "Python 3.9.13 ('day19')",
   "language": "python",
   "name": "python3"
  },
  "language_info": {
   "codemirror_mode": {
    "name": "ipython",
    "version": 3
   },
   "file_extension": ".py",
   "mimetype": "text/x-python",
   "name": "python",
   "nbconvert_exporter": "python",
   "pygments_lexer": "ipython3",
   "version": "3.9.13"
  },
  "orig_nbformat": 4,
  "vscode": {
   "interpreter": {
    "hash": "f909ac1aa7a4d5a6d86d72b36e062f6484142712aa3251c2e6d9f54ac9cf5af0"
   }
  }
 },
 "nbformat": 4,
 "nbformat_minor": 2
}
