{
 "cells": [
  {
   "cell_type": "markdown",
   "metadata": {},
   "source": []
  },
  {
   "cell_type": "markdown",
   "metadata": {},
   "source": [
    "# Import"
   ]
  },
  {
   "cell_type": "code",
   "execution_count": null,
   "metadata": {},
   "outputs": [],
   "source": [
    "import sys\n",
    "import warnings\n",
    "\n",
    "\n",
    "if \"google.colab\" in sys.modules:\n",
    "    ## Colab에서 실행하는 경우 필요한 라이브러리를 미리 설치합니다.\n",
    "    !pip install category_encoders==2.*\n",
    "    !pip install pandas-profiling==2.*\n",
    "    !pip3 install xgboost\n",
    "\n",
    "warnings.filterwarnings(\"ignore\")"
   ]
  },
  {
   "cell_type": "markdown",
   "metadata": {},
   "source": [
    "# # 계산"
   ]
  },
  {
   "cell_type": "code",
   "execution_count": 3,
   "metadata": {},
   "outputs": [
    {
     "name": "stdout",
     "output_type": "stream",
     "text": [
      "True\n",
      "False\n"
     ]
    }
   ],
   "source": [
    "a = None\n",
    "\n",
    "print (a == None)\n",
    "print (a != None)"
   ]
  },
  {
   "cell_type": "code",
   "execution_count": 25,
   "metadata": {},
   "outputs": [
    {
     "data": {
      "text/plain": [
       "1"
      ]
     },
     "execution_count": 25,
     "metadata": {},
     "output_type": "execute_result"
    }
   ],
   "source": [
    "4 // 4 "
   ]
  },
  {
   "cell_type": "code",
   "execution_count": 43,
   "metadata": {},
   "outputs": [
    {
     "name": "stdout",
     "output_type": "stream",
     "text": [
      "2\n",
      "3\n",
      "2\n",
      "3\n",
      "3\n",
      "False\n",
      "False\n",
      "True\n",
      "False\n",
      "False\n",
      "True\n",
      "False\n",
      "True\n"
     ]
    }
   ],
   "source": [
    "# 정수 여부 체크\n",
    "\n",
    "min = 3.0\n",
    "max = 2.1\n",
    "\n",
    "print ( int(min) & int(max) )\n",
    "print ( int(min) | int(max) )\n",
    "print ( int(min) and int(max) )\n",
    "print ( int(min) or int(max) )\n",
    "\n",
    "\n",
    "print ( int(min) or int(max) )\n",
    "\n",
    "print ( isinstance(min, int)  )\n",
    "print ( isinstance(max, int)  )\n",
    "\n",
    "print ( int(min) == min  )\n",
    "print ( int(max) == max  )\n",
    "print ( (int(min) == min) & (int(max) == max)  )\n",
    "print ( (int(min) == min) | (int(max) == max)  )\n",
    "print ( (int(min) == min) and (int(max) == max)  )\n",
    "print ( (int(min) == min) or (int(max) == max)  )"
   ]
  },
  {
   "cell_type": "markdown",
   "metadata": {},
   "source": [
    "# # 리스트 다루기"
   ]
  },
  {
   "cell_type": "code",
   "execution_count": null,
   "metadata": {},
   "outputs": [],
   "source": [
    "# 리스트 a -  리스트 b 구현\n",
    "a_sub_b = [x for x in a if x not in b]\n",
    "\n",
    "# 리스트 합치기 \n",
    "\n"
   ]
  },
  {
   "cell_type": "code",
   "execution_count": 11,
   "metadata": {},
   "outputs": [
    {
     "name": "stdout",
     "output_type": "stream",
     "text": [
      "[0, 2, 4, 6, 8, 10, 12, 14, 16, 18, 20, 22, 24, 26, 28, 30, 32, 34, 36, 38, 40, 42, 44, 46, 48, 50, 52, 54, 56, 58, 60, 62, 64, 66, 68, 70, 72, 74, 76, 78, 80, 82, 84, 86, 88, 90, 92, 94, 96, 98]\n"
     ]
    }
   ],
   "source": [
    "from pprint import pprint\n",
    "\n",
    "lst = [x for x in range( 0 , 100 , 2)]\n",
    "print ( lst ) "
   ]
  },
  {
   "cell_type": "code",
   "execution_count": 2,
   "metadata": {},
   "outputs": [
    {
     "name": "stdout",
     "output_type": "stream",
     "text": [
      "[1, 2, 3, 4, 5, 6, 7, 8, 9, 10]\n",
      "[0.0, 0.1, 0.2, 0.30000000000000004, 0.4, 0.5, 0.6000000000000001, 0.7000000000000001, 0.8, 0.9, 1.0]\n"
     ]
    }
   ],
   "source": [
    "# 정수 리스트\n",
    "step = 1\n",
    "lst_int = [ x for x in range( 1 , 10 + step, step) ]\n",
    "\n",
    "# 실수 리스트\n",
    "from numpy import arange\n",
    "step = 0.1 \n",
    "lst_float = [ x for x in arange( 0 , 1 + step , step) ]\n",
    "\n",
    "\n",
    "print ( lst_int )\n",
    "print ( lst_float )"
   ]
  },
  {
   "cell_type": "markdown",
   "metadata": {},
   "source": [
    "# Dictionary 딕셔너리 다루기"
   ]
  },
  {
   "cell_type": "code",
   "execution_count": null,
   "metadata": {},
   "outputs": [],
   "source": [
    "# mappings에서 우리가 보고자 하는 타겟 특성의 mapping을 꺼내 옵시다.\n",
    "mapping_data = list(filter(lambda x: x[\"col\"] == 'workclass', source_dict))\n",
    "print(mapping_data)\n",
    "\n",
    "source_dict = \n",
    "[{'col': 'workclass', 'mapping':  Self-emp-not-inc    1\n",
    " Private             2\n",
    " Federal-gov         3\n",
    " State-gov           4\n",
    " Local-gov           5\n",
    " Self-emp-inc        6\n",
    " Without-pay         7\n",
    "NaN                 -2\n",
    "dtype: int64, 'data_type': dtype('O')}, {'col': 'education', 'mapping':  9th              1\n",
    " Bachelors        2\n",
    " Some-college     3\n",
    " 10th             4\n",
    " HS-grad          5\n",
    " Masters          6\n",
    " Assoc-voc        7\n",
    " 1st-4th          8\n",
    " Preschool        9\n",
    " Assoc-acdm      10\n",
    " Prof-school     11\n",
    " 11th            12\n",
    " 7th-8th         13\n",
    " Doctorate       14\n",
    " 5th-6th         15\n",
    " 12th            16\n",
    "NaN              -2\n",
    "]"
   ]
  },
  {
   "cell_type": "markdown",
   "metadata": {},
   "source": [
    "# for 문 사용법 예제"
   ]
  },
  {
   "cell_type": "code",
   "execution_count": null,
   "metadata": {},
   "outputs": [],
   "source": [
    "#young , middle, old 은 각각 df 조회 결과임\n",
    "\n",
    "for group in [young, middle, old]:\n",
    "    print(group.name)\n",
    "    display(group['survived'].value_counts(normalize=True).rename({0:'Not Survived', 1:'Survived'}))\n",
    "    print('\\n')\n",
    "\n",
    "\"\"\"\n",
    "young\n",
    "Not Survived    0.518293\n",
    "Survived        0.481707\n",
    "Name: survived, dtype: float64\n",
    "\n",
    "middle\n",
    "Not Survived    0.610687\n",
    "Survived        0.389313\n",
    "Name: survived, dtype: float64\n",
    "\n",
    "old\n",
    "Not Survived    0.730769\n",
    "Survived        0.269231\n",
    "Name: survived, dtype: float64\n",
    "\"\"\""
   ]
  },
  {
   "cell_type": "code",
   "execution_count": 1,
   "metadata": {},
   "outputs": [
    {
     "name": "stdout",
     "output_type": "stream",
     "text": [
      "파일명만 =                             (세로)주가(^KS11)(1996-12-11)~(2022-09-27).csv\n",
      "디렉토리 경로 =                                                                   ./org\n",
      "파일명만 =                                                                           \n",
      "디렉토리 경로 =                                                         ./org/aaaaa/bbb\n"
     ]
    }
   ],
   "source": [
    "# 파일 경로 다루기\n",
    "\n",
    "import os\n",
    "path_test = \"./org/(세로)주가(^KS11)(1996-12-11)~(2022-09-27).csv\"\n",
    "file_name_test = \"(세로)주가(^KS11)(1996-12-11)~(2022-09-27).csv\"\n",
    "\n",
    "print ( f\"{ '파일명만 =' :<20} {  os.path.basename(path_test) :>60}\" )\n",
    "print ( f\"{ '디렉토리 경로 = ' :<20} {  os.path.dirname(path_test) :>60}\" )\n",
    "# print ( f\"{ '경로 , 파일명 = ' :<20} {  os.path.split(file_name_test) :>60}\" )\n",
    "# print ( f\"{ '드라이브명 , 나머지  = ' :<20} {  os.path.splitdrive(path_test) :>60}\" )\n",
    "# print ( f\"{ '확장자, 나머지 = ' :<20} {  os.path.splitext(file_name_test) :>60}\" )\n",
    "\n",
    "\n",
    "path_test = \"./org/aaaaa/bbb/\"\n",
    "print ( f\"{ '파일명만 =' :<20} {  os.path.basename(path_test) :>60}\" )\n",
    "print ( f\"{ '디렉토리 경로 = ' :<20} {  os.path.dirname(path_test) :>60}\" )\n",
    "# print ( f\"{ '경로 , 파일명 = ' :<20} {  os.path.split(file_name_test) :>60}\" )\n",
    "# print ( f\"{ '드라이브명 , 나머지  = ' :<20} {  os.path.splitdrive(path_test) :>60}\" )\n",
    "# print ( f\"{ '확장자, 나머지 = ' :<20} {  os.path.splitext(file_name_test) :>60}\" )"
   ]
  },
  {
   "cell_type": "markdown",
   "metadata": {},
   "source": [
    "# Assert \n",
    "\n",
    "# case 01\n",
    "assert df.shape == (30697, 19)\n",
    "\n"
   ]
  }
 ],
 "metadata": {
  "kernelspec": {
   "display_name": "Python 3.9.12 ('base')",
   "language": "python",
   "name": "python3"
  },
  "language_info": {
   "codemirror_mode": {
    "name": "ipython",
    "version": 3
   },
   "file_extension": ".py",
   "mimetype": "text/x-python",
   "name": "python",
   "nbconvert_exporter": "python",
   "pygments_lexer": "ipython3",
   "version": "3.9.12"
  },
  "orig_nbformat": 4,
  "vscode": {
   "interpreter": {
    "hash": "cca240df8b4cc966d527f5e5f91069ba19ec750ec1338ff7cbac995a358e55d1"
   }
  }
 },
 "nbformat": 4,
 "nbformat_minor": 2
}
