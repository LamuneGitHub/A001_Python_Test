{
  "cells": [
    {
      "cell_type": "markdown",
      "metadata": {
        "colab_type": "text",
        "id": "view-in-github"
      },
      "source": [
        "<a href=\"https://colab.research.google.com/github/LamuneGitHub/A001_Python_Test/blob/main/pandas_Test.ipynb\" target=\"_parent\"><img src=\"https://colab.research.google.com/assets/colab-badge.svg\" alt=\"Open In Colab\"/></a>"
      ]
    },
    {
      "cell_type": "code",
      "execution_count": 1,
      "metadata": {
        "id": "yjNGW6zrxqnp"
      },
      "outputs": [],
      "source": [
        "\"\"\"\n",
        "# 구글 드라이브 mount\n",
        "from google.colab import drive\n",
        "drive.mount('/content/drive')\n",
        "\"\"\"\n",
        "\n",
        "#import\n",
        "import re\n",
        "import math\n",
        "import pandas as pd\n",
        "import numpy as np\n",
        "import matplotlib.pyplot as plt\n",
        "import seaborn as sns\n",
        "\n",
        "\n",
        "# 엑셀 파일 로딩\n",
        "df_001 = pd.read_excel(\"https://ds-lecture-data.s3.ap-northeast-2.amazonaws.com/stocks/Travel.xlsx\", sheet_name = \"008770 \")\n",
        "\n",
        "# CSV 파일 로딩\n",
        "df_red = pd.read_csv( \"https://raw.githubusercontent.com/aniruddhachoudhury/Red-Wine-Quality/master/winequality-red.csv\" , sep = \",\")\n",
        "df_white = pd.read_csv( \"https://archive.ics.uci.edu/ml/machine-learning-databases/wine-quality/winequality-white.csv\" , sep = \";\")\n",
        "df_movie = pd.read_csv('https://raw.githubusercontent.com/LamuneGitHub/A001_Python_Test/main/data/movie.csv')\n",
        "df_titanic = sns.load_dataset(\"titanic\")\n",
        "df_patients = pd.read_csv('https://raw.githubusercontent.com/LamuneGitHub/A001_Python_Test/main/data/patients_info.csv')"
      ]
    },
    {
      "cell_type": "markdown",
      "metadata": {
        "id": "eQ3xuMlQ-W23"
      },
      "source": [
        "# DataFrame 정보 확인\n"
      ]
    },
    {
      "cell_type": "code",
      "execution_count": 3,
      "metadata": {
        "id": "iFQVmptW22K4"
      },
      "outputs": [
        {
          "name": "stdout",
          "output_type": "stream",
          "text": [
            "<class 'pandas.core.frame.DataFrame'>\n",
            "RangeIndex: 1599 entries, 0 to 1598\n",
            "Data columns (total 12 columns):\n",
            " #   Column                Non-Null Count  Dtype  \n",
            "---  ------                --------------  -----  \n",
            " 0   fixed acidity         1599 non-null   float64\n",
            " 1   volatile acidity      1599 non-null   float64\n",
            " 2   citric acid           1599 non-null   float64\n",
            " 3   residual sugar        1599 non-null   float64\n",
            " 4   chlorides             1599 non-null   float64\n",
            " 5   free sulfur dioxide   1599 non-null   float64\n",
            " 6   total sulfur dioxide  1599 non-null   float64\n",
            " 7   density               1599 non-null   float64\n",
            " 8   pH                    1599 non-null   float64\n",
            " 9   sulphates             1599 non-null   float64\n",
            " 10  alcohol               1599 non-null   float64\n",
            " 11  quality               1599 non-null   int64  \n",
            "dtypes: float64(11), int64(1)\n",
            "memory usage: 150.0 KB\n"
          ]
        }
      ],
      "source": [
        "# 데이터 프레임 정보 확인\n",
        "df_red.info()"
      ]
    },
    {
      "cell_type": "code",
      "execution_count": 4,
      "metadata": {
        "id": "A9w7rZRDXGWr"
      },
      "outputs": [
        {
          "data": {
            "text/plain": [
              "fixed acidity           float64\n",
              "volatile acidity        float64\n",
              "citric acid             float64\n",
              "residual sugar          float64\n",
              "chlorides               float64\n",
              "free sulfur dioxide     float64\n",
              "total sulfur dioxide    float64\n",
              "density                 float64\n",
              "pH                      float64\n",
              "sulphates               float64\n",
              "alcohol                 float64\n",
              "quality                   int64\n",
              "dtype: object"
            ]
          },
          "execution_count": 4,
          "metadata": {},
          "output_type": "execute_result"
        }
      ],
      "source": [
        "# 컬럼별 타입 확인\n",
        "df_red.dtypes"
      ]
    },
    {
      "cell_type": "code",
      "execution_count": 5,
      "metadata": {
        "id": "E_Z6Zaxa9lko"
      },
      "outputs": [
        {
          "data": {
            "text/html": [
              "<div>\n",
              "<style scoped>\n",
              "    .dataframe tbody tr th:only-of-type {\n",
              "        vertical-align: middle;\n",
              "    }\n",
              "\n",
              "    .dataframe tbody tr th {\n",
              "        vertical-align: top;\n",
              "    }\n",
              "\n",
              "    .dataframe thead th {\n",
              "        text-align: right;\n",
              "    }\n",
              "</style>\n",
              "<table border=\"1\" class=\"dataframe\">\n",
              "  <thead>\n",
              "    <tr style=\"text-align: right;\">\n",
              "      <th></th>\n",
              "      <th>fixed acidity</th>\n",
              "      <th>volatile acidity</th>\n",
              "      <th>citric acid</th>\n",
              "      <th>residual sugar</th>\n",
              "      <th>chlorides</th>\n",
              "      <th>free sulfur dioxide</th>\n",
              "      <th>total sulfur dioxide</th>\n",
              "      <th>density</th>\n",
              "      <th>pH</th>\n",
              "      <th>sulphates</th>\n",
              "      <th>alcohol</th>\n",
              "      <th>quality</th>\n",
              "    </tr>\n",
              "  </thead>\n",
              "  <tbody>\n",
              "    <tr>\n",
              "      <th>count</th>\n",
              "      <td>1599.000000</td>\n",
              "      <td>1599.000000</td>\n",
              "      <td>1599.000000</td>\n",
              "      <td>1599.000000</td>\n",
              "      <td>1599.000000</td>\n",
              "      <td>1599.000000</td>\n",
              "      <td>1599.000000</td>\n",
              "      <td>1599.000000</td>\n",
              "      <td>1599.000000</td>\n",
              "      <td>1599.000000</td>\n",
              "      <td>1599.000000</td>\n",
              "      <td>1599.000000</td>\n",
              "    </tr>\n",
              "    <tr>\n",
              "      <th>mean</th>\n",
              "      <td>8.319637</td>\n",
              "      <td>0.527821</td>\n",
              "      <td>0.270976</td>\n",
              "      <td>2.538806</td>\n",
              "      <td>0.087467</td>\n",
              "      <td>15.874922</td>\n",
              "      <td>46.467792</td>\n",
              "      <td>0.996747</td>\n",
              "      <td>3.311113</td>\n",
              "      <td>0.658149</td>\n",
              "      <td>10.422983</td>\n",
              "      <td>5.636023</td>\n",
              "    </tr>\n",
              "    <tr>\n",
              "      <th>std</th>\n",
              "      <td>1.741096</td>\n",
              "      <td>0.179060</td>\n",
              "      <td>0.194801</td>\n",
              "      <td>1.409928</td>\n",
              "      <td>0.047065</td>\n",
              "      <td>10.460157</td>\n",
              "      <td>32.895324</td>\n",
              "      <td>0.001887</td>\n",
              "      <td>0.154386</td>\n",
              "      <td>0.169507</td>\n",
              "      <td>1.065668</td>\n",
              "      <td>0.807569</td>\n",
              "    </tr>\n",
              "    <tr>\n",
              "      <th>min</th>\n",
              "      <td>4.600000</td>\n",
              "      <td>0.120000</td>\n",
              "      <td>0.000000</td>\n",
              "      <td>0.900000</td>\n",
              "      <td>0.012000</td>\n",
              "      <td>1.000000</td>\n",
              "      <td>6.000000</td>\n",
              "      <td>0.990070</td>\n",
              "      <td>2.740000</td>\n",
              "      <td>0.330000</td>\n",
              "      <td>8.400000</td>\n",
              "      <td>3.000000</td>\n",
              "    </tr>\n",
              "    <tr>\n",
              "      <th>25%</th>\n",
              "      <td>7.100000</td>\n",
              "      <td>0.390000</td>\n",
              "      <td>0.090000</td>\n",
              "      <td>1.900000</td>\n",
              "      <td>0.070000</td>\n",
              "      <td>7.000000</td>\n",
              "      <td>22.000000</td>\n",
              "      <td>0.995600</td>\n",
              "      <td>3.210000</td>\n",
              "      <td>0.550000</td>\n",
              "      <td>9.500000</td>\n",
              "      <td>5.000000</td>\n",
              "    </tr>\n",
              "    <tr>\n",
              "      <th>50%</th>\n",
              "      <td>7.900000</td>\n",
              "      <td>0.520000</td>\n",
              "      <td>0.260000</td>\n",
              "      <td>2.200000</td>\n",
              "      <td>0.079000</td>\n",
              "      <td>14.000000</td>\n",
              "      <td>38.000000</td>\n",
              "      <td>0.996750</td>\n",
              "      <td>3.310000</td>\n",
              "      <td>0.620000</td>\n",
              "      <td>10.200000</td>\n",
              "      <td>6.000000</td>\n",
              "    </tr>\n",
              "    <tr>\n",
              "      <th>75%</th>\n",
              "      <td>9.200000</td>\n",
              "      <td>0.640000</td>\n",
              "      <td>0.420000</td>\n",
              "      <td>2.600000</td>\n",
              "      <td>0.090000</td>\n",
              "      <td>21.000000</td>\n",
              "      <td>62.000000</td>\n",
              "      <td>0.997835</td>\n",
              "      <td>3.400000</td>\n",
              "      <td>0.730000</td>\n",
              "      <td>11.100000</td>\n",
              "      <td>6.000000</td>\n",
              "    </tr>\n",
              "    <tr>\n",
              "      <th>max</th>\n",
              "      <td>15.900000</td>\n",
              "      <td>1.580000</td>\n",
              "      <td>1.000000</td>\n",
              "      <td>15.500000</td>\n",
              "      <td>0.611000</td>\n",
              "      <td>72.000000</td>\n",
              "      <td>289.000000</td>\n",
              "      <td>1.003690</td>\n",
              "      <td>4.010000</td>\n",
              "      <td>2.000000</td>\n",
              "      <td>14.900000</td>\n",
              "      <td>8.000000</td>\n",
              "    </tr>\n",
              "  </tbody>\n",
              "</table>\n",
              "</div>"
            ],
            "text/plain": [
              "       fixed acidity  volatile acidity  citric acid  residual sugar  \\\n",
              "count    1599.000000       1599.000000  1599.000000     1599.000000   \n",
              "mean        8.319637          0.527821     0.270976        2.538806   \n",
              "std         1.741096          0.179060     0.194801        1.409928   \n",
              "min         4.600000          0.120000     0.000000        0.900000   \n",
              "25%         7.100000          0.390000     0.090000        1.900000   \n",
              "50%         7.900000          0.520000     0.260000        2.200000   \n",
              "75%         9.200000          0.640000     0.420000        2.600000   \n",
              "max        15.900000          1.580000     1.000000       15.500000   \n",
              "\n",
              "         chlorides  free sulfur dioxide  total sulfur dioxide      density  \\\n",
              "count  1599.000000          1599.000000           1599.000000  1599.000000   \n",
              "mean      0.087467            15.874922             46.467792     0.996747   \n",
              "std       0.047065            10.460157             32.895324     0.001887   \n",
              "min       0.012000             1.000000              6.000000     0.990070   \n",
              "25%       0.070000             7.000000             22.000000     0.995600   \n",
              "50%       0.079000            14.000000             38.000000     0.996750   \n",
              "75%       0.090000            21.000000             62.000000     0.997835   \n",
              "max       0.611000            72.000000            289.000000     1.003690   \n",
              "\n",
              "                pH    sulphates      alcohol      quality  \n",
              "count  1599.000000  1599.000000  1599.000000  1599.000000  \n",
              "mean      3.311113     0.658149    10.422983     5.636023  \n",
              "std       0.154386     0.169507     1.065668     0.807569  \n",
              "min       2.740000     0.330000     8.400000     3.000000  \n",
              "25%       3.210000     0.550000     9.500000     5.000000  \n",
              "50%       3.310000     0.620000    10.200000     6.000000  \n",
              "75%       3.400000     0.730000    11.100000     6.000000  \n",
              "max       4.010000     2.000000    14.900000     8.000000  "
            ]
          },
          "execution_count": 5,
          "metadata": {},
          "output_type": "execute_result"
        }
      ],
      "source": [
        "# 데이터 프레임의 통계 정보 확인\n",
        "df_red.describe()"
      ]
    },
    {
      "cell_type": "code",
      "execution_count": null,
      "metadata": {
        "id": "UioE-rv2KVhX"
      },
      "outputs": [],
      "source": [
        "# 컬럼 조회 \n",
        "columns_tmp = df_red.columns\n",
        "columns_tmp\n",
        "\n",
        "# 컬럼 변경\n",
        "df_red.columns = columns_tmp\n",
        "df_red.columns\n"
      ]
    },
    {
      "cell_type": "code",
      "execution_count": null,
      "metadata": {
        "id": "JBd1HfL3Lw68"
      },
      "outputs": [],
      "source": [
        "# 컬럼 이름의 배열 \n",
        "list ( df_red) "
      ]
    },
    {
      "cell_type": "markdown",
      "metadata": {
        "id": "nbRV8q7RAet5"
      },
      "source": [
        "# DataFrame 조회\n",
        "\n",
        "### df1에서 col1 컬럼 전체를 추출\n",
        "\n",
        "* df1.loc [ :, 'col1' ]\n",
        "* df1[ 'col1' ] \n",
        "* df1.iloc[ :, 0 ]\n",
        "\n",
        "### df2에서 인덱스가 a인 행을 추출\n",
        "\n",
        "* df2.iloc [ 0 ] # (0번째 컬럼 = 'a')\n",
        "* df2.loc [ 'a' ]\n",
        "\n"
      ]
    },
    {
      "cell_type": "code",
      "execution_count": null,
      "metadata": {
        "id": "TlbsspZtAiMm"
      },
      "outputs": [],
      "source": [
        "# 조건 조회 : condition 조건 사용 \n",
        "\n",
        "#: 나이가 없는 사람들 정보 확인 \n",
        "condition = df_titanic['age'].isnull()\n",
        "\n",
        "df_check = df_titanic.loc[condition]\n",
        "df_check.head(3)"
      ]
    },
    {
      "cell_type": "code",
      "execution_count": null,
      "metadata": {
        "id": "_rV8qRhABCpC"
      },
      "outputs": [],
      "source": [
        "# 다중 조건 조회 : condition 조건 사용 \n",
        "\n",
        "#: 나이가 없는 사람들 정보 확인 \n",
        "cond_1 = df_titanic['age'].isnull()\n",
        "cond_2 = df_titanic['age'].isnull()\n",
        "\n",
        "df_check = df_titanic.loc[cond_1 & cond_2]\n",
        "df_check.head(3)"
      ]
    },
    {
      "cell_type": "code",
      "execution_count": null,
      "metadata": {
        "id": "8GBqqX-QBfDT"
      },
      "outputs": [],
      "source": [
        "# Query 를 사용한 조회 : 사망자 , 남성\n",
        "df_temp = df_titanic.query( \"sex == 'male' &  survived == 0 \" )\n",
        "df_temp.head(3)"
      ]
    },
    {
      "cell_type": "code",
      "execution_count": null,
      "metadata": {
        "id": "DmQwx9jq3a8-"
      },
      "outputs": [],
      "source": [
        "# 열 이름으로 조회 => 시리즈\n",
        "df_red['fixed acidity'].head(3)"
      ]
    },
    {
      "cell_type": "code",
      "execution_count": null,
      "metadata": {
        "id": "D8DdQ2-v4OP8"
      },
      "outputs": [],
      "source": [
        "# 행 인덱스로 조회  => DataFrame\n",
        "df_red.loc[0:2]"
      ]
    },
    {
      "cell_type": "code",
      "execution_count": null,
      "metadata": {
        "id": "4DDz36qM4_Ae"
      },
      "outputs": [],
      "source": [
        "# 행 인덱스로 조회  => DataFrame\n",
        "df_red.iloc[0:2]"
      ]
    },
    {
      "cell_type": "code",
      "execution_count": null,
      "metadata": {
        "id": "hj_fHj0p1E-9"
      },
      "outputs": [],
      "source": [
        "#index를 이용한 DataFrame 의 조회\n",
        "df_temp.iloc[0].head() # Series로 반환\n",
        "df_temp.iloc[[0]] # DataFrame 으로 반환\n",
        "\n",
        "# 컬럼 index로 조회 \n",
        "df_temp[0] # 첫번째 열 조회 \n"
      ]
    },
    {
      "cell_type": "code",
      "execution_count": null,
      "metadata": {
        "id": "B-qOiJKbKObh"
      },
      "outputs": [],
      "source": [
        "# 간단 조회 []\n",
        "df_patients[df_patients.몸무게 == 22.14]"
      ]
    },
    {
      "cell_type": "code",
      "execution_count": null,
      "metadata": {
        "id": "FvnSLollKvL3"
      },
      "outputs": [],
      "source": [
        "# 간단 조회 loc()\n",
        "df_patients.loc[ df_patients.몸무게 == 22.14]"
      ]
    },
    {
      "cell_type": "code",
      "execution_count": null,
      "metadata": {
        "id": "0MFg04JGK5E1"
      },
      "outputs": [],
      "source": [
        "# 간단 조회 query\n",
        "df_patients.query( \"몸무게 == 22.14\" )"
      ]
    },
    {
      "cell_type": "markdown",
      "metadata": {
        "id": "AEBfqqL7AQ7m"
      },
      "source": [
        "# Missing Value (결측치)\n"
      ]
    },
    {
      "cell_type": "code",
      "execution_count": null,
      "metadata": {
        "id": "BWKezN2079tC"
      },
      "outputs": [],
      "source": [
        "# 결측치 갯수 조회\n",
        "df_movie.isnull().sum() # 각 컬럼별 결측치 갯수 조회\n",
        "df_movie['Certificate'].isnull().sum() # Certificate 컬럼의 결측치 갯수\n",
        "df_movie.isnull().sum().sum() # 모든 결측치 갯수 조회"
      ]
    },
    {
      "cell_type": "code",
      "execution_count": null,
      "metadata": {
        "id": "iTQ-_NIo9HXQ"
      },
      "outputs": [],
      "source": [
        "# 결측치가 있는 모든 컬럼 조회\n",
        "srs_temp = df_movie.isnull().sum()\n",
        "srs_temp[ srs_temp > 0 ].index"
      ]
    },
    {
      "cell_type": "code",
      "execution_count": null,
      "metadata": {
        "id": "22GIDtGg55A6"
      },
      "outputs": [],
      "source": [
        "# 결측치 채우기\n",
        "df_red.fillna(0) # 모든 결측치를 0으로 대치\n",
        " "
      ]
    },
    {
      "cell_type": "code",
      "execution_count": null,
      "metadata": {
        "id": "iyndlL_fCOY5"
      },
      "outputs": [],
      "source": [
        "## Nan != Nan 의 성질을 이용하여 결측치 채우기 \n",
        "df_titanic.loc[df_titanic['age'] != df_titanic['age'], 'age'] = -1\n",
        "\n",
        "df_titanic.loc[df_titanic['age'] == -1].head(3)"
      ]
    },
    {
      "cell_type": "markdown",
      "metadata": {
        "id": "vEgP2D_q_nwe"
      },
      "source": [
        "# DataFrame 다루기"
      ]
    },
    {
      "cell_type": "code",
      "execution_count": null,
      "metadata": {
        "id": "-sScCrM0_msF"
      },
      "outputs": [],
      "source": [
        "# DF 분리 추출 \n",
        "#:( 나이 , 사망여부 )\n",
        "df_temp_survived_age = pd.DataFrame(df_titanic)[['survived', 'age']]\n",
        "df_temp_survived_age.head(3)"
      ]
    },
    {
      "cell_type": "code",
      "execution_count": null,
      "metadata": {
        "id": "6qCnmKO2dkbK"
      },
      "outputs": [],
      "source": [
        "# DF 분리 추출  \n",
        "#: patients 테이블에서 환자고유번호와 이름을 가져옵니다.\n",
        "primary_table = df_patients[['환자고유번호', '이름']]\n",
        "primary_table.head(3)"
      ]
    },
    {
      "cell_type": "code",
      "execution_count": null,
      "metadata": {
        "id": "3hMoGa8b_7kN"
      },
      "outputs": [],
      "source": [
        "# index 다시 매기기 \n",
        "df_red = df_red.reset_index( drop = True ) # drop = True를 주지 않으면 기존의 index가 컬럼으로 추가 되면서 새로운 index가 생성된다.\n",
        "df_red.head(3)"
      ]
    },
    {
      "cell_type": "code",
      "execution_count": null,
      "metadata": {
        "id": "BNc5uoYeD0qI"
      },
      "outputs": [],
      "source": [
        "# 행 열 도치\n",
        "df_temp = df_001.T"
      ]
    },
    {
      "cell_type": "code",
      "execution_count": null,
      "metadata": {
        "id": "VoTGr4bhMyfK"
      },
      "outputs": [],
      "source": [
        "# 원본 DataFrame copy\n",
        "patients_copy = df_patients.copy()\n",
        "patients_copy.head(3)"
      ]
    },
    {
      "cell_type": "code",
      "execution_count": null,
      "metadata": {
        "id": "K6j7fulWWbK-"
      },
      "outputs": [],
      "source": [
        "# 열 삭제\n",
        "patients_clean = df_patients_clean.drop('나이', axis='columns' )"
      ]
    },
    {
      "cell_type": "markdown",
      "metadata": {
        "id": "KPUrUM2A-PoY"
      },
      "source": [
        "# Group by()\n",
        "* mean() : 평균\n",
        "* median() : 중간값\n",
        "* 최빈값"
      ]
    },
    {
      "cell_type": "code",
      "execution_count": null,
      "metadata": {
        "id": "MkYsTkLo-4Se"
      },
      "outputs": [],
      "source": [
        "df_titanic.head(3)"
      ]
    },
    {
      "cell_type": "code",
      "execution_count": null,
      "metadata": {
        "id": "wxlTSclO-_Rc"
      },
      "outputs": [],
      "source": [
        "df_titanic.describe()"
      ]
    },
    {
      "cell_type": "code",
      "execution_count": null,
      "metadata": {
        "id": "_iSD6VMj-TRI"
      },
      "outputs": [],
      "source": [
        "# 생존여부,성별 을 기준으로 좌석등급 중앙값 DF 조회\n",
        "df_temp = df_titanic.groupby(['survived','sex'] , as_index=False)['pclass','age'].median()\n",
        "df_temp\n"
      ]
    },
    {
      "cell_type": "code",
      "execution_count": null,
      "metadata": {
        "id": "xc0L-pSS-wd1"
      },
      "outputs": [],
      "source": [
        "# 생존여부,성별 을 기준으로 좌석등급 중앙값 DF 조회\n",
        "df_temp = df_titanic.groupby(['survived','sex'] , as_index=True)['pclass','age'].median()\n",
        "df_temp\n"
      ]
    }
  ],
  "metadata": {
    "colab": {
      "authorship_tag": "ABX9TyOeEPquqipxxE/ehgRT1GAQ",
      "collapsed_sections": [],
      "include_colab_link": true,
      "name": "pandas_Test.ipynb",
      "private_outputs": true,
      "provenance": []
    },
    "kernelspec": {
      "display_name": "Python 3.9.12 ('base')",
      "language": "python",
      "name": "python3"
    },
    "language_info": {
      "codemirror_mode": {
        "name": "ipython",
        "version": 3
      },
      "file_extension": ".py",
      "mimetype": "text/x-python",
      "name": "python",
      "nbconvert_exporter": "python",
      "pygments_lexer": "ipython3",
      "version": "3.9.12"
    },
    "vscode": {
      "interpreter": {
        "hash": "cca240df8b4cc966d527f5e5f91069ba19ec750ec1338ff7cbac995a358e55d1"
      }
    }
  },
  "nbformat": 4,
  "nbformat_minor": 0
}
