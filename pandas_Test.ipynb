{
  "nbformat": 4,
  "nbformat_minor": 0,
  "metadata": {
    "colab": {
      "name": "pandas_Test.ipynb",
      "private_outputs": true,
      "provenance": [],
      "collapsed_sections": [],
      "authorship_tag": "ABX9TyNJB/HNTV85qiAl/4j/VofX",
      "include_colab_link": true
    },
    "kernelspec": {
      "name": "python3",
      "display_name": "Python 3"
    },
    "language_info": {
      "name": "python"
    }
  },
  "cells": [
    {
      "cell_type": "markdown",
      "metadata": {
        "id": "view-in-github",
        "colab_type": "text"
      },
      "source": [
        "<a href=\"https://colab.research.google.com/github/LamuneGitHub/A001_Python_Test/blob/main/pandas_Test.ipynb\" target=\"_parent\"><img src=\"https://colab.research.google.com/assets/colab-badge.svg\" alt=\"Open In Colab\"/></a>"
      ]
    },
    {
      "cell_type": "code",
      "execution_count": null,
      "metadata": {
        "id": "yjNGW6zrxqnp"
      },
      "outputs": [],
      "source": [
        "# 구글 드라이브 mount\n",
        "from google.colab import drive\n",
        "drive.mount('/content/drive')\n",
        "\n",
        "#import\n",
        "import pandas as pd\n",
        "import numpy as np\n",
        "import matplotlib.pyplot as plt\n",
        "import seaborn as sns\n",
        "\n",
        "\n",
        "# 엑셀 파일 로딩\n",
        "df_001 = pd.read_excel(\"https://ds-lecture-data.s3.ap-northeast-2.amazonaws.com/stocks/Travel.xlsx\", sheet_name = \"008770 \")\n",
        "# CSV 파일 로딩\n",
        "df_red = pd.read_csv( \"https://raw.githubusercontent.com/aniruddhachoudhury/Red-Wine-Quality/master/winequality-red.csv\" , sep = \",\")\n",
        "df_movie = pd.read_csv('https://raw.githubusercontent.com/LamuneGitHub/A001_Python_Test/main/data/movie.csv')\n",
        "df_titanic = sns.load_dataset(\"titanic\")\n",
        "\n",
        "# 행 열 도치\n",
        "df_temp = df_001.T\n"
      ]
    },
    {
      "cell_type": "markdown",
      "source": [
        "# DataFrame 정보 확인\n"
      ],
      "metadata": {
        "id": "eQ3xuMlQ-W23"
      }
    },
    {
      "cell_type": "code",
      "source": [
        "# 데이터 프레임 정보 확인\n",
        "df_red.info()"
      ],
      "metadata": {
        "id": "iFQVmptW22K4"
      },
      "execution_count": null,
      "outputs": []
    },
    {
      "cell_type": "code",
      "source": [
        "# 데이터 프레임의 통계 정보 확인\n",
        "df_red.describe()"
      ],
      "metadata": {
        "id": "E_Z6Zaxa9lko"
      },
      "execution_count": null,
      "outputs": []
    },
    {
      "cell_type": "code",
      "source": [
        "# 열 이름으로 조회 => 시리즈\n",
        "df_red['fixed acidity'].head(3)"
      ],
      "metadata": {
        "id": "DmQwx9jq3a8-"
      },
      "execution_count": null,
      "outputs": []
    },
    {
      "cell_type": "code",
      "source": [
        "# 행 인덱스로 조회  => DataFrame\n",
        "df_red.loc[0:2]"
      ],
      "metadata": {
        "id": "D8DdQ2-v4OP8"
      },
      "execution_count": null,
      "outputs": []
    },
    {
      "cell_type": "code",
      "source": [
        "# 행 인덱스로 조회  => DataFrame\n",
        "df_red.iloc[0:2]"
      ],
      "metadata": {
        "id": "4DDz36qM4_Ae"
      },
      "execution_count": null,
      "outputs": []
    },
    {
      "cell_type": "code",
      "source": [
        "#index를 이용한 DataFrame 의 조회\n",
        "df_temp.iloc[0].head() # Series로 반환\n",
        "df_temp.iloc[[0]] # DataFrame 으로 반환\n",
        "\n",
        "# 컬럼 index로 조회 \n",
        "df_temp[0] # 첫번째 열 조회 \n"
      ],
      "metadata": {
        "id": "hj_fHj0p1E-9"
      },
      "execution_count": null,
      "outputs": []
    },
    {
      "cell_type": "code",
      "source": [
        "# 컬럼 조회 \n",
        "columns_tmp = df_red.columns\n",
        "columns_tmp\n",
        "\n",
        "# 컬럼 변경\n",
        "df_red.columns = columns_tmp\n",
        "df_red.columns\n"
      ],
      "metadata": {
        "id": "xMjxJjnW5ao4"
      },
      "execution_count": null,
      "outputs": []
    },
    {
      "cell_type": "code",
      "source": [
        "# 결측치 갯수 조회\n",
        "df_movie.isnull().sum() # 각 컬럼별 결측치 갯수 조회\n",
        "df_movie['Certificate'].isnull().sum() # Certificate 컬럼의 결측치 갯수\n",
        "df_movie.isnull().sum().sum() # 모든 결측치 갯수 조회"
      ],
      "metadata": {
        "id": "BWKezN2079tC"
      },
      "execution_count": null,
      "outputs": []
    },
    {
      "cell_type": "code",
      "source": [
        "# 결측치가 있는 모든 컬럼 조회\n",
        "srs_temp = df_movie.isnull().sum()\n",
        "srs_temp[ srs_temp > 0 ].index"
      ],
      "metadata": {
        "id": "iTQ-_NIo9HXQ"
      },
      "execution_count": null,
      "outputs": []
    },
    {
      "cell_type": "code",
      "source": [
        "# 결측치 채우기\n",
        "df_red.fillna(0) # 모든 결측치를 0으로 대치\n",
        " "
      ],
      "metadata": {
        "id": "22GIDtGg55A6"
      },
      "execution_count": null,
      "outputs": []
    },
    {
      "cell_type": "markdown",
      "source": [
        "# DataFrame 다루기"
      ],
      "metadata": {
        "id": "vEgP2D_q_nwe"
      }
    },
    {
      "cell_type": "code",
      "source": [
        "# DF 추출 ( 나이 , 사망여부 )\n",
        "df_temp_survived_age = pd.DataFrame(df_titanic)[['survived', 'age']]\n",
        "df_temp_survived_age.head(3)"
      ],
      "metadata": {
        "id": "-sScCrM0_msF"
      },
      "execution_count": null,
      "outputs": []
    },
    {
      "cell_type": "code",
      "source": [
        "# index 다시 매기기 \n",
        "df_red = df_red.reset_index( drop = True ) # drop = True를 주지 않으면 기존의 index가 컬럼으로 추가 되면서 새로운 index가 생성된다.\n",
        "df_red.head(3)"
      ],
      "metadata": {
        "id": "3hMoGa8b_7kN"
      },
      "execution_count": null,
      "outputs": []
    },
    {
      "cell_type": "markdown",
      "source": [
        "# Group by()\n",
        "* mean() : 평균\n",
        "* median() : 중간값\n",
        "* 최빈값"
      ],
      "metadata": {
        "id": "KPUrUM2A-PoY"
      }
    },
    {
      "cell_type": "code",
      "source": [
        "df_titanic.head(3)"
      ],
      "metadata": {
        "id": "MkYsTkLo-4Se"
      },
      "execution_count": null,
      "outputs": []
    },
    {
      "cell_type": "code",
      "source": [
        "df_titanic.describe()"
      ],
      "metadata": {
        "id": "wxlTSclO-_Rc"
      },
      "execution_count": null,
      "outputs": []
    },
    {
      "cell_type": "code",
      "source": [
        "# 생존여부,성별 을 기준으로 좌석등급 중앙값 DF 조회\n",
        "df_temp = df_titanic.groupby(['survived','sex'] , as_index=False)['pclass','age'].median()\n",
        "df_temp\n"
      ],
      "metadata": {
        "id": "_iSD6VMj-TRI"
      },
      "execution_count": null,
      "outputs": []
    },
    {
      "cell_type": "code",
      "source": [
        "# 생존여부,성별 을 기준으로 좌석등급 중앙값 DF 조회\n",
        "df_temp = df_titanic.groupby(['survived','sex'] , as_index=True)['pclass','age'].median()\n",
        "df_temp\n"
      ],
      "metadata": {
        "id": "xc0L-pSS-wd1"
      },
      "execution_count": null,
      "outputs": []
    }
  ]
}