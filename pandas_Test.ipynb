{
  "cells": [
    {
      "cell_type": "markdown",
      "metadata": {
        "colab_type": "text",
        "id": "view-in-github"
      },
      "source": [
        "<a href=\"https://colab.research.google.com/github/LamuneGitHub/A001_Python_Test/blob/main/pandas_Test.ipynb\" target=\"_parent\"><img src=\"https://colab.research.google.com/assets/colab-badge.svg\" alt=\"Open In Colab\"/></a>"
      ]
    },
    {
      "cell_type": "code",
      "execution_count": 2,
      "metadata": {},
      "outputs": [
        {
          "data": {
            "text/plain": [
              "\"\\n# 구글 드라이브 mount\\nfrom google.colab import drive\\ndrive.mount('/content/drive')\\n\""
            ]
          },
          "execution_count": 2,
          "metadata": {},
          "output_type": "execute_result"
        }
      ],
      "source": [
        "# import\n",
        "\n",
        "%matplotlib inline\n",
        "\n",
        "from IPython.display import display\n",
        "\n",
        "import re\n",
        "import math\n",
        "import pandas as pd\n",
        "import numpy as np\n",
        "import matplotlib as mpl\n",
        "import matplotlib.pyplot as plt\n",
        "import seaborn as sns\n",
        "import random\n",
        "\n",
        "import sklearn\n",
        "from sklearn.preprocessing import StandardScaler\n",
        "from sklearn.cluster import KMeans\n",
        "\n",
        "#pandas에서 DataFrame을 요약해서 표시하지 않도록 설정\n",
        "pd.set_option('display.max_columns', None)\n",
        "pd.set_option('display.max_rows', None)\n",
        "\n",
        "# 줄 구분 표시 출력 \n",
        "def print_line() :\n",
        "  print (\"\\n------------------------------------------------\")\n",
        "def print_line_m() :\n",
        "  print (\"\\n-----------------------\")\n",
        "def print_line_s() :\n",
        "  print (\"\\n----------\")\n",
        "\n",
        "\"\"\"\n",
        "# 구글 드라이브 mount\n",
        "from google.colab import drive\n",
        "drive.mount('/content/drive')\n",
        "\"\"\""
      ]
    },
    {
      "cell_type": "code",
      "execution_count": 3,
      "metadata": {
        "id": "yjNGW6zrxqnp"
      },
      "outputs": [],
      "source": [
        "\n",
        "# 엑셀 파일 로딩\n",
        "df_001 = pd.read_excel(\"https://ds-lecture-data.s3.ap-northeast-2.amazonaws.com/stocks/Travel.xlsx\", sheet_name = \"008770 \")\n",
        "\n",
        "# CSV 파일 로딩\n",
        "df_red = pd.read_csv( \"https://raw.githubusercontent.com/aniruddhachoudhury/Red-Wine-Quality/master/winequality-red.csv\" , sep = \",\")\n",
        "df_white = pd.read_csv( \"https://archive.ics.uci.edu/ml/machine-learning-databases/wine-quality/winequality-white.csv\" , sep = \";\")\n",
        "df_movie = pd.read_csv('https://raw.githubusercontent.com/LamuneGitHub/A001_Python_Test/main/data/movie.csv')\n",
        "df_titanic = sns.load_dataset(\"titanic\")\n",
        "df_patients = pd.read_csv('https://raw.githubusercontent.com/LamuneGitHub/A001_Python_Test/main/data/patients_info.csv')\n",
        "\n",
        "\n",
        "df_tmp = pd.read_csv('https://raw.githubusercontent.com/LamuneGitHub/A001_Python_Test/main/data/n133a-dataset.csv', sep=\",\", header=0)\n"
      ]
    },
    {
      "cell_type": "markdown",
      "metadata": {},
      "source": [
        "----\n",
        "----"
      ]
    },
    {
      "cell_type": "code",
      "execution_count": 3,
      "metadata": {},
      "outputs": [],
      "source": [
        "df_tmp = pd.read_csv( \"https://raw.githubusercontent.com/LamuneGitHub/AI15_Prj_01/main/vgames2.csv\" , sep=\",\"  , header=0  , index_col=0 ) \n",
        "df_target = df_tmp"
      ]
    },
    {
      "cell_type": "code",
      "execution_count": 4,
      "metadata": {},
      "outputs": [
        {
          "data": {
            "text/html": [
              "<div>\n",
              "<style scoped>\n",
              "    .dataframe tbody tr th:only-of-type {\n",
              "        vertical-align: middle;\n",
              "    }\n",
              "\n",
              "    .dataframe tbody tr th {\n",
              "        vertical-align: top;\n",
              "    }\n",
              "\n",
              "    .dataframe thead th {\n",
              "        text-align: right;\n",
              "    }\n",
              "</style>\n",
              "<table border=\"1\" class=\"dataframe\">\n",
              "  <thead>\n",
              "    <tr style=\"text-align: right;\">\n",
              "      <th></th>\n",
              "      <th>Name</th>\n",
              "      <th>Platform</th>\n",
              "      <th>Year</th>\n",
              "      <th>Genre</th>\n",
              "      <th>Publisher</th>\n",
              "      <th>NA_Sales</th>\n",
              "      <th>EU_Sales</th>\n",
              "      <th>JP_Sales</th>\n",
              "      <th>Other_Sales</th>\n",
              "    </tr>\n",
              "  </thead>\n",
              "  <tbody>\n",
              "    <tr>\n",
              "      <th>1</th>\n",
              "      <td>False</td>\n",
              "      <td>False</td>\n",
              "      <td>False</td>\n",
              "      <td>True</td>\n",
              "      <td>False</td>\n",
              "      <td>False</td>\n",
              "      <td>False</td>\n",
              "      <td>False</td>\n",
              "      <td>False</td>\n",
              "    </tr>\n",
              "    <tr>\n",
              "      <th>2</th>\n",
              "      <td>False</td>\n",
              "      <td>False</td>\n",
              "      <td>False</td>\n",
              "      <td>True</td>\n",
              "      <td>False</td>\n",
              "      <td>False</td>\n",
              "      <td>False</td>\n",
              "      <td>False</td>\n",
              "      <td>False</td>\n",
              "    </tr>\n",
              "  </tbody>\n",
              "</table>\n",
              "</div>"
            ],
            "text/plain": [
              "    Name  Platform   Year  Genre  Publisher  NA_Sales  EU_Sales  JP_Sales  \\\n",
              "1  False     False  False   True      False     False     False     False   \n",
              "2  False     False  False   True      False     False     False     False   \n",
              "\n",
              "   Other_Sales  \n",
              "1        False  \n",
              "2        False  "
            ]
          },
          "execution_count": 4,
          "metadata": {},
          "output_type": "execute_result"
        }
      ],
      "source": [
        "# df_target 모든 열에 대해서 값이 Action과 동일한지 여부를 DF로 반환 \n",
        "df_tmp = df_target == \"Action\"\n",
        "df_tmp.head(2)"
      ]
    },
    {
      "cell_type": "code",
      "execution_count": 6,
      "metadata": {},
      "outputs": [
        {
          "data": {
            "text/plain": [
              "1     True\n",
              "2     True\n",
              "3    False\n",
              "4    False\n",
              "5    False\n",
              "Name: Genre, dtype: object"
            ]
          },
          "execution_count": 6,
          "metadata": {},
          "output_type": "execute_result"
        }
      ],
      "source": [
        "# 특정 열에 대해서 특정 문자열이 포함되어 있는지 여부 반환 ( 대소문자 구분 X)\n",
        "df_tmp  = df_target['Genre'].str.contains( \"act\"  , case=False )\n",
        "df_tmp.head()"
      ]
    },
    {
      "cell_type": "code",
      "execution_count": 9,
      "metadata": {},
      "outputs": [
        {
          "ename": "NameError",
          "evalue": "name 'contains' is not defined",
          "output_type": "error",
          "traceback": [
            "\u001b[0;31m---------------------------------------------------------------------------\u001b[0m",
            "\u001b[0;31mNameError\u001b[0m                                 Traceback (most recent call last)",
            "\u001b[1;32m/Users/lamune/@git/git_hub/A001_Python_Test/pandas_Test.ipynb 셀 8\u001b[0m in \u001b[0;36m<cell line: 2>\u001b[0;34m()\u001b[0m\n\u001b[1;32m      <a href='vscode-notebook-cell:/Users/lamune/%40git/git_hub/A001_Python_Test/pandas_Test.ipynb#X60sZmlsZQ%3D%3D?line=0'>1</a>\u001b[0m \u001b[39m# 모든 열에 대해서 특정 문자열이 포함되어 있는지 여부 반환 ( 대소문자 구분 X)\u001b[39;00m\n\u001b[0;32m----> <a href='vscode-notebook-cell:/Users/lamune/%40git/git_hub/A001_Python_Test/pandas_Test.ipynb#X60sZmlsZQ%3D%3D?line=1'>2</a>\u001b[0m df_tmp  \u001b[39m=\u001b[39m df_target\u001b[39m.\u001b[39mquery( contains( \u001b[39m\"\u001b[39m\u001b[39mact\u001b[39m\u001b[39m\"\u001b[39m  , case\u001b[39m=\u001b[39m\u001b[39mFalse\u001b[39;00m ) )\n\u001b[1;32m      <a href='vscode-notebook-cell:/Users/lamune/%40git/git_hub/A001_Python_Test/pandas_Test.ipynb#X60sZmlsZQ%3D%3D?line=2'>3</a>\u001b[0m df_tmp\u001b[39m.\u001b[39mhead()\n",
            "\u001b[0;31mNameError\u001b[0m: name 'contains' is not defined"
          ]
        }
      ],
      "source": [
        "# 모든 열에 대해서 특정 문자열이 포함되어 있는지 여부 반환 ( 대소문자 구분 X)\n",
        "df_tmp  = df_target.query( contains( \"act\"  , case=False ) )\n",
        "df_tmp.head()"
      ]
    },
    {
      "cell_type": "markdown",
      "metadata": {},
      "source": [
        "----\n",
        "----"
      ]
    },
    {
      "cell_type": "markdown",
      "metadata": {
        "id": "eQ3xuMlQ-W23"
      },
      "source": [
        "# DataFrame 정보 확인\n"
      ]
    },
    {
      "cell_type": "code",
      "execution_count": 3,
      "metadata": {
        "id": "iFQVmptW22K4"
      },
      "outputs": [
        {
          "name": "stdout",
          "output_type": "stream",
          "text": [
            "<class 'pandas.core.frame.DataFrame'>\n",
            "RangeIndex: 1599 entries, 0 to 1598\n",
            "Data columns (total 12 columns):\n",
            " #   Column                Non-Null Count  Dtype  \n",
            "---  ------                --------------  -----  \n",
            " 0   fixed acidity         1599 non-null   float64\n",
            " 1   volatile acidity      1599 non-null   float64\n",
            " 2   citric acid           1599 non-null   float64\n",
            " 3   residual sugar        1599 non-null   float64\n",
            " 4   chlorides             1599 non-null   float64\n",
            " 5   free sulfur dioxide   1599 non-null   float64\n",
            " 6   total sulfur dioxide  1599 non-null   float64\n",
            " 7   density               1599 non-null   float64\n",
            " 8   pH                    1599 non-null   float64\n",
            " 9   sulphates             1599 non-null   float64\n",
            " 10  alcohol               1599 non-null   float64\n",
            " 11  quality               1599 non-null   int64  \n",
            "dtypes: float64(11), int64(1)\n",
            "memory usage: 150.0 KB\n"
          ]
        }
      ],
      "source": [
        "# 데이터 프레임 정보 확인\n",
        "df_red.info()"
      ]
    },
    {
      "cell_type": "code",
      "execution_count": 4,
      "metadata": {
        "id": "A9w7rZRDXGWr"
      },
      "outputs": [
        {
          "data": {
            "text/plain": [
              "fixed acidity           float64\n",
              "volatile acidity        float64\n",
              "citric acid             float64\n",
              "residual sugar          float64\n",
              "chlorides               float64\n",
              "free sulfur dioxide     float64\n",
              "total sulfur dioxide    float64\n",
              "density                 float64\n",
              "pH                      float64\n",
              "sulphates               float64\n",
              "alcohol                 float64\n",
              "quality                   int64\n",
              "dtype: object"
            ]
          },
          "execution_count": 4,
          "metadata": {},
          "output_type": "execute_result"
        }
      ],
      "source": [
        "# 컬럼별 타입 확인\n",
        "df_red.dtypes"
      ]
    },
    {
      "cell_type": "code",
      "execution_count": 5,
      "metadata": {
        "id": "E_Z6Zaxa9lko"
      },
      "outputs": [
        {
          "data": {
            "text/html": [
              "<div>\n",
              "<style scoped>\n",
              "    .dataframe tbody tr th:only-of-type {\n",
              "        vertical-align: middle;\n",
              "    }\n",
              "\n",
              "    .dataframe tbody tr th {\n",
              "        vertical-align: top;\n",
              "    }\n",
              "\n",
              "    .dataframe thead th {\n",
              "        text-align: right;\n",
              "    }\n",
              "</style>\n",
              "<table border=\"1\" class=\"dataframe\">\n",
              "  <thead>\n",
              "    <tr style=\"text-align: right;\">\n",
              "      <th></th>\n",
              "      <th>fixed acidity</th>\n",
              "      <th>volatile acidity</th>\n",
              "      <th>citric acid</th>\n",
              "      <th>residual sugar</th>\n",
              "      <th>chlorides</th>\n",
              "      <th>free sulfur dioxide</th>\n",
              "      <th>total sulfur dioxide</th>\n",
              "      <th>density</th>\n",
              "      <th>pH</th>\n",
              "      <th>sulphates</th>\n",
              "      <th>alcohol</th>\n",
              "      <th>quality</th>\n",
              "    </tr>\n",
              "  </thead>\n",
              "  <tbody>\n",
              "    <tr>\n",
              "      <th>count</th>\n",
              "      <td>1599.000000</td>\n",
              "      <td>1599.000000</td>\n",
              "      <td>1599.000000</td>\n",
              "      <td>1599.000000</td>\n",
              "      <td>1599.000000</td>\n",
              "      <td>1599.000000</td>\n",
              "      <td>1599.000000</td>\n",
              "      <td>1599.000000</td>\n",
              "      <td>1599.000000</td>\n",
              "      <td>1599.000000</td>\n",
              "      <td>1599.000000</td>\n",
              "      <td>1599.000000</td>\n",
              "    </tr>\n",
              "    <tr>\n",
              "      <th>mean</th>\n",
              "      <td>8.319637</td>\n",
              "      <td>0.527821</td>\n",
              "      <td>0.270976</td>\n",
              "      <td>2.538806</td>\n",
              "      <td>0.087467</td>\n",
              "      <td>15.874922</td>\n",
              "      <td>46.467792</td>\n",
              "      <td>0.996747</td>\n",
              "      <td>3.311113</td>\n",
              "      <td>0.658149</td>\n",
              "      <td>10.422983</td>\n",
              "      <td>5.636023</td>\n",
              "    </tr>\n",
              "    <tr>\n",
              "      <th>std</th>\n",
              "      <td>1.741096</td>\n",
              "      <td>0.179060</td>\n",
              "      <td>0.194801</td>\n",
              "      <td>1.409928</td>\n",
              "      <td>0.047065</td>\n",
              "      <td>10.460157</td>\n",
              "      <td>32.895324</td>\n",
              "      <td>0.001887</td>\n",
              "      <td>0.154386</td>\n",
              "      <td>0.169507</td>\n",
              "      <td>1.065668</td>\n",
              "      <td>0.807569</td>\n",
              "    </tr>\n",
              "    <tr>\n",
              "      <th>min</th>\n",
              "      <td>4.600000</td>\n",
              "      <td>0.120000</td>\n",
              "      <td>0.000000</td>\n",
              "      <td>0.900000</td>\n",
              "      <td>0.012000</td>\n",
              "      <td>1.000000</td>\n",
              "      <td>6.000000</td>\n",
              "      <td>0.990070</td>\n",
              "      <td>2.740000</td>\n",
              "      <td>0.330000</td>\n",
              "      <td>8.400000</td>\n",
              "      <td>3.000000</td>\n",
              "    </tr>\n",
              "    <tr>\n",
              "      <th>25%</th>\n",
              "      <td>7.100000</td>\n",
              "      <td>0.390000</td>\n",
              "      <td>0.090000</td>\n",
              "      <td>1.900000</td>\n",
              "      <td>0.070000</td>\n",
              "      <td>7.000000</td>\n",
              "      <td>22.000000</td>\n",
              "      <td>0.995600</td>\n",
              "      <td>3.210000</td>\n",
              "      <td>0.550000</td>\n",
              "      <td>9.500000</td>\n",
              "      <td>5.000000</td>\n",
              "    </tr>\n",
              "    <tr>\n",
              "      <th>50%</th>\n",
              "      <td>7.900000</td>\n",
              "      <td>0.520000</td>\n",
              "      <td>0.260000</td>\n",
              "      <td>2.200000</td>\n",
              "      <td>0.079000</td>\n",
              "      <td>14.000000</td>\n",
              "      <td>38.000000</td>\n",
              "      <td>0.996750</td>\n",
              "      <td>3.310000</td>\n",
              "      <td>0.620000</td>\n",
              "      <td>10.200000</td>\n",
              "      <td>6.000000</td>\n",
              "    </tr>\n",
              "    <tr>\n",
              "      <th>75%</th>\n",
              "      <td>9.200000</td>\n",
              "      <td>0.640000</td>\n",
              "      <td>0.420000</td>\n",
              "      <td>2.600000</td>\n",
              "      <td>0.090000</td>\n",
              "      <td>21.000000</td>\n",
              "      <td>62.000000</td>\n",
              "      <td>0.997835</td>\n",
              "      <td>3.400000</td>\n",
              "      <td>0.730000</td>\n",
              "      <td>11.100000</td>\n",
              "      <td>6.000000</td>\n",
              "    </tr>\n",
              "    <tr>\n",
              "      <th>max</th>\n",
              "      <td>15.900000</td>\n",
              "      <td>1.580000</td>\n",
              "      <td>1.000000</td>\n",
              "      <td>15.500000</td>\n",
              "      <td>0.611000</td>\n",
              "      <td>72.000000</td>\n",
              "      <td>289.000000</td>\n",
              "      <td>1.003690</td>\n",
              "      <td>4.010000</td>\n",
              "      <td>2.000000</td>\n",
              "      <td>14.900000</td>\n",
              "      <td>8.000000</td>\n",
              "    </tr>\n",
              "  </tbody>\n",
              "</table>\n",
              "</div>"
            ],
            "text/plain": [
              "       fixed acidity  volatile acidity  citric acid  residual sugar  \\\n",
              "count    1599.000000       1599.000000  1599.000000     1599.000000   \n",
              "mean        8.319637          0.527821     0.270976        2.538806   \n",
              "std         1.741096          0.179060     0.194801        1.409928   \n",
              "min         4.600000          0.120000     0.000000        0.900000   \n",
              "25%         7.100000          0.390000     0.090000        1.900000   \n",
              "50%         7.900000          0.520000     0.260000        2.200000   \n",
              "75%         9.200000          0.640000     0.420000        2.600000   \n",
              "max        15.900000          1.580000     1.000000       15.500000   \n",
              "\n",
              "         chlorides  free sulfur dioxide  total sulfur dioxide      density  \\\n",
              "count  1599.000000          1599.000000           1599.000000  1599.000000   \n",
              "mean      0.087467            15.874922             46.467792     0.996747   \n",
              "std       0.047065            10.460157             32.895324     0.001887   \n",
              "min       0.012000             1.000000              6.000000     0.990070   \n",
              "25%       0.070000             7.000000             22.000000     0.995600   \n",
              "50%       0.079000            14.000000             38.000000     0.996750   \n",
              "75%       0.090000            21.000000             62.000000     0.997835   \n",
              "max       0.611000            72.000000            289.000000     1.003690   \n",
              "\n",
              "                pH    sulphates      alcohol      quality  \n",
              "count  1599.000000  1599.000000  1599.000000  1599.000000  \n",
              "mean      3.311113     0.658149    10.422983     5.636023  \n",
              "std       0.154386     0.169507     1.065668     0.807569  \n",
              "min       2.740000     0.330000     8.400000     3.000000  \n",
              "25%       3.210000     0.550000     9.500000     5.000000  \n",
              "50%       3.310000     0.620000    10.200000     6.000000  \n",
              "75%       3.400000     0.730000    11.100000     6.000000  \n",
              "max       4.010000     2.000000    14.900000     8.000000  "
            ]
          },
          "execution_count": 5,
          "metadata": {},
          "output_type": "execute_result"
        }
      ],
      "source": [
        "# 데이터 프레임의 통계 정보 확인\n",
        "df_red.describe()"
      ]
    },
    {
      "cell_type": "code",
      "execution_count": null,
      "metadata": {
        "id": "UioE-rv2KVhX"
      },
      "outputs": [],
      "source": [
        "# 컬럼 조회 \n",
        "columns_tmp = df_red.columns\n",
        "columns_tmp\n",
        "\n",
        "# 컬럼 변경\n",
        "df_red.columns = columns_tmp\n",
        "df_red.columns\n"
      ]
    },
    {
      "cell_type": "code",
      "execution_count": null,
      "metadata": {
        "id": "JBd1HfL3Lw68"
      },
      "outputs": [],
      "source": [
        "# 컬럼 이름의 배열 \n",
        "list ( df_red) "
      ]
    },
    {
      "cell_type": "code",
      "execution_count": null,
      "metadata": {},
      "outputs": [],
      "source": [
        "# 중복 데이터 여부 확인\n",
        "# keep = False : 동일한 중복값이 3개 인 경우 False를 지정해 주지 않은 경우 기본설정은 첫번째 중복값은 중복이 아닌것으로 취급되므로 \n",
        "#                중복데이터 갯수가 2개가 나오게 되므로 \n",
        "#                중복값이 3개로 반환 될 수 있도록 False 설정을 해준다.\n",
        "df_target.duplicated(keep = False).sum()"
      ]
    },
    {
      "cell_type": "code",
      "execution_count": 4,
      "metadata": {},
      "outputs": [
        {
          "data": {
            "text/plain": [
              "0    0.616162\n",
              "1    0.383838\n",
              "Name: survived, dtype: float64"
            ]
          },
          "execution_count": 4,
          "metadata": {},
          "output_type": "execute_result"
        }
      ],
      "source": [
        "df_target = df_titanic\n",
        "\n",
        "# 사망자 그룹의 비율 확인\n",
        "# ,dropna = True : Nan 값도 포함 할지 여부 \n",
        "df_titanic['survived'].value_counts(normalize=True ,dropna = True)"
      ]
    },
    {
      "cell_type": "code",
      "execution_count": null,
      "metadata": {},
      "outputs": [],
      "source": [
        "# 중복된 항목을 제거한 이후의 data 갯수 조회\n",
        "len(df_target.drop_duplicates('email'))"
      ]
    },
    {
      "cell_type": "markdown",
      "metadata": {
        "id": "nbRV8q7RAet5"
      },
      "source": [
        "# DataFrame 조회\n",
        "\n",
        "### df1에서 col1 컬럼 전체를 추출\n",
        "\n",
        "* df1.loc [ :, 'col1' ]\n",
        "* df1[ 'col1' ] \n",
        "* df1.iloc[ :, 0 ]\n",
        "\n",
        "### df2에서 인덱스가 a인 행을 추출\n",
        "\n",
        "* df2.iloc [ 0 ] # (0번째 컬럼 = 'a')\n",
        "* df2.loc [ 'a' ]\n",
        "\n"
      ]
    },
    {
      "cell_type": "code",
      "execution_count": null,
      "metadata": {
        "id": "TlbsspZtAiMm"
      },
      "outputs": [],
      "source": [
        "# 조건 조회 : condition 조건 사용 \n",
        "\n",
        "#: 나이가 없는 사람들 정보 확인 \n",
        "condition = df_titanic['age'].isnull()\n",
        "\n",
        "df_check = df_titanic.loc[condition]\n",
        "df_check.head(3)"
      ]
    },
    {
      "cell_type": "code",
      "execution_count": null,
      "metadata": {
        "id": "_rV8qRhABCpC"
      },
      "outputs": [],
      "source": [
        "# 다중 조건 조회 : condition 조건 사용 \n",
        "\n",
        "#: 나이가 없는 사람들 정보 확인 \n",
        "cond_1 = df_titanic['age'].isnull()\n",
        "cond_2 = df_titanic['age'].isnull()\n",
        "\n",
        "df_check = df_titanic.loc[cond_1 & cond_2]\n",
        "df_check.head(3)"
      ]
    },
    {
      "cell_type": "code",
      "execution_count": null,
      "metadata": {
        "id": "8GBqqX-QBfDT"
      },
      "outputs": [],
      "source": [
        "# Query 를 사용한 조회 : 사망자 , 남성\n",
        "df_temp = df_titanic.query( \"sex == 'male' &  survived == 0 \" )\n",
        "df_temp.head(3)"
      ]
    },
    {
      "cell_type": "code",
      "execution_count": null,
      "metadata": {
        "id": "DmQwx9jq3a8-"
      },
      "outputs": [],
      "source": [
        "# 열 이름으로 조회 => 시리즈\n",
        "df_red['fixed acidity'].head(3)"
      ]
    },
    {
      "cell_type": "code",
      "execution_count": null,
      "metadata": {
        "id": "D8DdQ2-v4OP8"
      },
      "outputs": [],
      "source": [
        "# 행 인덱스로 조회  => DataFrame\n",
        "df_red.loc[0:2]"
      ]
    },
    {
      "cell_type": "code",
      "execution_count": null,
      "metadata": {
        "id": "4DDz36qM4_Ae"
      },
      "outputs": [],
      "source": [
        "# 행 인덱스로 조회  => DataFrame\n",
        "df_red.iloc[0:2]"
      ]
    },
    {
      "cell_type": "code",
      "execution_count": null,
      "metadata": {
        "id": "hj_fHj0p1E-9"
      },
      "outputs": [],
      "source": [
        "#index를 이용한 DataFrame 의 조회\n",
        "df_temp.iloc[0].head() # Series로 반환\n",
        "df_temp.iloc[[0]] # DataFrame 으로 반환\n",
        "\n",
        "# 컬럼 index로 조회 \n",
        "df_temp[0] # 첫번째 열 조회 \n"
      ]
    },
    {
      "cell_type": "code",
      "execution_count": null,
      "metadata": {
        "id": "B-qOiJKbKObh"
      },
      "outputs": [],
      "source": [
        "# 간단 조회 []\n",
        "df_patients[df_patients.몸무게 == 22.14]"
      ]
    },
    {
      "cell_type": "code",
      "execution_count": null,
      "metadata": {
        "id": "FvnSLollKvL3"
      },
      "outputs": [],
      "source": [
        "# 간단 조회 loc()\n",
        "df_patients.loc[ df_patients.몸무게 == 22.14]"
      ]
    },
    {
      "cell_type": "code",
      "execution_count": null,
      "metadata": {
        "id": "0MFg04JGK5E1"
      },
      "outputs": [],
      "source": [
        "# 간단 조회 query\n",
        "df_patients.query( \"몸무게 == 22.14\" )"
      ]
    },
    {
      "cell_type": "markdown",
      "metadata": {
        "id": "AEBfqqL7AQ7m"
      },
      "source": [
        "# Missing Value (결측치)\n"
      ]
    },
    {
      "cell_type": "code",
      "execution_count": null,
      "metadata": {
        "id": "BWKezN2079tC"
      },
      "outputs": [],
      "source": [
        "# 결측치 갯수 조회\n",
        "df_movie.isnull().sum() # 각 컬럼별 결측치 갯수 조회\n",
        "df_movie['Certificate'].isnull().sum() # Certificate 컬럼의 결측치 갯수\n",
        "df_movie.isnull().sum().sum() # 모든 결측치 갯수 조회"
      ]
    },
    {
      "cell_type": "code",
      "execution_count": null,
      "metadata": {
        "id": "iTQ-_NIo9HXQ"
      },
      "outputs": [],
      "source": [
        "# 결측치가 있는 모든 컬럼 조회\n",
        "srs_temp = df_movie.isnull().sum()\n",
        "srs_temp[ srs_temp > 0 ].index"
      ]
    },
    {
      "cell_type": "code",
      "execution_count": null,
      "metadata": {
        "id": "22GIDtGg55A6"
      },
      "outputs": [],
      "source": [
        "# 결측치 채우기\n",
        "df_red.fillna(0) # 모든 결측치를 0으로 대치\n",
        " "
      ]
    },
    {
      "cell_type": "code",
      "execution_count": null,
      "metadata": {
        "id": "iyndlL_fCOY5"
      },
      "outputs": [],
      "source": [
        "## Nan != Nan 의 성질을 이용하여 결측치 채우기 \n",
        "df_titanic.loc[df_titanic['age'] != df_titanic['age'], 'age'] = -1\n",
        "\n",
        "df_titanic.loc[df_titanic['age'] == -1].head(3)"
      ]
    },
    {
      "cell_type": "markdown",
      "metadata": {
        "id": "vEgP2D_q_nwe"
      },
      "source": [
        "# DataFrame 다루기"
      ]
    },
    {
      "cell_type": "code",
      "execution_count": null,
      "metadata": {
        "id": "-sScCrM0_msF"
      },
      "outputs": [],
      "source": [
        "# DF 분리 추출 \n",
        "#:( 나이 , 사망여부 )\n",
        "df_temp_survived_age = pd.DataFrame(df_titanic)[['survived', 'age']]\n",
        "df_temp_survived_age.head(3)"
      ]
    },
    {
      "cell_type": "code",
      "execution_count": null,
      "metadata": {
        "id": "6qCnmKO2dkbK"
      },
      "outputs": [],
      "source": [
        "# DF 분리 추출  \n",
        "#: patients 테이블에서 환자고유번호와 이름을 가져옵니다.\n",
        "primary_table = df_patients[['환자고유번호', '이름']]\n",
        "primary_table.head(3)"
      ]
    },
    {
      "cell_type": "code",
      "execution_count": null,
      "metadata": {
        "id": "3hMoGa8b_7kN"
      },
      "outputs": [],
      "source": [
        "# index 다시 매기기 \n",
        "df_red = df_red.reset_index( drop = True ) # drop = True를 주지 않으면 기존의 index가 컬럼으로 추가 되면서 새로운 index가 생성된다.\n",
        "df_red.head(3)"
      ]
    },
    {
      "cell_type": "code",
      "execution_count": null,
      "metadata": {
        "id": "BNc5uoYeD0qI"
      },
      "outputs": [],
      "source": [
        "# 행 열 도치\n",
        "df_temp = df_001.T"
      ]
    },
    {
      "cell_type": "code",
      "execution_count": null,
      "metadata": {
        "id": "VoTGr4bhMyfK"
      },
      "outputs": [],
      "source": [
        "# 원본 DataFrame copy\n",
        "patients_copy = df_patients.copy()\n",
        "patients_copy.head(3)"
      ]
    },
    {
      "cell_type": "code",
      "execution_count": null,
      "metadata": {
        "id": "K6j7fulWWbK-"
      },
      "outputs": [],
      "source": [
        "# 열 삭제\n",
        "patients_clean = df_patients_clean.drop('나이', axis='columns' )"
      ]
    },
    {
      "cell_type": "markdown",
      "metadata": {
        "id": "KPUrUM2A-PoY"
      },
      "source": [
        "# Group by()\n",
        "* mean() : 평균\n",
        "* median() : 중간값\n",
        "* 최빈값"
      ]
    },
    {
      "cell_type": "code",
      "execution_count": null,
      "metadata": {
        "id": "MkYsTkLo-4Se"
      },
      "outputs": [],
      "source": [
        "df_titanic.head(3)"
      ]
    },
    {
      "cell_type": "code",
      "execution_count": null,
      "metadata": {
        "id": "wxlTSclO-_Rc"
      },
      "outputs": [],
      "source": [
        "df_titanic.describe()"
      ]
    },
    {
      "cell_type": "code",
      "execution_count": null,
      "metadata": {
        "id": "_iSD6VMj-TRI"
      },
      "outputs": [],
      "source": [
        "# 생존여부,성별 을 기준으로 좌석등급 중앙값 DF 조회\n",
        "df_temp = df_titanic.groupby(['survived','sex'] , as_index=False)['pclass','age'].median()\n",
        "df_temp\n"
      ]
    },
    {
      "cell_type": "code",
      "execution_count": null,
      "metadata": {
        "id": "xc0L-pSS-wd1"
      },
      "outputs": [],
      "source": [
        "# 생존여부,성별 을 기준으로 좌석등급 중앙값 DF 조회\n",
        "df_temp = df_titanic.groupby(['survived','sex'] , as_index=True)['pclass','age'].median()\n",
        "df_temp\n"
      ]
    },
    {
      "cell_type": "markdown",
      "metadata": {},
      "source": [
        "# Feature Engineering "
      ]
    },
    {
      "cell_type": "code",
      "execution_count": null,
      "metadata": {},
      "outputs": [],
      "source": [
        "## 범위에 따라 단계 분류한 값을 age_class 컬럼을 생성하여 입력 \n",
        "df_temp = df_titanic\n",
        "\n",
        "bins = [-2, 0, 19, 59, 999]\n",
        "labels = ['unknown','young', 'middle', 'old']\n",
        "df_temp['age_class'] = pd.cut(x=df_temp['age'], bins=bins, labels=labels)\n",
        "df_temp.head(3)"
      ]
    },
    {
      "cell_type": "markdown",
      "metadata": {},
      "source": [
        "### 각 테이블의 공통된 컬럼명 확인"
      ]
    },
    {
      "cell_type": "code",
      "execution_count": null,
      "metadata": {},
      "outputs": [],
      "source": [
        "# 테이블별 중복 column name 확인\n",
        "all_columns = pd.Series(list(df_patients) + list(df_insuline_test) + list(df_side_effects))\n",
        "all_columns\n",
        "all_columns.duplicated() # 중복여부 배열 \n",
        "all_columns[all_columns.duplicated()]"
      ]
    },
    {
      "cell_type": "markdown",
      "metadata": {},
      "source": [
        "### 테이블 합치기\n"
      ]
    },
    {
      "cell_type": "code",
      "execution_count": null,
      "metadata": {},
      "outputs": [],
      "source": [
        "# (TODO) 테이블 합치기 (수직)\n",
        "\n",
        "# column의 이름 수정\n",
        "df_red.rename(columns = {'total_sulfur-dioxide' : 'total_sulfur_dioxide'}, inplace=True)\n",
        "\n",
        "# 합치려는 데이터셋의 columns가 동일한지 확인\n",
        "set(df_red.columns) == set(df_white.columns)\n",
        "\n",
        "# 하나의 데이터셋으로 통합\n",
        "df = df_white.append(df_red, ignore_index = True)\n",
        "\n",
        "# 잘 합쳐졌는지 확인\n",
        "df.shape"
      ]
    },
    {
      "cell_type": "code",
      "execution_count": null,
      "metadata": {},
      "outputs": [],
      "source": [
        "\n",
        "# (TODO) 테이블 합치기 (수퍙)\n",
        "\n",
        "# (TODO) 컬럼 삭제\n",
        "# (TODO) 컬럼값 정제\n",
        "# (TODO) 컬럼 추가\n",
        "red_color = np.repeat('red', len(df_red))\n",
        "df_red['color'] = red_color\n",
        "df_red.head()\n"
      ]
    },
    {
      "cell_type": "markdown",
      "metadata": {},
      "source": []
    },
    {
      "cell_type": "code",
      "execution_count": null,
      "metadata": {},
      "outputs": [],
      "source": [
        "\n",
        "\n",
        "# 파일로 저장\n",
        "df.to_csv('winequality_edited.csv', index=False)"
      ]
    }
  ],
  "metadata": {
    "colab": {
      "authorship_tag": "ABX9TyOeEPquqipxxE/ehgRT1GAQ",
      "collapsed_sections": [],
      "include_colab_link": true,
      "name": "pandas_Test.ipynb",
      "private_outputs": true,
      "provenance": []
    },
    "kernelspec": {
      "display_name": "Python 3.9.12 ('base')",
      "language": "python",
      "name": "python3"
    },
    "language_info": {
      "codemirror_mode": {
        "name": "ipython",
        "version": 3
      },
      "file_extension": ".py",
      "mimetype": "text/x-python",
      "name": "python",
      "nbconvert_exporter": "python",
      "pygments_lexer": "ipython3",
      "version": "3.9.12"
    },
    "vscode": {
      "interpreter": {
        "hash": "cca240df8b4cc966d527f5e5f91069ba19ec750ec1338ff7cbac995a358e55d1"
      }
    }
  },
  "nbformat": 4,
  "nbformat_minor": 0
}
