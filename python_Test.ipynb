{
  "nbformat": 4,
  "nbformat_minor": 0,
  "metadata": {
    "colab": {
      "name": "python_Test.ipynb",
      "provenance": [],
      "collapsed_sections": [],
      "mount_file_id": "1o86GIBtkSbu7_BL7S9M0Rk88IbvaKO7z",
      "authorship_tag": "ABX9TyMb8jCDbw3qYcjCm6KNVNE9",
      "include_colab_link": true
    },
    "kernelspec": {
      "name": "python3",
      "display_name": "Python 3"
    },
    "language_info": {
      "name": "python"
    },
    "gpuClass": "standard"
  },
  "cells": [
    {
      "cell_type": "markdown",
      "metadata": {
        "id": "view-in-github",
        "colab_type": "text"
      },
      "source": [
        "<a href=\"https://colab.research.google.com/github/LamuneGitHub/A001_Python_Test/blob/main/python_Test.ipynb\" target=\"_parent\"><img src=\"https://colab.research.google.com/assets/colab-badge.svg\" alt=\"Open In Colab\"/></a>"
      ]
    },
    {
      "cell_type": "code",
      "source": [
        "from typing import List\n",
        "\n",
        "# float 배열을 입력으로 받은 후 float 을 반환함을 명시 \n",
        "def average( L: List[float] ) -> float:\n",
        "\ttotal_sum = 0\n",
        "\tfor item in L :\n",
        "\t\ttotal_sum += item\n",
        "\treturn total_sum / len(L)\n",
        " \n",
        "\n",
        "input_value = [1.4 , 1.6 , 1.9 , 2.0 ]\n",
        "print (average ( input_value )) \n",
        "\n",
        "'''\n",
        "=> 1.725\n",
        "'''"
      ],
      "metadata": {
        "id": "XzpLOwtnUXJ9",
        "outputId": "d7342f62-dd04-4a4e-be9f-5bd6bfa95424",
        "colab": {
          "base_uri": "https://localhost:8080/",
          "height": 54
        }
      },
      "execution_count": 12,
      "outputs": [
        {
          "output_type": "stream",
          "name": "stdout",
          "text": [
            "1.725\n"
          ]
        },
        {
          "output_type": "execute_result",
          "data": {
            "text/plain": [
              "'\\n=> 1.725\\n'"
            ],
            "application/vnd.google.colaboratory.intrinsic+json": {
              "type": "string"
            }
          },
          "metadata": {},
          "execution_count": 12
        }
      ]
    }
  ]
}