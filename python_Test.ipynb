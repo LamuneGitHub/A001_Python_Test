{
  "nbformat": 4,
  "nbformat_minor": 0,
  "metadata": {
    "colab": {
      "name": "python_Test.ipynb",
      "provenance": [],
      "collapsed_sections": [],
      "mount_file_id": "1o86GIBtkSbu7_BL7S9M0Rk88IbvaKO7z",
      "authorship_tag": "ABX9TyOzD7vkml5V9aB5Fcwm0+xw",
      "include_colab_link": true
    },
    "kernelspec": {
      "name": "python3",
      "display_name": "Python 3"
    },
    "language_info": {
      "name": "python"
    },
    "gpuClass": "standard"
  },
  "cells": [
    {
      "cell_type": "markdown",
      "metadata": {
        "id": "view-in-github",
        "colab_type": "text"
      },
      "source": [
        "<a href=\"https://colab.research.google.com/github/LamuneGitHub/A001_Python_Test/blob/main/python_Test.ipynb\" target=\"_parent\"><img src=\"https://colab.research.google.com/assets/colab-badge.svg\" alt=\"Open In Colab\"/></a>"
      ]
    },
    {
      "cell_type": "markdown",
      "source": [
        "# EDA\n",
        "## 와인 데이터 생성"
      ],
      "metadata": {
        "id": "R2n7KRr6ZEUA"
      }
    },
    {
      "cell_type": "code",
      "execution_count": 4,
      "metadata": {
        "colab": {
          "base_uri": "https://localhost:8080/"
        },
        "id": "wvUhTksqmixI",
        "outputId": "41eed048-4958-45ba-aae9-129e3050fe44"
      },
      "outputs": [
        {
          "output_type": "stream",
          "name": "stdout",
          "text": [
            "True\n"
          ]
        },
        {
          "output_type": "stream",
          "name": "stderr",
          "text": [
            "/usr/local/lib/python3.7/dist-packages/ipykernel_launcher.py:30: SettingWithCopyWarning: \n",
            "A value is trying to be set on a copy of a slice from a DataFrame.\n",
            "Try using .loc[row_indexer,col_indexer] = value instead\n",
            "\n",
            "See the caveats in the documentation: https://pandas.pydata.org/pandas-docs/stable/user_guide/indexing.html#returning-a-view-versus-a-copy\n"
          ]
        }
      ],
      "source": [
        "\n",
        "\n",
        "import pandas as pd\n",
        "import numpy as np\n",
        "import matplotlib.pyplot as plt\n",
        "\n",
        "# csv 파일로 부터 DataFrame 읽기\n",
        "df_red = pd.read_csv( \"https://raw.githubusercontent.com/aniruddhachoudhury/Red-Wine-Quality/master/winequality-red.csv\" , sep = \",\")\n",
        "df_white = pd.read_csv( \"https://archive.ics.uci.edu/ml/machine-learning-databases/wine-quality/winequality-white.csv\" , sep = \";\")\n",
        "\n",
        "#읽은 데이터 확인\n",
        "##print ( df_red.shape )\n",
        "##print ( df_white.shape )\n",
        "#df_red.info()\n",
        "#df_red.describe()\n",
        "\n",
        "# 중복된 갯수 확인\n",
        "df_red.duplicated().sum()\n",
        "\n",
        "# 중복 제거\n",
        "df_red = df_red.drop_duplicates()\n",
        "df_white = df_white.drop_duplicates()\n",
        "\n",
        "# index 재 생성\n",
        "df_red.reset_index( inplace = True , drop=True)\n",
        "\n",
        "#와인 색상 컬럼 생성\n",
        "red_color = np.repeat('red', len(df_red))\n",
        "white_color = np.repeat('white', len(df_white))\n",
        "df_red['color'] = red_color\n",
        "df_white['color'] = white_color\n",
        "\n",
        "#레드 와인과 화이트 와인 DataFrame을 합치기 전에 컬럼이 동일한지 여부 확인\n",
        "print( set( df_red ) == set(df_white))\n",
        "\n",
        "#DataFrame 합치기\n",
        "wine_df = df_red.append(df_white )\n",
        "\n",
        "#합치기 결과 확인\n",
        "#wine_df.shape\n",
        "\n",
        "#합쳐진 DataFrame을 csv파일로 저장\n",
        "#wine_df.to_csv('winequality_edited.csv' ,index=False ,ignore_index = True)\n",
        "\n",
        "#\n",
        "#np.repeat('red', len(df_red))"
      ]
    },
    {
      "cell_type": "markdown",
      "source": [
        "# Feature Engineering\n",
        "## 전처리 생성한 와인 데이터를 이용하여 유용한 데이터 생성\n"
      ],
      "metadata": {
        "id": "0LDmGgfvZL2D"
      }
    },
    {
      "cell_type": "code",
      "source": [
        "#wine_df = pd.read_csv( \"winequality_edited.csv\" , sep = \",\")\n",
        "#df_Wine_tmp\n",
        "\n",
        "#집계함수 처리\n",
        "# 품질에 따른 집계(평균)\n",
        "wine_df.groupby('quality').mean()\n",
        "\n",
        "# 와인 색에 따른 집계(평균)\n",
        "wine_df.groupby('color').mean()\n",
        "\n",
        "# quality 컬럼 하나만을 선택하여 확인\n",
        "wine_df.groupby('color')['quality'].mean()\n",
        "\n",
        "# 범위에 따라 단계 분류\n",
        "# 'wine_df.pH.describe()'를 통해 확인한, 4분위수를 활용하여 bins로 입력\n",
        "bins = [2.72, 3.11, 3.21, 3.33, 4.01]\n",
        "labels = ['Low', 'Medium', 'Moderately High', 'High']\n",
        "wine_df['ph_levels'] = pd.cut(x=wine_df['pH'], bins=bins, labels=labels)\n",
        "\n",
        "# 와인색별 잔류 설탕 평균\n",
        "wine_df.groupby('color')['residual sugar'].mean()\n"
      ],
      "metadata": {
        "colab": {
          "base_uri": "https://localhost:8080/",
          "height": 241
        },
        "id": "O_Goa5ZQYy0f",
        "outputId": "79b0a09c-c645-4a4b-8cd2-82e9cf7cd6f8"
      },
      "execution_count": 1,
      "outputs": [
        {
          "output_type": "error",
          "ename": "NameError",
          "evalue": "ignored",
          "traceback": [
            "\u001b[0;31m---------------------------------------------------------------------------\u001b[0m",
            "\u001b[0;31mNameError\u001b[0m                                 Traceback (most recent call last)",
            "\u001b[0;32m<ipython-input-1-dac57ac87a37>\u001b[0m in \u001b[0;36m<module>\u001b[0;34m()\u001b[0m\n\u001b[0;32m----> 1\u001b[0;31m \u001b[0mwine_df\u001b[0m \u001b[0;34m=\u001b[0m \u001b[0mpd\u001b[0m\u001b[0;34m.\u001b[0m\u001b[0mread_csv\u001b[0m\u001b[0;34m(\u001b[0m \u001b[0;34m\"winequality_edited.csv\"\u001b[0m \u001b[0;34m,\u001b[0m \u001b[0msep\u001b[0m \u001b[0;34m=\u001b[0m \u001b[0;34m\",\"\u001b[0m\u001b[0;34m)\u001b[0m\u001b[0;34m\u001b[0m\u001b[0;34m\u001b[0m\u001b[0m\n\u001b[0m\u001b[1;32m      2\u001b[0m \u001b[0;31m#df_Wine_tmp\u001b[0m\u001b[0;34m\u001b[0m\u001b[0;34m\u001b[0m\u001b[0;34m\u001b[0m\u001b[0m\n\u001b[1;32m      3\u001b[0m \u001b[0;34m\u001b[0m\u001b[0m\n\u001b[1;32m      4\u001b[0m \u001b[0;31m#집계함수 처리\u001b[0m\u001b[0;34m\u001b[0m\u001b[0;34m\u001b[0m\u001b[0;34m\u001b[0m\u001b[0m\n\u001b[1;32m      5\u001b[0m \u001b[0;31m# 품질에 따른 집계(평균)\u001b[0m\u001b[0;34m\u001b[0m\u001b[0;34m\u001b[0m\u001b[0;34m\u001b[0m\u001b[0m\n",
            "\u001b[0;31mNameError\u001b[0m: name 'pd' is not defined"
          ]
        }
      ]
    },
    {
      "cell_type": "markdown",
      "source": [
        "# 시각화\n",
        "\n",
        "## 막대 그래프\n"
      ],
      "metadata": {
        "id": "kcebZFfBeSSW"
      }
    },
    {
      "cell_type": "code",
      "source": [
        "\n",
        "# 그래프로 보기(막대 그래프)\n",
        "group_residual_sugar = wine_df.groupby(['quality', 'color'])['residual sugar'].mean()\n",
        "group_residual_sugar.plot(kind='bar');\n",
        "\n"
      ],
      "metadata": {
        "colab": {
          "base_uri": "https://localhost:8080/",
          "height": 317
        },
        "id": "G5zp9sIQeXEy",
        "outputId": "110f5f22-4a2f-4055-e358-725f33194275"
      },
      "execution_count": 65,
      "outputs": [
        {
          "output_type": "display_data",
          "data": {
            "text/plain": [
              "<Figure size 432x288 with 1 Axes>"
            ],
            "image/png": "[encoded data removed]"
          },
          "metadata": {
            "needs_background": "light"
          }
        }
      ]
    },
    {
      "cell_type": "markdown",
      "source": [
        "## 꺽은선 그래프"
      ],
      "metadata": {
        "id": "BU7onwpeecFT"
      }
    },
    {
      "cell_type": "code",
      "source": [
        "# quality 에 따른 평균 휘발성산 확인\n",
        "group_volatile_acidity = wine_df['volatile acidity'].groupby(wine_df['quality'])\n",
        "print(group_volatile_acidity.mean())\n",
        "\n",
        "# plot으로 시각화\n",
        "plt.plot(group_volatile_acidity.mean());"
      ],
      "metadata": {
        "colab": {
          "base_uri": "https://localhost:8080/",
          "height": 426
        },
        "id": "EmJPucN8efIN",
        "outputId": "eba2fb98-7527-4165-970f-485b6c23e05f"
      },
      "execution_count": 67,
      "outputs": [
        {
          "output_type": "stream",
          "name": "stdout",
          "text": [
            "quality\n",
            "3    0.517000\n",
            "4    0.462379\n",
            "5    0.393970\n",
            "6    0.315626\n",
            "7    0.292342\n",
            "8    0.302973\n",
            "9    0.298000\n",
            "Name: volatile acidity, dtype: float64\n"
          ]
        },
        {
          "output_type": "display_data",
          "data": {
            "text/plain": [
              "<Figure size 432x288 with 1 Axes>"
            ],
            "image/png": "[encoded data removed]"
          },
          "metadata": {
            "needs_background": "light"
          }
        }
      ]
    },
    {
      "cell_type": "markdown",
      "source": [
        "## 점도표\n"
      ],
      "metadata": {
        "id": "cfNHnAJtfD16"
      }
    },
    {
      "cell_type": "code",
      "source": [
        "# quality 에 따른 휘발성산의 차이를 scatter plot 으로 확인\n",
        "plt.scatter(wine_df['quality'], wine_df['volatile acidity']);"
      ],
      "metadata": {
        "colab": {
          "base_uri": "https://localhost:8080/",
          "height": 265
        },
        "id": "PpbtIXbtfGwM",
        "outputId": "a4227246-d590-4b3c-a37a-0a306b704c29"
      },
      "execution_count": 69,
      "outputs": [
        {
          "output_type": "display_data",
          "data": {
            "text/plain": [
              "<Figure size 432x288 with 1 Axes>"
            ],
            "image/png": "[encoded data removed]"
          },
          "metadata": {
            "needs_background": "light"
          }
        }
      ]
    },
    {
      "cell_type": "code",
      "source": [
        ""
      ],
      "metadata": {
        "id": "AgJ3P847fGk1"
      },
      "execution_count": null,
      "outputs": []
    },
    {
      "cell_type": "markdown",
      "source": [
        "# Data 전처리\n"
      ],
      "metadata": {
        "id": "gvNY92XWVg6R"
      }
    },
    {
      "cell_type": "markdown",
      "source": [
        "# 특성파악\n"
      ],
      "metadata": {
        "id": "38sago1jYI_s"
      }
    },
    {
      "cell_type": "markdown",
      "source": [
        ""
      ],
      "metadata": {
        "id": "-6zjUhrKYLg3"
      }
    },
    {
      "cell_type": "markdown",
      "source": [
        "#foreign Key 열 이름을 조회"
      ],
      "metadata": {
        "id": "UTcxj9pwXgty"
      }
    },
    {
      "cell_type": "code",
      "source": [
        "#foreign Key 열 이름을 조회\n",
        "all_columns = pd.Series(list(patients) + list(insuline_test) + list(side_effects)) \n",
        "all_columns[all_columns.duplicated()]"
      ],
      "metadata": {
        "id": "puIjU4NyVlvl"
      },
      "execution_count": null,
      "outputs": []
    }
  ]
}