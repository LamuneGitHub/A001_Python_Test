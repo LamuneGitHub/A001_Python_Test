{
  "cells": [
    {
      "cell_type": "markdown",
      "metadata": {
        "colab_type": "text",
        "id": "view-in-github"
      },
      "source": [
        "<a href=\"https://colab.research.google.com/github/LamuneGitHub/A001_Python_Test/blob/main/python_Test.ipynb\" target=\"_parent\"><img src=\"https://colab.research.google.com/assets/colab-badge.svg\" alt=\"Open In Colab\"/></a>"
      ]
    },
    {
      "cell_type": "code",
      "execution_count": 2,
      "metadata": {
        "colab": {
          "base_uri": "https://localhost:8080/",
          "height": 444
        },
        "id": "ovd812tpdRIz",
        "outputId": "c2111618-49f0-40a6-968b-80a7a73af6d9"
      },
      "outputs": [
        {
          "name": "stdout",
          "output_type": "stream",
          "text": [
            "-4.942712905631211e-13\n",
            "[[-6.00479950e+15  1.04800746e+15  1.30292819e+15]\n",
            " [ 0.00000000e+00  1.41509434e-02 -9.43396226e-03]\n",
            " [ 1.28674275e+15 -2.24573027e+14 -2.79198899e+14]]\n"
          ]
        }
      ],
      "source": [
        "import numpy as np\n",
        "\n",
        "arr_A = np.array( \n",
        "          [ [17,2]\n",
        "         ,[136,33]]\n",
        ")\n",
        "\n",
        "arr_B = np.array( \n",
        "          [ \n",
        "              [3,13,14],\n",
        "              [6,72,28],\n",
        "              [9,2,42]\n",
        "         ]\n",
        ")\n",
        "\n",
        "print( np.linalg.det(arr_B) )\n",
        "print( np.linalg.inv(arr_B) )"
      ]
    },
    {
      "cell_type": "code",
      "execution_count": 3,
      "metadata": {
        "colab": {
          "base_uri": "https://localhost:8080/"
        },
        "id": "Z5vIbnc6cDQF",
        "outputId": "45d83811-60b7-41de-ff32-3d9d0ebddce2"
      },
      "outputs": [
        {
          "name": "stdout",
          "output_type": "stream",
          "text": [
            "[2, -1, 3, 2] [3, 2, 1, -4]\n",
            "-1\n"
          ]
        }
      ],
      "source": [
        "import numpy as np\n",
        "\n",
        "x=[2, -1, 3, 2]\n",
        "y=[3, 2, 1, -4]\n",
        "\n",
        "print ( x, y )\n",
        "\n",
        "arr_x = np.array(x)\n",
        "arr_y = np.array(y)\n",
        "\n",
        "# 내적\n",
        "print ( (arr_x * arr_y).sum() )"
      ]
    },
    {
      "cell_type": "markdown",
      "metadata": {},
      "source": [
        "# typing 라이브러리를 사용한 명시적 함수 정의 "
      ]
    },
    {
      "cell_type": "code",
      "execution_count": 4,
      "metadata": {
        "colab": {
          "base_uri": "https://localhost:8080/",
          "height": 54
        },
        "id": "XzpLOwtnUXJ9",
        "outputId": "d7342f62-dd04-4a4e-be9f-5bd6bfa95424"
      },
      "outputs": [
        {
          "name": "stdout",
          "output_type": "stream",
          "text": [
            "1.725\n"
          ]
        },
        {
          "data": {
            "text/plain": [
              "'\\n=> 1.725\\n'"
            ]
          },
          "execution_count": 4,
          "metadata": {},
          "output_type": "execute_result"
        }
      ],
      "source": [
        "# typing 라이브러리를 사용한 명시적 함수 정의 \n",
        "\n",
        "from typing import List\n",
        "\n",
        "# float 배열을 입력으로 받은 후 float 을 반환함을 명시 \n",
        "def average( L: List[float] ) -> float:\n",
        "\ttotal_sum = 0\n",
        "\tfor item in L :\n",
        "\t\ttotal_sum += item\n",
        "\treturn total_sum / len(L)\n",
        " \n",
        "\n",
        "\n",
        "input_value = [1.4 , 1.6 , 1.9 , 2.0 ]\n",
        "print (average ( input_value )) \n",
        "\n",
        "'''\n",
        "=> 1.725\n",
        "'''"
      ]
    },
    {
      "cell_type": "code",
      "execution_count": null,
      "metadata": {},
      "outputs": [],
      "source": []
    }
  ],
  "metadata": {
    "colab": {
      "authorship_tag": "ABX9TyOWrdGHnJFl9nAp9bsCfpKR",
      "collapsed_sections": [],
      "include_colab_link": true,
      "mount_file_id": "1o86GIBtkSbu7_BL7S9M0Rk88IbvaKO7z",
      "name": "python_Test.ipynb",
      "provenance": []
    },
    "gpuClass": "standard",
    "kernelspec": {
      "display_name": "Python 3.9.12 ('base')",
      "language": "python",
      "name": "python3"
    },
    "language_info": {
      "codemirror_mode": {
        "name": "ipython",
        "version": 3
      },
      "file_extension": ".py",
      "mimetype": "text/x-python",
      "name": "python",
      "nbconvert_exporter": "python",
      "pygments_lexer": "ipython3",
      "version": "3.9.12"
    },
    "vscode": {
      "interpreter": {
        "hash": "cca240df8b4cc966d527f5e5f91069ba19ec750ec1338ff7cbac995a358e55d1"
      }
    }
  },
  "nbformat": 4,
  "nbformat_minor": 0
}
