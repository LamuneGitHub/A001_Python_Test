{
  "cells": [
    {
      "cell_type": "markdown",
      "metadata": {
        "colab_type": "text",
        "id": "view-in-github"
      },
      "source": [
        "<a href=\"https://colab.research.google.com/github/LamuneGitHub/A001_Python_Test/blob/main/EDA_001.ipynb\" target=\"_parent\"><img src=\"https://colab.research.google.com/assets/colab-badge.svg\" alt=\"Open In Colab\"/></a>"
      ]
    },
    {
      "cell_type": "markdown",
      "metadata": {
        "id": "eK2w9nkJngwV"
      },
      "source": [
        "----\n",
        "----\n",
        "# # EDA ( Exploratory Data Analysis )( 탐색적 데이터 분석)\n",
        "## 정의\n",
        "> : 탐색적 데이터 분석  \n",
        ": 데이터의 특징을 파악하는것\n",
        "\n",
        "## 목적\n",
        "> : 본격적인 데이터 분석이나 모델링 전에 데이터의 특징을 파악하여 분석 계획을 세우기 위한 기초공사 작업  \n",
        "  : 유의미한 business insight(업무 통찰)을 얻기 위함  \n",
        "  : 시행착오 비용 최소화\n",
        "\n",
        "## 수행 과정 및 방법\n",
        "* Data Description 확인 (데이터 명세서 )  \n",
        "  : 데이터 명세서를 읽어서 데이터의 특성을 이해 \n",
        "\n",
        "* 시각적 분석\n",
        "  * 엑셀등을 이용하여 직접 눈으로 특성을 분석\n",
        "\n",
        "* 프로그램적 분석\n",
        "  * 분석 메소드 활용\n",
        "    * info()\n",
        "    * shape\n",
        "    * description()\n",
        "    * isnull().sum()\n",
        "    * duplicated()\n",
        "    * 기타 프로그램코딩 활용\n",
        "  * Feature Engineering \n",
        "  * 시각화\n",
        "\n",
        "> 목표 (프로그램적 분석의)\n",
        "  * 결측치 확인\n",
        "    * 컬럼별 결측치 비율\n",
        "  * 카테고리 값의 비율\n",
        "  * 가능 범위를 벗어난 값 확인\n",
        "  * 계산값이 틀린 값 확인\n",
        "  * 이상한 문자가 들어간 값 확인\n",
        "  * 중복값\n",
        "\n",
        "* Feature Engineering (변수 가공)\n",
        "* Business Insight (업무 통찰)\n",
        "\n"
      ]
    },
    {
      "cell_type": "markdown",
      "metadata": {
        "id": "_YcFlOrHlYP5"
      },
      "source": [
        "# # EDA 수행\n",
        "\n",
        "## 프로그램 기초 셋팅"
      ]
    },
    {
      "cell_type": "code",
      "execution_count": 5,
      "metadata": {},
      "outputs": [],
      "source": [
        "# import\n",
        "\n",
        "%matplotlib inline\n",
        "\n",
        "from IPython.display import display\n",
        "\n",
        "import re\n",
        "import math\n",
        "import pandas as pd\n",
        "import numpy as np\n",
        "import matplotlib as mpl\n",
        "import matplotlib.pyplot as plt\n",
        "import seaborn as sns\n",
        "import random\n",
        "\n",
        "import sklearn\n",
        "from sklearn.preprocessing import StandardScaler\n",
        "from sklearn.cluster import KMeans\n",
        "\n",
        "#pandas에서 DataFrame을 요약해서 표시하지 않도록 설정\n",
        "pd.set_option('display.max_columns', None)\n",
        "pd.set_option('display.max_rows', None)\n",
        "\n",
        "# 줄 구분 표시 출력 \n",
        "def print_line() :\n",
        "  print (\"\\n------------------------------------------------\")\n",
        "def print_line_m() :\n",
        "  print (\"\\n-----------------------\")\n",
        "def print_line_s() :\n",
        "  print (\"\\n----------\")\n"
      ]
    },
    {
      "cell_type": "code",
      "execution_count": null,
      "metadata": {},
      "outputs": [],
      "source": [
        "# # 구글 드라이브 mount\n",
        "# from google.colab import drive\n",
        "# drive.mount('/content/drive');\n"
      ]
    },
    {
      "cell_type": "code",
      "execution_count": 2,
      "metadata": {
        "id": "sbbHYizclHZX"
      },
      "outputs": [],
      "source": [
        "# 데이터 로딩\n",
        "\n",
        "# # 엑셀 파일 로딩\n",
        "# df_001 = pd.read_excel(\"https://ds-lecture-data.s3.ap-northeast-2.amazonaws.com/stocks/Travel.xlsx\", sheet_name = \"008770 \")\n",
        "# # CSV 파일 로딩\n",
        "# df_red = pd.read_csv( \"https://raw.githubusercontent.com/aniruddhachoudhury/Red-Wine-Quality/master/winequality-red.csv\" , sep = \",\")\n",
        "# df_white = pd.read_csv( \"https://archive.ics.uci.edu/ml/machine-learning-databases/wine-quality/winequality-white.csv\" , sep = \";\")\n",
        "\n",
        "# df_titanic = sns.load_dataset(\"titanic\")\n",
        "\n",
        "# df_patients = pd.read_csv('https://raw.githubusercontent.com/LamuneGitHub/A001_Python_Test/main/data/patients_info.csv')\n",
        "# df_insuline_test = pd.read_csv('https://raw.githubusercontent.com/LamuneGitHub/A001_Python_Test/main/data/insuline_test.csv')\n",
        "\n",
        "# df_final_revised = pd.read_csv('https://raw.githubusercontent.com/LamuneGitHub/A001_Python_Test/main/data/final_revised.csv')\n",
        "# df_movie = pd.read_csv('https://raw.githubusercontent.com/LamuneGitHub/A001_Python_Test/main/data/movie.csv')\n",
        "\n",
        "# df_discussion_114 = pd.read_csv('https://raw.githubusercontent.com/LamuneGitHub/A001_Python_Test/main/data/Discussion_114.csv')\n",
        "\n",
        "\n",
        "\n",
        "# df_data = pd.read_csv('서울시_기간별_시간평균_대기환경_정보_2020.03.csv', encoding='euc-kr', usecols=['측정일시', '측정소명', '오존(ppm)'])\n",
        "\n",
        "# read_csv 파라미터\n",
        "\"\"\"    ,sep=','\n",
        "    ,encoding='cp949' , encoding='euc-kr' , encoding='ISO-8859-1'\n",
        "    , usecols=['측정일시', '측정소명', '오존(ppm)']\n",
        "    , header=0 \n",
        "\"\"\"\n",
        "\n",
        "\n",
        "df_tmp = pd.read_csv( \"https://raw.githubusercontent.com/LamuneGitHub/AI15_Prj_01/main/vgames2.csv\" , sep=\",\" )\n"
      ]
    },
    {
      "cell_type": "markdown",
      "metadata": {
        "id": "njE4KiL7H1v6"
      },
      "source": [
        "## 작업 DataFrame 지정"
      ]
    },
    {
      "cell_type": "code",
      "execution_count": 3,
      "metadata": {
        "id": "Y1tVA0Hcs-Uw"
      },
      "outputs": [],
      "source": [
        "# 작업 DataFrame 지정\n",
        "df_target = df_tmp"
      ]
    },
    {
      "cell_type": "markdown",
      "metadata": {
        "id": "hpK2nFeYGyve"
      },
      "source": [
        "## 시각적 탐색\n"
      ]
    },
    {
      "cell_type": "code",
      "execution_count": 6,
      "metadata": {
        "id": "v_0ZzGnyHDVh"
      },
      "outputs": [
        {
          "data": {
            "text/html": [
              "<div>\n",
              "<style scoped>\n",
              "    .dataframe tbody tr th:only-of-type {\n",
              "        vertical-align: middle;\n",
              "    }\n",
              "\n",
              "    .dataframe tbody tr th {\n",
              "        vertical-align: top;\n",
              "    }\n",
              "\n",
              "    .dataframe thead th {\n",
              "        text-align: right;\n",
              "    }\n",
              "</style>\n",
              "<table border=\"1\" class=\"dataframe\">\n",
              "  <thead>\n",
              "    <tr style=\"text-align: right;\">\n",
              "      <th></th>\n",
              "      <th>Unnamed: 0</th>\n",
              "      <th>Name</th>\n",
              "      <th>Platform</th>\n",
              "      <th>Year</th>\n",
              "      <th>Genre</th>\n",
              "      <th>Publisher</th>\n",
              "      <th>NA_Sales</th>\n",
              "      <th>EU_Sales</th>\n",
              "      <th>JP_Sales</th>\n",
              "      <th>Other_Sales</th>\n",
              "    </tr>\n",
              "  </thead>\n",
              "  <tbody>\n",
              "    <tr>\n",
              "      <th>0</th>\n",
              "      <td>1</td>\n",
              "      <td>Candace Kane's Candy Factory</td>\n",
              "      <td>DS</td>\n",
              "      <td>2008.0</td>\n",
              "      <td>Action</td>\n",
              "      <td>Destineer</td>\n",
              "      <td>0.04</td>\n",
              "      <td>0</td>\n",
              "      <td>0</td>\n",
              "      <td>0</td>\n",
              "    </tr>\n",
              "    <tr>\n",
              "      <th>1</th>\n",
              "      <td>2</td>\n",
              "      <td>The Munchables</td>\n",
              "      <td>Wii</td>\n",
              "      <td>2009.0</td>\n",
              "      <td>Action</td>\n",
              "      <td>Namco Bandai Games</td>\n",
              "      <td>0.17</td>\n",
              "      <td>0</td>\n",
              "      <td>0</td>\n",
              "      <td>0.01</td>\n",
              "    </tr>\n",
              "    <tr>\n",
              "      <th>2</th>\n",
              "      <td>3</td>\n",
              "      <td>Otome wa Oanesama Boku ni Koi Shiteru Portable</td>\n",
              "      <td>PSP</td>\n",
              "      <td>2010.0</td>\n",
              "      <td>Adventure</td>\n",
              "      <td>Alchemist</td>\n",
              "      <td>0</td>\n",
              "      <td>0</td>\n",
              "      <td>0.02</td>\n",
              "      <td>0</td>\n",
              "    </tr>\n",
              "    <tr>\n",
              "      <th>3</th>\n",
              "      <td>4</td>\n",
              "      <td>Deal or No Deal: Special Edition</td>\n",
              "      <td>DS</td>\n",
              "      <td>2010.0</td>\n",
              "      <td>Misc</td>\n",
              "      <td>Zoo Games</td>\n",
              "      <td>0.04</td>\n",
              "      <td>0</td>\n",
              "      <td>0</td>\n",
              "      <td>0</td>\n",
              "    </tr>\n",
              "    <tr>\n",
              "      <th>4</th>\n",
              "      <td>5</td>\n",
              "      <td>Ben 10 Ultimate Alien: Cosmic Destruction</td>\n",
              "      <td>PS3</td>\n",
              "      <td>2010.0</td>\n",
              "      <td>Platform</td>\n",
              "      <td>D3Publisher</td>\n",
              "      <td>0.12</td>\n",
              "      <td>0.09</td>\n",
              "      <td>0</td>\n",
              "      <td>0.04</td>\n",
              "    </tr>\n",
              "    <tr>\n",
              "      <th>5</th>\n",
              "      <td>6</td>\n",
              "      <td>Power Pro Kun Pocket 8</td>\n",
              "      <td>DS</td>\n",
              "      <td>2005.0</td>\n",
              "      <td>Sports</td>\n",
              "      <td>Konami Digital Entertainment</td>\n",
              "      <td>0</td>\n",
              "      <td>0</td>\n",
              "      <td>0.14</td>\n",
              "      <td>0</td>\n",
              "    </tr>\n",
              "    <tr>\n",
              "      <th>6</th>\n",
              "      <td>7</td>\n",
              "      <td>JASF: Jane's Advanced Strike Fighters</td>\n",
              "      <td>PC</td>\n",
              "      <td>2011.0</td>\n",
              "      <td>Simulation</td>\n",
              "      <td>Deep Silver</td>\n",
              "      <td>0.02</td>\n",
              "      <td>0.01</td>\n",
              "      <td>0</td>\n",
              "      <td>0</td>\n",
              "    </tr>\n",
              "    <tr>\n",
              "      <th>7</th>\n",
              "      <td>8</td>\n",
              "      <td>Samurai Warriors: State of War</td>\n",
              "      <td>PSP</td>\n",
              "      <td>2005.0</td>\n",
              "      <td>Action</td>\n",
              "      <td>Tecmo Koei</td>\n",
              "      <td>0.07</td>\n",
              "      <td>0</td>\n",
              "      <td>0.11</td>\n",
              "      <td>0.01</td>\n",
              "    </tr>\n",
              "    <tr>\n",
              "      <th>8</th>\n",
              "      <td>9</td>\n",
              "      <td>Imabikisou</td>\n",
              "      <td>PS3</td>\n",
              "      <td>2007.0</td>\n",
              "      <td>Adventure</td>\n",
              "      <td>Sega</td>\n",
              "      <td>0</td>\n",
              "      <td>0</td>\n",
              "      <td>0.04</td>\n",
              "      <td>0</td>\n",
              "    </tr>\n",
              "    <tr>\n",
              "      <th>9</th>\n",
              "      <td>10</td>\n",
              "      <td>The Penguins of Madagascar: Dr. Blowhole Retur...</td>\n",
              "      <td>PS3</td>\n",
              "      <td>2011.0</td>\n",
              "      <td>Action</td>\n",
              "      <td>THQ</td>\n",
              "      <td>0.04</td>\n",
              "      <td>0.03</td>\n",
              "      <td>0</td>\n",
              "      <td>0.01</td>\n",
              "    </tr>\n",
              "    <tr>\n",
              "      <th>10</th>\n",
              "      <td>11</td>\n",
              "      <td>Ford Racing</td>\n",
              "      <td>PS</td>\n",
              "      <td>2001.0</td>\n",
              "      <td>Racing</td>\n",
              "      <td>Empire Interactive</td>\n",
              "      <td>480K</td>\n",
              "      <td>0.33M</td>\n",
              "      <td>0K</td>\n",
              "      <td>0.06</td>\n",
              "    </tr>\n",
              "    <tr>\n",
              "      <th>11</th>\n",
              "      <td>12</td>\n",
              "      <td>Harvest Moon: More Friends of Mineral Town</td>\n",
              "      <td>GBA</td>\n",
              "      <td>2003.0</td>\n",
              "      <td>Simulation</td>\n",
              "      <td>Ubisoft</td>\n",
              "      <td>0.14</td>\n",
              "      <td>0.05</td>\n",
              "      <td>0</td>\n",
              "      <td>0</td>\n",
              "    </tr>\n",
              "    <tr>\n",
              "      <th>12</th>\n",
              "      <td>13</td>\n",
              "      <td>Mount &amp; Blade</td>\n",
              "      <td>PC</td>\n",
              "      <td>2008.0</td>\n",
              "      <td>Role-Playing</td>\n",
              "      <td>Paradox Interactive</td>\n",
              "      <td>0</td>\n",
              "      <td>0.02</td>\n",
              "      <td>0</td>\n",
              "      <td>0</td>\n",
              "    </tr>\n",
              "    <tr>\n",
              "      <th>13</th>\n",
              "      <td>14</td>\n",
              "      <td>The Professor's Brain Trainer: Logic</td>\n",
              "      <td>DS</td>\n",
              "      <td>2005.0</td>\n",
              "      <td>Puzzle</td>\n",
              "      <td>505 Games</td>\n",
              "      <td>0.02</td>\n",
              "      <td>0</td>\n",
              "      <td>0</td>\n",
              "      <td>0</td>\n",
              "    </tr>\n",
              "    <tr>\n",
              "      <th>14</th>\n",
              "      <td>15</td>\n",
              "      <td>Zoids Dash</td>\n",
              "      <td>DS</td>\n",
              "      <td>2006.0</td>\n",
              "      <td>Role-Playing</td>\n",
              "      <td>Tomy Corporation</td>\n",
              "      <td>0</td>\n",
              "      <td>0</td>\n",
              "      <td>0.02</td>\n",
              "      <td>0</td>\n",
              "    </tr>\n",
              "    <tr>\n",
              "      <th>15</th>\n",
              "      <td>16</td>\n",
              "      <td>Mini Ninjas</td>\n",
              "      <td>PS3</td>\n",
              "      <td>2009.0</td>\n",
              "      <td>Action</td>\n",
              "      <td>Eidos Interactive</td>\n",
              "      <td>0.14</td>\n",
              "      <td>0.16</td>\n",
              "      <td>0</td>\n",
              "      <td>0.06</td>\n",
              "    </tr>\n",
              "    <tr>\n",
              "      <th>16</th>\n",
              "      <td>17</td>\n",
              "      <td>Rise of Nations</td>\n",
              "      <td>PC</td>\n",
              "      <td>2003.0</td>\n",
              "      <td>Strategy</td>\n",
              "      <td>Microsoft Game Studios</td>\n",
              "      <td>0.01</td>\n",
              "      <td>0.02</td>\n",
              "      <td>0</td>\n",
              "      <td>0.01</td>\n",
              "    </tr>\n",
              "    <tr>\n",
              "      <th>17</th>\n",
              "      <td>18</td>\n",
              "      <td>Hajime no Ippo: The Fighting! (2014)</td>\n",
              "      <td>PS3</td>\n",
              "      <td>2014.0</td>\n",
              "      <td>Sports</td>\n",
              "      <td>Namco Bandai Games</td>\n",
              "      <td>0</td>\n",
              "      <td>0</td>\n",
              "      <td>0.03</td>\n",
              "      <td>0</td>\n",
              "    </tr>\n",
              "    <tr>\n",
              "      <th>18</th>\n",
              "      <td>19</td>\n",
              "      <td>Grand Kingdom</td>\n",
              "      <td>PS4</td>\n",
              "      <td>2015.0</td>\n",
              "      <td>Role-Playing</td>\n",
              "      <td>Nippon Ichi Software</td>\n",
              "      <td>0.02</td>\n",
              "      <td>0</td>\n",
              "      <td>0.03</td>\n",
              "      <td>0</td>\n",
              "    </tr>\n",
              "    <tr>\n",
              "      <th>19</th>\n",
              "      <td>20</td>\n",
              "      <td>Tropico Reloaded</td>\n",
              "      <td>PC</td>\n",
              "      <td>2009.0</td>\n",
              "      <td>Strategy</td>\n",
              "      <td>Kalypso Media</td>\n",
              "      <td>0</td>\n",
              "      <td>0.02</td>\n",
              "      <td>0</td>\n",
              "      <td>0</td>\n",
              "    </tr>\n",
              "  </tbody>\n",
              "</table>\n",
              "</div>"
            ],
            "text/plain": [
              "    Unnamed: 0                                               Name Platform  \\\n",
              "0            1                       Candace Kane's Candy Factory       DS   \n",
              "1            2                                     The Munchables      Wii   \n",
              "2            3     Otome wa Oanesama Boku ni Koi Shiteru Portable      PSP   \n",
              "3            4                   Deal or No Deal: Special Edition       DS   \n",
              "4            5          Ben 10 Ultimate Alien: Cosmic Destruction      PS3   \n",
              "5            6                             Power Pro Kun Pocket 8       DS   \n",
              "6            7              JASF: Jane's Advanced Strike Fighters       PC   \n",
              "7            8                     Samurai Warriors: State of War      PSP   \n",
              "8            9                                         Imabikisou      PS3   \n",
              "9           10  The Penguins of Madagascar: Dr. Blowhole Retur...      PS3   \n",
              "10          11                                        Ford Racing       PS   \n",
              "11          12         Harvest Moon: More Friends of Mineral Town      GBA   \n",
              "12          13                                      Mount & Blade       PC   \n",
              "13          14               The Professor's Brain Trainer: Logic       DS   \n",
              "14          15                                         Zoids Dash       DS   \n",
              "15          16                                        Mini Ninjas      PS3   \n",
              "16          17                                    Rise of Nations       PC   \n",
              "17          18               Hajime no Ippo: The Fighting! (2014)      PS3   \n",
              "18          19                                      Grand Kingdom      PS4   \n",
              "19          20                                   Tropico Reloaded       PC   \n",
              "\n",
              "      Year         Genre                     Publisher NA_Sales EU_Sales  \\\n",
              "0   2008.0        Action                     Destineer     0.04        0   \n",
              "1   2009.0        Action            Namco Bandai Games     0.17        0   \n",
              "2   2010.0     Adventure                     Alchemist        0        0   \n",
              "3   2010.0          Misc                     Zoo Games     0.04        0   \n",
              "4   2010.0      Platform                   D3Publisher     0.12     0.09   \n",
              "5   2005.0        Sports  Konami Digital Entertainment        0        0   \n",
              "6   2011.0    Simulation                   Deep Silver     0.02     0.01   \n",
              "7   2005.0        Action                    Tecmo Koei     0.07        0   \n",
              "8   2007.0     Adventure                          Sega        0        0   \n",
              "9   2011.0        Action                           THQ     0.04     0.03   \n",
              "10  2001.0        Racing            Empire Interactive     480K    0.33M   \n",
              "11  2003.0    Simulation                       Ubisoft     0.14     0.05   \n",
              "12  2008.0  Role-Playing           Paradox Interactive        0     0.02   \n",
              "13  2005.0        Puzzle                     505 Games     0.02        0   \n",
              "14  2006.0  Role-Playing              Tomy Corporation        0        0   \n",
              "15  2009.0        Action             Eidos Interactive     0.14     0.16   \n",
              "16  2003.0      Strategy        Microsoft Game Studios     0.01     0.02   \n",
              "17  2014.0        Sports            Namco Bandai Games        0        0   \n",
              "18  2015.0  Role-Playing          Nippon Ichi Software     0.02        0   \n",
              "19  2009.0      Strategy                 Kalypso Media        0     0.02   \n",
              "\n",
              "   JP_Sales Other_Sales  \n",
              "0         0           0  \n",
              "1         0        0.01  \n",
              "2      0.02           0  \n",
              "3         0           0  \n",
              "4         0        0.04  \n",
              "5      0.14           0  \n",
              "6         0           0  \n",
              "7      0.11        0.01  \n",
              "8      0.04           0  \n",
              "9         0        0.01  \n",
              "10       0K        0.06  \n",
              "11        0           0  \n",
              "12        0           0  \n",
              "13        0           0  \n",
              "14     0.02           0  \n",
              "15        0        0.06  \n",
              "16        0        0.01  \n",
              "17     0.03           0  \n",
              "18     0.03           0  \n",
              "19        0           0  "
            ]
          },
          "metadata": {},
          "output_type": "display_data"
        },
        {
          "data": {
            "text/html": [
              "<div>\n",
              "<style scoped>\n",
              "    .dataframe tbody tr th:only-of-type {\n",
              "        vertical-align: middle;\n",
              "    }\n",
              "\n",
              "    .dataframe tbody tr th {\n",
              "        vertical-align: top;\n",
              "    }\n",
              "\n",
              "    .dataframe thead th {\n",
              "        text-align: right;\n",
              "    }\n",
              "</style>\n",
              "<table border=\"1\" class=\"dataframe\">\n",
              "  <thead>\n",
              "    <tr style=\"text-align: right;\">\n",
              "      <th></th>\n",
              "      <th>Unnamed: 0</th>\n",
              "      <th>Name</th>\n",
              "      <th>Platform</th>\n",
              "      <th>Year</th>\n",
              "      <th>Genre</th>\n",
              "      <th>Publisher</th>\n",
              "      <th>NA_Sales</th>\n",
              "      <th>EU_Sales</th>\n",
              "      <th>JP_Sales</th>\n",
              "      <th>Other_Sales</th>\n",
              "    </tr>\n",
              "  </thead>\n",
              "  <tbody>\n",
              "    <tr>\n",
              "      <th>16578</th>\n",
              "      <td>16579</td>\n",
              "      <td>Gex: Enter the Gecko</td>\n",
              "      <td>PS</td>\n",
              "      <td>1998.0</td>\n",
              "      <td>Platform</td>\n",
              "      <td>BMG Interactive Entertainment</td>\n",
              "      <td>320K</td>\n",
              "      <td>0.22</td>\n",
              "      <td>0</td>\n",
              "      <td>0.04</td>\n",
              "    </tr>\n",
              "    <tr>\n",
              "      <th>16579</th>\n",
              "      <td>16580</td>\n",
              "      <td>Super Ghouls 'n Ghosts</td>\n",
              "      <td>GBA</td>\n",
              "      <td>2002.0</td>\n",
              "      <td>Platform</td>\n",
              "      <td>Capcom</td>\n",
              "      <td>0.05</td>\n",
              "      <td>0.02</td>\n",
              "      <td>0</td>\n",
              "      <td>0</td>\n",
              "    </tr>\n",
              "    <tr>\n",
              "      <th>16580</th>\n",
              "      <td>16581</td>\n",
              "      <td>Captain Morgane and the Golden Turtle</td>\n",
              "      <td>DS</td>\n",
              "      <td>2012.0</td>\n",
              "      <td>Adventure</td>\n",
              "      <td>Reef Entertainment</td>\n",
              "      <td>0</td>\n",
              "      <td>0.03</td>\n",
              "      <td>0M</td>\n",
              "      <td>0</td>\n",
              "    </tr>\n",
              "    <tr>\n",
              "      <th>16581</th>\n",
              "      <td>16582</td>\n",
              "      <td>LEGO The Hobbit</td>\n",
              "      <td>XOne</td>\n",
              "      <td>2014.0</td>\n",
              "      <td>Action</td>\n",
              "      <td>Warner Bros. Interactive Entertainment</td>\n",
              "      <td>0.13</td>\n",
              "      <td>0.12</td>\n",
              "      <td>0</td>\n",
              "      <td>0.02</td>\n",
              "    </tr>\n",
              "    <tr>\n",
              "      <th>16582</th>\n",
              "      <td>16583</td>\n",
              "      <td>Shanghai: True Valor</td>\n",
              "      <td>PS</td>\n",
              "      <td>1998.0</td>\n",
              "      <td>Puzzle</td>\n",
              "      <td>Activision</td>\n",
              "      <td>0.01</td>\n",
              "      <td>0.01</td>\n",
              "      <td>0</td>\n",
              "      <td>0</td>\n",
              "    </tr>\n",
              "    <tr>\n",
              "      <th>16583</th>\n",
              "      <td>16584</td>\n",
              "      <td>LEGO Indiana Jones 2: The Adventure Continues</td>\n",
              "      <td>Wii</td>\n",
              "      <td>2009.0</td>\n",
              "      <td>Action</td>\n",
              "      <td>Activision</td>\n",
              "      <td>0.91</td>\n",
              "      <td>0.39</td>\n",
              "      <td>0</td>\n",
              "      <td>0.13</td>\n",
              "    </tr>\n",
              "    <tr>\n",
              "      <th>16584</th>\n",
              "      <td>16585</td>\n",
              "      <td>Bionicle Heroes</td>\n",
              "      <td>DS</td>\n",
              "      <td>2006.0</td>\n",
              "      <td>Shooter</td>\n",
              "      <td>Eidos Interactive</td>\n",
              "      <td>0.06</td>\n",
              "      <td>0</td>\n",
              "      <td>0</td>\n",
              "      <td>0</td>\n",
              "    </tr>\n",
              "    <tr>\n",
              "      <th>16585</th>\n",
              "      <td>16586</td>\n",
              "      <td>Pokemon Channel</td>\n",
              "      <td>GC</td>\n",
              "      <td>2003.0</td>\n",
              "      <td>Adventure</td>\n",
              "      <td>Nintendo</td>\n",
              "      <td>0.24</td>\n",
              "      <td>0.06</td>\n",
              "      <td>0.07</td>\n",
              "      <td>0.01</td>\n",
              "    </tr>\n",
              "    <tr>\n",
              "      <th>16586</th>\n",
              "      <td>16587</td>\n",
              "      <td>Jikkyou Powerful Pro Yakyuu 2000 Ketteiban</td>\n",
              "      <td>PS</td>\n",
              "      <td>2000.0</td>\n",
              "      <td>Sports</td>\n",
              "      <td>Konami Digital Entertainment</td>\n",
              "      <td>0</td>\n",
              "      <td>0</td>\n",
              "      <td>0.08</td>\n",
              "      <td>0.01</td>\n",
              "    </tr>\n",
              "    <tr>\n",
              "      <th>16587</th>\n",
              "      <td>16588</td>\n",
              "      <td>Need for Speed Underground 2</td>\n",
              "      <td>XB</td>\n",
              "      <td>2004.0</td>\n",
              "      <td>NaN</td>\n",
              "      <td>Electronic Arts</td>\n",
              "      <td>1.38</td>\n",
              "      <td>0.8</td>\n",
              "      <td>0</td>\n",
              "      <td>0.1</td>\n",
              "    </tr>\n",
              "    <tr>\n",
              "      <th>16588</th>\n",
              "      <td>16589</td>\n",
              "      <td>MindJack</td>\n",
              "      <td>PS3</td>\n",
              "      <td>2011.0</td>\n",
              "      <td>Shooter</td>\n",
              "      <td>Square Enix</td>\n",
              "      <td>0.07</td>\n",
              "      <td>0.08</td>\n",
              "      <td>0</td>\n",
              "      <td>0.03</td>\n",
              "    </tr>\n",
              "    <tr>\n",
              "      <th>16589</th>\n",
              "      <td>16590</td>\n",
              "      <td>Namco Soccer Prime Goal</td>\n",
              "      <td>PS</td>\n",
              "      <td>1995.0</td>\n",
              "      <td>Sports</td>\n",
              "      <td>Sony Computer Entertainment</td>\n",
              "      <td>0</td>\n",
              "      <td>0</td>\n",
              "      <td>0.12</td>\n",
              "      <td>0.01</td>\n",
              "    </tr>\n",
              "    <tr>\n",
              "      <th>16590</th>\n",
              "      <td>16591</td>\n",
              "      <td>White Album: Tsuzurareru Fuyu no Omoide</td>\n",
              "      <td>PS3</td>\n",
              "      <td>2010.0</td>\n",
              "      <td>Adventure</td>\n",
              "      <td>Aqua Plus</td>\n",
              "      <td>0</td>\n",
              "      <td>0</td>\n",
              "      <td>0.05</td>\n",
              "      <td>0</td>\n",
              "    </tr>\n",
              "    <tr>\n",
              "      <th>16591</th>\n",
              "      <td>16592</td>\n",
              "      <td>Madden NFL 2005</td>\n",
              "      <td>PS2</td>\n",
              "      <td>2004.0</td>\n",
              "      <td>Sports</td>\n",
              "      <td>Electronic Arts</td>\n",
              "      <td>4.18</td>\n",
              "      <td>0.26</td>\n",
              "      <td>0.01</td>\n",
              "      <td>80K</td>\n",
              "    </tr>\n",
              "    <tr>\n",
              "      <th>16592</th>\n",
              "      <td>16593</td>\n",
              "      <td>Minna no Chizu 2</td>\n",
              "      <td>PSP</td>\n",
              "      <td>2007.0</td>\n",
              "      <td>Misc</td>\n",
              "      <td>Zenrin</td>\n",
              "      <td>0</td>\n",
              "      <td>0</td>\n",
              "      <td>0.02</td>\n",
              "      <td>0</td>\n",
              "    </tr>\n",
              "    <tr>\n",
              "      <th>16593</th>\n",
              "      <td>16594</td>\n",
              "      <td>Ice Age 2: The Meltdown</td>\n",
              "      <td>GC</td>\n",
              "      <td>2006.0</td>\n",
              "      <td>Platform</td>\n",
              "      <td>Vivendi Games</td>\n",
              "      <td>0.15</td>\n",
              "      <td>0.04</td>\n",
              "      <td>0</td>\n",
              "      <td>0.01</td>\n",
              "    </tr>\n",
              "    <tr>\n",
              "      <th>16594</th>\n",
              "      <td>16595</td>\n",
              "      <td>Rainbow Islands: Revolution</td>\n",
              "      <td>PSP</td>\n",
              "      <td>2005.0</td>\n",
              "      <td>Action</td>\n",
              "      <td>Rising Star Games</td>\n",
              "      <td>0.01</td>\n",
              "      <td>0</td>\n",
              "      <td>0</td>\n",
              "      <td>0</td>\n",
              "    </tr>\n",
              "    <tr>\n",
              "      <th>16595</th>\n",
              "      <td>16596</td>\n",
              "      <td>NBA 2K16</td>\n",
              "      <td>PS3</td>\n",
              "      <td>2015.0</td>\n",
              "      <td>Sports</td>\n",
              "      <td>Take-Two Interactive</td>\n",
              "      <td>0.44</td>\n",
              "      <td>0.19</td>\n",
              "      <td>0.03</td>\n",
              "      <td>0.13</td>\n",
              "    </tr>\n",
              "    <tr>\n",
              "      <th>16596</th>\n",
              "      <td>16597</td>\n",
              "      <td>Toukiden: The Age of Demons</td>\n",
              "      <td>PSV</td>\n",
              "      <td>2013.0</td>\n",
              "      <td>Action</td>\n",
              "      <td>Tecmo Koei</td>\n",
              "      <td>0.05</td>\n",
              "      <td>0.05</td>\n",
              "      <td>0.25</td>\n",
              "      <td>0.03</td>\n",
              "    </tr>\n",
              "    <tr>\n",
              "      <th>16597</th>\n",
              "      <td>16598</td>\n",
              "      <td>The King of Fighters '95</td>\n",
              "      <td>PS</td>\n",
              "      <td>1996.0</td>\n",
              "      <td>Fighting</td>\n",
              "      <td>Sony Computer Entertainment</td>\n",
              "      <td>0</td>\n",
              "      <td>0</td>\n",
              "      <td>0.16</td>\n",
              "      <td>0.01</td>\n",
              "    </tr>\n",
              "  </tbody>\n",
              "</table>\n",
              "</div>"
            ],
            "text/plain": [
              "       Unnamed: 0                                           Name Platform  \\\n",
              "16578       16579                           Gex: Enter the Gecko       PS   \n",
              "16579       16580                         Super Ghouls 'n Ghosts      GBA   \n",
              "16580       16581          Captain Morgane and the Golden Turtle       DS   \n",
              "16581       16582                                LEGO The Hobbit     XOne   \n",
              "16582       16583                           Shanghai: True Valor       PS   \n",
              "16583       16584  LEGO Indiana Jones 2: The Adventure Continues      Wii   \n",
              "16584       16585                                Bionicle Heroes       DS   \n",
              "16585       16586                                Pokemon Channel       GC   \n",
              "16586       16587     Jikkyou Powerful Pro Yakyuu 2000 Ketteiban       PS   \n",
              "16587       16588                   Need for Speed Underground 2       XB   \n",
              "16588       16589                                       MindJack      PS3   \n",
              "16589       16590                        Namco Soccer Prime Goal       PS   \n",
              "16590       16591        White Album: Tsuzurareru Fuyu no Omoide      PS3   \n",
              "16591       16592                                Madden NFL 2005      PS2   \n",
              "16592       16593                               Minna no Chizu 2      PSP   \n",
              "16593       16594                        Ice Age 2: The Meltdown       GC   \n",
              "16594       16595                    Rainbow Islands: Revolution      PSP   \n",
              "16595       16596                                       NBA 2K16      PS3   \n",
              "16596       16597                    Toukiden: The Age of Demons      PSV   \n",
              "16597       16598                       The King of Fighters '95       PS   \n",
              "\n",
              "         Year      Genre                               Publisher NA_Sales  \\\n",
              "16578  1998.0   Platform           BMG Interactive Entertainment     320K   \n",
              "16579  2002.0   Platform                                  Capcom     0.05   \n",
              "16580  2012.0  Adventure                      Reef Entertainment        0   \n",
              "16581  2014.0     Action  Warner Bros. Interactive Entertainment     0.13   \n",
              "16582  1998.0     Puzzle                              Activision     0.01   \n",
              "16583  2009.0     Action                              Activision     0.91   \n",
              "16584  2006.0    Shooter                       Eidos Interactive     0.06   \n",
              "16585  2003.0  Adventure                                Nintendo     0.24   \n",
              "16586  2000.0     Sports            Konami Digital Entertainment        0   \n",
              "16587  2004.0        NaN                         Electronic Arts     1.38   \n",
              "16588  2011.0    Shooter                             Square Enix     0.07   \n",
              "16589  1995.0     Sports             Sony Computer Entertainment        0   \n",
              "16590  2010.0  Adventure                               Aqua Plus        0   \n",
              "16591  2004.0     Sports                         Electronic Arts     4.18   \n",
              "16592  2007.0       Misc                                  Zenrin        0   \n",
              "16593  2006.0   Platform                           Vivendi Games     0.15   \n",
              "16594  2005.0     Action                       Rising Star Games     0.01   \n",
              "16595  2015.0     Sports                    Take-Two Interactive     0.44   \n",
              "16596  2013.0     Action                              Tecmo Koei     0.05   \n",
              "16597  1996.0   Fighting             Sony Computer Entertainment        0   \n",
              "\n",
              "      EU_Sales JP_Sales Other_Sales  \n",
              "16578     0.22        0        0.04  \n",
              "16579     0.02        0           0  \n",
              "16580     0.03       0M           0  \n",
              "16581     0.12        0        0.02  \n",
              "16582     0.01        0           0  \n",
              "16583     0.39        0        0.13  \n",
              "16584        0        0           0  \n",
              "16585     0.06     0.07        0.01  \n",
              "16586        0     0.08        0.01  \n",
              "16587      0.8        0         0.1  \n",
              "16588     0.08        0        0.03  \n",
              "16589        0     0.12        0.01  \n",
              "16590        0     0.05           0  \n",
              "16591     0.26     0.01         80K  \n",
              "16592        0     0.02           0  \n",
              "16593     0.04        0        0.01  \n",
              "16594        0        0           0  \n",
              "16595     0.19     0.03        0.13  \n",
              "16596     0.05     0.25        0.03  \n",
              "16597        0     0.16        0.01  "
            ]
          },
          "metadata": {},
          "output_type": "display_data"
        },
        {
          "data": {
            "text/html": [
              "<div>\n",
              "<style scoped>\n",
              "    .dataframe tbody tr th:only-of-type {\n",
              "        vertical-align: middle;\n",
              "    }\n",
              "\n",
              "    .dataframe tbody tr th {\n",
              "        vertical-align: top;\n",
              "    }\n",
              "\n",
              "    .dataframe thead th {\n",
              "        text-align: right;\n",
              "    }\n",
              "</style>\n",
              "<table border=\"1\" class=\"dataframe\">\n",
              "  <thead>\n",
              "    <tr style=\"text-align: right;\">\n",
              "      <th></th>\n",
              "      <th>Unnamed: 0</th>\n",
              "      <th>Name</th>\n",
              "      <th>Platform</th>\n",
              "      <th>Year</th>\n",
              "      <th>Genre</th>\n",
              "      <th>Publisher</th>\n",
              "      <th>NA_Sales</th>\n",
              "      <th>EU_Sales</th>\n",
              "      <th>JP_Sales</th>\n",
              "      <th>Other_Sales</th>\n",
              "    </tr>\n",
              "  </thead>\n",
              "  <tbody>\n",
              "    <tr>\n",
              "      <th>15443</th>\n",
              "      <td>15444</td>\n",
              "      <td>Yu-Gi-Oh! The Duelists of the Roses</td>\n",
              "      <td>PS2</td>\n",
              "      <td>2001.0</td>\n",
              "      <td>Misc</td>\n",
              "      <td>Konami Digital Entertainment</td>\n",
              "      <td>1.16</td>\n",
              "      <td>0.91</td>\n",
              "      <td>0</td>\n",
              "      <td>0.3</td>\n",
              "    </tr>\n",
              "    <tr>\n",
              "      <th>890</th>\n",
              "      <td>891</td>\n",
              "      <td>Hot Wheels Velocity X</td>\n",
              "      <td>GBA</td>\n",
              "      <td>2002.0</td>\n",
              "      <td>Racing</td>\n",
              "      <td>THQ</td>\n",
              "      <td>0.12</td>\n",
              "      <td>0.04</td>\n",
              "      <td>0</td>\n",
              "      <td>0</td>\n",
              "    </tr>\n",
              "    <tr>\n",
              "      <th>4066</th>\n",
              "      <td>4067</td>\n",
              "      <td>Cold Fear</td>\n",
              "      <td>XB</td>\n",
              "      <td>2005.0</td>\n",
              "      <td>Action</td>\n",
              "      <td>Ubisoft</td>\n",
              "      <td>0.05</td>\n",
              "      <td>0.01</td>\n",
              "      <td>0</td>\n",
              "      <td>0</td>\n",
              "    </tr>\n",
              "    <tr>\n",
              "      <th>13913</th>\n",
              "      <td>13914</td>\n",
              "      <td>Sarah: Keeper of the Unicorn</td>\n",
              "      <td>DS</td>\n",
              "      <td>2009.0</td>\n",
              "      <td>Adventure</td>\n",
              "      <td>DreamCatcher Interactive</td>\n",
              "      <td>0.02</td>\n",
              "      <td>0</td>\n",
              "      <td>0</td>\n",
              "      <td>0</td>\n",
              "    </tr>\n",
              "    <tr>\n",
              "      <th>13818</th>\n",
              "      <td>13819</td>\n",
              "      <td>Mega Man Battle Network 5: Team Colonel / Prot...</td>\n",
              "      <td>GBA</td>\n",
              "      <td>2004.0</td>\n",
              "      <td>Role-Playing</td>\n",
              "      <td>Capcom</td>\n",
              "      <td>0.16</td>\n",
              "      <td>0.06</td>\n",
              "      <td>0</td>\n",
              "      <td>0</td>\n",
              "    </tr>\n",
              "    <tr>\n",
              "      <th>14002</th>\n",
              "      <td>14003</td>\n",
              "      <td>Doraemon: Nobita no Uchuu Eiyuuki</td>\n",
              "      <td>3DS</td>\n",
              "      <td>2015.0</td>\n",
              "      <td>Action</td>\n",
              "      <td>FuRyu</td>\n",
              "      <td>0</td>\n",
              "      <td>0</td>\n",
              "      <td>0.06</td>\n",
              "      <td>0</td>\n",
              "    </tr>\n",
              "    <tr>\n",
              "      <th>14692</th>\n",
              "      <td>14693</td>\n",
              "      <td>Mother Goose no Himitsu no Yakata</td>\n",
              "      <td>PSP</td>\n",
              "      <td>2011.0</td>\n",
              "      <td>Adventure</td>\n",
              "      <td>Quinrose</td>\n",
              "      <td>0</td>\n",
              "      <td>0</td>\n",
              "      <td>0.03</td>\n",
              "      <td>0</td>\n",
              "    </tr>\n",
              "    <tr>\n",
              "      <th>14335</th>\n",
              "      <td>14336</td>\n",
              "      <td>Disney Princess</td>\n",
              "      <td>GBA</td>\n",
              "      <td>2003.0</td>\n",
              "      <td>Platform</td>\n",
              "      <td>THQ</td>\n",
              "      <td>1.04</td>\n",
              "      <td>0.37</td>\n",
              "      <td>0</td>\n",
              "      <td>0.06</td>\n",
              "    </tr>\n",
              "    <tr>\n",
              "      <th>10892</th>\n",
              "      <td>10893</td>\n",
              "      <td>Monster Hunter X</td>\n",
              "      <td>3DS</td>\n",
              "      <td>2015.0</td>\n",
              "      <td>Action</td>\n",
              "      <td>Capcom</td>\n",
              "      <td>0.25</td>\n",
              "      <td>0.19</td>\n",
              "      <td>2.78</td>\n",
              "      <td>0.04</td>\n",
              "    </tr>\n",
              "    <tr>\n",
              "      <th>15474</th>\n",
              "      <td>15475</td>\n",
              "      <td>Warriors: Legends of Troy</td>\n",
              "      <td>X360</td>\n",
              "      <td>2011.0</td>\n",
              "      <td>Action</td>\n",
              "      <td>Tecmo Koei</td>\n",
              "      <td>0</td>\n",
              "      <td>0.04</td>\n",
              "      <td>0.01</td>\n",
              "      <td>0.01</td>\n",
              "    </tr>\n",
              "    <tr>\n",
              "      <th>8417</th>\n",
              "      <td>8418</td>\n",
              "      <td>Madden NFL 07</td>\n",
              "      <td>PS3</td>\n",
              "      <td>2006.0</td>\n",
              "      <td>Sports</td>\n",
              "      <td>Electronic Arts</td>\n",
              "      <td>0.47</td>\n",
              "      <td>0</td>\n",
              "      <td>0.01</td>\n",
              "      <td>0.04</td>\n",
              "    </tr>\n",
              "    <tr>\n",
              "      <th>5297</th>\n",
              "      <td>5298</td>\n",
              "      <td>pro evolution soccer 2011</td>\n",
              "      <td>PC</td>\n",
              "      <td>2010.0</td>\n",
              "      <td>Sports</td>\n",
              "      <td>Konami Digital Entertainment</td>\n",
              "      <td>0</td>\n",
              "      <td>0.05</td>\n",
              "      <td>0</td>\n",
              "      <td>0.01</td>\n",
              "    </tr>\n",
              "    <tr>\n",
              "      <th>15530</th>\n",
              "      <td>15531</td>\n",
              "      <td>Prince of Persia: Rival Swords</td>\n",
              "      <td>Wii</td>\n",
              "      <td>2007.0</td>\n",
              "      <td>Action</td>\n",
              "      <td>Ubisoft</td>\n",
              "      <td>0.24</td>\n",
              "      <td>0.03</td>\n",
              "      <td>0</td>\n",
              "      <td>0.02</td>\n",
              "    </tr>\n",
              "    <tr>\n",
              "      <th>171</th>\n",
              "      <td>172</td>\n",
              "      <td>The Warriors</td>\n",
              "      <td>PS2</td>\n",
              "      <td>2005.0</td>\n",
              "      <td>Action</td>\n",
              "      <td>Take-Two Interactive</td>\n",
              "      <td>0.44</td>\n",
              "      <td>0.02</td>\n",
              "      <td>0</td>\n",
              "      <td>0.07</td>\n",
              "    </tr>\n",
              "    <tr>\n",
              "      <th>765</th>\n",
              "      <td>766</td>\n",
              "      <td>Super Power League</td>\n",
              "      <td>SNES</td>\n",
              "      <td>1993.0</td>\n",
              "      <td>Sports</td>\n",
              "      <td>Hudson Soft</td>\n",
              "      <td>0</td>\n",
              "      <td>0</td>\n",
              "      <td>0.17</td>\n",
              "      <td>0</td>\n",
              "    </tr>\n",
              "    <tr>\n",
              "      <th>5269</th>\n",
              "      <td>5270</td>\n",
              "      <td>Custom Robo</td>\n",
              "      <td>GC</td>\n",
              "      <td>2004.0</td>\n",
              "      <td>Role-Playing</td>\n",
              "      <td>Nintendo</td>\n",
              "      <td>0.29</td>\n",
              "      <td>0.07</td>\n",
              "      <td>0</td>\n",
              "      <td>0.01</td>\n",
              "    </tr>\n",
              "    <tr>\n",
              "      <th>10504</th>\n",
              "      <td>10505</td>\n",
              "      <td>Romance of the Three Kingdoms XII</td>\n",
              "      <td>WiiU</td>\n",
              "      <td>2012.0</td>\n",
              "      <td>Strategy</td>\n",
              "      <td>Tecmo Koei</td>\n",
              "      <td>0</td>\n",
              "      <td>0</td>\n",
              "      <td>0.02</td>\n",
              "      <td>0</td>\n",
              "    </tr>\n",
              "    <tr>\n",
              "      <th>7729</th>\n",
              "      <td>7730</td>\n",
              "      <td>Dynasty Warriors 6</td>\n",
              "      <td>PS3</td>\n",
              "      <td>2007.0</td>\n",
              "      <td>Action</td>\n",
              "      <td>Tecmo Koei</td>\n",
              "      <td>0.18</td>\n",
              "      <td>0.08</td>\n",
              "      <td>0.41</td>\n",
              "      <td>0.04</td>\n",
              "    </tr>\n",
              "    <tr>\n",
              "      <th>7710</th>\n",
              "      <td>7711</td>\n",
              "      <td>Super Mario Maker</td>\n",
              "      <td>WiiU</td>\n",
              "      <td>2015.0</td>\n",
              "      <td>Platform</td>\n",
              "      <td>Nintendo</td>\n",
              "      <td>1.18M</td>\n",
              "      <td>0.87</td>\n",
              "      <td>0.93</td>\n",
              "      <td>0.2</td>\n",
              "    </tr>\n",
              "    <tr>\n",
              "      <th>13917</th>\n",
              "      <td>13918</td>\n",
              "      <td>The Sum of All Fears</td>\n",
              "      <td>GBA</td>\n",
              "      <td>2002.0</td>\n",
              "      <td>Shooter</td>\n",
              "      <td>Ubisoft</td>\n",
              "      <td>0.03</td>\n",
              "      <td>0.01</td>\n",
              "      <td>0</td>\n",
              "      <td>0</td>\n",
              "    </tr>\n",
              "  </tbody>\n",
              "</table>\n",
              "</div>"
            ],
            "text/plain": [
              "       Unnamed: 0                                               Name Platform  \\\n",
              "15443       15444                Yu-Gi-Oh! The Duelists of the Roses      PS2   \n",
              "890           891                              Hot Wheels Velocity X      GBA   \n",
              "4066         4067                                          Cold Fear       XB   \n",
              "13913       13914                       Sarah: Keeper of the Unicorn       DS   \n",
              "13818       13819  Mega Man Battle Network 5: Team Colonel / Prot...      GBA   \n",
              "14002       14003                  Doraemon: Nobita no Uchuu Eiyuuki      3DS   \n",
              "14692       14693                  Mother Goose no Himitsu no Yakata      PSP   \n",
              "14335       14336                                    Disney Princess      GBA   \n",
              "10892       10893                                   Monster Hunter X      3DS   \n",
              "15474       15475                          Warriors: Legends of Troy     X360   \n",
              "8417         8418                                      Madden NFL 07      PS3   \n",
              "5297         5298                          pro evolution soccer 2011       PC   \n",
              "15530       15531                     Prince of Persia: Rival Swords      Wii   \n",
              "171           172                                       The Warriors      PS2   \n",
              "765           766                                 Super Power League     SNES   \n",
              "5269         5270                                        Custom Robo       GC   \n",
              "10504       10505                  Romance of the Three Kingdoms XII     WiiU   \n",
              "7729         7730                                 Dynasty Warriors 6      PS3   \n",
              "7710         7711                                  Super Mario Maker     WiiU   \n",
              "13917       13918                               The Sum of All Fears      GBA   \n",
              "\n",
              "         Year         Genre                     Publisher NA_Sales EU_Sales  \\\n",
              "15443  2001.0          Misc  Konami Digital Entertainment     1.16     0.91   \n",
              "890    2002.0        Racing                           THQ     0.12     0.04   \n",
              "4066   2005.0        Action                       Ubisoft     0.05     0.01   \n",
              "13913  2009.0     Adventure      DreamCatcher Interactive     0.02        0   \n",
              "13818  2004.0  Role-Playing                        Capcom     0.16     0.06   \n",
              "14002  2015.0        Action                         FuRyu        0        0   \n",
              "14692  2011.0     Adventure                      Quinrose        0        0   \n",
              "14335  2003.0      Platform                           THQ     1.04     0.37   \n",
              "10892  2015.0        Action                        Capcom     0.25     0.19   \n",
              "15474  2011.0        Action                    Tecmo Koei        0     0.04   \n",
              "8417   2006.0        Sports               Electronic Arts     0.47        0   \n",
              "5297   2010.0        Sports  Konami Digital Entertainment        0     0.05   \n",
              "15530  2007.0        Action                       Ubisoft     0.24     0.03   \n",
              "171    2005.0        Action          Take-Two Interactive     0.44     0.02   \n",
              "765    1993.0        Sports                   Hudson Soft        0        0   \n",
              "5269   2004.0  Role-Playing                      Nintendo     0.29     0.07   \n",
              "10504  2012.0      Strategy                    Tecmo Koei        0        0   \n",
              "7729   2007.0        Action                    Tecmo Koei     0.18     0.08   \n",
              "7710   2015.0      Platform                      Nintendo    1.18M     0.87   \n",
              "13917  2002.0       Shooter                       Ubisoft     0.03     0.01   \n",
              "\n",
              "      JP_Sales Other_Sales  \n",
              "15443        0         0.3  \n",
              "890          0           0  \n",
              "4066         0           0  \n",
              "13913        0           0  \n",
              "13818        0           0  \n",
              "14002     0.06           0  \n",
              "14692     0.03           0  \n",
              "14335        0        0.06  \n",
              "10892     2.78        0.04  \n",
              "15474     0.01        0.01  \n",
              "8417      0.01        0.04  \n",
              "5297         0        0.01  \n",
              "15530        0        0.02  \n",
              "171          0        0.07  \n",
              "765       0.17           0  \n",
              "5269         0        0.01  \n",
              "10504     0.02           0  \n",
              "7729      0.41        0.04  \n",
              "7710      0.93         0.2  \n",
              "13917        0           0  "
            ]
          },
          "metadata": {},
          "output_type": "display_data"
        }
      ],
      "source": [
        "#맨위 \n",
        "display( df_target.head(20) )\n",
        "#마지막\n",
        "display( df_target.tail(20) )\n",
        "#무작위\n",
        "display( df_target.sample(20) )"
      ]
    },
    {
      "cell_type": "markdown",
      "metadata": {
        "id": "wWggi-u1FbYS"
      },
      "source": [
        "----\n",
        "----\n",
        "## 프로그램적 분석 ( 자동 분석 프로그램 )\n"
      ]
    },
    {
      "cell_type": "code",
      "execution_count": null,
      "metadata": {
        "id": "kjGQMg_Vo4ev"
      },
      "outputs": [],
      "source": [
        "# 데이터셋 정보 확인\n",
        "#: 컬럼 자료형 , 전체 자료 갯수 , 컬럼 갯수 , 결측치 여부 , 전체 data 크기\n",
        "print_line()\n",
        "print ( \"# 데이터셋 정보 확인\" )\n",
        "print ( df_target.info() )\n",
        "\n",
        "# 컬럼별 통계치 확인\n",
        "print_line()\n",
        "print ( \"#컬럼별 통계특성 확인\" )\n",
        "print ( df_target.describe())\n",
        "\n",
        "\n",
        "# 컬럼 자료형 조회 (dtypes 이용) \n",
        "#df_titanic.dtypes\n",
        "\n",
        "# 데이터의 행열 크기 조회\n",
        "print_line()\n",
        "print( \"# 데이터의 행열 크기 = \" , df_target.shape )\n",
        "\n",
        "# 결측치가 존재하는 컬럼명 조회\n",
        "print_line()\n",
        "print( \"# 컬럼별 결측치 갯수 \")\n",
        "print( df_target.isnull().sum() )\n",
        "\n",
        "print_line()\n",
        "print( \"# 결측치 총 갯수 = \" , df_target.isnull().sum().sum())\n",
        "\n",
        "\n",
        "# 각 컬럼별 값의 비율 조회\n",
        "# 컬럼명 조회\n",
        "print_line()\n",
        "print( \"# 컬럼별 값의 비율 \")\n",
        "list_columns = df_target.columns\n",
        "print (\"컬럼 목록= \" , list_columns)\n",
        "\n",
        "# 컬럼별 값의 비율 조회\n",
        "for tmp_column in list_columns :\n",
        "  df_temp = df_target[tmp_column].value_counts(normalize=True ,dropna = True)\n",
        "  \n",
        "  print_line_s()\n",
        "  print ( \"컬럼명 = \" , tmp_column )\n",
        "  \n",
        "  if len(df_temp) <= 20 :\n",
        "    print ( df_temp )\n",
        "  else :\n",
        "    print ( \"값의 종류가 20개 이상임\" )\n",
        "\n",
        "# 컬럼별 포함된 큭수문자 의 종류 조회\n",
        "print_line()\n",
        "print( \"# 컬럼별 포함된 특수문자 종류 \")\n",
        "regx_특수문자제외한 = r'([^0-9a-zA-Z]+)'\n",
        "for tmp_column in list_columns :\n",
        "\n",
        "  if df_target[tmp_column].dtype == 'object'  :\n",
        "    print ( \"컬럼명 = \" , tmp_column )\n",
        "    \n",
        "    df_rslt = df_target[tmp_column].str.extractall( r'([^0-9a-zA-Z]+)'  )\n",
        "    #display ( type(df_rslt) ) #=> DataFrame \n",
        "\n",
        "    set_rslt = []\n",
        "    for idx in df_target.index :\n",
        "      \n",
        "      # TODO 값이 Nan인 경우의 정규표현식을 조사하지 않도록 한다,\n",
        "      # 우선은 str인 경우만 \n",
        "      tmp_val = df_target.loc[ idx , tmp_column]\n",
        "      if isinstance( tmp_val , str) : \n",
        "        rslt = re.findall ( regx_특수문자제외한 , df_target.loc[ idx , tmp_column] )\n",
        "        set_rslt += rslt \n",
        "      #else :\n",
        "      #  display ( tmp_val )\n",
        "\n",
        "    print( set(set_rslt) )\n",
        "    \n",
        "    print_line_s()\n",
        "\n",
        "\n",
        "# 컬럼별 중복값 확인\n",
        "print_line()\n",
        "print( \"# 컬럼별 중복값 확인 \")\n",
        "for tmp_column in list_columns :\n",
        "  \n",
        "  # 중복값 갯수 조회\n",
        "  tmp_dup_count = df_target[tmp_column].duplicated(keep = False).sum()\n",
        "  \n",
        "  if tmp_dup_count > 0 :\n",
        "    print ( tmp_column , \"컬럼에 중복값\", tmp_dup_count , \"개\" )\n",
        "    #print ( \"index = \" , df_target[tmp_column].duplicated(keep = False)   )\n",
        "    #TODO : 중복값 인덱스 출력\n",
        "  \n",
        "# 중복 데이터 확인\n",
        "print( \"중복 data 갯수\" , df_target.duplicated().sum() )\n",
        "\n",
        "\n",
        "#TODO 컬럼별 값 분포 그래프 표시\n",
        "#Boxplot과 Histogram을 통해서도 이상치 존재 여부를 확인해볼 수 있습니다.\n",
        "\n",
        "\n",
        "\n"
      ]
    },
    {
      "cell_type": "code",
      "execution_count": null,
      "metadata": {
        "id": "cKYZ4wNSqQQI"
      },
      "outputs": [],
      "source": [
        "# 중복 데이터 여부 확인\n",
        "# keep = False : 동일한 중복값이 3개 인 경우 False를 지정해 주지 않은 경우 기본설정은 첫번째 중복값은 중복이 아닌것으로 취급되므로 \n",
        "#                중복데이터 갯수가 2개가 나오게 되므로 \n",
        "#                중복값이 3개로 반환 될 수 있도록 False 설정을 해준다.\n",
        "df_target.duplicated(keep = False).sum()"
      ]
    },
    {
      "cell_type": "code",
      "execution_count": null,
      "metadata": {
        "id": "emIfHR3qjG19"
      },
      "outputs": [],
      "source": [
        "# 중복된 항목을 제거한 이후의 data 갯수 조회\n",
        "len(df_target.drop_duplicates('email'))"
      ]
    },
    {
      "cell_type": "code",
      "execution_count": null,
      "metadata": {
        "id": "R7ZL_N_IFfp6"
      },
      "outputs": [],
      "source": [
        "df_target = df_titanic\n",
        "\n",
        "# 사망자그룹의 비율 계산\n",
        "# value_counts(normalize=True) => 비율 \n",
        "df_temp = df_target['survived'].value_counts(normalize=True ,dropna = True)\n",
        "df_temp"
      ]
    },
    {
      "cell_type": "code",
      "execution_count": null,
      "metadata": {
        "id": "2BEnDC4NF96Z"
      },
      "outputs": [],
      "source": [
        "# 반올림 \n",
        "#: ( 소숫점 2째자리까지 반올림 예제)\n",
        "print (df_temp[0].round(2))"
      ]
    },
    {
      "cell_type": "code",
      "execution_count": null,
      "metadata": {
        "id": "CTGrUO8cFqjd"
      },
      "outputs": [],
      "source": [
        "# 사망자 그룹의 숫자 확인\n",
        "# value_counts()\n",
        "df_temp = df_titanic['survived'].value_counts(dropna = True) # 갯수 구하기\n",
        "df_temp"
      ]
    },
    {
      "cell_type": "code",
      "execution_count": null,
      "metadata": {
        "id": "lK10sml8I3aF"
      },
      "outputs": [],
      "source": [
        "# 사망자 그룹의 비율 확인\n",
        "# ,dropna = True : Nan 값도 포함 할지 여부 \n",
        "df_titanic['survived'].value_counts(normalize=True ,dropna = True)"
      ]
    },
    {
      "cell_type": "markdown",
      "metadata": {
        "id": "JTcx_Em8Dk26"
      },
      "source": [
        "## Feature Engineering\n",
        ": 수학적인 연산과 도메인 지식을 이용하여 raw data로부터 유용한 feature를 도출해 내는 과정"
      ]
    },
    {
      "cell_type": "code",
      "execution_count": null,
      "metadata": {
        "id": "_vnm-8vSDoob"
      },
      "outputs": [],
      "source": [
        "## 범위에 따라 단계 분류한 값을 age_class 컬럼을 생성하여 입력 \n",
        "df_temp = df_titanic\n",
        "\n",
        "bins = [-2, 0, 19, 59, 999]\n",
        "labels = ['unknown','young', 'middle', 'old']\n",
        "df_temp['age_class'] = pd.cut(x=df_temp['age'], bins=bins, labels=labels)\n",
        "df_temp.head(3)"
      ]
    },
    {
      "cell_type": "markdown",
      "metadata": {
        "id": "XJ8EAdbRG4tq"
      },
      "source": [
        "### 각 테이블의 공통된 컬럼명 조회"
      ]
    },
    {
      "cell_type": "code",
      "execution_count": null,
      "metadata": {
        "id": "N9U2eUoxMGXd"
      },
      "outputs": [],
      "source": [
        "# 테이블별 중복 column name 확인\n",
        "all_columns = pd.Series(list(df_patients) + list(df_insuline_test) + list(df_side_effects))\n",
        "all_columns\n",
        "all_columns.duplicated() # 중복여부 배열 \n",
        "all_columns[all_columns.duplicated()]"
      ]
    },
    {
      "cell_type": "markdown",
      "metadata": {
        "id": "8-5hm2YfHDEU"
      },
      "source": [
        "### 테이블 합치기 (수직)"
      ]
    },
    {
      "cell_type": "code",
      "execution_count": null,
      "metadata": {
        "id": "yAWnQxiAzWDo"
      },
      "outputs": [],
      "source": [
        "# (TODO) 테이블 합치기 (수직)\n",
        "\n",
        "# column의 이름 수정\n",
        "df_red.rename(columns = {'total_sulfur-dioxide' : 'total_sulfur_dioxide'}, inplace=True)\n",
        "\n",
        "# 합치려는 데이터셋의 columns가 동일한지 확인\n",
        "set(df_red.columns) == set(df_white.columns)\n",
        "\n",
        "# 하나의 데이터셋으로 통합\n",
        "df = df_white.append(df_red, ignore_index = True)\n",
        "\n",
        "# 잘 합쳐졌는지 확인\n",
        "df.shape"
      ]
    },
    {
      "cell_type": "code",
      "execution_count": null,
      "metadata": {
        "id": "YtjrOaF5ydKl"
      },
      "outputs": [],
      "source": [
        "\n",
        "# (TODO) 테이블 합치기 (수퍙)\n",
        "\n",
        "# (TODO) 컬럼 삭제\n",
        "# (TODO) 컬럼값 정제\n",
        "# (TODO) 컬럼 추가\n",
        "red_color = np.repeat('red', len(df_red))\n",
        "df_red['color'] = red_color\n",
        "df_red.head()\n",
        "\n"
      ]
    },
    {
      "cell_type": "markdown",
      "metadata": {
        "id": "2pLYQGTMGVCG"
      },
      "source": [
        "## 시각화\n"
      ]
    },
    {
      "cell_type": "markdown",
      "metadata": {
        "id": "iBo9Ab8FPHLB"
      },
      "source": [
        "### 한글 폰트 설치\n",
        ": 설치 후 메뉴>런타임>런타임 다시 시작 할 것"
      ]
    },
    {
      "cell_type": "code",
      "execution_count": null,
      "metadata": {
        "id": "E3BBJvgYPMqa"
      },
      "outputs": [],
      "source": [
        "# 한글 폰트 설치 \n",
        "!sudo apt-get install -y fonts-nanum\n",
        "!sudo fc-cache -fv\n",
        "!rm ~/.cache/matplotlib -rf"
      ]
    },
    {
      "cell_type": "code",
      "execution_count": null,
      "metadata": {
        "id": "b8On79EZPSe5"
      },
      "outputs": [],
      "source": [
        "# 폰트 셋팅\n",
        "plt.style.use('ggplot')\n",
        "font = {'size': 12,\n",
        "        'family': 'NanumBarunGothic'}\n",
        "mpl.rc('font', **font)"
      ]
    },
    {
      "cell_type": "markdown",
      "metadata": {
        "id": "8sit_QCTPcRn"
      },
      "source": [
        "----"
      ]
    },
    {
      "cell_type": "code",
      "execution_count": null,
      "metadata": {
        "id": "-e7BEyAAGXWS"
      },
      "outputs": [],
      "source": [
        "# 생존여부, 성별 별 평균요금 df 조회\n",
        "df_temp = df_titanic.groupby( ['survived' ,'sex'] ).mean()\n",
        "df_temp"
      ]
    },
    {
      "cell_type": "code",
      "execution_count": null,
      "metadata": {
        "id": "Ul683_VUV6hW"
      },
      "outputs": [],
      "source": [
        "df_temp"
      ]
    },
    {
      "cell_type": "code",
      "execution_count": null,
      "metadata": {
        "id": "ngcvnUBKVk7B"
      },
      "outputs": [],
      "source": [
        "df_red['color'] = np.repeat('red', len(df_red))\n",
        "df_white['color'] = np.repeat('white', len(df_white))\n",
        "df_temp = df_red.append(df_white)\n",
        "\n",
        "df_temp.groupby('color')['quality'].mean().plot(kind='bar', \n",
        "                                                title='Average Wine Quality by Color', \n",
        "                                                fontsize=13, \n",
        "                                                color=['red', 'blue'], \n",
        "                                                alpha=0.4);"
      ]
    },
    {
      "cell_type": "code",
      "execution_count": null,
      "metadata": {
        "id": "piomSFvPXJCa"
      },
      "outputs": [],
      "source": [
        "counts = df_temp.groupby(['quality', 'color']).count()['pH']\n",
        "counts.plot(kind='bar', color=['red','blue'], title='Counts by Wine Quality and Color', fontsize=15, alpha=0.4);"
      ]
    },
    {
      "cell_type": "code",
      "execution_count": null,
      "metadata": {
        "id": "uOA4XU2EGeKu"
      },
      "outputs": [],
      "source": [
        "df_temp = df_titanic\n",
        "\n",
        "# 막대그래프 표시 \n",
        "df_temp.plot(kind = 'bar')"
      ]
    },
    {
      "cell_type": "code",
      "execution_count": null,
      "metadata": {
        "id": "MGbIQKz6LTrm"
      },
      "outputs": [],
      "source": [
        "df_temp = df_titanic\n",
        "\n",
        "temp = df_temp.groupby(['sex', 'survived'])['fare'].mean().reset_index()\n",
        "fig, ax = plt.subplots(figsize=(8, 6))\n",
        "sns.barplot(data=temp, x='survived', y='fare', hue='sex', ax=ax)\n",
        "ax.set_title(\"생존 여부와 성별에 따른 평균 요금\")\n",
        "ax.set_xticklabels(['Not Survived', 'Survived'])\n",
        "plt.show();"
      ]
    },
    {
      "cell_type": "code",
      "execution_count": null,
      "metadata": {
        "id": "oNoIpM4PMhlp"
      },
      "outputs": [],
      "source": [
        "df_temp = df_titanic\n",
        "\n",
        "fig, ax = plt.subplots(figsize=(8, 8))\n",
        "fig = plt.pie(df_temp['survived'].value_counts(), labels=['No', 'Yes'], autopct='%.2f%%',\n",
        "              textprops={'fontsize':14})\n",
        "plt.title('Survived', fontsize=16)\n",
        "plt.show()"
      ]
    },
    {
      "cell_type": "code",
      "execution_count": null,
      "metadata": {
        "id": "KkuL5VG5M_1l"
      },
      "outputs": [],
      "source": [
        "df_temp = df_titanic\n",
        "\n",
        "fig, ax = plt.subplots(figsize=(8, 6))\n",
        "sns.countplot(x=df_temp['pclass'].values, ax=ax)\n",
        "plt.title('클래스별 수', fontsize=16)\n",
        "plt.show()"
      ]
    },
    {
      "cell_type": "code",
      "execution_count": null,
      "metadata": {
        "id": "-1WsnePlNhfG"
      },
      "outputs": [],
      "source": [
        "sns.countplot(x=df_temp['pclass'].values)"
      ]
    },
    {
      "cell_type": "code",
      "execution_count": null,
      "metadata": {
        "id": "APJ0tXlWNPWo"
      },
      "outputs": [],
      "source": [
        "df_temp['age'].plot(kind='hist', bins=8)"
      ]
    },
    {
      "cell_type": "code",
      "execution_count": null,
      "metadata": {
        "id": "g-wC2vssN8Kq"
      },
      "outputs": [],
      "source": [
        "df_temp = df_titanic\n",
        "\n",
        "bins = np.arange(0, df_temp.age.max()+df_temp.age.max()/8, df_temp.age.max()/8)\n",
        "fig, ax = plt.subplots(figsize=(8, 6))\n",
        "fig = plt.hist(x=df_temp['age'], bins=bins)\n",
        "plt.title('나이 분포', fontsize=16)\n",
        "plt.xlabel('나이')\n",
        "plt.ylabel('수')\n",
        "plt.show()"
      ]
    },
    {
      "cell_type": "code",
      "execution_count": null,
      "metadata": {
        "id": "opAIH7RLPi1p"
      },
      "outputs": [],
      "source": [
        "df_temp = df_red\n",
        "\n",
        "# quality 에 따른 휘발성산의 차이를 scatter plot 으로 확인\n",
        "plt.scatter(df_temp['quality'], df_temp['volatile acidity'])"
      ]
    },
    {
      "cell_type": "code",
      "execution_count": null,
      "metadata": {
        "id": "D0wBc0kTQW2Q"
      },
      "outputs": [],
      "source": [
        "df_temp = df_red\n",
        "\n",
        "# quality 에 따른 평균 휘발성산 확인\n",
        "group_volatile_acidity = df_temp['volatile acidity'].groupby(df_temp['quality'])\n",
        "print(group_volatile_acidity.mean())\n",
        "\n",
        "# plot으로 시각화\n",
        "plt.plot(group_volatile_acidity.mean());"
      ]
    },
    {
      "cell_type": "markdown",
      "metadata": {
        "id": "zlIJGpIzRchP"
      },
      "source": [
        "----\n",
        "# # Data Wrangling (데이터 정제) , Data Preprocessing (데이터 전처리)  \n",
        "  : 실제 작업의 70~80%가 소요 된다고 함 \n",
        "\n",
        "  * 데이터 품질\n",
        "    * 결측값 처리\n",
        "    * 잘못된 값 처리\n",
        "  * 구조적 품질\n",
        "    * 정규화\n",
        "\n"
      ]
    },
    {
      "cell_type": "code",
      "execution_count": null,
      "metadata": {
        "id": "3LBq_pXxUSVD"
      },
      "outputs": [],
      "source": [
        "# DataFrame 복사\n",
        "df_patients_clean = df_patients.copy()"
      ]
    },
    {
      "cell_type": "markdown",
      "metadata": {
        "id": "B3NP_dlDI0Tp"
      },
      "source": [
        "### Missing value (결측값)"
      ]
    },
    {
      "cell_type": "markdown",
      "metadata": {
        "id": "jY0n7eRwr4I3"
      },
      "source": [
        "특정 컬럼의 결측값 갯수 확인"
      ]
    },
    {
      "cell_type": "code",
      "execution_count": null,
      "metadata": {
        "id": "CIiFxka8IyWD"
      },
      "outputs": [],
      "source": [
        "# 환자 데이터 중 키, 몸무게, 체질량지수 컬럼의 결측값 확인\n",
        "df_patients_error_tmp = df_patients[df_patients['키'].isnull() | df_patients['몸무게'].isnull() | df_patients['체질량지수'].isnull()]\n",
        "df_patients_error_tmp.head(3)"
      ]
    },
    {
      "cell_type": "markdown",
      "metadata": {
        "id": "paSOiWb3sBZN"
      },
      "source": [
        "(TODO) 특정 컬럼의 결측값을 수정\n"
      ]
    },
    {
      "cell_type": "markdown",
      "metadata": {
        "id": "2hu2PtrTNRmC"
      },
      "source": [
        "### Outliers (잘못된 값,이상치)  수정\n"
      ]
    },
    {
      "cell_type": "code",
      "execution_count": null,
      "metadata": {
        "id": "HSDuhhc91S6f"
      },
      "outputs": [],
      "source": [
        "# 전처리 작업용 임시 DataFrame 생성\n",
        "df_temp_clean = df_final_revised.copy()\n"
      ]
    },
    {
      "cell_type": "code",
      "execution_count": null,
      "metadata": {
        "id": "CZ5txovIlic2"
      },
      "outputs": [],
      "source": [
        "# DataFrame의 특정 컬럼의 data중에서 cond_sel 조건에 맞는 data를 fix_func 으로 수정 후 수정된 DataFrame을 반환\n",
        "def fix_column_err_value ( df_temp_clean: pd.DataFrame , target_column: '수정할 column 명' \n",
        "                          , cond_sel:'수정 데이터 check 조건' \n",
        "                          , fix_func:'err를 수정할 함수' \n",
        "                          ) -> pd.DataFrame : #'수정된 DataFrame' \n",
        "\n",
        "  # err 조건에 해당하는 data 조회\n",
        "  sri_err = df_temp_clean[ target_column ].apply( cond_sel )\n",
        "\n",
        "  # 조회 결과 확인 \n",
        "  display ( sri_err.sum() )\n",
        "  display ( df_temp_clean.loc[ sri_err ] )\n",
        "\n",
        "\n",
        "  # 오류를 수정 후 data 확인\n",
        "  sri_fixed_col = df_temp_clean.loc[ sri_err ][[target_column]].apply( fix_func ,axis=1)\n",
        "  #display (sri_fixed_col.head(3))\n",
        "\n",
        "  # 오류 수정한 데이터를 전처리 작업용 DataFrame에 반영\n",
        "  df_temp_clean.loc[ sri_err, target_column ] = sri_fixed_col\n",
        "\n",
        "  # 반영 결과 data 확인 \n",
        "  display ( df_temp_clean[sri_err])\n",
        "\n",
        "  # 반영 결과 집계 확인 \n",
        "  sri_err = df_temp_clean[ target_column ].apply( cond_sel )\n",
        "  display ( sri_err.sum() )\n",
        "\n",
        "  return df_temp_clean\n"
      ]
    },
    {
      "cell_type": "markdown",
      "metadata": {
        "id": "Lx1psvVFhJ60"
      },
      "source": [
        "* URL 주소 \n",
        "  : https:// 로 시작 하지 않는 데이터의 앞에 https://를 붙인다. "
      ]
    },
    {
      "cell_type": "code",
      "execution_count": null,
      "metadata": {
        "id": "Sy58Q_ipx0CV"
      },
      "outputs": [],
      "source": [
        "# 오류 검사 조건, 수정 함수, 대상 컬럼 명 \n",
        "target_column = 'Poster_Link'\n",
        "cond_err = lambda x: True if not x.startswith('https://') else False\n",
        "fix_func = lambda x: 'https://' + x\n",
        "\n",
        "# 수정 함수 호출\n",
        "df_result = fix_column_err_value( df_temp_clean , target_column , cond_err, fix_func ) \n",
        "\n"
      ]
    },
    {
      "cell_type": "markdown",
      "metadata": {
        "id": "R99tVHwlLMZm"
      },
      "source": [
        "다른 열의 값을 가지고 와서 합치기"
      ]
    },
    {
      "cell_type": "code",
      "execution_count": null,
      "metadata": {
        "id": "1FGlGzOkLLMU"
      },
      "outputs": [],
      "source": [
        "# 전처리 작업용 임시 DataFrame 생성\n",
        "df_temp_clean = df_final_revised.copy()\n",
        "\n",
        "# 오류 검사 조건, 수정 함수, 대상 컬럼 명 \n",
        "target_column = 'Series_Title'\n",
        "cond_err = lambda x: True \n",
        "\n",
        "# case 01 \n",
        "fix_func = lambda x: df_temp_clean.loc[x.name,\"Runtime\"] + df_temp_clean.loc[x.name,\"Genre\"]\n",
        "\n",
        "# case 02 : 조건 체크 columm 과 변경 column이 다른 경우\n",
        "def fix_func2 ( x ) :\n",
        "  df_temp_clean.loc[x.name,\"Certificate\"] = df_temp_clean.loc[x.name,\"Runtime\"] + df_temp_clean.loc[x.name,\"Genre\"]\n",
        "  return df_temp_clean.loc[x.name,target_column]\n",
        "\n",
        "df_result = fix_column_err_value( df_temp_clean , target_column , cond_err, fix_func2 ) \n",
        "\n",
        "\n"
      ]
    },
    {
      "cell_type": "markdown",
      "metadata": {
        "id": "NSjjmSXtzJgm"
      },
      "source": [
        "특정 컬럼을 필요 없는 문자 삭제 후 int로 타입 변경 \n",
        "\n"
      ]
    },
    {
      "cell_type": "code",
      "execution_count": null,
      "metadata": {
        "id": "UlvbbGRaCP68"
      },
      "outputs": [],
      "source": [
        "# case 01\n",
        "\n",
        "# 전처리 작업용 임시 DataFrame 생성\n",
        "df_temp_clean = df_final_revised.copy()\n",
        "\n",
        "df_temp_clean['Runtime'] = df_temp_clean['Runtime'].str.extract('([0-9]+)').astype('int16')\n",
        "# movie['Runtime'] = movie['Runtime'].str.split().str[0].astype('int16')"
      ]
    },
    {
      "cell_type": "code",
      "execution_count": null,
      "metadata": {
        "id": "XyztzPXPz6LP"
      },
      "outputs": [],
      "source": [
        "# case 02\n",
        "\n",
        "# 전처리 작업용 임시 DataFrame 생성\n",
        "df_temp_clean = df_final_revised.copy()\n",
        "\n",
        "\n",
        "# 오류 검사 조건, 수정 함수, 대상 컬럼 명 \n",
        "target_column = 'Runtime'\n",
        "cond_sel = lambda x: True\n",
        "fix_func = lambda x: re.search( r'([0-9]+)' , x).group(0)\n",
        "\n",
        "# 처리할 값에 대한 예외 처리가 필요한 경우 조건 처리를 포함한 function을 사용하여야 한다. \n",
        "def fix_func2( input ):\n",
        "    if not bool( input ) : \n",
        "      return np.nan\n",
        "    if not isinstance( input ,str ) :\n",
        "      print( type(input)  ,  input)\n",
        "      return np.nan\n",
        "    return re.search( r'([0-9]+)' , input ).group(0)\n",
        "\n",
        "# 수정 함수 호출\n",
        "df_result = fix_column_err_value( df_temp_clean , target_column , cond_sel, fix_func ) \n",
        "df_result.head()"
      ]
    },
    {
      "cell_type": "code",
      "execution_count": null,
      "metadata": {
        "id": "6QzO2lJX7IVk"
      },
      "outputs": [],
      "source": []
    },
    {
      "cell_type": "markdown",
      "metadata": {
        "id": "yfP1fDMV7JCz"
      },
      "source": [
        "# Lecture 에서 따온 특수문자 체크 코드"
      ]
    },
    {
      "cell_type": "code",
      "execution_count": null,
      "metadata": {
        "id": "71VYsY7XNQrJ"
      },
      "outputs": [],
      "source": [
        "reg_con_01 = r'[_,!,.,@#$%()^\\d+]'\n",
        "\n",
        "# 특수 문자가 포함되었는지 여부 체크\n",
        "def has_errors(inputString):\n",
        "  return bool(re.search( reg_con_01 , inputString))\n",
        "\n",
        "\n",
        "# 이름에 섞여 있는 오류 데이터를 확인\n",
        "error_condition = df_patients_clean.이름.apply(has_errors)\n",
        "error_names = df_patients_clean[error_condition]\n",
        "print(error_names)\n",
        "\n",
        "print(\"-------------\")\n",
        "# 코드가 정확하게 오류들을 제거하는지 확인 \n",
        "error_names.이름 = df_patients_clean.이름.str.replace(reg_con_01, '')\n",
        "print(error_names)\n",
        "\n",
        "print(\"-------------\")\n",
        "# 반영\n",
        "df_patients_clean.이름 = df_patients_clean.이름.str.replace(reg_con_01, '')\n",
        "\n",
        "# 반영결과 확인\n",
        "df_patients_clean[error_condition] "
      ]
    },
    {
      "cell_type": "markdown",
      "metadata": {
        "id": "R_ACmc9P7Pfq"
      },
      "source": [
        "### 이메일 형식 체크"
      ]
    },
    {
      "cell_type": "code",
      "execution_count": null,
      "metadata": {
        "id": "a2FNQXUR_CQo"
      },
      "outputs": [],
      "source": [
        "df_discussion_114.head(20)"
      ]
    },
    {
      "cell_type": "code",
      "execution_count": null,
      "metadata": {
        "id": "5wS5ut_z7Y5i"
      },
      "outputs": [],
      "source": [
        "regx_이메일 = r'[0-9a-zA-Z]([-_\\.]?[0-9a-zA-Z])*@[0-9a-zA-Z]([-_\\.]?[0-9a-zA-Z])*\\.[a-zA-Z]{2,3}'\n",
        "regx_핸드폰 = r'\\d{3}-\\d{3,4}-\\d{4}'\n",
        "\n",
        "# 작업 DataFrame 지정\n",
        "df_temp_clean = df_discussion_114.copy()\n",
        "\n",
        "# 오류 검사 조건, 수정 함수, 대상 컬럼 명 \n",
        "target_column = 'email'\n",
        "\n",
        "#cond_sel = lambda x: False if re.search( regx_이메일 , x).group(0) else True\n",
        "def cond_sel (x) :\n",
        "  if isinstance ( x , str ) :\n",
        "   if re.match( regx_이메일 , x) :\n",
        "    return False\n",
        "   else :\n",
        "    return True\n",
        "  else :\n",
        "    # str이 아닌 경우= Nan 인 경우 , 수정 대상으로 체크\n",
        "    return True\n",
        "\n",
        "def fix_func(x) :\n",
        "  # 수정 대상인 경우 (TODO) 알맞은 코딩을 해주어야 함\n",
        "  return \"(TODO) Fix\"\n",
        "\n",
        "\n",
        "# 수정 함수 호출\n",
        "df_result = fix_column_err_value( df_temp_clean , target_column , cond_sel, fix_func ) \n",
        "\n",
        "# 수정 결과 확인\n",
        "display(df_result.head(11))\n",
        "display(df_result.tail(5))"
      ]
    },
    {
      "cell_type": "markdown",
      "metadata": {
        "id": "VlAq9L-87VlZ"
      },
      "source": [
        "### (TODO) 전화번호 형식 체크"
      ]
    },
    {
      "cell_type": "markdown",
      "metadata": {
        "id": "2yWc14r7T-un"
      },
      "source": [
        "### 컬럼의 분리"
      ]
    },
    {
      "cell_type": "code",
      "execution_count": null,
      "metadata": {
        "id": "S_AXgnFiT-Wv"
      },
      "outputs": [],
      "source": [
        "# 환자나이 컬럼 분리\n",
        "# 나이 컬럼에서 숫자만 뽑아내어 int로 변환 후 환자나이 컬럼을 생성 \n",
        "df_patients_clean['환자나이'] = df_patients_clean.나이.str.extract('(\\d+)').astype('int') \n",
        "\n",
        "# 성별 컬럼 분리\n",
        "# 나이 컬럼에서 숫자를 모두 제거 후 성별 컬럼을 생성\n",
        "df_patients_clean['성별'] = df_patients_clean.나이.str.replace(r'[^a-zA-Z]', '', regex=True) #숫자만 삭제 한다.\n",
        "\n",
        "# 기존 나이 컬럼 제거\n",
        "patients_clean = df_patients_clean.drop('나이', axis='columns' )\n"
      ]
    },
    {
      "cell_type": "code",
      "execution_count": null,
      "metadata": {
        "id": "Tj652ctpWqXT"
      },
      "outputs": [],
      "source": [
        "# 성별을 category 데이터 타입으로 변화 , 영어를 한글로 변환\n",
        "patients_clean.성별 = patients_clean.성별.replace({'male':'남', 'female':'여'})\n",
        "patients_clean.성별 = patients_clean.성별.astype('category')"
      ]
    },
    {
      "cell_type": "markdown",
      "metadata": {
        "id": "uFhgIi5bntQ-"
      },
      "source": [
        "## 구조적 문제\n",
        "df1.melt(id_vars='index', value_vars=['A', 'B'])\n",
        "\n",
        "pd.melt(df1, id_vars = 'index', var_name='variable', value_name='value')"
      ]
    },
    {
      "cell_type": "code",
      "execution_count": null,
      "metadata": {
        "id": "RlgvQceWn0AL"
      },
      "outputs": [],
      "source": []
    },
    {
      "cell_type": "markdown",
      "metadata": {
        "id": "g14zLlkMz4cf"
      },
      "source": [
        "# 결과 데이터를 파일로 저장\n"
      ]
    },
    {
      "cell_type": "code",
      "execution_count": null,
      "metadata": {
        "id": "TCv0NsgTz9UN"
      },
      "outputs": [],
      "source": [
        "df.to_csv('winequality_edited.csv', index=False)"
      ]
    }
  ],
  "metadata": {
    "colab": {
      "authorship_tag": "ABX9TyMncZC5h96t+dvJSj3jT/5J",
      "collapsed_sections": [],
      "include_colab_link": true,
      "name": "EDA_001.ipynb",
      "private_outputs": true,
      "provenance": []
    },
    "kernelspec": {
      "display_name": "Python 3.9.12 ('base')",
      "language": "python",
      "name": "python3"
    },
    "language_info": {
      "codemirror_mode": {
        "name": "ipython",
        "version": 3
      },
      "file_extension": ".py",
      "mimetype": "text/x-python",
      "name": "python",
      "nbconvert_exporter": "python",
      "pygments_lexer": "ipython3",
      "version": "3.9.12"
    },
    "vscode": {
      "interpreter": {
        "hash": "cca240df8b4cc966d527f5e5f91069ba19ec750ec1338ff7cbac995a358e55d1"
      }
    }
  },
  "nbformat": 4,
  "nbformat_minor": 0
}
