{
  "nbformat": 4,
  "nbformat_minor": 0,
  "metadata": {
    "colab": {
      "name": "EDA_001.ipynb",
      "private_outputs": true,
      "provenance": [],
      "collapsed_sections": [],
      "authorship_tag": "ABX9TyPgrhDVM66sO+fyfEIgfihS",
      "include_colab_link": true
    },
    "kernelspec": {
      "name": "python3",
      "display_name": "Python 3"
    },
    "language_info": {
      "name": "python"
    }
  },
  "cells": [
    {
      "cell_type": "markdown",
      "metadata": {
        "id": "view-in-github",
        "colab_type": "text"
      },
      "source": [
        "<a href=\"https://colab.research.google.com/github/LamuneGitHub/A001_Python_Test/blob/main/EDA_001.ipynb\" target=\"_parent\"><img src=\"https://colab.research.google.com/assets/colab-badge.svg\" alt=\"Open In Colab\"/></a>"
      ]
    },
    {
      "cell_type": "markdown",
      "source": [
        "----\n",
        "----\n",
        "# # EDA ( Exploratory Data Analysis )( 탐색적 데이터 분석)\n",
        "## 정의\n",
        "> : 탐색적 데이터 분석  \n",
        ": 데이터의 특징을 파악하는것\n",
        "\n",
        "## 목적\n",
        "> : 본격적인 데이터 분석이나 모델링 전에 데이터의 특징을 파악하여 분석 계획을 세우기 위한 기초공사 작업  \n",
        "  : 유의미한 business insight(업무 통찰)을 얻기 위함  \n",
        "  : 시행착오 비용 최소화\n",
        "\n",
        "## 과정 및 방법\n",
        "* Data Description 확인 (데이터 명세서 )  \n",
        "  : 데이터 명세서를 읽어서 데이터의 특성을 이해 \n",
        "\n",
        "* 시각적 분석\n",
        "  * 엑셀등을 이용하여 분석\n",
        "\n",
        "* 프로그램적 분석\n",
        "  * info()\n",
        "  * shape\n",
        "  * description()\n",
        "  * isnull().sum()\n",
        "  * duplicated()\n",
        "  * 기타 프로그램코딩 활용\n",
        "\n",
        "> 목표 (프로그램적 분석의)\n",
        "  * 결측치 확인\n",
        "    * 컬럼별 결측치 비율\n",
        "  * 카테고리 값의 비율\n",
        "  * 가능 범위를 벗어난 값 확인\n",
        "  * 계산값이 틀린 값 확인\n",
        "  * 이상한 문자가 들어간 값 확인\n",
        "  * 중복값\n",
        "\n",
        "* Feature Engineering (변수 가공)\n",
        "* Business Insight (업무 통찰)\n",
        "\n"
      ],
      "metadata": {
        "id": "eK2w9nkJngwV"
      }
    },
    {
      "cell_type": "markdown",
      "source": [
        "# ##과정 및 방법\n",
        "\n",
        "## 기초 셋팅"
      ],
      "metadata": {
        "id": "_YcFlOrHlYP5"
      }
    },
    {
      "cell_type": "code",
      "execution_count": null,
      "metadata": {
        "id": "sbbHYizclHZX"
      },
      "outputs": [],
      "source": [
        "# 구글 드라이브 mount\n",
        "from google.colab import drive\n",
        "drive.mount('/content/drive')\n",
        "\n",
        "#import\n",
        "import re\n",
        "import math\n",
        "import pandas as pd\n",
        "import numpy as np\n",
        "import matplotlib.pyplot as plt\n",
        "import seaborn as sns\n",
        "\n",
        "\n",
        "# 엑셀 파일 로딩\n",
        "df_001 = pd.read_excel(\"https://ds-lecture-data.s3.ap-northeast-2.amazonaws.com/stocks/Travel.xlsx\", sheet_name = \"008770 \")\n",
        "# CSV 파일 로딩\n",
        "df_red = pd.read_csv( \"https://raw.githubusercontent.com/aniruddhachoudhury/Red-Wine-Quality/master/winequality-red.csv\" , sep = \",\")\n",
        "df_white = pd.read_csv( \"https://archive.ics.uci.edu/ml/machine-learning-databases/wine-quality/winequality-white.csv\" , sep = \";\")\n",
        "df_movie = pd.read_csv('https://raw.githubusercontent.com/LamuneGitHub/A001_Python_Test/main/data/movie.csv')\n",
        "df_titanic = sns.load_dataset(\"titanic\")\n",
        "df_patients = pd.read_csv('https://raw.githubusercontent.com/LamuneGitHub/A001_Python_Test/main/data/patients_info.csv')\n",
        "df_insuline_test = pd.read_csv('https://raw.githubusercontent.com/LamuneGitHub/A001_Python_Test/main/data/insuline_test.csv')\n",
        "df_side_effects = pd.read_csv('https://raw.githubusercontent.com/LamuneGitHub/A001_Python_Test/main/data/side_effects.csv')\n"
      ]
    },
    {
      "cell_type": "markdown",
      "source": [
        "##### !Tip\n",
        "\n",
        "* code 뒤에 ; 를 써주면 colab의 결과창 표시가 간단한 버전으로 깔끔하게 나온다. "
      ],
      "metadata": {
        "id": "wp4mNSfRupcN"
      }
    },
    {
      "cell_type": "markdown",
      "source": [
        "## 시각적 탐색\n"
      ],
      "metadata": {
        "id": "hpK2nFeYGyve"
      }
    },
    {
      "cell_type": "code",
      "source": [
        "#pandas에서 DataFrame을 요약해서 표시하지 않도록 설정\n",
        "pd.set_option('display.max_columns', None)\n",
        "pd.set_option('display.max_rows', None)"
      ],
      "metadata": {
        "id": "C77NryEqG1KJ"
      },
      "execution_count": null,
      "outputs": []
    },
    {
      "cell_type": "code",
      "source": [
        "#맨위 3개\n",
        "df_titanic.head(3)"
      ],
      "metadata": {
        "id": "v_0ZzGnyHDVh"
      },
      "execution_count": null,
      "outputs": []
    },
    {
      "cell_type": "code",
      "source": [
        "#마지막 3개\n",
        "df_titanic.tail(3)"
      ],
      "metadata": {
        "id": "2gB5T0gLHGHE"
      },
      "execution_count": null,
      "outputs": []
    },
    {
      "cell_type": "code",
      "source": [
        "#무작위 3개\n",
        "df_titanic.sample(3)"
      ],
      "metadata": {
        "id": "7U6JCPeuHH-a"
      },
      "execution_count": null,
      "outputs": []
    },
    {
      "cell_type": "markdown",
      "source": [
        "\n",
        "## 프로그램적 분석\n"
      ],
      "metadata": {
        "id": "wWggi-u1FbYS"
      }
    },
    {
      "cell_type": "code",
      "source": [
        "# 사망자그룹의 비율 계산\n",
        "# value_counts(normalize=True) => 비율 \n",
        "df_temp = df_titanic['survived'].value_counts(normalize=True)\n",
        "df_temp"
      ],
      "metadata": {
        "id": "R7ZL_N_IFfp6"
      },
      "execution_count": null,
      "outputs": []
    },
    {
      "cell_type": "code",
      "source": [
        "# 소숫점 2째자리까지 반올림\n",
        "print (df_temp[0].round(2))"
      ],
      "metadata": {
        "id": "2BEnDC4NF96Z"
      },
      "execution_count": null,
      "outputs": []
    },
    {
      "cell_type": "code",
      "source": [
        "# 사망자 그룹의 숫자 확인\n",
        "# value_counts()\n",
        "df_temp = df_titanic['survived'].value_counts() # 갯수 구하기\n",
        "df_temp"
      ],
      "metadata": {
        "id": "CTGrUO8cFqjd"
      },
      "execution_count": null,
      "outputs": []
    },
    {
      "cell_type": "markdown",
      "source": [
        "## Feature Engineering\n"
      ],
      "metadata": {
        "id": "JTcx_Em8Dk26"
      }
    },
    {
      "cell_type": "code",
      "source": [
        "## 범위에 따라 단계 분류한 값을 age_class 컬럼을 생성하여 입력 \n",
        "df_temp = df_titanic\n",
        "\n",
        "bins = [-2, 0, 19, 59, 999]\n",
        "labels = ['unknown','young', 'middle', 'old']\n",
        "df_temp['age_class'] = pd.cut(x=df_temp['age'], bins=bins, labels=labels)\n",
        "df_temp.head(3)"
      ],
      "metadata": {
        "id": "_vnm-8vSDoob"
      },
      "execution_count": null,
      "outputs": []
    },
    {
      "cell_type": "code",
      "source": [
        "# 테이블별 중복 column name 확인\n",
        "all_columns = pd.Series(list(df_patients) + list(df_insuline_test) + list(df_side_effects))\n",
        "all_columns\n",
        "all_columns.duplicated() # 중복여부 배열 \n",
        "all_columns[all_columns.duplicated()]"
      ],
      "metadata": {
        "id": "N9U2eUoxMGXd"
      },
      "execution_count": null,
      "outputs": []
    },
    {
      "cell_type": "markdown",
      "source": [
        "## 시각화\n"
      ],
      "metadata": {
        "id": "2pLYQGTMGVCG"
      }
    },
    {
      "cell_type": "code",
      "source": [
        "# 생존여부, 성별 별 평균요금 df 조회\n",
        "df_temp = df_titanic.groupby( ['survived' ,'sex'] ).mean()\n",
        "df_temp"
      ],
      "metadata": {
        "id": "-e7BEyAAGXWS"
      },
      "execution_count": null,
      "outputs": []
    },
    {
      "cell_type": "code",
      "source": [
        "# 막대그래프 표시\n",
        "df_temp.plot( kind = 'bar')"
      ],
      "metadata": {
        "id": "uOA4XU2EGeKu"
      },
      "execution_count": null,
      "outputs": []
    },
    {
      "cell_type": "markdown",
      "source": [
        ""
      ],
      "metadata": {
        "id": "fqrknHdrRVOt"
      }
    },
    {
      "cell_type": "markdown",
      "source": [
        "----\n",
        "----\n",
        "# # Data Wrangling (데이터 정제) , Data Preprocessing (데이터 전처리)  \n",
        "  : 실제 작업의 70~80%가 소요 된다고 함 \n",
        "\n",
        "  * 데이터 품질\n",
        "    * 결측값 처리\n",
        "    * 잘못된 값 처리\n",
        "  * 구조적 품질\n",
        "    * 정규화\n",
        "\n"
      ],
      "metadata": {
        "id": "zlIJGpIzRchP"
      }
    },
    {
      "cell_type": "code",
      "source": [
        "# DataFrame 복사\n",
        "df_patients_clean = df_patients.copy()"
      ],
      "metadata": {
        "id": "3LBq_pXxUSVD"
      },
      "execution_count": null,
      "outputs": []
    },
    {
      "cell_type": "markdown",
      "source": [
        "### Missing value (결측값)"
      ],
      "metadata": {
        "id": "B3NP_dlDI0Tp"
      }
    },
    {
      "cell_type": "code",
      "source": [
        "# 환자 데이터 중 키, 몸무게, 체질량지수 컬럼의 결측값 확인\n",
        "df_patients_error_tmp = df_patients[df_patients['키'].isnull() | df_patients['몸무게'].isnull() | df_patients['체질량지수'].isnull()]\n",
        "df_patients_error_tmp.head(3)"
      ],
      "metadata": {
        "id": "CIiFxka8IyWD"
      },
      "execution_count": null,
      "outputs": []
    },
    {
      "cell_type": "markdown",
      "source": [
        "### 잘못된 값 "
      ],
      "metadata": {
        "id": "2hu2PtrTNRmC"
      }
    },
    {
      "cell_type": "code",
      "source": [
        "reg_con_01 = r'[_,!,.,@#$%()^\\d+]'\n",
        "\n",
        "# 특수 문자가 포함되었는지 여부 체크\n",
        "def has_errors(inputString):\n",
        "  return bool(re.search( reg_con_01 , inputString))\n",
        "\n",
        "\n",
        "# 이름에 섞여 있는 오류 데이터를 확인\n",
        "error_condition = df_patients_clean.이름.apply(has_errors)\n",
        "error_names = df_patients_clean[error_condition]\n",
        "print(error_names)\n",
        "\n",
        "print(\"-------------\")\n",
        "# 코드가 정확하게 오류들을 제거하는지 확인 \n",
        "error_names.이름 = df_patients_clean.이름.str.replace(reg_con_01, '')\n",
        "print(error_names)\n",
        "\n",
        "print(\"-------------\")\n",
        "# 반영\n",
        "df_patients_clean.이름 = df_patients_clean.이름.str.replace(reg_con_01, '')\n",
        "\n",
        "# 반영결과 확인\n",
        "df_patients_clean[error_condition] "
      ],
      "metadata": {
        "id": "71VYsY7XNQrJ"
      },
      "execution_count": null,
      "outputs": []
    },
    {
      "cell_type": "markdown",
      "source": [
        "### 컬럼의 분리"
      ],
      "metadata": {
        "id": "2yWc14r7T-un"
      }
    },
    {
      "cell_type": "code",
      "source": [
        "# 환자나이 컬럼 분리\n",
        "# 나이 컬럼에서 숫자만 뽑아내어 int로 변환 후 환자나이 컬럼을 생성 \n",
        "df_patients_clean['환자나이'] = df_patients_clean.나이.str.extract('(\\d+)').astype('int') \n",
        "\n",
        "# 성별 컬럼 분리\n",
        "# 나이 컬럼에서 숫자를 모두 제거 후 성별 컬럼을 생성\n",
        "df_patients_clean['성별'] = df_patients_clean.나이.str.replace(r'[^a-zA-Z]', '', regex=True) #숫자만 삭제 한다.\n",
        "\n",
        "# 기존 나이 컬럼 제거\n",
        "patients_clean = df_patients_clean.drop('나이', axis='columns' )\n"
      ],
      "metadata": {
        "id": "S_AXgnFiT-Wv"
      },
      "execution_count": null,
      "outputs": []
    },
    {
      "cell_type": "code",
      "source": [
        "# 성별을 category 데이터 타입으로 변화 , 영어를 한글로 변환\n",
        "patients_clean.성별 = patients_clean.성별.replace({'male':'남', 'female':'여'})\n",
        "patients_clean.성별 = patients_clean.성별.astype('category')"
      ],
      "metadata": {
        "id": "Tj652ctpWqXT"
      },
      "execution_count": null,
      "outputs": []
    },
    {
      "cell_type": "markdown",
      "source": [
        "## 구조적 문제\n",
        "df1.melt(id_vars='index', value_vars=['A', 'B'])\n",
        "\n",
        "pd.melt(df1, id_vars = 'index', var_name='variable', value_name='value')"
      ],
      "metadata": {
        "id": "uFhgIi5bntQ-"
      }
    },
    {
      "cell_type": "code",
      "source": [
        ""
      ],
      "metadata": {
        "id": "RlgvQceWn0AL"
      },
      "execution_count": null,
      "outputs": []
    }
  ]
}