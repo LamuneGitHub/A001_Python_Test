{
  "nbformat": 4,
  "nbformat_minor": 0,
  "metadata": {
    "colab": {
      "name": "EDA_001.ipynb",
      "private_outputs": true,
      "provenance": [],
      "collapsed_sections": [],
      "authorship_tag": "ABX9TyOT17cny9lHNoONN2ezsQOL",
      "include_colab_link": true
    },
    "kernelspec": {
      "name": "python3",
      "display_name": "Python 3"
    },
    "language_info": {
      "name": "python"
    }
  },
  "cells": [
    {
      "cell_type": "markdown",
      "metadata": {
        "id": "view-in-github",
        "colab_type": "text"
      },
      "source": [
        "<a href=\"https://colab.research.google.com/github/LamuneGitHub/A001_Python_Test/blob/main/EDA_001.ipynb\" target=\"_parent\"><img src=\"https://colab.research.google.com/assets/colab-badge.svg\" alt=\"Open In Colab\"/></a>"
      ]
    },
    {
      "cell_type": "markdown",
      "source": [
        "# # EDA ( Exploratory Data Analysis )( 탐색적 데이터 분석)\n",
        "## 정의\n",
        "> : 탐색적 데이터 분석  \n",
        ": 데이터의 특징을 파악하는것\n",
        "\n",
        "## 목적\n",
        "> : 본격적인 데이터 분석이나 모델링 전에 데이터의 특징을 파악하여 분석 계획을 세우기 위한 기초공사 작업  \n",
        "  : 유의미한 business insight(업무 통찰)을 얻기 위함  \n",
        "  : 시행착오 비용 최소화\n",
        "\n",
        "## 과정 및 방법\n",
        "* Data Description 확인 (데이터 명세서 )  \n",
        "  : 데이터 명세서를 읽어서 데이터의 특성을 이해 \n",
        "\n",
        "* 시각적 분석\n",
        "  * 엑셀등을 이용하여 분석\n",
        "\n",
        "* 프로그램적 분석\n",
        "  * info()\n",
        "  * shape\n",
        "  * description()\n",
        "  * isnull().sum()\n",
        "  * 기타 프로그램코딩 활용\n",
        "\n",
        "\n",
        "\n",
        "----\n",
        "* Data Preprocessing (데이터 전처리)  \n",
        "  : 실제 작업의 70~80%가 소요 된다고 함 \n",
        "* Feature Engineering (변수 가공)\n",
        "* Business Insight (업무 통찰)\n",
        "\n",
        "----\n",
        "----\n"
      ],
      "metadata": {
        "id": "eK2w9nkJngwV"
      }
    },
    {
      "cell_type": "markdown",
      "source": [
        "# ##과정 및 방법\n",
        "\n",
        "## 기초 셋팅"
      ],
      "metadata": {
        "id": "_YcFlOrHlYP5"
      }
    },
    {
      "cell_type": "code",
      "execution_count": null,
      "metadata": {
        "id": "sbbHYizclHZX"
      },
      "outputs": [],
      "source": [
        "# 구글 드라이브 mount\n",
        "from google.colab import drive\n",
        "drive.mount('/content/drive')\n",
        "\n",
        "#import\n",
        "import pandas as pd\n",
        "import numpy as np\n",
        "import matplotlib.pyplot as plt\n",
        "import seaborn as sns\n",
        "\n",
        "\n",
        "# 엑셀 파일 로딩\n",
        "df_001 = pd.read_excel(\"https://ds-lecture-data.s3.ap-northeast-2.amazonaws.com/stocks/Travel.xlsx\", sheet_name = \"008770 \")\n",
        "# CSV 파일 로딩\n",
        "df_red = pd.read_csv( \"https://raw.githubusercontent.com/aniruddhachoudhury/Red-Wine-Quality/master/winequality-red.csv\" , sep = \",\")\n",
        "df_white = pd.read_csv( \"https://archive.ics.uci.edu/ml/machine-learning-databases/wine-quality/winequality-white.csv\" , sep = \";\")\n",
        "df_movie = pd.read_csv('https://raw.githubusercontent.com/LamuneGitHub/A001_Python_Test/main/data/movie.csv')\n",
        "df_titanic = sns.load_dataset(\"titanic\")\n"
      ]
    },
    {
      "cell_type": "markdown",
      "source": [
        "##### !Tip\n",
        "\n",
        "* code 뒤에 ; 를 써주면 colab의 결과창 표시가 간단한 버전으로 깔끔하게 나온다. "
      ],
      "metadata": {
        "id": "wp4mNSfRupcN"
      }
    },
    {
      "cell_type": "markdown",
      "source": [
        "## 피처 엔지니어링\n"
      ],
      "metadata": {
        "id": "JTcx_Em8Dk26"
      }
    },
    {
      "cell_type": "code",
      "source": [
        "## 범위에 따라 단계 분류한 값을 age_class 컬럼을 생성하여 입력 \n",
        "df_temp = df_titanic\n",
        "\n",
        "bins = [-2, 0, 19, 59, 999]\n",
        "labels = ['unknown','young', 'middle', 'old']\n",
        "df_temp['age_class'] = pd.cut(x=df_temp['age'], bins=bins, labels=labels)\n",
        "df_temp.head(3)"
      ],
      "metadata": {
        "id": "_vnm-8vSDoob"
      },
      "execution_count": null,
      "outputs": []
    }
  ]
}