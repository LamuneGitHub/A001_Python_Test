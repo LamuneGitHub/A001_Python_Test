{
  "cells": [
    {
      "cell_type": "markdown",
      "metadata": {
        "colab_type": "text",
        "id": "view-in-github"
      },
      "source": [
        "<a href=\"https://colab.research.google.com/github/LamuneGitHub/A001_Python_Test/blob/main/python_Test.ipynb\" target=\"_parent\"><img src=\"https://colab.research.google.com/assets/colab-badge.svg\" alt=\"Open In Colab\"/></a>"
      ]
    },
    {
      "cell_type": "code",
      "execution_count": null,
      "metadata": {},
      "outputs": [],
      "source": []
    },
    {
      "cell_type": "code",
      "execution_count": 2,
      "metadata": {},
      "outputs": [
        {
          "ename": "AttributeError",
          "evalue": "module 'pandas_datareader.data' has no attribute 'get_data_google'",
          "output_type": "error",
          "traceback": [
            "\u001b[0;31m---------------------------------------------------------------------------\u001b[0m",
            "\u001b[0;31mAttributeError\u001b[0m                            Traceback (most recent call last)",
            "\u001b[1;32m/Users/lamune/git/git_hub/A001_Python_Test/tst_python.ipynb 셀 3\u001b[0m in \u001b[0;36m<cell line: 17>\u001b[0;34m()\u001b[0m\n\u001b[1;32m     <a href='vscode-notebook-cell:/Users/lamune/git/git_hub/A001_Python_Test/tst_python.ipynb#W2sZmlsZQ%3D%3D?line=15'>16</a>\u001b[0m lst_code \u001b[39m=\u001b[39m  [ \u001b[39m'\u001b[39m\u001b[39m^GSPC\u001b[39m\u001b[39m'\u001b[39m , \u001b[39m'\u001b[39m\u001b[39m^IXIC\u001b[39m\u001b[39m'\u001b[39m , \u001b[39m'\u001b[39m\u001b[39m^KS11\u001b[39m\u001b[39m'\u001b[39m ]\n\u001b[1;32m     <a href='vscode-notebook-cell:/Users/lamune/git/git_hub/A001_Python_Test/tst_python.ipynb#W2sZmlsZQ%3D%3D?line=16'>17</a>\u001b[0m \u001b[39mfor\u001b[39;00m code_tmp \u001b[39min\u001b[39;00m lst_code :\n\u001b[1;32m     <a href='vscode-notebook-cell:/Users/lamune/git/git_hub/A001_Python_Test/tst_python.ipynb#W2sZmlsZQ%3D%3D?line=17'>18</a>\u001b[0m     \u001b[39m# 주가조회 \u001b[39;00m\n\u001b[0;32m---> <a href='vscode-notebook-cell:/Users/lamune/git/git_hub/A001_Python_Test/tst_python.ipynb#W2sZmlsZQ%3D%3D?line=18'>19</a>\u001b[0m     df_주가조회 \u001b[39m=\u001b[39m pdr\u001b[39m.\u001b[39;49mget_data_google( code_tmp , start\u001b[39m=\u001b[39mp_start , end\u001b[39m=\u001b[39mp_end )\n\u001b[1;32m     <a href='vscode-notebook-cell:/Users/lamune/git/git_hub/A001_Python_Test/tst_python.ipynb#W2sZmlsZQ%3D%3D?line=20'>21</a>\u001b[0m     \u001b[39m# 파일로 저장\u001b[39;00m\n\u001b[1;32m     <a href='vscode-notebook-cell:/Users/lamune/git/git_hub/A001_Python_Test/tst_python.ipynb#W2sZmlsZQ%3D%3D?line=21'>22</a>\u001b[0m     df_주가조회\u001b[39m.\u001b[39mto_csv( \u001b[39mf\u001b[39m\u001b[39m'\u001b[39m\u001b[39m(세로)주가(\u001b[39m\u001b[39m{\u001b[39;00mcode_tmp\u001b[39m}\u001b[39;00m\u001b[39m)\u001b[39m\u001b[39m{\u001b[39;00mp_start\u001b[39m}\u001b[39;00m\u001b[39m)~(\u001b[39m\u001b[39m{\u001b[39;00mp_end\u001b[39m}\u001b[39;00m\u001b[39m).csv\u001b[39m\u001b[39m'\u001b[39m)\n",
            "\u001b[0;31mAttributeError\u001b[0m: module 'pandas_datareader.data' has no attribute 'get_data_google'"
          ]
        }
      ],
      "source": [
        "# S&P500 지수 조회 ( ^GSPC )\n",
        "# 나스닥 지수 조회 ( ^IXIC )\n",
        "# KOSPI 지수 조회 ( ^KS11 )\n",
        "\n",
        "from pandas_datareader import data as pdr\n",
        "import yfinance as yf\n",
        "yf.pdr_override() \n",
        "\n",
        "p_start = '1987-01-01'\n",
        "p_end = '2022-09-27'\n",
        "\n",
        "# code_tmp = '^GSPC' \n",
        "# code_tmp = '^IXIC'\n",
        "# code_tmp = '^KS11'\n",
        "\n",
        "lst_code =  [ '^GSPC' , '^IXIC' , '^KS11' ]\n",
        "for code_tmp in lst_code :\n",
        "    # 주가조회 \n",
        "    df_주가조회 = pdr.get_data_google( code_tmp , start=p_start , end=p_end )\n",
        "    pdr.get_data_\n",
        "    \n",
        "    # 파일로 저장\n",
        "    df_주가조회.to_csv( f'(세로)주가({code_tmp}){p_start})~({p_end}).csv') #, index=False)"
      ]
    },
    {
      "cell_type": "code",
      "execution_count": 39,
      "metadata": {},
      "outputs": [
        {
          "name": "stdout",
          "output_type": "stream",
          "text": [
            "row count: 391\n"
          ]
        },
        {
          "data": {
            "text/html": [
              "<div>\n",
              "<style scoped>\n",
              "    .dataframe tbody tr th:only-of-type {\n",
              "        vertical-align: middle;\n",
              "    }\n",
              "\n",
              "    .dataframe tbody tr th {\n",
              "        vertical-align: top;\n",
              "    }\n",
              "\n",
              "    .dataframe thead th {\n",
              "        text-align: right;\n",
              "    }\n",
              "</style>\n",
              "<table border=\"1\" class=\"dataframe\">\n",
              "  <thead>\n",
              "    <tr style=\"text-align: right;\">\n",
              "      <th></th>\n",
              "      <th>POILWTIUSDM</th>\n",
              "    </tr>\n",
              "    <tr>\n",
              "      <th>DATE</th>\n",
              "      <th></th>\n",
              "    </tr>\n",
              "  </thead>\n",
              "  <tbody>\n",
              "    <tr>\n",
              "      <th>2022-03-01</th>\n",
              "      <td>109.852609</td>\n",
              "    </tr>\n",
              "    <tr>\n",
              "      <th>2022-04-01</th>\n",
              "      <td>102.781429</td>\n",
              "    </tr>\n",
              "    <tr>\n",
              "      <th>2022-05-01</th>\n",
              "      <td>110.650455</td>\n",
              "    </tr>\n",
              "    <tr>\n",
              "      <th>2022-06-01</th>\n",
              "      <td>115.649091</td>\n",
              "    </tr>\n",
              "    <tr>\n",
              "      <th>2022-07-01</th>\n",
              "      <td>103.734762</td>\n",
              "    </tr>\n",
              "  </tbody>\n",
              "</table>\n",
              "</div>"
            ],
            "text/plain": [
              "            POILWTIUSDM\n",
              "DATE                   \n",
              "2022-03-01   109.852609\n",
              "2022-04-01   102.781429\n",
              "2022-05-01   110.650455\n",
              "2022-06-01   115.649091\n",
              "2022-07-01   103.734762"
            ]
          },
          "execution_count": 39,
          "metadata": {},
          "output_type": "execute_result"
        }
      ],
      "source": [
        "# 서부 텍사스 중질유(WTI Crude), monthly\n",
        "\n",
        "start_date='1987-01-01'\n",
        "end_date= '2022-09-27'\n",
        "\n",
        "title = '서부텍사스중질유' # 국제 원유가격을 대표\n",
        "code = 'POILWTIUSDM' \n",
        "\n",
        "\n",
        "df_tmp = pdr.get_data_fred(code,  start=start_date )\n",
        "# 파일로 저장\n",
        "df_tmp.to_csv( f'{title}({p_start})~({p_end}).csv') #, index=False)\n",
        "\n",
        "print('row count:', len(df_tmp))\n",
        "df_tmp.tail(5) # 2달 전 데이터"
      ]
    },
    {
      "cell_type": "code",
      "execution_count": 38,
      "metadata": {},
      "outputs": [
        {
          "name": "stdout",
          "output_type": "stream",
          "text": [
            "row count: 391\n"
          ]
        },
        {
          "data": {
            "text/html": [
              "<div>\n",
              "<style scoped>\n",
              "    .dataframe tbody tr th:only-of-type {\n",
              "        vertical-align: middle;\n",
              "    }\n",
              "\n",
              "    .dataframe tbody tr th {\n",
              "        vertical-align: top;\n",
              "    }\n",
              "\n",
              "    .dataframe thead th {\n",
              "        text-align: right;\n",
              "    }\n",
              "</style>\n",
              "<table border=\"1\" class=\"dataframe\">\n",
              "  <thead>\n",
              "    <tr style=\"text-align: right;\">\n",
              "      <th></th>\n",
              "      <th>POILDUBUSDM</th>\n",
              "    </tr>\n",
              "    <tr>\n",
              "      <th>DATE</th>\n",
              "      <th></th>\n",
              "    </tr>\n",
              "  </thead>\n",
              "  <tbody>\n",
              "    <tr>\n",
              "      <th>2022-03-01</th>\n",
              "      <td>107.587826</td>\n",
              "    </tr>\n",
              "    <tr>\n",
              "      <th>2022-04-01</th>\n",
              "      <td>102.755238</td>\n",
              "    </tr>\n",
              "    <tr>\n",
              "      <th>2022-05-01</th>\n",
              "      <td>107.861364</td>\n",
              "    </tr>\n",
              "    <tr>\n",
              "      <th>2022-06-01</th>\n",
              "      <td>111.859545</td>\n",
              "    </tr>\n",
              "    <tr>\n",
              "      <th>2022-07-01</th>\n",
              "      <td>100.318571</td>\n",
              "    </tr>\n",
              "  </tbody>\n",
              "</table>\n",
              "</div>"
            ],
            "text/plain": [
              "            POILDUBUSDM\n",
              "DATE                   \n",
              "2022-03-01   107.587826\n",
              "2022-04-01   102.755238\n",
              "2022-05-01   107.861364\n",
              "2022-06-01   111.859545\n",
              "2022-07-01   100.318571"
            ]
          },
          "execution_count": 38,
          "metadata": {},
          "output_type": "execute_result"
        }
      ],
      "source": [
        "# 두바이유(dubai crude )), monthly\n",
        "\n",
        "start_date='1987-01-01'\n",
        "end_date= '2022-09-27'\n",
        "\n",
        "title = '두바이유' # 국내에서 주로 수입\n",
        "code = 'POILDUBUSDM' \n",
        "\n",
        "\n",
        "df_tmp = pdr.get_data_fred(code,  start=start_date )\n",
        "\n",
        "# 파일로 저장\n",
        "df_tmp.to_csv( f'{title}({p_start})~({p_end}).csv') #, index=False)\n",
        "\n",
        "\n",
        "print('row count:', len(df_tmp))\n",
        "df_tmp.tail(5) # 2달 전 데이터"
      ]
    },
    {
      "cell_type": "code",
      "execution_count": 36,
      "metadata": {},
      "outputs": [
        {
          "data": {
            "text/html": [
              "<div>\n",
              "<style scoped>\n",
              "    .dataframe tbody tr th:only-of-type {\n",
              "        vertical-align: middle;\n",
              "    }\n",
              "\n",
              "    .dataframe tbody tr th {\n",
              "        vertical-align: top;\n",
              "    }\n",
              "\n",
              "    .dataframe thead th {\n",
              "        text-align: right;\n",
              "    }\n",
              "</style>\n",
              "<table border=\"1\" class=\"dataframe\">\n",
              "  <thead>\n",
              "    <tr style=\"text-align: right;\">\n",
              "      <th></th>\n",
              "      <th>USD (PM)</th>\n",
              "    </tr>\n",
              "    <tr>\n",
              "      <th>Date</th>\n",
              "      <th></th>\n",
              "    </tr>\n",
              "  </thead>\n",
              "  <tbody>\n",
              "    <tr>\n",
              "      <th>2022-09-20</th>\n",
              "      <td>1664.15</td>\n",
              "    </tr>\n",
              "    <tr>\n",
              "      <th>2022-09-21</th>\n",
              "      <td>1671.75</td>\n",
              "    </tr>\n",
              "    <tr>\n",
              "      <th>2022-09-22</th>\n",
              "      <td>1671.85</td>\n",
              "    </tr>\n",
              "    <tr>\n",
              "      <th>2022-09-23</th>\n",
              "      <td>1643.55</td>\n",
              "    </tr>\n",
              "    <tr>\n",
              "      <th>2022-09-26</th>\n",
              "      <td>1643.35</td>\n",
              "    </tr>\n",
              "  </tbody>\n",
              "</table>\n",
              "</div>"
            ],
            "text/plain": [
              "            USD (PM)\n",
              "Date                \n",
              "2022-09-20   1664.15\n",
              "2022-09-21   1671.75\n",
              "2022-09-22   1671.85\n",
              "2022-09-23   1643.55\n",
              "2022-09-26   1643.35"
            ]
          },
          "execution_count": 36,
          "metadata": {},
          "output_type": "execute_result"
        }
      ],
      "source": [
        "# 금가격 조회\n",
        "\n",
        "start_date='1987-01-01'\n",
        "end_date= '2022-09-27'\n",
        "\n",
        "title = '금'\n",
        "code = 'LBMA/GOLD'\n",
        "\n",
        "import quandl\n",
        "import pandas as pd\n",
        "\n",
        "quandl_key = '3666KszMm_esaQCBhm5T'\n",
        "quandl.ApiConfig.api_key = quandl_key\n",
        "\n",
        "df_tmp = quandl.get(dataset=code, start_date=start_date, end_date= end_date)\n",
        "\n",
        "df_tmp2 = df_tmp[['USD (PM)']]\n",
        "# 파일로 저장\n",
        "df_tmp2.to_csv( f'{title}({p_start})~({p_end}).csv') #, index=False)\n",
        "\n",
        "df_tmp2.tail()\n"
      ]
    },
    {
      "cell_type": "code",
      "execution_count": 33,
      "metadata": {},
      "outputs": [
        {
          "data": {
            "text/html": [
              "<div>\n",
              "<style scoped>\n",
              "    .dataframe tbody tr th:only-of-type {\n",
              "        vertical-align: middle;\n",
              "    }\n",
              "\n",
              "    .dataframe tbody tr th {\n",
              "        vertical-align: top;\n",
              "    }\n",
              "\n",
              "    .dataframe thead th {\n",
              "        text-align: right;\n",
              "    }\n",
              "</style>\n",
              "<table border=\"1\" class=\"dataframe\">\n",
              "  <thead>\n",
              "    <tr style=\"text-align: right;\">\n",
              "      <th></th>\n",
              "      <th>USD (AM)</th>\n",
              "      <th>USD (PM)</th>\n",
              "    </tr>\n",
              "    <tr>\n",
              "      <th>Date</th>\n",
              "      <th></th>\n",
              "      <th></th>\n",
              "    </tr>\n",
              "  </thead>\n",
              "  <tbody>\n",
              "    <tr>\n",
              "      <th>2022-09-20</th>\n",
              "      <td>1667.90</td>\n",
              "      <td>1664.15</td>\n",
              "    </tr>\n",
              "    <tr>\n",
              "      <th>2022-09-21</th>\n",
              "      <td>1674.45</td>\n",
              "      <td>1671.75</td>\n",
              "    </tr>\n",
              "    <tr>\n",
              "      <th>2022-09-22</th>\n",
              "      <td>1671.85</td>\n",
              "      <td>1671.85</td>\n",
              "    </tr>\n",
              "    <tr>\n",
              "      <th>2022-09-23</th>\n",
              "      <td>1661.45</td>\n",
              "      <td>1643.55</td>\n",
              "    </tr>\n",
              "    <tr>\n",
              "      <th>2022-09-26</th>\n",
              "      <td>1647.00</td>\n",
              "      <td>1643.35</td>\n",
              "    </tr>\n",
              "  </tbody>\n",
              "</table>\n",
              "</div>"
            ],
            "text/plain": [
              "            USD (AM)  USD (PM)\n",
              "Date                          \n",
              "2022-09-20   1667.90   1664.15\n",
              "2022-09-21   1674.45   1671.75\n",
              "2022-09-22   1671.85   1671.85\n",
              "2022-09-23   1661.45   1643.55\n",
              "2022-09-26   1647.00   1643.35"
            ]
          },
          "execution_count": 33,
          "metadata": {},
          "output_type": "execute_result"
        }
      ],
      "source": [
        "# 구리 가격 조회\n",
        "\n",
        "start_date='1987-01-01'\n",
        "end_date= '2022-09-27'\n",
        "\n",
        "title = '구리'\n",
        "code = 'ODA/PCOPP_USD'\n",
        "\n",
        "\n",
        "import quandl\n",
        "import pandas as pd\n",
        "\n",
        "quandl_key = '3666KszMm_esaQCBhm5T'\n",
        "quandl.ApiConfig.api_key = quandl_key\n",
        "\n",
        "df_tmp = quandl.get(dataset=code, start_date=start_date, end_date= end_date)\n",
        "# 파일로 저장\n",
        "df_tmp.to_csv( f'{title}({p_start})~({p_end}).csv') #, index=False)\n",
        "\n",
        "df_tmp2.tail()"
      ]
    },
    {
      "cell_type": "markdown",
      "metadata": {},
      "source": [
        "----"
      ]
    },
    {
      "cell_type": "code",
      "execution_count": 4,
      "metadata": {},
      "outputs": [
        {
          "name": "stdout",
          "output_type": "stream",
          "text": [
            "(2, 3, 5, 7, 11, 13)\n",
            "([2, 3, 5, 7, 11, 13],)\n"
          ]
        },
        {
          "ename": "TypeError",
          "evalue": "__main__.product() argument after ** must be a mapping, not list",
          "output_type": "error",
          "traceback": [
            "\u001b[0;31m---------------------------------------------------------------------------\u001b[0m",
            "\u001b[0;31mTypeError\u001b[0m                                 Traceback (most recent call last)",
            "\u001b[1;32m/Users/lamune/git/git_hub/A001_Python_Test/tst_python.ipynb 셀 2\u001b[0m in \u001b[0;36m<cell line: 9>\u001b[0;34m()\u001b[0m\n\u001b[1;32m      <a href='vscode-notebook-cell:/Users/lamune/git/git_hub/A001_Python_Test/tst_python.ipynb#X13sZmlsZQ%3D%3D?line=5'>6</a>\u001b[0m product (\u001b[39m*\u001b[39mprimes )\n\u001b[1;32m      <a href='vscode-notebook-cell:/Users/lamune/git/git_hub/A001_Python_Test/tst_python.ipynb#X13sZmlsZQ%3D%3D?line=7'>8</a>\u001b[0m product (primes )\n\u001b[0;32m----> <a href='vscode-notebook-cell:/Users/lamune/git/git_hub/A001_Python_Test/tst_python.ipynb#X13sZmlsZQ%3D%3D?line=8'>9</a>\u001b[0m product (\u001b[39m*\u001b[39m\u001b[39m*\u001b[39mprimes )\n",
            "\u001b[0;31mTypeError\u001b[0m: __main__.product() argument after ** must be a mapping, not list"
          ]
        }
      ],
      "source": [
        "primes = [2, 3, 5, 7, 11, 13]\n",
        "\n",
        "def product(*numbers):\n",
        "    print ( numbers)\n",
        "\n",
        "product (*primes )\n",
        "\n",
        "product (primes )\n"
      ]
    },
    {
      "cell_type": "code",
      "execution_count": 4,
      "metadata": {},
      "outputs": [
        {
          "data": {
            "text/plain": [
              "12578"
            ]
          },
          "execution_count": 4,
          "metadata": {},
          "output_type": "execute_result"
        }
      ],
      "source": [
        "tmp = '12,578'\n",
        "\n",
        "#int(tmp.replace(tmp[2], ''))\n",
        "\n",
        "\n",
        "a, b = tmp.split(\",\")\n",
        "int(a+b)"
      ]
    },
    {
      "cell_type": "code",
      "execution_count": 5,
      "metadata": {},
      "outputs": [
        {
          "ename": "ValueError",
          "evalue": "invalid literal for int() with base 10: '12,578'",
          "output_type": "error",
          "traceback": [
            "\u001b[0;31m---------------------------------------------------------------------------\u001b[0m",
            "\u001b[0;31mValueError\u001b[0m                                Traceback (most recent call last)",
            "\u001b[1;32m/Users/lamune/@git/git_hub/A001_Python_Test/tst_python.ipynb 셀 3\u001b[0m in \u001b[0;36m<cell line: 1>\u001b[0;34m()\u001b[0m\n\u001b[0;32m----> <a href='vscode-notebook-cell:/Users/lamune/%40git/git_hub/A001_Python_Test/tst_python.ipynb#X12sZmlsZQ%3D%3D?line=0'>1</a>\u001b[0m \u001b[39mint\u001b[39;49m(\u001b[39mstr\u001b[39;49m(tmp))\n",
            "\u001b[0;31mValueError\u001b[0m: invalid literal for int() with base 10: '12,578'"
          ]
        }
      ],
      "source": [
        "int(str(tmp))"
      ]
    },
    {
      "cell_type": "code",
      "execution_count": null,
      "metadata": {},
      "outputs": [],
      "source": [
        "def trueIndex리스트반환 ( condition ) :\n",
        "\n",
        "    list_True = []\n",
        "    for idx , x in enumerate(condition) :\n",
        "        if x :\n",
        "            list_True.append( idx )\n",
        "    #print ( f\"찾은 idx {list_True}\" )\n",
        "\n",
        "    return list_True"
      ]
    },
    {
      "cell_type": "markdown",
      "metadata": {},
      "source": [
        "----\n",
        "----\n"
      ]
    },
    {
      "cell_type": "code",
      "execution_count": 2,
      "metadata": {
        "colab": {
          "base_uri": "https://localhost:8080/",
          "height": 444
        },
        "id": "ovd812tpdRIz",
        "outputId": "c2111618-49f0-40a6-968b-80a7a73af6d9"
      },
      "outputs": [
        {
          "name": "stdout",
          "output_type": "stream",
          "text": [
            "-4.942712905631211e-13\n",
            "[[-6.00479950e+15  1.04800746e+15  1.30292819e+15]\n",
            " [ 0.00000000e+00  1.41509434e-02 -9.43396226e-03]\n",
            " [ 1.28674275e+15 -2.24573027e+14 -2.79198899e+14]]\n"
          ]
        }
      ],
      "source": [
        "import numpy as np\n",
        "\n",
        "arr_A = np.array( \n",
        "          [ [17,2]\n",
        "         ,[136,33]]\n",
        ")\n",
        "\n",
        "arr_B = np.array( \n",
        "          [ \n",
        "              [3,13,14],\n",
        "              [6,72,28],\n",
        "              [9,2,42]\n",
        "         ]\n",
        ")\n",
        "\n",
        "print( np.linalg.det(arr_B) )\n",
        "print( np.linalg.inv(arr_B) )"
      ]
    },
    {
      "cell_type": "code",
      "execution_count": 3,
      "metadata": {
        "colab": {
          "base_uri": "https://localhost:8080/"
        },
        "id": "Z5vIbnc6cDQF",
        "outputId": "45d83811-60b7-41de-ff32-3d9d0ebddce2"
      },
      "outputs": [
        {
          "name": "stdout",
          "output_type": "stream",
          "text": [
            "[2, -1, 3, 2] [3, 2, 1, -4]\n",
            "-1\n"
          ]
        }
      ],
      "source": [
        "import numpy as np\n",
        "\n",
        "x=[2, -1, 3, 2]\n",
        "y=[3, 2, 1, -4]\n",
        "\n",
        "print ( x, y )\n",
        "\n",
        "arr_x = np.array(x)\n",
        "arr_y = np.array(y)\n",
        "\n",
        "# 내적\n",
        "print ( (arr_x * arr_y).sum() )"
      ]
    },
    {
      "cell_type": "markdown",
      "metadata": {},
      "source": [
        "# typing 라이브러리를 사용한 명시적 함수 정의 "
      ]
    },
    {
      "cell_type": "code",
      "execution_count": 4,
      "metadata": {
        "colab": {
          "base_uri": "https://localhost:8080/",
          "height": 54
        },
        "id": "XzpLOwtnUXJ9",
        "outputId": "d7342f62-dd04-4a4e-be9f-5bd6bfa95424"
      },
      "outputs": [
        {
          "name": "stdout",
          "output_type": "stream",
          "text": [
            "1.725\n"
          ]
        },
        {
          "data": {
            "text/plain": [
              "'\\n=> 1.725\\n'"
            ]
          },
          "execution_count": 4,
          "metadata": {},
          "output_type": "execute_result"
        }
      ],
      "source": [
        "# typing 라이브러리를 사용한 명시적 함수 정의 \n",
        "\n",
        "from typing import List\n",
        "\n",
        "# float 배열을 입력으로 받은 후 float 을 반환함을 명시 \n",
        "def average( L: List[float] ) -> float:\n",
        "\ttotal_sum = 0\n",
        "\tfor item in L :\n",
        "\t\ttotal_sum += item\n",
        "\treturn total_sum / len(L)\n",
        " \n",
        "\n",
        "\n",
        "input_value = [1.4 , 1.6 , 1.9 , 2.0 ]\n",
        "print (average ( input_value )) \n",
        "\n",
        "'''\n",
        "=> 1.725\n",
        "'''"
      ]
    },
    {
      "cell_type": "code",
      "execution_count": null,
      "metadata": {},
      "outputs": [],
      "source": []
    }
  ],
  "metadata": {
    "colab": {
      "authorship_tag": "ABX9TyOWrdGHnJFl9nAp9bsCfpKR",
      "collapsed_sections": [],
      "include_colab_link": true,
      "mount_file_id": "1o86GIBtkSbu7_BL7S9M0Rk88IbvaKO7z",
      "name": "python_Test.ipynb",
      "provenance": []
    },
    "gpuClass": "standard",
    "kernelspec": {
      "display_name": "Python 3.9.12 ('base')",
      "language": "python",
      "name": "python3"
    },
    "language_info": {
      "codemirror_mode": {
        "name": "ipython",
        "version": 3
      },
      "file_extension": ".py",
      "mimetype": "text/x-python",
      "name": "python",
      "nbconvert_exporter": "python",
      "pygments_lexer": "ipython3",
      "version": "3.9.12"
    },
    "vscode": {
      "interpreter": {
        "hash": "cca240df8b4cc966d527f5e5f91069ba19ec750ec1338ff7cbac995a358e55d1"
      }
    }
  },
  "nbformat": 4,
  "nbformat_minor": 0
}
