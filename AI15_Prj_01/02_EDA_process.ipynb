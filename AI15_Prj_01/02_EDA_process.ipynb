{
  "cells": [
    {
      "cell_type": "markdown",
      "metadata": {
        "colab_type": "text",
        "id": "view-in-github"
      },
      "source": [
        "<a href=\"https://colab.research.google.com/github/LamuneGitHub/A001_Python_Test/blob/main/EDA_001.ipynb\" target=\"_parent\"><img src=\"https://colab.research.google.com/assets/colab-badge.svg\" alt=\"Open In Colab\"/></a>"
      ]
    },
    {
      "cell_type": "markdown",
      "metadata": {
        "id": "eK2w9nkJngwV"
      },
      "source": [
        "----\n",
        "----\n",
        "# # EDA ( Exploratory Data Analysis )( 탐색적 데이터 분석)\n",
        "## 정의\n",
        "> : 탐색적 데이터 분석  \n",
        ": 데이터의 특징을 파악하는것\n",
        "\n",
        "## 목적\n",
        "> : 본격적인 데이터 분석이나 모델링 전에 데이터의 특징을 파악하여 분석 계획을 세우기 위한 기초공사 작업  \n",
        "  : 유의미한 business insight(업무 통찰)을 얻기 위함  \n",
        "  : 시행착오 비용 최소화\n",
        "\n",
        "## 수행 과정 및 방법\n",
        "* Data Description 확인 (데이터 명세서 )  \n",
        "  : 데이터 명세서를 읽어서 데이터의 특성을 이해 \n",
        "\n",
        "* 시각적 분석\n",
        "  * 엑셀등을 이용하여 직접 눈으로 특성을 분석\n",
        "\n",
        "* 프로그램적 분석\n",
        "  * 분석 메소드 활용\n",
        "    * info()\n",
        "    * shape\n",
        "    * description()\n",
        "    * isnull().sum()\n",
        "    * duplicated()\n",
        "    * 기타 프로그램코딩 활용\n",
        "  * Feature Engineering \n",
        "  * 시각화\n",
        "\n",
        "> 목표 (프로그램적 분석의)\n",
        "  * 결측치 확인\n",
        "    * 컬럼별 결측치 비율\n",
        "  * 카테고리 값의 비율\n",
        "  * 가능 범위를 벗어난 값 확인\n",
        "  * 계산값이 틀린 값 확인\n",
        "  * 이상한 문자가 들어간 값 확인\n",
        "  * 중복값\n",
        "\n",
        "* Feature Engineering (변수 가공)\n",
        "* Business Insight (업무 통찰)\n",
        "\n"
      ]
    },
    {
      "cell_type": "markdown",
      "metadata": {
        "id": "cdiREaXU_Nv3"
      },
      "source": [
        "# # 프로그램 기본 설정"
      ]
    },
    {
      "cell_type": "code",
      "execution_count": 1,
      "metadata": {
        "id": "4CGT5MxJ_Nv3"
      },
      "outputs": [],
      "source": [
        "# import\n",
        "\n",
        "%matplotlib inline\n",
        "\n",
        "from IPython.display import display\n",
        "\n",
        "import re\n",
        "import math\n",
        "import pandas as pd\n",
        "import numpy as np\n",
        "import matplotlib as mpl\n",
        "import matplotlib.pyplot as plt\n",
        "import seaborn as sns\n",
        "import random\n",
        "\n",
        "import sklearn\n",
        "from sklearn.preprocessing import StandardScaler\n",
        "from sklearn.cluster import KMeans\n",
        "\n",
        "from scipy import stats\n",
        "from scipy.stats import ttest_1samp, ttest_ind\n",
        "\n",
        "\n",
        "\n",
        "#pandas에서 DataFrame을 요약해서 표시하지 않도록 설정\n",
        "pd.set_option('display.max_columns', None)\n",
        "pd.set_option('display.max_rows', None)\n",
        "\n",
        "# head로 표시할 데이터 갯수 \n",
        "print_row_count = 3"
      ]
    },
    {
      "cell_type": "code",
      "execution_count": null,
      "metadata": {
        "id": "v1lTcbaA_Nv5"
      },
      "outputs": [],
      "source": [
        "# # 구글 드라이브 mount\n",
        "# from google.colab import drive\n",
        "# drive.mount('/content/drive');\n"
      ]
    },
    {
      "cell_type": "markdown",
      "metadata": {
        "id": "ShOsCnuJ_Nv6"
      },
      "source": [
        "# # 함수 정의"
      ]
    },
    {
      "cell_type": "code",
      "execution_count": null,
      "metadata": {
        "id": "AJJ_d-I2_Nv6"
      },
      "outputs": [],
      "source": [
        "# 줄 구분 표시 출력 \n",
        "def print_line() :\n",
        "  print (\"\\n------------------------------------------------\")\n",
        "def print_line_m() :\n",
        "  print (\"\\n-----------------------\")\n",
        "def print_line_s() :\n",
        "  print (\"\\n----------\")"
      ]
    },
    {
      "cell_type": "code",
      "execution_count": null,
      "metadata": {
        "id": "xQQ2L_kX_Nv7"
      },
      "outputs": [],
      "source": [
        "# 결측치가 포함된 df를 반환 한다. ( copy 된 data)\n",
        "\"\"\"\n",
        "    str_replace = np.nan # 결측치를 변경할 문자\n",
        "    ,need_replace = False # 결측치 변경이 필요한지 여부 \n",
        "    ,need_drop = False # 결측치 행의 삭제가 필요한지 여부\n",
        "\"\"\"\n",
        "def 결측치행열조회( df_target , str_replace = np.nan , need_replace = False , need_drop = False) :\n",
        "\n",
        "    # 결측치로 인식할 문자열\n",
        "    #str_replace = '-' # 결측치를 변경할 문자\n",
        "    lst_na_str = [ np.NaN , '-' , \"N/A\" 'NA' , 'na', 'NaN' , \"\" ]   # 결측치로 인식할 문자들 \n",
        "\n",
        "    # 조회\n",
        "    cond_tmp1 = df_target.isin(lst_na_str).any( axis= 1)\n",
        "\n",
        "    # isnull()의 결과는 위에 포함 되므로 반복 처리 해 주지 않아도 된다. \n",
        "    \"\"\"\n",
        "    # 빈값 조회\n",
        "    cond_tmp2 = df_target.isnull().any(axis= 1)\n",
        "\n",
        "    # 빈값 이거나, 빈값 문자열인 경우\n",
        "    cond_tmp3 = cond_tmp1 | cond_tmp2\n",
        "\n",
        "    set_1 = set(trueIndex리스트반환( cond_tmp1 ))\n",
        "    set_2 = set(trueIndex리스트반환( cond_tmp2 ))\n",
        "\n",
        "    print ( set_1 > set_2 )\n",
        "    print ( set_1 == set_2 )\n",
        "    print ( set_1 < set_2 )\"\"\"\n",
        "\n",
        "    # 결측치가 포함된 컬럼명 조회\n",
        "    sri_tmp = df_target.isin(lst_na_str).any()\n",
        "    list_col = sri_tmp[sri_tmp == True].index\n",
        "\n",
        "    # 작업 Df 생성\n",
        "    df_tmp = df_target[cond_tmp1][list_col].copy()\n",
        "    #display ( df_tmp  )\n",
        "    #display ( df_target[cond_tmp1][list_col]  )\n",
        "\n",
        "    # 출력\n",
        "    print ( f\"결측치가 포함된 Data 갯수 {len(df_tmp)} / { len(df_target)} \" )\n",
        "    print ( f\"각 컬럼별 결측치 갯수\")\n",
        "    print ( f\"{df_tmp.isin(lst_na_str).sum()}\")\n",
        "\n",
        "    # (TODO)결측치로 인식한 문자열을  str_replace 으로 변경\n",
        "    if need_replace :\n",
        "        df_tmp.replace( np.nan , str_replace , inplace=True)\n",
        "\n",
        "    # 결측치 행 삭제\n",
        "    if need_drop :\n",
        "        df_target.drop(df_tmp.index , inplace=True)\n",
        "\n",
        "    return df_tmp"
      ]
    },
    {
      "cell_type": "code",
      "execution_count": null,
      "metadata": {
        "id": "iroXNnHn_Nv9"
      },
      "outputs": [],
      "source": [
        "# EDA 기본정보 자동 분석 함수\n",
        "def eda_info (df_param, need_category = False , category_count = 20) :\n",
        "\n",
        "  df_target = df_param\n",
        "  \n",
        "  # df 변형이 필요한 경우 copy \n",
        "  if need_category :\n",
        "    df_target = df_param.copy()\n",
        "  \n",
        "  list_columns = df_target.columns\n",
        "\n",
        "  # 데이터셋 정보 확인\n",
        "  #: 컬럼 자료형 , 전체 자료 갯수 , 컬럼 갯수 , 결측치 여부 , 전체 data 크기\n",
        "  print_line()\n",
        "  print ( \"# 데이터셋 정보 확인\" )\n",
        "  print ( df_target.info() )\n",
        "\n",
        "\n",
        "  # 컬럼 자료형 조회 (dtypes 이용) \n",
        "  #df_titanic.dtypes\n",
        "\n",
        "\n",
        "  # 데이터의 행열 크기 조회\n",
        "  print_line()\n",
        "  print( \"# 데이터의 행열 크기 = \" , df_target.shape )\n",
        "\n",
        "\n",
        "  # 결측치가 존재하는 컬럼명 조회\n",
        "  print_line()\n",
        "  \"\"\"\n",
        "  print( \"# 컬럼별 결측치 갯수 \")\n",
        "  print( df_target.isnull().sum() )\n",
        "\n",
        "  print_line()\n",
        "  print( \"# 결측치 총 갯수 = \" , df_target.isnull().sum().sum())\n",
        "  \"\"\"\n",
        "  df_null = 결측치행열조회( df_target )\n",
        "  print ( df_null.head(print_row_count) )\n",
        "\n",
        "\n",
        "  # 컬럼별 중복값 확인\n",
        "  print_line()\n",
        "  print( \"# 컬럼별 중복값 확인 \")\n",
        "  for tmp_column in list_columns :\n",
        "    # 중복값 갯수 조회\n",
        "    tmp_dup_count = df_target[tmp_column].duplicated(keep = False).sum()\n",
        "    \n",
        "    if tmp_dup_count > 0 :\n",
        "      print ( tmp_column , \"컬럼에 중복값\", tmp_dup_count , \"개\" )\n",
        "      #print ( \"index = \" , df_target[tmp_column].duplicated(keep = False)   )\n",
        "      #TODO : 중복값 인덱스 출력\n",
        "    \n",
        "  # 중복 데이터 확인\n",
        "  print( \"중복 data 갯수(전체)\" , df_target.duplicated(keep = False).sum() )\n",
        "  print( \"중복 data \" , df_target[df_target.duplicated(keep = False)].head(print_row_count) )\n",
        "\n",
        "\n",
        "  # 각 컬럼별 값의 비율 조회\n",
        "  # 컬럼명 조회\n",
        "  print_line()\n",
        "  print( \"# 컬럼별 값의 비율 \")\n",
        "  print (\"컬럼 목록= \" , list_columns)\n",
        "\n",
        "  # 컬럼별 값의 비율 조회\n",
        "  list_category_col_name = [] # 카테고리화 가능할 것으로 예상되는 컬럼명\n",
        "  for tmp_column in list_columns :\n",
        "    df_temp = df_target[tmp_column].value_counts(normalize=True ,dropna = True)\n",
        "    \n",
        "    print_line_s()\n",
        "    print ( f\"컬럼명 = {tmp_column} , 값의종류 갯수 = {len(df_temp)} \" )\n",
        "    \n",
        "    if len(df_temp) <= category_count :\n",
        "      list_category_col_name.append( tmp_column )\n",
        "      print ( \"Category 가능성 있음\")\n",
        "      print ( df_temp )\n",
        "    #else :\n",
        "      #print ( \"값의 종류가 20개 이상임\" )\n",
        "\n",
        "\n",
        "  # 카테고리화 가능한 컬럼은 카테고리화 진행 \n",
        "  if need_category :\n",
        "    print ( \"카테고리화 진행\")\n",
        "    for col_name in list_category_col_name :\n",
        "      df_target[col_name] = df_target[col_name].astype('category')\n",
        "\n",
        "\n",
        "  # 컬럼별 통계치 확인\n",
        "  print_line()\n",
        "  print ( \"#컬럼별 통계특성 확인\" )\n",
        "  print ( df_target.describe())\n",
        "\n",
        "\n",
        "  # 컬럼별 포함된 큭수문자 의 종류 조회\n",
        "  print_line()\n",
        "  print( \"# 컬럼별 포함된 특수문자 종류 \")\n",
        "  regx_특수문자제외한 = r'([^0-9a-zA-Z]+)'\n",
        "  for tmp_column in list_columns :\n",
        "\n",
        "    if df_target[tmp_column].dtype == 'object'  :\n",
        "      print ( \"컬럼명 = \" , tmp_column )\n",
        "      \n",
        "      df_rslt = df_target[tmp_column].str.extractall( r'([^0-9a-zA-Z]+)'  )\n",
        "      #display ( type(df_rslt) ) #=> DataFrame \n",
        "\n",
        "      set_rslt = []\n",
        "      for idx in df_target.index :\n",
        "        \n",
        "        # TODO 값이 Nan인 경우의 정규표현식을 조사하지 않도록 한다,\n",
        "        # 우선은 str인 경우만 \n",
        "        tmp_val = df_target.loc[ idx , tmp_column]\n",
        "        if isinstance( tmp_val , str) : \n",
        "          rslt = re.findall ( regx_특수문자제외한 , df_target.loc[ idx , tmp_column] )\n",
        "          set_rslt += rslt \n",
        "        #else :\n",
        "        #  display ( tmp_val )\n",
        "\n",
        "      print( set(set_rslt) )\n",
        "      \n",
        "      print_line_s()\n",
        "\n",
        "\n",
        "  # category 컬럼의 각 값 별 갯수와 비율 조회\n",
        "  print_line()\n",
        "  print ( \"#category 타입 컬럼의 각 값 갯수와 비율 조회\" )\n",
        "  list_category_col_name = df_target.dtypes[df_target.dtypes.values == 'category'].index.tolist() \n",
        "  for col_name in list_category_col_name :\n",
        "    sri_a = df_target[col_name].value_counts(dropna = True)\n",
        "    sri_b = df_target[col_name].value_counts(normalize=True ,dropna = True)\n",
        "    df_a = sri_a.to_frame( name = 'count')\n",
        "    df_b = sri_b.to_frame( name = 'ratio')\n",
        "\n",
        "    print (f\"컬럼명 = {col_name} \")\n",
        "    print ( df_a.join( df_b ) )\n",
        "    print_line_s()\n",
        "\n",
        "  #TODO 컬럼별 값 분포 그래프 표시\n",
        "  #Boxplot과 Histogram을 통해서도 이상치 존재 여부를 확인해볼 수 있습니다.\n",
        "\n",
        "  return df_target"
      ]
    },
    {
      "cell_type": "code",
      "execution_count": null,
      "metadata": {
        "id": "FDEdUGA5_Nv_"
      },
      "outputs": [],
      "source": [
        "# 숫자와 . 이외에 어떤 문자가 들어가 있는지 확인 하고 문제가 있는 Data를 df 형식으로 반환\n",
        "# \n",
        "def 숫자이외의문자확인 (df_target , list_columns ) :\n",
        "  list_err_idx = []\n",
        "  regx_숫자를제외한 = r'([^0-9.]+)'\n",
        "  for tmp_column in list_columns :\n",
        "\n",
        "    if df_target[tmp_column].dtype == 'object'  :\n",
        "      print ( \"컬럼명 = \" , tmp_column )\n",
        "      \n",
        "      df_rslt = df_target[tmp_column].str.extractall( regx_숫자를제외한  )\n",
        "      #display ( type(df_rslt) ) #=> DataFrame \n",
        "\n",
        "      list_err_str = [] \n",
        "      for idx in df_target.index :\n",
        "        tmp_val = df_target.loc[ idx , tmp_column]\n",
        "\n",
        "        # TODO 값이 Nan인 경우의 정규표현식을 조사하지 않도록 하는 조건 추가\n",
        "        # 우선은 str인 경우만 체크 진행 하도록 하였음\n",
        "        if isinstance( tmp_val , str) : \n",
        "\n",
        "          rslt = re.findall ( regx_숫자를제외한 , df_target.loc[ idx , tmp_column] )\n",
        "          if len(rslt) != 0 :\n",
        "            list_err_str += rslt\n",
        "            list_err_idx.append( idx )\n",
        "\n",
        "        #else :\n",
        "        #  display ( tmp_val )\n",
        "\n",
        "      print( set(list_err_str) )\n",
        "      \n",
        "      print_line_s()\n",
        "\n",
        "  err_idx = sorted( set(list_err_idx)) \n",
        "\n",
        "  # err 데이터 반환\n",
        "  return df_target.loc[err_idx]"
      ]
    },
    {
      "cell_type": "code",
      "execution_count": null,
      "metadata": {
        "id": "L7oms61M_NwA"
      },
      "outputs": [],
      "source": [
        "# DataFrame의 특정 컬럼의 data중에서 cond_sel 조건에 맞는 data를 fix_func 으로 수정 후 수정된 DataFrame을 반환\n",
        "def fix_column_err_value ( df_temp_clean: pd.DataFrame , target_column: '수정할 column 명' \n",
        "                          , cond_sel:'수정 데이터 check 조건' \n",
        "                          , fix_func:'err를 수정할 함수' \n",
        "                          ) -> pd.DataFrame : #'수정된 DataFrame' \n",
        "\n",
        "    # err 조건에 해당하는 data 조회\n",
        "    sri_err = df_temp_clean[ target_column ].apply( cond_sel )\n",
        "\n",
        "    # 조회 결과 확인 \n",
        "    display ( \"수정전\")\n",
        "    display ( sri_err.sum() )\n",
        "    display ( df_temp_clean.loc[ sri_err ].head(print_row_count) )\n",
        "\n",
        "\n",
        "    # 오류를 수정 후 data 확인\n",
        "    #(TODO) sri_fixed_col = df_temp_clean.loc[ sri_err ][[target_column]].apply( fix_func ,axis=1)\n",
        "    sri_fixed_col = df_temp_clean.loc[ sri_err ][target_column].apply( fix_func )\n",
        "    #display (sri_fixed_col.head(3))\n",
        "\n",
        "    # 오류 수정한 데이터를 전처리 작업용 DataFrame에 반영\n",
        "    df_temp_clean.loc[ sri_err, target_column ] = sri_fixed_col\n",
        "\n",
        "    # 반영 결과 data 확인 \n",
        "    display ( \"반영결과\")\n",
        "    display ( df_temp_clean[sri_err].head(print_row_count))\n",
        "\n",
        "    # # 반영 결과 집계 확인 \n",
        "    # sri_err = df_temp_clean[ target_column ].apply( cond_sel )\n",
        "    # display ( sri_err.sum() )\n",
        "\n",
        "    return df_temp_clean"
      ]
    },
    {
      "cell_type": "markdown",
      "metadata": {
        "id": "njE4KiL7H1v6"
      },
      "source": [
        "## 작업 DataFrame 지정"
      ]
    },
    {
      "cell_type": "code",
      "execution_count": null,
      "metadata": {
        "id": "sbbHYizclHZX"
      },
      "outputs": [],
      "source": [
        "# 데이터 로딩\n",
        "\n",
        "# # 엑셀 파일 로딩\n",
        "# df_001 = pd.read_excel(\"https://ds-lecture-data.s3.ap-northeast-2.amazonaws.com/stocks/Travel.xlsx\", sheet_name = \"008770 \")\n",
        "# # CSV 파일 로딩\n",
        "# df_red = pd.read_csv( \"https://raw.githubusercontent.com/aniruddhachoudhury/Red-Wine-Quality/master/winequality-red.csv\" , sep = \",\")\n",
        "# df_white = pd.read_csv( \"https://archive.ics.uci.edu/ml/machine-learning-databases/wine-quality/winequality-white.csv\" , sep = \";\")\n",
        "\n",
        "# df_titanic = sns.load_dataset(\"titanic\")\n",
        "\n",
        "# df_patients = pd.read_csv('https://raw.githubusercontent.com/LamuneGitHub/A001_Python_Test/main/data/patients_info.csv')\n",
        "# df_insuline_test = pd.read_csv('https://raw.githubusercontent.com/LamuneGitHub/A001_Python_Test/main/data/insuline_test.csv')\n",
        "\n",
        "# df_final_revised = pd.read_csv('https://raw.githubusercontent.com/LamuneGitHub/A001_Python_Test/main/data/final_revised.csv')\n",
        "# df_movie = pd.read_csv('https://raw.githubusercontent.com/LamuneGitHub/A001_Python_Test/main/data/movie.csv')\n",
        "\n",
        "# df_discussion_114 = pd.read_csv('https://raw.githubusercontent.com/LamuneGitHub/A001_Python_Test/main/data/Discussion_114.csv')\n",
        "\n",
        "\n",
        "\n",
        "# df_data = pd.read_csv('서울시_기간별_시간평균_대기환경_정보_2020.03.csv', encoding='euc-kr', usecols=['측정일시', '측정소명', '오존(ppm)'])\n",
        "\n",
        "# read_csv 파라미터\n",
        "\"\"\"    ,sep=','\n",
        "    ,encoding='cp949' , encoding='euc-kr' , encoding='ISO-8859-1'\n",
        "    , usecols=['측정일시', '측정소명', '오존(ppm)']\n",
        "    , header=0 \n",
        "    , index_col=0\n",
        "\"\"\""
      ]
    },
    {
      "cell_type": "markdown",
      "metadata": {
        "id": "_YcFlOrHlYP5"
      },
      "source": [
        "----\n",
        "----\n",
        "# # EDA 수행"
      ]
    },
    {
      "cell_type": "code",
      "execution_count": null,
      "metadata": {
        "id": "yDWB-dM5_gxv"
      },
      "outputs": [],
      "source": [
        "# Data 로드\n",
        "df_tmp = pd.read_csv( \"https://raw.githubusercontent.com/LamuneGitHub/AI15_Prj_01/main/vgames2.csv\" , sep=\",\"  , header=0  , index_col=0 ) \n",
        "df_target = df_tmp"
      ]
    },
    {
      "cell_type": "markdown",
      "metadata": {
        "id": "hpK2nFeYGyve"
      },
      "source": [
        "## 1. 시각적 EDA 수행"
      ]
    },
    {
      "cell_type": "code",
      "execution_count": null,
      "metadata": {
        "id": "v_0ZzGnyHDVh"
      },
      "outputs": [],
      "source": [
        "\n",
        "#맨위 \n",
        "display( df_target.head(print_row_count) )\n",
        "#마지막\n",
        "display( df_target.tail(print_row_count) )\n",
        "#무작위\n",
        "display( df_target.sample(print_row_count) )\n"
      ]
    },
    {
      "cell_type": "markdown",
      "metadata": {
        "id": "HLauPO9C_NwC"
      },
      "source": [
        "----\n"
      ]
    },
    {
      "cell_type": "markdown",
      "metadata": {
        "id": "DOAjm9kh_NwD"
      },
      "source": [
        "## 2. 프로그램적 EDA 진행 기록"
      ]
    },
    {
      "cell_type": "markdown",
      "metadata": {
        "id": "R9rf8nI6_NwD"
      },
      "source": [
        "## 2.1 프로그램을 사용하여 데이터 특성 분석"
      ]
    },
    {
      "cell_type": "code",
      "execution_count": null,
      "metadata": {
        "id": "AUnc0eF6_NwD"
      },
      "outputs": [],
      "source": [
        "# 데이터 자동확인 리포트 함수 수행 \n",
        "#\n",
        "# 자동 카테고리화 진행\n",
        "df_target = eda_info (df_target, need_category= True , category_count = 50) \n",
        "print( df_target.info() ) # 자동 카테고리화 이후의 결과 확인\n",
        "display( df_target.head(print_row_count) ) # 자동 카테고리화 이후의 결과 확인"
      ]
    },
    {
      "cell_type": "markdown",
      "metadata": {
        "id": "0nK2I5kh_NwD"
      },
      "source": [
        "## 2.2 데이터 정제\n",
        "  \n",
        "    반복 {\n",
        "        2.2.1 문제점 리스팅\n",
        "        2.2.2 문제점 해결\n",
        "               & 결과 확인 \n",
        "    }"
      ]
    },
    {
      "cell_type": "code",
      "execution_count": null,
      "metadata": {
        "id": "RGD68ebr_NwE"
      },
      "outputs": [],
      "source": [
        "# 도출된 문제점 수정\n",
        "\n",
        "\n",
        "#(v) 결측치 확인, 처리  -> 삭제 , 357 / 16598\n",
        "df_null = 결측치행열조회(df_target, need_drop = True   )\n",
        "\n",
        "#(v) Name 중복 컬럼 확인 -> OK\n",
        "\"\"\"\n",
        "df_target[df_target['Name'].duplicated(keep = False)]\n",
        "df_target[df_target['Name'] == \"Candace Kane's Candy Factory\"]\n",
        "\"\"\"\n",
        "\n",
        "#(v) 중복값 삭제 -> 1개 삭제\n",
        "df_target.drop_duplicates(inplace=True)\n",
        "\n",
        "# Year 수정 별도로 좀 더 자세히 하는것으로 변경 하였음 ( 아래 확인 )\n",
        "\"\"\"\n",
        "#(v) Year 값이 0 인 이상치 수정. -> 3개 , 매출값도 크지 않음 -> 삭제\n",
        "cond_tmp = df_target['Year'] == 0\n",
        "len (df_target[cond_tmp])\n",
        "df_target.drop(df_target[cond_tmp].index, inplace=True)\n",
        "\"\"\"\n",
        "#(v) Year -> int 로 수정\n",
        "#(TODO) float 컬럼의 값이 모두 .0 형식(int) 형식인지 체크  \n",
        "# int로 type변경\n",
        "df_target['Year'] = df_target['Year'].astype( 'int')\n",
        "\n",
        "#(v) Publisher 컬럼 필요 없으므로 Drop\n",
        "#(v) Name 컬럼 필요 없으므로 Drop\n",
        "df_target.drop( ['Publisher','Name' ] , axis='columns' , inplace=True)\n",
        "\n",
        "# 데이터 재 확인\n",
        "# df_target = eda_info (df_target) \n"
      ]
    },
    {
      "cell_type": "code",
      "execution_count": null,
      "metadata": {
        "id": "sl4_eVuo_NwE"
      },
      "outputs": [],
      "source": [
        "# # df 백업\n",
        "# df_backup_copy = df_target.copy()"
      ]
    },
    {
      "cell_type": "code",
      "execution_count": null,
      "metadata": {
        "id": "YK6IYhxQ_NwE"
      },
      "outputs": [],
      "source": [
        "# df 복원\n",
        "#df_target = df_backup_copy.copy()"
      ]
    },
    {
      "cell_type": "code",
      "execution_count": null,
      "metadata": {
        "id": "CPyz1vI1_NwE"
      },
      "outputs": [],
      "source": [
        "#[v] Sales 컬럼에 들어있는 특수 문자 , 영문자 확인 및 삭제 , int로 변환\n",
        "\n",
        "# 이름에 Sales 가 포함된 컬럼을 대상으로 함 \n",
        "list_sales_col_name = [ col for col in df_target.columns if col.find(\"Sales\") != -1  ]  \n",
        "print  (list_sales_col_name )\n",
        "list_columns = list_sales_col_name\n",
        "\n",
        "# 컬럼에 숫자 이외의 문자가 있는지 여부 확인\n",
        "숫자이외의문자확인 (df_target , list_columns );\n"
      ]
    },
    {
      "cell_type": "code",
      "execution_count": null,
      "metadata": {
        "id": "YKY2MwUQ_NwF"
      },
      "outputs": [],
      "source": [
        "# K가 들어가 있는 컬럼은 * 1000 \n",
        "# M이 들어가 있는 컬럼은 * 10000000  = 10^6\n",
        "# K와 Md이 없는 컬럼은 M과 똑같이 * 1000000 = 10^6\n",
        "#   해준후 int로 컬럼 data type을 변경한다.\n",
        "\n",
        "# err 데이터 확인\n",
        "#print( df_target.loc[err_idx] )\n",
        "\n",
        "# 오류 검사 조건, 수정 함수, 대상 컬럼 명 \n",
        "cond_all = lambda x: True \n",
        "#cond_contain_M = lambda x: True if re.search( 'M' , x).group(0) else False \n",
        "\n",
        "# err 수정 function.\n",
        "def fix_func( x ):\n",
        "  fix_value = x\n",
        "  try:\n",
        "\n",
        "    if re.search( 'K' , x ) :\n",
        "      fix_value = x.replace ( \"K\" , \"\" )\n",
        "      fix_value = float(fix_value) * 10**3    \n",
        "    elif re.search( 'M' , x ) :\n",
        "      fix_value = x.replace ( \"M\" , \"\" )\n",
        "      fix_value = float(fix_value) * 10**6\n",
        "    else :\n",
        "      fix_value = float(fix_value) * 10**6\n",
        "\n",
        "    fix_value = int(fix_value)\n",
        "    return fix_value\n",
        "  except Exception:\n",
        "    print( f\"에러 발생 {x} , { type( x )} \")\n",
        "\n",
        "# 수정 함수 호출\n",
        "for target_column in list_columns :\n",
        "  df_target = fix_column_err_value( df_target , target_column , cond_all, fix_func ) "
      ]
    },
    {
      "cell_type": "code",
      "execution_count": null,
      "metadata": {
        "id": "Km_2_ilY_NwF"
      },
      "outputs": [],
      "source": [
        "a = 숫자이외의문자확인 (df_target , list_columns )"
      ]
    },
    {
      "cell_type": "code",
      "execution_count": null,
      "metadata": {
        "id": "oQCRtkuJ_NwF"
      },
      "outputs": [],
      "source": [
        "# 데이터 클리닝 결과 재확인\n",
        "df_target = eda_info (df_target) "
      ]
    },
    {
      "cell_type": "code",
      "execution_count": null,
      "metadata": {
        "id": "YHPhfNs8_NwF"
      },
      "outputs": [],
      "source": [
        "#(v) Year 최저 값이 이상한 것을 발견 하였음 \n",
        "print( sorted(df_target.Year.unique()) )"
      ]
    },
    {
      "cell_type": "code",
      "execution_count": null,
      "metadata": {
        "id": "llCs97S9_NwF"
      },
      "outputs": [],
      "source": [
        "# Year 값 수정\n",
        "\"\"\"Year \n",
        "    0~ 16  => 2000년도\n",
        "    86~98 => 1900년도\n",
        "\"\"\"\n",
        "\n",
        "target_column = 'Year'\n",
        "\n",
        "# 오류 검사 조건, 수정 함수, 대상 컬럼 명 \n",
        "cond_all = lambda x: True \n",
        "\n",
        "# err 수정 function.\n",
        "def fix_func( x ):\n",
        "  fix_value = x\n",
        "  try:\n",
        "\n",
        "    if x <= 16  :\n",
        "      fix_value = x + 2000    \n",
        "    elif x <= 98  :\n",
        "      fix_value = x + 1900\n",
        "    \n",
        "    fix_value = int(fix_value)\n",
        "    return fix_value\n",
        "  except Exception:\n",
        "    print( f\"에러 발생 {x} , { type( x )} \")\n",
        "\n",
        "# 수정 함수 호출\n",
        "df_target = fix_column_err_value( df_target , target_column , cond_all, fix_func ) \n",
        "\n"
      ]
    },
    {
      "cell_type": "code",
      "execution_count": null,
      "metadata": {
        "id": "sDP9JPti_NwF"
      },
      "outputs": [],
      "source": [
        "# 데이터 클리닝 결과 재확인\n",
        "df_target = eda_info (df_target) "
      ]
    },
    {
      "cell_type": "markdown",
      "metadata": {
        "id": "PXirxpin_NwF"
      },
      "source": [
        "----\n",
        "데이터 클리닝 완료\n",
        "\n",
        "----"
      ]
    },
    {
      "cell_type": "markdown",
      "metadata": {
        "id": "JTcx_Em8Dk26"
      },
      "source": [
        "## 3. Feature Engineering\n",
        ": 수학적인 연산과 도메인 지식을 이용하여 raw data로부터 유용한 feature를 도출해 내는 과정"
      ]
    },
    {
      "cell_type": "code",
      "execution_count": null,
      "metadata": {
        "id": "xax4RIIy_NwG"
      },
      "outputs": [],
      "source": [
        "# # df 백업\n",
        "# df_backup_copy = df_target.copy()"
      ]
    },
    {
      "cell_type": "code",
      "execution_count": null,
      "metadata": {
        "id": "yyjYcoRs_NwG"
      },
      "outputs": [],
      "source": [
        "# df_target = df_backup_copy.copy()"
      ]
    },
    {
      "cell_type": "code",
      "execution_count": null,
      "metadata": {
        "id": "sGKUNHOv_NwG"
      },
      "outputs": [],
      "source": [
        "df_target.head(5)"
      ]
    },
    {
      "cell_type": "code",
      "execution_count": null,
      "metadata": {
        "id": "YtjrOaF5ydKl"
      },
      "outputs": [],
      "source": [
        "# 플렛폼을 모바일 , 콘솔 , 컴퓨터의 대분류로도 구분\n",
        "import sys \n",
        "\n",
        "lst_portable = [ 'DS', '3DS', 'PSP', 'GB', 'GBA', 'PSV', 'WS', 'GG', 'WiiU']\n",
        "lst_pc = ['PC']\n",
        "list_all = df_target.Platform.unique().tolist()\n",
        "lst_console = [ x for x in list_all if (x not in lst_portable) & (x not in lst_pc) ]\n",
        "print ( lst_console) # ['Wii', 'PS3', 'PS', 'PS4', 'PS2', 'XB', 'X360', 'GC', '2600', 'SAT', 'NES', 'DC', 'N64', 'XOne', 'SNES', 'GEN', 'SCD', 'NG', 'TG16', '3DO', 'PCFX']\n",
        "\n",
        "\n",
        "target_column = 'Platform'\n",
        "\n",
        "# 오류 검사 조건, 수정 함수, 대상 컬럼 명 \n",
        "cond_SCD = lambda x: True if x == 'SCD' else False \n",
        "cond_all = lambda x: True\n",
        "\n",
        "# 수정 function.\n",
        "def fix_func( x ):\n",
        "  \n",
        "  ret_value = \"-\"\n",
        "\n",
        "  try:\n",
        "    \n",
        "    if x['Platform'] in lst_portable  :\n",
        "      ret_value = 'portable'\n",
        "    elif x['Platform'] in lst_console  :\n",
        "      ret_value = 'console'\n",
        "    elif x['Platform'] in lst_pc  :\n",
        "      ret_value = 'pc'\n",
        "    \n",
        "    df_target.loc[x.name,\"Type\"] = ret_value\n",
        "   \n",
        "    return x.str\n",
        "  except Exception:\n",
        "    print( f\"에러 발생 data = {x} , type = { type( x )} , idx = {x.name} \")\n",
        "    sys.exit()\n",
        "\n",
        "\n",
        "\n",
        "######\n",
        "\n",
        "# err 조건에 해당하는 data 조회\n",
        "sri_err = df_target[ target_column ].apply( cond_all )\n",
        "\n",
        "sri_fixed_col = df_target.loc[ sri_err ][[target_column]].apply( fix_func ,axis=1  )\n",
        "df_target.loc[sri_err].head(5)\n",
        "\n"
      ]
    },
    {
      "cell_type": "code",
      "execution_count": null,
      "metadata": {
        "id": "yybzO1Zr_NwG"
      },
      "outputs": [],
      "source": [
        "# 데이터 클리닝 결과 재확인\n",
        "df_target = eda_info (df_target, need_category = True , category_count = 50 ) "
      ]
    },
    {
      "cell_type": "markdown",
      "metadata": {
        "id": "jaSLoVFf_NwG"
      },
      "source": [
        "### 클리닝 된 데이터를 파일로 저장 "
      ]
    },
    {
      "cell_type": "code",
      "execution_count": null,
      "metadata": {
        "id": "AX-d8pcB_NwH"
      },
      "outputs": [],
      "source": [
        "df_target.to_csv('vgames2_after_cleaning_01.csv', index=False)"
      ]
    },
    {
      "cell_type": "markdown",
      "metadata": {
        "id": "KXLtXb2j_NwH"
      },
      "source": [
        "----\n",
        "----\n",
        "# 4. 분석\n",
        "\n",
        "\n"
      ]
    },
    {
      "cell_type": "markdown",
      "metadata": {},
      "source": [
        "## 목표 ( 최종 )\n",
        "\n",
        "**요청사항 : 다음 분기에 어떤 게임을 설계해야 할까?**\n",
        "\n",
        "    최종 목표 요청사항 상세 정의 \n",
        "    - 1 단계 \n",
        "        * 어떤 장르를 개발해야 하는가?\n",
        "        * 어떤 플렛폼용으로 개발해야 하는가?\n",
        "        * 어느지역 ( 언어지원 ,  주요 마켓팅 역량 집중 )을 주요 타겟으로 잡아야 하는가?\n",
        "\n",
        "    - 2 단계 \n",
        "        * 어떤 장르를 개발해야 하는가?\n",
        "            -> 어떤 장르의 게임을 개발했을 때 히트 게임이 될 확률이 높은가?\n",
        "            -> p( Hit 게임 | 장르 ) \n",
        "        * 어떤 플렛폼용으로 개발해야 하는가?\n",
        "            -> 어떤 플렛폼 의 게임을 개발했을 때 히트 게임이 될 확률이 높은가?\n",
        "            -> p( Hit 게임 | 플렛폼 ) \n",
        "\n",
        "        * 어느지역 ( 언어지원 ,  주요 마켓팅 역량 집중 )을 주요 타겟으로 잡아야 하는가?\n",
        "            -> 어떤 지역을 지원하는 게임을 개발했을 때 히트 게임이 될 확률이 높은가?\n",
        "            -> p( Hit 게임 | 지역 )\n",
        "\n",
        "    - 3 단계 \n",
        "        목표 -> 각 장르별로 매출이 높을 확률 ? 베이지안 \n",
        "            A : hit 게임\n",
        "            B : 장르(각)\n",
        "\n",
        "            P(A|B) = P(B|A) * P(A) / P(B)\n",
        "\n",
        "        목표 -> 각 플렛폼 별로 매출이 높을 확률  ? 베이지안\n",
        "            A : hit 게임\n",
        "            B : 플렛폼(각)\n",
        "\n",
        "            P(A|B) = P(B|A) * P(A) / P(B)\n",
        "\n",
        "        목표 -> 각 지역별로 언어지원,집중 마켓팅을 했을때 매출이 높을 확률  ? 베이지안\n",
        "            A : hit 게임\n",
        "            B : 지역(각)\n",
        "\n",
        "            P(A|B) = P(B|A) * P(A) / P(B)\n",
        "\n",
        "\n",
        "\n",
        "\n",
        "\n",
        "\n"
      ]
    },
    {
      "cell_type": "markdown",
      "metadata": {
        "id": "2pLYQGTMGVCG"
      },
      "source": [
        "----\n",
        "----\n",
        "# 시각화\n"
      ]
    },
    {
      "cell_type": "markdown",
      "metadata": {
        "id": "iBo9Ab8FPHLB"
      },
      "source": [
        "### 한글 폰트 설치\n",
        ": 설치 후 메뉴>런타임>런타임 다시 시작 할 것"
      ]
    },
    {
      "cell_type": "code",
      "execution_count": null,
      "metadata": {
        "id": "E3BBJvgYPMqa"
      },
      "outputs": [],
      "source": [
        "# 한글 폰트 설치 \n",
        "!sudo apt-get install -y fonts-nanum\n",
        "!sudo fc-cache -fv\n",
        "!rm ~/.cache/matplotlib -rf"
      ]
    },
    {
      "cell_type": "code",
      "execution_count": null,
      "metadata": {
        "id": "b8On79EZPSe5"
      },
      "outputs": [],
      "source": [
        "# 폰트 셋팅\n",
        "plt.style.use('ggplot')\n",
        "font = {'size': 12,\n",
        "        'family': 'NanumBarunGothic'}\n",
        "mpl.rc('font', **font)"
      ]
    },
    {
      "cell_type": "markdown",
      "metadata": {
        "id": "8sit_QCTPcRn"
      },
      "source": [
        "----"
      ]
    },
    {
      "cell_type": "code",
      "execution_count": null,
      "metadata": {
        "id": "-e7BEyAAGXWS"
      },
      "outputs": [],
      "source": [
        "# 생존여부, 성별 별 평균요금 df 조회\n",
        "df_temp = df_titanic.groupby( ['survived' ,'sex'] ).mean()\n",
        "df_temp"
      ]
    },
    {
      "cell_type": "code",
      "execution_count": null,
      "metadata": {
        "id": "Ul683_VUV6hW"
      },
      "outputs": [],
      "source": [
        "df_temp"
      ]
    },
    {
      "cell_type": "code",
      "execution_count": null,
      "metadata": {
        "id": "ngcvnUBKVk7B"
      },
      "outputs": [],
      "source": [
        "df_red['color'] = np.repeat('red', len(df_red))\n",
        "df_white['color'] = np.repeat('white', len(df_white))\n",
        "df_temp = df_red.append(df_white)\n",
        "\n",
        "df_temp.groupby('color')['quality'].mean().plot(kind='bar', \n",
        "                                                title='Average Wine Quality by Color', \n",
        "                                                fontsize=13, \n",
        "                                                color=['red', 'blue'], \n",
        "                                                alpha=0.4);"
      ]
    },
    {
      "cell_type": "code",
      "execution_count": null,
      "metadata": {
        "id": "piomSFvPXJCa"
      },
      "outputs": [],
      "source": [
        "counts = df_temp.groupby(['quality', 'color']).count()['pH']\n",
        "counts.plot(kind='bar', color=['red','blue'], title='Counts by Wine Quality and Color', fontsize=15, alpha=0.4);"
      ]
    },
    {
      "cell_type": "code",
      "execution_count": null,
      "metadata": {
        "id": "uOA4XU2EGeKu"
      },
      "outputs": [],
      "source": [
        "df_temp = df_titanic\n",
        "\n",
        "# 막대그래프 표시 \n",
        "df_temp.plot(kind = 'bar')"
      ]
    },
    {
      "cell_type": "code",
      "execution_count": null,
      "metadata": {
        "id": "MGbIQKz6LTrm"
      },
      "outputs": [],
      "source": [
        "df_temp = df_titanic\n",
        "\n",
        "temp = df_temp.groupby(['sex', 'survived'])['fare'].mean().reset_index()\n",
        "fig, ax = plt.subplots(figsize=(8, 6))\n",
        "sns.barplot(data=temp, x='survived', y='fare', hue='sex', ax=ax)\n",
        "ax.set_title(\"생존 여부와 성별에 따른 평균 요금\")\n",
        "ax.set_xticklabels(['Not Survived', 'Survived'])\n",
        "plt.show();"
      ]
    },
    {
      "cell_type": "code",
      "execution_count": null,
      "metadata": {
        "id": "oNoIpM4PMhlp"
      },
      "outputs": [],
      "source": [
        "df_temp = df_titanic\n",
        "\n",
        "fig, ax = plt.subplots(figsize=(8, 8))\n",
        "fig = plt.pie(df_temp['survived'].value_counts(), labels=['No', 'Yes'], autopct='%.2f%%',\n",
        "              textprops={'fontsize':14})\n",
        "plt.title('Survived', fontsize=16)\n",
        "plt.show()"
      ]
    },
    {
      "cell_type": "code",
      "execution_count": null,
      "metadata": {
        "id": "KkuL5VG5M_1l"
      },
      "outputs": [],
      "source": [
        "df_temp = df_titanic\n",
        "\n",
        "fig, ax = plt.subplots(figsize=(8, 6))\n",
        "sns.countplot(x=df_temp['pclass'].values, ax=ax)\n",
        "plt.title('클래스별 수', fontsize=16)\n",
        "plt.show()"
      ]
    },
    {
      "cell_type": "code",
      "execution_count": null,
      "metadata": {
        "id": "-1WsnePlNhfG"
      },
      "outputs": [],
      "source": [
        "sns.countplot(x=df_temp['pclass'].values)"
      ]
    },
    {
      "cell_type": "code",
      "execution_count": null,
      "metadata": {
        "id": "APJ0tXlWNPWo"
      },
      "outputs": [],
      "source": [
        "df_temp['age'].plot(kind='hist', bins=8)"
      ]
    },
    {
      "cell_type": "code",
      "execution_count": null,
      "metadata": {
        "id": "g-wC2vssN8Kq"
      },
      "outputs": [],
      "source": [
        "df_temp = df_titanic\n",
        "\n",
        "bins = np.arange(0, df_temp.age.max()+df_temp.age.max()/8, df_temp.age.max()/8)\n",
        "fig, ax = plt.subplots(figsize=(8, 6))\n",
        "fig = plt.hist(x=df_temp['age'], bins=bins)\n",
        "plt.title('나이 분포', fontsize=16)\n",
        "plt.xlabel('나이')\n",
        "plt.ylabel('수')\n",
        "plt.show()"
      ]
    },
    {
      "cell_type": "code",
      "execution_count": null,
      "metadata": {
        "id": "opAIH7RLPi1p"
      },
      "outputs": [],
      "source": [
        "df_temp = df_red\n",
        "\n",
        "# quality 에 따른 휘발성산의 차이를 scatter plot 으로 확인\n",
        "plt.scatter(df_temp['quality'], df_temp['volatile acidity'])"
      ]
    },
    {
      "cell_type": "code",
      "execution_count": null,
      "metadata": {
        "id": "D0wBc0kTQW2Q"
      },
      "outputs": [],
      "source": [
        "df_temp = df_red\n",
        "\n",
        "# quality 에 따른 평균 휘발성산 확인\n",
        "group_volatile_acidity = df_temp['volatile acidity'].groupby(df_temp['quality'])\n",
        "print(group_volatile_acidity.mean())\n",
        "\n",
        "# plot으로 시각화\n",
        "plt.plot(group_volatile_acidity.mean());"
      ]
    },
    {
      "cell_type": "markdown",
      "metadata": {
        "id": "zlIJGpIzRchP"
      },
      "source": [
        "----\n",
        "# # Data Wrangling (데이터 정제) , Data Preprocessing (데이터 전처리)  \n",
        "  : 실제 작업의 70~80%가 소요 된다고 함 \n",
        "\n",
        "  * 데이터 품질\n",
        "    * 결측값 처리\n",
        "    * 잘못된 값 처리\n",
        "  * 구조적 품질\n",
        "    * 정규화\n",
        "\n"
      ]
    },
    {
      "cell_type": "code",
      "execution_count": null,
      "metadata": {
        "id": "3LBq_pXxUSVD"
      },
      "outputs": [],
      "source": [
        "# DataFrame 복사\n",
        "df_patients_clean = df_patients.copy()"
      ]
    },
    {
      "cell_type": "markdown",
      "metadata": {
        "id": "B3NP_dlDI0Tp"
      },
      "source": [
        "### Missing value (결측값)"
      ]
    },
    {
      "cell_type": "markdown",
      "metadata": {
        "id": "jY0n7eRwr4I3"
      },
      "source": [
        "특정 컬럼의 결측값 갯수 확인"
      ]
    },
    {
      "cell_type": "code",
      "execution_count": null,
      "metadata": {
        "id": "CIiFxka8IyWD"
      },
      "outputs": [],
      "source": [
        "# 환자 데이터 중 키, 몸무게, 체질량지수 컬럼의 결측값 확인\n",
        "df_patients_error_tmp = df_patients[df_patients['키'].isnull() | df_patients['몸무게'].isnull() | df_patients['체질량지수'].isnull()]\n",
        "df_patients_error_tmp.head(3)"
      ]
    },
    {
      "cell_type": "markdown",
      "metadata": {
        "id": "paSOiWb3sBZN"
      },
      "source": [
        "(TODO) 특정 컬럼의 결측값을 수정\n"
      ]
    },
    {
      "cell_type": "markdown",
      "metadata": {
        "id": "2hu2PtrTNRmC"
      },
      "source": [
        "### Outliers (잘못된 값,이상치)  수정\n"
      ]
    },
    {
      "cell_type": "code",
      "execution_count": null,
      "metadata": {
        "id": "HSDuhhc91S6f"
      },
      "outputs": [],
      "source": [
        "# 전처리 작업용 임시 DataFrame 생성\n",
        "df_temp_clean = df_final_revised.copy()\n"
      ]
    },
    {
      "cell_type": "markdown",
      "metadata": {
        "id": "Lx1psvVFhJ60"
      },
      "source": [
        "* URL 주소 \n",
        "  : https:// 로 시작 하지 않는 데이터의 앞에 https://를 붙인다. "
      ]
    },
    {
      "cell_type": "code",
      "execution_count": null,
      "metadata": {
        "id": "Sy58Q_ipx0CV"
      },
      "outputs": [],
      "source": [
        "# 오류 검사 조건, 수정 함수, 대상 컬럼 명 \n",
        "target_column = 'Poster_Link'\n",
        "cond_err = lambda x: True if not x.startswith('https://') else False\n",
        "fix_func = lambda x: 'https://' + x\n",
        "\n",
        "# 수정 함수 호출\n",
        "df_result = fix_column_err_value( df_temp_clean , target_column , cond_err, fix_func ) \n",
        "\n"
      ]
    },
    {
      "cell_type": "markdown",
      "metadata": {
        "id": "R99tVHwlLMZm"
      },
      "source": [
        "다른 열의 값을 가지고 와서 합치기"
      ]
    },
    {
      "cell_type": "code",
      "execution_count": null,
      "metadata": {
        "id": "1FGlGzOkLLMU"
      },
      "outputs": [],
      "source": [
        "# 전처리 작업용 임시 DataFrame 생성\n",
        "df_temp_clean = df_final_revised.copy()\n",
        "\n",
        "# 오류 검사 조건, 수정 함수, 대상 컬럼 명 \n",
        "target_column = 'Series_Title'\n",
        "cond_err = lambda x: True \n",
        "\n",
        "# case 01 \n",
        "fix_func = lambda x: df_temp_clean.loc[x.name,\"Runtime\"] + df_temp_clean.loc[x.name,\"Genre\"]\n",
        "\n",
        "# case 02 : 조건 체크 columm 과 변경 column이 다른 경우\n",
        "def fix_func2 ( x ) :\n",
        "  df_temp_clean.loc[x.name,\"Certificate\"] = df_temp_clean.loc[x.name,\"Runtime\"] + df_temp_clean.loc[x.name,\"Genre\"]\n",
        "  return df_temp_clean.loc[x.name,target_column]\n",
        "\n",
        "df_result = fix_column_err_value( df_temp_clean , target_column , cond_err, fix_func2 ) \n",
        "\n",
        "\n"
      ]
    },
    {
      "cell_type": "markdown",
      "metadata": {
        "id": "NSjjmSXtzJgm"
      },
      "source": [
        "특정 컬럼을 필요 없는 문자 삭제 후 int로 타입 변경 \n",
        "\n"
      ]
    },
    {
      "cell_type": "code",
      "execution_count": null,
      "metadata": {
        "id": "UlvbbGRaCP68"
      },
      "outputs": [],
      "source": [
        "# case 01\n",
        "\n",
        "# 전처리 작업용 임시 DataFrame 생성\n",
        "df_temp_clean = df_final_revised.copy()\n",
        "\n",
        "df_temp_clean['Runtime'] = df_temp_clean['Runtime'].str.extract('([0-9]+)').astype('int16')\n",
        "# movie['Runtime'] = movie['Runtime'].str.split().str[0].astype('int16')"
      ]
    },
    {
      "cell_type": "code",
      "execution_count": null,
      "metadata": {
        "id": "XyztzPXPz6LP"
      },
      "outputs": [],
      "source": [
        "# case 02\n",
        "\n",
        "# 전처리 작업용 임시 DataFrame 생성\n",
        "df_temp_clean = df_final_revised.copy()\n",
        "\n",
        "\n",
        "# 오류 검사 조건, 수정 함수, 대상 컬럼 명 \n",
        "target_column = 'Runtime'\n",
        "cond_sel = lambda x: True\n",
        "fix_func = lambda x: re.search( r'([0-9]+)' , x).group(0)\n",
        "\n",
        "# 처리할 값에 대한 예외 처리가 필요한 경우 조건 처리를 포함한 function을 사용하여야 한다. \n",
        "def fix_func2( input ):\n",
        "    if not bool( input ) : \n",
        "      return np.nan\n",
        "    if not isinstance( input ,str ) :\n",
        "      print( type(input)  ,  input)\n",
        "      return np.nan\n",
        "    return re.search( r'([0-9]+)' , input ).group(0)\n",
        "\n",
        "# 수정 함수 호출\n",
        "df_result = fix_column_err_value( df_temp_clean , target_column , cond_sel, fix_func ) \n",
        "df_result.head()"
      ]
    },
    {
      "cell_type": "markdown",
      "metadata": {
        "id": "yfP1fDMV7JCz"
      },
      "source": [
        "# Lecture 에서 따온 특수문자 체크 코드"
      ]
    },
    {
      "cell_type": "code",
      "execution_count": null,
      "metadata": {
        "id": "71VYsY7XNQrJ"
      },
      "outputs": [],
      "source": [
        "reg_con_01 = r'[_,!,.,@#$%()^\\d+]'\n",
        "\n",
        "# 특수 문자가 포함되었는지 여부 체크\n",
        "def has_errors(inputString):\n",
        "  return bool(re.search( reg_con_01 , inputString))\n",
        "\n",
        "\n",
        "# 이름에 섞여 있는 오류 데이터를 확인\n",
        "error_condition = df_patients_clean.이름.apply(has_errors)\n",
        "error_names = df_patients_clean[error_condition]\n",
        "print(error_names)\n",
        "\n",
        "print(\"-------------\")\n",
        "# 코드가 정확하게 오류들을 제거하는지 확인 \n",
        "error_names.이름 = df_patients_clean.이름.str.replace(reg_con_01, '')\n",
        "print(error_names)\n",
        "\n",
        "print(\"-------------\")\n",
        "# 반영\n",
        "df_patients_clean.이름 = df_patients_clean.이름.str.replace(reg_con_01, '')\n",
        "\n",
        "# 반영결과 확인\n",
        "df_patients_clean[error_condition] "
      ]
    },
    {
      "cell_type": "markdown",
      "metadata": {
        "id": "R_ACmc9P7Pfq"
      },
      "source": [
        "### 이메일 형식 체크"
      ]
    },
    {
      "cell_type": "code",
      "execution_count": null,
      "metadata": {
        "id": "a2FNQXUR_CQo"
      },
      "outputs": [],
      "source": [
        "df_discussion_114.head(20)"
      ]
    },
    {
      "cell_type": "code",
      "execution_count": null,
      "metadata": {
        "id": "5wS5ut_z7Y5i"
      },
      "outputs": [],
      "source": [
        "regx_이메일 = r'[0-9a-zA-Z]([-_\\.]?[0-9a-zA-Z])*@[0-9a-zA-Z]([-_\\.]?[0-9a-zA-Z])*\\.[a-zA-Z]{2,3}'\n",
        "regx_핸드폰 = r'\\d{3}-\\d{3,4}-\\d{4}'\n",
        "\n",
        "# 작업 DataFrame 지정\n",
        "df_temp_clean = df_discussion_114.copy()\n",
        "\n",
        "# 오류 검사 조건, 수정 함수, 대상 컬럼 명 \n",
        "target_column = 'email'\n",
        "\n",
        "#cond_sel = lambda x: False if re.search( regx_이메일 , x).group(0) else True\n",
        "def cond_sel (x) :\n",
        "  if isinstance ( x , str ) :\n",
        "   if re.match( regx_이메일 , x) :\n",
        "    return False\n",
        "   else :\n",
        "    return True\n",
        "  else :\n",
        "    # str이 아닌 경우= Nan 인 경우 , 수정 대상으로 체크\n",
        "    return True\n",
        "\n",
        "def fix_func(x) :\n",
        "  # 수정 대상인 경우 (TODO) 알맞은 코딩을 해주어야 함\n",
        "  return \"(TODO) Fix\"\n",
        "\n",
        "\n",
        "# 수정 함수 호출\n",
        "df_result = fix_column_err_value( df_temp_clean , target_column , cond_sel, fix_func ) \n",
        "\n",
        "# 수정 결과 확인\n",
        "display(df_result.head(11))\n",
        "display(df_result.tail(5))"
      ]
    },
    {
      "cell_type": "markdown",
      "metadata": {
        "id": "VlAq9L-87VlZ"
      },
      "source": [
        "### (TODO) 전화번호 형식 체크"
      ]
    },
    {
      "cell_type": "markdown",
      "metadata": {
        "id": "2yWc14r7T-un"
      },
      "source": [
        "### 컬럼의 분리"
      ]
    },
    {
      "cell_type": "code",
      "execution_count": null,
      "metadata": {
        "id": "S_AXgnFiT-Wv"
      },
      "outputs": [],
      "source": [
        "# 환자나이 컬럼 분리\n",
        "# 나이 컬럼에서 숫자만 뽑아내어 int로 변환 후 환자나이 컬럼을 생성 \n",
        "df_patients_clean['환자나이'] = df_patients_clean.나이.str.extract('(\\d+)').astype('int') \n",
        "\n",
        "# 성별 컬럼 분리\n",
        "# 나이 컬럼에서 숫자를 모두 제거 후 성별 컬럼을 생성\n",
        "df_patients_clean['성별'] = df_patients_clean.나이.str.replace(r'[^a-zA-Z]', '', regex=True) #숫자만 삭제 한다.\n",
        "\n",
        "# 기존 나이 컬럼 제거\n",
        "patients_clean = df_patients_clean.drop('나이', axis='columns' )\n"
      ]
    },
    {
      "cell_type": "code",
      "execution_count": null,
      "metadata": {
        "id": "Tj652ctpWqXT"
      },
      "outputs": [],
      "source": [
        "# 성별을 category 데이터 타입으로 변화 , 영어를 한글로 변환\n",
        "patients_clean.성별 = patients_clean.성별.replace({'male':'남', 'female':'여'})\n",
        "patients_clean.성별 = patients_clean.성별.astype('category')"
      ]
    },
    {
      "cell_type": "markdown",
      "metadata": {
        "id": "uFhgIi5bntQ-"
      },
      "source": [
        "## 구조적 문제\n",
        "df1.melt(id_vars='index', value_vars=['A', 'B'])\n",
        "\n",
        "pd.melt(df1, id_vars = 'index', var_name='variable', value_name='value')"
      ]
    },
    {
      "cell_type": "code",
      "execution_count": null,
      "metadata": {
        "id": "RlgvQceWn0AL"
      },
      "outputs": [],
      "source": []
    },
    {
      "cell_type": "markdown",
      "metadata": {
        "id": "g14zLlkMz4cf"
      },
      "source": [
        "# 결과 데이터를 파일로 저장\n"
      ]
    }
  ],
  "metadata": {
    "colab": {
      "collapsed_sections": [],
      "include_colab_link": true,
      "name": "EDA_001.ipynb",
      "private_outputs": true,
      "provenance": []
    },
    "kernelspec": {
      "display_name": "Python 3.9.12 ('base')",
      "language": "python",
      "name": "python3"
    },
    "language_info": {
      "codemirror_mode": {
        "name": "ipython",
        "version": 3
      },
      "file_extension": ".py",
      "mimetype": "text/x-python",
      "name": "python",
      "nbconvert_exporter": "python",
      "pygments_lexer": "ipython3",
      "version": "3.9.12"
    },
    "vscode": {
      "interpreter": {
        "hash": "cca240df8b4cc966d527f5e5f91069ba19ec750ec1338ff7cbac995a358e55d1"
      }
    }
  },
  "nbformat": 4,
  "nbformat_minor": 0
}
