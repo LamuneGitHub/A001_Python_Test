{
 "cells": [
  {
   "cell_type": "markdown",
   "metadata": {},
   "source": [
    "# 프로그램 기본 설정"
   ]
  },
  {
   "cell_type": "code",
   "execution_count": 1336,
   "metadata": {},
   "outputs": [],
   "source": [
    "# import\n",
    "\n",
    "%matplotlib inline\n",
    "\n",
    "from IPython.display import display\n",
    "\n",
    "import re\n",
    "import math\n",
    "import pandas as pd\n",
    "import numpy as np\n",
    "import matplotlib as mpl\n",
    "import matplotlib.pyplot as plt\n",
    "import seaborn as sns\n",
    "import random\n",
    "\n",
    "import sklearn\n",
    "from sklearn.preprocessing import StandardScaler\n",
    "from sklearn.cluster import KMeans\n",
    "from scipy import stats\n",
    "from scipy.stats import ttest_1samp, ttest_ind\n",
    "\n",
    "\n",
    "#pandas에서 DataFrame을 요약해서 표시하지 않도록 설정\n",
    "pd.set_option('display.max_columns', None)\n",
    "pd.set_option('display.max_rows', None)\n",
    "\n",
    "# head로 표시할 데이터 갯수 \n",
    "print_row_count = 3\n",
    "\n",
    "\n",
    "\n",
    "# 줄 구분 표시 출력 \n",
    "def print_line() :\n",
    "  print (\"\\n------------------------------------------------\")\n",
    "def print_line_m() :\n",
    "  print (\"\\n-----------------------\")\n",
    "def print_line_s() :\n",
    "  print (\"\\n----------\")\n",
    "\n",
    "\n",
    "colors = sns.color_palette('pastel')[0:5]\n",
    "sns.set_style( 'white')"
   ]
  },
  {
   "cell_type": "markdown",
   "metadata": {},
   "source": [
    "## 함수 정의"
   ]
  },
  {
   "cell_type": "code",
   "execution_count": 1046,
   "metadata": {},
   "outputs": [],
   "source": [
    "# 독립집합인 a ,b 에 대한 T-test 수행 결과를 print 하고 P-value를 반환\n",
    "# 에러시 np.nan 반환\n",
    "'''\n",
    "  prm_alternative : \n",
    "    'less' : 대안가설이 = 왼쪽의 평균이  오른쪽 보다 작다 인 경우\n",
    "    'greater' \n",
    "    'two-sided' : 대안가설이 = 왼쪽 오른쪽의 평균이 다르다 인 경우  \n",
    "'''\n",
    "def t_test ( a, b , prm_alternative ) :\n",
    "  ret_value = np.nan\n",
    "\n",
    "  # 정규성 검사 \n",
    "  # : T-검정은 데이터의 정규본포를 가정으로 하는 검증법이다.\n",
    "  # a0_pvalue 와 a1_pvalue 모두 > 0.05 보다 큰지 여부 확인 하여 \n",
    "  # 둘 다 정규성을 만족하지 않는 경우 진행 중단.\n",
    "  # shapiro test p>0.05이면 정규성이 보장된다. \n",
    "  sha_a0, a0_pvalue = stats.shapiro(a)\n",
    "  sha_a1, a1_pvalue = stats.shapiro(b)\n",
    "  if ( (a0_pvalue <= 0.05) | (a1_pvalue <= 0.05) ) :\n",
    "    print (\"(todo) 에러 발생\")\n",
    "    return ret_value\n",
    "\n",
    "  # 분산의 동질성 검정\n",
    "  # scipy.ttest_ind ( ) 를 사용하기 위해서는 분산 동질성 여부를 알고 있어야 한다.\n",
    "  flg_분산동질여부 = False\n",
    "  l, p = stats.levene(a,b)\n",
    "  if p > 0.05 : # 0.05보다 큰 경우 분산은 동질성을 가지고 있다고 할 수 있음\n",
    "    flg_분산동질여부 = True\n",
    "\n",
    "  # T 검정 수행\n",
    "  # alternative='less' : 대안가설이 = 왼쪽의 평균이  오른쪽 보다 작다 인 경우\n",
    "  # greater\n",
    "  # alternative='two-sided' : 대안가설이 = 왼쪽 오른쪽의 평균이 다르다 인 경우  \n",
    "  t, p = stats.ttest_ind(a, b , equal_var= flg_분산동질여부 , alternative=prm_alternative )\n",
    "\n",
    "\n",
    "  # 결과출력\n",
    "  # p < 0.05 인 귀무가설 기각\n",
    "  rslt_맞는가설 = '귀무가설'\n",
    "  if ( p < 0.05 ) :\n",
    "      rslt_맞는가설 = '대립가설'\n",
    "  print ( f\"{rslt_맞는가설}이 맞음\" )\n",
    "\n",
    "  ret_value = p \n",
    "  \n",
    "  return ret_value"
   ]
  },
  {
   "cell_type": "markdown",
   "metadata": {},
   "source": [
    "## 기초 데이터 로딩"
   ]
  },
  {
   "cell_type": "code",
   "execution_count": 1074,
   "metadata": {},
   "outputs": [],
   "source": [
    "#  정제된 data loading \n",
    "\n",
    "# Data 로드\n",
    "df_tmp = pd.read_csv( \"https://raw.githubusercontent.com/LamuneGitHub/AI15_Prj_01/main/vgames2_after_cleaning_01.csv\" , sep=\",\"  , header=0  ) \n",
    "df_target = df_tmp\n"
   ]
  },
  {
   "cell_type": "code",
   "execution_count": 1078,
   "metadata": {},
   "outputs": [
    {
     "name": "stdout",
     "output_type": "stream",
     "text": [
      "<class 'pandas.core.frame.DataFrame'>\n",
      "RangeIndex: 16241 entries, 0 to 16240\n",
      "Data columns (total 9 columns):\n",
      " #   Column       Non-Null Count  Dtype   \n",
      "---  ------       --------------  -----   \n",
      " 0   Platform     16241 non-null  category\n",
      " 1   Year         16241 non-null  int64   \n",
      " 2   Genre        16241 non-null  category\n",
      " 3   NA_Sales     16241 non-null  int64   \n",
      " 4   EU_Sales     16241 non-null  int64   \n",
      " 5   JP_Sales     16241 non-null  int64   \n",
      " 6   Other_Sales  16241 non-null  int64   \n",
      " 7   Type         16241 non-null  category\n",
      " 8   sum_Sales    16241 non-null  int64   \n",
      "dtypes: category(3), int64(6)\n",
      "memory usage: 810.8 KB\n"
     ]
    }
   ],
   "source": [
    "# 데이터 type 재 지정\n",
    "df_target.Platform = df_target.Platform.astype('category')\n",
    "# (TODO) 연도 컬럼의 카테고리 값의 순서 지정\n",
    "#df_target.Year = df_target.Year.astype('category')\n",
    "df_target.Genre = df_target.Genre.astype('category')\n",
    "df_target.Type = df_target.Type.astype('category')\n",
    "\n",
    "df_target['sum_Sales'] = df_target.NA_Sales + df_target.EU_Sales + df_target.JP_Sales + df_target.Other_Sales\n",
    "\n",
    "\n",
    "df_target.info()\n"
   ]
  },
  {
   "cell_type": "markdown",
   "metadata": {},
   "source": [
    "# # 분석 작업"
   ]
  },
  {
   "cell_type": "markdown",
   "metadata": {},
   "source": [
    "## 1. 최종 분석 목표 \n",
    "## **# 다음 분기에 어떤 게임을 설계해야 하는가 ?**"
   ]
  },
  {
   "cell_type": "markdown",
   "metadata": {},
   "source": [
    "### 1.1 목표 상세 정의\n",
    "    ## 최종 목표 요청사항 상세 정의 \n",
    "    = 1 단계 \n",
    "        * 어떤 장르를 개발해야 하는가?\n",
    "        * 어떤 플렛폼용으로 개발해야 하는가?\n",
    "        * 어떤 지역( 언어지원 , 주요 마켓팅 역량 집중 )을 주요 타겟으로 잡아야 하는가?\n",
    "\n",
    "    = 2 단계\n",
    "        목표 -> 각 장르별로 매출이 높을 확률 ? 베이지안 \n",
    "            A : hit 게임\n",
    "            B : 장르(각)\n",
    "\n",
    "            P(A|B) = P(B|A) * P(A) / P(B)\n",
    "\n",
    "        목표 -> 각 플렛폼 별로 매출이 높을 확률  ? 베이지안\n",
    "            A : hit 게임\n",
    "            B : 플렛폼(각)\n",
    "\n",
    "            P(A|B) = P(B|A) * P(A) / P(B)\n",
    "\n",
    "        목표 -> 각 지역별로 언어지원,집중 마켓팅을 했을때 매출이 높을 확률  ? 베이지안\n",
    "            A : hit 게임\n",
    "            B : 지역(각)\n",
    "\n",
    "            P(A|B) = P(B|A) * P(A) / P(B)\n",
    "\n",
    "\n",
    "    = 3 최종 선택은 ?\n",
    "        * 최고로 높은 확률의 조합이 정답이 아니다.\n",
    "            개발팀의 자원에 따라 취사 선택 및 전략의 선택이 필요 하다.\n",
    "            -> 각각의 데이터를 모두 전달 후 상황에 맞게 전략을 선택할 수 있게 해주자\n",
    "\n",
    "            ex) 블루오션을 , 레드오션\n",
    "        \n",
    "        * 분석 결과의 해석은 관점에 따라서 달라질 수 있다.\n",
    "            - a장르의  hit 게임의 확률이 높다는 것은\n",
    "                - a장르를 좋아하는 사람이 많다는 의미\n",
    "                - a장르에 높은 개발력 , 혹은 충성도를 가지고 있는 경쟁사가 있다는 의미\n",
    "                    ( 반대의 경우 높은 개발력을 가진 회사가 적다 혹은 신규 시장이다. 로 해셕할 수도 있다. )\n",
    "            - 개발 전략을 수립하는 과정에서 계속 재 해석이 필요할 것이다. \n",
    "\n",
    "                -> 요청 사항이 ... 최신 트렌드 , 성공할 확률이 높은 선택지를 찾아줘로 느껴졌기 때문에 첨부한 첨언임\n",
    "\n",
    "        * 95%의 신뢰도를 가지도록 분석하였지만 , 5%의 확률은 일상에서 매우 흔하게 자주 발생한다.\n",
    "            TRPG 게임을 하다보면 20면체 주사위를 굴릴때 크리티컬이 나와서 끝났다고 생각하던 때에 역전승을 하거나\n",
    "                다 이겼다고 생각될 때 펌블이 나와서 망하는 경우가 아주 흔하게 발생한다는 것을 기억해라\n",
    "\n",
    "        * 개발팀의 역량 과 능력, 가지고 있는 자원에 대한 파악이 핵심이고 성공으로 향하는 올바른 시작이다.\n",
    "        "
   ]
  },
  {
   "cell_type": "markdown",
   "metadata": {},
   "source": [
    "### 1.2 필요 정보, 데이터\n",
    "    * 과거의 데이터는 현재의 상활을 파악하는데 의미있는 정보가 아닐 수 있다.\n",
    "        -> 최신의 데이터를 사용 -> 5년 ? 10년?\n",
    "    \n",
    "    * 구해야(필요한) 하는 확률 값 \n",
    "        - P ( 장르(각각) | hit 게임 )\n",
    "        - P ( hit 게임 )\n",
    "        _ P ( 장르(각각) )\n",
    "        \n",
    "        - P ( 플랫폼(각각) | hit 게임 )\n",
    "        - P ( 플랫폼(각각) )\n",
    "        \n",
    "        - P ( 지역(각각) | hit 게임 )\n",
    "        - P ( 지역(각각) )\n",
    "\n",
    "    * hit 게임의 정의\n",
    "        (!문제점) 출고량이 높은 게임의 기준이 모호함\n",
    "\n",
    "        - 출고량이 높은 게임에 label 표시 -> 데이터가 너무 많아서 불가능\n",
    "        - 특정값 이상 -> 연도별 특성 고려하는 것이 올바를 것 같음\n",
    "            -> 연도별 특성을 고려하지 않는다면 특정값은 어떻게 정하는게 좋을까?\n",
    "        - 매출량 상위 25% 를 출고량이 높은것 ?\n",
    "        - 매출량 정규화 후 상위 5% ? 10% ?\n",
    "        - kmeans로 데이터 그룹핑 후 구분\n",
    "            - 매출을 기준으로 \n",
    "                하하 ~ 상상 9 단계로 클러스터링 후 분류해 볼까?\n",
    "            \n",
    "            * 분석 데이터는 부트 스트렙을 해야 하는가?\n",
    "                - 부트스트랩의 평균값은 모수의 평균값과 같다\n",
    "                - 모수의 연도별, 지역별 매출 평규값을 구할 수 있다.\n",
    "                -> 분석데이터는 부트스트렙한 데이터를 사용한다.\n",
    "\n",
    "            *  적당한 그룹수를 찾기\n",
    "                -> (TODO) elbow 메소드 이용해서 값 정하기 시도 해보자\n",
    "        -> kmeans로 클러스러팅 진행하여 \n",
    "            최 상위 매출 그룹을 hit-게임으로 정의\n",
    "        "
   ]
  },
  {
   "cell_type": "markdown",
   "metadata": {},
   "source": [
    "### 1.3 분석 진행"
   ]
  },
  {
   "cell_type": "markdown",
   "metadata": {},
   "source": [
    "* 사용할 데이터의 연도 정하기  \n",
    "\n",
    "    -> 최근 10년의 데이터를 사용"
   ]
  },
  {
   "cell_type": "code",
   "execution_count": 1082,
   "metadata": {},
   "outputs": [
    {
     "data": {
      "image/png": "[encoded data removed]",
      "text/plain": [
       "<Figure size 432x288 with 1 Axes>"
      ]
     },
     "metadata": {
      "needs_background": "light"
     },
     "output_type": "display_data"
    }
   ],
   "source": [
    "#(v) 사용할 데이터의 연도 정하기\n",
    "df = df_target\n",
    "\n",
    "max_year = df.Year.max()\n",
    "max_year\n",
    "\n",
    "list_data_count = [ len(df[df.Year >= max_year - i ]) for i in range ( 20 ) ] \n",
    "list_data_count\n",
    "\n",
    "recent_year =  list( range(len(list_data_count)) )  \n",
    "recent_year\n",
    "\n",
    "df_ploat = pd.DataFrame (\n",
    "    {\n",
    "        \"Recent_year\" : recent_year ,\n",
    "        \"Data_count\" : list_data_count\n",
    "    }\n",
    ")\n",
    "\n",
    "sns.barplot ( data = df_ploat  ,x ='Recent_year' ,  y = 'Data_count')\n",
    "\n",
    "#(v) 분석에 사용하는 data는 최근 10년으로 정함\n",
    "recent_year_boundary = 10"
   ]
  },
  {
   "cell_type": "code",
   "execution_count": 1084,
   "metadata": {},
   "outputs": [],
   "source": [
    "#(TODO) 갑자기 동작 안함\n",
    "# sns.countplot ( data = df , x='sum_Sales')"
   ]
  },
  {
   "cell_type": "markdown",
   "metadata": {},
   "source": [
    "* hit 게임 기준 정하기\n",
    "\n",
    "    -> K-means 분류.    \n",
    "    -> 매출 구분  8 단계중 상위 2단계"
   ]
  },
  {
   "cell_type": "code",
   "execution_count": 1085,
   "metadata": {},
   "outputs": [
    {
     "name": "stdout",
     "output_type": "stream",
     "text": [
      "<class 'pandas.core.frame.DataFrame'>\n",
      "Int64Index: 1000000 entries, 4051 to 12597\n",
      "Data columns (total 9 columns):\n",
      " #   Column       Non-Null Count    Dtype   \n",
      "---  ------       --------------    -----   \n",
      " 0   Platform     1000000 non-null  category\n",
      " 1   Year         1000000 non-null  int64   \n",
      " 2   Genre        1000000 non-null  category\n",
      " 3   NA_Sales     1000000 non-null  int64   \n",
      " 4   EU_Sales     1000000 non-null  int64   \n",
      " 5   JP_Sales     1000000 non-null  int64   \n",
      " 6   Other_Sales  1000000 non-null  int64   \n",
      " 7   Type         1000000 non-null  category\n",
      " 8   sum_Sales    1000000 non-null  int64   \n",
      "dtypes: category(3), int64(6)\n",
      "memory usage: 56.3 MB\n"
     ]
    },
    {
     "name": "stderr",
     "output_type": "stream",
     "text": [
      "/var/folders/jn/rsqz7wy50rqf16w210vtbm1w0000gn/T/ipykernel_22111/3308618917.py:66: FutureWarning: The frame.append method is deprecated and will be removed from pandas in a future version. Use pandas.concat instead.\n",
      "  df_label_max = df_label_max.append ( df_insert )\n",
      "/var/folders/jn/rsqz7wy50rqf16w210vtbm1w0000gn/T/ipykernel_22111/3308618917.py:66: FutureWarning: The frame.append method is deprecated and will be removed from pandas in a future version. Use pandas.concat instead.\n",
      "  df_label_max = df_label_max.append ( df_insert )\n",
      "/var/folders/jn/rsqz7wy50rqf16w210vtbm1w0000gn/T/ipykernel_22111/3308618917.py:66: FutureWarning: The frame.append method is deprecated and will be removed from pandas in a future version. Use pandas.concat instead.\n",
      "  df_label_max = df_label_max.append ( df_insert )\n",
      "/var/folders/jn/rsqz7wy50rqf16w210vtbm1w0000gn/T/ipykernel_22111/3308618917.py:66: FutureWarning: The frame.append method is deprecated and will be removed from pandas in a future version. Use pandas.concat instead.\n",
      "  df_label_max = df_label_max.append ( df_insert )\n",
      "/var/folders/jn/rsqz7wy50rqf16w210vtbm1w0000gn/T/ipykernel_22111/3308618917.py:66: FutureWarning: The frame.append method is deprecated and will be removed from pandas in a future version. Use pandas.concat instead.\n",
      "  df_label_max = df_label_max.append ( df_insert )\n",
      "/var/folders/jn/rsqz7wy50rqf16w210vtbm1w0000gn/T/ipykernel_22111/3308618917.py:66: FutureWarning: The frame.append method is deprecated and will be removed from pandas in a future version. Use pandas.concat instead.\n",
      "  df_label_max = df_label_max.append ( df_insert )\n",
      "/var/folders/jn/rsqz7wy50rqf16w210vtbm1w0000gn/T/ipykernel_22111/3308618917.py:66: FutureWarning: The frame.append method is deprecated and will be removed from pandas in a future version. Use pandas.concat instead.\n",
      "  df_label_max = df_label_max.append ( df_insert )\n",
      "/var/folders/jn/rsqz7wy50rqf16w210vtbm1w0000gn/T/ipykernel_22111/3308618917.py:66: FutureWarning: The frame.append method is deprecated and will be removed from pandas in a future version. Use pandas.concat instead.\n",
      "  df_label_max = df_label_max.append ( df_insert )\n"
     ]
    },
    {
     "name": "stdout",
     "output_type": "stream",
     "text": [
      "   label       max       min  count  cum_sum\n",
      "5      5  21389999  21389999    NaN      NaN\n",
      "4      4  16380000  11990000    NaN      NaN\n",
      "6      6  11330000   8249999    NaN      NaN\n",
      "2      2   7670000   5020000    NaN      NaN\n",
      "3      3   4820000   2620000    NaN      NaN\n",
      "0      0   2570000   1230000    NaN      NaN\n",
      "7      7   1220000    420000    NaN      NaN\n",
      "1      1    410000     10000    NaN      NaN\n",
      " 상위 10% =  1140000.0  \n"
     ]
    },
    {
     "data": {
      "image/png": "[encoded data removed]",
      "text/plain": [
       "<Figure size 432x288 with 1 Axes>"
      ]
     },
     "metadata": {
      "needs_background": "light"
     },
     "output_type": "display_data"
    }
   ],
   "source": [
    "# (v) hit-게임 분류하기( kmeans)\n",
    "\n",
    "# (v) 매출 합계 컬럼 생성 \n",
    "df['sum_Sales'] = df.NA_Sales + df.EU_Sales + df.JP_Sales + df.Other_Sales\n",
    "df.head()\n",
    "\n",
    "\n",
    "# data backup\n",
    "df_org = df.copy()\n",
    "\n",
    "#(v) 최근연도 df 추출\n",
    "df_recent = df[df.Year >= max_year - (recent_year_boundary-1) ].copy()\n",
    "len(df_recent)\n",
    "\n",
    "\n",
    "\n",
    "\n",
    "#(v) 부트 스트랩 ( 10만개 )\n",
    "df_boot = df_recent.sample(n=1000000, replace=True)\n",
    "df_boot.head()\n",
    "df_boot.info()\n",
    "\n",
    "\n",
    "# 작업 df = \n",
    "df = df_boot\n",
    "\n",
    "\n",
    "\n",
    "\n",
    "\n",
    "\n",
    "\n",
    "#(TODO) 히스토그램으로  갯수 vs 값 출력해 보기\n",
    "#sns.histplot ( df.sum_Sales )\n",
    "\n",
    "#(v) Kmeans 실행 하여 클러스터 나누기\n",
    "# K-means 클러스터링 분석\n",
    "kmeans = KMeans( random_state=42)\n",
    "\n",
    "# (v) 부트스트랩을 한 data를 기준으로 클러스터링 진행\n",
    "# (TODO) 혹시 셈플(원본) 데이터를 클러스터링 분류 기준으로 잡아야 하는가?\n",
    "kmeans.fit_transform( np.array(df.sum_Sales.to_list()).reshape(-1, 1))    #(TODO) reshape(-1, 1) 해주어야 하는 이유 확인\n",
    "\n",
    "# # 최근연도의_부트스트렙_ 셈플 데이터를 클러스터링 하기\n",
    "# kmeans._transform(np.array(df_boot.sum_Sales.to_list()).reshape(-1, 1))\n",
    "cluster_labels = kmeans.labels_\n",
    "\n",
    "#(TODO)결과가 몇개의 클러스터 나뉘었는지 확인하는 간단한 방법이 뭐였더라?)\n",
    "set_cluster = set(cluster_labels )\n",
    "len(set_cluster)\n",
    "\n",
    "#(v) 어느 클러스터가 최고 매출 클러스터인지 확인 \n",
    "df['label'] = cluster_labels\n",
    "df['label'] = df['label'].astype('category')\n",
    "\n",
    "#(TODO) y값이 정상으로 출력되지 않는 이유는?\n",
    "sns.scatterplot ( data = df , y= 'sum_Sales' , x = 'label' )\n",
    "\n",
    "#[v] 어느 그룹까지를 hit-game으로 보면 좋을지 결정 하기\n",
    "# (TODO) 어떤 방법으로 나누는 것이 좋을까? \n",
    "\n",
    "# K-Means\n",
    "df_label_max = pd.DataFrame ()\n",
    "for i in range (8) :\n",
    "        df_insert = pd.DataFrame(\n",
    "                        {\n",
    "                                'label' : i ,\n",
    "                                'max' : df[df.label == i ].sum_Sales.max() , \n",
    "                                'min' : df[df.label == i ].sum_Sales.min() , \n",
    "                                'count' : df[df.label == i ].count()\n",
    "                        }\n",
    "                        , index=[i]\n",
    "                )\n",
    "        #print(df_insert)\n",
    "        df_label_max = df_label_max.append ( df_insert )\n",
    "\n",
    "#(v) max() 값 순으로 정렬하여 출력하는 방법은?\n",
    "df_label_max.sort_values(by='max' , axis=0, ascending=False, inplace=True)\n",
    "df_label_max['cum_sum'] = df_label_max['count'].cumsum()\n",
    "print(df_label_max)\n",
    "\n",
    "\n",
    "# 상위 10% 값의 경우에는? \n",
    "upper = np.percentile(df.sum_Sales, 90) \n",
    "print ( f\" 상위 10% =  {upper}  \")\n",
    "\n",
    "\n",
    "# #(v) 프로그램적으로 최고값 클러스터를 찾아내는 방법은?\n",
    "# cluster_hit_game = df_label_max.iloc[:2]['label']\n",
    "# cluster_hit_game\n"
   ]
  },
  {
   "cell_type": "code",
   "execution_count": 1087,
   "metadata": {},
   "outputs": [
    {
     "name": "stdout",
     "output_type": "stream",
     "text": [
      "[5, 4]\n"
     ]
    }
   ],
   "source": [
    "#(v) 프로그램적으로 최고값 클러스터를 찾아내는 방법은?\n",
    "# hit game의 cluster 정하기\n",
    "list_cluster_hit_game = df_label_max.iloc[:2]['label'].values.tolist()\n",
    "print (list_cluster_hit_game)"
   ]
  },
  {
   "cell_type": "markdown",
   "metadata": {},
   "source": [
    "\n",
    "* (v)- 확률값 구하기\n",
    "\n"
   ]
  },
  {
   "cell_type": "code",
   "execution_count": 1088,
   "metadata": {},
   "outputs": [
    {
     "data": {
      "text/plain": [
       "0.002258"
      ]
     },
     "metadata": {},
     "output_type": "display_data"
    },
    {
     "data": {
      "text/html": [
       "<div>\n",
       "<style scoped>\n",
       "    .dataframe tbody tr th:only-of-type {\n",
       "        vertical-align: middle;\n",
       "    }\n",
       "\n",
       "    .dataframe tbody tr th {\n",
       "        vertical-align: top;\n",
       "    }\n",
       "\n",
       "    .dataframe thead th {\n",
       "        text-align: right;\n",
       "    }\n",
       "</style>\n",
       "<table border=\"1\" class=\"dataframe\">\n",
       "  <thead>\n",
       "    <tr style=\"text-align: right;\">\n",
       "      <th></th>\n",
       "      <th>ratio</th>\n",
       "    </tr>\n",
       "  </thead>\n",
       "  <tbody>\n",
       "    <tr>\n",
       "      <th>Shooter</th>\n",
       "      <td>0.552259</td>\n",
       "    </tr>\n",
       "    <tr>\n",
       "      <th>Action</th>\n",
       "      <td>0.337467</td>\n",
       "    </tr>\n",
       "    <tr>\n",
       "      <th>Racing</th>\n",
       "      <td>0.110275</td>\n",
       "    </tr>\n",
       "  </tbody>\n",
       "</table>\n",
       "</div>"
      ],
      "text/plain": [
       "            ratio\n",
       "Shooter  0.552259\n",
       "Action   0.337467\n",
       "Racing   0.110275"
      ]
     },
     "metadata": {},
     "output_type": "display_data"
    },
    {
     "data": {
      "text/html": [
       "<div>\n",
       "<style scoped>\n",
       "    .dataframe tbody tr th:only-of-type {\n",
       "        vertical-align: middle;\n",
       "    }\n",
       "\n",
       "    .dataframe tbody tr th {\n",
       "        vertical-align: top;\n",
       "    }\n",
       "\n",
       "    .dataframe thead th {\n",
       "        text-align: right;\n",
       "    }\n",
       "</style>\n",
       "<table border=\"1\" class=\"dataframe\">\n",
       "  <thead>\n",
       "    <tr style=\"text-align: right;\">\n",
       "      <th></th>\n",
       "      <th>ratio</th>\n",
       "    </tr>\n",
       "  </thead>\n",
       "  <tbody>\n",
       "    <tr>\n",
       "      <th>Action</th>\n",
       "      <td>0.311842</td>\n",
       "    </tr>\n",
       "    <tr>\n",
       "      <th>Role-Playing</th>\n",
       "      <td>0.117226</td>\n",
       "    </tr>\n",
       "    <tr>\n",
       "      <th>Adventure</th>\n",
       "      <td>0.099438</td>\n",
       "    </tr>\n",
       "    <tr>\n",
       "      <th>Sports</th>\n",
       "      <td>0.099329</td>\n",
       "    </tr>\n",
       "    <tr>\n",
       "      <th>Misc</th>\n",
       "      <td>0.093198</td>\n",
       "    </tr>\n",
       "    <tr>\n",
       "      <th>Shooter</th>\n",
       "      <td>0.081164</td>\n",
       "    </tr>\n",
       "    <tr>\n",
       "      <th>Racing</th>\n",
       "      <td>0.045812</td>\n",
       "    </tr>\n",
       "    <tr>\n",
       "      <th>Fighting</th>\n",
       "      <td>0.040367</td>\n",
       "    </tr>\n",
       "    <tr>\n",
       "      <th>Simulation</th>\n",
       "      <td>0.032765</td>\n",
       "    </tr>\n",
       "    <tr>\n",
       "      <th>Platform</th>\n",
       "      <td>0.030797</td>\n",
       "    </tr>\n",
       "    <tr>\n",
       "      <th>Strategy</th>\n",
       "      <td>0.029869</td>\n",
       "    </tr>\n",
       "    <tr>\n",
       "      <th>Puzzle</th>\n",
       "      <td>0.018193</td>\n",
       "    </tr>\n",
       "  </tbody>\n",
       "</table>\n",
       "</div>"
      ],
      "text/plain": [
       "                 ratio\n",
       "Action        0.311842\n",
       "Role-Playing  0.117226\n",
       "Adventure     0.099438\n",
       "Sports        0.099329\n",
       "Misc          0.093198\n",
       "Shooter       0.081164\n",
       "Racing        0.045812\n",
       "Fighting      0.040367\n",
       "Simulation    0.032765\n",
       "Platform      0.030797\n",
       "Strategy      0.029869\n",
       "Puzzle        0.018193"
      ]
     },
     "metadata": {},
     "output_type": "display_data"
    },
    {
     "data": {
      "text/html": [
       "<div>\n",
       "<style scoped>\n",
       "    .dataframe tbody tr th:only-of-type {\n",
       "        vertical-align: middle;\n",
       "    }\n",
       "\n",
       "    .dataframe tbody tr th {\n",
       "        vertical-align: top;\n",
       "    }\n",
       "\n",
       "    .dataframe thead th {\n",
       "        text-align: right;\n",
       "    }\n",
       "</style>\n",
       "<table border=\"1\" class=\"dataframe\">\n",
       "  <thead>\n",
       "    <tr style=\"text-align: right;\">\n",
       "      <th></th>\n",
       "      <th>ratio</th>\n",
       "    </tr>\n",
       "  </thead>\n",
       "  <tbody>\n",
       "    <tr>\n",
       "      <th>X360</th>\n",
       "      <td>0.349424</td>\n",
       "    </tr>\n",
       "    <tr>\n",
       "      <th>PS3</th>\n",
       "      <td>0.333038</td>\n",
       "    </tr>\n",
       "    <tr>\n",
       "      <th>PS4</th>\n",
       "      <td>0.207263</td>\n",
       "    </tr>\n",
       "    <tr>\n",
       "      <th>3DS</th>\n",
       "      <td>0.110275</td>\n",
       "    </tr>\n",
       "  </tbody>\n",
       "</table>\n",
       "</div>"
      ],
      "text/plain": [
       "         ratio\n",
       "X360  0.349424\n",
       "PS3   0.333038\n",
       "PS4   0.207263\n",
       "3DS   0.110275"
      ]
     },
     "metadata": {},
     "output_type": "display_data"
    },
    {
     "data": {
      "text/html": [
       "<div>\n",
       "<style scoped>\n",
       "    .dataframe tbody tr th:only-of-type {\n",
       "        vertical-align: middle;\n",
       "    }\n",
       "\n",
       "    .dataframe tbody tr th {\n",
       "        vertical-align: top;\n",
       "    }\n",
       "\n",
       "    .dataframe thead th {\n",
       "        text-align: right;\n",
       "    }\n",
       "</style>\n",
       "<table border=\"1\" class=\"dataframe\">\n",
       "  <thead>\n",
       "    <tr style=\"text-align: right;\">\n",
       "      <th></th>\n",
       "      <th>ratio</th>\n",
       "    </tr>\n",
       "  </thead>\n",
       "  <tbody>\n",
       "    <tr>\n",
       "      <th>PS3</th>\n",
       "      <td>0.181466</td>\n",
       "    </tr>\n",
       "    <tr>\n",
       "      <th>X360</th>\n",
       "      <td>0.129340</td>\n",
       "    </tr>\n",
       "    <tr>\n",
       "      <th>3DS</th>\n",
       "      <td>0.128600</td>\n",
       "    </tr>\n",
       "    <tr>\n",
       "      <th>PSV</th>\n",
       "      <td>0.105223</td>\n",
       "    </tr>\n",
       "    <tr>\n",
       "      <th>PC</th>\n",
       "      <td>0.095619</td>\n",
       "    </tr>\n",
       "    <tr>\n",
       "      <th>PS4</th>\n",
       "      <td>0.086780</td>\n",
       "    </tr>\n",
       "    <tr>\n",
       "      <th>PSP</th>\n",
       "      <td>0.080169</td>\n",
       "    </tr>\n",
       "    <tr>\n",
       "      <th>XOne</th>\n",
       "      <td>0.054889</td>\n",
       "    </tr>\n",
       "    <tr>\n",
       "      <th>Wii</th>\n",
       "      <td>0.051182</td>\n",
       "    </tr>\n",
       "    <tr>\n",
       "      <th>DS</th>\n",
       "      <td>0.048461</td>\n",
       "    </tr>\n",
       "    <tr>\n",
       "      <th>WiiU</th>\n",
       "      <td>0.036465</td>\n",
       "    </tr>\n",
       "    <tr>\n",
       "      <th>PS2</th>\n",
       "      <td>0.001806</td>\n",
       "    </tr>\n",
       "  </tbody>\n",
       "</table>\n",
       "</div>"
      ],
      "text/plain": [
       "         ratio\n",
       "PS3   0.181466\n",
       "X360  0.129340\n",
       "3DS   0.128600\n",
       "PSV   0.105223\n",
       "PC    0.095619\n",
       "PS4   0.086780\n",
       "PSP   0.080169\n",
       "XOne  0.054889\n",
       "Wii   0.051182\n",
       "DS    0.048461\n",
       "WiiU  0.036465\n",
       "PS2   0.001806"
      ]
     },
     "metadata": {},
     "output_type": "display_data"
    }
   ],
   "source": [
    "#(v)- p ( hit 게임)\n",
    "df_label_ratio = df['label'].value_counts(normalize=True ,dropna = True)\n",
    "P_hit = df_label_ratio.sort_values( )[:2].sum()\n",
    "display( P_hit )\n",
    "\n",
    "# hit 게임\n",
    "#df_hit = df[ ((df['label'] == 3 ) | ( df['label'] == 1 ))  ]\n",
    "df_hit = df.query ( \"label in @ list_cluster_hit_game \"   )\n",
    "#(TODO) in 으로 조회 하기\n",
    "#df[ (df['label'] in list_cluster_hit_game) ]\n",
    "#list_cluster_hit_game = 3, 1\n",
    "\n",
    "# (v)- P ( 장르(각각) | hit 게임 )\n",
    "col_name = 'Genre'\n",
    "df_temp = df_hit[col_name].value_counts(normalize=True ) \n",
    "df_P_Genre_ratio_bar_hitGame = df_temp[df_temp > 0 ].to_frame(\"ratio\")\n",
    "display(df_P_Genre_ratio_bar_hitGame)\n",
    "\n",
    "# (v)_ P ( 장르(각각) )\n",
    "df_temp = df[col_name].value_counts(normalize=True ) \n",
    "df_P_Genre_ratio = df_temp[df_temp > 0 ].to_frame(\"ratio\")\n",
    "display(df_P_Genre_ratio)\n",
    "\n",
    "# (v)- P ( 플랫폼(각각) | hit 게임 )\n",
    "col_name = 'Platform'\n",
    "df_temp = df_hit[col_name].value_counts(normalize=True ) \n",
    "df_P_Platform_ratio_bar_hitGame = df_temp[df_temp > 0 ].to_frame(\"ratio\")\n",
    "display(df_P_Platform_ratio_bar_hitGame)\n",
    "\n",
    "# (v)- P ( 플랫폼(각각) )\n",
    "df_temp = df[col_name].value_counts(normalize=True ) \n",
    "df_P_Platform_ratio = df_temp[df_temp > 0 ].to_frame(\"ratio\")\n",
    "display(df_P_Platform_ratio)\n",
    "\n",
    "# (v)- P ( 지역(각각) | hit 게임 )\n",
    "# (v)- P ( 지역(각각) )\n",
    "\n",
    "    # # -> 아래 쪽에서 별도 구현\n"
   ]
  },
  {
   "cell_type": "code",
   "execution_count": 1089,
   "metadata": {},
   "outputs": [
    {
     "data": {
      "text/plain": [
       "ratio    0.015364\n",
       "Name: Shooter, dtype: float64"
      ]
     },
     "execution_count": 1089,
     "metadata": {},
     "output_type": "execute_result"
    }
   ],
   "source": [
    "df_P_Genre_ratio_bar_hitGame.loc['Shooter'] \n",
    "df_P_Genre_ratio.loc['Shooter']\n",
    "df_P_Genre_ratio_bar_hitGame.loc['Shooter'] * P_hit / df_P_Genre_ratio.loc['Shooter']"
   ]
  },
  {
   "cell_type": "code",
   "execution_count": 1090,
   "metadata": {},
   "outputs": [
    {
     "name": "stdout",
     "output_type": "stream",
     "text": [
      "0.01536395446256961\n"
     ]
    }
   ],
   "source": [
    "sri_ratio = (df_P_Genre_ratio_bar_hitGame.loc['Shooter'] * P_hit / df_P_Genre_ratio.loc['Shooter'])\n",
    "print( sri_ratio.values[0] )"
   ]
  },
  {
   "cell_type": "markdown",
   "metadata": {},
   "source": [
    "#### 장르별 hit 게임 확률"
   ]
  },
  {
   "cell_type": "code",
   "execution_count": 1091,
   "metadata": {},
   "outputs": [
    {
     "data": {
      "text/html": [
       "<div>\n",
       "<style scoped>\n",
       "    .dataframe tbody tr th:only-of-type {\n",
       "        vertical-align: middle;\n",
       "    }\n",
       "\n",
       "    .dataframe tbody tr th {\n",
       "        vertical-align: top;\n",
       "    }\n",
       "\n",
       "    .dataframe thead th {\n",
       "        text-align: right;\n",
       "    }\n",
       "</style>\n",
       "<table border=\"1\" class=\"dataframe\">\n",
       "  <thead>\n",
       "    <tr style=\"text-align: right;\">\n",
       "      <th></th>\n",
       "      <th>Genre</th>\n",
       "      <th>ratio</th>\n",
       "    </tr>\n",
       "  </thead>\n",
       "  <tbody>\n",
       "    <tr>\n",
       "      <th>Shooter</th>\n",
       "      <td>Shooter</td>\n",
       "      <td>0.015364</td>\n",
       "    </tr>\n",
       "    <tr>\n",
       "      <th>Racing</th>\n",
       "      <td>Racing</td>\n",
       "      <td>0.005435</td>\n",
       "    </tr>\n",
       "    <tr>\n",
       "      <th>Action</th>\n",
       "      <td>Action</td>\n",
       "      <td>0.002444</td>\n",
       "    </tr>\n",
       "  </tbody>\n",
       "</table>\n",
       "</div>"
      ],
      "text/plain": [
       "           Genre     ratio\n",
       "Shooter  Shooter  0.015364\n",
       "Racing    Racing  0.005435\n",
       "Action    Action  0.002444"
      ]
     },
     "metadata": {},
     "output_type": "display_data"
    },
    {
     "data": {
      "text/plain": [
       "<AxesSubplot:xlabel='Genre', ylabel='ratio'>"
      ]
     },
     "execution_count": 1091,
     "metadata": {},
     "output_type": "execute_result"
    },
    {
     "data": {
      "image/png": "[encoded data removed]",
      "text/plain": [
       "<Figure size 432x288 with 1 Axes>"
      ]
     },
     "metadata": {
      "needs_background": "light"
     },
     "output_type": "display_data"
    }
   ],
   "source": [
    "# 장르별 hit 게임 확률 (베이지안)\n",
    "# \"\"\"        A : hit 게임\n",
    "#             B : 장르(각)\n",
    "\n",
    "#             P(A|B) = P(B|A) * P(A) / P(B)\n",
    "# \"\"\"\n",
    "\n",
    "# hit 게임의 장르\n",
    "#P_hitGame_bar_Genre =  df_P_Genre_ratio_bar_hitGame [] * P_hit / P_ge\n",
    "list_Genre_hit = df_P_Genre_ratio_bar_hitGame.index \n",
    "\n",
    "# P (hit 게임 | 각 장르별 )\n",
    "df_P_hitGame_bar_Genre = pd.DataFrame()\n",
    "#df_P_hitGame_bar_Genre.columns = ['Genre','ratio']\n",
    "#display ( df_P_hitGame_bar_Genre)\n",
    "\n",
    "for genre in list_Genre_hit :\n",
    "    sri_ratio = (df_P_Genre_ratio_bar_hitGame.loc[genre] * P_hit / df_P_Genre_ratio.loc[genre])\n",
    "    #print ( f\" ratio = { sri_ratio } : {df_P_Genre_ratio_bar_hitGame.loc[genre] } *  {P_hit}  / { df_P_Genre_ratio.loc[genre]} \"      )\n",
    "    df_insert = pd.DataFrame ({\n",
    "        \"Genre\" : genre ,\n",
    "        \"ratio\" :  sri_ratio.values[0] # 값만 \n",
    "    }, index = [genre] )\n",
    "    df_P_hitGame_bar_Genre = pd.concat( [df_P_hitGame_bar_Genre , df_insert] , axis= 0)\n",
    "\n",
    "# 정렬\n",
    "df_P_hitGame_bar_Genre = df_P_hitGame_bar_Genre.sort_values( by=['ratio'] , ascending= False )\n",
    "display(df_P_hitGame_bar_Genre)\n",
    "\n",
    "\n",
    "# # 시각화\n",
    "sns.barplot ( data = df_P_hitGame_bar_Genre , x = 'Genre' , y = 'ratio' )\n",
    "#(TODO) 퍼센트 값 추가\n",
    "\n"
   ]
  },
  {
   "cell_type": "code",
   "execution_count": 1092,
   "metadata": {},
   "outputs": [
    {
     "data": {
      "text/plain": [
       "Shooter    1.5\n",
       "Racing     0.5\n",
       "Action     0.2\n",
       "Name: ratio, dtype: float64"
      ]
     },
     "execution_count": 1092,
     "metadata": {},
     "output_type": "execute_result"
    }
   ],
   "source": [
    "df_P_hitGame_bar_Genre['ratio'].round(3)*100"
   ]
  },
  {
   "cell_type": "markdown",
   "metadata": {},
   "source": [
    "#### 플렛폼 별 hit 게임 확률"
   ]
  },
  {
   "cell_type": "code",
   "execution_count": 1093,
   "metadata": {},
   "outputs": [
    {
     "data": {
      "text/html": [
       "<div>\n",
       "<style scoped>\n",
       "    .dataframe tbody tr th:only-of-type {\n",
       "        vertical-align: middle;\n",
       "    }\n",
       "\n",
       "    .dataframe tbody tr th {\n",
       "        vertical-align: top;\n",
       "    }\n",
       "\n",
       "    .dataframe thead th {\n",
       "        text-align: right;\n",
       "    }\n",
       "</style>\n",
       "<table border=\"1\" class=\"dataframe\">\n",
       "  <thead>\n",
       "    <tr style=\"text-align: right;\">\n",
       "      <th></th>\n",
       "      <th>Platform</th>\n",
       "      <th>ratio</th>\n",
       "    </tr>\n",
       "  </thead>\n",
       "  <tbody>\n",
       "    <tr>\n",
       "      <th>X360</th>\n",
       "      <td>X360</td>\n",
       "      <td>0.006100</td>\n",
       "    </tr>\n",
       "    <tr>\n",
       "      <th>PS4</th>\n",
       "      <td>PS4</td>\n",
       "      <td>0.005393</td>\n",
       "    </tr>\n",
       "    <tr>\n",
       "      <th>PS3</th>\n",
       "      <td>PS3</td>\n",
       "      <td>0.004144</td>\n",
       "    </tr>\n",
       "    <tr>\n",
       "      <th>3DS</th>\n",
       "      <td>3DS</td>\n",
       "      <td>0.001936</td>\n",
       "    </tr>\n",
       "  </tbody>\n",
       "</table>\n",
       "</div>"
      ],
      "text/plain": [
       "     Platform     ratio\n",
       "X360     X360  0.006100\n",
       "PS4       PS4  0.005393\n",
       "PS3       PS3  0.004144\n",
       "3DS       3DS  0.001936"
      ]
     },
     "metadata": {},
     "output_type": "display_data"
    },
    {
     "data": {
      "text/plain": [
       "<AxesSubplot:xlabel='Platform', ylabel='ratio'>"
      ]
     },
     "execution_count": 1093,
     "metadata": {},
     "output_type": "execute_result"
    },
    {
     "data": {
      "image/png": "[encoded data removed]",
      "text/plain": [
       "<Figure size 432x288 with 1 Axes>"
      ]
     },
     "metadata": {
      "needs_background": "light"
     },
     "output_type": "display_data"
    }
   ],
   "source": [
    "\"\"\"\"\n",
    "        목표 -> 각 플렛폼 별로 매출이 높을 확률  ? 베이지안\n",
    "            A : hit 게임\n",
    "            B : 플렛폼(각)\n",
    "\n",
    "            P(A|B) = P(B|A) * P(A) / P(B)\n",
    "\"\"\"\n",
    "\n",
    "# hit 게임의 장르\n",
    "#P_hitGame_bar_Genre =  df_P_Genre_ratio_bar_hitGame [] * P_hit / P_ge\n",
    "list_Platform_hit = df_P_Platform_ratio_bar_hitGame.index \n",
    "\n",
    "# P (hit 게임 | 각 장르별 )\n",
    "df_P_hitGame_bar_Platform = pd.DataFrame()\n",
    "#df_P_hitGame_bar_Genre.columns = ['Genre','ratio']\n",
    "#display ( df_P_hitGame_bar_Genre)\n",
    "\n",
    "for platform in list_Platform_hit :\n",
    "    sri_ratio = (df_P_Platform_ratio_bar_hitGame.loc[platform] * P_hit / df_P_Platform_ratio.loc[platform])\n",
    "    #print ( f\" ratio = { sri_ratio } : {df_P_Genre_ratio_bar_hitGame.loc[genre] } *  {P_hit}  / { df_P_Genre_ratio.loc[genre]} \"      )\n",
    "    df_insert = pd.DataFrame ({\n",
    "        \"Platform\" : platform ,\n",
    "        \"ratio\" :  sri_ratio.values[0] # 값만 \n",
    "    }, index = [platform] )\n",
    "    df_P_hitGame_bar_Platform = pd.concat( [df_P_hitGame_bar_Platform , df_insert] , axis= 0)\n",
    "\n",
    "# 정렬\n",
    "df_P_hitGame_bar_Platform = df_P_hitGame_bar_Platform.sort_values( by=['ratio'] , ascending= False )\n",
    "display(df_P_hitGame_bar_Platform)\n",
    "\n",
    "\n",
    "# # 시각화\n",
    "sns.barplot ( data = df_P_hitGame_bar_Platform , x = 'Platform' , y = 'ratio' )\n",
    "#(TODO) 퍼센트 값 추가\n",
    "\n",
    "\n"
   ]
  },
  {
   "cell_type": "code",
   "execution_count": 1094,
   "metadata": {},
   "outputs": [
    {
     "data": {
      "text/plain": [
       "X360    0.6\n",
       "PS4     0.5\n",
       "PS3     0.4\n",
       "3DS     0.2\n",
       "Name: ratio, dtype: float64"
      ]
     },
     "execution_count": 1094,
     "metadata": {},
     "output_type": "execute_result"
    }
   ],
   "source": [
    "df_P_hitGame_bar_Platform['ratio'].round(3)*100"
   ]
  },
  {
   "cell_type": "markdown",
   "metadata": {},
   "source": [
    "#### 지역별 hit 게임 확률\n",
    "        목표 -> 각 플렛폼 별로 매출이 높을 확률  ? 베이지안\n",
    "            A : hit 게임\n",
    "            B : 지역 (각)\n",
    "\n",
    "            P(A|B) = P(B|A) * P(A) / P(B)\n"
   ]
  },
  {
   "cell_type": "code",
   "execution_count": 1095,
   "metadata": {},
   "outputs": [
    {
     "data": {
      "text/html": [
       "<div>\n",
       "<style scoped>\n",
       "    .dataframe tbody tr th:only-of-type {\n",
       "        vertical-align: middle;\n",
       "    }\n",
       "\n",
       "    .dataframe tbody tr th {\n",
       "        vertical-align: top;\n",
       "    }\n",
       "\n",
       "    .dataframe thead th {\n",
       "        text-align: right;\n",
       "    }\n",
       "</style>\n",
       "<table border=\"1\" class=\"dataframe\">\n",
       "  <thead>\n",
       "    <tr style=\"text-align: right;\">\n",
       "      <th></th>\n",
       "      <th>Platform</th>\n",
       "      <th>Year</th>\n",
       "      <th>Genre</th>\n",
       "      <th>NA_Sales</th>\n",
       "      <th>EU_Sales</th>\n",
       "      <th>JP_Sales</th>\n",
       "      <th>Other_Sales</th>\n",
       "      <th>Type</th>\n",
       "      <th>sum_Sales</th>\n",
       "      <th>label</th>\n",
       "    </tr>\n",
       "  </thead>\n",
       "  <tbody>\n",
       "    <tr>\n",
       "      <th>10901</th>\n",
       "      <td>3DS</td>\n",
       "      <td>2011</td>\n",
       "      <td>Racing</td>\n",
       "      <td>4740000</td>\n",
       "      <td>3910000</td>\n",
       "      <td>2670000</td>\n",
       "      <td>890000</td>\n",
       "      <td>portable</td>\n",
       "      <td>12210000</td>\n",
       "      <td>4</td>\n",
       "    </tr>\n",
       "    <tr>\n",
       "      <th>3414</th>\n",
       "      <td>PS3</td>\n",
       "      <td>2013</td>\n",
       "      <td>Action</td>\n",
       "      <td>7010000</td>\n",
       "      <td>9270000</td>\n",
       "      <td>970000</td>\n",
       "      <td>4139999</td>\n",
       "      <td>console</td>\n",
       "      <td>21389999</td>\n",
       "      <td>5</td>\n",
       "    </tr>\n",
       "    <tr>\n",
       "      <th>10695</th>\n",
       "      <td>X360</td>\n",
       "      <td>2013</td>\n",
       "      <td>Action</td>\n",
       "      <td>9630000</td>\n",
       "      <td>5310000</td>\n",
       "      <td>60000</td>\n",
       "      <td>1380000</td>\n",
       "      <td>console</td>\n",
       "      <td>16380000</td>\n",
       "      <td>4</td>\n",
       "    </tr>\n",
       "    <tr>\n",
       "      <th>1973</th>\n",
       "      <td>PS4</td>\n",
       "      <td>2014</td>\n",
       "      <td>Action</td>\n",
       "      <td>3800000</td>\n",
       "      <td>5810000</td>\n",
       "      <td>360000</td>\n",
       "      <td>2020000</td>\n",
       "      <td>console</td>\n",
       "      <td>11990000</td>\n",
       "      <td>4</td>\n",
       "    </tr>\n",
       "    <tr>\n",
       "      <th>8892</th>\n",
       "      <td>PS4</td>\n",
       "      <td>2015</td>\n",
       "      <td>Shooter</td>\n",
       "      <td>5770000</td>\n",
       "      <td>5810000</td>\n",
       "      <td>350000</td>\n",
       "      <td>2310000</td>\n",
       "      <td>console</td>\n",
       "      <td>14240000</td>\n",
       "      <td>4</td>\n",
       "    </tr>\n",
       "  </tbody>\n",
       "</table>\n",
       "</div>"
      ],
      "text/plain": [
       "      Platform  Year    Genre  NA_Sales  EU_Sales  JP_Sales  Other_Sales  \\\n",
       "10901      3DS  2011   Racing   4740000   3910000   2670000       890000   \n",
       "3414       PS3  2013   Action   7010000   9270000    970000      4139999   \n",
       "10695     X360  2013   Action   9630000   5310000     60000      1380000   \n",
       "1973       PS4  2014   Action   3800000   5810000    360000      2020000   \n",
       "8892       PS4  2015  Shooter   5770000   5810000    350000      2310000   \n",
       "\n",
       "           Type  sum_Sales label  \n",
       "10901  portable   12210000     4  \n",
       "3414    console   21389999     5  \n",
       "10695   console   16380000     4  \n",
       "1973    console   11990000     4  \n",
       "8892    console   14240000     4  "
      ]
     },
     "execution_count": 1095,
     "metadata": {},
     "output_type": "execute_result"
    }
   ],
   "source": [
    "df_hit.head()"
   ]
  },
  {
   "cell_type": "code",
   "execution_count": 1096,
   "metadata": {},
   "outputs": [
    {
     "data": {
      "text/html": [
       "<div>\n",
       "<style scoped>\n",
       "    .dataframe tbody tr th:only-of-type {\n",
       "        vertical-align: middle;\n",
       "    }\n",
       "\n",
       "    .dataframe tbody tr th {\n",
       "        vertical-align: top;\n",
       "    }\n",
       "\n",
       "    .dataframe thead th {\n",
       "        text-align: right;\n",
       "    }\n",
       "</style>\n",
       "<table border=\"1\" class=\"dataframe\">\n",
       "  <thead>\n",
       "    <tr style=\"text-align: right;\">\n",
       "      <th></th>\n",
       "      <th>Area</th>\n",
       "      <th>ratio</th>\n",
       "    </tr>\n",
       "  </thead>\n",
       "  <tbody>\n",
       "    <tr>\n",
       "      <th>Other_Sales</th>\n",
       "      <td>Other_Sales</td>\n",
       "      <td>0.002686</td>\n",
       "    </tr>\n",
       "    <tr>\n",
       "      <th>EU_Sales</th>\n",
       "      <td>EU_Sales</td>\n",
       "      <td>0.002483</td>\n",
       "    </tr>\n",
       "    <tr>\n",
       "      <th>NA_Sales</th>\n",
       "      <td>NA_Sales</td>\n",
       "      <td>0.002390</td>\n",
       "    </tr>\n",
       "    <tr>\n",
       "      <th>JP_Sales</th>\n",
       "      <td>JP_Sales</td>\n",
       "      <td>0.000791</td>\n",
       "    </tr>\n",
       "  </tbody>\n",
       "</table>\n",
       "</div>"
      ],
      "text/plain": [
       "                    Area     ratio\n",
       "Other_Sales  Other_Sales  0.002686\n",
       "EU_Sales        EU_Sales  0.002483\n",
       "NA_Sales        NA_Sales  0.002390\n",
       "JP_Sales        JP_Sales  0.000791"
      ]
     },
     "metadata": {},
     "output_type": "display_data"
    },
    {
     "data": {
      "text/plain": [
       "<AxesSubplot:xlabel='Area', ylabel='ratio'>"
      ]
     },
     "execution_count": 1096,
     "metadata": {},
     "output_type": "execute_result"
    },
    {
     "data": {
      "image/png": "[encoded data removed]",
      "text/plain": [
       "<Figure size 432x288 with 1 Axes>"
      ]
     },
     "metadata": {
      "needs_background": "light"
     },
     "output_type": "display_data"
    }
   ],
   "source": [
    "\n",
    "# (v)- P ( 지역(각각) | hit 게임 ) \n",
    "#   => df_P_Area_bar_hitGame\n",
    "#\n",
    "df_melt_hit = pd.melt(df_hit, id_vars=['Platform', 'Year' , 'Genre' , 'Type' , 'sum_Sales' , 'label' ] , var_name='Area', value_name='area_Sales' )\n",
    "df_melt_hit.head()\n",
    "\n",
    "df_temp = df_melt_hit.groupby( by = 'Area' ).sum().drop( columns= [ 'Year' , 'sum_Sales' ])\n",
    "sales_all = df_temp.sum() #.values[0]\n",
    "df_temp = df_temp / sales_all\n",
    "df_temp.columns = ['ratio']\n",
    "df_temp = df_temp.sort_values( by=['ratio'] , ascending= False )\n",
    "\n",
    "df_P_Area_bar_hitGame = df_temp.copy()\n",
    "\n",
    "\n",
    "# (v)- P ( 지역(각각) ). \n",
    "#   => df_P_Area\n",
    "df_melt = pd.melt(df, id_vars=['Platform', 'Year' , 'Genre' , 'Type' , 'sum_Sales' , 'label' ] , var_name='Area', value_name='area_Sales' )\n",
    "df_melt.head()\n",
    "\n",
    "df_temp = df_melt.groupby( by = 'Area' ).sum().drop( columns= [ 'Year' , 'sum_Sales' ])\n",
    "sales_all = df_temp.sum() #.values[0]\n",
    "df_temp = df_temp / sales_all\n",
    "df_temp.columns = ['ratio']\n",
    "df_temp = df_temp.sort_values( by=['ratio'] , ascending= False )\n",
    "\n",
    "df_P_Area = df_temp.copy()\n",
    "\n",
    "\n",
    "\n",
    "\n",
    "\"\"\"\n",
    "        목표 -> 각 지역 별로 매출이 높을 확률  ? 베이지안\n",
    "            A : hit 게임\n",
    "            B : 지역 (각)\n",
    "\n",
    "            P(A|B) = P(B|A) * P(A) / P(B)\n",
    "\n",
    "\"\"\"\n",
    "\n",
    "# hit 게임의 장르\n",
    "#P_hitGame_bar_Genre =  df_P_Genre_ratio_bar_hitGame [] * P_hit / P_ge\n",
    "list_Area = df_melt_hit.Area.unique().tolist()\n",
    "\n",
    "# P (hit 게임 | 각 지역별 )\n",
    "df_P_hitGame_bar_Area = pd.DataFrame()\n",
    "\n",
    "for Area in list_Area :\n",
    "    sri_ratio = (df_P_Area_bar_hitGame.loc[Area] * P_hit / df_P_Area.loc[Area])\n",
    "    df_insert = pd.DataFrame ({\n",
    "        \"Area\" : Area ,\n",
    "        \"ratio\" :  sri_ratio.values[0] # 값만 \n",
    "    }, index = [Area] )\n",
    "    df_P_hitGame_bar_Area = pd.concat( [df_P_hitGame_bar_Area , df_insert] , axis= 0)\n",
    "\n",
    "# 정렬\n",
    "df_P_hitGame_bar_Area = df_P_hitGame_bar_Area.sort_values( by=['ratio'] , ascending= False )\n",
    "display(df_P_hitGame_bar_Area)\n",
    "\n",
    "\n",
    "# # 시각화\n",
    "sns.barplot ( data = df_P_hitGame_bar_Area , x = 'Area' , y = 'ratio' )\n",
    "#(TODO) 퍼센트 값 추가\n",
    "\n",
    "\n",
    "\n",
    "\n",
    "\n"
   ]
  },
  {
   "cell_type": "code",
   "execution_count": 426,
   "metadata": {},
   "outputs": [],
   "source": [
    "\n",
    "# # (TODO) , na_action = None 이 왜 안먹힐까?\n",
    "# df_hit.groupby( by= 'Platform' ,dropna = True, )['sum_Sales'].mean().map( lambda x : x , na_action = None ).dropna()"
   ]
  },
  {
   "cell_type": "markdown",
   "metadata": {},
   "source": [
    "### 1.4 분석 결과"
   ]
  },
  {
   "cell_type": "markdown",
   "metadata": {},
   "source": [
    "언어 = 영어! , 일본어! , 유럽 언어? => 프랑스? , 독일? ...\n",
    "지역 = 미국 , 유럽 , 일본 , 기타 \n",
    "\n",
    "장르별 힛트 게임 확률은  \n",
    "Shooter         2.6\n",
    "Platform        1.6\n",
    "Simulation      0.8\n",
    "Misc            0.6\n",
    "Racing          0.6\n",
    "Role-Playing    0.5\n",
    "Action          0.2\n",
    "\n",
    "플랫폼별 힛트 게임 확률은\n",
    "X360    1.4\n",
    "3DS     1.0\n",
    "Wii     0.6\n",
    "PS3     0.6\n",
    "PS4     0.5"
   ]
  },
  {
   "cell_type": "markdown",
   "metadata": {},
   "source": [
    "### 1.5 사용된 가정 정리\n",
    "    * 받은 데이터는 전체 모든 게임의 데이터가 아닌 일부 셈플 데이터임 ( 2109년 스팀 출시 게임만 8396개 임 ) \n",
    "    * 외부 개발 의뢰가 아닌 자체 개발임\n",
    "    * 개발 기간은 1년~2년 이라고 가정\n",
    "    * 판매는 온라인 이지만, 마켓팅 비용은 지역 구분에 따라 추가 발생 함\n",
    "    * 게임의 수익 비율은 장르별로 비슷하다고 가정\n",
    "        장르별로 개발비용은 다르지만\n",
    "        - 개발비용이 비싼 게임은 판매 가격도 비싸고, 개발 비용이 싼 게임은 판매 가격도 싸게 팔아서 수익율은 비슷 하다고 가정 한다.\n",
    "    * 한 사람은 여러개의 게임을 구매 할 수 있다고 가정 -> 한개의 게임을 구매 후에도 다른 게임을 구매할 수 있음 ( 자금에 한도 없음 )\n",
    "    * 매출 기본 단위는 , M ( 백만 , 10^6 )"
   ]
  },
  {
   "cell_type": "markdown",
   "metadata": {},
   "source": [
    "### 1.6 분석시 발견된 문제점\n",
    "GIGO\n",
    "* 최근 데이터가 부족함 , 오래된 데이터에 비해서 너무 적음\n",
    "* 데이터가 원 소스가 copy & paste로 만들어진 부분이 많은 것으로 보임 (dup), \n",
    " - 이름만 다르고 매출 장르, 플랫폼 , 매출 data가 동일한 내용이 많음\n",
    "* 데이터의 플랫폼이 편중되어 있는것으로 보임 , PC등의 data가 매우 부족"
   ]
  },
  {
   "cell_type": "markdown",
   "metadata": {},
   "source": []
  },
  {
   "cell_type": "markdown",
   "metadata": {},
   "source": [
    "----\n",
    "## 2. 필수 목표 ( 별도 요청 사항 )"
   ]
  },
  {
   "cell_type": "markdown",
   "metadata": {},
   "source": [
    "### 필수 목표는 최근 데이터 뿐만이 아닌 전체 데이터에 대한 분석 내용이어서 year 범위를 조정한다."
   ]
  },
  {
   "cell_type": "markdown",
   "metadata": {},
   "source": [
    "### 2-1. 지역에 따라서 선호하는 게임 장르가 다를까 라는 질문에 대답을 하셔야합니다.\n",
    "\n",
    "가설검증 \n",
    "    : 지역별 선호 게임장르는 다른가?  \n",
    "    \n",
    "        -> 접근방법: 세부 가설검증으로 나눠서 분할 확인 후 결과를 합친다\n",
    "\n",
    "        1.  전체중에서 선호 장르가 무엇인지 확인\n",
    "            -> 결과 : 전체중 선호장르 = a\n",
    "\n",
    "                * 부트 스트랩\n",
    "                * 각 장르별 순위 집계\n",
    "                * 모수 전체에 대한 선호 장르 확정 -> 오차율은? 의미가 있을까?\n",
    "\n",
    "        2. 각 지역별로 가설검증\n",
    "\n",
    "            ho = 전체의 최선호 장르\n",
    "            h0 = a (a: 별도의 분석으로 구해진 값)\n",
    "            h1 = A 지역의 최선호 장르\n",
    "\n",
    "            귀무가설 : h1 = a\n",
    "            대립가설 : h1 != a\n",
    "\n",
    "        3. 2번 검증을 지역별로 모두 수행중에 하나라도 대립가설인 경우가 있으면 \n",
    "            -> 지역별로 다름 \n",
    "            anova를 이용해서 혹은 반복수행을 통해 검증한다.\n",
    "\n",
    "\n",
    "결과 출력  \n",
    "\n",
    "        -(DF) 지역 , 장르 , 장르별 매출 , 지역내 장르별 매출 비율\n",
    "        -(그래프) 표 : x: 지역 , x_sub 장르 ( 누적 으로 표시 하자 , 너무 많다) , y: 지역내 장르별 매출 비율 \n",
    "\n",
    "        X ->추가1) 시간대별로 지역의 선호도가 달라지지 않았는지 확인\n",
    "            -(DF) 지역 , 연도 , 장르 , 장르별 매출 , 지역내 장르별 매출 비율\n",
    "            -(그래프) 표 : x:연도 , x-sub 지역 , sub 장르 , y: 지역내 장르별 매출 비율 \n",
    "                -> 너무 복잡하다 \n",
    "                    -> 단순하게? 어떻게?"
   ]
  },
  {
   "cell_type": "markdown",
   "metadata": {},
   "source": [
    "#### 상세 계획\n",
    "\n",
    "셈플 →  여러개 5000 개의  셈플을 1000번 뽑은 것 → 정규분포를 따르고 , 모수의 평균에 수렴한다.  \n",
    "    모수의 각 장르별 매출 비율 이 구해짐 \n",
    "\n",
    "    a 장르의 매출 비율 평균  (정규 분포)  \n",
    "    b 장르의 매출 비율 평균 (정규 분포)  \n",
    "    …\n",
    "\n",
    "    만약 a 장르의 평균 이  가장 높고 그 값을  Pa 라고 한다면   \n",
    "\n",
    "[ 코드 :  \n",
    "    1. 셈플을 5000개 뽑아서 각 장르별로 비율을 계산한다.  \n",
    "    \n",
    "    2. 위의 작업을 1000번 반복하여 결과를 list로 만든다. \n",
    "        ⇒ 각 장르별로 정규분포를 따르는 데이터를 얻게 되고   \n",
    "        ⇒ 각 장르별 평균 비율 값을 얻게 된다.  \n",
    "        \n",
    "    3. 평균 비율 값이 가장 높은  장르와  비율의 평균 값을 얻는다.  \n",
    "        fav_장르 ,  fav_장르_비율   \n",
    "]  \n",
    "\n",
    "셈플 → 지역 별로 나눔\n",
    "    → 여러개 5000 개의  셈플을 1000번 뽑은 것 → 정규분포를 따르고 , 모수의 평균에 수렴한다.\n",
    "\n",
    "    지역별로 각 장르별 매출 비율이 구해짐\n",
    "    a 장르의 매출 비율 평균  (정규 분포) ( 특정 지역의 ) \n",
    "    의 값이 Pa라고 할 수 있는지를 가설검증 한다.\n",
    "\n",
    "    -> 모든 지역에 대해서 가설검증을 진행한다.\n",
    "    -> 하나라도 대립가설이 있으면 귀무가설 인정할 수 없음\n",
    "\n"
   ]
  },
  {
   "cell_type": "code",
   "execution_count": 1097,
   "metadata": {},
   "outputs": [],
   "source": [
    "# (목표) 모집단의 최선호 장르,  매출 비율 하기\n",
    "#  fav_장르  = ?\n",
    "#  , fav_장르_매출비율 = ?\n",
    "#  , lst_fav_장르_매출비율 = ?   ( t-test 메소드를 이용하기 위해서 필요함 )\n",
    "\n",
    "\"\"\"\n",
    "[ 코드 :\n",
    "    1. 셈플을 5000개 뽑아서 각 장르별로 비율을 계산한다.\n",
    "    2. 위의 작업을 1000번 반복하여 결과를 list로 만든다. \n",
    "        ⇒ 각 장르별로 정규분포를 따르는 데이터를 얻게 되고 \n",
    "        ⇒ 각 장르별 평균 비율 값을 얻게 된다.\n",
    "        \n",
    "    3. 평균 비율 값이 가장 높은  장르와  비율의 평균 값을 얻는다.\n",
    "        fav_장르 ,  fav_장르_비율 \n",
    "]\n",
    "\n",
    "\"\"\"\n",
    "\n",
    "# 셈플 데이터\n",
    "df_sample = df_target[['Genre' , 'NA_Sales' ,'EU_Sales' , 'JP_Sales' , 'Other_Sales'] ].copy()\n",
    "df_sample['sum_Sales'] = df_sample.NA_Sales + df_sample.EU_Sales + df_sample.JP_Sales + df_sample.Other_Sales\n",
    "\n",
    "\n",
    "# 파라미터로 전달할 셈플\n",
    "df_tmp = df_sample[ ['Genre' , 'sum_Sales'] ].copy()\n",
    "\n",
    "\n",
    "df_rslt_boot = pd.DataFrame() # 1000번의 추출 결과를 담을 df\n",
    "for i in range( 1000) :\n",
    "\n",
    "    #(v) 부트 스트랩 ( 5000개 )\n",
    "    # 1. 셈플을 5000개 뽑아서 각 장르별로 비율을 계산한다.\n",
    "    df_tmp_sample_boot_5000 = df_tmp.sample(n=5000, replace=True)\n",
    "\n",
    "    # 전체 매출\n",
    "    sum_Sales_all = df_tmp_sample_boot_5000['sum_Sales'].sum()  \n",
    "\n",
    "    # 장르별 비율 계산\n",
    "    df_Sales_Genre = df_tmp_sample_boot_5000.groupby ( by = 'Genre' ).sum()\n",
    "    df_Sales_Genre =df_Sales_Genre.sort_values(by='sum_Sales' ,  ascending=False)\n",
    "    df_Sales_Genre['ratio'] = df_Sales_Genre['sum_Sales'] /sum_Sales_all\n",
    "\n",
    "    df_Sales_Genre.drop( columns=['sum_Sales'] ,inplace=True)\n",
    "\n",
    "\n",
    "    # 결과 df에 이번 추출 결과를 담는다.\n",
    "    df_rslt_boot = pd.concat( [df_rslt_boot, df_Sales_Genre.T] , axis= 0 )\n",
    "\n"
   ]
  },
  {
   "cell_type": "code",
   "execution_count": 1045,
   "metadata": {},
   "outputs": [
    {
     "data": {
      "text/plain": [
       "('Action', 0.1958124353438505, 1000)"
      ]
     },
     "execution_count": 1045,
     "metadata": {},
     "output_type": "execute_result"
    }
   ],
   "source": [
    "# 모수의 각 장르별 비율값을 구한다.\n",
    "df_rslt_boot.reset_index( drop=True, inplace= True)\n",
    "df_rslt_boot_01 = df_rslt_boot.mean().sort_values( ascending=False)\n",
    "\n",
    "# 목표값 확인\n",
    "fav_장르  = df_rslt_boot_01.index[0]\n",
    "fav_장르_매출비율 = df_rslt_boot_01.loc[fav_장르]\n",
    "lst_fav_장르_매출비율 = df_rslt_boot[fav_장르]\n",
    "\n",
    "\n",
    "(fav_장르 , fav_장르_매출비율 , len(lst_fav_장르_매출비율))\n"
   ]
  },
  {
   "cell_type": "code",
   "execution_count": 1057,
   "metadata": {},
   "outputs": [
    {
     "data": {
      "text/html": [
       "<div>\n",
       "<style scoped>\n",
       "    .dataframe tbody tr th:only-of-type {\n",
       "        vertical-align: middle;\n",
       "    }\n",
       "\n",
       "    .dataframe tbody tr th {\n",
       "        vertical-align: top;\n",
       "    }\n",
       "\n",
       "    .dataframe thead th {\n",
       "        text-align: right;\n",
       "    }\n",
       "</style>\n",
       "<table border=\"1\" class=\"dataframe\">\n",
       "  <thead>\n",
       "    <tr style=\"text-align: right;\">\n",
       "      <th>Area</th>\n",
       "      <th>EU_Sales</th>\n",
       "      <th>JP_Sales</th>\n",
       "      <th>NA_Sales</th>\n",
       "      <th>Other_Sales</th>\n",
       "    </tr>\n",
       "  </thead>\n",
       "  <tbody>\n",
       "    <tr>\n",
       "      <th>Area_Sales_ratio</th>\n",
       "      <td>0.230560</td>\n",
       "      <td>0.125706</td>\n",
       "      <td>0.212348</td>\n",
       "      <td>0.258390</td>\n",
       "    </tr>\n",
       "    <tr>\n",
       "      <th>Area_Sales_ratio</th>\n",
       "      <td>0.242595</td>\n",
       "      <td>0.133672</td>\n",
       "      <td>0.230997</td>\n",
       "      <td>0.280486</td>\n",
       "    </tr>\n",
       "    <tr>\n",
       "      <th>Area_Sales_ratio</th>\n",
       "      <td>0.260432</td>\n",
       "      <td>0.181641</td>\n",
       "      <td>0.239264</td>\n",
       "      <td>0.297716</td>\n",
       "    </tr>\n",
       "    <tr>\n",
       "      <th>Area_Sales_ratio</th>\n",
       "      <td>0.207839</td>\n",
       "      <td>0.147413</td>\n",
       "      <td>0.195249</td>\n",
       "      <td>0.205093</td>\n",
       "    </tr>\n",
       "    <tr>\n",
       "      <th>Area_Sales_ratio</th>\n",
       "      <td>0.196992</td>\n",
       "      <td>0.119185</td>\n",
       "      <td>0.199875</td>\n",
       "      <td>0.234576</td>\n",
       "    </tr>\n",
       "  </tbody>\n",
       "</table>\n",
       "</div>"
      ],
      "text/plain": [
       "Area              EU_Sales  JP_Sales  NA_Sales  Other_Sales\n",
       "Area_Sales_ratio  0.230560  0.125706  0.212348     0.258390\n",
       "Area_Sales_ratio  0.242595  0.133672  0.230997     0.280486\n",
       "Area_Sales_ratio  0.260432  0.181641  0.239264     0.297716\n",
       "Area_Sales_ratio  0.207839  0.147413  0.195249     0.205093\n",
       "Area_Sales_ratio  0.196992  0.119185  0.199875     0.234576"
      ]
     },
     "execution_count": 1057,
     "metadata": {},
     "output_type": "execute_result"
    }
   ],
   "source": [
    "# 지역 별   fav_장르 의 장르 비율 모수의 fav_장르_비율 과 같다고 할 수 있는지 검증\n",
    "\n",
    "\n",
    "# 데이터\n",
    "df_sample = df_target[['Genre' , 'NA_Sales' ,'EU_Sales' , 'JP_Sales' , 'Other_Sales'] ].copy()\n",
    "\n",
    "df_rslt_boot = pd.DataFrame() # 1000번의 추출 결과를 담을 df\n",
    "for i in range( 1000) :\n",
    "\n",
    "    #(v) 부트 스트랩 ( 5000개 )\n",
    "    # 1. 셈플을 5000개 뽑아서 각 장르별로 비율을 계산한다.\n",
    "    df_tmp_sample_boot_5000 = df_sample.sample(n=5000, replace=True)\n",
    "\n",
    "    #중간과정 df 생성\n",
    "    df_tmp_melt = pd.melt(df_tmp_sample_boot_5000, id_vars=['Genre' ] , var_name='Area', value_name='Genre_Sales' )\n",
    "\n",
    "    df_tmp = df_tmp_melt.groupby( by = [ 'Area' , 'Genre'] ).sum()\n",
    "    df_sumSales_area = df_tmp_melt.groupby( by = [ 'Area' ] ).sum()\n",
    "\n",
    "    # 목적 df 생성 \n",
    "    ## 지역 매출 합계 컬럼 추가\n",
    "    # (TODO) 복합 인덱스에서 인덱스 값을 별도로 추출하는 방법은?\n",
    "    lst_Area_all = ['NA_Sales' ,'EU_Sales' , 'JP_Sales' , 'Other_Sales'] \n",
    "    lis_Genre_all = df['Genre'].unique()\n",
    "    df_tmp_rslt = pd.DataFrame() # 목적값을 담을 df\n",
    "    df_tmp_rslt = df_tmp.copy()\n",
    "    df_tmp_rslt = df_tmp_rslt.reset_index() # index를 컬럼으로 변환\n",
    "\n",
    "    # 지역별 매출 컬럼 추가 \n",
    "    df_tmp_rslt['Area_Sales'] = df_tmp_rslt.Area.apply ( \n",
    "        lambda sel_Area : df_sumSales_area.loc[sel_Area]['Genre_Sales']\n",
    "    )\n",
    "\n",
    "    # 지역별 매출 비율 컬럼 추가 \n",
    "    #(TODO) apply로는 왜 안될까\n",
    "    # df_tmp_rslt['Area_Sales_ratio'] = df_tmp_rslt.Area.apply ( \n",
    "    #     lambda sel_Area : df_tmp_rslt['Genre_Sales'] / df_tmp_rslt['Genre_Sales']\n",
    "    # )\n",
    "    df_tmp_rslt['Area_Sales_ratio'] = df_tmp_rslt['Genre_Sales'] / df_tmp_rslt['Area_Sales']\n",
    "    df_tmp_rslt = df_tmp_rslt[ df_tmp_rslt.Genre == fav_장르][['Area','Area_Sales_ratio']]\n",
    "    df_tmp_rslt = df_tmp_rslt.set_index(['Area'] )\n",
    "\n",
    "    # 결과 df에 이번 추출 결과를 담는다.\n",
    "    df_rslt_boot = pd.concat( [df_rslt_boot, df_tmp_rslt.T] , axis= 0 )\n",
    "\n",
    "\n",
    "df_rslt_boot.head()\n"
   ]
  },
  {
   "cell_type": "code",
   "execution_count": 1059,
   "metadata": {},
   "outputs": [
    {
     "name": "stdout",
     "output_type": "stream",
     "text": [
      "대립가설이 맞음\n",
      "NA_Sales 의 pvalue = 2.13845394216638e-06\n",
      "대립가설이 맞음\n",
      "EU_Sales 의 pvalue = 3.0851632844913363e-126\n",
      "(todo) 에러 발생\n",
      "JP_Sales 의 pvalue = nan\n",
      "(todo) 에러 발생\n",
      "Other_Sales 의 pvalue = nan\n"
     ]
    }
   ],
   "source": [
    "# 각 지역의  매출 비율이  , fav_장르_매출비율과 같다고 할 수 있는지 검증\n",
    "\n",
    "# H0 (귀무가설): 전체 fav_장르의 매출 비율 == 각 지역의 매출 비율과 같다 \n",
    "# H1 (대립가설): 전체 fav_장르의 매출 비율 != 각 지역의 매출 비율과 같다\n",
    "\n",
    "for sel_Area in lst_Area_all :\n",
    "    # T-Test 수행\n",
    "    ans = t_test ( df_rslt_boot[sel_Area] , lst_fav_장르_매출비율 , \"two-sided\" )\n",
    "\n",
    "    print ( f\"{sel_Area} 의 pvalue = {ans}\" )\n"
   ]
  },
  {
   "cell_type": "code",
   "execution_count": 1060,
   "metadata": {},
   "outputs": [],
   "source": [
    "# 가설검증 결과 = 지역 마다 선호 장르가 다르다 "
   ]
  },
  {
   "cell_type": "markdown",
   "metadata": {},
   "source": [
    "\n",
    "### 2-2. 연도별 게임의 트렌드가 있을까 라는 질문에 대답을 하셔야합니다.\n",
    "### 2-2-1 트렌드 => 최 선호 장르\n",
    "\n",
    "가설검증 \n",
    "    : 연도별 트렌드가 있다?\n",
    "\n",
    "        트렌드란? 무엇 ? \n",
    "            : 트렌드 -> 배운것을 이용해서 수치로 나타낼 수 있을까?\n",
    "                경향?\n",
    "            \n",
    "            * (TODO) 사람이 인식하지 못하고 있는 요소를.... 머신러닝을 이용해서 어떤 트렌드가 있다는 걸 찾아낼 수 있을까? \n",
    "\n",
    "        2-1 형식의 가설 검증 방법은 오히려 적당하지 않아 보임 \n",
    "            (가설검증 방법 폐기)\n",
    "\n",
    "        그래프로 직관적으로 찾아내는것이 좋지 않을까?\n",
    "\n",
    "그래프 :\n",
    "\n",
    "        -(DF) 연도, 장르 , 장르별 매출 , 장르별 매출 비율 \n",
    "        -(그래프) (bar) x: 연도 , sub 장르 , y: 장르별 매출 비율\n",
    "\n",
    "        -(그래프) (꺽은선) x: 연도 , y: 매출비율 , hue : 장르\n",
    "            + (bar) x : 연도 , y : 전체매출  "
   ]
  },
  {
   "cell_type": "code",
   "execution_count": 1199,
   "metadata": {},
   "outputs": [
    {
     "data": {
      "text/plain": [
       "array([1980, 1981, 1982, 1983, 1984, 1985, 1986, 1987, 1988, 1989, 1990,\n",
       "       1991, 1992, 1993, 1994, 1995, 1996, 1997, 1998, 1999, 2000, 2001,\n",
       "       2002, 2003, 2004, 2005, 2006, 2007, 2008, 2009, 2010, 2011, 2012,\n",
       "       2013, 2014, 2015, 2016, 2017, 2020])"
      ]
     },
     "execution_count": 1199,
     "metadata": {},
     "output_type": "execute_result"
    }
   ],
   "source": [
    "# 연도 list 생성\n",
    "lst_Year = np.sort( df_target.Year.unique())\n",
    "lst_Year\n"
   ]
  },
  {
   "cell_type": "code",
   "execution_count": 1200,
   "metadata": {},
   "outputs": [
    {
     "data": {
      "text/plain": [
       "['Action',\n",
       " 'Adventure',\n",
       " 'Misc',\n",
       " 'Platform',\n",
       " 'Sports',\n",
       " 'Simulation',\n",
       " 'Racing',\n",
       " 'Role-Playing',\n",
       " 'Puzzle',\n",
       " 'Strategy',\n",
       " 'Fighting',\n",
       " 'Shooter']"
      ]
     },
     "execution_count": 1200,
     "metadata": {},
     "output_type": "execute_result"
    }
   ],
   "source": [
    "# 장르 list \n",
    "list_Genre= df_target.Genre.unique().to_list()\n",
    "list_Genre"
   ]
  },
  {
   "cell_type": "code",
   "execution_count": null,
   "metadata": {},
   "outputs": [],
   "source": [
    "#(TODO) 연도별 장르별 매출 평균을 구하기 위해서는 해당 연도의 data만 뽑아서 부트 스트래핑 하는게 올바른가?\n",
    "# 아니면 전체를 부트스트래핑 하고 거기에서 해당 연도만 뽑는것이 올바른가?"
   ]
  },
  {
   "cell_type": "code",
   "execution_count": null,
   "metadata": {},
   "outputs": [],
   "source": [
    "#(TODO)scipy 모듈이 업그레이드가 필요한지 여부는 어떻게 확인해야 하나?\n",
    "#업그레이드 중 왜 에러가 나는가?( No module named 'mesonpy' )\n",
    "# !pip install scipy --upgrade"
   ]
  },
  {
   "cell_type": "code",
   "execution_count": 1286,
   "metadata": {},
   "outputs": [],
   "source": [
    "# 부트스트래핑을 통하여 모수의 장르별 데이터 평균 매출비율 추정 \n",
    "\n",
    "# 데이터\n",
    "df_sample = df_target[ ['Year' , 'Platform' , 'Genre' , 'Type' , 'sum_Sales'] ].copy()\n",
    "\n",
    "\n",
    "#sel_year = 1980\n",
    "\n",
    "\n",
    "def 해당연도의장르별매출비율조회(df_sample ,  sel_year  ) :\n",
    "    df_rslt_boot = pd.DataFrame() # 1000번의 추출 결과를 담을 df\n",
    "    for i in range( 1000 ) :\n",
    "\n",
    "        #(v) 부트 스트랩 ( 5000개 )\n",
    "        # 1. 셈플을 5000개 뽑는다\n",
    "        df_tmp_sample_boot_5000 = df_sample.sample(n=5000, replace=True)\n",
    "\n",
    "        #중간과정 df 생성\n",
    "        df_tmp = df_tmp_sample_boot_5000.groupby( by = [ 'Year' , 'Genre'] ).sum().reset_index()\n",
    "        df_tmp_01 = df_tmp.loc[df_tmp['Year'] ==sel_year].copy() # warnging 삭제용 copy()\n",
    "        sum_all_sales =  df_tmp_01['sum_Sales'].sum()\n",
    "\n",
    "        # 매출 비율\n",
    "        df_tmp_01['ratio'] = df_tmp_01['sum_Sales'] / sum_all_sales\n",
    "        df_tmp_01['all_Sales'] = sum_all_sales\n",
    "\n",
    "        df_tmp_rslt = pd.DataFrame(\n",
    "            [df_tmp_01['ratio'].T]\n",
    "            , index=[sel_year]\n",
    "            # (TODO) DataFrame 생성시 직접 columns를 지정하면 에러가 나는 이유는?\n",
    "            #, columns = df_tmp_01['Genre']\n",
    "        )\n",
    "        df_tmp_rslt.columns = df_tmp_01['Genre']\n",
    "        \n",
    "        df_tmp_rslt['all_Sales'] = sum_all_sales\n",
    "\n",
    "        #결과 df에 이번 추출 결과를 담는다\n",
    "        df_rslt_boot = pd.concat( [df_rslt_boot, df_tmp_rslt] , axis= 0 )\n",
    "\n",
    "\n",
    "    df_rslt_boot = df_rslt_boot.reset_index()\n",
    "    df_rslt_boot.rename(columns = {'index':'year'},inplace=True)\n",
    "    df_rslt_boot = df_rslt_boot.groupby( by ='year').mean()\n",
    "\n",
    "    return df_rslt_boot\n",
    "\n",
    "\n",
    "# sel_year= 1980\n",
    "# sri_Sales_ratio_year = 해당연도의장르별매출비율조회(df_sample ,  sel_year  ) \n",
    "# sri_Sales_ratio_year\n",
    "df_Genre_ratio_year = pd.DataFrame()\n",
    "for sel_year in  lst_Year :\n",
    "\n",
    "    sri_Sales_ratio_year = 해당연도의장르별매출비율조회(df_sample ,  sel_year  ) \n",
    "\n",
    "\n",
    "     #결과 df에 이번 추출 결과를 담는다\n",
    "    df_Genre_ratio_year = pd.concat( [df_Genre_ratio_year, sri_Sales_ratio_year] , axis= 0 )\n"
   ]
  },
  {
   "cell_type": "code",
   "execution_count": 1292,
   "metadata": {},
   "outputs": [
    {
     "data": {
      "text/html": [
       "<div>\n",
       "<style scoped>\n",
       "    .dataframe tbody tr th:only-of-type {\n",
       "        vertical-align: middle;\n",
       "    }\n",
       "\n",
       "    .dataframe tbody tr th {\n",
       "        vertical-align: top;\n",
       "    }\n",
       "\n",
       "    .dataframe thead th {\n",
       "        text-align: right;\n",
       "    }\n",
       "</style>\n",
       "<table border=\"1\" class=\"dataframe\">\n",
       "  <thead>\n",
       "    <tr style=\"text-align: right;\">\n",
       "      <th>Genre</th>\n",
       "      <th>Action</th>\n",
       "      <th>Adventure</th>\n",
       "      <th>Fighting</th>\n",
       "      <th>Misc</th>\n",
       "      <th>Platform</th>\n",
       "      <th>Puzzle</th>\n",
       "      <th>Racing</th>\n",
       "      <th>Role-Playing</th>\n",
       "      <th>Shooter</th>\n",
       "      <th>Simulation</th>\n",
       "      <th>Sports</th>\n",
       "      <th>Strategy</th>\n",
       "      <th>all_Sales</th>\n",
       "    </tr>\n",
       "    <tr>\n",
       "      <th>year</th>\n",
       "      <th></th>\n",
       "      <th></th>\n",
       "      <th></th>\n",
       "      <th></th>\n",
       "      <th></th>\n",
       "      <th></th>\n",
       "      <th></th>\n",
       "      <th></th>\n",
       "      <th></th>\n",
       "      <th></th>\n",
       "      <th></th>\n",
       "      <th></th>\n",
       "      <th></th>\n",
       "    </tr>\n",
       "  </thead>\n",
       "  <tbody>\n",
       "    <tr>\n",
       "      <th>1980</th>\n",
       "      <td>0.081926</td>\n",
       "      <td>0.000000</td>\n",
       "      <td>0.124683</td>\n",
       "      <td>0.384531</td>\n",
       "      <td>0.000000</td>\n",
       "      <td>0.000000</td>\n",
       "      <td>0.000000</td>\n",
       "      <td>0.0</td>\n",
       "      <td>0.408860</td>\n",
       "      <td>0.000000</td>\n",
       "      <td>0.000000</td>\n",
       "      <td>0.0</td>\n",
       "      <td>3421590.0</td>\n",
       "    </tr>\n",
       "    <tr>\n",
       "      <th>1981</th>\n",
       "      <td>0.438745</td>\n",
       "      <td>0.000000</td>\n",
       "      <td>0.000000</td>\n",
       "      <td>0.000000</td>\n",
       "      <td>0.162378</td>\n",
       "      <td>0.061485</td>\n",
       "      <td>0.015878</td>\n",
       "      <td>0.0</td>\n",
       "      <td>0.283468</td>\n",
       "      <td>0.014686</td>\n",
       "      <td>0.023360</td>\n",
       "      <td>0.0</td>\n",
       "      <td>10970780.0</td>\n",
       "    </tr>\n",
       "    <tr>\n",
       "      <th>1982</th>\n",
       "      <td>0.272771</td>\n",
       "      <td>0.000000</td>\n",
       "      <td>0.000000</td>\n",
       "      <td>0.033443</td>\n",
       "      <td>0.195621</td>\n",
       "      <td>0.245865</td>\n",
       "      <td>0.057140</td>\n",
       "      <td>0.0</td>\n",
       "      <td>0.150741</td>\n",
       "      <td>0.000000</td>\n",
       "      <td>0.044420</td>\n",
       "      <td>0.0</td>\n",
       "      <td>8927160.0</td>\n",
       "    </tr>\n",
       "    <tr>\n",
       "      <th>1983</th>\n",
       "      <td>0.228194</td>\n",
       "      <td>0.039326</td>\n",
       "      <td>0.000000</td>\n",
       "      <td>0.106950</td>\n",
       "      <td>0.397054</td>\n",
       "      <td>0.052988</td>\n",
       "      <td>0.000000</td>\n",
       "      <td>0.0</td>\n",
       "      <td>0.034748</td>\n",
       "      <td>0.000000</td>\n",
       "      <td>0.140739</td>\n",
       "      <td>0.0</td>\n",
       "      <td>5121230.0</td>\n",
       "    </tr>\n",
       "    <tr>\n",
       "      <th>1984</th>\n",
       "      <td>0.059198</td>\n",
       "      <td>0.000000</td>\n",
       "      <td>0.000000</td>\n",
       "      <td>0.062537</td>\n",
       "      <td>0.033607</td>\n",
       "      <td>0.138957</td>\n",
       "      <td>0.200969</td>\n",
       "      <td>0.0</td>\n",
       "      <td>0.334571</td>\n",
       "      <td>0.000000</td>\n",
       "      <td>0.170162</td>\n",
       "      <td>0.0</td>\n",
       "      <td>15909040.0</td>\n",
       "    </tr>\n",
       "  </tbody>\n",
       "</table>\n",
       "</div>"
      ],
      "text/plain": [
       "Genre    Action  Adventure  Fighting      Misc  Platform    Puzzle    Racing  \\\n",
       "year                                                                           \n",
       "1980   0.081926   0.000000  0.124683  0.384531  0.000000  0.000000  0.000000   \n",
       "1981   0.438745   0.000000  0.000000  0.000000  0.162378  0.061485  0.015878   \n",
       "1982   0.272771   0.000000  0.000000  0.033443  0.195621  0.245865  0.057140   \n",
       "1983   0.228194   0.039326  0.000000  0.106950  0.397054  0.052988  0.000000   \n",
       "1984   0.059198   0.000000  0.000000  0.062537  0.033607  0.138957  0.200969   \n",
       "\n",
       "Genre  Role-Playing   Shooter  Simulation    Sports  Strategy   all_Sales  \n",
       "year                                                                       \n",
       "1980            0.0  0.408860    0.000000  0.000000       0.0   3421590.0  \n",
       "1981            0.0  0.283468    0.014686  0.023360       0.0  10970780.0  \n",
       "1982            0.0  0.150741    0.000000  0.044420       0.0   8927160.0  \n",
       "1983            0.0  0.034748    0.000000  0.140739       0.0   5121230.0  \n",
       "1984            0.0  0.334571    0.000000  0.170162       0.0  15909040.0  "
      ]
     },
     "execution_count": 1292,
     "metadata": {},
     "output_type": "execute_result"
    }
   ],
   "source": [
    "df_Genre_ratio_year.head()"
   ]
  },
  {
   "cell_type": "code",
   "execution_count": 1327,
   "metadata": {},
   "outputs": [
    {
     "name": "stderr",
     "output_type": "stream",
     "text": [
      "No artists with labels found to put in legend.  Note that artists whose label start with an underscore are ignored when legend() is called with no argument.\n"
     ]
    },
    {
     "data": {
      "image/png": "[encoded data removed]",
      "text/plain": [
       "<Figure size 1080x720 with 2 Axes>"
      ]
     },
     "metadata": {
      "needs_background": "light"
     },
     "output_type": "display_data"
    }
   ],
   "source": [
    "# 시각화용 df \n",
    "df_Genre_ratio_year_resetIndex = df_Genre_ratio_year.reset_index()\n",
    "\n",
    "#컬럼명 변경\n",
    "df_Genre_ratio_year_resetIndex.rename(columns = {'index':'year'},inplace=True)\n",
    "\n",
    "df_Genre_ratio_year_melt = pd.melt(df_Genre_ratio_year_resetIndex, id_vars=['year' ,'all_Sales'] , var_name='Genre', value_name='ratio' )\n",
    "\n",
    "# df_Genre_ratio_year_melt.head()\n",
    "# 시각화\n",
    "fig= plt.figure( figsize = (15,10) )\n",
    "ax = fig.add_subplot (1,1,1)\n",
    "sns.lineplot( data= df_Genre_ratio_year_melt , x= 'year' , y = 'ratio' , hue='Genre' ,ax=ax)\n",
    "\n",
    "\n",
    "ax2 = ax.twinx() # twinx함수의 도움으로 두 개의 다른 axes객체를 사용하여 두 개의 다른 Y축으로 플롯을 만들 수 있다.\n",
    "ax2.legend(loc = 'upper right')\n",
    "sns.lineplot ( data=df_Genre_ratio_year_melt ,x='year', y='all_Sales' , ax =ax2 , label = 'Sales', color='black', alpha=0.2, linewidth=10)\n",
    "# sns.lineplot( x=df_Genre_ratio_year_melt['index'] , y=df_Genre_ratio_year_melt['ratio'] , hue=['Genre']  )\n",
    "plt.show()"
   ]
  },
  {
   "cell_type": "markdown",
   "metadata": {},
   "source": [
    "매출이 충분히 있는 1995~2015년 만을 본다면.  \n",
    "    * Action , Sports 가 상위를 차지하고 있고.  \n",
    "    * Shooter 장르가 상위권 이면서 조금씩 매출 비율이 늘어나는 경향이 있다고 할 수 있을 것으로 보인다. \n"
   ]
  },
  {
   "cell_type": "markdown",
   "metadata": {},
   "source": [
    "\n",
    "\n",
    "### 2-2-2 트렌드 => 최 선호 플렛폼\n"
   ]
  },
  {
   "cell_type": "code",
   "execution_count": 1221,
   "metadata": {},
   "outputs": [],
   "source": [
    "# 방법은 위와 동일하나 원본 데이터가 플렛폼 편중 되어 있어서 분석에 의미가 없음\n",
    "# 시기별로 특정 플랫폼이 떳다가 사라지는 현상이 반복됨 "
   ]
  },
  {
   "cell_type": "code",
   "execution_count": 1330,
   "metadata": {},
   "outputs": [],
   "source": [
    "# 부트스트래핑을 통하여 모수의 장르별 데이터 평균 매출비율 추정 \n",
    "\n",
    "# 데이터\n",
    "df_sample = df_target[ ['Year' , 'Platform' , 'Genre' , 'Type' , 'sum_Sales'] ].copy()\n",
    "\n",
    "\n",
    "#sel_year = 1980\n",
    "\n",
    "\n",
    "def 해당연도의장르별매출비율조회(df_sample ,  sel_year  ) :\n",
    "    df_rslt_boot = pd.DataFrame() # 1000번의 추출 결과를 담을 df\n",
    "    for i in range( 1000 ) :\n",
    "\n",
    "        #(v) 부트 스트랩 ( 5000개 )\n",
    "        # 1. 셈플을 5000개 뽑는다\n",
    "        df_tmp_sample_boot_5000 = df_sample.sample(n=5000, replace=True)\n",
    "\n",
    "        #중간과정 df 생성\n",
    "        df_tmp = df_tmp_sample_boot_5000.groupby( by = [ 'Year' , 'Platform'] ).sum().reset_index()\n",
    "        df_tmp_01 = df_tmp.loc[df_tmp['Year'] ==sel_year].copy() # warnging 삭제용 copy()\n",
    "        sum_all_sales =  df_tmp_01['sum_Sales'].sum()\n",
    "\n",
    "        # 매출 비율\n",
    "        df_tmp_01['ratio'] = df_tmp_01['sum_Sales'] / sum_all_sales\n",
    "        df_tmp_01['all_Sales'] = sum_all_sales\n",
    "\n",
    "        df_tmp_rslt = pd.DataFrame(\n",
    "            [df_tmp_01['ratio'].T]\n",
    "            , index=[sel_year]\n",
    "            # (TODO) DataFrame 생성시 직접 columns를 지정하면 에러가 나는 이유는?\n",
    "            #, columns = df_tmp_01['Genre']\n",
    "        ) \n",
    "        df_tmp_rslt.columns = df_tmp_01['Platform']\n",
    "        \n",
    "        df_tmp_rslt['all_Sales'] = sum_all_sales\n",
    "\n",
    "        #결과 df에 이번 추출 결과를 담는다\n",
    "        df_rslt_boot = pd.concat( [df_rslt_boot, df_tmp_rslt] , axis= 0 )\n",
    "\n",
    "\n",
    "    df_rslt_boot = df_rslt_boot.reset_index()\n",
    "    df_rslt_boot.rename(columns = {'index':'year'},inplace=True)\n",
    "    df_rslt_boot = df_rslt_boot.groupby( by ='year').mean()\n",
    "\n",
    "    return df_rslt_boot\n",
    "\n",
    "\n",
    "# sel_year= 1980\n",
    "# sri_Sales_ratio_year = 해당연도의장르별매출비율조회(df_sample ,  sel_year  ) \n",
    "# sri_Sales_ratio_year\n",
    "df_Genre_ratio_year = pd.DataFrame()\n",
    "for sel_year in  lst_Year :\n",
    "\n",
    "    sri_Sales_ratio_year = 해당연도의장르별매출비율조회(df_sample ,  sel_year  ) \n",
    "\n",
    "\n",
    "     #결과 df에 이번 추출 결과를 담는다\n",
    "    df_Genre_ratio_year = pd.concat( [df_Genre_ratio_year, sri_Sales_ratio_year] , axis= 0 )\n"
   ]
  },
  {
   "cell_type": "markdown",
   "metadata": {},
   "source": [
    "### 2-3. 출고량이 높은 게임에 대한 분석 및 시각화 프로세스가 포함되어야 합니다.\n",
    "    *(v) hit game 의 전체 매출 비중\n",
    "    *(v) 연도별 hit game의 전체 매출 비중 변화\n",
    "    *(v) hit game 의 장르별 비율\n",
    "    *(v) hit game 의 플렛폼별 비율  \n"
   ]
  },
  {
   "cell_type": "code",
   "execution_count": 1064,
   "metadata": {},
   "outputs": [
    {
     "name": "stdout",
     "output_type": "stream",
     "text": [
      "<class 'pandas.core.frame.DataFrame'>\n",
      "Int64Index: 1000000 entries, 11707 to 12469\n",
      "Data columns (total 11 columns):\n",
      " #   Column       Non-Null Count    Dtype   \n",
      "---  ------       --------------    -----   \n",
      " 0   Platform     1000000 non-null  category\n",
      " 1   Year         1000000 non-null  int64   \n",
      " 2   Genre        1000000 non-null  category\n",
      " 3   NA_Sales     1000000 non-null  int64   \n",
      " 4   EU_Sales     1000000 non-null  int64   \n",
      " 5   JP_Sales     1000000 non-null  int64   \n",
      " 6   Other_Sales  1000000 non-null  int64   \n",
      " 7   Type         1000000 non-null  category\n",
      " 8   sum_Sales    1000000 non-null  int64   \n",
      " 9   label        1000000 non-null  category\n",
      " 10  hit          1000000 non-null  object  \n",
      "dtypes: category(4), int64(6), object(1)\n",
      "memory usage: 64.9+ MB\n",
      "   label       max       min   count  cum_sum\n",
      "4      4  82740000  82740000      71       71\n",
      "3      3  40240000  28310000     554      625\n",
      "5      5  24750000  17280000     823     1448\n",
      "1      1  16380000   8840000    3242     4690\n",
      "6      6   8770000   4330000   10954    15644\n",
      "2      2   4320000   1990000   36094    51738\n",
      "7      7   1980000    660000  134416   186154\n",
      "0      0    650000         0  813846  1000000\n",
      " 상위 10% =  1210000.0  \n",
      "[4, 3, 5, 1]\n"
     ]
    },
    {
     "data": {
      "text/plain": [
       "0.00469"
      ]
     },
     "metadata": {},
     "output_type": "display_data"
    },
    {
     "data": {
      "image/png": "[encoded data removed]",
      "text/plain": [
       "<Figure size 432x288 with 1 Axes>"
      ]
     },
     "metadata": {
      "needs_background": "light"
     },
     "output_type": "display_data"
    }
   ],
   "source": [
    "df = df_target\n",
    "\n",
    "#(v) 부트 스트랩 ( 10만개 )\n",
    "df_boot = df.sample(n=1000000, replace=True)\n",
    "df_boot.reset_index ( drop= True)\n",
    "df_boot.head()\n",
    "df_boot.info()\n",
    "\n",
    "# 작업 df = 부트스트래핑 한 데이터 기준\n",
    "df = df_boot\n",
    "\n",
    "\n",
    "#(v) Kmeans 실행 하여 클러스터 나누기\n",
    "# K-means 클러스터링 분석\n",
    "kmeans = KMeans( random_state=42)\n",
    "\n",
    "# (v) 부트스트랩을 한 data를 기준으로 클러스터링 진행\n",
    "# (TODO) 혹시 셈플(원본) 데이터를 클러스터링 분류 기준으로 잡아야 하는가?\n",
    "kmeans.fit_transform( np.array(df.sum_Sales.to_list()).reshape(-1, 1))    #(TODO) reshape(-1, 1) 해주어야 하는 이유 확인\n",
    "\n",
    "# # 최근연도의_부트스트렙_ 셈플 데이터를 클러스터링 하기\n",
    "# kmeans._transform(np.array(df_boot.sum_Sales.to_list()).reshape(-1, 1))\n",
    "cluster_labels = kmeans.labels_\n",
    "\n",
    "#(TODO)결과가 몇개의 클러스터 나뉘었는지 확인하는 간단한 방법이 뭐였더라?)\n",
    "set_cluster = set(cluster_labels )\n",
    "len(set_cluster)\n",
    "\n",
    "#(v) 어느 클러스터가 최고 매출 클러스터인지 확인 \n",
    "df['label'] = cluster_labels\n",
    "df['label'] = df['label'].astype('category')\n",
    "\n",
    "#(TODO) y값이 정상으로 출력되지 않는 이유는?\n",
    "sns.scatterplot ( data = df , y= 'sum_Sales' , x = 'label' )\n",
    "\n",
    "#[v] 어느 그룹까지를 hit-game으로 보면 좋을지 결정 하기\n",
    "# (TODO) 어떤 방법으로 나누는 것이 좋을까? \n",
    "\n",
    "# K-Means\n",
    "df_label_max = pd.DataFrame ()\n",
    "for i in range (len(set_cluster)) :\n",
    "        df_insert = pd.DataFrame(\n",
    "                        {\n",
    "                                'label' : i ,\n",
    "                                'max' : df[df.label == i ].sum_Sales.max() , \n",
    "                                'min' : df[df.label == i ].sum_Sales.min() , \n",
    "                                'count' : len(df[df.label == i ])\n",
    "                        }\n",
    "                        , index=[i]\n",
    "                )\n",
    "        #print(df_insert)\n",
    "        df_label_max = pd.concat( [df_label_max , df_insert] , axis= 0)\n",
    "        \n",
    "\n",
    "#(v) max() 값 순으로 정렬하여 출력하는 방법은?\n",
    "df_label_max.sort_values(by='max' , axis=0, ascending=False, inplace=True)\n",
    "df_label_max['cum_sum'] = df_label_max['count'].cumsum()\n",
    "print(df_label_max)\n",
    "\n",
    "\n",
    "# 상위 10% 값의 경우에는? \n",
    "upper = np.percentile(df.sum_Sales, 90) \n",
    "print ( f\" 상위 10% =  {upper}  \")\n",
    "\n",
    "# hit game의 cluster 정하기\n",
    "list_cluster_hit_game = df_label_max.iloc[:4]['label'].values.tolist()\n",
    "print (list_cluster_hit_game)\n",
    "\n",
    "#(v)- p ( hit 게임)\n",
    "df_label_ratio = df['label'].value_counts(normalize=True ,dropna = True)\n",
    "P_hit = df_label_ratio.sort_values( )[:4].sum()\n",
    "display( P_hit )\n",
    "\n",
    "# hit 게임\n",
    "df_hit = df.query ( \"label in @ list_cluster_hit_game \"   )\n",
    "df_hit.reset_index ( drop=True)\n",
    "#(TODO)\n",
    "#df_hit = df.loc[ (df.label in [2, 4]).any() ] \n",
    "#df_hit = df[ ((df['label'] == 3 ) | ( df['label'] == 1 ))  ]\n",
    "\n",
    "df_hit.head()\n",
    "\n",
    "# hit 컬럼에 hit game 여부 표시 하기\n",
    "df['hit'] = df.label.apply ( lambda x : True if x in list_cluster_hit_game else False   )  \n",
    "\n",
    "df = df.reset_index( drop = True)"
   ]
  },
  {
   "cell_type": "code",
   "execution_count": 1337,
   "metadata": {},
   "outputs": [
    {
     "name": "stdout",
     "output_type": "stream",
     "text": [
      "#  hit game의 전체판매량 / 전체 판매량 = 7.000000000000001 %\n"
     ]
    },
    {
     "data": {
      "image/png": "[encoded data removed]",
      "text/plain": [
       "<Figure size 720x720 with 1 Axes>"
      ]
     },
     "metadata": {},
     "output_type": "display_data"
    }
   ],
   "source": [
    "# hit game 의 전체 매출 비중\n",
    "all_sales_df_boot = df.sum_Sales.sum()\n",
    "all_sales_df_hit =  df_hit.sum_Sales.sum()\n",
    "\n",
    "print ( f\"#  hit game의 전체판매량 / 전체 판매량 = { np.round((all_sales_df_hit / all_sales_df_boot),2) * 100 } %\")\n",
    "\n",
    "\n",
    "# 시각화 \n",
    "lst_tmp = [ all_sales_df_hit , ( all_sales_df_boot - all_sales_df_hit )]\n",
    "keys = [ 'hit games' , 'others']\n",
    "\n",
    "# plotting data on chart\n",
    "plt.figure( figsize = (10,10) )\n",
    "plt.pie ( x=lst_tmp , labels=keys, autopct='%.0f%%' , colors=colors)\n",
    "plt.show()\n",
    "  \n"
   ]
  },
  {
   "cell_type": "code",
   "execution_count": 1066,
   "metadata": {},
   "outputs": [
    {
     "data": {
      "text/plain": [
       "<AxesSubplot:xlabel='Year', ylabel='sum_Sales'>"
      ]
     },
     "execution_count": 1066,
     "metadata": {},
     "output_type": "execute_result"
    },
    {
     "data": {
      "image/png": "[encoded data removed]",
      "text/plain": [
       "<Figure size 1440x360 with 1 Axes>"
      ]
     },
     "metadata": {
      "needs_background": "light"
     },
     "output_type": "display_data"
    }
   ],
   "source": [
    "#(v) 연도별 hit game의 전체 매출 비중 변화\n",
    "\n",
    "# 연도별 게임 매출\n",
    "df_temp_01 = df.groupby ( by = ['Year' ] ).sum()\n",
    "df_temp_01.head()\n",
    "\n",
    "# 연도별 히트게임 매출\n",
    "df_temp_02 = df_hit.groupby ( by = ['Year' ] ).sum()\n",
    "df_temp_02.head()\n",
    "\n",
    "# 매출 정보 합치기\n",
    "df_temp = pd.merge( left = df_temp_01 , right = df_temp_02 , how='left' , left_index = True, right_index = True)\n",
    "df_temp = df_temp.fillna(0)\n",
    "\n",
    "# df 형태 다듬기 ( 시각화 위해 )\n",
    "df_temp = df_temp[ ['sum_Sales_x' , 'sum_Sales_y'] ]\n",
    "df_temp.columns = [ 'All', 'Hit' ]\n",
    "df_temp['Hit'] = df_temp['Hit'].astype('int')\n",
    "df_temp['Hit_ratio'] = (df_temp['Hit'] / df_temp['All']).round(2)\n",
    "\n",
    "df_temp['Year']= df_temp.index\n",
    "df_melt = pd.melt(df_temp, id_vars=['Hit_ratio' ,'Year' ] , var_name='gubun' , value_name='sum_Sales' )\n",
    "df_melt\n",
    "\n",
    "# 시각화\n",
    "plt.figure( figsize = (20,5) )\n",
    "sns.barplot ( data = df_melt , y = 'sum_Sales' , x = 'Year' , hue = 'gubun')\n",
    "\n",
    "\n",
    "# => 셈플 데이터가 안 좋아서\n",
    "#   -> 최근 데이터가 너무 없음 \n",
    "# (TODO) 이대로 데이터를 쓰는게 맞는가?\n",
    "# (TODO) 판단 기준은?\n"
   ]
  },
  {
   "cell_type": "code",
   "execution_count": 1067,
   "metadata": {},
   "outputs": [
    {
     "data": {
      "text/plain": [
       "79085509613"
      ]
     },
     "execution_count": 1067,
     "metadata": {},
     "output_type": "execute_result"
    }
   ],
   "source": [
    "sum_Sales_all = df_hit.sum_Sales.sum() \n",
    "sum_Sales_all"
   ]
  },
  {
   "cell_type": "code",
   "execution_count": 1338,
   "metadata": {},
   "outputs": [
    {
     "data": {
      "image/png": "[encoded data removed]",
      "text/plain": [
       "<Figure size 1080x1080 with 1 Axes>"
      ]
     },
     "metadata": {},
     "output_type": "display_data"
    }
   ],
   "source": [
    "#*(v) hit game 의 장르별 비율\n",
    "df_tmp = df_hit.groupby (  by = 'Genre' )['sum_Sales'].sum()\n",
    "df_tmp = df_tmp.sort_values( ascending=False)\n",
    "\n",
    "# # 시각화 \n",
    "plt.figure( figsize = (15,15) )\n",
    "plt.pie ( x= df_tmp , labels=df_tmp.index, autopct='%.0f%%' , colors=colors)\n",
    "plt.show()\n",
    "  "
   ]
  },
  {
   "cell_type": "code",
   "execution_count": 1339,
   "metadata": {},
   "outputs": [
    {
     "data": {
      "image/png": "[encoded data removed]",
      "text/plain": [
       "<Figure size 1080x1080 with 1 Axes>"
      ]
     },
     "metadata": {},
     "output_type": "display_data"
    }
   ],
   "source": [
    "#(v) hit game 의 플렛폼별 비율\n",
    "\n",
    "df_tmp = df_hit.groupby (  by = 'Platform' )['sum_Sales'].sum()\n",
    "df_tmp = df_tmp.sort_values( ascending=False)\n",
    "\n",
    "# # 시각화 \n",
    "plt.figure( figsize = (15,15) )\n",
    "plt.pie ( x= df_tmp , labels=df_tmp.index, autopct='%.0f%%', colors=colors )\n",
    "plt.show()"
   ]
  },
  {
   "cell_type": "markdown",
   "metadata": {},
   "source": [
    "## 3. 기타 사항 ( 추가 적인 참고 사항 , 분석 도중 추가 도출 된 사항)\n"
   ]
  },
  {
   "cell_type": "markdown",
   "metadata": {},
   "source": []
  }
 ],
 "metadata": {
  "kernelspec": {
   "display_name": "Python 3.9.12 ('base')",
   "language": "python",
   "name": "python3"
  },
  "language_info": {
   "codemirror_mode": {
    "name": "ipython",
    "version": 3
   },
   "file_extension": ".py",
   "mimetype": "text/x-python",
   "name": "python",
   "nbconvert_exporter": "python",
   "pygments_lexer": "ipython3",
   "version": "3.9.12"
  },
  "orig_nbformat": 4,
  "vscode": {
   "interpreter": {
    "hash": "cca240df8b4cc966d527f5e5f91069ba19ec750ec1338ff7cbac995a358e55d1"
   }
  }
 },
 "nbformat": 4,
 "nbformat_minor": 2
}
