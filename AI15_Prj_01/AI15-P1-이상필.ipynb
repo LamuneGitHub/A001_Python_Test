{
 "cells": [
  {
   "cell_type": "markdown",
   "metadata": {},
   "source": [
    "# 프로그램 기본 설정"
   ]
  },
  {
   "cell_type": "code",
   "execution_count": 2,
   "metadata": {},
   "outputs": [],
   "source": [
    "# import\n",
    "\n",
    "%matplotlib inline\n",
    "\n",
    "from IPython.display import display\n",
    "\n",
    "import re\n",
    "import math\n",
    "import pandas as pd\n",
    "import numpy as np\n",
    "import matplotlib as mpl\n",
    "import matplotlib.pyplot as plt\n",
    "import seaborn as sns\n",
    "import random\n",
    "\n",
    "import sklearn\n",
    "from sklearn.preprocessing import StandardScaler\n",
    "from sklearn.cluster import KMeans\n",
    "\n",
    "#pandas에서 DataFrame을 요약해서 표시하지 않도록 설정\n",
    "pd.set_option('display.max_columns', None)\n",
    "pd.set_option('display.max_rows', None)\n",
    "\n",
    "# head로 표시할 데이터 갯수 \n",
    "print_row_count = 3\n",
    "\n",
    "\n",
    "\n",
    "# 줄 구분 표시 출력 \n",
    "def print_line() :\n",
    "  print (\"\\n------------------------------------------------\")\n",
    "def print_line_m() :\n",
    "  print (\"\\n-----------------------\")\n",
    "def print_line_s() :\n",
    "  print (\"\\n----------\")"
   ]
  },
  {
   "cell_type": "markdown",
   "metadata": {},
   "source": []
  },
  {
   "cell_type": "markdown",
   "metadata": {},
   "source": [
    "# 분석"
   ]
  },
  {
   "cell_type": "markdown",
   "metadata": {},
   "source": [
    "## 데이터 로딩"
   ]
  },
  {
   "cell_type": "code",
   "execution_count": 4,
   "metadata": {},
   "outputs": [],
   "source": [
    "#  정제된 data loading \n",
    "\n",
    "# Data 로드\n",
    "df_tmp = pd.read_csv( \"https://raw.githubusercontent.com/LamuneGitHub/AI15_Prj_01/main/vgames2_after_cleaning_01.csv\" , sep=\",\"  , header=0  ) \n",
    "df_target = df_tmp\n"
   ]
  },
  {
   "cell_type": "code",
   "execution_count": 12,
   "metadata": {},
   "outputs": [
    {
     "name": "stdout",
     "output_type": "stream",
     "text": [
      "<class 'pandas.core.frame.DataFrame'>\n",
      "RangeIndex: 16241 entries, 0 to 16240\n",
      "Data columns (total 8 columns):\n",
      " #   Column       Non-Null Count  Dtype   \n",
      "---  ------       --------------  -----   \n",
      " 0   Platform     16241 non-null  category\n",
      " 1   Year         16241 non-null  category\n",
      " 2   Genre        16241 non-null  category\n",
      " 3   NA_Sales     16241 non-null  int64   \n",
      " 4   EU_Sales     16241 non-null  int64   \n",
      " 5   JP_Sales     16241 non-null  int64   \n",
      " 6   Other_Sales  16241 non-null  int64   \n",
      " 7   Type         16241 non-null  category\n",
      "dtypes: category(4), int64(4)\n",
      "memory usage: 574.3 KB\n"
     ]
    }
   ],
   "source": [
    "# 데이터 type 재 지정\n",
    "df_target.info()\n",
    "\n",
    "df_target.Platform = df_target.Platform.astype('category')\n",
    "# (TODO) 연도 컬럼의 카테고리 값의 순서 지정\n",
    "df_target.Year = df_target.Year.astype('category')\n",
    "df_target.Genre = df_target.Genre.astype('category')\n",
    "df_target.Type = df_target.Type.astype('category')\n"
   ]
  },
  {
   "cell_type": "markdown",
   "metadata": {},
   "source": [
    "## 1. **최종 목표**"
   ]
  },
  {
   "cell_type": "markdown",
   "metadata": {},
   "source": [
    "## 2. 중요 목표 "
   ]
  },
  {
   "cell_type": "markdown",
   "metadata": {},
   "source": [
    "## 3. 기타 사항 ( 추가 적인 참고 사항 , 분석 도중 추가 도출 된 사항)\n"
   ]
  },
  {
   "cell_type": "markdown",
   "metadata": {},
   "source": []
  }
 ],
 "metadata": {
  "kernelspec": {
   "display_name": "Python 3.9.12 ('base')",
   "language": "python",
   "name": "python3"
  },
  "language_info": {
   "codemirror_mode": {
    "name": "ipython",
    "version": 3
   },
   "file_extension": ".py",
   "mimetype": "text/x-python",
   "name": "python",
   "nbconvert_exporter": "python",
   "pygments_lexer": "ipython3",
   "version": "3.9.12"
  },
  "orig_nbformat": 4,
  "vscode": {
   "interpreter": {
    "hash": "cca240df8b4cc966d527f5e5f91069ba19ec750ec1338ff7cbac995a358e55d1"
   }
  }
 },
 "nbformat": 4,
 "nbformat_minor": 2
}
