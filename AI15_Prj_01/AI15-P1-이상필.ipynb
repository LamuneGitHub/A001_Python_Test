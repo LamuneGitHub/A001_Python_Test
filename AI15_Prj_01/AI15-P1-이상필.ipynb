{
 "cells": [
  {
   "cell_type": "markdown",
   "metadata": {},
   "source": [
    "# # 프로그램 기본 설정"
   ]
  },
  {
   "cell_type": "code",
   "execution_count": 2,
   "metadata": {},
   "outputs": [],
   "source": [
    "# import\n",
    "\n",
    "%matplotlib inline\n",
    "\n",
    "from IPython.display import display\n",
    "\n",
    "import re\n",
    "import math\n",
    "import pandas as pd\n",
    "import numpy as np\n",
    "import matplotlib as mpl\n",
    "import matplotlib.pyplot as plt\n",
    "import seaborn as sns\n",
    "import random\n",
    "\n",
    "import sklearn\n",
    "from sklearn.preprocessing import StandardScaler\n",
    "from sklearn.cluster import KMeans\n",
    "\n",
    "#pandas에서 DataFrame을 요약해서 표시하지 않도록 설정\n",
    "pd.set_option('display.max_columns', None)\n",
    "pd.set_option('display.max_rows', None)\n",
    "\n",
    "# head로 표시할 데이터 갯수 \n",
    "print_row_count = 3\n",
    "\n",
    "\n",
    "\n",
    "# 줄 구분 표시 출력 \n",
    "def print_line() :\n",
    "  print (\"\\n------------------------------------------------\")\n",
    "def print_line_m() :\n",
    "  print (\"\\n-----------------------\")\n",
    "def print_line_s() :\n",
    "  print (\"\\n----------\")"
   ]
  },
  {
   "cell_type": "markdown",
   "metadata": {},
   "source": [
    "## 함수 정의"
   ]
  },
  {
   "cell_type": "code",
   "execution_count": 75,
   "metadata": {},
   "outputs": [],
   "source": [
    "# 부트 스트렙 case 01\n",
    "def bootstrap( list_input , sample_count , repeat_count) :\n",
    "  return_list = []\n",
    "  for _ in range(repeat_count):\n",
    "    sample = np.random.choice( list_input, sample_count, replace=True)\n",
    "    return_list.append(sample.mean())\n",
    "  #print ( return_list)\n",
    "  return np.array(return_list)\n"
   ]
  },
  {
   "cell_type": "markdown",
   "metadata": {},
   "source": [
    "## 기초 데이터 로딩"
   ]
  },
  {
   "cell_type": "code",
   "execution_count": 17,
   "metadata": {},
   "outputs": [],
   "source": [
    "#  정제된 data loading \n",
    "\n",
    "# Data 로드\n",
    "df_tmp = pd.read_csv( \"https://raw.githubusercontent.com/LamuneGitHub/AI15_Prj_01/main/vgames2_after_cleaning_01.csv\" , sep=\",\"  , header=0  ) \n",
    "df_target = df_tmp\n"
   ]
  },
  {
   "cell_type": "code",
   "execution_count": 18,
   "metadata": {},
   "outputs": [
    {
     "name": "stdout",
     "output_type": "stream",
     "text": [
      "<class 'pandas.core.frame.DataFrame'>\n",
      "RangeIndex: 16241 entries, 0 to 16240\n",
      "Data columns (total 8 columns):\n",
      " #   Column       Non-Null Count  Dtype \n",
      "---  ------       --------------  ----- \n",
      " 0   Platform     16241 non-null  object\n",
      " 1   Year         16241 non-null  int64 \n",
      " 2   Genre        16241 non-null  object\n",
      " 3   NA_Sales     16241 non-null  int64 \n",
      " 4   EU_Sales     16241 non-null  int64 \n",
      " 5   JP_Sales     16241 non-null  int64 \n",
      " 6   Other_Sales  16241 non-null  int64 \n",
      " 7   Type         16241 non-null  object\n",
      "dtypes: int64(5), object(3)\n",
      "memory usage: 1015.2+ KB\n"
     ]
    }
   ],
   "source": [
    "# 데이터 type 재 지정\n",
    "df_target.info()\n",
    "\n",
    "df_target.Platform = df_target.Platform.astype('category')\n",
    "# (TODO) 연도 컬럼의 카테고리 값의 순서 지정\n",
    "#df_target.Year = df_target.Year.astype('category')\n",
    "df_target.Genre = df_target.Genre.astype('category')\n",
    "df_target.Type = df_target.Type.astype('category')\n"
   ]
  },
  {
   "cell_type": "markdown",
   "metadata": {},
   "source": [
    "# # 분석 작업"
   ]
  },
  {
   "cell_type": "markdown",
   "metadata": {},
   "source": [
    "## 1. 최종 분석 목표 \n",
    "## **# 다음 분기에 어떤 게임을 설계해야 하는가 ?**"
   ]
  },
  {
   "cell_type": "markdown",
   "metadata": {},
   "source": [
    "### 1.1 목표 상세 정의\n",
    "    ## 최종 목표 요청사항 상세 정의 \n",
    "    = 1 단계 \n",
    "        * 어떤 장르를 개발해야 하는가?\n",
    "        * 어떤 플렛폼용으로 개발해야 하는가?\n",
    "        * 어떤 지역( 언어지원 , 주요 마켓팅 역량 집중 )을 주요 타겟으로 잡아야 하는가?\n",
    "\n",
    "    = 2 단계\n",
    "        목표 -> 각 장르별로 매출이 높을 확률 ? 베이지안 \n",
    "            A : hit 게임\n",
    "            B : 장르(각)\n",
    "\n",
    "            P(A|B) = P(B|A) * P(A) / P(B)\n",
    "\n",
    "        목표 -> 각 플렛폼 별로 매출이 높을 확률  ? 베이지안\n",
    "            A : hit 게임\n",
    "            B : 플렛폼(각)\n",
    "\n",
    "            P(A|B) = P(B|A) * P(A) / P(B)\n",
    "\n",
    "        목표 -> 각 지역별로 언어지원,집중 마켓팅을 했을때 매출이 높을 확률  ? 베이지안\n",
    "            A : hit 게임\n",
    "            B : 지역(각)\n",
    "\n",
    "            P(A|B) = P(B|A) * P(A) / P(B)\n",
    "\n",
    "\n",
    "    = 3 최종 선택은 ?\n",
    "        * 최고로 높은 확률의 조합이 정답이 아니다.\n",
    "            개발팀의 자원에 따라 취사 선택 및 전략의 선택이 필요 하다.\n",
    "            -> 각각의 데이터를 모두 전달 후 상황에 맞게 전략을 선택할 수 있게 해주자\n",
    "\n",
    "            ex) 블루오션을 , 레드오션\n",
    "        \n",
    "        * 분석 결과의 해석은 관점에 따라서 달라질 수 있다.\n",
    "            - a장르의  hit 게임의 확률이 높다는 것은\n",
    "                - a장르를 좋아하는 사람이 많다는 의미\n",
    "                - a장르에 높은 개발력 , 혹은 충성도를 가지고 있는 경쟁사가 있다는 의미\n",
    "                    ( 반대의 경우 높은 개발력을 가진 회사가 적다 혹은 신규 시장이다. 로 해셕할 수도 있다. )\n",
    "            - 개발 전략을 수립하는 과정에서 계속 재 해석이 필요할 것이다. \n",
    "\n",
    "                -> 요청 사항이 ... 최신 트렌드 , 성공할 확률이 높은 선택지를 찾아줘로 느껴졌기 때문에 첨부한 첨언임\n",
    "\n",
    "        * 95%의 신뢰도를 가지도록 분석하였지만 , 5%의 확률은 일상에서 매우 흔하게 자주 발생한다.\n",
    "            TRPG 게임을 하다보면 20면체 주사위를 굴릴때 크리티컬이 나와서 끝났다고 생각하던 때에 역전승을 하거나\n",
    "                다 이겼다고 생각될 때 펌블이 나와서 망하는 경우가 아주 흔하게 발생한다는 것을 기억해라\n",
    "\n",
    "        * 개발팀의 역량 과 능력, 가지고 있는 자원에 대한 파악이 핵심이고 성공으로 향하는 올바른 시작이다.\n",
    "        "
   ]
  },
  {
   "cell_type": "markdown",
   "metadata": {},
   "source": [
    "### 1.2 필요한 데이터\n",
    "    * 과거의 데이터는 현재의 상활을 파악하는데 의미있는 정보가 아닐 수 있다.\n",
    "        -> 최신의 데이터를 사용 -> 5년 ? 10년?\n",
    "    \n",
    "    * 구해야(필요한) 하는 확률 값 \n",
    "        - P ( 장르(각각) | hit 게임 )\n",
    "        - P ( hit 게임 )\n",
    "        _ P ( 장르(각각) )\n",
    "        \n",
    "        - P ( 플랫폼(각각) | hit 게임 )\n",
    "        - P ( 플랫폼(각각) )\n",
    "        \n",
    "        - P ( 지역(각각) | hit 게임 )\n",
    "        - P ( 지역(각각) )\n",
    "\n",
    "    * hit 게임의 정의\n",
    "        (!문제점) 출고량이 높은 게임의 기준이 모호함\n",
    "\n",
    "        - 출고량이 높은 게임에 label 표시 -> 데이터가 너무 많아서 불가능\n",
    "        - 특정값 이상 -> 연도별 특성 고려하는 것이 올바를 것 같음\n",
    "            -> 연도별 특성을 고려하지 않는다면 특정값은 어떻게 정하는게 좋을까?\n",
    "        - 매출량 상위 25% 를 출고량이 높은것 ?\n",
    "        - 매출량 정규화 후 상위 5% ? 10% ?\n",
    "        - kmeans로 데이터 그룹핑 후 구분\n",
    "            - 매출을 기준으로 \n",
    "                하하 ~ 상상 9 단계로 클러스터링 후 분류해 볼까?\n",
    "            \n",
    "            * 분석 데이터는 부트 스트렙을 해야 하는가?\n",
    "                - 부트스트랩의 평균값은 모수의 평균값과 같다\n",
    "                - 모수의 연도별, 지역별 매출 평규값을 구할 수 있다.\n",
    "                -> 분석데이터는 부트스트렙한 데이터를 사용한다.\n",
    "\n",
    "            *  적당한 그룹수를 찾기\n",
    "                -> (TODO) elbow 메소드 이용해서 값 정하기 시도 해보자\n",
    "        -> kmeans로 클러스러팅 진행하여 \n",
    "            최 상위 매출 그룹을 hit-게임으로 정의\n",
    "        "
   ]
  },
  {
   "cell_type": "markdown",
   "metadata": {},
   "source": [
    "### 1.3 분석 진행"
   ]
  },
  {
   "cell_type": "markdown",
   "metadata": {},
   "source": [
    "* 사용할 데이터의 연도 정하기  \n",
    "\n",
    "    -> 최근 10년의 데이터를 사용"
   ]
  },
  {
   "cell_type": "code",
   "execution_count": 123,
   "metadata": {},
   "outputs": [
    {
     "data": {
      "image/png": "[encoded data removed]",
      "text/plain": [
       "<Figure size 432x288 with 1 Axes>"
      ]
     },
     "metadata": {
      "needs_background": "light"
     },
     "output_type": "display_data"
    }
   ],
   "source": [
    "#(v) 사용할 데이터의 연도 정하기\n",
    "df = df_target\n",
    "\n",
    "max_year = df.Year.max()\n",
    "max_year\n",
    "\n",
    "list_data_count = [ len(df[df.Year >= max_year - i ]) for i in range ( 20 ) ] \n",
    "list_data_count\n",
    "\n",
    "recent_year =  list( range(len(list_data_count)) )  \n",
    "recent_year\n",
    "\n",
    "df_ploat = pd.DataFrame (\n",
    "    {\n",
    "        \"Recent_year\" : recent_year ,\n",
    "        \"Data_count\" : list_data_count\n",
    "    }\n",
    ")\n",
    "\n",
    "sns.barplot ( data = df_ploat  ,x ='Recent_year' ,  y = 'Data_count')\n",
    "\n",
    "#(v) 분석에 사용하는 data는 최근 10년으로 정함\n",
    "recent_year_boundary = 10"
   ]
  },
  {
   "cell_type": "code",
   "execution_count": 113,
   "metadata": {},
   "outputs": [
    {
     "data": {
      "text/plain": [
       "<AxesSubplot:xlabel='sum_Sales', ylabel='count'>"
      ]
     },
     "execution_count": 113,
     "metadata": {},
     "output_type": "execute_result"
    },
    {
     "data": {
      "image/png": "[encoded data removed]",
      "text/plain": [
       "<Figure size 432x288 with 1 Axes>"
      ]
     },
     "metadata": {
      "needs_background": "light"
     },
     "output_type": "display_data"
    }
   ],
   "source": [
    "sns.countplot ( data = df , x='sum_Sales')"
   ]
  },
  {
   "cell_type": "markdown",
   "metadata": {},
   "source": [
    "* hit 게임 기준 정하기\n",
    "\n",
    "    -> K-means 분류.    \n",
    "    -> 8 단계중 마지막 2 단계 "
   ]
  },
  {
   "cell_type": "code",
   "execution_count": 361,
   "metadata": {},
   "outputs": [
    {
     "name": "stdout",
     "output_type": "stream",
     "text": [
      "<class 'pandas.core.frame.DataFrame'>\n",
      "Int64Index: 1000000 entries, 6874 to 759\n",
      "Data columns (total 10 columns):\n",
      " #   Column       Non-Null Count    Dtype   \n",
      "---  ------       --------------    -----   \n",
      " 0   Platform     1000000 non-null  category\n",
      " 1   Year         1000000 non-null  int64   \n",
      " 2   Genre        1000000 non-null  category\n",
      " 3   NA_Sales     1000000 non-null  int64   \n",
      " 4   EU_Sales     1000000 non-null  int64   \n",
      " 5   JP_Sales     1000000 non-null  int64   \n",
      " 6   Other_Sales  1000000 non-null  int64   \n",
      " 7   Type         1000000 non-null  category\n",
      " 8   sum_Sales    1000000 non-null  int64   \n",
      " 9   label        1000000 non-null  category\n",
      "dtypes: category(4), int64(6)\n",
      "memory usage: 57.2 MB\n",
      "   label       max       min  count  cum_sum\n",
      "3      3  21389999  13470000    NaN      NaN\n",
      "6      6  12210000   8840000    NaN      NaN\n",
      "1      1   8490000   5980000    NaN      NaN\n",
      "7      7   5659999   3610000    NaN      NaN\n",
      "5      5   3530000   2140000    NaN      NaN\n",
      "2      2   2110000   1100000    NaN      NaN\n",
      "4      4   1080000    390000    NaN      NaN\n",
      "0      0    380000     10000    NaN      NaN\n",
      " 상위 10% =  1140000.0  \n"
     ]
    },
    {
     "name": "stderr",
     "output_type": "stream",
     "text": [
      "/var/folders/jn/rsqz7wy50rqf16w210vtbm1w0000gn/T/ipykernel_22111/3883318476.py:66: FutureWarning: The frame.append method is deprecated and will be removed from pandas in a future version. Use pandas.concat instead.\n",
      "  df_label_max = df_label_max.append ( df_insert )\n",
      "/var/folders/jn/rsqz7wy50rqf16w210vtbm1w0000gn/T/ipykernel_22111/3883318476.py:66: FutureWarning: The frame.append method is deprecated and will be removed from pandas in a future version. Use pandas.concat instead.\n",
      "  df_label_max = df_label_max.append ( df_insert )\n",
      "/var/folders/jn/rsqz7wy50rqf16w210vtbm1w0000gn/T/ipykernel_22111/3883318476.py:66: FutureWarning: The frame.append method is deprecated and will be removed from pandas in a future version. Use pandas.concat instead.\n",
      "  df_label_max = df_label_max.append ( df_insert )\n",
      "/var/folders/jn/rsqz7wy50rqf16w210vtbm1w0000gn/T/ipykernel_22111/3883318476.py:66: FutureWarning: The frame.append method is deprecated and will be removed from pandas in a future version. Use pandas.concat instead.\n",
      "  df_label_max = df_label_max.append ( df_insert )\n",
      "/var/folders/jn/rsqz7wy50rqf16w210vtbm1w0000gn/T/ipykernel_22111/3883318476.py:66: FutureWarning: The frame.append method is deprecated and will be removed from pandas in a future version. Use pandas.concat instead.\n",
      "  df_label_max = df_label_max.append ( df_insert )\n",
      "/var/folders/jn/rsqz7wy50rqf16w210vtbm1w0000gn/T/ipykernel_22111/3883318476.py:66: FutureWarning: The frame.append method is deprecated and will be removed from pandas in a future version. Use pandas.concat instead.\n",
      "  df_label_max = df_label_max.append ( df_insert )\n",
      "/var/folders/jn/rsqz7wy50rqf16w210vtbm1w0000gn/T/ipykernel_22111/3883318476.py:66: FutureWarning: The frame.append method is deprecated and will be removed from pandas in a future version. Use pandas.concat instead.\n",
      "  df_label_max = df_label_max.append ( df_insert )\n",
      "/var/folders/jn/rsqz7wy50rqf16w210vtbm1w0000gn/T/ipykernel_22111/3883318476.py:66: FutureWarning: The frame.append method is deprecated and will be removed from pandas in a future version. Use pandas.concat instead.\n",
      "  df_label_max = df_label_max.append ( df_insert )\n"
     ]
    },
    {
     "data": {
      "text/plain": [
       "3    3\n",
       "6    6\n",
       "Name: label, dtype: int64"
      ]
     },
     "execution_count": 361,
     "metadata": {},
     "output_type": "execute_result"
    },
    {
     "data": {
      "image/png": "[encoded data removed]",
      "text/plain": [
       "<Figure size 432x288 with 1 Axes>"
      ]
     },
     "metadata": {
      "needs_background": "light"
     },
     "output_type": "display_data"
    }
   ],
   "source": [
    "# (v) hit-게임 분류하기( kmeans)\n",
    "\n",
    "# (v) 매출 합계 컬럼 생성 \n",
    "df['sum_Sales'] = df.NA_Sales + df.EU_Sales + df.JP_Sales + df.Other_Sales\n",
    "df.head()\n",
    "\n",
    "\n",
    "# data backup\n",
    "df_org = df.copy()\n",
    "\n",
    "#(v) 최근연도 df 추출\n",
    "df_recent = df[df.Year >= max_year - (recent_year_boundary-1) ].copy()\n",
    "len(df_recent)\n",
    "\n",
    "#(v) 부트 스트랩 ( 10만개 )\n",
    "df_boot = df_recent.sample(n=1000000, replace=True)\n",
    "df_boot.head()\n",
    "df_boot.info()\n",
    "\n",
    "\n",
    "# 작업 df = \n",
    "df = df_boot\n",
    "\n",
    "#(TODO) 히스토그램으로  갯수 vs 값 출력해 보기\n",
    "#sns.histplot ( df.sum_Sales )\n",
    "\n",
    "#(v) Kmeans 실행 하여 클러스터 나누기\n",
    "# K-means 클러스터링 분석\n",
    "kmeans = KMeans( random_state=42)\n",
    "\n",
    "# (v) 부트스트랩을 한 data를 기준으로 클러스터링 진행\n",
    "# (TODO) 혹시 셈플(원본) 데이터를 클러스터링 분류 기준으로 잡아야 하는가?\n",
    "kmeans.fit_transform( np.array(df.sum_Sales.to_list()).reshape(-1, 1))    #(TODO) reshape(-1, 1) 해주어야 하는 이유 확인\n",
    "\n",
    "# # 최근연도의_부트스트렙_ 셈플 데이터를 클러스터링 하기\n",
    "# kmeans._transform(np.array(df_boot.sum_Sales.to_list()).reshape(-1, 1))\n",
    "cluster_labels = kmeans.labels_\n",
    "\n",
    "#(TODO)결과가 몇개의 클러스터 나뉘었는지 확인하는 간단한 방법이 뭐였더라?)\n",
    "set_cluster = set(cluster_labels )\n",
    "len(set_cluster)\n",
    "\n",
    "#(v) 어느 클러스터가 최고 매출 클러스터인지 확인 \n",
    "df['label'] = cluster_labels\n",
    "df['label'] = df['label'].astype('category')\n",
    "\n",
    "#(TODO) y값이 정상으로 출력되지 않는 이유는?\n",
    "sns.scatterplot ( data = df , y= 'sum_Sales' , x = 'label' )\n",
    "\n",
    "#[v] 어느 그룹까지를 hit-game으로 보면 좋을지 결정 하기\n",
    "# (TODO) 어떤 방법으로 나누는 것이 좋을까? \n",
    "\n",
    "# K-Means\n",
    "df_label_max = pd.DataFrame ()\n",
    "for i in range (8) :\n",
    "        df_insert = pd.DataFrame(\n",
    "                        {\n",
    "                                'label' : i ,\n",
    "                                'max' : df[df.label == i ].sum_Sales.max() , \n",
    "                                'min' : df[df.label == i ].sum_Sales.min() , \n",
    "                                'count' : df[df.label == i ].count()\n",
    "                        }\n",
    "                        , index=[i]\n",
    "                )\n",
    "        #print(df_insert)\n",
    "        df_label_max = df_label_max.append ( df_insert )\n",
    "\n",
    "#(v) max() 값 순으로 정렬하여 출력하는 방법은?\n",
    "df_label_max.sort_values(by='max' , axis=0, ascending=False, inplace=True)\n",
    "df_label_max['cum_sum'] = df_label_max['count'].cumsum()\n",
    "print(df_label_max)\n",
    "\n",
    "\n",
    "# 상위 10% 값의 경우에는? \n",
    "upper = np.percentile(df.sum_Sales, 90) \n",
    "print ( f\" 상위 10% =  {upper}  \")\n",
    "\n",
    "\n",
    "#(v) 프로그램적으로 최고값 클러스터를 찾아내는 방법은?\n",
    "cluster_hit_game = df_label_max.iloc[:2]['label']\n",
    "cluster_hit_game\n"
   ]
  },
  {
   "cell_type": "code",
   "execution_count": 229,
   "metadata": {},
   "outputs": [
    {
     "name": "stdout",
     "output_type": "stream",
     "text": [
      "[3, 1]\n"
     ]
    }
   ],
   "source": [
    "#(v) 프로그램적으로 최고값 클러스터를 찾아내는 방법은?\n",
    "# hit game의 cluster 정하기\n",
    "list_cluster_hit_game = df_label_max.iloc[:2]['label'].values.tolist()\n",
    "print (list_cluster_hit_game)"
   ]
  },
  {
   "cell_type": "markdown",
   "metadata": {},
   "source": [
    "\n",
    "* (v)- 확률값 구하기\n",
    "\n"
   ]
  },
  {
   "cell_type": "code",
   "execution_count": 341,
   "metadata": {},
   "outputs": [
    {
     "data": {
      "text/plain": [
       "0.004902"
      ]
     },
     "metadata": {},
     "output_type": "display_data"
    },
    {
     "data": {
      "text/html": [
       "<div>\n",
       "<style scoped>\n",
       "    .dataframe tbody tr th:only-of-type {\n",
       "        vertical-align: middle;\n",
       "    }\n",
       "\n",
       "    .dataframe tbody tr th {\n",
       "        vertical-align: top;\n",
       "    }\n",
       "\n",
       "    .dataframe thead th {\n",
       "        text-align: right;\n",
       "    }\n",
       "</style>\n",
       "<table border=\"1\" class=\"dataframe\">\n",
       "  <thead>\n",
       "    <tr style=\"text-align: right;\">\n",
       "      <th></th>\n",
       "      <th>ratio</th>\n",
       "    </tr>\n",
       "  </thead>\n",
       "  <tbody>\n",
       "    <tr>\n",
       "      <th>Shooter</th>\n",
       "      <td>0.422685</td>\n",
       "    </tr>\n",
       "    <tr>\n",
       "      <th>Action</th>\n",
       "      <td>0.134843</td>\n",
       "    </tr>\n",
       "    <tr>\n",
       "      <th>Misc</th>\n",
       "      <td>0.119339</td>\n",
       "    </tr>\n",
       "    <tr>\n",
       "      <th>Role-Playing</th>\n",
       "      <td>0.112811</td>\n",
       "    </tr>\n",
       "    <tr>\n",
       "      <th>Platform</th>\n",
       "      <td>0.102815</td>\n",
       "    </tr>\n",
       "    <tr>\n",
       "      <th>Simulation</th>\n",
       "      <td>0.054876</td>\n",
       "    </tr>\n",
       "    <tr>\n",
       "      <th>Racing</th>\n",
       "      <td>0.052632</td>\n",
       "    </tr>\n",
       "  </tbody>\n",
       "</table>\n",
       "</div>"
      ],
      "text/plain": [
       "                 ratio\n",
       "Shooter       0.422685\n",
       "Action        0.134843\n",
       "Misc          0.119339\n",
       "Role-Playing  0.112811\n",
       "Platform      0.102815\n",
       "Simulation    0.054876\n",
       "Racing        0.052632"
      ]
     },
     "metadata": {},
     "output_type": "display_data"
    },
    {
     "data": {
      "text/html": [
       "<div>\n",
       "<style scoped>\n",
       "    .dataframe tbody tr th:only-of-type {\n",
       "        vertical-align: middle;\n",
       "    }\n",
       "\n",
       "    .dataframe tbody tr th {\n",
       "        vertical-align: top;\n",
       "    }\n",
       "\n",
       "    .dataframe thead th {\n",
       "        text-align: right;\n",
       "    }\n",
       "</style>\n",
       "<table border=\"1\" class=\"dataframe\">\n",
       "  <thead>\n",
       "    <tr style=\"text-align: right;\">\n",
       "      <th></th>\n",
       "      <th>ratio</th>\n",
       "    </tr>\n",
       "  </thead>\n",
       "  <tbody>\n",
       "    <tr>\n",
       "      <th>Action</th>\n",
       "      <td>0.311885</td>\n",
       "    </tr>\n",
       "    <tr>\n",
       "      <th>Role-Playing</th>\n",
       "      <td>0.117154</td>\n",
       "    </tr>\n",
       "    <tr>\n",
       "      <th>Adventure</th>\n",
       "      <td>0.099909</td>\n",
       "    </tr>\n",
       "    <tr>\n",
       "      <th>Sports</th>\n",
       "      <td>0.099066</td>\n",
       "    </tr>\n",
       "    <tr>\n",
       "      <th>Misc</th>\n",
       "      <td>0.093851</td>\n",
       "    </tr>\n",
       "    <tr>\n",
       "      <th>Shooter</th>\n",
       "      <td>0.081007</td>\n",
       "    </tr>\n",
       "    <tr>\n",
       "      <th>Racing</th>\n",
       "      <td>0.045754</td>\n",
       "    </tr>\n",
       "    <tr>\n",
       "      <th>Fighting</th>\n",
       "      <td>0.040645</td>\n",
       "    </tr>\n",
       "    <tr>\n",
       "      <th>Simulation</th>\n",
       "      <td>0.033008</td>\n",
       "    </tr>\n",
       "    <tr>\n",
       "      <th>Platform</th>\n",
       "      <td>0.030916</td>\n",
       "    </tr>\n",
       "    <tr>\n",
       "      <th>Strategy</th>\n",
       "      <td>0.029126</td>\n",
       "    </tr>\n",
       "    <tr>\n",
       "      <th>Puzzle</th>\n",
       "      <td>0.017679</td>\n",
       "    </tr>\n",
       "  </tbody>\n",
       "</table>\n",
       "</div>"
      ],
      "text/plain": [
       "                 ratio\n",
       "Action        0.311885\n",
       "Role-Playing  0.117154\n",
       "Adventure     0.099909\n",
       "Sports        0.099066\n",
       "Misc          0.093851\n",
       "Shooter       0.081007\n",
       "Racing        0.045754\n",
       "Fighting      0.040645\n",
       "Simulation    0.033008\n",
       "Platform      0.030916\n",
       "Strategy      0.029126\n",
       "Puzzle        0.017679"
      ]
     },
     "metadata": {},
     "output_type": "display_data"
    },
    {
     "data": {
      "text/html": [
       "<div>\n",
       "<style scoped>\n",
       "    .dataframe tbody tr th:only-of-type {\n",
       "        vertical-align: middle;\n",
       "    }\n",
       "\n",
       "    .dataframe tbody tr th {\n",
       "        vertical-align: top;\n",
       "    }\n",
       "\n",
       "    .dataframe thead th {\n",
       "        text-align: right;\n",
       "    }\n",
       "</style>\n",
       "<table border=\"1\" class=\"dataframe\">\n",
       "  <thead>\n",
       "    <tr style=\"text-align: right;\">\n",
       "      <th></th>\n",
       "      <th>ratio</th>\n",
       "    </tr>\n",
       "  </thead>\n",
       "  <tbody>\n",
       "    <tr>\n",
       "      <th>X360</th>\n",
       "      <td>0.371481</td>\n",
       "    </tr>\n",
       "    <tr>\n",
       "      <th>3DS</th>\n",
       "      <td>0.267646</td>\n",
       "    </tr>\n",
       "    <tr>\n",
       "      <th>PS3</th>\n",
       "      <td>0.206038</td>\n",
       "    </tr>\n",
       "    <tr>\n",
       "      <th>PS4</th>\n",
       "      <td>0.093023</td>\n",
       "    </tr>\n",
       "    <tr>\n",
       "      <th>Wii</th>\n",
       "      <td>0.061812</td>\n",
       "    </tr>\n",
       "  </tbody>\n",
       "</table>\n",
       "</div>"
      ],
      "text/plain": [
       "         ratio\n",
       "X360  0.371481\n",
       "3DS   0.267646\n",
       "PS3   0.206038\n",
       "PS4   0.093023\n",
       "Wii   0.061812"
      ]
     },
     "metadata": {},
     "output_type": "display_data"
    },
    {
     "data": {
      "text/html": [
       "<div>\n",
       "<style scoped>\n",
       "    .dataframe tbody tr th:only-of-type {\n",
       "        vertical-align: middle;\n",
       "    }\n",
       "\n",
       "    .dataframe tbody tr th {\n",
       "        vertical-align: top;\n",
       "    }\n",
       "\n",
       "    .dataframe thead th {\n",
       "        text-align: right;\n",
       "    }\n",
       "</style>\n",
       "<table border=\"1\" class=\"dataframe\">\n",
       "  <thead>\n",
       "    <tr style=\"text-align: right;\">\n",
       "      <th></th>\n",
       "      <th>ratio</th>\n",
       "    </tr>\n",
       "  </thead>\n",
       "  <tbody>\n",
       "    <tr>\n",
       "      <th>PS3</th>\n",
       "      <td>0.180797</td>\n",
       "    </tr>\n",
       "    <tr>\n",
       "      <th>X360</th>\n",
       "      <td>0.130004</td>\n",
       "    </tr>\n",
       "    <tr>\n",
       "      <th>3DS</th>\n",
       "      <td>0.128672</td>\n",
       "    </tr>\n",
       "    <tr>\n",
       "      <th>PSV</th>\n",
       "      <td>0.105880</td>\n",
       "    </tr>\n",
       "    <tr>\n",
       "      <th>PC</th>\n",
       "      <td>0.094525</td>\n",
       "    </tr>\n",
       "    <tr>\n",
       "      <th>PS4</th>\n",
       "      <td>0.087034</td>\n",
       "    </tr>\n",
       "    <tr>\n",
       "      <th>PSP</th>\n",
       "      <td>0.080889</td>\n",
       "    </tr>\n",
       "    <tr>\n",
       "      <th>XOne</th>\n",
       "      <td>0.054339</td>\n",
       "    </tr>\n",
       "    <tr>\n",
       "      <th>Wii</th>\n",
       "      <td>0.051164</td>\n",
       "    </tr>\n",
       "    <tr>\n",
       "      <th>DS</th>\n",
       "      <td>0.048194</td>\n",
       "    </tr>\n",
       "    <tr>\n",
       "      <th>WiiU</th>\n",
       "      <td>0.036701</td>\n",
       "    </tr>\n",
       "    <tr>\n",
       "      <th>PS2</th>\n",
       "      <td>0.001801</td>\n",
       "    </tr>\n",
       "  </tbody>\n",
       "</table>\n",
       "</div>"
      ],
      "text/plain": [
       "         ratio\n",
       "PS3   0.180797\n",
       "X360  0.130004\n",
       "3DS   0.128672\n",
       "PSV   0.105880\n",
       "PC    0.094525\n",
       "PS4   0.087034\n",
       "PSP   0.080889\n",
       "XOne  0.054339\n",
       "Wii   0.051164\n",
       "DS    0.048194\n",
       "WiiU  0.036701\n",
       "PS2   0.001801"
      ]
     },
     "metadata": {},
     "output_type": "display_data"
    }
   ],
   "source": [
    "#(v)- p ( hit 게임)\n",
    "df_label_ratio = df['label'].value_counts(normalize=True ,dropna = True)\n",
    "P_hit = df_label_ratio.sort_values( )[:2].sum()\n",
    "display( P_hit )\n",
    "\n",
    "# hit 게임\n",
    "df_hit = df[ ((df['label'] == 3 ) | ( df['label'] == 1 ))  ]\n",
    "#(TODO) in 으로 조회 하기\n",
    "#df[ (df['label'] in list_cluster_hit_game) ]\n",
    "#list_cluster_hit_game = 3, 1\n",
    "\n",
    "# (v)- P ( 장르(각각) | hit 게임 )\n",
    "col_name = 'Genre'\n",
    "df_temp = df_hit[col_name].value_counts(normalize=True ) \n",
    "df_P_Genre_ratio_bar_hitGame = df_temp[df_temp > 0 ].to_frame(\"ratio\")\n",
    "display(df_P_Genre_ratio_bar_hitGame)\n",
    "\n",
    "# (v)_ P ( 장르(각각) )\n",
    "df_temp = df[col_name].value_counts(normalize=True ) \n",
    "df_P_Genre_ratio = df_temp[df_temp > 0 ].to_frame(\"ratio\")\n",
    "display(df_P_Genre_ratio)\n",
    "\n",
    "# (TODO)- P ( 플랫폼(각각) | hit 게임 )\n",
    "col_name = 'Platform'\n",
    "df_temp = df_hit[col_name].value_counts(normalize=True ) \n",
    "df_P_Platform_ratio_bar_hitGame = df_temp[df_temp > 0 ].to_frame(\"ratio\")\n",
    "display(df_P_Platform_ratio_bar_hitGame)\n",
    "\n",
    "# (TODO)- P ( 플랫폼(각각) )\n",
    "df_temp = df[col_name].value_counts(normalize=True ) \n",
    "df_P_Platform_ratio = df_temp[df_temp > 0 ].to_frame(\"ratio\")\n",
    "display(df_P_Platform_ratio)\n",
    "\n",
    "# (TODO)- P ( 지역(각각) | hit 게임 )\n",
    "# (TODO)- P ( 지역(각각) )\n",
    "\n",
    "    # # -> 별도의 처리가 필요함\n"
   ]
  },
  {
   "cell_type": "code",
   "execution_count": 352,
   "metadata": {},
   "outputs": [
    {
     "data": {
      "text/plain": [
       "ratio    0.025578\n",
       "Name: Shooter, dtype: float64"
      ]
     },
     "execution_count": 352,
     "metadata": {},
     "output_type": "execute_result"
    }
   ],
   "source": [
    "df_P_Genre_ratio_bar_hitGame.loc['Shooter'] \n",
    "df_P_Genre_ratio.loc['Shooter']\n",
    "df_P_Genre_ratio_bar_hitGame.loc['Shooter'] * P_hit / df_P_Genre_ratio.loc['Shooter']"
   ]
  },
  {
   "cell_type": "code",
   "execution_count": 376,
   "metadata": {},
   "outputs": [
    {
     "name": "stdout",
     "output_type": "stream",
     "text": [
      "0.025578036465984423\n"
     ]
    }
   ],
   "source": [
    "sri_ratio = (df_P_Genre_ratio_bar_hitGame.loc['Shooter'] * P_hit / df_P_Genre_ratio.loc['Shooter'])\n",
    "print( sri_ratio.values[0] )"
   ]
  },
  {
   "cell_type": "markdown",
   "metadata": {},
   "source": [
    "#### 장르별 hit 게임 확률"
   ]
  },
  {
   "cell_type": "code",
   "execution_count": 417,
   "metadata": {},
   "outputs": [
    {
     "data": {
      "text/html": [
       "<div>\n",
       "<style scoped>\n",
       "    .dataframe tbody tr th:only-of-type {\n",
       "        vertical-align: middle;\n",
       "    }\n",
       "\n",
       "    .dataframe tbody tr th {\n",
       "        vertical-align: top;\n",
       "    }\n",
       "\n",
       "    .dataframe thead th {\n",
       "        text-align: right;\n",
       "    }\n",
       "</style>\n",
       "<table border=\"1\" class=\"dataframe\">\n",
       "  <thead>\n",
       "    <tr style=\"text-align: right;\">\n",
       "      <th></th>\n",
       "      <th>Genre</th>\n",
       "      <th>ratio</th>\n",
       "    </tr>\n",
       "  </thead>\n",
       "  <tbody>\n",
       "    <tr>\n",
       "      <th>Shooter</th>\n",
       "      <td>Shooter</td>\n",
       "      <td>0.025578</td>\n",
       "    </tr>\n",
       "    <tr>\n",
       "      <th>Platform</th>\n",
       "      <td>Platform</td>\n",
       "      <td>0.016302</td>\n",
       "    </tr>\n",
       "    <tr>\n",
       "      <th>Simulation</th>\n",
       "      <td>Simulation</td>\n",
       "      <td>0.008150</td>\n",
       "    </tr>\n",
       "    <tr>\n",
       "      <th>Misc</th>\n",
       "      <td>Misc</td>\n",
       "      <td>0.006233</td>\n",
       "    </tr>\n",
       "    <tr>\n",
       "      <th>Racing</th>\n",
       "      <td>Racing</td>\n",
       "      <td>0.005639</td>\n",
       "    </tr>\n",
       "    <tr>\n",
       "      <th>Role-Playing</th>\n",
       "      <td>Role-Playing</td>\n",
       "      <td>0.004720</td>\n",
       "    </tr>\n",
       "    <tr>\n",
       "      <th>Action</th>\n",
       "      <td>Action</td>\n",
       "      <td>0.002119</td>\n",
       "    </tr>\n",
       "  </tbody>\n",
       "</table>\n",
       "</div>"
      ],
      "text/plain": [
       "                     Genre     ratio\n",
       "Shooter            Shooter  0.025578\n",
       "Platform          Platform  0.016302\n",
       "Simulation      Simulation  0.008150\n",
       "Misc                  Misc  0.006233\n",
       "Racing              Racing  0.005639\n",
       "Role-Playing  Role-Playing  0.004720\n",
       "Action              Action  0.002119"
      ]
     },
     "metadata": {},
     "output_type": "display_data"
    },
    {
     "data": {
      "text/plain": [
       "<AxesSubplot:xlabel='Genre', ylabel='ratio'>"
      ]
     },
     "execution_count": 417,
     "metadata": {},
     "output_type": "execute_result"
    },
    {
     "data": {
      "image/png": "[encoded data removed]",
      "text/plain": [
       "<Figure size 432x288 with 1 Axes>"
      ]
     },
     "metadata": {
      "needs_background": "light"
     },
     "output_type": "display_data"
    }
   ],
   "source": [
    "# 장르별 hit 게임 확률 (베이지안)\n",
    "# \"\"\"        A : hit 게임\n",
    "#             B : 장르(각)\n",
    "\n",
    "#             P(A|B) = P(B|A) * P(A) / P(B)\n",
    "# \"\"\"\n",
    "\n",
    "# hit 게임의 장르\n",
    "#P_hitGame_bar_Genre =  df_P_Genre_ratio_bar_hitGame [] * P_hit / P_ge\n",
    "list_Genre_hit = df_P_Genre_ratio_bar_hitGame.index \n",
    "\n",
    "# P (hit 게임 | 각 장르별 )\n",
    "df_P_hitGame_bar_Genre = pd.DataFrame()\n",
    "#df_P_hitGame_bar_Genre.columns = ['Genre','ratio']\n",
    "#display ( df_P_hitGame_bar_Genre)\n",
    "\n",
    "for genre in list_Genre_hit :\n",
    "    sri_ratio = (df_P_Genre_ratio_bar_hitGame.loc[genre] * P_hit / df_P_Genre_ratio.loc[genre])\n",
    "    #print ( f\" ratio = { sri_ratio } : {df_P_Genre_ratio_bar_hitGame.loc[genre] } *  {P_hit}  / { df_P_Genre_ratio.loc[genre]} \"      )\n",
    "    df_insert = pd.DataFrame ({\n",
    "        \"Genre\" : genre ,\n",
    "        \"ratio\" :  sri_ratio.values[0] # 값만 \n",
    "    }, index = [genre] )\n",
    "    df_P_hitGame_bar_Genre = pd.concat( [df_P_hitGame_bar_Genre , df_insert] , axis= 0)\n",
    "\n",
    "# 정렬\n",
    "df_P_hitGame_bar_Genre = df_P_hitGame_bar_Genre.sort_values( by=['ratio'] , ascending= False )\n",
    "display(df_P_hitGame_bar_Genre)\n",
    "\n",
    "\n",
    "# # 시각화\n",
    "sns.barplot ( data = df_P_hitGame_bar_Genre , x = 'Genre' , y = 'ratio' )\n",
    "#(TODO) 퍼센트 값 추가\n",
    "\n"
   ]
  },
  {
   "cell_type": "code",
   "execution_count": 471,
   "metadata": {},
   "outputs": [
    {
     "data": {
      "text/plain": [
       "Shooter         2.6\n",
       "Platform        1.6\n",
       "Simulation      0.8\n",
       "Misc            0.6\n",
       "Racing          0.6\n",
       "Role-Playing    0.5\n",
       "Action          0.2\n",
       "Name: ratio, dtype: float64"
      ]
     },
     "execution_count": 471,
     "metadata": {},
     "output_type": "execute_result"
    }
   ],
   "source": [
    "df_P_hitGame_bar_Genre['ratio'].round(3)*100"
   ]
  },
  {
   "cell_type": "markdown",
   "metadata": {},
   "source": [
    "#### 플렛폼 별 hit 게임 확률"
   ]
  },
  {
   "cell_type": "code",
   "execution_count": 425,
   "metadata": {},
   "outputs": [
    {
     "data": {
      "text/html": [
       "<div>\n",
       "<style scoped>\n",
       "    .dataframe tbody tr th:only-of-type {\n",
       "        vertical-align: middle;\n",
       "    }\n",
       "\n",
       "    .dataframe tbody tr th {\n",
       "        vertical-align: top;\n",
       "    }\n",
       "\n",
       "    .dataframe thead th {\n",
       "        text-align: right;\n",
       "    }\n",
       "</style>\n",
       "<table border=\"1\" class=\"dataframe\">\n",
       "  <thead>\n",
       "    <tr style=\"text-align: right;\">\n",
       "      <th></th>\n",
       "      <th>Platform</th>\n",
       "      <th>ratio</th>\n",
       "    </tr>\n",
       "  </thead>\n",
       "  <tbody>\n",
       "    <tr>\n",
       "      <th>X360</th>\n",
       "      <td>X360</td>\n",
       "      <td>0.014007</td>\n",
       "    </tr>\n",
       "    <tr>\n",
       "      <th>3DS</th>\n",
       "      <td>3DS</td>\n",
       "      <td>0.010196</td>\n",
       "    </tr>\n",
       "    <tr>\n",
       "      <th>Wii</th>\n",
       "      <td>Wii</td>\n",
       "      <td>0.005922</td>\n",
       "    </tr>\n",
       "    <tr>\n",
       "      <th>PS3</th>\n",
       "      <td>PS3</td>\n",
       "      <td>0.005586</td>\n",
       "    </tr>\n",
       "    <tr>\n",
       "      <th>PS4</th>\n",
       "      <td>PS4</td>\n",
       "      <td>0.005239</td>\n",
       "    </tr>\n",
       "  </tbody>\n",
       "</table>\n",
       "</div>"
      ],
      "text/plain": [
       "     Platform     ratio\n",
       "X360     X360  0.014007\n",
       "3DS       3DS  0.010196\n",
       "Wii       Wii  0.005922\n",
       "PS3       PS3  0.005586\n",
       "PS4       PS4  0.005239"
      ]
     },
     "metadata": {},
     "output_type": "display_data"
    },
    {
     "data": {
      "text/plain": [
       "<AxesSubplot:xlabel='Platform', ylabel='ratio'>"
      ]
     },
     "execution_count": 425,
     "metadata": {},
     "output_type": "execute_result"
    },
    {
     "data": {
      "image/png": "[encoded data removed]",
      "text/plain": [
       "<Figure size 432x288 with 1 Axes>"
      ]
     },
     "metadata": {
      "needs_background": "light"
     },
     "output_type": "display_data"
    }
   ],
   "source": [
    "\"\"\"\"\n",
    "        목표 -> 각 플렛폼 별로 매출이 높을 확률  ? 베이지안\n",
    "            A : hit 게임\n",
    "            B : 플렛폼(각)\n",
    "\n",
    "            P(A|B) = P(B|A) * P(A) / P(B)\n",
    "\"\"\"\n",
    "\n",
    "# hit 게임의 장르\n",
    "#P_hitGame_bar_Genre =  df_P_Genre_ratio_bar_hitGame [] * P_hit / P_ge\n",
    "list_Platform_hit = df_P_Platform_ratio_bar_hitGame.index \n",
    "\n",
    "# P (hit 게임 | 각 장르별 )\n",
    "df_P_hitGame_bar_Platform = pd.DataFrame()\n",
    "#df_P_hitGame_bar_Genre.columns = ['Genre','ratio']\n",
    "#display ( df_P_hitGame_bar_Genre)\n",
    "\n",
    "for platform in list_Platform_hit :\n",
    "    sri_ratio = (df_P_Platform_ratio_bar_hitGame.loc[platform] * P_hit / df_P_Platform_ratio.loc[platform])\n",
    "    #print ( f\" ratio = { sri_ratio } : {df_P_Genre_ratio_bar_hitGame.loc[genre] } *  {P_hit}  / { df_P_Genre_ratio.loc[genre]} \"      )\n",
    "    df_insert = pd.DataFrame ({\n",
    "        \"Platform\" : platform ,\n",
    "        \"ratio\" :  sri_ratio.values[0] # 값만 \n",
    "    }, index = [platform] )\n",
    "    df_P_hitGame_bar_Platform = pd.concat( [df_P_hitGame_bar_Platform , df_insert] , axis= 0)\n",
    "\n",
    "# 정렬\n",
    "df_P_hitGame_bar_Platform = df_P_hitGame_bar_Platform.sort_values( by=['ratio'] , ascending= False )\n",
    "display(df_P_hitGame_bar_Platform)\n",
    "\n",
    "\n",
    "# # 시각화\n",
    "sns.barplot ( data = df_P_hitGame_bar_Platform , x = 'Platform' , y = 'ratio' )\n",
    "#(TODO) 퍼센트 값 추가\n",
    "\n",
    "\n"
   ]
  },
  {
   "cell_type": "code",
   "execution_count": 472,
   "metadata": {},
   "outputs": [
    {
     "data": {
      "text/plain": [
       "X360    1.4\n",
       "3DS     1.0\n",
       "Wii     0.6\n",
       "PS3     0.6\n",
       "PS4     0.5\n",
       "Name: ratio, dtype: float64"
      ]
     },
     "execution_count": 472,
     "metadata": {},
     "output_type": "execute_result"
    }
   ],
   "source": [
    "df_P_hitGame_bar_Platform['ratio'].round(3)*100"
   ]
  },
  {
   "cell_type": "markdown",
   "metadata": {},
   "source": [
    "#### 지역별 hit 게임 확률\n",
    "        목표 -> 각 플렛폼 별로 매출이 높을 확률  ? 베이지안\n",
    "            A : hit 게임\n",
    "            B : 지역 (각)\n",
    "\n",
    "            P(A|B) = P(B|A) * P(A) / P(B)\n"
   ]
  },
  {
   "cell_type": "code",
   "execution_count": 469,
   "metadata": {},
   "outputs": [
    {
     "data": {
      "text/html": [
       "<div>\n",
       "<style scoped>\n",
       "    .dataframe tbody tr th:only-of-type {\n",
       "        vertical-align: middle;\n",
       "    }\n",
       "\n",
       "    .dataframe tbody tr th {\n",
       "        vertical-align: top;\n",
       "    }\n",
       "\n",
       "    .dataframe thead th {\n",
       "        text-align: right;\n",
       "    }\n",
       "</style>\n",
       "<table border=\"1\" class=\"dataframe\">\n",
       "  <thead>\n",
       "    <tr style=\"text-align: right;\">\n",
       "      <th></th>\n",
       "      <th>Area</th>\n",
       "      <th>ratio</th>\n",
       "    </tr>\n",
       "  </thead>\n",
       "  <tbody>\n",
       "    <tr>\n",
       "      <th>NA_Sales</th>\n",
       "      <td>NA_Sales</td>\n",
       "      <td>0.005453</td>\n",
       "    </tr>\n",
       "    <tr>\n",
       "      <th>EU_Sales</th>\n",
       "      <td>EU_Sales</td>\n",
       "      <td>0.004857</td>\n",
       "    </tr>\n",
       "    <tr>\n",
       "      <th>Other_Sales</th>\n",
       "      <td>Other_Sales</td>\n",
       "      <td>0.004805</td>\n",
       "    </tr>\n",
       "    <tr>\n",
       "      <th>JP_Sales</th>\n",
       "      <td>JP_Sales</td>\n",
       "      <td>0.003227</td>\n",
       "    </tr>\n",
       "  </tbody>\n",
       "</table>\n",
       "</div>"
      ],
      "text/plain": [
       "                    Area     ratio\n",
       "NA_Sales        NA_Sales  0.005453\n",
       "EU_Sales        EU_Sales  0.004857\n",
       "Other_Sales  Other_Sales  0.004805\n",
       "JP_Sales        JP_Sales  0.003227"
      ]
     },
     "metadata": {},
     "output_type": "display_data"
    },
    {
     "data": {
      "text/plain": [
       "<AxesSubplot:xlabel='Area', ylabel='ratio'>"
      ]
     },
     "execution_count": 469,
     "metadata": {},
     "output_type": "execute_result"
    },
    {
     "data": {
      "image/png": "[encoded data removed]",
      "text/plain": [
       "<Figure size 432x288 with 1 Axes>"
      ]
     },
     "metadata": {
      "needs_background": "light"
     },
     "output_type": "display_data"
    }
   ],
   "source": [
    "\n",
    "# (v)- P ( 지역(각각) | hit 게임 ) \n",
    "#   => df_P_Area_bar_hitGame\n",
    "#\n",
    "df_melt_hit = pd.melt(df_hit, id_vars=['Platform', 'Year' , 'Genre' , 'Type' , 'sum_Sales' , 'label' ] , var_name='Area', value_name='area_Sales' )\n",
    "df_melt_hit.head()\n",
    "\n",
    "df_temp = df_melt_hit.groupby( by = 'Area' ).sum().drop( columns= [ 'Year' , 'sum_Sales' ])\n",
    "sales_all = df_temp.sum() #.values[0]\n",
    "df_temp = df_temp / sales_all\n",
    "df_temp.columns = ['ratio']\n",
    "df_temp = df_temp.sort_values( by=['ratio'] , ascending= False )\n",
    "\n",
    "df_P_Area_bar_hitGame = df_temp.copy()\n",
    "\n",
    "\n",
    "# (v)- P ( 지역(각각) ). \n",
    "#   => df_P_Area\n",
    "df_melt = pd.melt(df, id_vars=['Platform', 'Year' , 'Genre' , 'Type' , 'sum_Sales' , 'label' ] , var_name='Area', value_name='area_Sales' )\n",
    "df_melt.head()\n",
    "\n",
    "df_temp = df_melt.groupby( by = 'Area' ).sum().drop( columns= [ 'Year' , 'sum_Sales' ])\n",
    "sales_all = df_temp.sum() #.values[0]\n",
    "df_temp = df_temp / sales_all\n",
    "df_temp.columns = ['ratio']\n",
    "df_temp = df_temp.sort_values( by=['ratio'] , ascending= False )\n",
    "\n",
    "df_P_Area = df_temp.copy()\n",
    "\n",
    "\n",
    "\n",
    "\n",
    "\"\"\"\n",
    "        목표 -> 각 지역 별로 매출이 높을 확률  ? 베이지안\n",
    "            A : hit 게임\n",
    "            B : 지역 (각)\n",
    "\n",
    "            P(A|B) = P(B|A) * P(A) / P(B)\n",
    "\n",
    "\"\"\"\n",
    "\n",
    "# hit 게임의 장르\n",
    "#P_hitGame_bar_Genre =  df_P_Genre_ratio_bar_hitGame [] * P_hit / P_ge\n",
    "list_Area = df_melt_hit.Area.unique().tolist()\n",
    "\n",
    "# P (hit 게임 | 각 지역별 )\n",
    "df_P_hitGame_bar_Area = pd.DataFrame()\n",
    "\n",
    "for Area in list_Area :\n",
    "    sri_ratio = (df_P_Area_bar_hitGame.loc[Area] * P_hit / df_P_Area.loc[Area])\n",
    "    df_insert = pd.DataFrame ({\n",
    "        \"Area\" : Area ,\n",
    "        \"ratio\" :  sri_ratio.values[0] # 값만 \n",
    "    }, index = [Area] )\n",
    "    df_P_hitGame_bar_Area = pd.concat( [df_P_hitGame_bar_Area , df_insert] , axis= 0)\n",
    "\n",
    "# 정렬\n",
    "df_P_hitGame_bar_Area = df_P_hitGame_bar_Area.sort_values( by=['ratio'] , ascending= False )\n",
    "display(df_P_hitGame_bar_Area)\n",
    "\n",
    "\n",
    "# # 시각화\n",
    "sns.barplot ( data = df_P_hitGame_bar_Area , x = 'Area' , y = 'ratio' )\n",
    "#(TODO) 퍼센트 값 추가\n",
    "\n",
    "\n",
    "\n",
    "\n",
    "\n"
   ]
  },
  {
   "cell_type": "code",
   "execution_count": 426,
   "metadata": {},
   "outputs": [],
   "source": [
    "\n",
    "# # (TODO) , na_action = None 이 왜 안먹힐까?\n",
    "# df_hit.groupby( by= 'Platform' ,dropna = True, )['sum_Sales'].mean().map( lambda x : x , na_action = None ).dropna()"
   ]
  },
  {
   "cell_type": "markdown",
   "metadata": {},
   "source": [
    "### 1.4 분석 결과"
   ]
  },
  {
   "cell_type": "markdown",
   "metadata": {},
   "source": [
    "언어 = 영어! , 일본어! , 유럽 언어? => 프랑스? , 독일? ...\n",
    "지역 = 미국 , 유럽 , 일본 , 기타 \n",
    "\n",
    "장르별 힛트 게임 확률은  \n",
    "Shooter         2.6\n",
    "Platform        1.6\n",
    "Simulation      0.8\n",
    "Misc            0.6\n",
    "Racing          0.6\n",
    "Role-Playing    0.5\n",
    "Action          0.2\n",
    "\n",
    "플랫폼별 힛트 게임 확률은\n",
    "X360    1.4\n",
    "3DS     1.0\n",
    "Wii     0.6\n",
    "PS3     0.6\n",
    "PS4     0.5"
   ]
  },
  {
   "cell_type": "markdown",
   "metadata": {},
   "source": [
    "### 1.5 사용된 가정 정리\n",
    "    * 받은 데이터는 전체 모든 게임의 데이터가 아닌 일부 셈플 데이터임 ( 2109년 스팀 출시 게임만 8396개 임 ) \n",
    "        -> 분석은 신뢰도 95% 목표로 분석한다.\n",
    "    * 외부 개발 의뢰가 아닌 자체 개발임\n",
    "    * 개발 기간은 1년~2년 이라고 가정\n",
    "    * 판매는 온라인 이지만, 마켓팅 비용은 지역 구분에 따라 추가 발생 함\n",
    "    * 게임의 수익 비율은 장르별로 비슷하다고 가정\n",
    "        장르별로 개발비용은 다르지만\n",
    "        - 개발비용이 비싼 게임은 판매 가격도 비싸고, 개발 비용이 싼 게임은 판매 가격도 싸게 팔아서 수익율은 비슷 하다고 가정 한다.\n",
    "    * 한 사람은 여러개의 게임을 구매 할 수 있다고 가정 -> 한개의 게임을 구매 후에도 다른 게임을 구매할 수 있음 ( 자금에 한도 없음 )\n",
    "    * 매출 기본 단위는 , M ( 백만 , 10^6 )"
   ]
  },
  {
   "cell_type": "markdown",
   "metadata": {},
   "source": []
  },
  {
   "cell_type": "markdown",
   "metadata": {},
   "source": [
    "----\n",
    "## 2. 필수 목표 ( 별도 요청 사항 )"
   ]
  },
  {
   "cell_type": "markdown",
   "metadata": {},
   "source": [
    "### 2-1. 지역에 따라서 선호하는 게임 장르가 다를까 라는 질문에 대답을 하셔야합니다.\n",
    "\n",
    "가설검증 \n",
    "    : 지역별 선호 게임장르는 다른가?  \n",
    "    \n",
    "        -> 접근방법: 세부 가설검증으로 나눠서 분할 확인 후 결과를 합친다\n",
    "\n",
    "        1.  전체중에서 선호 장르가 무엇인지 확인\n",
    "            -> 결과 : 전체중 선호장르 = a\n",
    "\n",
    "                * 부트 스트랩\n",
    "                * 각 장르별 순위 집계\n",
    "                * 모수 전체에 대한 선호 장르 확정 -> 오차율은? 의미가 있을까?\n",
    "\n",
    "        2. 각 지역별로 가설검증\n",
    "\n",
    "            ho = 전체의 최선호 장르\n",
    "            h0 = a (a: 별도의 분석으로 구해진 값)\n",
    "            h1 = A 지역의 최선호 장르\n",
    "\n",
    "            귀무가설 : h1 = a\n",
    "            대립가설 : h1 != a\n",
    "\n",
    "        3. 2번 검증을 지역별로 모두 수행중에 하나라도 대립가설인 경우가 있으면 \n",
    "            -> 지역별로 다름 \n",
    "            anova를 이용해서 혹은 반복수행을 통해 검증한다.\n",
    "\n",
    "\n",
    "결과 출력  \n",
    "\n",
    "        -(DF) 지역 , 장르 , 장르별 매출 , 지역내 장르별 매출 비율\n",
    "        -(그래프) 표 : x: 지역 , x-sub 장르 , y: 지역내 장르별 매출 비율 \n",
    "\n",
    "        X ->추가1) 시간대별로 지역의 선호도가 달라지지 않았는지 확인\n",
    "            -(DF) 지역 , 연도 , 장르 , 장르별 매출 , 지역내 장르별 매출 비율\n",
    "            -(그래프) 표 : x:연도 , x-sub 지역 , sub 장르 , y: 지역내 장르별 매출 비율 \n",
    "                -> 너무 복잡하다 \n",
    "                    -> 단순하게? 어떻게?"
   ]
  },
  {
   "cell_type": "markdown",
   "metadata": {},
   "source": [
    "\n",
    "### 2-2. 연도별 게임의 트렌드가 있을까 라는 질문에 대답을 하셔야합니다.\n",
    "### 2-2-1 트렌드 => 장르\n",
    "    -(DF) 연도, 장르 , 장르별 매출 , 장르별 매출 비율 \n",
    "    -(그래프) (bar) x: 연도 , sub 장르 , y: 장르별 매출 비율\n",
    "\n",
    "    -(그래프) (꺽은선) x: 연도 , y: 매출비율 , hue : 장르\n",
    "        + (bar) x : 연도 , y : 전체매출  \n",
    "        or + (bar:누적) x : 연도 , y : 장르별 매출 , hue= 장르  \n",
    "\n",
    "    X ->추가2?> 지역별로도 선호도가 달라지는가? \n",
    "        - 추가 1과 다른가? 의미가 있나? \n",
    "        -> 추가 1 처럼 너무 복잡해 질 것임 \n",
    "\n",
    "-> TODO : 결과는 =  다른가? \n",
    "가설검증 \n",
    "    : 연도별 트렌드가 있다?\n",
    "\n",
    "        트렌드란? 무엇 ? \n",
    "            : 트렌드 -> 배운것을 이용해서 수치로 나타낼 수 있을까?\n",
    "                경향?\n",
    "            \n",
    "            * 장르별 비율 ?\n",
    "                -> 장르갯수 만큼의 차원을 가진 백터로 표현 하면 되지 않을까? \n",
    "                    방향이 같으면 경향이 같다고 판단할 수 있을것으로 보임\n",
    "                    -> 그렇다면 크기는 해당 연도의 매출에 관계 있는걸까?\n",
    "\n",
    "                    h0 = 1번째 연도의 트렌드 값 => n차원 벡터\n",
    "                    h1 = 2번째 연도의 트렌드 값 => n차원 벡터\n",
    "                    ...\n",
    "                    hn \n",
    "\n",
    "                귀무가설 : h0 = h1 = h2\n",
    "                대립가설 : h0 != h1 != h2\n",
    "\n",
    "                anova를 이용해서 검증한다.\n",
    "\n",
    "                -> 구현 불가 ( 벡터의 유사도를 구하는 방법을 아직 모른다.)\n",
    "                    -> 단순화 시켜야 함\n",
    "                        -> \"최선호 장르\" 를 트렌드로 가정한다.( 가장 잘 팔리는 장르를 찾는 것이 요청자의 관심사 일 것이므로)\n",
    "\n",
    "            * (!문제점) 문제에 요구된 트렌드의 정의가 모호하다.\n",
    "\n",
    "            * 트렌드 = 최선호 장르\n",
    "                \n",
    "                    h0 = 1번째 연도의 최선호 장르 \n",
    "                    h1 = 2번째 연도의 최선호 장르 \n",
    "                    ...\n",
    "                    hn \n",
    "\n",
    "                귀무가설 : h0 = h1 = h2\n",
    "                대립가설 : h0 != h1 != h2\n",
    "\n",
    "                anova를 이용해서 혹은 반복수행을 통해 검증한다.\n",
    "\n",
    "\n",
    "            * TODO 사람이 인식하지 못한 요소를.... 머신러닝을 이용해서 어떤 트렌드가 있다는 걸 찾아낼 수 있을까? \n",
    "### 2-2-2 트렌드 => 플렛폼\n"
   ]
  },
  {
   "cell_type": "markdown",
   "metadata": {},
   "source": [
    "### 2-3. 출고량이 높은 게임에 대한 분석 및 시각화 프로세스가 포함되어야 합니다.\n",
    "    * hit game 의 전체 매출 비중\n",
    "    * 연도별 hit game의 전체 매출 비중 변화\n",
    "    * hit game 의 장르별 비율\n",
    "    * hit game 의 플렛폼별 비율\n",
    "    * hit game  \n"
   ]
  },
  {
   "cell_type": "markdown",
   "metadata": {},
   "source": [
    "## 3. 기타 사항 ( 추가 적인 참고 사항 , 분석 도중 추가 도출 된 사항)\n"
   ]
  },
  {
   "cell_type": "markdown",
   "metadata": {},
   "source": []
  }
 ],
 "metadata": {
  "kernelspec": {
   "display_name": "Python 3.9.12 ('base')",
   "language": "python",
   "name": "python3"
  },
  "language_info": {
   "codemirror_mode": {
    "name": "ipython",
    "version": 3
   },
   "file_extension": ".py",
   "mimetype": "text/x-python",
   "name": "python",
   "nbconvert_exporter": "python",
   "pygments_lexer": "ipython3",
   "version": "3.9.12"
  },
  "orig_nbformat": 4,
  "vscode": {
   "interpreter": {
    "hash": "cca240df8b4cc966d527f5e5f91069ba19ec750ec1338ff7cbac995a358e55d1"
   }
  }
 },
 "nbformat": 4,
 "nbformat_minor": 2
}
