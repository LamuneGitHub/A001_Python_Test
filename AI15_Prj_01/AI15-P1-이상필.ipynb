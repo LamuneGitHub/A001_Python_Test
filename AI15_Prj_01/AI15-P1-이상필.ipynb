{
 "cells": [
  {
   "cell_type": "markdown",
   "metadata": {},
   "source": [
    "# # 프로그램 기본 설정"
   ]
  },
  {
   "cell_type": "code",
   "execution_count": 2,
   "metadata": {},
   "outputs": [],
   "source": [
    "# import\n",
    "\n",
    "%matplotlib inline\n",
    "\n",
    "from IPython.display import display\n",
    "\n",
    "import re\n",
    "import math\n",
    "import pandas as pd\n",
    "import numpy as np\n",
    "import matplotlib as mpl\n",
    "import matplotlib.pyplot as plt\n",
    "import seaborn as sns\n",
    "import random\n",
    "\n",
    "import sklearn\n",
    "from sklearn.preprocessing import StandardScaler\n",
    "from sklearn.cluster import KMeans\n",
    "\n",
    "#pandas에서 DataFrame을 요약해서 표시하지 않도록 설정\n",
    "pd.set_option('display.max_columns', None)\n",
    "pd.set_option('display.max_rows', None)\n",
    "\n",
    "# head로 표시할 데이터 갯수 \n",
    "print_row_count = 3\n",
    "\n",
    "\n",
    "\n",
    "# 줄 구분 표시 출력 \n",
    "def print_line() :\n",
    "  print (\"\\n------------------------------------------------\")\n",
    "def print_line_m() :\n",
    "  print (\"\\n-----------------------\")\n",
    "def print_line_s() :\n",
    "  print (\"\\n----------\")"
   ]
  },
  {
   "cell_type": "markdown",
   "metadata": {},
   "source": []
  },
  {
   "cell_type": "markdown",
   "metadata": {},
   "source": [
    "## 기초 데이터 로딩"
   ]
  },
  {
   "cell_type": "code",
   "execution_count": 4,
   "metadata": {},
   "outputs": [],
   "source": [
    "#  정제된 data loading \n",
    "\n",
    "# Data 로드\n",
    "df_tmp = pd.read_csv( \"https://raw.githubusercontent.com/LamuneGitHub/AI15_Prj_01/main/vgames2_after_cleaning_01.csv\" , sep=\",\"  , header=0  ) \n",
    "df_target = df_tmp\n"
   ]
  },
  {
   "cell_type": "code",
   "execution_count": 12,
   "metadata": {},
   "outputs": [
    {
     "name": "stdout",
     "output_type": "stream",
     "text": [
      "<class 'pandas.core.frame.DataFrame'>\n",
      "RangeIndex: 16241 entries, 0 to 16240\n",
      "Data columns (total 8 columns):\n",
      " #   Column       Non-Null Count  Dtype   \n",
      "---  ------       --------------  -----   \n",
      " 0   Platform     16241 non-null  category\n",
      " 1   Year         16241 non-null  category\n",
      " 2   Genre        16241 non-null  category\n",
      " 3   NA_Sales     16241 non-null  int64   \n",
      " 4   EU_Sales     16241 non-null  int64   \n",
      " 5   JP_Sales     16241 non-null  int64   \n",
      " 6   Other_Sales  16241 non-null  int64   \n",
      " 7   Type         16241 non-null  category\n",
      "dtypes: category(4), int64(4)\n",
      "memory usage: 574.3 KB\n"
     ]
    }
   ],
   "source": [
    "# 데이터 type 재 지정\n",
    "df_target.info()\n",
    "\n",
    "df_target.Platform = df_target.Platform.astype('category')\n",
    "# (TODO) 연도 컬럼의 카테고리 값의 순서 지정\n",
    "df_target.Year = df_target.Year.astype('category')\n",
    "df_target.Genre = df_target.Genre.astype('category')\n",
    "df_target.Type = df_target.Type.astype('category')\n"
   ]
  },
  {
   "cell_type": "markdown",
   "metadata": {},
   "source": [
    "# # 분석 작업"
   ]
  },
  {
   "cell_type": "markdown",
   "metadata": {},
   "source": [
    "## 1. 최종 분석 목표 \n",
    "## **# 다음 분기에 어떤 게임을 설계해야 하는가 ?**"
   ]
  },
  {
   "cell_type": "markdown",
   "metadata": {},
   "source": [
    "### 1.1 목표 상세 정의\n",
    "    ## 최종 목표 요청사항 상세 정의 \n",
    "    = 1 단계 \n",
    "        * 어떤 장르를 개발해야 하는가?\n",
    "        * 어떤 플렛폼용으로 개발해야 하는가?\n",
    "        * 어떤 지역( 언어지원 , 주요 마켓팅 역량 집중 )을 주요 타겟으로 잡아야 하는가?\n",
    "\n",
    "    = 2 단계\n",
    "        * 어떤 장르의 게임을 개발했을 때 히트 게임이 될 확률이 높은가?\n",
    "            -> p( Hit 게임 | 장르 ) : 베이지안\n",
    "            \n",
    "            A : hit 게임\n",
    "            B : 장르(각)\n",
    "\n",
    "            P(A|B) = P(B|A) * P(A) / P(B) \n",
    "        \n",
    "        * ... ( Hit 게임 | 플랫폼)\n",
    "        * ... ( Hit 게임 | 지역)\n",
    "\n",
    "    = 3 최종 선택은 ?\n",
    "        * 최고로 높은 확률의 조합이 정답이 아니다.\n",
    "            개발팀의 자원에 따라 취사 선택 및 전략의 선택이 필요 하다.\n",
    "            -> 각각의 데이터를 모두 전달 후 상황에 맞게 전략을 선택할 수 있게 해주자\n",
    "\n",
    "            ex) 블루오션을 , 레드오션\n",
    "        \n",
    "        * 분석 결과의 해석은 관점에 따라서 달라질 수 있다.\n",
    "            - a장르의  hit 게임의 확률이 높다는 것은\n",
    "                - a장르를 좋아하는 사람이 많다는 의미\n",
    "                - a장르에 높은 개발력 , 혹은 충성도를 가지고 있는 경쟁사가 있다는 의미\n",
    "                    ( 반대의 경우 높은 개발력을 가진 회사가 적다 혹은 신규 시장이다. 로 해셕할 수도 있다. )\n",
    "            - 개발 전략을 수립하는 과정에서 계속 재 해석이 필요할 것이다. \n",
    "\n",
    "                -> 요청 사항이 ... 최신 트렌드 , 성공할 확률이 높은 선택지를 찾아줘로 느껴졌기 때문에 첨부한 첨언임\n",
    "\n",
    "        * 95%의 신뢰도를 가지도록 분석하였지만 , 5%의 확률은 일상에서 매우 흔하게 자주 발생한다.\n",
    "            TRPG 게임을 하다보면 20면체 주사위를 굴릴때 크리티컬이 나와서 끝났다고 생각하던 때에 역전승을 하거나\n",
    "                다 이겼다고 생각될 때 펌블이 나와서 망하는 경우가 아주 흔하게 발생한다는 것을 기억해라\n",
    "\n",
    "        * 개발팀의 역량 과 능력, 가지고 있는 자원에 대한 파악이 핵심이고 성공으로 향하는 올바른 시작이다.\n",
    "        "
   ]
  },
  {
   "cell_type": "markdown",
   "metadata": {},
   "source": [
    "### 1.2 필요한 데이터\n",
    "    * 과거의 데이터는 의미가 없다.\n",
    "        -> 최신의 데이터를 사용 -> 5년 ?\n",
    "    \n",
    "    * 구해야(필요한) 하는 확률 값 \n",
    "        - P ( 장르(각각) | hit 게임 )\n",
    "        - P ( hit 게임 )\n",
    "        _ P ( 장르(각각) )\n",
    "        \n",
    "        - P ( 플랫폼(각각) | hit 게임 )\n",
    "        - P ( 플랫폼(각각) )\n",
    "        \n",
    "        - P ( 지역(각각) | hit 게임 )\n",
    "        - P ( 지역(각각) )"
   ]
  },
  {
   "cell_type": "markdown",
   "metadata": {},
   "source": [
    "### 1.3 분석 진행"
   ]
  },
  {
   "cell_type": "code",
   "execution_count": 14,
   "metadata": {},
   "outputs": [],
   "source": [
    "### 1.3 분석 진행\n",
    "# (TODO)- P ( hit 게임 )\n",
    "\n",
    "\n",
    "# (TODO)- P ( 장르(각각) | hit 게임 )\n",
    "# (TODO)_ P ( 장르(각각) )\n",
    "        \n",
    "# (TODO)- P ( 플랫폼(각각) | hit 게임 )\n",
    "# (TODO)- P ( 플랫폼(각각) )\n",
    "        \n",
    "# (TODO)- P ( 지역(각각) | hit 게임 )\n",
    "# (TODO)- P ( 지역(각각) )\n",
    "\n",
    "\n",
    "\n"
   ]
  },
  {
   "cell_type": "markdown",
   "metadata": {},
   "source": [
    "### 1.4 분석 결과"
   ]
  },
  {
   "cell_type": "markdown",
   "metadata": {},
   "source": [
    "### 1.5 사용된 가정 정리\n",
    "    * 받은 데이터는 전체 모든 게임의 데이터가 아닌 일부 셈플 데이터임 ( 2109년 스팀 출시 게임만 8396개 임 ) \n",
    "        -> 분석은 신뢰도 95% 목표로 분석한다.\n",
    "    * 외부 개발 의뢰가 아닌 자체 개발임\n",
    "    * 개발 기간은 1년~2년 이라고 가정\n",
    "    * 판매는 온라인 이지만, 마켓팅 비용은 지역 구분에 따라 추가 발생 함\n",
    "    * 게임의 수익 비율은 장르별로 비슷하다고 가정\n",
    "        장르별로 개발비용은 다르지만\n",
    "        - 개발비용이 비싼 게임은 판매 가격도 비싸고, 개발 비용이 싼 게임은 판매 가격도 싸게 팔아서 수익율은 비슷 하다고 가정 한다.\n",
    "    * 한 사람은 여러개의 게임을 구매 할 수 있다고 가정 -> 한개의 게임을 구매 후에도 다른 게임을 구매할 수 있음 ( 자금에 한도 없음 )"
   ]
  },
  {
   "cell_type": "markdown",
   "metadata": {},
   "source": []
  },
  {
   "cell_type": "markdown",
   "metadata": {},
   "source": [
    "----\n",
    "## 2. 중요 목표 "
   ]
  },
  {
   "cell_type": "markdown",
   "metadata": {},
   "source": [
    "## 3. 기타 사항 ( 추가 적인 참고 사항 , 분석 도중 추가 도출 된 사항)\n"
   ]
  },
  {
   "cell_type": "markdown",
   "metadata": {},
   "source": []
  }
 ],
 "metadata": {
  "kernelspec": {
   "display_name": "Python 3.9.12 ('base')",
   "language": "python",
   "name": "python3"
  },
  "language_info": {
   "codemirror_mode": {
    "name": "ipython",
    "version": 3
   },
   "file_extension": ".py",
   "mimetype": "text/x-python",
   "name": "python",
   "nbconvert_exporter": "python",
   "pygments_lexer": "ipython3",
   "version": "3.9.12"
  },
  "orig_nbformat": 4,
  "vscode": {
   "interpreter": {
    "hash": "cca240df8b4cc966d527f5e5f91069ba19ec750ec1338ff7cbac995a358e55d1"
   }
  }
 },
 "nbformat": 4,
 "nbformat_minor": 2
}
