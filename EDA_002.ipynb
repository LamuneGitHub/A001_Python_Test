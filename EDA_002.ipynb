{
  "nbformat": 4,
  "nbformat_minor": 0,
  "metadata": {
    "colab": {
      "name": "EDA_001.ipynb",
      "private_outputs": true,
      "provenance": [],
      "collapsed_sections": [],
      "authorship_tag": "ABX9TyOQ7pDTEKbltroIZjYZI8Cl",
      "include_colab_link": true
    },
    "kernelspec": {
      "name": "python3",
      "display_name": "Python 3"
    },
    "language_info": {
      "name": "python"
    }
  },
  "cells": [
    {
      "cell_type": "markdown",
      "metadata": {
        "id": "view-in-github",
        "colab_type": "text"
      },
      "source": [
        "<a href=\"https://colab.research.google.com/github/LamuneGitHub/A001_Python_Test/blob/main/EDA_001.ipynb\" target=\"_parent\"><img src=\"https://colab.research.google.com/assets/colab-badge.svg\" alt=\"Open In Colab\"/></a>"
      ]
    },
    {
      "cell_type": "markdown",
      "source": [
        "----\n",
        "----\n",
        "# # EDA ( Exploratory Data Analysis )( 탐색적 데이터 분석)\n",
        "## 정의\n",
        "> : 탐색적 데이터 분석  \n",
        ": 데이터의 특징을 파악하는것\n",
        "\n",
        "## 목적\n",
        "> : 본격적인 데이터 분석이나 모델링 전에 데이터의 특징을 파악하여 분석 계획을 세우기 위한 기초공사 작업  \n",
        "  : 유의미한 business insight(업무 통찰)을 얻기 위함  \n",
        "  : 시행착오 비용 최소화\n",
        "\n",
        "## 수행 과정 및 방법\n",
        "* Data Description 확인 (데이터 명세서 )  \n",
        "  : 데이터 명세서를 읽어서 데이터의 특성을 이해 \n",
        "\n",
        "* 시각적 분석\n",
        "  * 엑셀등을 이용하여 직접 눈으로 특성을 분석\n",
        "\n",
        "* 프로그램적 분석\n",
        "  * 분석 메소드 활용\n",
        "    * info()\n",
        "    * shape\n",
        "    * description()\n",
        "    * isnull().sum()\n",
        "    * duplicated()\n",
        "    * 기타 프로그램코딩 활용\n",
        "  * Feature Engineering \n",
        "  * 시각화\n",
        "\n",
        "> 목표 (프로그램적 분석의)\n",
        "  * 결측치 확인\n",
        "    * 컬럼별 결측치 비율\n",
        "  * 카테고리 값의 비율\n",
        "  * 가능 범위를 벗어난 값 확인\n",
        "  * 계산값이 틀린 값 확인\n",
        "  * 이상한 문자가 들어간 값 확인\n",
        "  * 중복값\n",
        "\n",
        "* Feature Engineering (변수 가공)\n",
        "* Business Insight (업무 통찰)\n",
        "\n"
      ],
      "metadata": {
        "id": "eK2w9nkJngwV"
      }
    },
    {
      "cell_type": "markdown",
      "source": [
        "# # EDA 수행\n",
        "\n",
        "## 프로그램 기초 셋팅"
      ],
      "metadata": {
        "id": "_YcFlOrHlYP5"
      }
    },
    {
      "cell_type": "code",
      "execution_count": null,
      "metadata": {
        "id": "sbbHYizclHZX"
      },
      "outputs": [],
      "source": [
        "# 구글 드라이브 mount\n",
        "from google.colab import drive\n",
        "drive.mount('/content/drive');\n",
        "\n",
        "#import\n",
        "import re\n",
        "import math\n",
        "import pandas as pd\n",
        "import numpy as np\n",
        "import matplotlib as mpl\n",
        "import matplotlib.pyplot as plt\n",
        "import seaborn as sns\n",
        "\n",
        "# 엑셀 파일 로딩\n",
        "df_001 = pd.read_excel(\"https://ds-lecture-data.s3.ap-northeast-2.amazonaws.com/stocks/Travel.xlsx\", sheet_name = \"008770 \")\n",
        "# CSV 파일 로딩\n",
        "df_red = pd.read_csv( \"https://raw.githubusercontent.com/aniruddhachoudhury/Red-Wine-Quality/master/winequality-red.csv\" , sep = \",\")\n",
        "df_white = pd.read_csv( \"https://archive.ics.uci.edu/ml/machine-learning-databases/wine-quality/winequality-white.csv\" , sep = \";\")\n",
        "\n",
        "df_titanic = sns.load_dataset(\"titanic\")\n",
        "\n",
        "df_patients = pd.read_csv('https://raw.githubusercontent.com/LamuneGitHub/A001_Python_Test/main/data/patients_info.csv')\n",
        "df_insuline_test = pd.read_csv('https://raw.githubusercontent.com/LamuneGitHub/A001_Python_Test/main/data/insuline_test.csv')\n",
        "\n",
        "df_final_revised = pd.read_csv('https://raw.githubusercontent.com/LamuneGitHub/A001_Python_Test/main/data/final_revised.csv')\n",
        "df_movie = pd.read_csv('https://raw.githubusercontent.com/LamuneGitHub/A001_Python_Test/main/data/movie.csv')\n",
        "\n",
        "df_discussion_114 = pd.read_csv('https://raw.githubusercontent.com/LamuneGitHub/A001_Python_Test/main/data/Discussion_114.csv')\n"
      ]
    },
    {
      "cell_type": "markdown",
      "source": [
        "## 작업 DataFrame 지정"
      ],
      "metadata": {
        "id": "njE4KiL7H1v6"
      }
    },
    {
      "cell_type": "code",
      "source": [
        "# 작업 DataFrame 지정\n",
        "df_target = df_discussion_114"
      ],
      "metadata": {
        "id": "Y1tVA0Hcs-Uw"
      },
      "execution_count": null,
      "outputs": []
    },
    {
      "cell_type": "markdown",
      "source": [
        "## 시각적 탐색\n"
      ],
      "metadata": {
        "id": "hpK2nFeYGyve"
      }
    },
    {
      "cell_type": "code",
      "source": [
        "#pandas에서 DataFrame을 요약해서 표시하지 않도록 설정\n",
        "pd.set_option('display.max_columns', None)\n",
        "pd.set_option('display.max_rows', None)\n",
        "\n",
        "# 줄 구분 표시 출력 \n",
        "def print_line() :\n",
        "  print (\"\\n------------------------------------------------\")\n",
        "def print_line_m() :\n",
        "  print (\"\\n-----------------------\")\n",
        "def print_line_s() :\n",
        "  print (\"\\n----------\")\n",
        "\n"
      ],
      "metadata": {
        "id": "C77NryEqG1KJ"
      },
      "execution_count": null,
      "outputs": []
    },
    {
      "cell_type": "code",
      "source": [
        "#맨위 \n",
        "display( df_target.head(20) )\n",
        "#마지막\n",
        "display( df_target.tail(20) )\n",
        "#무작위\n",
        "display( df_target.sample(20) )"
      ],
      "metadata": {
        "id": "v_0ZzGnyHDVh"
      },
      "execution_count": null,
      "outputs": []
    },
    {
      "cell_type": "markdown",
      "source": [
        "\n",
        "## 프로그램적 분석\n"
      ],
      "metadata": {
        "id": "wWggi-u1FbYS"
      }
    },
    {
      "cell_type": "code",
      "source": [
        "# 데이터셋 정보 확인\n",
        "#: 컬럼 자료형 , 전체 자료 갯수 , 컬럼 갯수 , 결측치 여부 , 전체 data 크기\n",
        "print_line()\n",
        "print ( \"# 데이터셋 정보 확인\" )\n",
        "print ( df_target.info() )\n",
        "\n",
        "# 컬럼별 통계치 확인\n",
        "print_line()\n",
        "print ( \"#컬럼별 통계특성 확인\" )\n",
        "print ( df_target.describe())\n",
        "\n",
        "\n",
        "# 컬럼 자료형 조회 (dtypes 이용) \n",
        "#df_titanic.dtypes\n",
        "\n",
        "# 데이터의 행열 크기 조회\n",
        "print_line()\n",
        "print( \"# 데이터의 행열 크기 = \" , df_target.shape )\n",
        "\n",
        "# 결측치가 존재하는 컬럼명 조회\n",
        "print_line()\n",
        "print( \"# 컬럼별 결측치 갯수 \")\n",
        "print( df_target.isnull().sum() )\n",
        "\n",
        "print_line()\n",
        "print( \"# 결측치 총 갯수 = \" , df_target.isnull().sum().sum())\n",
        "\n",
        "\n",
        "# 각 컬럼별 값의 비율 조회\n",
        "# 컬럼명 조회\n",
        "print_line()\n",
        "print( \"# 컬럼별 값의 비율 \")\n",
        "list_columns = df_target.columns\n",
        "print (\"컬럼 목록= \" , list_columns)\n",
        "\n",
        "# 컬럼별 값의 비율 조회\n",
        "for tmp_column in list_columns :\n",
        "  df_temp = df_target[tmp_column].value_counts(normalize=True ,dropna = True)\n",
        "  \n",
        "  print_line_s()\n",
        "  print ( \"컬럼명 = \" , tmp_column )\n",
        "  \n",
        "  if len(df_temp) <= 20 :\n",
        "    print ( df_temp )\n",
        "  else :\n",
        "    print ( \"값의 종류가 20개 이상임\" )\n",
        "\n",
        "# 컬럼별 포함된 큭수문자 의 종류 조회\n",
        "print_line()\n",
        "print( \"# 컬럼별 포함된 특수문자 종류 \")\n",
        "regx_특수문자제외한 = r'([^0-9a-zA-Z]+)'\n",
        "for tmp_column in list_columns :\n",
        "\n",
        "  if df_target[tmp_column].dtype == 'object'  :\n",
        "    print ( \"컬럼명 = \" , tmp_column )\n",
        "    \n",
        "    df_rslt = df_target[tmp_column].str.extractall( r'([^0-9a-zA-Z]+)'  )\n",
        "    #display ( type(df_rslt) ) #=> DataFrame \n",
        "\n",
        "    set_rslt = []\n",
        "    for idx in df_target.index :\n",
        "      \n",
        "      # TODO 값이 Nan인 경우의 정규표현식을 조사하지 않도록 한다,\n",
        "      # 우선은 str인 경우만 \n",
        "      tmp_val = df_target.loc[ idx , tmp_column]\n",
        "      if isinstance( tmp_val , str) : \n",
        "        rslt = re.findall ( regx_특수문자제외한 , df_target.loc[ idx , tmp_column] )\n",
        "        set_rslt += rslt \n",
        "      #else :\n",
        "      #  display ( tmp_val )\n",
        "\n",
        "    print( set(set_rslt) )\n",
        "    \n",
        "    print_line_s()\n",
        "\n",
        "\n",
        "# 컬럼별 중복값 확인\n",
        "print_line()\n",
        "print( \"# 컬럼별 중복값 확인 \")\n",
        "for tmp_column in list_columns :\n",
        "  \n",
        "  # 중복값 갯수 조회\n",
        "  tmp_dup_count = df_target[tmp_column].duplicated(keep = False).sum()\n",
        "  \n",
        "  if tmp_dup_count > 0 :\n",
        "    print ( tmp_column , \"컬럼에 중복값\", tmp_dup_count , \"개\" )\n",
        "    #print ( \"index = \" , df_target[tmp_column].duplicated(keep = False)   )\n",
        "    #TODO : 중복값 인덱스 출력\n",
        "  \n",
        "# 중복 데이터 확인\n",
        "print( \"중복 data 갯수\" , df_target.duplicated().sum() )\n",
        "\n",
        "\n",
        "#TODO 컬럼별 값 분포 그래프 표시\n",
        "#Boxplot과 Histogram을 통해서도 이상치 존재 여부를 확인해볼 수 있습니다.\n",
        "\n",
        "\n",
        "\n"
      ],
      "metadata": {
        "id": "kjGQMg_Vo4ev"
      },
      "execution_count": null,
      "outputs": []
    },
    {
      "cell_type": "code",
      "source": [
        "# 중복 데이터 여부 확인\n",
        "# keep = False : 동일한 중복값이 3개 인 경우 False를 지정해 주지 않은 경우 기본설정은 첫번째 중복값은 중복이 아닌것으로 취급되므로 \n",
        "#                중복데이터 갯수가 2개가 나오게 되므로 \n",
        "#                중복값이 3개로 반환 될 수 있도록 False 설정을 해준다.\n",
        "df_target.duplicated(keep = False).sum()"
      ],
      "metadata": {
        "id": "cKYZ4wNSqQQI"
      },
      "execution_count": null,
      "outputs": []
    },
    {
      "cell_type": "code",
      "source": [
        "# 중복된 항목을 제거한 이후의 data 갯수 조회\n",
        "len(df_target.drop_duplicates('email'))"
      ],
      "metadata": {
        "id": "emIfHR3qjG19"
      },
      "execution_count": null,
      "outputs": []
    },
    {
      "cell_type": "code",
      "source": [
        "df_target = df_titanic\n",
        "\n",
        "# 사망자그룹의 비율 계산\n",
        "# value_counts(normalize=True) => 비율 \n",
        "df_temp = df_target['survived'].value_counts(normalize=True ,dropna = True)\n",
        "df_temp"
      ],
      "metadata": {
        "id": "R7ZL_N_IFfp6"
      },
      "execution_count": null,
      "outputs": []
    },
    {
      "cell_type": "code",
      "source": [
        "# 반올림 \n",
        "#: ( 소숫점 2째자리까지 반올림 예제)\n",
        "print (df_temp[0].round(2))"
      ],
      "metadata": {
        "id": "2BEnDC4NF96Z"
      },
      "execution_count": null,
      "outputs": []
    },
    {
      "cell_type": "code",
      "source": [
        "# 사망자 그룹의 숫자 확인\n",
        "# value_counts()\n",
        "df_temp = df_titanic['survived'].value_counts(dropna = True) # 갯수 구하기\n",
        "df_temp"
      ],
      "metadata": {
        "id": "CTGrUO8cFqjd"
      },
      "execution_count": null,
      "outputs": []
    },
    {
      "cell_type": "code",
      "source": [
        "# 사망자 그룹의 비율 확인\n",
        "# ,dropna = True : Nan 값도 포함 할지 여부 \n",
        "df_titanic['survived'].value_counts(normalize=True ,dropna = True)"
      ],
      "metadata": {
        "id": "lK10sml8I3aF"
      },
      "execution_count": null,
      "outputs": []
    },
    {
      "cell_type": "markdown",
      "source": [
        "## Feature Engineering\n",
        ": 수학적인 연산과 도메인 지식을 이용하여 raw data로부터 유용한 feature를 도출해 내는 과정"
      ],
      "metadata": {
        "id": "JTcx_Em8Dk26"
      }
    },
    {
      "cell_type": "code",
      "source": [
        "## 범위에 따라 단계 분류한 값을 age_class 컬럼을 생성하여 입력 \n",
        "df_temp = df_titanic\n",
        "\n",
        "bins = [-2, 0, 19, 59, 999]\n",
        "labels = ['unknown','young', 'middle', 'old']\n",
        "df_temp['age_class'] = pd.cut(x=df_temp['age'], bins=bins, labels=labels)\n",
        "df_temp.head(3)"
      ],
      "metadata": {
        "id": "_vnm-8vSDoob"
      },
      "execution_count": null,
      "outputs": []
    },
    {
      "cell_type": "markdown",
      "source": [
        "### 각 테이블의 공통된 컬럼명 조회"
      ],
      "metadata": {
        "id": "XJ8EAdbRG4tq"
      }
    },
    {
      "cell_type": "code",
      "source": [
        "# 테이블별 중복 column name 확인\n",
        "all_columns = pd.Series(list(df_patients) + list(df_insuline_test) + list(df_side_effects))\n",
        "all_columns\n",
        "all_columns.duplicated() # 중복여부 배열 \n",
        "all_columns[all_columns.duplicated()]"
      ],
      "metadata": {
        "id": "N9U2eUoxMGXd"
      },
      "execution_count": null,
      "outputs": []
    },
    {
      "cell_type": "markdown",
      "source": [
        "### 테이블 합치기 (수직)"
      ],
      "metadata": {
        "id": "8-5hm2YfHDEU"
      }
    },
    {
      "cell_type": "code",
      "source": [
        "# (TODO) 테이블 합치기 (수직)\n",
        "\n",
        "# column의 이름 수정\n",
        "df_red.rename(columns = {'total_sulfur-dioxide' : 'total_sulfur_dioxide'}, inplace=True)\n",
        "\n",
        "# 합치려는 데이터셋의 columns가 동일한지 확인\n",
        "set(df_red.columns) == set(df_white.columns)\n",
        "\n",
        "# 하나의 데이터셋으로 통합\n",
        "df = df_white.append(df_red, ignore_index = True)\n",
        "\n",
        "# 잘 합쳐졌는지 확인\n",
        "df.shape"
      ],
      "metadata": {
        "id": "yAWnQxiAzWDo"
      },
      "execution_count": null,
      "outputs": []
    },
    {
      "cell_type": "code",
      "source": [
        "\n",
        "# (TODO) 테이블 합치기 (수퍙)\n",
        "\n",
        "# (TODO) 컬럼 삭제\n",
        "# (TODO) 컬럼값 정제\n",
        "# (TODO) 컬럼 추가\n",
        "red_color = np.repeat('red', len(df_red))\n",
        "df_red['color'] = red_color\n",
        "df_red.head()\n",
        "\n"
      ],
      "metadata": {
        "id": "YtjrOaF5ydKl"
      },
      "execution_count": null,
      "outputs": []
    },
    {
      "cell_type": "markdown",
      "source": [
        "## 시각화\n"
      ],
      "metadata": {
        "id": "2pLYQGTMGVCG"
      }
    },
    {
      "cell_type": "markdown",
      "source": [
        "### 한글 폰트 설치\n",
        ": 설치 후 메뉴>런타임>런타임 다시 시작 할 것"
      ],
      "metadata": {
        "id": "iBo9Ab8FPHLB"
      }
    },
    {
      "cell_type": "code",
      "source": [
        "# 한글 폰트 설치 \n",
        "!sudo apt-get install -y fonts-nanum\n",
        "!sudo fc-cache -fv\n",
        "!rm ~/.cache/matplotlib -rf"
      ],
      "metadata": {
        "id": "E3BBJvgYPMqa"
      },
      "execution_count": null,
      "outputs": []
    },
    {
      "cell_type": "code",
      "source": [
        "# 폰트 셋팅\n",
        "plt.style.use('ggplot')\n",
        "font = {'size': 12,\n",
        "        'family': 'NanumBarunGothic'}\n",
        "mpl.rc('font', **font)"
      ],
      "metadata": {
        "id": "b8On79EZPSe5"
      },
      "execution_count": null,
      "outputs": []
    },
    {
      "cell_type": "markdown",
      "source": [
        "----"
      ],
      "metadata": {
        "id": "8sit_QCTPcRn"
      }
    },
    {
      "cell_type": "code",
      "source": [
        "# 생존여부, 성별 별 평균요금 df 조회\n",
        "df_temp = df_titanic.groupby( ['survived' ,'sex'] ).mean()\n",
        "df_temp"
      ],
      "metadata": {
        "id": "-e7BEyAAGXWS"
      },
      "execution_count": null,
      "outputs": []
    },
    {
      "cell_type": "code",
      "source": [
        "df_temp"
      ],
      "metadata": {
        "id": "Ul683_VUV6hW"
      },
      "execution_count": null,
      "outputs": []
    },
    {
      "cell_type": "code",
      "source": [
        "df_red['color'] = np.repeat('red', len(df_red))\n",
        "df_white['color'] = np.repeat('white', len(df_white))\n",
        "df_temp = df_red.append(df_white)\n",
        "\n",
        "df_temp.groupby('color')['quality'].mean().plot(kind='bar', \n",
        "                                                title='Average Wine Quality by Color', \n",
        "                                                fontsize=13, \n",
        "                                                color=['red', 'blue'], \n",
        "                                                alpha=0.4);"
      ],
      "metadata": {
        "id": "ngcvnUBKVk7B"
      },
      "execution_count": null,
      "outputs": []
    },
    {
      "cell_type": "code",
      "source": [
        "counts = df_temp.groupby(['quality', 'color']).count()['pH']\n",
        "counts.plot(kind='bar', color=['red','blue'], title='Counts by Wine Quality and Color', fontsize=15, alpha=0.4);"
      ],
      "metadata": {
        "id": "piomSFvPXJCa"
      },
      "execution_count": null,
      "outputs": []
    },
    {
      "cell_type": "code",
      "source": [
        "df_temp = df_titanic\n",
        "\n",
        "# 막대그래프 표시 \n",
        "df_temp.plot(kind = 'bar')"
      ],
      "metadata": {
        "id": "uOA4XU2EGeKu"
      },
      "execution_count": null,
      "outputs": []
    },
    {
      "cell_type": "code",
      "source": [
        "df_temp = df_titanic\n",
        "\n",
        "temp = df_temp.groupby(['sex', 'survived'])['fare'].mean().reset_index()\n",
        "fig, ax = plt.subplots(figsize=(8, 6))\n",
        "sns.barplot(data=temp, x='survived', y='fare', hue='sex', ax=ax)\n",
        "ax.set_title(\"생존 여부와 성별에 따른 평균 요금\")\n",
        "ax.set_xticklabels(['Not Survived', 'Survived'])\n",
        "plt.show();"
      ],
      "metadata": {
        "id": "MGbIQKz6LTrm"
      },
      "execution_count": null,
      "outputs": []
    },
    {
      "cell_type": "code",
      "source": [
        "df_temp = df_titanic\n",
        "\n",
        "fig, ax = plt.subplots(figsize=(8, 8))\n",
        "fig = plt.pie(df_temp['survived'].value_counts(), labels=['No', 'Yes'], autopct='%.2f%%',\n",
        "              textprops={'fontsize':14})\n",
        "plt.title('Survived', fontsize=16)\n",
        "plt.show()"
      ],
      "metadata": {
        "id": "oNoIpM4PMhlp"
      },
      "execution_count": null,
      "outputs": []
    },
    {
      "cell_type": "code",
      "source": [
        "df_temp = df_titanic\n",
        "\n",
        "fig, ax = plt.subplots(figsize=(8, 6))\n",
        "sns.countplot(x=df_temp['pclass'].values, ax=ax)\n",
        "plt.title('클래스별 수', fontsize=16)\n",
        "plt.show()"
      ],
      "metadata": {
        "id": "KkuL5VG5M_1l"
      },
      "execution_count": null,
      "outputs": []
    },
    {
      "cell_type": "code",
      "source": [
        "sns.countplot(x=df_temp['pclass'].values)"
      ],
      "metadata": {
        "id": "-1WsnePlNhfG"
      },
      "execution_count": null,
      "outputs": []
    },
    {
      "cell_type": "code",
      "source": [
        "df_temp['age'].plot(kind='hist', bins=8)"
      ],
      "metadata": {
        "id": "APJ0tXlWNPWo"
      },
      "execution_count": null,
      "outputs": []
    },
    {
      "cell_type": "code",
      "source": [
        "df_temp = df_titanic\n",
        "\n",
        "bins = np.arange(0, df_temp.age.max()+df_temp.age.max()/8, df_temp.age.max()/8)\n",
        "fig, ax = plt.subplots(figsize=(8, 6))\n",
        "fig = plt.hist(x=df_temp['age'], bins=bins)\n",
        "plt.title('나이 분포', fontsize=16)\n",
        "plt.xlabel('나이')\n",
        "plt.ylabel('수')\n",
        "plt.show()"
      ],
      "metadata": {
        "id": "g-wC2vssN8Kq"
      },
      "execution_count": null,
      "outputs": []
    },
    {
      "cell_type": "code",
      "source": [
        "df_temp = df_red\n",
        "\n",
        "# quality 에 따른 휘발성산의 차이를 scatter plot 으로 확인\n",
        "plt.scatter(df_temp['quality'], df_temp['volatile acidity'])"
      ],
      "metadata": {
        "id": "opAIH7RLPi1p"
      },
      "execution_count": null,
      "outputs": []
    },
    {
      "cell_type": "code",
      "source": [
        "df_temp = df_red\n",
        "\n",
        "# quality 에 따른 평균 휘발성산 확인\n",
        "group_volatile_acidity = df_temp['volatile acidity'].groupby(df_temp['quality'])\n",
        "print(group_volatile_acidity.mean())\n",
        "\n",
        "# plot으로 시각화\n",
        "plt.plot(group_volatile_acidity.mean());"
      ],
      "metadata": {
        "id": "D0wBc0kTQW2Q"
      },
      "execution_count": null,
      "outputs": []
    },
    {
      "cell_type": "markdown",
      "source": [
        "----\n",
        "# # Data Wrangling (데이터 정제) , Data Preprocessing (데이터 전처리)  \n",
        "  : 실제 작업의 70~80%가 소요 된다고 함 \n",
        "\n",
        "  * 데이터 품질\n",
        "    * 결측값 처리\n",
        "    * 잘못된 값 처리\n",
        "  * 구조적 품질\n",
        "    * 정규화\n",
        "\n"
      ],
      "metadata": {
        "id": "zlIJGpIzRchP"
      }
    },
    {
      "cell_type": "code",
      "source": [
        "# DataFrame 복사\n",
        "df_patients_clean = df_patients.copy()"
      ],
      "metadata": {
        "id": "3LBq_pXxUSVD"
      },
      "execution_count": null,
      "outputs": []
    },
    {
      "cell_type": "markdown",
      "source": [
        "### Missing value (결측값)"
      ],
      "metadata": {
        "id": "B3NP_dlDI0Tp"
      }
    },
    {
      "cell_type": "markdown",
      "source": [
        "특정 컬럼의 결측값 갯수 확인"
      ],
      "metadata": {
        "id": "jY0n7eRwr4I3"
      }
    },
    {
      "cell_type": "code",
      "source": [
        "# 환자 데이터 중 키, 몸무게, 체질량지수 컬럼의 결측값 확인\n",
        "df_patients_error_tmp = df_patients[df_patients['키'].isnull() | df_patients['몸무게'].isnull() | df_patients['체질량지수'].isnull()]\n",
        "df_patients_error_tmp.head(3)"
      ],
      "metadata": {
        "id": "CIiFxka8IyWD"
      },
      "execution_count": null,
      "outputs": []
    },
    {
      "cell_type": "markdown",
      "source": [
        "(TODO) 특정 컬럼의 결측값을 수정\n"
      ],
      "metadata": {
        "id": "paSOiWb3sBZN"
      }
    },
    {
      "cell_type": "markdown",
      "source": [
        "### Outliers (잘못된 값,이상치)  수정\n"
      ],
      "metadata": {
        "id": "2hu2PtrTNRmC"
      }
    },
    {
      "cell_type": "code",
      "source": [
        "# 전처리 작업용 임시 DataFrame 생성\n",
        "df_temp_clean = df_final_revised.copy()\n"
      ],
      "metadata": {
        "id": "HSDuhhc91S6f"
      },
      "execution_count": null,
      "outputs": []
    },
    {
      "cell_type": "code",
      "source": [
        "# DataFrame의 특정 컬럼의 data중에서 cond_sel 조건에 맞는 data를 fix_func 으로 수정 후 수정된 DataFrame을 반환\n",
        "def fix_column_err_value ( df_temp_clean: pd.DataFrame , target_column: '수정할 column 명' \n",
        "                          , cond_sel:'수정 데이터 check 조건' \n",
        "                          , fix_func:'err를 수정할 함수' \n",
        "                          ) -> pd.DataFrame : #'수정된 DataFrame' \n",
        "\n",
        "  # err 조건에 해당하는 data 조회\n",
        "  sri_err = df_temp_clean[ target_column ].apply( cond_sel )\n",
        "\n",
        "  # 조회 결과 확인 \n",
        "  display ( sri_err.sum() )\n",
        "  display ( df_temp_clean.loc[ sri_err ] )\n",
        "\n",
        "\n",
        "  # 오류를 수정 후 data 확인\n",
        "  sri_fixed_col = df_temp_clean.loc[ sri_err ][[target_column]].apply( fix_func ,axis=1)\n",
        "  #display (sri_fixed_col.head(3))\n",
        "\n",
        "  # 오류 수정한 데이터를 전처리 작업용 DataFrame에 반영\n",
        "  df_temp_clean.loc[ sri_err, target_column ] = sri_fixed_col\n",
        "\n",
        "  # 반영 결과 data 확인 \n",
        "  display ( df_temp_clean[sri_err])\n",
        "\n",
        "  # 반영 결과 집계 확인 \n",
        "  sri_err = df_temp_clean[ target_column ].apply( cond_sel )\n",
        "  display ( sri_err.sum() )\n",
        "\n",
        "  return df_temp_clean\n"
      ],
      "metadata": {
        "id": "CZ5txovIlic2"
      },
      "execution_count": null,
      "outputs": []
    },
    {
      "cell_type": "markdown",
      "source": [
        "* URL 주소 \n",
        "  : https:// 로 시작 하지 않는 데이터의 앞에 https://를 붙인다. "
      ],
      "metadata": {
        "id": "Lx1psvVFhJ60"
      }
    },
    {
      "cell_type": "code",
      "source": [
        "# 오류 검사 조건, 수정 함수, 대상 컬럼 명 \n",
        "target_column = 'Poster_Link'\n",
        "cond_err = lambda x: True if not x.startswith('https://') else False\n",
        "fix_func = lambda x: 'https://' + x\n",
        "\n",
        "# 수정 함수 호출\n",
        "df_result = fix_column_err_value( df_temp_clean , target_column , cond_err, fix_func ) \n",
        "\n"
      ],
      "metadata": {
        "id": "Sy58Q_ipx0CV"
      },
      "execution_count": null,
      "outputs": []
    },
    {
      "cell_type": "markdown",
      "source": [
        "다른 열의 값을 가지고 와서 합치기"
      ],
      "metadata": {
        "id": "R99tVHwlLMZm"
      }
    },
    {
      "cell_type": "code",
      "source": [
        "# 전처리 작업용 임시 DataFrame 생성\n",
        "df_temp_clean = df_final_revised.copy()\n",
        "\n",
        "# 오류 검사 조건, 수정 함수, 대상 컬럼 명 \n",
        "target_column = 'Series_Title'\n",
        "cond_err = lambda x: True \n",
        "\n",
        "# case 01 \n",
        "fix_func = lambda x: df_temp_clean.loc[x.name,\"Runtime\"] + df_temp_clean.loc[x.name,\"Genre\"]\n",
        "\n",
        "# case 02 : 조건 체크 columm 과 변경 column이 다른 경우\n",
        "def fix_func2 ( x ) :\n",
        "  df_temp_clean.loc[x.name,\"Certificate\"] = df_temp_clean.loc[x.name,\"Runtime\"] + df_temp_clean.loc[x.name,\"Genre\"]\n",
        "  return df_temp_clean.loc[x.name,target_column]\n",
        "\n",
        "df_result = fix_column_err_value( df_temp_clean , target_column , cond_err, fix_func2 ) \n",
        "\n",
        "\n"
      ],
      "metadata": {
        "id": "1FGlGzOkLLMU"
      },
      "execution_count": null,
      "outputs": []
    },
    {
      "cell_type": "markdown",
      "source": [
        "특정 컬럼을 필요 없는 문자 삭제 후 int로 타입 변경 \n",
        "\n"
      ],
      "metadata": {
        "id": "NSjjmSXtzJgm"
      }
    },
    {
      "cell_type": "code",
      "source": [
        "# case 01\n",
        "\n",
        "# 전처리 작업용 임시 DataFrame 생성\n",
        "df_temp_clean = df_final_revised.copy()\n",
        "\n",
        "df_temp_clean['Runtime'] = df_temp_clean['Runtime'].str.extract('([0-9]+)').astype('int16')\n",
        "# movie['Runtime'] = movie['Runtime'].str.split().str[0].astype('int16')"
      ],
      "metadata": {
        "id": "UlvbbGRaCP68"
      },
      "execution_count": null,
      "outputs": []
    },
    {
      "cell_type": "code",
      "source": [
        "# case 02\n",
        "\n",
        "# 전처리 작업용 임시 DataFrame 생성\n",
        "df_temp_clean = df_final_revised.copy()\n",
        "\n",
        "\n",
        "# 오류 검사 조건, 수정 함수, 대상 컬럼 명 \n",
        "target_column = 'Runtime'\n",
        "cond_sel = lambda x: True\n",
        "fix_func = lambda x: re.search( r'([0-9]+)' , x).group(0)\n",
        "\n",
        "# 처리할 값에 대한 예외 처리가 필요한 경우 조건 처리를 포함한 function을 사용하여야 한다. \n",
        "def fix_func2( input ):\n",
        "    if not bool( input ) : \n",
        "      return np.nan\n",
        "    if not isinstance( input ,str ) :\n",
        "      print( type(input)  ,  input)\n",
        "      return np.nan\n",
        "    return re.search( r'([0-9]+)' , input ).group(0)\n",
        "\n",
        "# 수정 함수 호출\n",
        "df_result = fix_column_err_value( df_temp_clean , target_column , cond_sel, fix_func ) \n",
        "df_result.head()"
      ],
      "metadata": {
        "id": "XyztzPXPz6LP"
      },
      "execution_count": null,
      "outputs": []
    },
    {
      "cell_type": "code",
      "source": [
        ""
      ],
      "metadata": {
        "id": "6QzO2lJX7IVk"
      },
      "execution_count": null,
      "outputs": []
    },
    {
      "cell_type": "markdown",
      "source": [
        "# Lecture 에서 따온 특수문자 체크 코드"
      ],
      "metadata": {
        "id": "yfP1fDMV7JCz"
      }
    },
    {
      "cell_type": "code",
      "source": [
        "reg_con_01 = r'[_,!,.,@#$%()^\\d+]'\n",
        "\n",
        "# 특수 문자가 포함되었는지 여부 체크\n",
        "def has_errors(inputString):\n",
        "  return bool(re.search( reg_con_01 , inputString))\n",
        "\n",
        "\n",
        "# 이름에 섞여 있는 오류 데이터를 확인\n",
        "error_condition = df_patients_clean.이름.apply(has_errors)\n",
        "error_names = df_patients_clean[error_condition]\n",
        "print(error_names)\n",
        "\n",
        "print(\"-------------\")\n",
        "# 코드가 정확하게 오류들을 제거하는지 확인 \n",
        "error_names.이름 = df_patients_clean.이름.str.replace(reg_con_01, '')\n",
        "print(error_names)\n",
        "\n",
        "print(\"-------------\")\n",
        "# 반영\n",
        "df_patients_clean.이름 = df_patients_clean.이름.str.replace(reg_con_01, '')\n",
        "\n",
        "# 반영결과 확인\n",
        "df_patients_clean[error_condition] "
      ],
      "metadata": {
        "id": "71VYsY7XNQrJ"
      },
      "execution_count": null,
      "outputs": []
    },
    {
      "cell_type": "markdown",
      "source": [
        "### 이메일 형식 체크"
      ],
      "metadata": {
        "id": "R_ACmc9P7Pfq"
      }
    },
    {
      "cell_type": "code",
      "source": [
        "df_discussion_114.head(20)"
      ],
      "metadata": {
        "id": "a2FNQXUR_CQo"
      },
      "execution_count": null,
      "outputs": []
    },
    {
      "cell_type": "code",
      "source": [
        "regx_이메일 = r'[0-9a-zA-Z]([-_\\.]?[0-9a-zA-Z])*@[0-9a-zA-Z]([-_\\.]?[0-9a-zA-Z])*\\.[a-zA-Z]{2,3}'\n",
        "regx_핸드폰 = r'\\d{3}-\\d{3,4}-\\d{4}'\n",
        "\n",
        "# 작업 DataFrame 지정\n",
        "df_temp_clean = df_discussion_114.copy()\n",
        "\n",
        "# 오류 검사 조건, 수정 함수, 대상 컬럼 명 \n",
        "target_column = 'email'\n",
        "\n",
        "#cond_sel = lambda x: False if re.search( regx_이메일 , x).group(0) else True\n",
        "def cond_sel (x) :\n",
        "  if isinstance ( x , str ) :\n",
        "   if re.match( regx_이메일 , x) :\n",
        "    return False\n",
        "   else :\n",
        "    return True\n",
        "  else :\n",
        "    # str이 아닌 경우= Nan 인 경우 , 수정 대상으로 체크\n",
        "    return True\n",
        "\n",
        "def fix_func(x) :\n",
        "  # 수정 대상인 경우 (TODO) 알맞은 코딩을 해주어야 함\n",
        "  return \"(TODO) Fix\"\n",
        "\n",
        "\n",
        "# 수정 함수 호출\n",
        "df_result = fix_column_err_value( df_temp_clean , target_column , cond_sel, fix_func ) \n",
        "\n",
        "# 수정 결과 확인\n",
        "display(df_result.head(11))\n",
        "display(df_result.tail(5))"
      ],
      "metadata": {
        "id": "5wS5ut_z7Y5i"
      },
      "execution_count": null,
      "outputs": []
    },
    {
      "cell_type": "markdown",
      "source": [
        "### (TODO) 전화번호 형식 체크"
      ],
      "metadata": {
        "id": "VlAq9L-87VlZ"
      }
    },
    {
      "cell_type": "markdown",
      "source": [
        "### 컬럼의 분리"
      ],
      "metadata": {
        "id": "2yWc14r7T-un"
      }
    },
    {
      "cell_type": "code",
      "source": [
        "# 환자나이 컬럼 분리\n",
        "# 나이 컬럼에서 숫자만 뽑아내어 int로 변환 후 환자나이 컬럼을 생성 \n",
        "df_patients_clean['환자나이'] = df_patients_clean.나이.str.extract('(\\d+)').astype('int') \n",
        "\n",
        "# 성별 컬럼 분리\n",
        "# 나이 컬럼에서 숫자를 모두 제거 후 성별 컬럼을 생성\n",
        "df_patients_clean['성별'] = df_patients_clean.나이.str.replace(r'[^a-zA-Z]', '', regex=True) #숫자만 삭제 한다.\n",
        "\n",
        "# 기존 나이 컬럼 제거\n",
        "patients_clean = df_patients_clean.drop('나이', axis='columns' )\n"
      ],
      "metadata": {
        "id": "S_AXgnFiT-Wv"
      },
      "execution_count": null,
      "outputs": []
    },
    {
      "cell_type": "code",
      "source": [
        "# 성별을 category 데이터 타입으로 변화 , 영어를 한글로 변환\n",
        "patients_clean.성별 = patients_clean.성별.replace({'male':'남', 'female':'여'})\n",
        "patients_clean.성별 = patients_clean.성별.astype('category')"
      ],
      "metadata": {
        "id": "Tj652ctpWqXT"
      },
      "execution_count": null,
      "outputs": []
    },
    {
      "cell_type": "markdown",
      "source": [
        "## 구조적 문제\n",
        "df1.melt(id_vars='index', value_vars=['A', 'B'])\n",
        "\n",
        "pd.melt(df1, id_vars = 'index', var_name='variable', value_name='value')"
      ],
      "metadata": {
        "id": "uFhgIi5bntQ-"
      }
    },
    {
      "cell_type": "code",
      "source": [
        ""
      ],
      "metadata": {
        "id": "RlgvQceWn0AL"
      },
      "execution_count": null,
      "outputs": []
    },
    {
      "cell_type": "markdown",
      "source": [
        "# 결과 데이터를 파일로 저장\n"
      ],
      "metadata": {
        "id": "g14zLlkMz4cf"
      }
    },
    {
      "cell_type": "code",
      "source": [
        "df.to_csv('winequality_edited.csv', index=False)"
      ],
      "metadata": {
        "id": "TCv0NsgTz9UN"
      },
      "execution_count": null,
      "outputs": []
    }
  ]
}
