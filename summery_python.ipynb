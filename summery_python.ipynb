{
 "cells": [
  {
   "cell_type": "markdown",
   "metadata": {},
   "source": [
    "# for 문 사용법 예제"
   ]
  },
  {
   "cell_type": "code",
   "execution_count": null,
   "metadata": {},
   "outputs": [],
   "source": [
    "#young , middle, old 은 각각 df 조회 결과임\n",
    "\n",
    "for group in [young, middle, old]:\n",
    "    print(group.name)\n",
    "    display(group['survived'].value_counts(normalize=True).rename({0:'Not Survived', 1:'Survived'}))\n",
    "    print('\\n')\n",
    "\n",
    "\"\"\"\n",
    "young\n",
    "Not Survived    0.518293\n",
    "Survived        0.481707\n",
    "Name: survived, dtype: float64\n",
    "\n",
    "middle\n",
    "Not Survived    0.610687\n",
    "Survived        0.389313\n",
    "Name: survived, dtype: float64\n",
    "\n",
    "old\n",
    "Not Survived    0.730769\n",
    "Survived        0.269231\n",
    "Name: survived, dtype: float64\n",
    "\"\"\""
   ]
  }
 ],
 "metadata": {
  "language_info": {
   "name": "python"
  },
  "orig_nbformat": 4
 },
 "nbformat": 4,
 "nbformat_minor": 2
}
