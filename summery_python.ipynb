{
 "cells": [
  {
   "cell_type": "markdown",
   "metadata": {},
   "source": [
    "# # 리스트 다루기"
   ]
  },
  {
   "cell_type": "code",
   "execution_count": null,
   "metadata": {},
   "outputs": [],
   "source": [
    "# 리스트 a -  리스트 b 구현\n",
    "a_sub_b = [x for x in a if x not in b]\n",
    "\n",
    "# 리스트 합치기 \n",
    "\n"
   ]
  },
  {
   "cell_type": "markdown",
   "metadata": {},
   "source": [
    "# for 문 사용법 예제"
   ]
  },
  {
   "cell_type": "code",
   "execution_count": null,
   "metadata": {},
   "outputs": [],
   "source": [
    "#young , middle, old 은 각각 df 조회 결과임\n",
    "\n",
    "for group in [young, middle, old]:\n",
    "    print(group.name)\n",
    "    display(group['survived'].value_counts(normalize=True).rename({0:'Not Survived', 1:'Survived'}))\n",
    "    print('\\n')\n",
    "\n",
    "\"\"\"\n",
    "young\n",
    "Not Survived    0.518293\n",
    "Survived        0.481707\n",
    "Name: survived, dtype: float64\n",
    "\n",
    "middle\n",
    "Not Survived    0.610687\n",
    "Survived        0.389313\n",
    "Name: survived, dtype: float64\n",
    "\n",
    "old\n",
    "Not Survived    0.730769\n",
    "Survived        0.269231\n",
    "Name: survived, dtype: float64\n",
    "\"\"\""
   ]
  }
 ],
 "metadata": {
  "kernelspec": {
   "display_name": "Python 3.9.12 ('base')",
   "language": "python",
   "name": "python3"
  },
  "language_info": {
   "name": "python",
   "version": "3.9.12"
  },
  "orig_nbformat": 4,
  "vscode": {
   "interpreter": {
    "hash": "cca240df8b4cc966d527f5e5f91069ba19ec750ec1338ff7cbac995a358e55d1"
   }
  }
 },
 "nbformat": 4,
 "nbformat_minor": 2
}
