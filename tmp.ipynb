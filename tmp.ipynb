{
 "cells": [
  {
   "cell_type": "code",
   "execution_count": null,
   "metadata": {},
   "outputs": [],
   "source": [
    "# import lib_lamune as lmn\n"
   ]
  },
  {
   "cell_type": "code",
   "execution_count": 1,
   "metadata": {},
   "outputs": [],
   "source": [
    "fruits = ['Apples', 'Oranges', 'Bananas']\n",
    "quantities = [5, 3, 4]\n",
    "prices = [1.50, 2.25, 0.89]"
   ]
  },
  {
   "cell_type": "code",
   "execution_count": 3,
   "metadata": {},
   "outputs": [
    {
     "data": {
      "text/plain": [
       "[('Apples', 5, 1.5), ('Oranges', 3, 2.25), ('Bananas', 4, 0.89)]"
      ]
     },
     "execution_count": 3,
     "metadata": {},
     "output_type": "execute_result"
    }
   ],
   "source": [
    "output = []\n",
    "fruit_tu_0 = (fruits[0], quantities[0], prices[0])\n",
    "output.append(fruit_tu_0)\n",
    "fruit_tu_1 = (fruits[1], quantities[1], prices[1])\n",
    "output.append(fruit_tu_1)\n",
    "fruit_tu_2 = (fruits[2], quantities[2], prices[2])\n",
    "output.append(fruit_tu_2)\n",
    "\n",
    "output"
   ]
  },
  {
   "cell_type": "code",
   "execution_count": 5,
   "metadata": {},
   "outputs": [
    {
     "data": {
      "text/plain": [
       "[('Apples', 5, 1.5), ('Oranges', 3, 2.25), ('Bananas', 4, 0.89)]"
      ]
     },
     "execution_count": 5,
     "metadata": {},
     "output_type": "execute_result"
    }
   ],
   "source": [
    "i = 0\n",
    "output = []\n",
    "for fruit in fruits:\n",
    "    temp_qty = quantities[i]\n",
    "    temp_price = prices[i]\n",
    "    output.append((fruit, temp_qty, temp_price))\n",
    "    i += 1\n",
    "\n",
    "output"
   ]
  },
  {
   "cell_type": "code",
   "execution_count": 6,
   "metadata": {},
   "outputs": [
    {
     "data": {
      "text/plain": [
       "[('Apples', 5, 1.5),\n",
       " ('Apples', 5, 2.25),\n",
       " ('Apples', 5, 0.89),\n",
       " ('Apples', 3, 1.5),\n",
       " ('Apples', 3, 2.25),\n",
       " ('Apples', 3, 0.89),\n",
       " ('Apples', 4, 1.5),\n",
       " ('Apples', 4, 2.25),\n",
       " ('Apples', 4, 0.89),\n",
       " ('Oranges', 5, 1.5),\n",
       " ('Oranges', 5, 2.25),\n",
       " ('Oranges', 5, 0.89),\n",
       " ('Oranges', 3, 1.5),\n",
       " ('Oranges', 3, 2.25),\n",
       " ('Oranges', 3, 0.89),\n",
       " ('Oranges', 4, 1.5),\n",
       " ('Oranges', 4, 2.25),\n",
       " ('Oranges', 4, 0.89),\n",
       " ('Bananas', 5, 1.5),\n",
       " ('Bananas', 5, 2.25),\n",
       " ('Bananas', 5, 0.89),\n",
       " ('Bananas', 3, 1.5),\n",
       " ('Bananas', 3, 2.25),\n",
       " ('Bananas', 3, 0.89),\n",
       " ('Bananas', 4, 1.5),\n",
       " ('Bananas', 4, 2.25),\n",
       " ('Bananas', 4, 0.89)]"
      ]
     },
     "execution_count": 6,
     "metadata": {},
     "output_type": "execute_result"
    }
   ],
   "source": [
    "i = 0\n",
    "output = []\n",
    "for fruit in fruits:\n",
    "    for qty in quantities:\n",
    "        for price in prices:\n",
    "            output.append((fruit, qty, price))\n",
    "    i += 1\n",
    "output"
   ]
  },
  {
   "cell_type": "code",
   "execution_count": null,
   "metadata": {},
   "outputs": [],
   "source": []
  }
 ],
 "metadata": {
  "kernelspec": {
   "display_name": "Python 3.9.13",
   "language": "python",
   "name": "python3"
  },
  "language_info": {
   "codemirror_mode": {
    "name": "ipython",
    "version": 3
   },
   "file_extension": ".py",
   "mimetype": "text/x-python",
   "name": "python",
   "nbconvert_exporter": "python",
   "pygments_lexer": "ipython3",
   "version": "3.9.13"
  },
  "orig_nbformat": 4,
  "vscode": {
   "interpreter": {
    "hash": "daccdc2d4ce16dbb4a44c7fd17c322c261317600d3c472af0befa501c7f0945a"
   }
  }
 },
 "nbformat": 4,
 "nbformat_minor": 2
}
