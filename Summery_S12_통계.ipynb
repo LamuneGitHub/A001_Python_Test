{
 "cells": [
  {
   "cell_type": "markdown",
   "metadata": {},
   "source": [
    "# 베이지안"
   ]
  },
  {
   "cell_type": "code",
   "execution_count": null,
   "metadata": {},
   "outputs": [],
   "source": [
    "# 사전확률\n",
    "A = 1/2\n",
    "not_A = 1/2\n",
    "\n",
    "strawberry_for_A = 7/10\n",
    "strawberry_for_B = 5/10\n",
    "\n",
    "# 사후확률\n",
    "posterior = (strawberry_for_A * A) / ((strawberry_for_A * A) + (strawberry_for_B * not_A))\n",
    "\n",
    "A, round(posterior, 2)"
   ]
  },
  {
   "cell_type": "markdown",
   "metadata": {},
   "source": [
    "# 부트스트래핑"
   ]
  },
  {
   "cell_type": "code",
   "execution_count": null,
   "metadata": {},
   "outputs": [],
   "source": [
    "# 200 samples bootstrapping\n",
    "sample_200 = []\n",
    "\n",
    "for _ in range(10000):\n",
    "  sample200 = np.random.choice(final['Income'], 200, replace=True)\n",
    "  sample_200.append(sample200.mean())"
   ]
  }
 ],
 "metadata": {
  "kernelspec": {
   "display_name": "Python 3.9.12 ('base')",
   "language": "python",
   "name": "python3"
  },
  "language_info": {
   "name": "python",
   "version": "3.9.12"
  },
  "orig_nbformat": 4,
  "vscode": {
   "interpreter": {
    "hash": "cca240df8b4cc966d527f5e5f91069ba19ec750ec1338ff7cbac995a358e55d1"
   }
  }
 },
 "nbformat": 4,
 "nbformat_minor": 2
}
