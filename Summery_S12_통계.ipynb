{
 "cells": [
  {
   "cell_type": "code",
   "execution_count": null,
   "metadata": {},
   "outputs": [],
   "source": [
    "import re\n",
    "import math\n",
    "import pandas as pd\n",
    "import numpy as np\n",
    "\n",
    "from scipy.stats import ttest_1samp, ttest_ind\n"
   ]
  },
  {
   "cell_type": "markdown",
   "metadata": {},
   "source": [
    "# 베이지안"
   ]
  },
  {
   "cell_type": "code",
   "execution_count": null,
   "metadata": {},
   "outputs": [],
   "source": []
  },
  {
   "cell_type": "code",
   "execution_count": null,
   "metadata": {},
   "outputs": [],
   "source": [
    "# 사전확률\n",
    "A = 1/2\n",
    "not_A = 1/2\n",
    "\n",
    "strawberry_for_A = 7/10\n",
    "strawberry_for_B = 5/10\n",
    "\n",
    "# 사후확률\n",
    "posterior = (strawberry_for_A * A) / ((strawberry_for_A * A) + (strawberry_for_B * not_A))\n",
    "\n",
    "A, round(posterior, 2)"
   ]
  },
  {
   "cell_type": "markdown",
   "metadata": {},
   "source": [
    "# 부트스트래핑"
   ]
  },
  {
   "cell_type": "code",
   "execution_count": null,
   "metadata": {},
   "outputs": [],
   "source": [
    "# 200 samples bootstrapping\n",
    "sample_200 = []\n",
    "\n",
    "for _ in range(10000):\n",
    "  sample200 = np.random.choice(final['Income'], 200, replace=True)\n",
    "  sample_200.append(sample200.mean())"
   ]
  },
  {
   "cell_type": "markdown",
   "metadata": {},
   "source": [
    "# 신뢰구간 95% "
   ]
  },
  {
   "cell_type": "markdown",
   "metadata": {},
   "source": [
    "\n",
    "\n",
    "lower, upper = np.percentile(sample_200, 2.5), np.percentile(sample_200, 97.5)\n",
    "\n",
    "round(lower, 2), round(upper, 2)"
   ]
  },
  {
   "cell_type": "markdown",
   "metadata": {},
   "source": [
    "# T 검정\n",
    "\n",
    "    T-test : 두 집단의 평균 차이 검증\n",
    "        원리상 표본이 충분이 크면 대부분 유의미로 나온다.\n",
    "\n",
    "> 고객의 자녀가 청소년인 경우의 연간 수입 평균값이 그렇지 않은 경우보다 더 많은지 가설 검증을 시행하고자 합니다.\n",
    " \n",
    "- 자녀가 청소년인 경우 고객의 연간 수입 평균값: $μ_{yes}$\n",
    "- 자녀가 청소년이 아닌 경우 고객의 연간 수입 평균값: $μ_{no}$ "
   ]
  },
  {
   "cell_type": "markdown",
   "metadata": {},
   "source": [
    "#### One-Sample T-test (단측검정)"
   ]
  },
  {
   "cell_type": "code",
   "execution_count": null,
   "metadata": {},
   "outputs": [],
   "source": [
    "# 가설 검정 T-test case 01\n",
    "#  one-tailed test (단측검정)\n",
    "#\n",
    "# 부트 스트래핑 과정이 포함 되어 있음\n",
    "# \n",
    "\n",
    "sample # 셈플 값이 들어 있는 배열\n",
    "pop_mean # 비교 하고자 하는 값  ex) 키 172.5\n",
    "\n",
    "pv1 = ttest_1samp( sample , pop_mean ).pvalue\n",
    "if pv1 >= 0.05:\n",
    "    print(f\"P-value = {pv1.round(3)} >= 0.05 이므로\")\n",
    "    print(\"귀무가설을 채택\")\n",
    "else:\n",
    "    print(f\"P-value = {pv1.round(3)} < 0.05 이므로\")\n",
    "    print(\"귀무가설을 기각\")"
   ]
  },
  {
   "cell_type": "code",
   "execution_count": null,
   "metadata": {},
   "outputs": [],
   "source": [
    "# 가설 검정 T-test case 02\n",
    "#  one-tailed test (단측검정)\n",
    "#\n",
    "\n",
    "# seed는 2로 지정합니다.\n",
    "np.random.seed(2)\n",
    "\n",
    "H0 : h_yes - h_no =< 0\n",
    "Ha : h_yes - h_no > 0\n",
    "\n",
    "# Teenhome 값에 따른 분류\n",
    "pop_yes_means, pop_no_means, pop_diff_means = [], [], []\n",
    "\n",
    "# Bootstrapping\n",
    "# 셈플에서 셈프의 수만큼 중복 추출하여\n",
    "# 그중 h0 조건의 평균 값과 , ha 조건의 평균값, 두 평균값의 차이값 을 \n",
    "# 충분히 모으면 이는 정규분포를 따른다.  ( ex에서는 1만번)  \n",
    "for _ in range(10000):\n",
    "  sample = final_sample.sample(final_sample.shape[0], replace=True)\n",
    "\n",
    "  yes_mean = sample.loc[sample['Teenhome'] == True, 'Income'].mean()\n",
    "  pop_yes_means.append(yes_mean)\n",
    "\n",
    "  no_mean = sample.loc[sample['Teenhome'] == False, 'Income'].mean()\n",
    "  pop_no_means.append(no_mean)\n",
    "\n",
    "  pop_diff_means.append(yes_mean - no_mean)\n",
    "\n",
    "\n",
    "\n",
    "np.random.seed(2)\n",
    "\n",
    "# 귀무분포 구하기\n",
    "# 귀무가설이 맞다고 가정한 경우의 분포 구하기\n",
    "#   모수에 대한 귀무분포를 구한다.\n",
    "#\n",
    "#   ex) 우리가 얻은 데이터에 있는 두 표본 집단이 같은 모집단에서부터 나온거라고 치자.\n",
    "#         그랬을 때, 우리가 이런 검정 통계량(가령, t-value)을 얻었는데 이게 얼마나 말이되는거냐?\"\n",
    "#\n",
    "#\n",
    "# 중심(평균값)이 0 이고 동일한 표준편차를 가지는 정규분포를 이용하여 검증한다.\n",
    "pop_diff_std = np.std(pop_diff_means) # 모수의 표준편차\n",
    "null_vals = np.random.normal(0, pop_diff_std, 10000) # 중심값이 0인 귀무분포\n",
    "\n",
    "# 판단 기준이 되는 귀무가설 값 구하기\n",
    "#  이경우 셈플에서 차이값의 평균 이며 , 특정 비교 값이 정해져 있는 경우에는 그 값으로 비교 하게 될 것이다. \n",
    "sample_diff_mean = final_sample.loc[final['Teenhome'] == True, 'Income'].mean() - final_sample.loc[final['Teenhome'] == False, 'Income'].mean()\n",
    "귀무가설값 = sample_diff_mean\n",
    "\n",
    "# pvalue 계산\n",
    "\"\"\"\n",
    "  모집단의 분포에서 95% 신뢰구간을 확인한 뒤, \n",
    "  우리의 귀무가설이 이 표본 분포 어디에 해당하는지 확인하여 \n",
    "  귀무가설을 채택할지 기각할지를 결정한다. \n",
    "\"\"\"\n",
    "pvalue = (null_vals > 귀무가설값).mean()\n",
    "\n",
    "\"\"\"\n",
    "pvalue = \n",
    "        1. 귀무가설이 맞다는 전제 하에, 통계값이 실제로 관측된 값 (샘플의 통계치) 이상일 확률을 의미합니다\n",
    "        2. 우리가 얻은 검정 통계량보다 크거나 같은 값을 얻을 수 있을 확률\n",
    "pvalue 가 0.05 보다 크면 귀무가설 채택 \n",
    "pvalue 가 0.05 보다 작으면 대립가설 채택\n",
    "\"\"\"\n",
    "\n",
    "\n",
    "# 시각화\n",
    "plt.hist(null_vals, alpha=0.5, label='null hypothesis')\n",
    "plt.axvline(sample_diff_mean, color='r', label='statistics')\n",
    "plt.legend(loc=9, fontsize=13)\n",
    "\n",
    "\n"
   ]
  },
  {
   "cell_type": "code",
   "execution_count": null,
   "metadata": {},
   "outputs": [],
   "source": []
  },
  {
   "cell_type": "markdown",
   "metadata": {},
   "source": [
    "#### 양측검정"
   ]
  },
  {
   "cell_type": "code",
   "execution_count": null,
   "metadata": {},
   "outputs": [],
   "source": [
    "# T test 프로세스 함수 정의  case 01\n",
    "# 양측 검정 \n",
    "\n",
    "from scipy import stats\n",
    "\n",
    "# 독립집합인 a ,b 에 대한 T-test 수행 결과를 print 하고 P-value를 반환\n",
    "# 에러시 np.nan 반환\n",
    "'''\n",
    "  a : sample 그룹 ( 부트스트래핑이 안되어 있는)\n",
    "  b : sample 그룹 ( 부트스트래핑이 안되어 있는)\n",
    "\n",
    "  prm_alternative : \n",
    "    'less' : 대안가설이 = 왼쪽의 평균이  오른쪽 보다 작다 인 경우\n",
    "    'greater' \n",
    "    'two-sided' : 대안가설이 = 왼쪽 오른쪽의 평균이 다르다 인 경우  \n",
    "'''\n",
    "def t_test ( a, b , prm_alternative ) :\n",
    "  ret_value = np.nan\n",
    "\n",
    "\n",
    "  # 정규성 검사 \n",
    "  # : T-검정은 데이터의 정규본포를 가정으로 하는 검증법이다.\n",
    "  # a0_pvalue 와 a1_pvalue 모두 > 0.05 보다 큰지 여부 확인 하여 \n",
    "  # 둘 다 정규성을 만족하지 않는 경우 진행 중단.\n",
    "  # shapiro test p>0.05이면 정규성이 보장된다. \n",
    "  sha_a0, a0_pvalue = stats.shapiro(a)\n",
    "  sha_a1, a1_pvalue = stats.shapiro(b)\n",
    "  if ( (a0_pvalue <= 0.05) | (a1_pvalue <= 0.05) ) :\n",
    "    print (f\"(todo) 에러 발생. {a0_pvalue} , {a1_pvalue} \")\n",
    "    return ret_value\n",
    "\n",
    "\n",
    " \n",
    "  # 분산의 동질성 검정\n",
    "  # scipy.ttest_ind ( ) 를 사용하기 위해서는 분산 동질성 여부를 알고 있어야 한다.\n",
    "  flg_분산동질여부 = False\n",
    "  l, p = stats.levene(a,b)\n",
    "  if p > 0.05 : # 0.05보다 큰 경우 분산은 동질성을 가지고 있다고 할 수 있음\n",
    "    flg_분산동질여부 = True\n",
    "\n",
    "\n",
    "  # T 검정 수행\n",
    "  # alternative='less' : 대안가설이 = 왼쪽의 평균이  오른쪽 보다 작다 인 경우\n",
    "  # greater\n",
    "  # alternative='two-sided' : 대안가설이 = 왼쪽 오른쪽의 평균이 다르다 인 경우  \n",
    "  #\n",
    "  # 내부에 부트스트래핑 과정이 포함되어 있음\n",
    "  t, p = stats.ttest_ind(a, b , equal_var= flg_분산동질여부 , alternative=prm_alternative )\n",
    "\n",
    "\n",
    "  # 결과출력\n",
    "  # p < 0.05 인 귀무가설 기각\n",
    "  rslt_맞는가설 = '귀무가설'\n",
    "  if ( p < 0.05 ) :\n",
    "      rslt_맞는가설 = '대립가설'\n",
    "  print ( f\"{rslt_맞는가설}이 맞음 p= {p}\" )\n",
    "\n",
    "  ret_value = p \n",
    "  \n",
    "  return ret_value\n",
    "\n",
    "\n",
    "\n",
    "# 가설 검정 함수 호출 \n",
    "np.random.seed(2)\n",
    "\n",
    "pvalue = t_test ( lst_sample_a , lst_sample_b , \"two-sided\" )\n",
    "pvalue"
   ]
  },
  {
   "cell_type": "markdown",
   "metadata": {},
   "source": [
    "\n",
    "#### **$\\chi^2$ 가설 검정*\n",
    ": 분포의 동일성 검증,  \n",
    "변수의 연관성 검증 시 사용\n",
    "\n",
    "- one sample $\\chi^2$ - test (적합도 검정)\n",
    "  > **주어진 하나의 범주형 변수의 분포가 특정 예상되는 분포와 동일한 분포를 나타내는지** 에 대한 가설 검정 방법\n",
    "\n",
    "  - 귀무가설($H_0$): 주어진 변수 X의 관측분포와 특정 예상 분포가 동일하다.\n",
    "  - 대립가설($H_a$): 주어진 변수 X의 관측분포와 특정 예상 분포가 다르다.  \n",
    "  \n",
    "  \n",
    "- two sample $\\chi^2$ - test (독립성 검정)\n",
    "  > **두 개의 범주형 변수가 서로 연관되어 있는지 여부**에 대한 가설 검정 방법\n",
    "\n",
    "  - 귀무가설($H_0$): 변수 X와 Y는 서로 독립이다. (연관 없음)\n",
    "  - 대립가설($H_a$): 변수 X와 Y는 서로 독립이 아니다. (연관 있음)"
   ]
  },
  {
   "cell_type": "markdown",
   "metadata": {},
   "source": []
  },
  {
   "cell_type": "markdown",
   "metadata": {},
   "source": []
  },
  {
   "cell_type": "code",
   "execution_count": null,
   "metadata": {},
   "outputs": [],
   "source": [
    "#### Two sample 테스트 "
   ]
  }
 ],
 "metadata": {
  "kernelspec": {
   "display_name": "Python 3.9.12 ('base')",
   "language": "python",
   "name": "python3"
  },
  "language_info": {
   "name": "python",
   "version": "3.9.12"
  },
  "orig_nbformat": 4,
  "vscode": {
   "interpreter": {
    "hash": "cca240df8b4cc966d527f5e5f91069ba19ec750ec1338ff7cbac995a358e55d1"
   }
  }
 },
 "nbformat": 4,
 "nbformat_minor": 2
}
